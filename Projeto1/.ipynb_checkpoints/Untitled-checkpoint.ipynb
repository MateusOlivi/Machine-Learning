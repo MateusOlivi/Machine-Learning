{
 "cells": [
  {
   "cell_type": "code",
   "execution_count": 44,
   "id": "883f38c7",
   "metadata": {},
   "outputs": [],
   "source": [
    "import pandas as pd\n",
    "from math import floor, ceil\n",
    "def Dados(caminho, dataset = 'training', norm = True):\n",
    "    X = pd.read_csv(caminho, sep = ' ', header = None)\n",
    "    if(norm):\n",
    "        X = (X-X.min())/(X.max()-X.min()) # Min-Max\n",
    "        \n",
    "    training = []\n",
    "    test = []\n",
    "    Total = len(X)\n",
    "    for i in range(5):\n",
    "        training.append(X.head(floor(Total*0.18)))\n",
    "        X = X.iloc[floor(Total*0.18):]\n",
    "        test.append(X.head(ceil(Total*0.02)))\n",
    "        X = X.iloc[ceil(Total*0.02):]\n",
    "    \n",
    "    training = pd.concat(training)\n",
    "    test = pd.concat(test)\n",
    "    return training, test"
   ]
  },
  {
   "cell_type": "code",
   "execution_count": 45,
   "id": "f612692e",
   "metadata": {},
   "outputs": [],
   "source": [
    "training, test = Dados('cluster.dat', dataset = 'test', norm = False)"
   ]
  },
  {
   "cell_type": "code",
   "execution_count": 48,
   "id": "e9e34e99",
   "metadata": {},
   "outputs": [
    {
     "data": {
      "text/plain": [
       "515"
      ]
     },
     "execution_count": 48,
     "metadata": {},
     "output_type": "execute_result"
    }
   ],
   "source": [
    "len(training)"
   ]
  },
  {
   "cell_type": "markdown",
   "id": "087f6506",
   "metadata": {},
   "source": [
    "<p style=\"text-align: justify;\">\n",
    "&emsp; Agora irei usar um novo dataset, o Boston Housing Dataset, este conjunto de dados contém informações coletadas pelo Serviço de Censo dos Estados Unidos sobre habitações em áreas de Boston.<br>\n",
    "&emsp; Existem 14 atributos em cada caso do conjunto de dados. Eles são:<br>\n",
    "&emsp;&emsp;CRIM: taxa de criminalidade per capita por cidade.<br>\n",
    "&emsp;&emsp;ZN: proporção de terrenos residenciais zoneados para lotes com mais de 25.000 pés quadrados.<br>\n",
    "&emsp;&emsp;INDUS: proporção de acres de negócios não varejistas por cidade.<br>\n",
    "&emsp;&emsp;CHAS: variável dummy de Charles River (1 se a área limita o rio; 0 caso contrário).<br>\n",
    "&emsp;&emsp;NOX: concentração de óxidos nítricos (partes por 10 milhões).<br>\n",
    "&emsp;&emsp;RM: número médio de cômodos por habitação.<br>\n",
    "&emsp;&emsp;IDADE: proporção de unidades ocupadas pelo proprietário construídas antes de 1940.<br>\n",
    "&emsp;&emsp;DIS: distâncias ponderadas até cinco centros de empregos de Boston.<br>\n",
    "&emsp;&emsp;RAD: índice de acessibilidade a rodovias radiais.<br>\n",
    "&emsp;&emsp;TAX: valor total da taxa de imposto sobre a propriedade por USD 10.000.<br>\n",
    "&emsp;&emsp;PTRATIO - proporo aluno-professor por cidade.<br>\n",
    "&emsp;&emsp;B - 1000*(Bk - 0,63) ^ 2 onde Bk é a proporção de negros por cidade.<br>\n",
    "&emsp;&emsp;LSTAT - status mais baixo da população (percentual).<br>\n",
    "&emsp;&emsp;MEDV - Valor médio de casas ocupadas pelo proprietário em USD 1.000<br>\n",
    "&emsp; Este dataset possui 506 linhas e 14 features\n",
    "</p>"
   ]
  },
  {
   "cell_type": "code",
   "execution_count": null,
   "id": "2b9085a1",
   "metadata": {},
   "outputs": [],
   "source": []
  }
 ],
 "metadata": {
  "kernelspec": {
   "display_name": "Python 3",
   "language": "python",
   "name": "python3"
  },
  "language_info": {
   "codemirror_mode": {
    "name": "ipython",
    "version": 3
   },
   "file_extension": ".py",
   "mimetype": "text/x-python",
   "name": "python",
   "nbconvert_exporter": "python",
   "pygments_lexer": "ipython3",
   "version": "3.6.9"
  }
 },
 "nbformat": 4,
 "nbformat_minor": 5
}
