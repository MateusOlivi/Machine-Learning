{
 "cells": [
  {
   "cell_type": "code",
   "execution_count": 3,
   "id": "dc5c551f",
   "metadata": {},
   "outputs": [
    {
     "data": {
      "text/plain": [
       "array([[0.  , 2.24, 2.83, 5.  , 5.83, 7.81, 7.62],\n",
       "       [0.  , 0.  , 3.  , 4.47, 5.  , 7.21, 6.4 ],\n",
       "       [0.  , 0.  , 0.  , 2.24, 3.16, 5.  , 5.1 ],\n",
       "       [0.  , 0.  , 0.  , 0.  , 1.  , 2.83, 3.  ],\n",
       "       [0.  , 0.  , 0.  , 0.  , 0.  , 2.24, 2.  ],\n",
       "       [0.  , 0.  , 0.  , 0.  , 0.  , 0.  , 2.24],\n",
       "       [0.  , 0.  , 0.  , 0.  , 0.  , 0.  , 0.  ]])"
      ]
     },
     "execution_count": 3,
     "metadata": {},
     "output_type": "execute_result"
    }
   ],
   "source": [
    "from scipy.spatial import distance_matrix\n",
    "import numpy as np\n",
    "import pandas as pd\n",
    "\n",
    "A = [[2,3],[4,2],[4,5],[6,6],[7,6],[8,8],[9,6]]\n",
    "B = np.triu(distance_matrix(A,A))\n",
    "B = np.around(B,2)\n",
    "B"
   ]
  },
  {
   "cell_type": "code",
   "execution_count": null,
   "id": "f9fa61cd",
   "metadata": {},
   "outputs": [],
   "source": [
    "np.where(B == np.min(B[np.nonzero(B)]))"
   ]
  },
  {
   "cell_type": "code",
   "execution_count": null,
   "id": "2a7ac175",
   "metadata": {},
   "outputs": [],
   "source": [
    "B[3][4] = 0"
   ]
  },
  {
   "cell_type": "code",
   "execution_count": null,
   "id": "a0ac86d2",
   "metadata": {},
   "outputs": [],
   "source": [
    "B"
   ]
  },
  {
   "cell_type": "code",
   "execution_count": null,
   "id": "e8bd7cda",
   "metadata": {},
   "outputs": [],
   "source": [
    "import copy as cp\n",
    "\n",
    "def achaCluster(ponto,clusters):\n",
    "    for key in clusters:\n",
    "        for pos in range(len(clusters[key])):\n",
    "            if(clusters[key][pos] == ponto):\n",
    "                return key\n",
    "    return False\n",
    "\n",
    "def mergeClusters(clus, indice1, indice2):\n",
    "    clusters = cp.deepcopy(clus)\n",
    "    for i in range(len(clusters[indice2])):\n",
    "        clusters[indice1].append(clusters[indice2][i])\n",
    "    clusters.pop(indice2)\n",
    "    return clusters"
   ]
  },
  {
   "cell_type": "code",
   "execution_count": null,
   "id": "c9026e95",
   "metadata": {},
   "outputs": [],
   "source": [
    "from scipy.spatial import distance_matrix\n",
    "import numpy as np\n",
    "\n",
    "X = pd.read_csv('cluster.dat', sep = ' ', header = None)\n",
    "X = (X-X.min())/(X.max()-X.min()) #Normalizando os dados de entrada\n",
    "X = X.values \n",
    "\n",
    "A = X.tolist()\n",
    "B = np.triu(distance_matrix(A,A))\n",
    "\n",
    "clusters = {}\n",
    "tamanho = 0\n",
    "i = 0\n",
    "while(len(clusters) != 3 or tamanho != len(A)):\n",
    "    Indice_min = np.where(B == np.min(B[np.nonzero(B)]))\n",
    "    PontoA = Indice_min[0][0]\n",
    "    PontoB = Indice_min[1][0]\n",
    "    \n",
    "    ClusterA = achaCluster(A[PontoA], clusters)\n",
    "    ClusterB = achaCluster(A[PontoB], clusters)\n",
    "    \n",
    "    if(not ClusterA and not ClusterB):\n",
    "        clusters[len(clusters)] = [A[PontoA],A[PontoB]]\n",
    "    elif(not ClusterA):\n",
    "        if(A[PontoA] not in clusters[ClusterB]):\n",
    "            clusters[ClusterB].append(A[PontoA])\n",
    "    elif(not ClusterB):\n",
    "        if(A[PontoB] not in clusters[ClusterA]):\n",
    "            clusters[ClusterA].append(A[PontoB])\n",
    "    else:\n",
    "        if(ClusterA != ClusterB):\n",
    "            mergeClusters(clusters, ClusterA, ClusterB)\n",
    "        \n",
    "    B[PontoA][PontoB] = 0\n",
    "    tamanho = sum(len(cluster) for cluster in clusters.values())\n",
    "    print(tamanho)\n",
    "print(clusters)"
   ]
  },
  {
   "cell_type": "code",
   "execution_count": null,
   "id": "71a89584",
   "metadata": {},
   "outputs": [],
   "source": [
    "import matplotlib.pyplot as plt\n",
    "%matplotlib inline\n",
    "tamanho = sum(len(cluster) for cluster in clusters.values())\n",
    "print(tamanho)\n",
    "def kmeansplot(clusters):\n",
    "    cores = ['r','b','g','c','m','y']\n",
    "    i = 0\n",
    "    for key in clusters:\n",
    "        cluster = np.array(clusters[key])\n",
    "        plt.scatter(cluster[:,0] , cluster[:,1], s=75, color=cores[i],  edgecolor='k',label='cluster 1')\n",
    "        i+= 1\n",
    "    plt.legend(scatterpoints=1)\n",
    "    plt.show()\n",
    "kmeansplot(clusters)\n",
    "print(len(clusters))"
   ]
  },
  {
   "cell_type": "code",
   "execution_count": null,
   "id": "319cb6f9",
   "metadata": {},
   "outputs": [],
   "source": [
    "clusters = {1:[1,2,3], 2:[4,5,6], 3:[7,8,9]}\n",
    "tamanho = sum(len(cluster) for cluster in clusters.values())\n",
    "print(tamanho)\n",
    "mergeClusters(clusters, 2, 3)\n",
    "tamanho = sum(len(cluster) for cluster in clusters.values())\n",
    "print(tamanho)\n",
    "len(B[0])"
   ]
  },
  {
   "cell_type": "code",
   "execution_count": null,
   "id": "6fcad9d6",
   "metadata": {},
   "outputs": [],
   "source": [
    "a = achaCluster([1,1],test)\n",
    "print(a)"
   ]
  },
  {
   "cell_type": "code",
   "execution_count": 4,
   "id": "bd7d5128",
   "metadata": {},
   "outputs": [],
   "source": [
    "import copy as cp\n",
    "\n",
    "def achaCluster(ponto,clusters):\n",
    "    for key in clusters:\n",
    "        for pos in range(len(clusters[key])):\n",
    "            if(clusters[key][pos] == ponto):\n",
    "                return key\n",
    "    return -1\n",
    "\n",
    "def mergeClusters(clus, indice1, indice2):\n",
    "    clusters = cp.deepcopy(clus)\n",
    "    for i in range(len(clusters[indice2])):\n",
    "        clusters[indice1].append(clusters[indice2][i])\n",
    "    clusters.pop(indice2)\n",
    "    return clusters\n",
    "\n",
    "def newCluster(clusters, PontoA, PontoB):\n",
    "    i = len(clusters)\n",
    "    keys = clusters.keys()\n",
    "    while(True):\n",
    "        if(i not in keys):\n",
    "            clusters[i] = [PontoA,PontoB]\n",
    "            break\n",
    "        i += 1\n",
    "    return clusters"
   ]
  },
  {
   "cell_type": "code",
   "execution_count": null,
   "id": "aa7054a9",
   "metadata": {},
   "outputs": [],
   "source": [
    "from scipy.spatial import distance_matrix\n",
    "import numpy as np\n",
    "\n",
    "X = pd.read_csv('cluster.dat', sep = ' ', header = None)\n",
    "X = (X-X.min())/(X.max()-X.min()) #Normalizando os dados de entrada\n",
    "X = X.values \n",
    "\n",
    "A = X.tolist()\n",
    "B = np.triu(distance_matrix(A,A))\n",
    "\n",
    "clusters = {}\n",
    "tamanho = 0\n",
    "i = 0\n",
    "while(len(clusters) != 3 or tamanho != len(A)):\n",
    "    Indice_min = np.where(B == np.min(B[np.nonzero(B)]))\n",
    "    PontoA = Indice_min[0][0]\n",
    "    PontoB = Indice_min[1][0]\n",
    "    \n",
    "    keyA = achaCluster(PontoA, clusters)\n",
    "    keyB = achaCluster(PontoB, clusters)\n",
    "    if(keyA == -1 and keyB == -1):\n",
    "        clusters = newCluster(clusters, PontoA, PontoB)\n",
    "    elif(keyA == -1):\n",
    "        if(PontoA not in clusters[keyB]):\n",
    "            clusters[keyB].append(PontoA)\n",
    "    elif(keyB == -1):\n",
    "        if(PontoB not in clusters[keyA]):\n",
    "            clusters[keyA].append(PontoB)\n",
    "    else:\n",
    "        if(keyA != keyB):\n",
    "            clusters = mergeClusters(clusters, keyA, keyB)\n",
    "        \n",
    "    B[PontoA][PontoB] = 0\n",
    "    tamanho = sum(len(cluster) for cluster in clusters.values())\n",
    "    print(len(clusters),tamanho)\n",
    "print(clusters)"
   ]
  },
  {
   "cell_type": "code",
   "execution_count": 8,
   "id": "8dfb0b38",
   "metadata": {},
   "outputs": [],
   "source": [
    "resultado = {}\n",
    "for key in clusters:\n",
    "    resultado[key] = []\n",
    "    for i in range(len(clusters[key])):\n",
    "        resultado[key].append(A[clusters[key][i]])"
   ]
  },
  {
   "cell_type": "code",
   "execution_count": 9,
   "id": "4ab573c0",
   "metadata": {},
   "outputs": [
    {
     "data": {
      "image/png": "[encoded data removed]",
      "text/plain": [
       "<Figure size 432x288 with 1 Axes>"
      ]
     },
     "metadata": {
      "needs_background": "light"
     },
     "output_type": "display_data"
    }
   ],
   "source": [
    "import matplotlib.pyplot as plt\n",
    "%matplotlib inline\n",
    "tamanho = sum(len(cluster) for cluster in clusters.values())\n",
    "\n",
    "def kmeansplot(clusters):\n",
    "    cores = ['r','b','g','c','m','y']\n",
    "    i = 0\n",
    "    for key in clusters:\n",
    "        cluster = np.array(clusters[key])\n",
    "        plt.scatter(cluster[:,0] , cluster[:,1], s=75, color=cores[i],  edgecolor='k',label='cluster 1')\n",
    "        i+= 1\n",
    "    plt.legend(scatterpoints=1)\n",
    "    plt.show()\n",
    "\n",
    "kmeansplot(resultado)"
   ]
  },
  {
   "cell_type": "code",
   "execution_count": null,
   "id": "9b79719c",
   "metadata": {},
   "outputs": [],
   "source": []
  }
 ],
 "metadata": {
  "kernelspec": {
   "display_name": "Python 3",
   "language": "python",
   "name": "python3"
  },
  "language_info": {
   "codemirror_mode": {
    "name": "ipython",
    "version": 3
   },
   "file_extension": ".py",
   "mimetype": "text/x-python",
   "name": "python",
   "nbconvert_exporter": "python",
   "pygments_lexer": "ipython3",
   "version": "3.6.9"
  }
 },
 "nbformat": 4,
 "nbformat_minor": 5
}
