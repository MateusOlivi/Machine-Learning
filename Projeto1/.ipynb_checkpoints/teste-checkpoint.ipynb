{
 "cells": [
  {
   "cell_type": "code",
   "execution_count": 3,
   "id": "1ed5995f",
   "metadata": {},
   "outputs": [],
   "source": [
    "import pandas as pd\n",
    "import numpy as np\n",
    "import random as rd\n",
    "import matplotlib.pyplot as plt\n",
    "import copy"
   ]
  },
  {
   "cell_type": "code",
   "execution_count": 10,
   "id": "369a9839",
   "metadata": {},
   "outputs": [],
   "source": [
    "data = pd.read_csv('cluster.dat', sep = ' ', header = None)\n",
    "\n",
    "k = 2\n",
    "n = data.shape[1]\n",
    "\n",
    "centroides = np.random.randn(k,n)\n",
    "anterior = np.zeros(centroides.shape)"
   ]
  },
  {
   "cell_type": "code",
   "execution_count": null,
   "id": "346392d4",
   "metadata": {},
   "outputs": [],
   "source": [
    "erro  = np.linalg.norm(centroides - anterior)\n",
    "\n",
    "while erro != 0:\n",
    "    # Measure the distance to every center\n",
    "    for i in range(k):\n",
    "        distances[:,i] = np.linalg.norm(data - centers[i], axis=1)\n",
    "    # Assign all training data to closest center\n",
    "    clusters = np.argmin(distances, axis = 1)\n",
    "    \n",
    "    centers_old = copy.deepcopy(centers_new)\n",
    "    # Calculate mean for every cluster and update the center\n",
    "    for i in range(k):\n",
    "        centers_new[i] = np.mean(data[clusters == i], axis=0)\n",
    "    error = np.linalg.norm(centers_new - centers_old)\n",
    "    i+= 1\n",
    "\n",
    "print(centers_new)    "
   ]
  },
  {
   "cell_type": "code",
   "execution_count": null,
   "id": "acb7777f",
   "metadata": {},
   "outputs": [],
   "source": []
  }
 ],
 "metadata": {
  "kernelspec": {
   "display_name": "Python 3",
   "language": "python",
   "name": "python3"
  },
  "language_info": {
   "codemirror_mode": {
    "name": "ipython",
    "version": 3
   },
   "file_extension": ".py",
   "mimetype": "text/x-python",
   "name": "python",
   "nbconvert_exporter": "python",
   "pygments_lexer": "ipython3",
   "version": "3.6.9"
  }
 },
 "nbformat": 4,
 "nbformat_minor": 5
}
