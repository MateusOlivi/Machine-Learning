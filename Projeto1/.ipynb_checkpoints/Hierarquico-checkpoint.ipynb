{
 "cells": [
  {
   "cell_type": "code",
   "execution_count": 15,
   "id": "f83138e5",
   "metadata": {},
   "outputs": [
    {
     "data": {
      "text/plain": [
       "array([[0.  , 2.24, 2.83, 5.  , 5.83, 7.81, 7.62],\n",
       "       [0.  , 0.  , 3.  , 4.47, 5.  , 7.21, 6.4 ],\n",
       "       [0.  , 0.  , 0.  , 2.24, 3.16, 5.  , 5.1 ],\n",
       "       [0.  , 0.  , 0.  , 0.  , 1.  , 2.83, 3.  ],\n",
       "       [0.  , 0.  , 0.  , 0.  , 0.  , 2.24, 2.  ],\n",
       "       [0.  , 0.  , 0.  , 0.  , 0.  , 0.  , 2.24],\n",
       "       [0.  , 0.  , 0.  , 0.  , 0.  , 0.  , 0.  ]])"
      ]
     },
     "execution_count": 15,
     "metadata": {},
     "output_type": "execute_result"
    }
   ],
   "source": [
    "from scipy.spatial import distance_matrix\n",
    "import numpy as np\n",
    "A = [[2,3],[4,2],[4,5],[6,6],[7,6],[8,8],[9,6]]\n",
    "B = np.triu(distance_matrix(A,A))\n",
    "B = np.around(B,2)\n",
    "B"
   ]
  },
  {
   "cell_type": "code",
   "execution_count": 22,
   "id": "ba801300",
   "metadata": {},
   "outputs": [
    {
     "data": {
      "text/plain": [
       "(array([3]), array([4]))"
      ]
     },
     "execution_count": 22,
     "metadata": {},
     "output_type": "execute_result"
    }
   ],
   "source": [
    "np.where(B == np.min(B[np.nonzero(B)]))"
   ]
  },
  {
   "cell_type": "code",
   "execution_count": 23,
   "id": "10ee97d7",
   "metadata": {},
   "outputs": [],
   "source": [
    "B[3][4] = 0"
   ]
  },
  {
   "cell_type": "code",
   "execution_count": 24,
   "id": "0e5e7d9b",
   "metadata": {},
   "outputs": [
    {
     "data": {
      "text/plain": [
       "array([[0.  , 2.24, 2.83, 5.  , 5.83, 7.81, 7.62],\n",
       "       [0.  , 0.  , 3.  , 4.47, 5.  , 7.21, 6.4 ],\n",
       "       [0.  , 0.  , 0.  , 2.24, 3.16, 5.  , 5.1 ],\n",
       "       [0.  , 0.  , 0.  , 0.  , 0.  , 2.83, 3.  ],\n",
       "       [0.  , 0.  , 0.  , 0.  , 0.  , 2.24, 2.  ],\n",
       "       [0.  , 0.  , 0.  , 0.  , 0.  , 0.  , 2.24],\n",
       "       [0.  , 0.  , 0.  , 0.  , 0.  , 0.  , 0.  ]])"
      ]
     },
     "execution_count": 24,
     "metadata": {},
     "output_type": "execute_result"
    }
   ],
   "source": [
    "B"
   ]
  },
  {
   "cell_type": "code",
   "execution_count": null,
   "id": "5babb81c",
   "metadata": {},
   "outputs": [],
   "source": [
    "from scipy.spatial import distance_matrix\n",
    "import numpy as np\n",
    "\n",
    "A = [[2,3],[4,2],[4,5],[6,6],[7,6],[8,8],[9,6]]\n",
    "B = np.triu(distance_matrix(A,A))\n",
    "B = np.around(B,2)\n",
    "\n",
    "clusters = {}\n",
    "valores = clusters.values()\n",
    "while(len(valores) != len(A)):\n",
    "    Indice_min = np.where(B == np.min(B[np.nonzero(B)]))\n",
    "    x = Indice_min[0][0]\n",
    "    y = Indice_min[0][1]\n",
    "    for i in range(len(clusters)):\n",
    "        if(A[x] in clusters[i] and A[y] not in clusters[i]):\n",
    "            clusters[i].append(A[y])\n",
    "        elif(A[y] in clusters[i] and A[x] not in clusters[i]):\n",
    "            clusters[i].append(A[x])\n",
    "    if(A[x] not in clusters.values() and A[y] clusters.values())\n",
    "            \n",
    "        "
   ]
  }
 ],
 "metadata": {
  "kernelspec": {
   "display_name": "Python 3",
   "language": "python",
   "name": "python3"
  },
  "language_info": {
   "codemirror_mode": {
    "name": "ipython",
    "version": 3
   },
   "file_extension": ".py",
   "mimetype": "text/x-python",
   "name": "python",
   "nbconvert_exporter": "python",
   "pygments_lexer": "ipython3",
   "version": "3.6.9"
  }
 },
 "nbformat": 4,
 "nbformat_minor": 5
}
