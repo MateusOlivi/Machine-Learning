{
 "cells": [
  {
   "cell_type": "code",
   "execution_count": 1,
   "id": "4bcb02c7",
   "metadata": {},
   "outputs": [],
   "source": [
    "from scipy.spatial import distance_matrix\n",
    "import numpy as np\n",
    "import pandas as pd\n",
    "import copy as cp"
   ]
  },
  {
   "cell_type": "code",
   "execution_count": 3,
   "id": "7697a0e8",
   "metadata": {},
   "outputs": [],
   "source": [
    "def Dados(caminho, norm = True):\n",
    "    X = pd.read_csv(caminho, sep = ' ', header = None)\n",
    "    if(norm):\n",
    "        X = (X-X.min())/(X.max()-X.min()) # Min-Max\n",
    "    return X.values\n",
    "\n",
    "def achaCluster(ponto,clusters):\n",
    "    for key in clusters:\n",
    "        for pos in range(len(clusters[key])):\n",
    "            if(clusters[key][pos] == ponto):\n",
    "                return key\n",
    "    return -1\n",
    "\n",
    "def mergeClusters(clus, indice1, indice2):\n",
    "    clusters = cp.deepcopy(clus)\n",
    "    for i in range(len(clusters[indice2])):\n",
    "        clusters[indice1].append(clusters[indice2][i])\n",
    "    clusters.pop(indice2)\n",
    "    return clusters\n",
    "\n",
    "def newCluster(clusters, PontoA, PontoB):\n",
    "    i = len(clusters)\n",
    "    keys = clusters.keys()\n",
    "    while(True):\n",
    "        if(i not in keys):\n",
    "            clusters[i] = [PontoA,PontoB]\n",
    "            break\n",
    "        i += 1\n",
    "    return clusters\n",
    "\n",
    "def converte(clusters, dados):\n",
    "    resultado = {}\n",
    "    for key in clusters:\n",
    "        resultado[key] = []\n",
    "        for i in range(len(clusters[key])):\n",
    "            resultado[key].append(dados[clusters[key][i]])"
   ]
  },
  {
   "cell_type": "code",
   "execution_count": 9,
   "id": "de54911f",
   "metadata": {},
   "outputs": [],
   "source": [
    "def Hierarquico(X, k):\n",
    "    dados = X.tolist()\n",
    "    matrix = np.triu(distance_matrix(dados,dados))\n",
    "\n",
    "    clusters = {}\n",
    "    tamanho = 0\n",
    "    while(len(clusters) != k or tamanho != len(dados)):\n",
    "        Indice_min = np.where(matrix == np.min(matrix[np.nonzero(matrix)]))\n",
    "        PontoA = Indice_min[0][0]\n",
    "        PontoB = Indice_min[1][0]\n",
    "    \n",
    "        keyA = achaCluster(PontoA, clusters)\n",
    "        keyB = achaCluster(PontoB, clusters)\n",
    "        if(keyA == -1 and keyB == -1):\n",
    "            clusters = newCluster(clusters, PontoA, PontoB)\n",
    "        elif(keyA == -1):\n",
    "            if(PontoA not in clusters[keyB]):\n",
    "                clusters[keyB].append(PontoA)\n",
    "        elif(keyB == -1):\n",
    "            if(PontoB not in clusters[keyA]):\n",
    "                clusters[keyA].append(PontoB)\n",
    "        else:\n",
    "            if(keyA != keyB):\n",
    "                clusters = mergeClusters(clusters, keyA, keyB)\n",
    "        \n",
    "        matrix[PontoA][PontoB] = 0\n",
    "        tamanho = sum(len(cluster) for cluster in clusters.values())\n",
    "            \n",
    "    return clusters"
   ]
  },
  {
   "cell_type": "code",
   "execution_count": 8,
   "id": "8a4b423c",
   "metadata": {},
   "outputs": [
    {
     "ename": "ValueError",
     "evalue": "The truth value of an array with more than one element is ambiguous. Use a.any() or a.all()",
     "output_type": "error",
     "traceback": [
      "\u001b[0;31m---------------------------------------------------------------------------\u001b[0m",
      "\u001b[0;31mValueError\u001b[0m                                Traceback (most recent call last)",
      "\u001b[0;32m<ipython-input-8-1125bf6b8afb>\u001b[0m in \u001b[0;36m<module>\u001b[0;34m\u001b[0m\n\u001b[1;32m      1\u001b[0m \u001b[0mX\u001b[0m \u001b[0;34m=\u001b[0m \u001b[0mDados\u001b[0m\u001b[0;34m(\u001b[0m\u001b[0;34m'cluster.dat'\u001b[0m\u001b[0;34m,\u001b[0m\u001b[0mnorm\u001b[0m \u001b[0;34m=\u001b[0m \u001b[0;32mTrue\u001b[0m\u001b[0;34m)\u001b[0m\u001b[0;34m\u001b[0m\u001b[0;34m\u001b[0m\u001b[0m\n\u001b[0;32m----> 2\u001b[0;31m \u001b[0mclusters\u001b[0m \u001b[0;34m=\u001b[0m \u001b[0mHierarquico\u001b[0m\u001b[0;34m(\u001b[0m\u001b[0mX\u001b[0m\u001b[0;34m,\u001b[0m \u001b[0;36m3\u001b[0m\u001b[0;34m)\u001b[0m\u001b[0;34m\u001b[0m\u001b[0;34m\u001b[0m\u001b[0m\n\u001b[0m",
      "\u001b[0;32m<ipython-input-7-18e427d4d522>\u001b[0m in \u001b[0;36mHierarquico\u001b[0;34m(X, k)\u001b[0m\n\u001b[1;32m     18\u001b[0m                 \u001b[0mclusters\u001b[0m\u001b[0;34m[\u001b[0m\u001b[0mkeyB\u001b[0m\u001b[0;34m]\u001b[0m\u001b[0;34m.\u001b[0m\u001b[0mappend\u001b[0m\u001b[0;34m(\u001b[0m\u001b[0mdados\u001b[0m\u001b[0;34m[\u001b[0m\u001b[0mPontoA\u001b[0m\u001b[0;34m]\u001b[0m\u001b[0;34m)\u001b[0m\u001b[0;34m\u001b[0m\u001b[0;34m\u001b[0m\u001b[0m\n\u001b[1;32m     19\u001b[0m         \u001b[0;32melif\u001b[0m\u001b[0;34m(\u001b[0m\u001b[0mkeyB\u001b[0m \u001b[0;34m==\u001b[0m \u001b[0;34m-\u001b[0m\u001b[0;36m1\u001b[0m\u001b[0;34m)\u001b[0m\u001b[0;34m:\u001b[0m\u001b[0;34m\u001b[0m\u001b[0;34m\u001b[0m\u001b[0m\n\u001b[0;32m---> 20\u001b[0;31m             \u001b[0;32mif\u001b[0m\u001b[0;34m(\u001b[0m\u001b[0mPontoB\u001b[0m \u001b[0;32mnot\u001b[0m \u001b[0;32min\u001b[0m \u001b[0mclusters\u001b[0m\u001b[0;34m[\u001b[0m\u001b[0mkeyA\u001b[0m\u001b[0;34m]\u001b[0m\u001b[0;34m)\u001b[0m\u001b[0;34m:\u001b[0m\u001b[0;34m\u001b[0m\u001b[0;34m\u001b[0m\u001b[0m\n\u001b[0m\u001b[1;32m     21\u001b[0m                 \u001b[0mclusters\u001b[0m\u001b[0;34m[\u001b[0m\u001b[0mkeyA\u001b[0m\u001b[0;34m]\u001b[0m\u001b[0;34m.\u001b[0m\u001b[0mappend\u001b[0m\u001b[0;34m(\u001b[0m\u001b[0mdados\u001b[0m\u001b[0;34m[\u001b[0m\u001b[0mPontoB\u001b[0m\u001b[0;34m]\u001b[0m\u001b[0;34m)\u001b[0m\u001b[0;34m\u001b[0m\u001b[0;34m\u001b[0m\u001b[0m\n\u001b[1;32m     22\u001b[0m         \u001b[0;32melse\u001b[0m\u001b[0;34m:\u001b[0m\u001b[0;34m\u001b[0m\u001b[0;34m\u001b[0m\u001b[0m\n",
      "\u001b[0;31mValueError\u001b[0m: The truth value of an array with more than one element is ambiguous. Use a.any() or a.all()"
     ]
    }
   ],
   "source": [
    "X = Dados('cluster.dat',norm = True)\n",
    "clusters = Hierarquico(X, 3)"
   ]
  },
  {
   "cell_type": "code",
   "execution_count": null,
   "id": "cd1d7b86",
   "metadata": {},
   "outputs": [],
   "source": []
  }
 ],
 "metadata": {
  "kernelspec": {
   "display_name": "Python 3",
   "language": "python",
   "name": "python3"
  },
  "language_info": {
   "codemirror_mode": {
    "name": "ipython",
    "version": 3
   },
   "file_extension": ".py",
   "mimetype": "text/x-python",
   "name": "python",
   "nbconvert_exporter": "python",
   "pygments_lexer": "ipython3",
   "version": "3.6.9"
  }
 },
 "nbformat": 4,
 "nbformat_minor": 5
}
