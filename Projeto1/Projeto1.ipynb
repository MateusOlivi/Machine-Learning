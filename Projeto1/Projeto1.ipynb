{
 "cells": [
  {
   "cell_type": "markdown",
   "id": "022d9237",
   "metadata": {},
   "source": [
    "# MC886 - Projeto 1\n",
    "Aluno: Mateus Feitosa Olivi  RA: 222059"
   ]
  },
  {
   "cell_type": "markdown",
   "id": "4b046731",
   "metadata": {
    "tags": []
   },
   "source": [
    "# Parte 1:\n",
    "    \n",
    "<p style=\"text-align: justify;\">\n",
    "&emsp;Na primeira parte deste projeto o objetivo é implementar o algoritmos K-means e um outro algoritmo de aprendizado não supervisionado, no meu caso escolhi o Hierarchical Clustering. Após serem implementados o objetivo será analisar o comportamento dos algoritmos para diferentes valores de K, além de descobrir o melhor valor, também irei analisar o efeito da normalização dos dados de entrada, o efeito do inicialização dos centroides e tentar analisar qual dos algoritmos é o mais indicado para esse conjunto de dados\n",
    "\n",
    "### 1. K-Means:\n",
    "&emsp;O K-Means é um algoritmo de aprendizado não supervisionado, que faz a clusterização dos dados de entrada de acordo com suas características.<br>\n",
    "&emsp;O algoritmo é bem simples, para fazer a clusterização basta que se execute os passos abaixo:\n",
    "1. Definir um valor de K, ou seja, um número de clusters.\n",
    "2. Inicializar os centroide para cada cluster.\n",
    "3. Definir os clusters de cada ponto, o cluster que cada ponto pertence é referente ao centróide mais próximo, em termos de distancia euclidiana.\n",
    "4. Reposicionar o centróide. A nova posição do centroide deve ser a média da posição de todos os pontos do cluster.\n",
    "5. Repetir 3 e 4 até que os centróides não varie.\n",
    "</p>"
   ]
  },
  {
   "cell_type": "markdown",
   "id": "5def3547",
   "metadata": {
    "tags": [],
    "toc-hr-collapsed": true
   },
   "source": [
    "### 1.1 Implementação\n",
    "<p style=\"text-align: justify;\">&emsp;Inicialmente preciso fazer a leitura dos dados bem como sua normalização, para isso usarei a biblioteca pandas. A normalização utilizada será a Min-Max.<br>\n",
    "&emsp;A minha função contará com um parametro \"norm\", caso esse seja true então a normalização será aplicada, optei por esse parametro porque mais a frente irei analisar o impacto da normalização.<br>\n",
    "&emsp; Essa função também faz o split do dataset no dataset de traino e de teste, para pegar dados ao logo de todo dataset original eu fiz a seguinte divisão:</p>\n",
    "<p style=\"text-align: center;\"> | 18% treino | 2% teste | 18% treino | 2% teste | 18% treino | 2% teste | 18% treino | 2% teste | 18% treino | 2% teste |</p>\n",
    "<p style=\"text-align: justify;\">&emsp;Totalizando em 90% do dataset como treinamento e 10% como teste. O parametro dataset da função que irá definir se o dataset de treino ou de teste que será retornado, para isso basta passar como parametro as strings 'training' ou 'test'.</p>"
   ]
  },
  {
   "cell_type": "code",
   "execution_count": 41,
   "id": "7b9318e8",
   "metadata": {},
   "outputs": [],
   "source": [
    "import pandas as pd\n",
    "from math import floor, ceil\n",
    "\n",
    "def Dados(caminho, dataset = 'training', norm = True):\n",
    "    X = pd.read_csv(caminho, sep = '\\s+', header = None)\n",
    "    if(norm):\n",
    "        X = (X-X.min())/(X.max()-X.min()) # Min-Max\n",
    "        \n",
    "    training, test = [], []\n",
    "    Total = len(X)\n",
    "    \n",
    "    for i in range(5):\n",
    "        training.append(X.head(floor(Total*0.18)))\n",
    "        X = X.iloc[floor(Total*0.18):]\n",
    "        test.append(X.head(ceil(Total*0.02)))\n",
    "        X = X.iloc[ceil(Total*0.02):]\n",
    "    \n",
    "    training = pd.concat(training)\n",
    "    test = pd.concat(test)\n",
    "    \n",
    "    if(dataset == 'training'):\n",
    "        return training.values\n",
    "    elif(dataset == 'test'):\n",
    "        return test.values"
   ]
  },
  {
   "cell_type": "markdown",
   "id": "6e6952a1",
   "metadata": {},
   "source": [
    "&emsp;Agora irei implementar a inicialização dos clusters e dos centroides.<br>\n",
    "&emsp;O conjunto de clusters estara representado por um dicionario, cada chave desse dicionario referenciará um cluster diferente e cada cluster tem um conjunto de arrays que representam os pontos.<br>\n",
    "&emsp;Os centroides serão inicializados utilizando o metódo Forgy, ou seja, para k clusters irão ser escolhidos k pontos aleatórios, pertecentes aos dados, para serem os centroides iniciais."
   ]
  },
  {
   "cell_type": "code",
   "execution_count": 43,
   "id": "0ae27b67",
   "metadata": {},
   "outputs": [],
   "source": [
    "import numpy as np\n",
    "import random as rd\n",
    "\n",
    "def inicializaCluster(k):\n",
    "    clusters = {}\n",
    "    for i in range(k):\n",
    "        clusters[i] = []\n",
    "    return clusters\n",
    "\n",
    "def inicializaCentroides(X,k):\n",
    "    aux = X.tolist()\n",
    "    centroides = rd.sample(aux, k)\n",
    "    centroides = np.array(centroides)\n",
    "    return centroides"
   ]
  },
  {
   "cell_type": "markdown",
   "id": "5bc8ed01",
   "metadata": {},
   "source": [
    "&emsp;Já tendo preparado a inicialização dos clusters e dos centroides, agora preciso implementar as funções para definir os clusters e calcular a posição dos centroides.<br>\n",
    "&emsp;Para se definir os clusters é medido a distancia entre os pontos e os centroides, então os pontos são definidos ao clusters cuja o centroide é o mais próximo.<br>\n",
    "&emsp;Já os centroides são calculados sabendo que a nova posição do centroide deve ser a média da posição de todos os pontos do cluster."
   ]
  },
  {
   "cell_type": "code",
   "execution_count": 44,
   "id": "07eece23",
   "metadata": {},
   "outputs": [],
   "source": [
    "def defineClusters(X, centroids, k):\n",
    "    clusters = inicializaCluster(k) \n",
    "    for data in X:\n",
    "        distancias = []\n",
    "        for i in range(k):\n",
    "            distancia = np.linalg.norm(data - centroids[i])\n",
    "            distancias.append(distancia)\n",
    "        clusters[distancias.index(min(distancias))].append(data)\n",
    "    return clusters\n",
    "\n",
    "def calculaCentroides(centroides, clusters, k):\n",
    "    novo = cp.deepcopy(centroides)\n",
    "    for i in range(k):\n",
    "        novo[i] = np.average(clusters[i], axis=0)\n",
    "    return novo"
   ]
  },
  {
   "cell_type": "markdown",
   "id": "ff96b65f",
   "metadata": {},
   "source": [
    "&emsp; Agora basta aplicar o algoritmo apresentado no inicio da explicacao e se obtém o seguinte código:"
   ]
  },
  {
   "cell_type": "code",
   "execution_count": 122,
   "id": "cb49d3a8",
   "metadata": {},
   "outputs": [],
   "source": [
    "import copy as cp\n",
    "\n",
    "def kmeans(X, k):\n",
    "    centroides_anterior = inicializaCentroides(X,k)\n",
    "    erro = 1\n",
    "    while erro != 0:\n",
    "        clusters = defineClusters(X, centroides_anterior, k)\n",
    "        centroides_novo = calculaCentroides(centroides_anterior, clusters, k)\n",
    "        erro = np.linalg.norm(centroides_novo - centroides_anterior)\n",
    "        centroides_anterior = cp.deepcopy(centroides_novo)\n",
    "    return clusters, centroides_novo "
   ]
  },
  {
   "cell_type": "markdown",
   "id": "2a618427",
   "metadata": {},
   "source": [
    "&emsp; Pronto, o k-means foi finalizado, mas antes de aplica-lo para treinamento, vou implementar um método para achar o melhor valor para k.<br>\n",
    "&emsp; O método a ser implementado será o método \"elbow\", o método do cotovelo, esse método consiste em plotar um gráfico com K Clusters vs Distorção, sendo a distorção a soma do quadrado das distancias entre os pontos do cluster e o centroide. <br>\n",
    "&emsp;Após plotado o gráfico, deve se identificar uma mudança de comportamento no gráfico (cotovelo), que indica nosso melhor valor de K.<br>"
   ]
  },
  {
   "cell_type": "code",
   "execution_count": 123,
   "id": "3d97a5ab",
   "metadata": {},
   "outputs": [],
   "source": [
    "import matplotlib.pyplot as plt\n",
    "import matplotlib.cm as cm\n",
    "%matplotlib inline\n",
    "\n",
    "def elbow(X):\n",
    "    Grafico = []\n",
    "    for k in range(1,10):\n",
    "        Sum = 0\n",
    "        clusters, centroides = kmeans(X, k)\n",
    "        for i in range(len(clusters)):\n",
    "            for j in range(len(clusters[i])):\n",
    "                distancia = np.linalg.norm(clusters[i][j] - centroides[i])\n",
    "                Sum += distancia**2\n",
    "        Grafico.append([k,Sum])\n",
    "    Grafico = np.array(Grafico)\n",
    "    \n",
    "    plt.plot(Grafico[:,0],Grafico[:,1], 'bx-')\n",
    "    plt.xticks(Grafico[:,0])\n",
    "    plt.xlabel('Valor de K')\n",
    "    plt.ylabel('Distorção')\n",
    "    plt.title('Método Elbow')\n",
    "    plt.show()"
   ]
  },
  {
   "cell_type": "markdown",
   "id": "6113ba98",
   "metadata": {},
   "source": [
    "### 1.2 Execução\n",
    "\n",
    "&emsp;Inicialmente eu irei fazer a leitura dos dados, pegando os dados de treinamento (90% dos dados, explicado no primeiro tópico) e em seguida aplicar o método elbow, através da função elbow"
   ]
  },
  {
   "cell_type": "code",
   "execution_count": 125,
   "id": "e045f82f",
   "metadata": {},
   "outputs": [
    {
     "data": {
      "image/png": "[encoded data removed]",
      "text/plain": [
       "<Figure size 432x288 with 1 Axes>"
      ]
     },
     "metadata": {
      "needs_background": "light"
     },
     "output_type": "display_data"
    }
   ],
   "source": [
    "X = Dados('cluster.dat', dataset = 'training', norm = True)\n",
    "elbow(X)"
   ]
  },
  {
   "cell_type": "markdown",
   "id": "eeff07a3",
   "metadata": {},
   "source": [
    "&emsp; Visivelmente, pelo método elbow, a melhor maneira para se clusterizar os dados são utilizando k = 3 clusters, com isso em mente, irei executar a função kmeans para k = 3:"
   ]
  },
  {
   "cell_type": "code",
   "execution_count": 126,
   "id": "d3c34790",
   "metadata": {},
   "outputs": [],
   "source": [
    "X = Dados('cluster.dat', dataset = 'training', norm = True)\n",
    "clusters, centroides = kmeans(X,k = 3)"
   ]
  },
  {
   "cell_type": "markdown",
   "id": "6bc37e2a",
   "metadata": {},
   "source": [
    "&emsp; O código executou sem erros, agora vou fazer um código bem simples para mostrar o resultado da clusterizacao e ver se realmente o algoritmo produziu algo que faz sentido"
   ]
  },
  {
   "cell_type": "code",
   "execution_count": 51,
   "id": "017dcae3",
   "metadata": {},
   "outputs": [],
   "source": [
    "def kmeansplot(clusters, centroides):\n",
    "    cores = ['r','b','g','c','m','y']\n",
    "    for i in range(len(clusters)):\n",
    "        cluster = np.array(clusters[i])\n",
    "        plt.scatter(cluster[:,0] , cluster[:,1], s=75, color=cores[i],  edgecolor='k',label='cluster '+str(i+1))\n",
    "\n",
    "    plt.scatter(centroides[:, 0], centroides[:, 1], s=300, marker='*',c='yellow', edgecolor='k',label='centroides')\n",
    "    plt.legend(scatterpoints=1)\n",
    "    plt.show()"
   ]
  },
  {
   "cell_type": "code",
   "execution_count": 127,
   "id": "95110308",
   "metadata": {},
   "outputs": [
    {
     "data": {
      "image/png": "[encoded data removed]",
      "text/plain": [
       "<Figure size 432x288 with 1 Axes>"
      ]
     },
     "metadata": {
      "needs_background": "light"
     },
     "output_type": "display_data"
    }
   ],
   "source": [
    "kmeansplot(clusters, centroides)"
   ]
  },
  {
   "cell_type": "markdown",
   "id": "42e2aaca",
   "metadata": {},
   "source": [
    "&emsp; Aparentemente o algoritmo elbow nos deu um valor ótimo de k, pois visualmente é possivel notar que a clusterização foi ótima e os clusters estão muito bem definidos."
   ]
  },
  {
   "cell_type": "markdown",
   "id": "1b149a66",
   "metadata": {
    "tags": []
   },
   "source": [
    "### 1.3 Analise\n",
    "&emsp;Neste tópico farei a análise do efeito da normalização e da inicialização do centróide.\n",
    "\n",
    "#### 1.3.1 Normalização\n",
    "&emsp; Inicialmente irei fazer a analise do efeito da normalização sobre a clusterização do k-means, para isso eu irei atribuir os dados de entrada, sem aplicar a normalização, à variavél X2.<br>\n",
    "&emsp; Após isso irei executar a função elbow e plotar o gráfico para o kmeans, então irei analisar as diferenças entre a clusterização com e sem a normalização."
   ]
  },
  {
   "cell_type": "code",
   "execution_count": 53,
   "id": "5d5d7ae6",
   "metadata": {},
   "outputs": [
    {
     "data": {
      "image/png": "[encoded data removed]",
      "text/plain": [
       "<Figure size 432x288 with 1 Axes>"
      ]
     },
     "metadata": {
      "needs_background": "light"
     },
     "output_type": "display_data"
    }
   ],
   "source": [
    "X2 = Dados('cluster.dat', dataset = 'training', norm = False)\n",
    "elbow(X2)"
   ]
  },
  {
   "cell_type": "markdown",
   "id": "5bc2dbdb",
   "metadata": {},
   "source": [
    "&emsp; O método elbow, para esse caso, parece ser inconclusivo, porém como sabemos que para esses dados k = 3, vou aplicar o kmeans para esse k:"
   ]
  },
  {
   "cell_type": "code",
   "execution_count": 54,
   "id": "2973d4fd",
   "metadata": {},
   "outputs": [
    {
     "data": {
      "image/png": "[encoded data removed]",
      "text/plain": [
       "<Figure size 432x288 with 1 Axes>"
      ]
     },
     "metadata": {
      "needs_background": "light"
     },
     "output_type": "display_data"
    }
   ],
   "source": [
    "clusters2, centroides2 = kmeans(X2,k = 3)\n",
    "kmeansplot(clusters2, centroides2)"
   ]
  },
  {
   "cell_type": "markdown",
   "id": "b4db32a9",
   "metadata": {},
   "source": [
    "&emsp; É possível notar que a clusterização ficou errada, mas isso já era de se esperar, como estamos trabalhando com distâncias euclidianas a escala das features importam muito, isso por que a diferença nas escalas das features implica em uma diferença na importancia das features para o kmeans. <br>\n",
    "&emsp; Esse efeito fica evidente no gráfico acima, a escala do eixo y é 100 vezes menor que a do eixo x, então é natural que os pontos fossem clusterizados em setores verticais, visto que os pontos do gráfico estão 100 vezes mais próximos em y do que em x.<br>\n",
    "&emsp; Para demonstrar o que estou dizendo, vou plotar novamento o gráfico, mas agora irei colocar a escala do eixo y próxima a escala do eixo x, mas sem alterar a escala dos dados:"
   ]
  },
  {
   "cell_type": "code",
   "execution_count": 55,
   "id": "8c8672b9",
   "metadata": {},
   "outputs": [],
   "source": [
    "def kmeansplot_2(clusters, centroides):\n",
    "    cores = ['r','b','g','c','m','y']\n",
    "    plt. ylim(1, 1500)\n",
    "    for i in range(len(clusters)):\n",
    "        cluster = np.array(clusters[i])\n",
    "        plt.scatter(cluster[:,0] , cluster[:,1], s=75, color=cores[i] ,label='cluster '+str(i+1))\n",
    "\n",
    "    plt.scatter(centroides[:, 0], centroides[:, 1], s=300, marker='*',c='yellow',label='centroides')\n",
    "    plt.legend(scatterpoints=1)\n",
    "    plt.show()"
   ]
  },
  {
   "cell_type": "code",
   "execution_count": 56,
   "id": "2d423230",
   "metadata": {},
   "outputs": [
    {
     "data": {
      "image/png": "[encoded data removed]",
      "text/plain": [
       "<Figure size 432x288 with 1 Axes>"
      ]
     },
     "metadata": {
      "needs_background": "light"
     },
     "output_type": "display_data"
    }
   ],
   "source": [
    "kmeansplot_2(clusters2, centroides2)"
   ]
  },
  {
   "cell_type": "markdown",
   "id": "28c810d7",
   "metadata": {},
   "source": [
    "&emsp; É desse modo que o kmeans está enxergando os dados, e agora fica muito mais intuitivo perceber o motivo do kmeans ter clusterizado o gráfico dessa forma, como a escala do eixo x dos dados é muito maior, o kmeans enxerga muita pouca diferença entre os valores de y, o que é evidente no gráfico plotado acima.<br>\n",
    "&emsp; Assim, a normalização é de extrema importancia, pois ao faze-la garantimos que o mesmo peso e importancia sejam dadas a todas as features."
   ]
  },
  {
   "cell_type": "markdown",
   "id": "8feb373c",
   "metadata": {},
   "source": [
    "#### 1.3.2 Inicialização dos centroides\n",
    "&emsp;Outro aspecto que deve ser analisado é a inicialização dos centroides, dependendo da posição de início o kmeans pode acabar caindo em um mínimo local e não conseguirá prosseguir com a clusterização.<br>\n",
    "&emsp; No algoritmo do kmeans que eu usei, apliquei o inicilização do tipo Forgy, ou seja, ele escolherá como centroide k pontos pertencentes ao cojunto de dados normalizado. Para verificar o impacto desse método Forgy, modificarei o kmeans para imprimir o número de iterações, e aplicarei o kmeans em um loop com 20 execuções, assim poderemos ter uma noção melhor do que está acontecendo:"
   ]
  },
  {
   "cell_type": "code",
   "execution_count": 57,
   "id": "b6393395",
   "metadata": {},
   "outputs": [],
   "source": [
    "def kmeans2(X, k):\n",
    "    centroides_anterior = inicializaCentroides(X,k)\n",
    "    erro = 1\n",
    "    i = 0\n",
    "    while erro != 0:\n",
    "        clusters = defineClusters(X, centroides_anterior, k)\n",
    "        centroides_novo = calculaCentroides(centroides_anterior, clusters, k)\n",
    "        erro = np.linalg.norm(centroides_novo - centroides_anterior)\n",
    "        centroides_anterior = cp.deepcopy(centroides_novo)\n",
    "        i+= 1\n",
    "    print(\" - \"+str(i) + \" iterações\")\n",
    "    return clusters, centroides_novo"
   ]
  },
  {
   "cell_type": "code",
   "execution_count": 58,
   "id": "16034747",
   "metadata": {},
   "outputs": [
    {
     "name": "stdout",
     "output_type": "stream",
     "text": [
      "Execução 0  - 16 iterações\n",
      "Execução 1  - 4 iterações\n",
      "Execução 2  - 6 iterações\n",
      "Execução 3  - 4 iterações\n",
      "Execução 4  - 3 iterações\n",
      "Execução 5  - 3 iterações\n",
      "Execução 6  - 4 iterações\n",
      "Execução 7  - 4 iterações\n",
      "Execução 8  - 4 iterações\n",
      "Execução 9  - 4 iterações\n",
      "Execução 10  - 2 iterações\n",
      "Execução 11  - 4 iterações\n",
      "Execução 12  - 4 iterações\n",
      "Execução 13  - 4 iterações\n",
      "Execução 14  - 11 iterações\n",
      "Execução 15  - 4 iterações\n",
      "Execução 16  - 4 iterações\n",
      "Execução 17  - 4 iterações\n",
      "Execução 18  - 5 iterações\n",
      "Execução 19  - 7 iterações\n"
     ]
    }
   ],
   "source": [
    "X = Dados('cluster.dat', dataset = 'training' ,norm = True)\n",
    "for i in range(20):\n",
    "    print(\"Execução \" + str(i), end = ' ')\n",
    "    clus, cent = kmeans2(X, 3)"
   ]
  },
  {
   "cell_type": "markdown",
   "id": "5742d9d5",
   "metadata": {},
   "source": [
    "&emsp; O resultado acima nos mostra como o número de iterações pode variar baseado na inicialização, note que, para esse exemplo, tivemos inicializações que levaram o kmeans a ter de 2 até 16 iterações.<br>\n",
    "&emsp; O número de iterações não é o único problema que podemos ter, como dito anteriormente, dependendo da inicialização o kmeans pode cair em minimos locais. Para mostrar esse efeito vou modificar a minha função kmeans para que um dos parametros seja a inicialização do centroide e assim possamos fazer alguns testes:"
   ]
  },
  {
   "cell_type": "code",
   "execution_count": 59,
   "id": "e4ef4976",
   "metadata": {},
   "outputs": [],
   "source": [
    "def kmeans3(X, k, centroide_inicial):\n",
    "    centroides_anterior = centroide_inicial\n",
    "    erro = 1\n",
    "    while erro != 0:\n",
    "        clusters = defineClusters(X, centroides_anterior, k)\n",
    "        centroides_novo = calculaCentroides(centroides_anterior, clusters, k)\n",
    "        erro = np.linalg.norm(centroides_novo - centroides_anterior)\n",
    "        centroides_anterior = cp.deepcopy(centroides_novo)\n",
    "    return clusters, centroides_novo"
   ]
  },
  {
   "cell_type": "markdown",
   "id": "766e9bfc",
   "metadata": {},
   "source": [
    "&emsp; Do conjunto de dados normalizados achei uma inicialização que leva a um minimo local, vamos ver o resultado do kmeans:"
   ]
  },
  {
   "cell_type": "code",
   "execution_count": 130,
   "id": "b56548e4",
   "metadata": {},
   "outputs": [
    {
     "data": {
      "image/png": "[encoded data removed]",
      "text/plain": [
       "<Figure size 432x288 with 1 Axes>"
      ]
     },
     "metadata": {
      "needs_background": "light"
     },
     "output_type": "display_data"
    }
   ],
   "source": [
    "centroide_1 = np.array([[0.35606060, 0.3051470588], [0.378787878, 0.369485294], [0.380303030, 0.0753676]])\n",
    "\n",
    "clus, cent = kmeans3(X,3,centroide_1)\n",
    "kmeansplot(clus, cent)"
   ]
  },
  {
   "cell_type": "markdown",
   "id": "3495ae39",
   "metadata": {},
   "source": [
    "<p style=\"text-align: justify;\">\n",
    "&emsp; Eu obtive essa inicialização executando o kmeans com a inicialização Forgy varias vezes até achar uma inicialização problematica, e acima podemos ver que a clusterização ficou totalmente errada, assim pode-se notar que mesmo a inicialização Forgy está suscetível a erros, o que reforça a ideia de que devemos executar o kmeans mais de uma vez para ter certeza que obtivemos uma boa clusterização.<br>\n",
    "&emsp; Pode-se,também, ter problemas com a escolha de inicializações em que os pontos estão distante do conjuntos de dados, podendo levar a ter clusters vazios ou então um alto número de iterações para se obter convergencia.<br>\n",
    "&emsp; É dito que a melhor inicialização que tem é a do kmeans++, pois ele garante uma maior distribuição dos centroides dentro do conjunto de dados.\n",
    "</p>"
   ]
  },
  {
   "cell_type": "markdown",
   "id": "530ac598",
   "metadata": {
    "tags": []
   },
   "source": [
    "### 1.4 Aplicação do conjunto de testes\n",
    "<p style=\"text-align: justify;\">\n",
    "    &emsp; Agora chegou o momento de classificar os pontos do conjunto de testes, para melhor organização irei fazer novamente o treinamento (utilizando o conjunto de treinamento) com as funções ja prontas e a após isso irei utilizar os centroides que foi obtido pelo kmeans para determinar a qual cluster os pontos do conjunto de teste pertencem.\n",
    "</p>"
   ]
  },
  {
   "cell_type": "markdown",
   "id": "3802579c",
   "metadata": {},
   "source": [
    "#### 1.4.1 Treinamento\n",
    "&emsp; O Treinamento é simples, basta executar as funções já prontas, lembrando que,baseado em toda analise anterior, aplicaremos o k-means para k = 3:"
   ]
  },
  {
   "cell_type": "code",
   "execution_count": 131,
   "id": "b1c1e350",
   "metadata": {},
   "outputs": [
    {
     "data": {
      "image/png": "[encoded data removed]",
      "text/plain": [
       "<Figure size 432x288 with 1 Axes>"
      ]
     },
     "metadata": {
      "needs_background": "light"
     },
     "output_type": "display_data"
    }
   ],
   "source": [
    "TrainingDataset = Dados('cluster.dat', dataset = 'training', norm = True)\n",
    "clustersTreino, centroides = kmeans(X,k = 3)\n",
    "kmeansplot(clustersTreino, centroides)"
   ]
  },
  {
   "cell_type": "markdown",
   "id": "6df09d07",
   "metadata": {},
   "source": [
    "#### 1.4.2 Definição dos clusters do conjunto de testes\n",
    "<p style=\"text-align: justify;\">\n",
    "&emsp; O Treinamento foi completo, e o que importa pra nós é a posição dos centroides, isso por que iremos definir os clusters do conjunto de testes baseado nas distancias dos centroides, em outras palavras, um ponto fará parte do cluster cujo centroide está mais próximo.<br>\n",
    "&emsp; Mas primeiro preciso fazer uma função bem simples que defina o cluster baseando-se na posição dos centroides:\n",
    "</p>"
   ]
  },
  {
   "cell_type": "code",
   "execution_count": 133,
   "id": "9a14a852",
   "metadata": {},
   "outputs": [],
   "source": [
    "def defineCluster(centroide, testDataset):\n",
    "    clusterTest = inicializaCluster(len(centroide))\n",
    "    for i in range(len(testDataset)):\n",
    "        for j in range(len(testDataset[i])):\n",
    "            indiceMenor = 0\n",
    "            distanciaAnterior = -1\n",
    "            for k in range(len(centroide)):    \n",
    "                distancia = np.linalg.norm(testDataset[i] - centroide[k])\n",
    "                if(distanciaAnterior < 0 or distancia < distanciaAnterior):\n",
    "                    indiceMenor = k\n",
    "                    distanciaAnterior = distancia\n",
    "            clusterTest[indiceMenor].append(testDataset[i])\n",
    "    return clusterTest"
   ]
  },
  {
   "cell_type": "code",
   "execution_count": 134,
   "id": "87373688",
   "metadata": {},
   "outputs": [],
   "source": [
    "testDataset = Dados('cluster.dat', dataset = 'test', norm = True)\n",
    "clusterTestData =  defineCluster(centroides, testDataset)"
   ]
  },
  {
   "cell_type": "markdown",
   "id": "b327bd5b",
   "metadata": {},
   "source": [
    "Os clusters foram definidos, agora vamos plotar os centroides e os clusters obitido do conjunto de teste"
   ]
  },
  {
   "cell_type": "code",
   "execution_count": 135,
   "id": "f9167747",
   "metadata": {},
   "outputs": [],
   "source": [
    "def plotTest(clusters, centroides):\n",
    "    cores = ['r','b','g','c','m','y']\n",
    "    for i in range(len(clusters)):\n",
    "        cluster = np.array(clusters[i])\n",
    "        plt.scatter(cluster[:,0] , cluster[:,1], s=75, color=cores[i],  edgecolor='k',label='cluster '+str(i+1))\n",
    "    \n",
    "    \n",
    "    plt.scatter(centroides[:, 0],centroides[:, 1],s=300,marker='*', c='yellow', edgecolor='k',label='centroides')\n",
    "\n",
    "    plt.legend(scatterpoints=1)\n",
    "    plt.show()"
   ]
  },
  {
   "cell_type": "code",
   "execution_count": 136,
   "id": "bbc49ff8",
   "metadata": {},
   "outputs": [
    {
     "data": {
      "image/png": "[encoded data removed]",
      "text/plain": [
       "<Figure size 432x288 with 1 Axes>"
      ]
     },
     "metadata": {
      "needs_background": "light"
     },
     "output_type": "display_data"
    }
   ],
   "source": [
    "plotTest(clusterTestData, centroides)"
   ]
  },
  {
   "cell_type": "markdown",
   "id": "d4d8273e",
   "metadata": {},
   "source": [
    "<p style=\"text-align: justify;\">\n",
    "&emsp; Pode-se ver que os dados do conjunto de teste foram bem classificados e portanto o método do kmeans foi uma boa alternativa para fazer o treinamendo dos pontos do conjunto de treinamento .<br>\n",
    "</p>"
   ]
  },
  {
   "cell_type": "markdown",
   "id": "b042ab47",
   "metadata": {},
   "source": [
    "### 2. Agglomerative Hierarchical Clustering\n",
    "&emsp;O Agglomerative Hierarchical Clustering é um método de clusterização que visa construir uma hierarquia de clusters. Neste método, inicialmente todo ponto é considerado um cluster, a medida que o algoritmo prossegue os clusters proximos sofrem merge e assim vão subindo na hierarquia.<br>\n",
    "&emsp;Para fazer a clusterização basta que se execute os passos abaixo:\n",
    "1. Fazer uma matriz de proximidade.\n",
    "2. Fazer o merge de dois clusters próximos.\n",
    "3. Atulizar a matriz de proximidade, mostrando que ja foi feito o merge desses clusters ou que um novo cluster surgiu.\n",
    "4. Repetir 2 e 3 até sobre apenas 1 cluster.\n",
    "\n",
    "&emsp;No meu caso, no o passo 4, o algoritmo irá rodar até obter um número de k clusters e todo elemento ter sido atribuido a um cluster diferente."
   ]
  },
  {
   "cell_type": "markdown",
   "id": "9cbdbce5",
   "metadata": {},
   "source": [
    "### 2.1 Implementação\n",
    "Primeiro vou fazer todos os imports necessarios:"
   ]
  },
  {
   "cell_type": "code",
   "execution_count": 155,
   "id": "81df9d22",
   "metadata": {},
   "outputs": [],
   "source": [
    "from scipy.spatial import distance_matrix\n",
    "import numpy as np\n",
    "import pandas as pd\n",
    "import copy as cp\n",
    "import matplotlib.pyplot as plt\n",
    "from math import floor, ceil\n",
    "%matplotlib inline"
   ]
  },
  {
   "cell_type": "markdown",
   "id": "563decca",
   "metadata": {},
   "source": [
    "&emsp;Para fazer a leitura dos dados irei usar a mesma função que usei para o algoritmo do kmeans, lembre-se que o algoritmo faz a seguinte divisão do dataset:\n",
    "<p style=\"text-align: center;\"> | 18% treino | 2% teste | 18% treino | 2% teste | 18% treino | 2% teste | 18% treino | 2% teste | 18% treino | 2% teste |</p>"
   ]
  },
  {
   "cell_type": "code",
   "execution_count": 156,
   "id": "8a692a6c",
   "metadata": {},
   "outputs": [],
   "source": [
    "def Dados(caminho, dataset = 'training', norm = True):\n",
    "    X = pd.read_csv(caminho, sep = '\\s+', header = None)\n",
    "    if(norm):\n",
    "        X = (X-X.min())/(X.max()-X.min()) # Min-Max\n",
    "        \n",
    "    training, test = [], []\n",
    "    Total = len(X)\n",
    "    \n",
    "    for i in range(5):\n",
    "        training.append(X.head(floor(Total*0.18)))\n",
    "        X = X.iloc[floor(Total*0.18):]\n",
    "        test.append(X.head(ceil(Total*0.02)))\n",
    "        X = X.iloc[ceil(Total*0.02):]\n",
    "    \n",
    "    training = pd.concat(training)\n",
    "    test = pd.concat(test)\n",
    "    \n",
    "    if(dataset == 'training'):\n",
    "        return training.values\n",
    "    elif(dataset == 'test'):\n",
    "        return test.values\n",
    "    "
   ]
  },
  {
   "cell_type": "markdown",
   "id": "54d6bd49",
   "metadata": {},
   "source": [
    "&emsp; Agora farei funções auxiliares para simplificar o processo da clusterização hierarquica:\n",
    "1. achaCluster: dado um ponto e o conjunto de clusters, essa função retorna a chave do cluster a qual esse ponto pertence, senão retorna -1\n",
    "2. mergeClusters: dado a chave de dois clusters, essa função faz merge desses dois clusters \n",
    "3. newCluster: dado  dois pontos e o conjunto de clusters, essa função adiciona esses dois pontos a um novo clusters"
   ]
  },
  {
   "cell_type": "code",
   "execution_count": 162,
   "id": "59063a4f",
   "metadata": {},
   "outputs": [],
   "source": [
    "def achaCluster(ponto,clusters):\n",
    "    for key in clusters:\n",
    "        for pos in range(len(clusters[key])):\n",
    "            if(clusters[key][pos] == ponto):\n",
    "                return key\n",
    "    return -1\n",
    "\n",
    "def mergeClusters(clus, keyA, keyB):\n",
    "    clusters = cp.deepcopy(clus)\n",
    "    for i in range(len(clusters[keyB])):\n",
    "        clusters[keyA].append(clusters[keyB][i])\n",
    "    clusters.pop(keyB)\n",
    "    return clusters\n",
    "\n",
    "def newCluster(clusters, PontoA, PontoB):\n",
    "    i = len(clusters)\n",
    "    keys = clusters.keys()\n",
    "    while(True):\n",
    "        if(i not in keys):\n",
    "            clusters[i] = [PontoA,PontoB]\n",
    "            break\n",
    "        i += 1\n",
    "    return clusters"
   ]
  },
  {
   "cell_type": "markdown",
   "id": "ebff6672",
   "metadata": {},
   "source": [
    "&emsp;Agora, finalmente, vou aplicar o algoritmo do Hierarchical Clustering, note que essa função retorna o conjunto de clusters, porém o conteúdo dentro dos clusters não são os pontos e sim suas respectivas posições dos dados, assim precisei fazer uma função converte, que substitui a posição dos pontos pelos seus respectivos pontos."
   ]
  },
  {
   "cell_type": "code",
   "execution_count": 176,
   "id": "888c3028",
   "metadata": {},
   "outputs": [],
   "source": [
    "def converte(clusters, dados):\n",
    "    resultado = {}\n",
    "    j = 0\n",
    "    for key in clusters:\n",
    "        resultado[j] = []\n",
    "        for i in range(len(clusters[key])):\n",
    "            resultado[j].append(dados[clusters[key][i]])\n",
    "        j+= 1\n",
    "    return resultado\n",
    "\n",
    "def Hierarquico(X, k):\n",
    "    dados = X.tolist()\n",
    "    matrix = np.triu(distance_matrix(dados,dados))\n",
    "\n",
    "    clusters = {}\n",
    "    tamanho = 0\n",
    "    while(len(clusters) > k or tamanho != len(dados)):\n",
    "        Indice_min = np.where(matrix == np.min(matrix[np.nonzero(matrix)]))\n",
    "        PontoA = Indice_min[0][0]\n",
    "        PontoB = Indice_min[1][0]\n",
    "    \n",
    "        keyA = achaCluster(PontoA, clusters)\n",
    "        keyB = achaCluster(PontoB, clusters)\n",
    "        if(keyA == -1 and keyB == -1):\n",
    "            clusters = newCluster(clusters, PontoA, PontoB)\n",
    "        elif(keyA == -1):\n",
    "            if(PontoA not in clusters[keyB]):\n",
    "                clusters[keyB].append(PontoA)\n",
    "        elif(keyB == -1):\n",
    "            if(PontoB not in clusters[keyA]):\n",
    "                clusters[keyA].append(PontoB)\n",
    "        else:\n",
    "            if(keyA != keyB):\n",
    "                clusters = mergeClusters(clusters, keyA, keyB)\n",
    "        \n",
    "        matrix[PontoA][PontoB] = 0\n",
    "        tamanho = sum(len(cluster) for cluster in clusters.values())\n",
    "    clusters = converte(clusters, dados)\n",
    "    return clusters"
   ]
  },
  {
   "cell_type": "markdown",
   "id": "22495d3e",
   "metadata": {},
   "source": [
    "### 2.2 Execução\n",
    "&emsp;Para a execução precisarei descobrir o número ideal de clusters, no kmeans usei o método elbow para isso, porém o método elbow exige os centroides para definir o número k, como o hierarchical cluster não nos da centroides irei usar a média aritimétida dos pontos do cluster no lugar do centroide.<br>"
   ]
  },
  {
   "cell_type": "code",
   "execution_count": 159,
   "id": "29114b9a",
   "metadata": {},
   "outputs": [],
   "source": [
    "def elbowHierarchical(X):\n",
    "    Grafico = []\n",
    "    for k in range(1,9):\n",
    "        Sum = 0\n",
    "        media = []\n",
    "        clusters = Hierarquico(X, k)\n",
    "        for i in range(len(clusters)):\n",
    "            media.append(np.average(clusters[i], axis=0))\n",
    "        for i in range(len(clusters)):\n",
    "            for j in range(len(clusters[i])):\n",
    "                distancia = np.linalg.norm(clusters[i][j] - media[i])\n",
    "                Sum += distancia**2\n",
    "        Grafico.append([k,Sum])\n",
    "    Grafico = np.array(Grafico)\n",
    "    \n",
    "    plt.plot(Grafico[:,0],Grafico[:,1], 'bx-')\n",
    "    plt.xticks(Grafico[:,0])\n",
    "    plt.xlabel('Valor de K')\n",
    "    plt.ylabel('Distorção')\n",
    "    plt.title('Método Elbow')\n",
    "    plt.show()"
   ]
  },
  {
   "cell_type": "markdown",
   "id": "2856153c",
   "metadata": {},
   "source": [
    "Executando o código acima temos:"
   ]
  },
  {
   "cell_type": "code",
   "execution_count": null,
   "id": "9d2f7775",
   "metadata": {},
   "outputs": [],
   "source": [
    "X = Dados('cluster.dat', dataset = 'training', norm = True)\n",
    "elbowHierarchical(X)"
   ]
  },
  {
   "cell_type": "markdown",
   "id": "d534b5e6",
   "metadata": {},
   "source": [
    "&emsp; Pode-se perceber uma diferença marcante entre o kmeans e o hierarchical, ao executar o elbow utilziando o hierarchical clustering a resposta demorou demais para aparecer, diferentemente para o kmeans, que foi relativamente rápido.<br>\n",
    "&emsp;No gráfico acima, percebe-se um cotovelo em k = 3, então para esse algoritmo irei  executar para um número de 3 clusters, mas antes vou fazer uma função para plotar o gráfico.<br>"
   ]
  },
  {
   "cell_type": "code",
   "execution_count": 167,
   "id": "952e305c",
   "metadata": {},
   "outputs": [],
   "source": [
    "def hierarchicalPlot(clusters):\n",
    "    cores = ['r','b','g','c','m','y']\n",
    "    for key in clusters:\n",
    "        cluster = np.array(clusters[key])\n",
    "        plt.scatter(cluster[:,0],cluster[:,1], s=75, color=cores[key],  edgecolor='k', label='cluster '+str(key+1))\n",
    "    plt.legend(scatterpoints=1)\n",
    "    plt.show()"
   ]
  },
  {
   "cell_type": "code",
   "execution_count": null,
   "id": "9e3988a5",
   "metadata": {},
   "outputs": [],
   "source": [
    "X = Dados('cluster.dat', dataset = 'training', norm = True)\n",
    "clustersHierarchical = Hierarquico(X, 3)\n",
    "hierarchicalPlot(clustersHierarchical)"
   ]
  },
  {
   "cell_type": "markdown",
   "id": "30130809",
   "metadata": {},
   "source": [
    "&emsp;Visualmente é possivel notar que a clusterização foi ótima e os clusters estão muito bem definidos, e que o resultado da clusterização ficou identico ao do kmeans"
   ]
  },
  {
   "cell_type": "markdown",
   "id": "7bc3a4b8",
   "metadata": {},
   "source": [
    "### 2.3 Analise\n",
    "&emsp;Neste tópico farei a análise do efeito da normalização.\n",
    "\n",
    "#### 2.3.1 Normalização\n",
    "&emsp; O que se espera para uma execução sem normalização, para esse método, é uma clusterização incorreta, visto que a falta de normalização da pesos diferentes as features, além disso pode-se dizer que o resultado pode ser diferente do que foi obtido no kmeans sem normalização, isso porque as métricas de separação de clusters são diferentes e, também, como os dados não estão normalizados é esperado obter um comportamento distinto. <br>\n",
    "&emsp; Inicialmente irei executar o método elbow da clusterização hierarquica e ver se ira ser obtido um cotovelo bem definido:"
   ]
  },
  {
   "cell_type": "code",
   "execution_count": null,
   "id": "8d70c211",
   "metadata": {},
   "outputs": [],
   "source": [
    "X2 = Dados('cluster.dat', dataset = 'training', norm = False)\n",
    "elbowHierarchical(X2)"
   ]
  },
  {
   "cell_type": "markdown",
   "id": "016379b1",
   "metadata": {},
   "source": [
    "&emsp; Obtemos um cotovelo bem forte em k = 2, agora vou executar a clusterização hierarquica e fazer seu plot para observarmos a saida:"
   ]
  },
  {
   "cell_type": "code",
   "execution_count": null,
   "id": "0f6229c1",
   "metadata": {},
   "outputs": [],
   "source": [
    "X2 = Dados('cluster.dat', dataset = 'training', norm = False)\n",
    "clustersHierarchical2 = Hierarquico(X2, 2)\n",
    "hierarchicalPlot(clustersHierarchical2)"
   ]
  },
  {
   "cell_type": "markdown",
   "id": "94bd6e55",
   "metadata": {},
   "source": [
    "&emsp; Pode-se dizer que para k = 2 a clusterização foi bem coerente, mas antes de executarmos para k = 3, vamos tentar entender porque o método elbow nos disse que o número ótimo de clusters é k = 2. <br>\n",
    "&emsp; Vamos plotar novamente o gráfico acima, mas agora vou mexer na escala do gráfico, irei colocar o eixo y na mesma escala do eixo x, mas sem alterar a escala dos dados: "
   ]
  },
  {
   "cell_type": "code",
   "execution_count": null,
   "id": "36ca4953",
   "metadata": {},
   "outputs": [],
   "source": [
    "def hierarchicalPlot_2(clusters):\n",
    "    cores = ['r','b','g','c','m','y']\n",
    "    plt. ylim(1, 1500)\n",
    "    for key in clusters:\n",
    "        cluster = np.array(clusters[key])\n",
    "        plt.scatter(cluster[:,0],cluster[:,1], s=75, color=cores[key],  edgecolor='k', label='cluster '+str(key+1))\n",
    "    plt.legend(scatterpoints=1)\n",
    "    plt.show()"
   ]
  },
  {
   "cell_type": "code",
   "execution_count": null,
   "id": "a53fbe86",
   "metadata": {},
   "outputs": [],
   "source": [
    "hierarchicalPlot_2(clustersHierarchical2)"
   ]
  },
  {
   "cell_type": "markdown",
   "id": "b54a690e",
   "metadata": {},
   "source": [
    "&emsp; Olhando dessa perspectiva fica bem evidente porque o método elbow nos disse que o número ideal de clusters foi de k = 2. Agora vou executar, os dados sem normalização, para k = 3 e analisar o resultado:"
   ]
  },
  {
   "cell_type": "code",
   "execution_count": null,
   "id": "bed4547e",
   "metadata": {},
   "outputs": [],
   "source": [
    "clustersHierarchical2 = Hierarquico(X2, 3)\n",
    "hierarchicalPlot(clustersHierarchical2)"
   ]
  },
  {
   "cell_type": "markdown",
   "id": "505f929f",
   "metadata": {},
   "source": [
    "&emsp; É possível notar que para k = 3 a clusterização ficou bem esquisita, mas isso já era esperado visto que os dados não estão normalizado, mas agora vamos analisar algumas peculiaridades: <br>\n",
    "\n",
    "1. Por que um dos clusters é extremamente pequeno e desproporcional aos outros?<br>\n",
    "<p style='text-align: justify;'> A resposta para essa questão é que o número ideal de clusters, para os dados não normalizados, não é 3. No método hierarquico vamos agrupando os clusters baseando-se em distancias, quando forçamos o algoritmo parar em k = 3 impedimos que aquele pequeno cluster sofresse um merge com o cluster mais próximo, assim impedindo que obtivessemos uma melhor clusterização, isso evidencia a importancia de executar um bom método para se obter o k ideal.</p>\n",
    "\n",
    "2. Por que a execução dos dados não normalizados, para k = 3, ficou diferente do kmeans?<br>\n",
    "<p style='text-align: justify;'> Isso acontece porque as métricas de divisão dos clusters são diferentes, no kmeans os clusters são definidos baseados nas distancias dos centroides, ja no hierarquico definimos baseado na distancia entre os clusters, assim como a clusterização está sendo feita para um k incorreto e sobre dados não normalizados essas métricas tem um impacto muito grande.</p>"
   ]
  },
  {
   "cell_type": "markdown",
   "id": "6069bc9e",
   "metadata": {
    "toc-hr-collapsed": true
   },
   "source": [
    "### 2.4 Aplicação do conjunto de testes\n",
    "<p style=\"text-align: justify;\">\n",
    "    &emsp; Agora chegou o momento de classificar os pontos do conjunto de testes, para melhor organização irei fazer novamente o treinamento (utilizando o conjunto de treinamento) com as funções ja prontas e a após isso vou definir o cluster a qual os pontos do conjunto de teste pertencem baseando-se na distancia entre o ponto analisado e o ponto médio do cluster.\n",
    "</p>"
   ]
  },
  {
   "cell_type": "markdown",
   "id": "f13b94a4",
   "metadata": {},
   "source": [
    "#### 2.4.1 Treinamento\n",
    "&emsp; O Treinamento é simples, basta executar as funções já prontas, lembrando que, baseado em toda analise anterior, aplicaremos o agglomerative hierarchical clustering até que obtemos 3  clusters:"
   ]
  },
  {
   "cell_type": "code",
   "execution_count": null,
   "id": "39263e62",
   "metadata": {},
   "outputs": [],
   "source": [
    "TrainingDataset_H = Dados('cluster.dat', dataset = 'training', norm = True)\n",
    "clustersTreino_H = Hierarquico(TrainingDataset_H, 3)\n",
    "hierarchicalPlot(clustersTreino_H)"
   ]
  },
  {
   "cell_type": "markdown",
   "id": "9e85cedd",
   "metadata": {},
   "source": [
    "#### 2.4.2 Definição dos clusters do conjunto de testes\n",
    "<p style=\"text-align: justify;\">\n",
    "&emsp; O Treinamento foi completo, agora iremos definir os clusters do conjunto de testes baseado nos pontos médios dos clusters obtidos no conjunto de treinamento, em outras palavras, um ponto fará parte do cluster cuja média dos pontos dos clusters de treinamento está mais próximo.<br>\n",
    "&emsp; Mas primeiro preciso fazer uma função que retorne esses pontos médiose, e uma função simples que defina o cluster baseando-se na posição dos pontos médios:\n",
    "</p>"
   ]
  },
  {
   "cell_type": "code",
   "execution_count": null,
   "id": "3f36b793",
   "metadata": {},
   "outputs": [],
   "source": [
    "def pontosMedios(clustersTreino):\n",
    "    pontoMedio = []\n",
    "    for i in range(len(clustersTreino)):\n",
    "        pontoMedio.append(np.average(clustersTreino[i], axis=0))\n",
    "    return pontoMedio\n",
    "\n",
    "def defineCluster_H(pontosMedios, testDataset):\n",
    "    clusterTest = inicializaCluster(len(pontosMedios))\n",
    "    for i in range(len(testDataset)):\n",
    "        for j in range(len(testDataset[i])):\n",
    "            indiceMenor = 0\n",
    "            distanciaAnterior = -1\n",
    "            for k in range(len(pontosMedios)):    \n",
    "                distancia = np.linalg.norm(testDataset[i] - pontosMedios[k])\n",
    "                if(distanciaAnterior < 0 or distancia < distanciaAnterior):\n",
    "                    indiceMenor = k\n",
    "                    distanciaAnterior = distancia\n",
    "            clusterTest[indiceMenor].append(testDataset[i])\n",
    "    return clusterTest"
   ]
  },
  {
   "cell_type": "code",
   "execution_count": null,
   "id": "a8c8e1e7",
   "metadata": {},
   "outputs": [],
   "source": [
    "pontosMedio = pontosMedios(clustersTreino_H)\n",
    "testDataset_H = Dados('cluster.dat', dataset = 'test', norm = True)\n",
    "clusterTestData_H =  defineCluster_H(pontosMedio, testDataset_H)"
   ]
  },
  {
   "cell_type": "markdown",
   "id": "ecd0ed6f",
   "metadata": {},
   "source": [
    "Os clusters foram definidos, agora vamos plotar os clusters obitido do conjunto de teste"
   ]
  },
  {
   "cell_type": "code",
   "execution_count": null,
   "id": "763258e9",
   "metadata": {},
   "outputs": [],
   "source": [
    "def plotTest_H(clusters):\n",
    "    cores = ['r','b','g','c','m','y']\n",
    "    for i in range(len(clusters)):\n",
    "        cluster = np.array(clusters[i])\n",
    "        plt.scatter(cluster[:,0] , cluster[:,1], s=75, color=cores[i],  edgecolor='k',label='cluster '+str(i+1))\n",
    "    \n",
    "    plt.legend(scatterpoints=1)\n",
    "    plt.show()\n",
    "\n",
    "plotTest_H(clusterTestData_H)"
   ]
  },
  {
   "cell_type": "markdown",
   "id": "d3dccee4",
   "metadata": {},
   "source": [
    "<p style=\"text-align: justify;\">\n",
    "&emsp; Pode-se ver que os dados do conjunto de teste foram bem classificados e portanto o método do agglomerative hierarchical clustering foi uma boa alternativa para fazer o treinamendo dos pontos do conjunto de treinamento .<br>\n",
    "</p>"
   ]
  },
  {
   "cell_type": "markdown",
   "id": "0fe98eea",
   "metadata": {},
   "source": [
    "### 3. Um novo conjunto de dados:\n"
   ]
  },
  {
   "cell_type": "markdown",
   "id": "23d565da",
   "metadata": {},
   "source": [
    "<p style=\"text-align: justify;\">\n",
    "&emsp; Agora irei usar um novo dataset, o Hungary Chickenpox Dataset, este conjunto de dados contém informações sobre o número de casos semanais de catapóra em 20 condados da Hungria.<br>\n",
    "&emsp; Existem 21 features em cada caso do conjunto de dados: A primeira coluna contém a data da coleta de dados, e as demais colunas são referentes a quantidade de casos em cada condado, além disso esse dataset possui 522 linhas, vou fazer um print abaixo para deixar explicito:<br>\n",
    "</p>"
   ]
  },
  {
   "cell_type": "code",
   "execution_count": 137,
   "id": "51b81896",
   "metadata": {},
   "outputs": [
    {
     "data": {
      "text/html": [
       "<div>\n",
       "<style scoped>\n",
       "    .dataframe tbody tr th:only-of-type {\n",
       "        vertical-align: middle;\n",
       "    }\n",
       "\n",
       "    .dataframe tbody tr th {\n",
       "        vertical-align: top;\n",
       "    }\n",
       "\n",
       "    .dataframe thead th {\n",
       "        text-align: right;\n",
       "    }\n",
       "</style>\n",
       "<table border=\"1\" class=\"dataframe\">\n",
       "  <thead>\n",
       "    <tr style=\"text-align: right;\">\n",
       "      <th></th>\n",
       "      <th>Date</th>\n",
       "      <th>BUDAPEST</th>\n",
       "      <th>BARANYA</th>\n",
       "      <th>BACS</th>\n",
       "      <th>BEKES</th>\n",
       "      <th>BORSOD</th>\n",
       "      <th>CSONGRAD</th>\n",
       "      <th>FEJER</th>\n",
       "      <th>GYOR</th>\n",
       "      <th>HAJDU</th>\n",
       "      <th>...</th>\n",
       "      <th>JASZ</th>\n",
       "      <th>KOMAROM</th>\n",
       "      <th>NOGRAD</th>\n",
       "      <th>PEST</th>\n",
       "      <th>SOMOGY</th>\n",
       "      <th>SZABOLCS</th>\n",
       "      <th>TOLNA</th>\n",
       "      <th>VAS</th>\n",
       "      <th>VESZPREM</th>\n",
       "      <th>ZALA</th>\n",
       "    </tr>\n",
       "  </thead>\n",
       "  <tbody>\n",
       "    <tr>\n",
       "      <th>0</th>\n",
       "      <td>03/01/2005</td>\n",
       "      <td>168</td>\n",
       "      <td>79</td>\n",
       "      <td>30</td>\n",
       "      <td>173</td>\n",
       "      <td>169</td>\n",
       "      <td>42</td>\n",
       "      <td>136</td>\n",
       "      <td>120</td>\n",
       "      <td>162</td>\n",
       "      <td>...</td>\n",
       "      <td>130</td>\n",
       "      <td>57</td>\n",
       "      <td>2</td>\n",
       "      <td>178</td>\n",
       "      <td>66</td>\n",
       "      <td>64</td>\n",
       "      <td>11</td>\n",
       "      <td>29</td>\n",
       "      <td>87</td>\n",
       "      <td>68</td>\n",
       "    </tr>\n",
       "    <tr>\n",
       "      <th>1</th>\n",
       "      <td>10/01/2005</td>\n",
       "      <td>157</td>\n",
       "      <td>60</td>\n",
       "      <td>30</td>\n",
       "      <td>92</td>\n",
       "      <td>200</td>\n",
       "      <td>53</td>\n",
       "      <td>51</td>\n",
       "      <td>70</td>\n",
       "      <td>84</td>\n",
       "      <td>...</td>\n",
       "      <td>80</td>\n",
       "      <td>50</td>\n",
       "      <td>29</td>\n",
       "      <td>141</td>\n",
       "      <td>48</td>\n",
       "      <td>29</td>\n",
       "      <td>58</td>\n",
       "      <td>53</td>\n",
       "      <td>68</td>\n",
       "      <td>26</td>\n",
       "    </tr>\n",
       "    <tr>\n",
       "      <th>2</th>\n",
       "      <td>17/01/2005</td>\n",
       "      <td>96</td>\n",
       "      <td>44</td>\n",
       "      <td>31</td>\n",
       "      <td>86</td>\n",
       "      <td>93</td>\n",
       "      <td>30</td>\n",
       "      <td>93</td>\n",
       "      <td>84</td>\n",
       "      <td>191</td>\n",
       "      <td>...</td>\n",
       "      <td>64</td>\n",
       "      <td>46</td>\n",
       "      <td>4</td>\n",
       "      <td>157</td>\n",
       "      <td>33</td>\n",
       "      <td>33</td>\n",
       "      <td>24</td>\n",
       "      <td>18</td>\n",
       "      <td>62</td>\n",
       "      <td>44</td>\n",
       "    </tr>\n",
       "    <tr>\n",
       "      <th>3</th>\n",
       "      <td>24/01/2005</td>\n",
       "      <td>163</td>\n",
       "      <td>49</td>\n",
       "      <td>43</td>\n",
       "      <td>126</td>\n",
       "      <td>46</td>\n",
       "      <td>39</td>\n",
       "      <td>52</td>\n",
       "      <td>114</td>\n",
       "      <td>107</td>\n",
       "      <td>...</td>\n",
       "      <td>63</td>\n",
       "      <td>54</td>\n",
       "      <td>14</td>\n",
       "      <td>107</td>\n",
       "      <td>66</td>\n",
       "      <td>50</td>\n",
       "      <td>25</td>\n",
       "      <td>21</td>\n",
       "      <td>43</td>\n",
       "      <td>31</td>\n",
       "    </tr>\n",
       "    <tr>\n",
       "      <th>4</th>\n",
       "      <td>31/01/2005</td>\n",
       "      <td>122</td>\n",
       "      <td>78</td>\n",
       "      <td>53</td>\n",
       "      <td>87</td>\n",
       "      <td>103</td>\n",
       "      <td>34</td>\n",
       "      <td>95</td>\n",
       "      <td>131</td>\n",
       "      <td>172</td>\n",
       "      <td>...</td>\n",
       "      <td>61</td>\n",
       "      <td>49</td>\n",
       "      <td>11</td>\n",
       "      <td>124</td>\n",
       "      <td>63</td>\n",
       "      <td>56</td>\n",
       "      <td>7</td>\n",
       "      <td>47</td>\n",
       "      <td>85</td>\n",
       "      <td>60</td>\n",
       "    </tr>\n",
       "    <tr>\n",
       "      <th>...</th>\n",
       "      <td>...</td>\n",
       "      <td>...</td>\n",
       "      <td>...</td>\n",
       "      <td>...</td>\n",
       "      <td>...</td>\n",
       "      <td>...</td>\n",
       "      <td>...</td>\n",
       "      <td>...</td>\n",
       "      <td>...</td>\n",
       "      <td>...</td>\n",
       "      <td>...</td>\n",
       "      <td>...</td>\n",
       "      <td>...</td>\n",
       "      <td>...</td>\n",
       "      <td>...</td>\n",
       "      <td>...</td>\n",
       "      <td>...</td>\n",
       "      <td>...</td>\n",
       "      <td>...</td>\n",
       "      <td>...</td>\n",
       "      <td>...</td>\n",
       "    </tr>\n",
       "    <tr>\n",
       "      <th>517</th>\n",
       "      <td>01/12/2014</td>\n",
       "      <td>95</td>\n",
       "      <td>12</td>\n",
       "      <td>41</td>\n",
       "      <td>6</td>\n",
       "      <td>39</td>\n",
       "      <td>0</td>\n",
       "      <td>16</td>\n",
       "      <td>15</td>\n",
       "      <td>14</td>\n",
       "      <td>...</td>\n",
       "      <td>56</td>\n",
       "      <td>7</td>\n",
       "      <td>13</td>\n",
       "      <td>122</td>\n",
       "      <td>4</td>\n",
       "      <td>23</td>\n",
       "      <td>4</td>\n",
       "      <td>11</td>\n",
       "      <td>110</td>\n",
       "      <td>10</td>\n",
       "    </tr>\n",
       "    <tr>\n",
       "      <th>518</th>\n",
       "      <td>08/12/2014</td>\n",
       "      <td>43</td>\n",
       "      <td>39</td>\n",
       "      <td>31</td>\n",
       "      <td>10</td>\n",
       "      <td>34</td>\n",
       "      <td>3</td>\n",
       "      <td>2</td>\n",
       "      <td>30</td>\n",
       "      <td>25</td>\n",
       "      <td>...</td>\n",
       "      <td>34</td>\n",
       "      <td>20</td>\n",
       "      <td>18</td>\n",
       "      <td>70</td>\n",
       "      <td>36</td>\n",
       "      <td>5</td>\n",
       "      <td>23</td>\n",
       "      <td>22</td>\n",
       "      <td>63</td>\n",
       "      <td>9</td>\n",
       "    </tr>\n",
       "    <tr>\n",
       "      <th>519</th>\n",
       "      <td>15/12/2014</td>\n",
       "      <td>35</td>\n",
       "      <td>7</td>\n",
       "      <td>15</td>\n",
       "      <td>0</td>\n",
       "      <td>0</td>\n",
       "      <td>0</td>\n",
       "      <td>7</td>\n",
       "      <td>7</td>\n",
       "      <td>4</td>\n",
       "      <td>...</td>\n",
       "      <td>30</td>\n",
       "      <td>36</td>\n",
       "      <td>4</td>\n",
       "      <td>72</td>\n",
       "      <td>5</td>\n",
       "      <td>21</td>\n",
       "      <td>14</td>\n",
       "      <td>0</td>\n",
       "      <td>17</td>\n",
       "      <td>10</td>\n",
       "    </tr>\n",
       "    <tr>\n",
       "      <th>520</th>\n",
       "      <td>22/12/2014</td>\n",
       "      <td>30</td>\n",
       "      <td>23</td>\n",
       "      <td>8</td>\n",
       "      <td>0</td>\n",
       "      <td>11</td>\n",
       "      <td>4</td>\n",
       "      <td>1</td>\n",
       "      <td>9</td>\n",
       "      <td>10</td>\n",
       "      <td>...</td>\n",
       "      <td>27</td>\n",
       "      <td>17</td>\n",
       "      <td>21</td>\n",
       "      <td>12</td>\n",
       "      <td>5</td>\n",
       "      <td>17</td>\n",
       "      <td>1</td>\n",
       "      <td>1</td>\n",
       "      <td>83</td>\n",
       "      <td>2</td>\n",
       "    </tr>\n",
       "    <tr>\n",
       "      <th>521</th>\n",
       "      <td>29/12/2014</td>\n",
       "      <td>259</td>\n",
       "      <td>42</td>\n",
       "      <td>49</td>\n",
       "      <td>32</td>\n",
       "      <td>38</td>\n",
       "      <td>15</td>\n",
       "      <td>11</td>\n",
       "      <td>98</td>\n",
       "      <td>61</td>\n",
       "      <td>...</td>\n",
       "      <td>112</td>\n",
       "      <td>61</td>\n",
       "      <td>53</td>\n",
       "      <td>256</td>\n",
       "      <td>45</td>\n",
       "      <td>39</td>\n",
       "      <td>27</td>\n",
       "      <td>11</td>\n",
       "      <td>103</td>\n",
       "      <td>25</td>\n",
       "    </tr>\n",
       "  </tbody>\n",
       "</table>\n",
       "<p>522 rows × 21 columns</p>\n",
       "</div>"
      ],
      "text/plain": [
       "           Date  BUDAPEST  BARANYA  BACS  BEKES  BORSOD  CSONGRAD  FEJER  \\\n",
       "0    03/01/2005       168       79    30    173     169        42    136   \n",
       "1    10/01/2005       157       60    30     92     200        53     51   \n",
       "2    17/01/2005        96       44    31     86      93        30     93   \n",
       "3    24/01/2005       163       49    43    126      46        39     52   \n",
       "4    31/01/2005       122       78    53     87     103        34     95   \n",
       "..          ...       ...      ...   ...    ...     ...       ...    ...   \n",
       "517  01/12/2014        95       12    41      6      39         0     16   \n",
       "518  08/12/2014        43       39    31     10      34         3      2   \n",
       "519  15/12/2014        35        7    15      0       0         0      7   \n",
       "520  22/12/2014        30       23     8      0      11         4      1   \n",
       "521  29/12/2014       259       42    49     32      38        15     11   \n",
       "\n",
       "     GYOR  HAJDU  ...  JASZ  KOMAROM  NOGRAD  PEST  SOMOGY  SZABOLCS  TOLNA  \\\n",
       "0     120    162  ...   130       57       2   178      66        64     11   \n",
       "1      70     84  ...    80       50      29   141      48        29     58   \n",
       "2      84    191  ...    64       46       4   157      33        33     24   \n",
       "3     114    107  ...    63       54      14   107      66        50     25   \n",
       "4     131    172  ...    61       49      11   124      63        56      7   \n",
       "..    ...    ...  ...   ...      ...     ...   ...     ...       ...    ...   \n",
       "517    15     14  ...    56        7      13   122       4        23      4   \n",
       "518    30     25  ...    34       20      18    70      36         5     23   \n",
       "519     7      4  ...    30       36       4    72       5        21     14   \n",
       "520     9     10  ...    27       17      21    12       5        17      1   \n",
       "521    98     61  ...   112       61      53   256      45        39     27   \n",
       "\n",
       "     VAS  VESZPREM  ZALA  \n",
       "0     29        87    68  \n",
       "1     53        68    26  \n",
       "2     18        62    44  \n",
       "3     21        43    31  \n",
       "4     47        85    60  \n",
       "..   ...       ...   ...  \n",
       "517   11       110    10  \n",
       "518   22        63     9  \n",
       "519    0        17    10  \n",
       "520    1        83     2  \n",
       "521   11       103    25  \n",
       "\n",
       "[522 rows x 21 columns]"
      ]
     },
     "execution_count": 137,
     "metadata": {},
     "output_type": "execute_result"
    }
   ],
   "source": [
    "HungaryDataset = pd.read_csv('hungary_chickenpox.csv', sep = ',')\n",
    "HungaryDataset"
   ]
  },
  {
   "cell_type": "markdown",
   "id": "bcf71d22",
   "metadata": {},
   "source": [
    "&emsp;Para fazer a clusterização irei remover a coluna Date, além disso,note que agora estou usando uma csv (vírgula como separador) e com um cabeçalho, então vou precisar modificar, um pouco, a função dados:"
   ]
  },
  {
   "cell_type": "code",
   "execution_count": 33,
   "id": "b6aab19e",
   "metadata": {},
   "outputs": [],
   "source": [
    "import pandas as pd\n",
    "from math import floor, ceil\n",
    "\n",
    "def Dados_2(caminho, dataset = 'training', norm = True):\n",
    "    X = pd.read_csv(caminho, sep = ',')\n",
    "    del X['Date']\n",
    "     \n",
    "    if(norm):\n",
    "        X = (X-X.min())/(X.max()-X.min()) # Min-Max\n",
    "        \n",
    "    training, test = [], []\n",
    "    Total = len(X)\n",
    "    \n",
    "    for i in range(5):\n",
    "        training.append(X.head(floor(Total*0.18)))\n",
    "        X = X.iloc[floor(Total*0.18):]\n",
    "        test.append(X.head(ceil(Total*0.02)))\n",
    "        X = X.iloc[ceil(Total*0.02):]\n",
    "    \n",
    "    training = pd.concat(training)\n",
    "    test = pd.concat(test)\n",
    "    if(dataset == 'training'):\n",
    "        return training.values\n",
    "    elif(dataset == 'test'):\n",
    "        return test.values"
   ]
  },
  {
   "cell_type": "markdown",
   "id": "660ced63",
   "metadata": {},
   "source": [
    "&emsp; Agora vamos fazer a leitura dos dados:"
   ]
  },
  {
   "cell_type": "code",
   "execution_count": 34,
   "id": "08dfdfde",
   "metadata": {},
   "outputs": [],
   "source": [
    "hungaryTrainingSet = Dados_2('hungary_chickenpox.csv', dataset = 'training', norm = True)"
   ]
  },
  {
   "cell_type": "markdown",
   "id": "4772178e",
   "metadata": {},
   "source": [
    "#### 3.1 Kmeans:\n",
    "\n",
    "&emsp; Para executar o k-means, precisamos achar um bom número k de clusters, para isso vou executar o método do cotovelo. <br>"
   ]
  },
  {
   "cell_type": "code",
   "execution_count": 35,
   "id": "34cec0c3",
   "metadata": {},
   "outputs": [
    {
     "data": {
      "image/png": "[encoded data removed]",
      "text/plain": [
       "<Figure size 432x288 with 1 Axes>"
      ]
     },
     "metadata": {
      "needs_background": "light"
     },
     "output_type": "display_data"
    }
   ],
   "source": [
    "elbow(hungaryTrainingSet)"
   ]
  },
  {
   "cell_type": "markdown",
   "id": "cee95aa7",
   "metadata": {},
   "source": [
    "&emsp; Parece que temos um cotovelo em k = 2, irei fazer a clusterização para esse valor de k:"
   ]
  },
  {
   "cell_type": "code",
   "execution_count": 36,
   "id": "158fae48",
   "metadata": {},
   "outputs": [],
   "source": [
    "clusters_hungary, centroides_hungary = kmeans(hungaryTrainingSet, k = 2)"
   ]
  },
  {
   "cell_type": "markdown",
   "id": "72310028",
   "metadata": {},
   "source": [
    "&emsp; Ótimo, mas e agora? Não temos como fazer o plot dos clusters visto que estamos trabalhando com 20 dimensões, mas mesmo assim vou plotar um gráfico 2d com as duas primeiras features pra ver o que irei obter:"
   ]
  },
  {
   "cell_type": "code",
   "execution_count": 39,
   "id": "508d8ac2",
   "metadata": {},
   "outputs": [
    {
     "data": {
      "image/png": "[encoded data removed]",
      "text/plain": [
       "<Figure size 432x288 with 1 Axes>"
      ]
     },
     "metadata": {
      "needs_background": "light"
     },
     "output_type": "display_data"
    }
   ],
   "source": [
    "kmeansplot(clusters_hungary, centroides_hungary)"
   ]
  },
  {
   "cell_type": "markdown",
   "id": "c096683e",
   "metadata": {},
   "source": [
    "<p style=\"text-align: justify;\">\n",
    "&emsp; Mesmo sendo possivel ver dois clusters, esse resultado não nos diz praticamente nada, afinal nele estão faltando serem consideradas 18 dimensões, portanto o que irei fazer agora é fazer a classificação do conjunto de testes e definir o coeficiente de silhouette para avaliar o resultado final. \n",
    "</p>"
   ]
  },
  {
   "cell_type": "code",
   "execution_count": 139,
   "id": "4ef1ccae",
   "metadata": {},
   "outputs": [],
   "source": [
    "hungaryTestSet = Dados_2('hungary_chickenpox.csv', dataset = 'test', norm = True)\n",
    "hungaryClusterTest =  defineCluster(centroides_hungary, hungaryTestSet)"
   ]
  },
  {
   "cell_type": "markdown",
   "id": "3c174972",
   "metadata": {},
   "source": [
    "<p style=\"text-align: justify;\">\n",
    "&emsp; Lembre-se que a função defineCluster() classica os pontos do conjunto de teste baseados nos centroides que foram definidos usando o conjunto de treinamento. <br>\n",
    "&emsp; Agora irei implementar e executar o coeficiente de silhouette em relação aos clusters do conjunto de testes obtidos na função defineCluster() e os centroides obtidos no k-means.\n",
    "</p>"
   ]
  },
  {
   "cell_type": "code",
   "execution_count": 149,
   "id": "0f678638",
   "metadata": {
    "jupyter": {
     "source_hidden": true
    },
    "tags": []
   },
   "outputs": [],
   "source": [
    "def coeficienteA(clusters):\n",
    "    a = []\n",
    "    for i in range(len(clusters)):\n",
    "        for j in range(len(clusters[i])):\n",
    "            Sum = 0\n",
    "            for k in range(len(clusters[i])):\n",
    "                if(k!=j):\n",
    "                    Sum += np.linalg.norm(clusters[i][j] - clusters[i][k])\n",
    "            a.append(Sum/(len(clusters[i])))\n",
    "    return a\n",
    "\n",
    "def coeficienteB(clusters,centroides):\n",
    "    b = []\n",
    "    for i in range(len(clusters)):\n",
    "        for j in range(len(clusters[i])):\n",
    "            Sum = 0\n",
    "            atual = -1\n",
    "            indice = 0\n",
    "            for q in range(len(centroides)):\n",
    "                if(q != i and (atual < 0 or atual < np.linalg.norm(clusters[i][j] - centroides[q]))):\n",
    "                    indice = q\n",
    "            for k in range(len(clusters[indice])):\n",
    "                Sum += np.linalg.norm(clusters[i][j] - clusters[indice][k])\n",
    "            b.append(Sum/(len(clusters[indice]) - 1))\n",
    "    return b\n",
    "\n",
    "def coeficenteSilhouette(clusters,centroides):\n",
    "    a = coeficienteA(clusters)\n",
    "    b = coeficienteB(clusters,centroides)\n",
    "    coef = []\n",
    "    \n",
    "    for i in range(len(a)):\n",
    "        s = (b[i]-a[i])/max(a[i],b[i])\n",
    "        coef.append(s)\n",
    "        \n",
    "    retorno = []\n",
    "    aux = 0\n",
    "    for i in range(len(clusters)):\n",
    "        retorno.append([])\n",
    "        for j in range(len(clusters[i])):\n",
    "            retorno[i].append(coef[aux])\n",
    "            aux += 1\n",
    "            \n",
    "    media = np.average(coef)\n",
    "    \n",
    "    return media"
   ]
  },
  {
   "cell_type": "code",
   "execution_count": 153,
   "id": "04c22bfe",
   "metadata": {},
   "outputs": [
    {
     "name": "stdout",
     "output_type": "stream",
     "text": [
      "Coeficiente de Silhouette = 0.33288\n"
     ]
    }
   ],
   "source": [
    "Coef = coeficenteSilhouette(hungaryClusterTest, centroides_hungary)\n",
    "print(\"Coeficiente de Silhouette = \" + str(Coef.round(5)))"
   ]
  },
  {
   "cell_type": "markdown",
   "id": "2cd915b7",
   "metadata": {},
   "source": [
    "&emsp; Acima é possivel ver que o coeficiente de silhouette é mediano, o que nos leva a crer que a classificação do conjunto de testes nos centroides do k-means foi razoavel, porém devemos lembrar que um baixo coeficiente de silhouette não quer dizer que a clusterização foi ruim."
   ]
  },
  {
   "cell_type": "markdown",
   "id": "c84112f3",
   "metadata": {},
   "source": [
    "#### 3.2 Hierarchical Clustering:"
   ]
  },
  {
   "cell_type": "markdown",
   "id": "bc806be2",
   "metadata": {},
   "source": [
    "<p style=\"text-align: justify;\">\n",
    "&emsp; Antes de analisar os dados vamos relembrar como implementei o hierarchical clustering, originalmente esse algoritmo vai fazendo merge dos clusters próximos até sobrar apenas um único cluster, após isso é analisado as distancias no dendrograma e é decidido qual o número ideal de clusters.<br>\n",
    "&emsp; Essencialmente eu fiz o mesmo algoritmo, só alterei a parte de decisão do número de clusters, no meu código deve-se passar um número k de clusters como parametro, assim o código irá parar quando o número de clusters for menor ou igual a k e todo elemento do conjunto de dados já ter sido analisado. <br>\n",
    "&emsp; E porque estou relembrando toda essa história? Bom, quando fui executar o meu código para k = 2, obtive como resultado apenas 1 cluster, isso acontece porque obtemos 1 cluster antes do código analisar todo conjunto de dados e nenhum ponto novo a ser analisado está longe o bastante para se criar um novo cluster. Mas esse problema não ocorre apenas para k = 2, ocorre também para varios valores de k, veja abaixo:<br>\n",
    "</p>"
   ]
  },
  {
   "cell_type": "code",
   "execution_count": 182,
   "id": "0d7a795d",
   "metadata": {},
   "outputs": [
    {
     "name": "stdout",
     "output_type": "stream",
     "text": [
      "Para k = 2 Número de clusters = 1\n",
      "Para k = 3 Número de clusters = 1\n",
      "Para k = 4 Número de clusters = 1\n",
      "Para k = 5 Número de clusters = 1\n",
      "Para k = 6 Número de clusters = 1\n",
      "Para k = 7 Número de clusters = 1\n",
      "Para k = 8 Número de clusters = 1\n",
      "Para k = 9 Número de clusters = 1\n"
     ]
    }
   ],
   "source": [
    "for k in range(2,10):\n",
    "    clusters_hungary_H = Hierarquico(hungaryTrainingSet, k = 6)\n",
    "    print(\"Para k = \" + str(k) + \" Número de clusters = \" + str(len(clusters_hungary_H)))"
   ]
  },
  {
   "cell_type": "code",
   "execution_count": 181,
   "id": "8f8ba12f",
   "metadata": {},
   "outputs": [
    {
     "data": {
      "image/png": "[encoded data removed]",
      "text/plain": [
       "<Figure size 432x288 with 1 Axes>"
      ]
     },
     "metadata": {
      "needs_background": "light"
     },
     "output_type": "display_data"
    }
   ],
   "source": [
    "hierarchicalPlot(clusters_hungary_H)"
   ]
  },
  {
   "cell_type": "code",
   "execution_count": null,
   "id": "2ae93feb",
   "metadata": {},
   "outputs": [],
   "source": []
  }
 ],
 "metadata": {
  "kernelspec": {
   "display_name": "Python 3",
   "language": "python",
   "name": "python3"
  },
  "language_info": {
   "codemirror_mode": {
    "name": "ipython",
    "version": 3
   },
   "file_extension": ".py",
   "mimetype": "text/x-python",
   "name": "python",
   "nbconvert_exporter": "python",
   "pygments_lexer": "ipython3",
   "version": "3.6.9"
  },
  "toc-autonumbering": false,
  "toc-showmarkdowntxt": false
 },
 "nbformat": 4,
 "nbformat_minor": 5
}
