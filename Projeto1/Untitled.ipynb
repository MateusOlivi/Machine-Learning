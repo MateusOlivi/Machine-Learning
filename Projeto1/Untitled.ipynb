{
 "cells": [
  {
   "cell_type": "code",
   "execution_count": 44,
   "id": "07a0db73",
   "metadata": {},
   "outputs": [],
   "source": [
    "import pandas as pd\n",
    "from math import floor, ceil\n",
    "def Dados(caminho, dataset = 'training', norm = True):\n",
    "    X = pd.read_csv(caminho, sep = ' ', header = None)\n",
    "    if(norm):\n",
    "        X = (X-X.min())/(X.max()-X.min()) # Min-Max\n",
    "        \n",
    "    training = []\n",
    "    test = []\n",
    "    Total = len(X)\n",
    "    for i in range(5):\n",
    "        training.append(X.head(floor(Total*0.18)))\n",
    "        X = X.iloc[floor(Total*0.18):]\n",
    "        test.append(X.head(ceil(Total*0.02)))\n",
    "        X = X.iloc[ceil(Total*0.02):]\n",
    "    \n",
    "    training = pd.concat(training)\n",
    "    test = pd.concat(test)\n",
    "    return training, test"
   ]
  },
  {
   "cell_type": "code",
   "execution_count": 45,
   "id": "78cda9fd",
   "metadata": {},
   "outputs": [],
   "source": [
    "training, test = Dados('cluster.dat', dataset = 'test', norm = False)"
   ]
  },
  {
   "cell_type": "code",
   "execution_count": 48,
   "id": "ad48c616",
   "metadata": {},
   "outputs": [
    {
     "data": {
      "text/plain": [
       "515"
      ]
     },
     "execution_count": 48,
     "metadata": {},
     "output_type": "execute_result"
    }
   ],
   "source": [
    "len(training)"
   ]
  },
  {
   "cell_type": "code",
   "execution_count": null,
   "id": "29725e88",
   "metadata": {},
   "outputs": [],
   "source": []
  }
 ],
 "metadata": {
  "kernelspec": {
   "display_name": "Python 3",
   "language": "python",
   "name": "python3"
  },
  "language_info": {
   "codemirror_mode": {
    "name": "ipython",
    "version": 3
   },
   "file_extension": ".py",
   "mimetype": "text/x-python",
   "name": "python",
   "nbconvert_exporter": "python",
   "pygments_lexer": "ipython3",
   "version": "3.6.9"
  }
 },
 "nbformat": 4,
 "nbformat_minor": 5
}
