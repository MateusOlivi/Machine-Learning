{
 "cells": [
  {
   "cell_type": "code",
   "execution_count": 44,
   "id": "ff465377",
   "metadata": {},
   "outputs": [],
   "source": [
    "import pandas as pd\n",
    "from math import floor, ceil\n",
    "def Dados(caminho, dataset = 'training', norm = True):\n",
    "    X = pd.read_csv(caminho, sep = ' ', header = None)\n",
    "    if(norm):\n",
    "        X = (X-X.min())/(X.max()-X.min()) # Min-Max\n",
    "        \n",
    "    training = []\n",
    "    test = []\n",
    "    Total = len(X)\n",
    "    for i in range(5):\n",
    "        training.append(X.head(floor(Total*0.18)))\n",
    "        X = X.iloc[floor(Total*0.18):]\n",
    "        test.append(X.head(ceil(Total*0.02)))\n",
    "        X = X.iloc[ceil(Total*0.02):]\n",
    "    \n",
    "    training = pd.concat(training)\n",
    "    test = pd.concat(test)\n",
    "    return training, test"
   ]
  },
  {
   "cell_type": "code",
   "execution_count": 45,
   "id": "05fb1db7",
   "metadata": {},
   "outputs": [],
   "source": [
    "training, test = Dados('cluster.dat', dataset = 'test', norm = False)"
   ]
  },
  {
   "cell_type": "code",
   "execution_count": 48,
   "id": "4c5e3874",
   "metadata": {},
   "outputs": [
    {
     "data": {
      "text/plain": [
       "515"
      ]
     },
     "execution_count": 48,
     "metadata": {},
     "output_type": "execute_result"
    }
   ],
   "source": [
    "len(training)"
   ]
  },
  {
   "cell_type": "markdown",
   "id": "d013391d",
   "metadata": {},
   "source": [
    "<p style=\"text-align: justify;\">\n",
    "&emsp; Agora irei usar um novo dataset, o Boston Housing Dataset, este conjunto de dados contém informações coletadas pelo Serviço de Censo dos Estados Unidos sobre habitações em áreas de Boston.<br>\n",
    "&emsp; Existem 14 atributos em cada caso do conjunto de dados. Eles são:<br>\n",
    "&emsp;&emsp;CRIM: taxa de criminalidade per capita por cidade.<br>\n",
    "&emsp;&emsp;ZN: proporção de terrenos residenciais zoneados para lotes com mais de 25.000 pés quadrados.<br>\n",
    "&emsp;&emsp;INDUS: proporção de acres de negócios não varejistas por cidade.<br>\n",
    "&emsp;&emsp;CHAS: variável dummy de Charles River (1 se a área limita o rio; 0 caso contrário).<br>\n",
    "&emsp;&emsp;NOX: concentração de óxidos nítricos (partes por 10 milhões).<br>\n",
    "&emsp;&emsp;RM: número médio de cômodos por habitação.<br>\n",
    "&emsp;&emsp;IDADE: proporção de unidades ocupadas pelo proprietário construídas antes de 1940.<br>\n",
    "&emsp;&emsp;DIS: distâncias ponderadas até cinco centros de empregos de Boston.<br>\n",
    "&emsp;&emsp;RAD: índice de acessibilidade a rodovias radiais.<br>\n",
    "&emsp;&emsp;TAX: valor total da taxa de imposto sobre a propriedade por USD 10.000.<br>\n",
    "&emsp;&emsp;PTRATIO - proporo aluno-professor por cidade.<br>\n",
    "&emsp;&emsp;B - 1000*(Bk - 0,63) ^ 2 onde Bk é a proporção de negros por cidade.<br>\n",
    "&emsp;&emsp;LSTAT - status mais baixo da população (percentual).<br>\n",
    "&emsp;&emsp;MEDV - Valor médio de casas ocupadas pelo proprietário em USD 1.000<br>\n",
    "&emsp; Este dataset possui 506 linhas e 14 features\n",
    "</p>"
   ]
  },
  {
   "cell_type": "code",
   "execution_count": 1,
   "id": "b36a3674",
   "metadata": {},
   "outputs": [
    {
     "name": "stdout",
     "output_type": "stream",
     "text": [
      "The history saving thread hit an unexpected error (DatabaseError('database disk image is malformed',)).History will not be written to the database.\n"
     ]
    }
   ],
   "source": [
    "def coeficienteA(clusters):\n",
    "    a = []\n",
    "    for i in range(len(clusters)):\n",
    "        for j in range(len(clusters[i])):\n",
    "            Sum = 0\n",
    "            for k in range(len(clusters[i])):\n",
    "                if(k!=j):\n",
    "                    Sum += np.linalg.norm(clusters[i][j] - clusters[i][k])\n",
    "            a.append(Sum/(len(clusters[i])))\n",
    "    return a\n",
    "\n",
    "def coeficienteB(clusters,centroides):\n",
    "    b = []\n",
    "    for i in range(len(clusters)):\n",
    "        for j in range(len(clusters[i])):\n",
    "            Sum = 0\n",
    "            atual = -1\n",
    "            indice = 0\n",
    "            for q in range(len(centroides)):\n",
    "                if(q != i and (atual < 0 or atual < np.linalg.norm(clusters[i][j] - centroides[q]))):\n",
    "                    indice = q\n",
    "            for k in range(len(clusters[indice])):\n",
    "                Sum += np.linalg.norm(clusters[i][j] - clusters[indice][k])\n",
    "            b.append(Sum/(len(clusters[indice])-1))\n",
    "    return b\n",
    "\n",
    "def coeficenteSilhouette(clusters,centroides):\n",
    "    a = coeficienteA(clusters)\n",
    "    b = coeficienteB(clusters,centroides)\n",
    "    coef = []\n",
    "    \n",
    "    for i in range(len(a)):\n",
    "        s = (b[i]-a[i])/max(a[i],b[i])\n",
    "        coef.append(s)\n",
    "        \n",
    "    retorno = []\n",
    "    aux = 0\n",
    "    for i in range(len(clusters)):\n",
    "        retorno.append([])\n",
    "        for j in range(len(clusters[i])):\n",
    "            retorno[i].append(coef[aux])\n",
    "            aux += 1\n",
    "            \n",
    "    media = np.average(coef)\n",
    "    \n",
    "    return media"
   ]
  },
  {
   "cell_type": "code",
   "execution_count": null,
   "id": "ceb39c75",
   "metadata": {},
   "outputs": [],
   "source": []
  }
 ],
 "metadata": {
  "kernelspec": {
   "display_name": "Python 3",
   "language": "python",
   "name": "python3"
  },
  "language_info": {
   "codemirror_mode": {
    "name": "ipython",
    "version": 3
   },
   "file_extension": ".py",
   "mimetype": "text/x-python",
   "name": "python",
   "nbconvert_exporter": "python",
   "pygments_lexer": "ipython3",
   "version": "3.6.9"
  }
 },
 "nbformat": 4,
 "nbformat_minor": 5
}
