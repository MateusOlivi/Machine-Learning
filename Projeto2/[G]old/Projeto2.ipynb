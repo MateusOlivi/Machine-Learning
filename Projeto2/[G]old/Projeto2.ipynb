{
 "cells": [
  {
   "cell_type": "code",
   "execution_count": 18,
   "id": "8a23a632",
   "metadata": {},
   "outputs": [],
   "source": [
    "import numpy as np"
   ]
  },
  {
   "cell_type": "markdown",
   "id": "d061a0c4",
   "metadata": {},
   "source": [
    "y = h(x1,x2) = T0 + T1.x1 + T2.x2 "
   ]
  },
  {
   "cell_type": "code",
   "execution_count": 19,
   "id": "8bf3cddd",
   "metadata": {},
   "outputs": [],
   "source": [
    "def funcao_custo(Theta, X, Y):\n",
    "    custo = 0\n",
    "    m = len(X)\n",
    "    \n",
    "    for i in range(m):\n",
    "        hi = Theta[0] + Theta[1]*X[i][0] + Theta[2]*X[i][1]\n",
    "        yi = Y[i]\n",
    "        \n",
    "        temp = (hi - yi)**2\n",
    "        \n",
    "        custo += temp\n",
    "        \n",
    "    custo = custo/(2*m)\n",
    "    \n",
    "    return custo"
   ]
  },
  {
   "cell_type": "code",
   "execution_count": 20,
   "id": "b3a217bb",
   "metadata": {},
   "outputs": [],
   "source": [
    "def gradienteDescendente(Theta, X, Y, alpha):\n",
    "    m = len(X)\n",
    "    \n",
    "    for _ in range(1500):\n",
    "        Sum0, Sum1, Sum2 = 0,0,0\n",
    "        \n",
    "        for i in range(m):\n",
    "            hi = Theta[0] + Theta[1]*X[i][0] + Theta[2]*X[i][1]\n",
    "            yi = Y[i]\n",
    "            \n",
    "            temp = (hi - yi)\n",
    "            \n",
    "            Sum0 += temp*1\n",
    "            Sum1 += temp*X[i][0]\n",
    "            Sum2 += temp*X[i][1]\n",
    "                \n",
    "        Theta[0] = Theta[0] - alpha*Sum0/m\n",
    "        Theta[1] = Theta[1] - alpha*Sum1/m\n",
    "        Theta[2] = Theta[2] - alpha*Sum2/m\n",
    "        \n",
    "    return Theta"
   ]
  },
  {
   "cell_type": "code",
   "execution_count": 116,
   "id": "1315df7c",
   "metadata": {},
   "outputs": [
    {
     "data": {
      "text/plain": [
       "[1.3133480949877723, 2.348126185574101, 3.6614742805618796]"
      ]
     },
     "execution_count": 116,
     "metadata": {},
     "output_type": "execute_result"
    }
   ],
   "source": [
    "Theta = [1,2,3]\n",
    "X = [[1,2],[3,4],[3,4]]\n",
    "Y = [11,23,23]\n",
    "alpha = 0.01\n",
    "gradienteDescendente(Theta, X, Y, alpha)"
   ]
  },
  {
   "cell_type": "code",
   "execution_count": 21,
   "id": "2c2d4a6a",
   "metadata": {},
   "outputs": [],
   "source": [
    "import pandas as pd\n",
    "def Dados(caminho, norm = True):\n",
    "    X = pd.read_csv(caminho, sep = '\\\\s+', header = None)\n",
    "    if(norm):\n",
    "        X = (X-X.min())/(X.max()-X.min()) # Min-Max\\n\",\n",
    "    return X.values"
   ]
  },
  {
   "cell_type": "code",
   "execution_count": 22,
   "id": "c93815f8",
   "metadata": {},
   "outputs": [],
   "source": [
    "Data = Dados('kick1.dat', norm = True)"
   ]
  },
  {
   "cell_type": "code",
   "execution_count": 25,
   "id": "34fec88e",
   "metadata": {},
   "outputs": [],
   "source": [
    "X = np.array([Data[:,0],Data[:,2]])\n",
    "Y = Data[:,1]\n",
    "Theta = [0,0,0]"
   ]
  },
  {
   "cell_type": "code",
   "execution_count": 26,
   "id": "8cafaf74",
   "metadata": {},
   "outputs": [
    {
     "data": {
      "text/plain": [
       "[0.5113207924854289, 0.4695414035184604, 0.02787259244095333]"
      ]
     },
     "execution_count": 26,
     "metadata": {},
     "output_type": "execute_result"
    }
   ],
   "source": [
    "alpha = 0.01\n",
    "gradienteDescendente(Theta, X, Y, alpha)"
   ]
  },
  {
   "cell_type": "code",
   "execution_count": null,
   "id": "c1b21df6",
   "metadata": {},
   "outputs": [],
   "source": [
    "import matplotlib.pyplot as plt\n",
    "plt.scatter(cluster[:,0],cluster[:,1], s=75, color='r',  edgecolor='k')\n",
    "plt.legend(scatterpoints=1)\n",
    "plt.show()"
   ]
  }
 ],
 "metadata": {
  "kernelspec": {
   "display_name": "Python 3",
   "language": "python",
   "name": "python3"
  },
  "language_info": {
   "codemirror_mode": {
    "name": "ipython",
    "version": 3
   },
   "file_extension": ".py",
   "mimetype": "text/x-python",
   "name": "python",
   "nbconvert_exporter": "python",
   "pygments_lexer": "ipython3",
   "version": "3.6.9"
  }
 },
 "nbformat": 4,
 "nbformat_minor": 5
}
