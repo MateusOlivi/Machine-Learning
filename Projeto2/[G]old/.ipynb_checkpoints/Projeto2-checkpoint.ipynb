{
 "cells": [
  {
   "cell_type": "code",
   "execution_count": 2,
   "id": "202d1c32",
   "metadata": {},
   "outputs": [],
   "source": [
    "import numpy as np"
   ]
  },
  {
   "cell_type": "markdown",
   "id": "74ef0a1b",
   "metadata": {},
   "source": [
    "y = h(x1,x2) = T0 + T1.x1 + T2.x2 "
   ]
  },
  {
   "cell_type": "code",
   "execution_count": 43,
   "id": "b3821b77",
   "metadata": {},
   "outputs": [],
   "source": [
    "def funcao_custo(Theta, X, Y):\n",
    "    custo = 0\n",
    "    m = len(X)\n",
    "    \n",
    "    for i in range(m):\n",
    "        hi = Theta[0] + Theta[1]*X[i][0] + Theta[2]*X[i][1]\n",
    "        yi = Y[i]\n",
    "        \n",
    "        temp = (hi - yi)**2\n",
    "        \n",
    "        custo += temp\n",
    "        \n",
    "    custo = custo/(2*m)\n",
    "    \n",
    "    return custo"
   ]
  },
  {
   "cell_type": "code",
   "execution_count": 82,
   "id": "ff3cf292",
   "metadata": {},
   "outputs": [],
   "source": [
    "def gradienteDescendente(Theta, X, Y, alpha):\n",
    "    m = len(X)\n",
    "    \n",
    "    for _ in range(150000):\n",
    "        \n",
    "        Sum0 = 0\n",
    "        Sum1 = 0\n",
    "        Sum2 = 0\n",
    "        \n",
    "        for i in range(m):\n",
    "            hi = Theta[0] + Theta[1]*X[i][0] #+ Theta[2]*X[i][1]\n",
    "            yi = Y[i]\n",
    "            \n",
    "            temp = (hi - yi)\n",
    "            \n",
    "            Sum0 += temp*1\n",
    "            Sum1 += temp*X[i][0]\n",
    "            #Sum2 += temp*X[i][1]\n",
    "                \n",
    "        tempTheta0 = Theta[0] - alpha*Sum0/m\n",
    "        tempTheta1 = Theta[1] - alpha*Sum1/m\n",
    "        #tempTheta2 = Theta[2] - alpha*Sum2/m\n",
    "        \n",
    "        Theta[0] = tempTheta0\n",
    "        Theta[1] = tempTheta1\n",
    "        #Theta[2] = tempTheta2\n",
    "              \n",
    "    return Theta"
   ]
  },
  {
   "cell_type": "code",
   "execution_count": 85,
   "id": "fb39214a",
   "metadata": {},
   "outputs": [
    {
     "data": {
      "text/plain": [
       "[1.5099112127218168e-14, 1.9999999999999936]"
      ]
     },
     "execution_count": 85,
     "metadata": {},
     "output_type": "execute_result"
    }
   ],
   "source": [
    "Theta = [0,0,0]\n",
    "X = [[1,2],[3,4],[3,4]]\n",
    "Y = [11,23,23]\n",
    "alpha = 0.01\n",
    "gradienteDescendente(Theta, X, Y, alpha)"
   ]
  },
  {
   "cell_type": "code",
   "execution_count": 58,
   "id": "987fc75b",
   "metadata": {},
   "outputs": [],
   "source": [
    "def gradient_descent(X, theta, y, alpha=0.01, iterações=1500):\n",
    "    \"\"\"\n",
    "    Essa função faz com que o algorítmo tente encontrar os parâmetros para minimizar\n",
    "    os erros do modelo. Ele retornará um vetor contendo os valores dos parâmetros\n",
    "    e também o erro do modelo em cada uma vezes que o algorítmo é rodado,\n",
    "    \n",
    "    Os valores alpha e iterations tem um valor padrão de 0.01 e 1500, respectivamente.\n",
    "    \n",
    "    \"\"\"\n",
    "    # Iniciando um vetor de zeros para armazenar os valores da função de custo em\n",
    "    # cada uma das iterações.\n",
    "    J_historia = np.zeros(iterações)\n",
    "    m = len(y)\n",
    "    for i in range(iterações):\n",
    "        # A função de custo continuará a diminuir até a chegada na ótima global.\n",
    "        theta = theta - (alpha*1/m*np.matmul(X.T, (np.matmul(X, theta) - y)))\n",
    "        J_historia[i] = computando_função_custo(X, theta, y)\n",
    "    return theta, J_historia"
   ]
  },
  {
   "cell_type": "code",
   "execution_count": 62,
   "id": "cd25e922",
   "metadata": {},
   "outputs": [
    {
     "ename": "AttributeError",
     "evalue": "'list' object has no attribute 'T'",
     "output_type": "error",
     "traceback": [
      "\u001b[0;31m---------------------------------------------------------------------------\u001b[0m",
      "\u001b[0;31mAttributeError\u001b[0m                            Traceback (most recent call last)",
      "\u001b[0;32m<ipython-input-62-9e0b0a85a7f6>\u001b[0m in \u001b[0;36m<module>\u001b[0;34m\u001b[0m\n\u001b[1;32m      2\u001b[0m \u001b[0mX\u001b[0m \u001b[0;34m=\u001b[0m \u001b[0;34m[\u001b[0m\u001b[0;34m[\u001b[0m\u001b[0;36m1\u001b[0m\u001b[0;34m,\u001b[0m\u001b[0;36m1\u001b[0m\u001b[0;34m,\u001b[0m\u001b[0;36m2\u001b[0m\u001b[0;34m]\u001b[0m\u001b[0;34m,\u001b[0m\u001b[0;34m[\u001b[0m\u001b[0;36m1\u001b[0m\u001b[0;34m,\u001b[0m\u001b[0;36m3\u001b[0m\u001b[0;34m,\u001b[0m\u001b[0;36m4\u001b[0m\u001b[0;34m]\u001b[0m\u001b[0;34m,\u001b[0m\u001b[0;34m[\u001b[0m\u001b[0;36m1\u001b[0m\u001b[0;34m,\u001b[0m\u001b[0;36m3\u001b[0m\u001b[0;34m,\u001b[0m\u001b[0;36m4\u001b[0m\u001b[0;34m]\u001b[0m\u001b[0;34m]\u001b[0m\u001b[0;34m\u001b[0m\u001b[0;34m\u001b[0m\u001b[0m\n\u001b[1;32m      3\u001b[0m \u001b[0mY\u001b[0m \u001b[0;34m=\u001b[0m \u001b[0;34m[\u001b[0m\u001b[0;36m11\u001b[0m\u001b[0;34m,\u001b[0m\u001b[0;36m23\u001b[0m\u001b[0;34m,\u001b[0m\u001b[0;36m23\u001b[0m\u001b[0;34m]\u001b[0m\u001b[0;34m\u001b[0m\u001b[0;34m\u001b[0m\u001b[0m\n\u001b[0;32m----> 4\u001b[0;31m \u001b[0mgradient_descent\u001b[0m\u001b[0;34m(\u001b[0m\u001b[0mX\u001b[0m\u001b[0;34m,\u001b[0m \u001b[0mTheta\u001b[0m\u001b[0;34m,\u001b[0m \u001b[0mY\u001b[0m\u001b[0;34m)\u001b[0m\u001b[0;34m\u001b[0m\u001b[0;34m\u001b[0m\u001b[0m\n\u001b[0m",
      "\u001b[0;32m<ipython-input-58-d6ef2954a673>\u001b[0m in \u001b[0;36mgradient_descent\u001b[0;34m(X, theta, y, alpha, iterações)\u001b[0m\n\u001b[1;32m     14\u001b[0m     \u001b[0;32mfor\u001b[0m \u001b[0mi\u001b[0m \u001b[0;32min\u001b[0m \u001b[0mrange\u001b[0m\u001b[0;34m(\u001b[0m\u001b[0miterações\u001b[0m\u001b[0;34m)\u001b[0m\u001b[0;34m:\u001b[0m\u001b[0;34m\u001b[0m\u001b[0;34m\u001b[0m\u001b[0m\n\u001b[1;32m     15\u001b[0m         \u001b[0;31m# A função de custo continuará a diminuir até a chegada na ótima global.\u001b[0m\u001b[0;34m\u001b[0m\u001b[0;34m\u001b[0m\u001b[0;34m\u001b[0m\u001b[0m\n\u001b[0;32m---> 16\u001b[0;31m         \u001b[0mtheta\u001b[0m \u001b[0;34m=\u001b[0m \u001b[0mtheta\u001b[0m \u001b[0;34m-\u001b[0m \u001b[0;34m(\u001b[0m\u001b[0malpha\u001b[0m\u001b[0;34m*\u001b[0m\u001b[0;36m1\u001b[0m\u001b[0;34m/\u001b[0m\u001b[0mm\u001b[0m\u001b[0;34m*\u001b[0m\u001b[0mnp\u001b[0m\u001b[0;34m.\u001b[0m\u001b[0mmatmul\u001b[0m\u001b[0;34m(\u001b[0m\u001b[0mX\u001b[0m\u001b[0;34m.\u001b[0m\u001b[0mT\u001b[0m\u001b[0;34m,\u001b[0m \u001b[0;34m(\u001b[0m\u001b[0mnp\u001b[0m\u001b[0;34m.\u001b[0m\u001b[0mmatmul\u001b[0m\u001b[0;34m(\u001b[0m\u001b[0mX\u001b[0m\u001b[0;34m,\u001b[0m \u001b[0mtheta\u001b[0m\u001b[0;34m)\u001b[0m \u001b[0;34m-\u001b[0m \u001b[0my\u001b[0m\u001b[0;34m)\u001b[0m\u001b[0;34m)\u001b[0m\u001b[0;34m)\u001b[0m\u001b[0;34m\u001b[0m\u001b[0;34m\u001b[0m\u001b[0m\n\u001b[0m\u001b[1;32m     17\u001b[0m         \u001b[0mJ_historia\u001b[0m\u001b[0;34m[\u001b[0m\u001b[0mi\u001b[0m\u001b[0;34m]\u001b[0m \u001b[0;34m=\u001b[0m \u001b[0mcomputando_função_custo\u001b[0m\u001b[0;34m(\u001b[0m\u001b[0mX\u001b[0m\u001b[0;34m,\u001b[0m \u001b[0mtheta\u001b[0m\u001b[0;34m,\u001b[0m \u001b[0my\u001b[0m\u001b[0;34m)\u001b[0m\u001b[0;34m\u001b[0m\u001b[0;34m\u001b[0m\u001b[0m\n\u001b[1;32m     18\u001b[0m     \u001b[0;32mreturn\u001b[0m \u001b[0mtheta\u001b[0m\u001b[0;34m,\u001b[0m \u001b[0mJ_historia\u001b[0m\u001b[0;34m\u001b[0m\u001b[0;34m\u001b[0m\u001b[0m\n",
      "\u001b[0;31mAttributeError\u001b[0m: 'list' object has no attribute 'T'"
     ]
    }
   ],
   "source": [
    "Theta = [1,2,3]\n",
    "X = [[1,1,2],[1,3,4],[1,3,4]]\n",
    "Y = [11,23,23]\n",
    "gradient_descent(X, Theta, Y)"
   ]
  },
  {
   "cell_type": "code",
   "execution_count": 69,
   "id": "a902e3d1",
   "metadata": {},
   "outputs": [],
   "source": [
    "def f(x,y):\n",
    "    return 1 +2*x + 4*y"
   ]
  },
  {
   "cell_type": "code",
   "execution_count": 71,
   "id": "b1879c73",
   "metadata": {},
   "outputs": [
    {
     "data": {
      "text/plain": [
       "23"
      ]
     },
     "execution_count": 71,
     "metadata": {},
     "output_type": "execute_result"
    }
   ],
   "source": [
    "f(3,4)"
   ]
  },
  {
   "cell_type": "code",
   "execution_count": null,
   "id": "6f79cd2c",
   "metadata": {},
   "outputs": [],
   "source": []
  }
 ],
 "metadata": {
  "kernelspec": {
   "display_name": "Python 3",
   "language": "python",
   "name": "python3"
  },
  "language_info": {
   "codemirror_mode": {
    "name": "ipython",
    "version": 3
   },
   "file_extension": ".py",
   "mimetype": "text/x-python",
   "name": "python",
   "nbconvert_exporter": "python",
   "pygments_lexer": "ipython3",
   "version": "3.6.9"
  }
 },
 "nbformat": 4,
 "nbformat_minor": 5
}
