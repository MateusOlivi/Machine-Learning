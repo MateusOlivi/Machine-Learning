{
 "cells": [
  {
   "cell_type": "code",
   "execution_count": 1,
   "metadata": {},
   "outputs": [],
   "source": [
    "import numpy as np\n",
    "import sys\n",
    "import matplotlib.pyplot"
   ]
  },
  {
   "cell_type": "code",
   "execution_count": 2,
   "metadata": {},
   "outputs": [
    {
     "data": {
      "text/plain": [
       "sys.version_info(major=2, minor=7, micro=18, releaselevel='final', serial=0)"
      ]
     },
     "execution_count": 2,
     "metadata": {},
     "output_type": "execute_result"
    }
   ],
   "source": [
    "sys.version_info\n"
   ]
  },
  {
   "cell_type": "code",
   "execution_count": null,
   "metadata": {},
   "outputs": [],
   "source": []
  },
  {
   "cell_type": "code",
   "execution_count": 3,
   "metadata": {},
   "outputs": [
    {
     "name": "stdout",
     "output_type": "stream",
     "text": [
      "print zuado?\n"
     ]
    }
   ],
   "source": [
    "print \"print zuado?\""
   ]
  },
  {
   "cell_type": "code",
   "execution_count": 4,
   "metadata": {},
   "outputs": [],
   "source": [
    "from pacman import runGames,loadAgent\n",
    "from pacman import Directions\n",
    "from util import Queue\n",
    "import textDisplay\n",
    "import game\n",
    "import layout\n",
    "import random\n",
    "import graphicsDisplay"
   ]
  },
  {
   "cell_type": "markdown",
   "metadata": {},
   "source": [
    "qual das 5 direcoes ele toma\n",
    "\n",
    "- absoluto \n",
    "- POV pacman\n",
    "\n",
    "coisas uteis\n",
    "\n",
    "- posicao pacman\n",
    "- quais acoes sao validas\n",
    "- a posiçao dos fantasma ( distancia aos fantasmas, distancia manhatan)\n",
    "- a posiçao das comidas ( matriz pode ser grande)\n",
    "- a posicao das capsulas\n",
    "- os fantasmas tao assustados ou n\n",
    "\n",
    "tomar decisao\n",
    "\n",
    "- 1 equacao pra cada direcao\n",
    "- emula que vc fez 1 acao legao\n",
    "    - ve a pontucao = score - p1 * distancia (f1) - p2 * distancia (f2)\n",
    "- pontua = score -(-1 se assustado) p1 * distancia (f1) - (-1 se assustado) p2 * distancia (f2)\n",
    "\n"
   ]
  },
  {
   "cell_type": "code",
   "execution_count": 5,
   "metadata": {},
   "outputs": [],
   "source": [
    "class MyOwnAgent(game.Agent):\n",
    "    \"An agent that does whatever he feels like doing\"  \n",
    "\n",
    "    def getAction(self, state):\n",
    "        legal = state.getLegalPacmanActions()\n",
    "        currentPos=state.getPacmanPosition()\n",
    "        if Directions.STOP in legal: legal.remove(Directions.STOP)\n",
    "    \n",
    "        numCapsulesCurrentState=len(state.getCapsules())\n",
    "        currentScaredGhosts=self.countScaredGhosts(state)\n",
    "        currentFoodMatrix = state.getFood()\n",
    "        \n",
    "        successors = [(state.generateSuccessor(0, action), action) for action in legal]\n",
    "        scored = [(self.scoreEvaluation(state,numCapsulesCurrentState,currentScaredGhosts,currentPos,currentFoodMatrix), action) for state, action in successors]\n",
    "        bestScore = max(scored)[0]\n",
    "        bestActions = [pair[1] for pair in scored if pair[0] == bestScore]\n",
    "        \n",
    "        return random.choice(bestActions)\n",
    "        \n",
    "    def getLegalSteps(self, pos, walls, visited):\n",
    "        \n",
    "        coluna=pos[0]\n",
    "        linha=pos[1]\n",
    "        \n",
    "        lista=[]\n",
    "\n",
    "        if(coluna+1 <walls.width):\n",
    "            if(walls[coluna+1][linha]==False and visited[coluna+1][linha]==0):\n",
    "                lista.append((coluna+1,linha))\n",
    "        if(coluna-1 >= 0):\n",
    "            if(walls[coluna-1][linha]==False and visited[coluna-1][linha]==0):\n",
    "                lista.append((coluna-1,linha))\n",
    "        if(linha+1 <walls.height ):\n",
    "            if(walls[coluna][linha+1]==False and visited[coluna][linha+1]==0):\n",
    "                lista.append((coluna,linha+1))\n",
    "        if(linha-1 >= 0):\n",
    "            if(walls[coluna][linha-1]==False and visited[coluna][linha-1]==0):\n",
    "                lista.append((coluna,linha-1))\n",
    "        return lista\n",
    "    \n",
    "    def findNearestFood(self, state, posIni, posForbidden):\n",
    "        walls= state.getWalls()\n",
    "        foods= state.getFood()\n",
    "        queue = Queue()\n",
    "        \n",
    "        \n",
    "        visited=np.zeros((walls.width,walls.height))\n",
    "        visited[posForbidden[0]][posForbidden[1]]=1\n",
    "                \n",
    "        matHeight=foods.height\n",
    "        matWidth=foods.width\n",
    "        \n",
    "        queue.push((posIni, 1))\n",
    "        while(not queue.isEmpty()):\n",
    "            current=queue.pop()\n",
    "            pos=current[0]\n",
    "            stepsUntilNow=current[1]\n",
    "            \n",
    "            if(foods[pos[0]][pos[1]]==True):\n",
    "                return stepsUntilNow\n",
    "            \n",
    "            visited[pos[0]][pos[1]]=1\n",
    "            possibles=self.getLegalSteps(pos,walls, visited) # pos = (x,y), walls = matriz true/falso, visitados  [(2,2),(2,1),(2,3)]\n",
    "            for possibleMove in possibles:\n",
    "                queue.push( (possibleMove, stepsUntilNow+1))\n",
    "        return -1\n",
    "    \n",
    "    def bfsDistance(self, state, posIni, posForbidden, endPos):\n",
    "        walls= state.getWalls()\n",
    "        queue = Queue()\n",
    "        \n",
    "        \n",
    "        visited=np.zeros((walls.width,walls.height))\n",
    "        visited[posForbidden[0]][posForbidden[1]] = 1\n",
    "                \n",
    "        queue.push((posIni, 1))\n",
    "        while(not queue.isEmpty()):\n",
    "            current=queue.pop()\n",
    "            pos=current[0]\n",
    "            stepsUntilNow=current[1]\n",
    "            \n",
    "            if(pos[0] == endPos[0] and pos[1] == endPos[1]):\n",
    "                return stepsUntilNow\n",
    "            \n",
    "            visited[pos[0]][pos[1]]=1\n",
    "            possibles = self.getLegalSteps(pos,walls, visited) # pos = (x,y), walls = matriz true/falso, visitados  [(2,2),(2,1),(2,3)]\n",
    "            for possibleMove in possibles:\n",
    "                queue.push( (possibleMove, stepsUntilNow+1))\n",
    "        return -1\n",
    "    \n",
    "    def ghostDistances(self, ghostPositions, pacmanPosition, state, currentPacmanPos):\n",
    "        distancias = []\n",
    "        \n",
    "        for i in range(len(ghostPositions)):\n",
    "            dist = self.bfsDistance(state, pacmanPosition, currentPacmanPos, ghostPositions[i])\n",
    "            distancias.append(dist)\n",
    "        \n",
    "        return distancias\n",
    "    \n",
    "    def bonusByGhostDistance(self, peso, distancias, state):\n",
    "        n_ghosts = len(distancias)\n",
    "        scared_timer = []\n",
    "\n",
    "        for i in range(n_ghosts):\n",
    "            scared_timer.append(state.getGhostStates()[i].scaredTimer)\n",
    "            \n",
    "        bonus = 0\n",
    "        for i in range(n_ghosts):\n",
    "            if(scared_timer[i] == 0):\n",
    "                bonus += peso*distancias[i]\n",
    "        return bonus\n",
    "    \n",
    "    def capsuleDistanceBonus(self, peso, capsulePositions, pacmanPosition, state, currentPacmanPos):\n",
    "        bonus = 0\n",
    "        for capsule in capsulePositions:\n",
    "            distancia = self.bfsDistance(state, pacmanPosition, currentPacmanPos, capsule)\n",
    "            bonus -= peso*distancia\n",
    "        return bonus\n",
    "    \n",
    "    def capsuleComsumptionBonus(self, peso, numCapsulesCurrentState, capsulePositions):\n",
    "        num_capsulas = numCapsulesCurrentState\n",
    "        num_capsulas_estado_seguinte = len(capsulePositions)\n",
    "        \n",
    "        bonus = (num_capsulas - num_capsulas_estado_seguinte) * peso\n",
    "        \n",
    "        return bonus\n",
    "    \n",
    "    def countScaredGhosts(self, state):\n",
    "        total=0\n",
    "        for ghost in state.getGhostStates():\n",
    "            if(ghost.scaredTimer !=0):\n",
    "                total+=1\n",
    "        return total\n",
    "    \n",
    "    def scaredGhostBonus(self, state, peso, distancias):\n",
    "        n_ghosts = self.countScaredGhosts(state)\n",
    "        scared_timer = []\n",
    "\n",
    "        for i in range(n_ghosts):\n",
    "            scared_timer.append(state.getGhostStates()[i].scaredTimer)\n",
    "            \n",
    "        bonus = 0\n",
    "        for i in range(n_ghosts):\n",
    "            if(scared_timer[i] != 0):\n",
    "                bonus -= peso*distancias[i]\n",
    "        return bonus\n",
    "    \n",
    "    def eatScaredGhosts(self, state, peso, currentScaredGhosts):\n",
    "        scaredGhostsInThisState = self.countScaredGhosts(state)\n",
    "        difScaredGhosts= currentScaredGhosts - scaredGhostsInThisState\n",
    "        \n",
    "        bonus=0\n",
    "        if(difScaredGhosts > 0):\n",
    "            bonus= peso * difScaredGhosts   \n",
    "        return bonus\n",
    "    \n",
    "    def nearestFoodBonus(self, state, peso, pacmanPosition,currentPacmanPos):\n",
    "        nearestFoodDistance= self.findNearestFood(state, pacmanPosition,currentPacmanPos)\n",
    "        bonus = -1* peso * nearestFoodDistance      \n",
    "        \n",
    "        return bonus\n",
    "    \n",
    "    def eatFoodBonus(self, peso, currentFoodMatrix, foodMatrix):\n",
    "        diff = currentFoodMatrix.count(True) - foodMatrix.count(True)\n",
    "        bonus = peso*diff\n",
    "        \n",
    "        return bonus\n",
    "    def scoreEvaluation(self, state, numCapsulesCurrentState, currentScaredGhosts, currentPacmanPos, currentFoodMatrix):\n",
    "        \n",
    "        p1= 1.2\n",
    "        p2= 2.1\n",
    "        p3= 150\n",
    "        p4= 2.5\n",
    "        p5 = 10\n",
    "        p6 = 2\n",
    "        p7 = 50\n",
    "        score = state.getScore()\n",
    "        \n",
    "        ghostPositions = state.getGhostPositions() \n",
    "        pacmanPosition = state.getPacmanPosition()\n",
    "        capsulePositions = state.getCapsules() \n",
    "        foodMatrix = state.getFood()\n",
    "        \n",
    "        distancias_fantasmas = self.ghostDistances(ghostPositions, pacmanPosition, state, currentPacmanPos)\n",
    "        bonus_distancia_fantasmas = self.bonusByGhostDistance(p1, distancias_fantasmas, state)\n",
    "        \n",
    "        bonus_distancia_capsula = self.capsuleDistanceBonus(p2, capsulePositions, pacmanPosition, state, currentPacmanPos)\n",
    "        bonus_consumir_capsula = self.capsuleComsumptionBonus(p3, numCapsulesCurrentState, capsulePositions) \n",
    "\n",
    "        bonus_distancia_fantasmas_assustados = self.scaredGhostBonus(state, p4, distancias_fantasmas)\n",
    "        bonus_comer_fantasmas = self.eatScaredGhosts(state, p5, currentScaredGhosts)\n",
    "                \n",
    "        bonus_comida_proxima =  self.nearestFoodBonus(state, p6, pacmanPosition,currentPacmanPos)              \n",
    "        bonus_comer_comida = self.eatFoodBonus(p7, currentFoodMatrix, foodMatrix)  \n",
    "                \n",
    "        formula = score + bonus_distancia_fantasmas + bonus_distancia_capsula + bonus_consumir_capsula + bonus_distancia_fantasmas_assustados + bonus_comer_fantasmas + bonus_comida_proxima + bonus_comer_comida\n",
    "        return formula"
   ]
  },
  {
   "cell_type": "code",
   "execution_count": 6,
   "metadata": {},
   "outputs": [],
   "source": [
    "props={}\n",
    "pacman = MyOwnAgent()\n",
    "ghostType = loadAgent('RandomGhost', True)\n",
    "textDisplay.SLEEP_TIME = 0\n",
    "props['layout'] = layout.getLayout( 'mediumClassic' )\n",
    "props['pacman'] = pacman\n",
    "props['ghosts'] = [ghostType( i+1 ) for i in range( 2 )]\n",
    "#props['ghosts'] = []\n",
    "# props['display'] = textDisplay.PacmanGraphics()\n",
    "#props['display'] = textDisplay.NullGraphics()\n",
    "props['display'] = graphicsDisplay.PacmanGraphics(1, frameTime = 0.10)\n",
    "props['numGames'] = 5\n",
    "props['record'] = False\n",
    "props['catchExceptions'] = False\n",
    "props['timeout'] = 10"
   ]
  },
  {
   "cell_type": "code",
   "execution_count": null,
   "metadata": {
    "scrolled": true
   },
   "outputs": [
    {
     "name": "stdout",
     "output_type": "stream",
     "text": [
      "Pacman emerges victorious! Score: 1859\n"
     ]
    }
   ],
   "source": [
    "res=runGames(**props)"
   ]
  },
  {
   "cell_type": "code",
   "execution_count": null,
   "metadata": {},
   "outputs": [],
   "source": [
    "runGames(**props)"
   ]
  },
  {
   "cell_type": "code",
   "execution_count": null,
   "metadata": {},
   "outputs": [],
   "source": [
    "res[0].state.getScore()"
   ]
  },
  {
   "cell_type": "code",
   "execution_count": null,
   "metadata": {},
   "outputs": [],
   "source": [
    "print(res[0].agentOutput[0].getvalue())"
   ]
  },
  {
   "cell_type": "code",
   "execution_count": null,
   "metadata": {},
   "outputs": [],
   "source": [
    "dir(res[0].agentOutput[0])"
   ]
  },
  {
   "cell_type": "code",
   "execution_count": null,
   "metadata": {},
   "outputs": [],
   "source": [
    "#  pontuacao = 100\n",
    "#  x O         C = 50\n",
    "#              C = 50\n",
    "#              C = -50*30 = -1500\n",
    "#              C = -50*30 = -1500"
   ]
  }
 ],
 "metadata": {
  "kernelspec": {
   "display_name": "Python 2",
   "language": "python",
   "name": "python2"
  },
  "language_info": {
   "codemirror_mode": {
    "name": "ipython",
    "version": 2
   },
   "file_extension": ".py",
   "mimetype": "text/x-python",
   "name": "python",
   "nbconvert_exporter": "python",
   "pygments_lexer": "ipython2",
   "version": "2.7.18"
  }
 },
 "nbformat": 4,
 "nbformat_minor": 4
}
