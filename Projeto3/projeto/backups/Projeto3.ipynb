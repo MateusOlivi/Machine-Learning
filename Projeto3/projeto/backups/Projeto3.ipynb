{
 "cells": [
  {
   "cell_type": "markdown",
   "id": "a4753438-d604-4cb7-bd76-a6fa0b4ce13c",
   "metadata": {},
   "source": [
    "# MC886 - Projeto 3\n",
    "Aluno: Mateus Feitosa Olivi  RA: 222059"
   ]
  },
  {
   "cell_type": "markdown",
   "id": "a9951461-086f-4a16-8cbe-61d13dedd284",
   "metadata": {
    "tags": []
   },
   "source": [
    "# Parte 1\n",
    "\n",
    "<p style=\"text-align: justify;\">\n",
    "&emsp; Nesta parte do projeto vou aplicar uma técnica de computação evolucionária para resolver o problema do Pac-man. O trabalho consiste em encontrar uma solução adequada para o problema, avaliando-o segundo diversos parâmetros.\n",
    "</p>"
   ]
  },
  {
   "cell_type": "markdown",
   "id": "c02a0422-a96c-4c5f-b811-9a48d5279d48",
   "metadata": {},
   "source": [
    "<p style=\"text-align: justify;\">\n",
    "&emsp; A primeira coisa que preciso fazer é definir um modelo para se aplicar o algoritmo evolucionario, isso é, um modelo que resolve o problema do Pac-man baseando-se em um conjunto de entradas que define um cromossomo. <br>\n",
    "&emsp; No tópico a seguir vou detalhar como achei o meu modelo:\n",
    "</p>"
   ]
  },
  {
   "cell_type": "markdown",
   "id": "993c8754-8753-4981-bfd2-c3cfa15cf89f",
   "metadata": {},
   "source": [
    "### 1. Definição do modelo\n",
    "<p style=\"text-align: justify;\">\n",
    "&emsp; Antes de tudo vou importar as dependências para rodar o pacman:\n",
    "</p>"
   ]
  },
  {
   "cell_type": "markdown",
   "id": "46c4dc7a-4ab5-44bd-bb05-891c915729bb",
   "metadata": {},
   "source": [
    "#### 1.1 Dependências: "
   ]
  },
  {
   "cell_type": "code",
   "execution_count": 1,
   "id": "62ad953d-2edb-4f45-8a6c-0b9aeb1e496c",
   "metadata": {},
   "outputs": [],
   "source": [
    "import sys, os\n",
    "os.chdir(sys.path[0]+'/search')\n",
    "\n",
    "from pacman import runGames, loadAgent\n",
    "from pacman import Directions\n",
    "import pacmanAgents\n",
    "from util import Queue\n",
    "import textDisplay\n",
    "import game\n",
    "import layout\n",
    "import random\n",
    "import graphicsDisplay\n",
    "\n",
    "import numpy as np "
   ]
  },
  {
   "cell_type": "markdown",
   "id": "8a818705-ce54-4f9b-8d78-59a2425fabcb",
   "metadata": {},
   "source": [
    "#### 1.2 Ideia inicial: \n",
    "\n",
    "<p style=\"text-align: justify;\">\n",
    "&emsp; Para definir o modelo usei como inspiração inicial o GreedyAgent, esse agente está definido nos arquivos do pacman, mais precisamente no arquivo pacmanAgents.py, vamos dar uma olhada no que ele faz:\n",
    "</p>"
   ]
  },
  {
   "cell_type": "code",
   "execution_count": 2,
   "id": "0641d982-436e-4bb1-9547-241fe0525b49",
   "metadata": {},
   "outputs": [],
   "source": [
    "class GreedyAgent(game.Agent):\n",
    "    def __init__(self, evalFn=\"scoreEvaluation\"):\n",
    "        self.evaluationFunction = util.lookup(evalFn, globals())\n",
    "        assert self.evaluationFunction != None\n",
    "\n",
    "    def getAction(self, state):\n",
    "        # Generate candidate actions\n",
    "        legal = state.getLegalPacmanActions()\n",
    "        if Directions.STOP in legal: legal.remove(Directions.STOP)\n",
    "\n",
    "        successors = [(state.generateSuccessor(0, action), action) for action in legal]\n",
    "        scored = [(self.evaluationFunction(state), action) for state, action in successors]\n",
    "        bestScore = max(scored)[0]\n",
    "        bestActions = [pair[1] for pair in scored if pair[0] == bestScore]\n",
    "        return random.choice(bestActions)\n",
    "\n",
    "def scoreEvaluation(state):\n",
    "    return state.getScore()"
   ]
  },
  {
   "cell_type": "markdown",
   "id": "b40b7ab9-b853-4859-8160-1e4d70d990bf",
   "metadata": {},
   "source": [
    "<p style=\"text-align: justify;\">\n",
    "&emsp; Esse código é relativamente simples, no método getAction, inicialmente o agente verifica quais ações ele pode fazer, isso é, quais direção ele pode ir, desconsiderando a possibilidade do pacman ficar parado, para isso o código usa um método já implementado, que é o getLegalPacmanActions(). Após isso, para cada possível direção, o código gera os estados sucessores possíveis, utilizando o método generateSuccessor(). Por fim esse agente verifica qual desses estados tem o melhor score, utilizando a função scoreEvaluation, e então retorna qual é a melhor ação a ser executada para se obter o maior score. <br>\n",
    "&emsp; Mas note, esse agente é muito simplista, e não pode ser utilizado para se aplicar um algoritmo genético, porém posso modificar ele de tal forma a obter um agente em que poderei aplicar o algoritmo. "
   ]
  },
  {
   "cell_type": "markdown",
   "id": "ca0318a7-cc98-4e32-990b-cbf6d309efba",
   "metadata": {},
   "source": [
    "#### 1.3 O meu modelo\n",
    "<p style=\"text-align: justify;\">\n",
    "&emsp; No GreedyAgent, o estado é avaliado segundo o score que foi feito, porém isso não é necessariamente bom, já que as vezes o pacman deve fazer desviar de um fantasma, ou então prefirir comer uma capsula ao invés de comer uma comida, ou seja, no meu modelo a avaliação do estado não será baseado, exclusivamente, no score. <br>\n",
    "&emsp; Essa avaliação pode seguir a lógica de se obter algum bônus por fazer alguma ação positiva que não é contabilizada pelo score, ou seja, o pacman pode obter um bônus por se afastar de um fantasma, por estar perto de um fantasma assustado, por se aproximar de uma capsula, por consumir uma capsula, por consumir um fantasma assustado, por se aproximar de uma comida e por consumir uma comida. <br>\n",
    "&emsp; Um exemplo para essa lógica: se eu tiver um alto bônus por aproximar de uma comida e um baixo bônus por ficar longe dos fantasmas, o pacman poderá morrer tentando pegar uma comida, porém na situacão oposta, o pacman ira prefirir ficar distantes dos fantasmas do que consumir comidas. <br>\n",
    "&emsp; Esses bônus poderão ser regulados com pesos que serão dados a eles, esses pesos são os parametros do meu modelo e determinará o grau de importancia para as decisões do pacman.<br>\n",
    "&emsp; Abaixo vou mostrar como calcularei cada bônus:<br>\n",
    "&emsp; <b>1)</b> Bônus por se distanciar dos fantasmas (BDF) : A lógica é a seguinte, o pacman deve ser incentivado a ficar longe dos fantasmas, então esse bonus é calculado pela distancia dos fantasmas multiplicado por um peso p1. <br>\n",
    "&emsp; <b>2)</b> Bônus por se aproximar de capsulas (BAC) : Aqui o pacman deve ser incentivado a se aproximar das capsulas, então esse bonus é calculado pelo negativo da distancia das capsulas multiplicado por um peso p2.<br>\n",
    "&emsp; <b>3)</b> Bônus por consumir capsulas (BCC) : Aqui o pacman deve ser incentivado a consumir as capsulas, então esse bonus é calculado pela diferença de capsulas entre o estado atual e no próximo, multiplicado por um peso p3.<br>\n",
    "&emsp; <b>4)</b> Bônus por se aproximar de fantasmas assustados (BAFA) : Aqui o pacman deve ser incentivado a se aproximar de fantamas assustados, então esse bonus é calculado pelo negativo das distancias dos fantasmas assustados multiplicado por um peso p4.<br>\n",
    "&emsp; <b>5)</b> Bônus por consumir fantasmas assustados (BCFA) : Aqui o pacman deve ser incentivado a consumir os fantasmas assustados, então esse bonus é calculado pela diferença de fantasmas no estado atual e no próximo ,multiplicado por um peso p5.<br>    \n",
    "&emsp; <b>6)</b> Bônus por se aproximar de alimentos. (BAA) : O pacman deve ser incentivado a se aproximar de comidas, então esse bonus é calculado pelo negativo da distancia da comida mais próxima multiplicado por um peso p6.<br>\n",
    "&emsp; <b>7)</b> Bônus por consumir alimentos (BCA) : O pacman deve ser incentivado a consumir os alimentos , então esse bonus é calculado pela diferença de alimentos no estado atual e no próximo, multiplicado por um peso p5.<br>\n",
    "&emsp; Sabendo disso pode-se dizer que a avaliação de um possível estado do jogo sera dado por:<br>\n",
    "</p>\n",
    "<p style=\"text-align: center;\">\n",
    "Avaliação = Score + BDF + BAC + BCC + BAFA + BCFA + BAA + BCA <br>  \n",
    "</p>\n",
    "<p style=\"text-align: justify;\">\n",
    "&emsp; As siglas utilizadas na expressão são as mesmas que foram definidas nas explicações dos bonus. <br>\n",
    "&emsp; Nesse meu modelo os pesos são extremamente importantes, pois eles que ditarão o quão impactante os bonus são na avaliação do estado, isso porque são os pesos que definem o que é mais importante para o pacman no jogo, por exemplo, se o peso para calcular o bônus por se distanciar dos fantasmas for muito alto, toda ação que o pacman fará será baseada em ficar longe dos fantasmas. Então é importante que se pondere muito bem os pesos.<br>\n",
    "&emsp; Mas como será definido os pesos? <br>\n",
    "&emsp; É ai que entra o algoritmo genético, se considerarmos que cada peso é um gene e que um indivíduo/cromossomo é um conjunto dos pesos na forma [p1,p2,p3,p4,p5,p6,p7], então pode-se aplicar um algoritmo genético e achar a melhor combinação de pesos para maximizar o score do pacman.<br>\n",
    "&emsp; Colocando tudo isso em prática, e codificando esse meu agente obtenho:    "
   ]
  },
  {
   "cell_type": "code",
   "execution_count": 3,
   "id": "0483d8a2-e7b1-454b-998c-f4587aec4aa1",
   "metadata": {},
   "outputs": [],
   "source": [
    "class SmartAgent(game.Agent):    \n",
    "    def __init__(self, pesos):\n",
    "        self.pesos = pesos\n",
    "        \n",
    "    def getAction(self, state):\n",
    "        legal = state.getLegalPacmanActions()\n",
    "        if Directions.STOP in legal: legal.remove(Directions.STOP)\n",
    "    \n",
    "        currentState = state\n",
    "        \n",
    "        successors = [(state.generateSuccessor(0, action), action) for action in legal]\n",
    "        evaluated = [(self.evaluation(state, currentState), action) for state, action in successors]\n",
    "        bestEvaluation = max(evaluated)[0]\n",
    "        bestActions = [pair[1] for pair in evaluated if pair[0] == bestEvaluation]\n",
    "        \n",
    "        return random.choice(bestActions)\n",
    "        \n",
    "    def getLegalSteps(self, pos, walls, visited): \n",
    "        coluna=pos[0]\n",
    "        linha=pos[1]\n",
    "        lista=[]\n",
    "        \n",
    "        if(coluna+1 <walls.width):\n",
    "            if(walls[coluna+1][linha]==False and visited[coluna+1][linha]==0):\n",
    "                lista.append((coluna+1,linha))\n",
    "        if(coluna-1 >= 0):\n",
    "            if(walls[coluna-1][linha]==False and visited[coluna-1][linha]==0):\n",
    "                lista.append((coluna-1,linha))\n",
    "        if(linha+1 <walls.height ):\n",
    "            if(walls[coluna][linha+1]==False and visited[coluna][linha+1]==0):\n",
    "                lista.append((coluna,linha+1))\n",
    "        if(linha-1 >= 0):\n",
    "            if(walls[coluna][linha-1]==False and visited[coluna][linha-1]==0):\n",
    "                lista.append((coluna,linha-1))\n",
    "        return lista\n",
    "    \n",
    "    def findNearestFood(self, state, posIni):\n",
    "        walls= state.getWalls()\n",
    "        foods= state.getFood()\n",
    "        queue = Queue()\n",
    "             \n",
    "        visited = np.zeros((walls.width,walls.height))\n",
    "        visited[posIni[0]][posIni[1]] = 1\n",
    "                \n",
    "        matHeight=foods.height\n",
    "        matWidth=foods.width\n",
    "        \n",
    "        queue.push((posIni, 1))\n",
    "        while(not queue.isEmpty()):\n",
    "            current=queue.pop()\n",
    "            pos=current[0]\n",
    "            stepsUntilNow=current[1]\n",
    "            \n",
    "            if(foods[pos[0]][pos[1]]==True):\n",
    "                return stepsUntilNow\n",
    "            \n",
    "            visited[pos[0]][pos[1]]=1\n",
    "            possibles=self.getLegalSteps(pos,walls, visited) # pos = (x,y), walls = matriz true/falso, visitados  [(2,2),(2,1),(2,3)]\n",
    "            for possibleMove in possibles:\n",
    "                queue.push( (possibleMove, stepsUntilNow+1))\n",
    "        return -1\n",
    "    \n",
    "    def bfsDistance(self, state, posIni, endPos):\n",
    "        walls= state.getWalls()\n",
    "        queue = Queue()\n",
    "        \n",
    "        \n",
    "        visited=np.zeros((walls.width,walls.height))\n",
    "        visited[posIni[0]][posIni[1]]=1\n",
    "                \n",
    "        queue.push((posIni, 1))\n",
    "        while(not queue.isEmpty()):\n",
    "            current=queue.pop()\n",
    "            pos=current[0]\n",
    "            stepsUntilNow=current[1]\n",
    "            \n",
    "            if(pos[0] == endPos[0] and pos[1] == endPos[1]):\n",
    "                return stepsUntilNow\n",
    "            \n",
    "            visited[pos[0]][pos[1]]=1\n",
    "            possibles = self.getLegalSteps(pos,walls, visited) # pos = (x,y), walls = matriz true/falso, visitados  [(2,2),(2,1),(2,3)]\n",
    "            for possibleMove in possibles:\n",
    "                queue.push( (possibleMove, stepsUntilNow+1))\n",
    "        return -1\n",
    "    \n",
    "    def ghostDistances(self, state):\n",
    "        ghostPositions = state.getGhostPositions() \n",
    "        pacmanPosition = state.getPacmanPosition()\n",
    "        \n",
    "        distancias = []\n",
    "    \n",
    "        for i in range(len(ghostPositions)):\n",
    "            dist = self.bfsDistance(state, pacmanPosition, ghostPositions[i])\n",
    "            distancias.append(dist)\n",
    "        \n",
    "        return distancias\n",
    "    \n",
    "    def bonusByGhostDistance(self, peso, distancias, state):\n",
    "        n_ghosts = len(distancias)\n",
    "        scared_timer = []\n",
    "\n",
    "        for i in range(n_ghosts):\n",
    "            scared_timer.append(state.getGhostStates()[i].scaredTimer)\n",
    "            \n",
    "        bonus = 0\n",
    "        for i in range(n_ghosts):\n",
    "            if(scared_timer[i] == 0):\n",
    "                bonus += peso*distancias[i]\n",
    "        return bonus\n",
    "    \n",
    "    def capsuleDistanceBonus(self, peso, state):\n",
    "        pacmanPosition = state.getPacmanPosition()\n",
    "        capsulePositions = state.getCapsules() \n",
    "        \n",
    "        bonus = 0\n",
    "        for capsule in capsulePositions:\n",
    "            distancia = self.bfsDistance(state, pacmanPosition, capsule)\n",
    "            bonus -= peso*distancia\n",
    "        return bonus\n",
    "    \n",
    "    def capsuleComsumptionBonus(self, peso, state, currentState):\n",
    "        capsulePositions = state.getCapsules() \n",
    "        numCapsulesCurrentState = len(currentState.getCapsules())\n",
    "\n",
    "        num_capsulas = numCapsulesCurrentState\n",
    "        num_capsulas_estado_seguinte = len(capsulePositions)\n",
    "        \n",
    "        bonus = (num_capsulas - num_capsulas_estado_seguinte) * peso\n",
    "        \n",
    "        return bonus\n",
    "    \n",
    "    def countScaredGhosts(self, state):\n",
    "        total = 0\n",
    "        for ghost in state.getGhostStates():\n",
    "            if(ghost.scaredTimer !=0):\n",
    "                total+=1\n",
    "        return total\n",
    "    \n",
    "    def scaredGhostBonus(self, peso, state, distancias):\n",
    "        n_ghosts = self.countScaredGhosts(state)\n",
    "        scared_timer = []\n",
    "\n",
    "        for i in range(n_ghosts):\n",
    "            scared_timer.append(state.getGhostStates()[i].scaredTimer)\n",
    "            \n",
    "        bonus = 0\n",
    "        for i in range(n_ghosts):\n",
    "            if(scared_timer[i] != 0):\n",
    "                bonus -= peso*distancias[i]\n",
    "        return bonus\n",
    "    \n",
    "    def eatScaredGhosts(self, peso, state, currentState):\n",
    "        \n",
    "        currentScaredGhosts=self.countScaredGhosts(currentState)\n",
    "        scaredGhostsInThisState = self.countScaredGhosts(state)\n",
    "        \n",
    "        dif = currentScaredGhosts - scaredGhostsInThisState\n",
    "        \n",
    "        bonus=0\n",
    "        if(dif > 0):\n",
    "            bonus= peso * dif\n",
    "        return bonus\n",
    "    \n",
    "    def nearestFoodBonus(self, peso, state):\n",
    "        pacmanPosition = state.getPacmanPosition()\n",
    "        nearestFoodDistance= self.findNearestFood(state, pacmanPosition)\n",
    "        bonus = -1* peso * nearestFoodDistance       \n",
    "        \n",
    "        return bonus\n",
    "    \n",
    "    def eatFoodBonus(self, peso, state, currentState):\n",
    "        foodMatrix = state.getFood()\n",
    "        currentFoodMatrix = currentState.getFood()\n",
    "\n",
    "        diff = currentFoodMatrix.count(True) - foodMatrix.count(True)\n",
    "        bonus = peso*diff\n",
    "        \n",
    "        return bonus\n",
    "    def evaluation(self, state, currentState):\n",
    "        \n",
    "        p1 = self.pesos[0]\n",
    "        p2 = self.pesos[1]\n",
    "        p3 = self.pesos[2]\n",
    "        p4 = self.pesos[3]\n",
    "        p5 = self.pesos[4]\n",
    "        p6 = self.pesos[5]\n",
    "        p7 = self.pesos[6]\n",
    "        \n",
    "        score = state.getScore()\n",
    "        \n",
    "        distancias_fantasmas = self.ghostDistances(state)\n",
    "        bonus_distancia_fantasmas = self.bonusByGhostDistance(p1, distancias_fantasmas, state)\n",
    "        \n",
    "        bonus_fantasmas_assustados = self.scaredGhostBonus(p2, state, distancias_fantasmas)\n",
    "        bonus_comer_fantasmas = self.eatScaredGhosts(p3*abs(bonus_fantasmas_assustados) + p3*abs(bonus_distancia_fantasmas), state, currentState)\n",
    "        \n",
    "        bonus_comida_proxima =  self.nearestFoodBonus(p4, state)            \n",
    "        bonus_comer_comida = self.eatFoodBonus(p5*abs(bonus_comida_proxima), state, currentState)  \n",
    "        \n",
    "        bonus_distancia_capsula = self.capsuleDistanceBonus(p6, state)\n",
    "        bonus_consumir_capsula = self.capsuleComsumptionBonus(p7*abs(bonus_distancia_capsula) + p7*abs(bonus_fantasmas_assustados), state, currentState) \n",
    "        \n",
    "        avaliacao = score + bonus_distancia_fantasmas + bonus_distancia_capsula + bonus_consumir_capsula + \\\n",
    "                    bonus_fantasmas_assustados + bonus_comer_fantasmas + bonus_comida_proxima + bonus_comer_comida\n",
    "        \n",
    "        return avaliacao"
   ]
  },
  {
   "cell_type": "markdown",
   "id": "1a83c705-95fc-46f4-ae6f-044ca5131912",
   "metadata": {},
   "source": [
    "<p style=\"text-align: justify;\">\n",
    "&emsp; Note que esse agente faz exatamente o que eu planejei, isso é, no getActions são gerados sucessores baseados nas direções possíveis, esses sucessores são avaliados com o método evaluation, e o sucessor escolhido é aquele que obteve melhor avaliação. Essa avaliação segue aquele mesmo esquema de bônus que já expliquei anteriormente. <br>\n",
    "&emsp; Ainda note que eu as distâncias foram calculadas usando a busca em largura (bfs), nas primeiras versões do meu código eu tinha usado a distância manhattan, porém como ela desconsidera as paredes não achei muito bom. <br>\n",
    "&emsp; Agora com o agente pronto posso aplicar o algoritmo genético e achar o melhor conjunto de pesos para o executar o agente. <br>"
   ]
  },
  {
   "cell_type": "markdown",
   "id": "04de5acc-3aa4-44a9-99f6-80c14fad96a3",
   "metadata": {},
   "source": [
    "### 2. Algoritmo genético"
   ]
  },
  {
   "cell_type": "markdown",
   "id": "71284eb9-2b46-4a8b-8574-648263d7a493",
   "metadata": {},
   "source": [
    "<p style=\"text-align: justify;\">\n",
    "&emsp; Para o algoritmo genético irei utilizar a biblioteca geneticalgs, ela pode ser obtida através do pip, porém eu baixei os seus módulos do github oficial <a href=\"https://github.com/bobirdmi/genetic-algorithms\">link aqui</a>. Essa biblioteca faz tudo o que preciso, porém eu tive que modifica-la para obter o valor de maior e menor fitness em cada geração (o que não era feito por padrão), também adicionei um trecho de código para imprimir quando cada geração tiver sido gerada. Uma outra modificação que fiz foi quanto ao elitismo, em aula vimos que no elitismo em uma nova geração são gerados n-1 indivíduos novos e adicionado o indivíduo de melhor fitness da geração anterior, porém nessa biblioteca isso era diferente, nela, quando o elitismo era ativado, a nova geração tinha n indivíduos novos e também o indivíduo de melhor fitness da geração anterior, ou seja, a cada geração a população aumentava em 1 indivíduo, a modificação que fiz foi para que o elitismo ficasse igual o que foi visto em aula (a mudança foi muito simples). A versão modificada da biblioteca está na pasta geneticalgsmod.\n",
    "</p> "
   ]
  },
  {
   "cell_type": "markdown",
   "id": "1d4f0f2c-3229-40fc-ae08-9b8bb1d1fb01",
   "metadata": {},
   "source": [
    "<p style=\"text-align: justify;\">\n",
    "&emsp; Vou explicar um pouco do algoritmo que vou utilizar, para isso vou demonstrar em um simples teste, nesse teste vou aplicar o algoritmo genético no meu modelo para o pacman sem nenhum fantasmas presente no layout smallClassic, vamos lá:\n",
    "</p>"
   ]
  },
  {
   "cell_type": "markdown",
   "id": "1e2dd702-84cb-4acc-afe2-c8b731a02750",
   "metadata": {},
   "source": [
    "#### 2.1 Treinamento para testar algoritmo\n",
    "<p style=\"text-align: justify;\">\n",
    "&emsp; Para aplicar o algoritmo genético preciso definir uma função de fitness, nessa função irei definir os argumentos para executar o pacman e iniciará um jogo, em que o agente será aquele que criei no tópico anterior. Os parâmetros dessa minha função será uma lista de pesos e o retorno dela será o score da partida:"
   ]
  },
  {
   "cell_type": "code",
   "execution_count": 4,
   "id": "28fde543-3733-4f19-8577-7312520980e2",
   "metadata": {},
   "outputs": [],
   "source": [
    "def fitfunctionNoGhosts(pesos):\n",
    "    argumentos ={}\n",
    "    pacman = SmartAgent(pesos)\n",
    "    ghostType = loadAgent('RandomGhost', True)\n",
    "    textDisplay.SLEEP_TIME = 0\n",
    "    argumentos['layout'] = layout.getLayout( 'smallClassic' )\n",
    "    argumentos['pacman'] = pacman\n",
    "    argumentos['ghosts'] = []\n",
    "    argumentos['display'] = textDisplay.NullGraphics()\n",
    "    argumentos['numGames'] = 1\n",
    "    argumentos['record'] = False\n",
    "    argumentos['catchExceptions'] = True\n",
    "    argumentos['timeout'] = 1\n",
    "    \n",
    "    res = runGames(**argumentos)\n",
    "    score = res[0].state.getScore() \n",
    "\n",
    "    return score"
   ]
  },
  {
   "cell_type": "markdown",
   "id": "95aad48e-ff15-4bc6-bcf9-9ad247b3743f",
   "metadata": {},
   "source": [
    "<p style=\"text-align: justify;\">\n",
    "&emsp; Função de fitness pronta, agora vou aplicar o algoritmo genético: <br>\n",
    "</p>"
   ]
  },
  {
   "cell_type": "markdown",
   "id": "c0310732-6430-489c-9147-bc5f2233ea3c",
   "metadata": {},
   "source": [
    "<p style=\"text-align: justify;\">\n",
    "&emsp; Primeiro vou definir o modelo do algoritmo, nele posso definir os seguintes parâmetros:\n",
    "</p>\n",
    "\n",
    "- fitness_func (function): A funcao de fitness será usada \n",
    "- optim (str): Qual tipo de fitness será feito, isso é, se iremos maximizar a função de fitness (parâmetro 'max') ou se iremos minimiza-la (parâmetro 'min') .\n",
    "- selection (str): Tipo de seleção que irá ser feita, \"rank\", \"roulette\" ou \"tournament\".\n",
    "- tournament_size (int): Define o tamanho do torneio no caso em que 'selection' == 'tournament'.\n",
    "- mut_prob (float): Probabilidade de ocorrer mutação.\n",
    "- mut_type (int): Nesse parâmetro se define quantos genes irão sofrer mutação.\n",
    "- cross_prob (float): Probabilidade de ocorrer crossover.\n",
    "- cross_type (int): Define o tipo de crossover, singlepoint ( 1 ), doublepoint ( 2 ), multipoint ( > 2 )\n",
    "- elitism (True, False): Habilita ou desabilita o elitismo."
   ]
  },
  {
   "cell_type": "markdown",
   "id": "fdc6c510-129d-45a2-8514-6cce1cf36f10",
   "metadata": {},
   "source": [
    "<p style=\"text-align: justify;\">\n",
    "&emsp; Agora vou definir algum desses parametros para aplicar o teste, note que usarei RealGA porque os pesos são valores reais:\n",
    "</p>"
   ]
  },
  {
   "cell_type": "code",
   "execution_count": 5,
   "id": "dcac151c-2e58-4742-b7d0-00b2fb0c8ff4",
   "metadata": {},
   "outputs": [],
   "source": [
    "import geneticalgsmod as ge\n",
    "\n",
    "model = ge.RealGA(fitness_func = fitfunctionNoGhosts, \n",
    "                  optim='max', \n",
    "                  selection=\"rank\", \n",
    "                  mut_prob=0.10, \n",
    "                  mut_type=1,\n",
    "                  cross_prob=0.9, \n",
    "                  cross_type=2, \n",
    "                  elitism=True, \n",
    "                  tournament_size=None)"
   ]
  },
  {
   "cell_type": "markdown",
   "id": "f3dbabff-8d42-4110-8645-f0a3b56483cc",
   "metadata": {},
   "source": [
    "<p style=\"text-align: justify;\">\n",
    "&emsp; Agora tenho que iniciar uma população, para o teste escolherei uma população de 50 indivíduos, além disso tenho que determinar qual a dimensão do problema (número de genes do meu problema), no meu caso como tenho 7 pesos então será dimensão 7 e por fim preciso definir o intervalo dos meus genes, escolherei um intervalo de [0,10]:"
   ]
  },
  {
   "cell_type": "code",
   "execution_count": 6,
   "id": "a7f96237-2831-4376-b9a9-2e6d9db70081",
   "metadata": {},
   "outputs": [],
   "source": [
    "population_size = 50\n",
    "dimensao = 7         # numero de argumentos da funcao        \n",
    "interval = (0,10)\n",
    "model.init_random_population(population_size, dimensao, interval) # iniciando a população"
   ]
  },
  {
   "cell_type": "markdown",
   "id": "00116d4c-dbc6-48db-85da-309a6573993a",
   "metadata": {},
   "source": [
    "<p style=\"text-align: justify;\">\n",
    "&emsp; População gerada, note que o código do pacman não fez um monte de print porque eu desabilitei eles no código do jogo. <br>\n",
    "</p>"
   ]
  },
  {
   "cell_type": "markdown",
   "id": "4b5a9b6f-a481-4ff2-80e3-699182fd3bc0",
   "metadata": {},
   "source": [
    "&emsp; Agora vou definir o número maximo de gerações e executar o algoritmo:"
   ]
  },
  {
   "cell_type": "code",
   "execution_count": 18,
   "id": "8e0d56f0-2630-4735-bd9e-d60947ad2dcb",
   "metadata": {
    "scrolled": true,
    "tags": []
   },
   "outputs": [
    {
     "name": "stdout",
     "output_type": "stream",
     "text": [
      "Geração 1 terminada\n",
      "Geração 2 terminada\n",
      "Geração 3 terminada\n",
      "Geração 4 terminada\n",
      "Geração 5 terminada\n",
      "Geração 6 terminada\n",
      "Geração 7 terminada\n",
      "Geração 8 terminada\n",
      "Geração 9 terminada\n",
      "Geração 10 terminada\n",
      "Geração 11 terminada\n",
      "Geração 12 terminada\n",
      "Geração 13 terminada\n",
      "Geração 14 terminada\n",
      "Geração 15 terminada\n",
      "Geração 16 terminada\n",
      "Geração 17 terminada\n",
      "Geração 18 terminada\n",
      "Geração 19 terminada\n",
      "Geração 20 terminada\n",
      "Geração 21 terminada\n",
      "Geração 22 terminada\n",
      "Geração 23 terminada\n",
      "Geração 24 terminada\n",
      "Geração 25 terminada\n",
      "Geração 26 terminada\n",
      "Geração 27 terminada\n",
      "Geração 28 terminada\n",
      "Geração 29 terminada\n",
      "Geração 30 terminada\n",
      "Geração 31 terminada\n",
      "Geração 32 terminada\n",
      "Geração 33 terminada\n",
      "Geração 34 terminada\n",
      "Geração 35 terminada\n",
      "Geração 36 terminada\n",
      "Geração 37 terminada\n",
      "Geração 38 terminada\n",
      "Geração 39 terminada\n",
      "Geração 40 terminada\n",
      "Geração 41 terminada\n",
      "Geração 42 terminada\n",
      "Geração 43 terminada\n",
      "Geração 44 terminada\n",
      "Geração 45 terminada\n",
      "Geração 46 terminada\n",
      "Geração 47 terminada\n",
      "Geração 48 terminada\n",
      "Geração 49 terminada\n",
      "Geração 50 terminada\n"
     ]
    }
   ],
   "source": [
    "max_generation = 50\n",
    "fitness_progress, best_individual, worst_individual = model.run(max_generation)"
   ]
  },
  {
   "cell_type": "markdown",
   "id": "d1dcd87b-4765-4dee-ae9e-1fd0d1ef3f21",
   "metadata": {},
   "source": [
    "&emsp; Agora vou plotar os gráficos do fitness médio, do melhor fitness e do pior fitness ao longo das gerações:"
   ]
  },
  {
   "cell_type": "code",
   "execution_count": 6,
   "id": "bef2ef5b-0f41-4da5-9feb-0cd00c7c0638",
   "metadata": {},
   "outputs": [],
   "source": [
    "import matplotlib.pyplot as plt\n",
    "%matplotlib inline\n",
    "\n",
    "def plotGraph(valores, titulo):\n",
    "    x1 = list(range(len(valores)))\n",
    "    plt.plot(x1, valores, 'o')\n",
    "    plt.xlabel('Gerações', fontsize = 12)\n",
    "    plt.ylabel('score', fontsize = 12)\n",
    "    plt.title(titulo,fontsize = 12 )"
   ]
  },
  {
   "cell_type": "code",
   "execution_count": 54,
   "id": "f4144204-a721-4303-9100-34a164154ee5",
   "metadata": {},
   "outputs": [
    {
     "data": {
      "image/png": "[encoded data removed]",
      "text/plain": [
       "<Figure size 432x288 with 1 Axes>"
      ]
     },
     "metadata": {
      "needs_background": "light"
     },
     "output_type": "display_data"
    }
   ],
   "source": [
    "plotGraph(fitness_progress, 'Fitness médio ao longo das gerações')"
   ]
  },
  {
   "cell_type": "code",
   "execution_count": 48,
   "id": "0ba2be43-0da9-4bbe-b619-943618d0f54e",
   "metadata": {},
   "outputs": [
    {
     "data": {
      "image/png": "[encoded data removed]",
      "text/plain": [
       "<Figure size 432x288 with 1 Axes>"
      ]
     },
     "metadata": {
      "needs_background": "light"
     },
     "output_type": "display_data"
    }
   ],
   "source": [
    "plotGraph(best_individual, 'Melhor fitness ao longo das gerações')"
   ]
  },
  {
   "cell_type": "code",
   "execution_count": 55,
   "id": "baa8856d-ab4d-4ea5-bce7-43afa16bb7cb",
   "metadata": {},
   "outputs": [
    {
     "data": {
      "image/png": "[encoded data removed]",
      "text/plain": [
       "<Figure size 432x288 with 1 Axes>"
      ]
     },
     "metadata": {
      "needs_background": "light"
     },
     "output_type": "display_data"
    }
   ],
   "source": [
    "plotGraph(worst_individual, 'Pior fitness ao longo das gerações')"
   ]
  },
  {
   "cell_type": "markdown",
   "id": "c5ea06a5-f9ca-4a5d-a741-52dd1b2ed3c2",
   "metadata": {},
   "source": [
    "<p style=\"text-align: justify;\">\n",
    "&emsp; É possível ver que o fitness médio aumentou ao longo das gerações até se estabilizar, e o maior fitness e o menor fitness ficaram muito próximos ao longo das gerações. <br>\n",
    "&emsp; Agora vou pegar o melhor indivíduo e executar 10 vezes para ver o score, após isso vou executar com a interface gráfica e deixar um gif para mostrar a execução:\n",
    "</p>"
   ]
  },
  {
   "cell_type": "code",
   "execution_count": 81,
   "id": "4ff494cc-99b7-4052-b38a-ffce3ae6a9cf",
   "metadata": {},
   "outputs": [
    {
     "name": "stdout",
     "output_type": "stream",
     "text": [
      "Score: 984.0\n",
      "Score: 983.0\n",
      "Score: 986.0\n",
      "Score: 971.0\n",
      "Score: 972.0\n",
      "Score: 983.0\n",
      "Score: 983.0\n",
      "Score: 981.0\n",
      "Score: 984.0\n",
      "Score: 985.0\n"
     ]
    }
   ],
   "source": [
    "melhor_individuo = model.best_solution[0]\n",
    "for i in range(10):\n",
    "    print('Score:', fitfunctionNoGhosts(melhor_individuo))"
   ]
  },
  {
   "cell_type": "markdown",
   "id": "c861cfa7-af1b-43e4-a45a-8ac5716fd960",
   "metadata": {},
   "source": [
    "<p style=\"text-align: justify;\">\n",
    "&emsp; Tive uma consistência bem grande nos scores e além disso o score foi alto para o caso sem os fantasmas. Vou mostrar um gif da execução desse modelo:\n",
    "</p>"
   ]
  },
  {
   "cell_type": "markdown",
   "id": "35dcd71a-d0cf-47de-adf7-1e36d51e10ec",
   "metadata": {},
   "source": [
    "<p style=\"text-align: center;\">\n",
    "&emsp;<img src=\"gifs/NoGhosts.gif\" width=\"500\" align=\"center\">\n",
    "</p>"
   ]
  },
  {
   "cell_type": "markdown",
   "id": "f0587726-004c-4552-bf53-9e707e78023f",
   "metadata": {},
   "source": [
    "### 3. Treinamento\n",
    "<p style=\"text-align: justify;\">\n",
    "&emsp; Agora vou fazer o treinamento incluindo os fantasmas para todos os layouts especificados, que são: smallClassic, mediumClassic e originalClassic. <br>\n",
    "&emsp; Mas primeiro vou definir os critérios e parâmetros que serão usados para fazer a evolução:<br>\n",
    "&emsp;-População inicial: Para aplicar o algoritmo genético irei utilizar uma população de 70 indivíduos, como tenho 7 genes em cada cromossomo, pensei que com 70 indivíduos eu terei uma variação de 10 valores diferentes para cada gene.<br>\n",
    "&emsp;-Critério de parada: Meu critério de parada será o número de gerações, no meu caso vou escolher 40 gerações.<br>\n",
    "&emsp;-Técnica de seleção: Como critério de seleção irei usar seleção por ranqueamento, como o problema do pacman está relacionado a pegar todas as comidas do tabuleiro com o maior score possível e baseando na maneira na qual eu modelei o problema, não acho que utilizar o ranqueamento me levará há um maxímo local.<br>\n",
    "&emsp;-Técnica de crossover: irei utilizar um crossover singlepoint.<br>\n",
    "&emsp;-Técnica de mutação: irei utilizar a técnica padrão da biblioteca que eu escolhi, o método aplicado é o seguinte: se escolhe o número n de genes que será aplicado a mutação e uma probabilidade p de ocorrer a mutação. Com esses dados o algoritmo irá transformar esses n genes em cadeias de bits e cada um desses bits é percorrido, então para cada um desses bits percorrido existe a probabilidade p desse bit ser invertido.<br>\n",
    "&emsp;-Método de substituição: Irei utilizar o elitismo, em uma nova geração a população terá tamanho n-1 e o melhor indíviduo da geração anterior será transferido para essa nova geração.<br>\n",
    "&emsp;-Taxa de mutação: Irei definir para a mutação ocorrer em no maxímo 1 gene e com probabilidade de inversão de cada bit de 10%, conforme descrito na Técnica de mutação.<br>\n",
    "&emsp;-Taxa de crossover: O singlepoint crossover irá ocorrer com probabilidade de 90%.<br>"
   ]
  },
  {
   "cell_type": "markdown",
   "id": "98df4fb0-9591-4bc3-87ed-99facd356cd5",
   "metadata": {},
   "source": [
    "&emsp; Definidos os parâmetros do algoritmo agora posso aplica-lo para cada layout:"
   ]
  },
  {
   "cell_type": "markdown",
   "id": "59bad6b5-fa05-4320-bef8-74a7ea4eaf91",
   "metadata": {
    "tags": []
   },
   "source": [
    "#### 3.1 Layout SmallClassic\n",
    "&emsp; Primeiro vou definir a função de fitness para esse tabuleiro, que retornará o score da partida e irá definir 2 fantasmas com comportamento aleatório:"
   ]
  },
  {
   "cell_type": "code",
   "execution_count": 1,
   "id": "e939bd0c-9d82-464b-afaa-361b5fb31a0e",
   "metadata": {},
   "outputs": [],
   "source": [
    "def fitfunctionSmallClassic(pesos):\n",
    "    argumentos ={}\n",
    "    pacman = SmartAgent(pesos)\n",
    "    ghostType = loadAgent('RandomGhost', True)\n",
    "    textDisplay.SLEEP_TIME = 0\n",
    "    argumentos['layout'] = layout.getLayout( 'smallClassic' )\n",
    "    argumentos['pacman'] = pacman\n",
    "    argumentos['ghosts'] = [ghostType( i+1 ) for i in range( 2 )]\n",
    "    argumentos['display'] = textDisplay.NullGraphics()\n",
    "    argumentos['numGames'] = 1\n",
    "    argumentos['record'] = False\n",
    "    argumentos['catchExceptions'] = True\n",
    "    argumentos['timeout'] = 1\n",
    "    \n",
    "    res = runGames(**argumentos)\n",
    "    score = res[0].state.getScore() \n",
    "\n",
    "    return score"
   ]
  },
  {
   "cell_type": "markdown",
   "id": "7d7ab856-6672-4a05-970f-0524916a96db",
   "metadata": {},
   "source": [
    "&emsp; Agora, baseando-se nos parametros escolhidos para aplicar o algoritmo genético vou instanciar um modelo:"
   ]
  },
  {
   "cell_type": "code",
   "execution_count": 6,
   "id": "ec8c37de-417c-4f77-9a11-5d5ab0958cd3",
   "metadata": {},
   "outputs": [],
   "source": [
    "import geneticalgsmod as ge\n",
    "\n",
    "modelSmallClassic = ge.RealGA(fitness_func = fitfunctionSmallClassic, \n",
    "                              optim='max',      #Irei maximizar o score\n",
    "                              selection=\"rank\", #Selecao usarei o ranqueamento\n",
    "                              mut_prob=0.10,    #Probabilidade de inverter bits na mut de 10%\n",
    "                              mut_type=1,       #Mutacao ocorrerá em no maxima 1 gene de um cromossomo\n",
    "                              cross_prob=0.9,   #Prob de ocorrer cross de 90%\n",
    "                              cross_type=1,     #Cross singlepoint\n",
    "                              elitism=True,     #Elitismo ativado\n",
    "                              tournament_size=None)"
   ]
  },
  {
   "cell_type": "markdown",
   "id": "c3c268aa-edae-4356-985c-8d6ee32a6203",
   "metadata": {},
   "source": [
    "&emsp; Agora, iniciando uma população de 70 indivíduos e especificando que tenho 7 genes no intervalo de [0,10]:"
   ]
  },
  {
   "cell_type": "code",
   "execution_count": null,
   "id": "aadf995e-3037-45cc-83c8-ad6a2ceea633",
   "metadata": {},
   "outputs": [],
   "source": [
    "population_size = 70\n",
    "dimensao = 7         # numero de argumentos da funcao        \n",
    "interval = (0,10)\n",
    "modelSmallClassic.init_random_population(population_size, dimensao, interval) # iniciando a população"
   ]
  },
  {
   "cell_type": "markdown",
   "id": "4cdd1477-b7f6-483d-b0bd-0b550d97e77c",
   "metadata": {
    "tags": []
   },
   "source": [
    "&emsp; Agora vou definir o número maxímo de gerações como 40 e aplicar o algoritmo:"
   ]
  },
  {
   "cell_type": "code",
   "execution_count": 8,
   "id": "4f2ae04a-355b-451b-9e7b-ed04dac9fa9f",
   "metadata": {
    "scrolled": true,
    "tags": []
   },
   "outputs": [
    {
     "name": "stdout",
     "output_type": "stream",
     "text": [
      "Geração 1 terminada\n",
      "Geração 2 terminada\n",
      "Geração 3 terminada\n",
      "Geração 4 terminada\n",
      "Geração 5 terminada\n",
      "Geração 6 terminada\n",
      "Geração 7 terminada\n",
      "Geração 8 terminada\n",
      "Geração 9 terminada\n",
      "Geração 10 terminada\n",
      "Geração 11 terminada\n",
      "Geração 12 terminada\n",
      "Geração 13 terminada\n",
      "Geração 14 terminada\n",
      "Geração 15 terminada\n",
      "Geração 16 terminada\n",
      "Geração 17 terminada\n",
      "Geração 18 terminada\n",
      "Geração 19 terminada\n",
      "Geração 20 terminada\n",
      "Geração 21 terminada\n",
      "Geração 22 terminada\n",
      "Geração 23 terminada\n",
      "Geração 24 terminada\n",
      "Geração 25 terminada\n",
      "Geração 26 terminada\n",
      "Geração 27 terminada\n",
      "Geração 28 terminada\n",
      "Geração 29 terminada\n",
      "Geração 30 terminada\n",
      "Geração 31 terminada\n",
      "Geração 32 terminada\n",
      "Geração 33 terminada\n",
      "Geração 34 terminada\n",
      "Geração 35 terminada\n",
      "Geração 36 terminada\n",
      "Geração 37 terminada\n",
      "Geração 38 terminada\n",
      "Geração 39 terminada\n",
      "Geração 40 terminada\n"
     ]
    }
   ],
   "source": [
    "max_generation = 40\n",
    "fitness_progressSC, best_individualSC, worst_individualSC = modelSmallClassic.run(max_generation)"
   ]
  },
  {
   "cell_type": "markdown",
   "id": "8290ec77-c0cf-413f-95bf-5c9efdbdc879",
   "metadata": {},
   "source": [
    "&emsp; Agora vou plotar os gráficos do fitness médio, do melhor fitness e do pior fitness ao longo das gerações:"
   ]
  },
  {
   "cell_type": "code",
   "execution_count": 9,
   "id": "d7099702-7063-486e-b658-a66c756c84eb",
   "metadata": {},
   "outputs": [
    {
     "data": {
      "image/png": "[encoded data removed]",
      "text/plain": [
       "<Figure size 432x288 with 1 Axes>"
      ]
     },
     "metadata": {
      "needs_background": "light"
     },
     "output_type": "display_data"
    }
   ],
   "source": [
    "plotGraph(fitness_progressSC, 'Fitness médio ao longo das gerações')"
   ]
  },
  {
   "cell_type": "code",
   "execution_count": 10,
   "id": "900aff06-78db-46df-9e41-c343ccd66b33",
   "metadata": {},
   "outputs": [
    {
     "data": {
      "image/png": "[encoded data removed]",
      "text/plain": [
       "<Figure size 432x288 with 1 Axes>"
      ]
     },
     "metadata": {
      "needs_background": "light"
     },
     "output_type": "display_data"
    }
   ],
   "source": [
    "plotGraph(best_individualSC, 'Melhor fitness ao longo das gerações')"
   ]
  },
  {
   "cell_type": "code",
   "execution_count": 11,
   "id": "5bb082c0-e152-4d82-9ec9-c80ef8f51fb4",
   "metadata": {},
   "outputs": [
    {
     "data": {
      "image/png": "[encoded data removed]",
      "text/plain": [
       "<Figure size 432x288 with 1 Axes>"
      ]
     },
     "metadata": {
      "needs_background": "light"
     },
     "output_type": "display_data"
    }
   ],
   "source": [
    "plotGraph(worst_individualSC, 'Pior fitness ao longo das gerações')"
   ]
  },
  {
   "cell_type": "markdown",
   "id": "b72dc974-98fc-4c6a-8c26-c21960a9b404",
   "metadata": {},
   "source": [
    "<p style=\"text-align: justify;\">\n",
    "&emsp; Nesses gráfico é possível ver que o fitnesse médio subiu com as gerações, ou seja, a população evoluiu, porém os pontos variam. No gráfico de fitness máximo é possível notar que o score máximo subiu ao longo das gerações e chegou a um valor limite. No gráfico de pior fitness o mesmo foi observado, o pior score subiu ao longo das gerações chegou a um valor em que se estabilizou. <br>\n",
    "&emsp; Agora vou rodar o melhor individuo 10 vezes para analisar os scores:\n",
    "</p>"
   ]
  },
  {
   "cell_type": "code",
   "execution_count": 16,
   "id": "af355f30-3570-41ba-90c0-a9281df07933",
   "metadata": {},
   "outputs": [
    {
     "name": "stdout",
     "output_type": "stream",
     "text": [
      "Score: 544.0\n",
      "Score: 1371.0\n",
      "Score: 1573.0\n",
      "Score: 1562.0\n",
      "Score: 1444.0\n",
      "Score: 1377.0\n",
      "Score: 1175.0\n",
      "Score: 1704.0\n",
      "Score: 200.0\n",
      "Score: 1372.0\n"
     ]
    }
   ],
   "source": [
    "melhor_individuo = modelSmallClassic.best_solution[0]\n",
    "for i in range(10):\n",
    "    print('Score:', fitfunctionSmallClassic(melhor_individuo))"
   ]
  },
  {
   "cell_type": "markdown",
   "id": "91fc87bc-3751-49b3-8853-a6eb5bad0643",
   "metadata": {},
   "source": [
    "<p style=\"text-align: justify;\">\n",
    "&emsp; É possível notar que o score variou, de valores baixos até valores altos, mas mesmo assim mantive uma alta média de aproximadamente 1230 de score.\n",
    "</p>"
   ]
  },
  {
   "cell_type": "markdown",
   "id": "ebf61ac8-e45f-4b74-b399-e6be7736f503",
   "metadata": {},
   "source": [
    "&emsp; Vou executar o melhor modelo em utilizando a interface gráfica para ter uma ideia melhor de como ficou:"
   ]
  },
  {
   "cell_type": "code",
   "execution_count": 36,
   "id": "b4df98af-e67f-47c6-8c39-1a78aec992ed",
   "metadata": {},
   "outputs": [],
   "source": [
    "argumentos ={}\n",
    "pacman = SmartAgent(melhor_individuo)\n",
    "ghostType = loadAgent('RandomGhost', True)\n",
    "textDisplay.SLEEP_TIME = 0\n",
    "argumentos['layout'] = layout.getLayout( 'smallClassic' )\n",
    "argumentos['pacman'] = pacman\n",
    "argumentos['ghosts'] = [ghostType( i+1 ) for i in range( 2 )]\n",
    "argumentos['display'] = graphicsDisplay.PacmanGraphics(1, frameTime = 0.1)\n",
    "argumentos['numGames'] = 1\n",
    "argumentos['record'] = False\n",
    "argumentos['catchExceptions'] = True\n",
    "argumentos['timeout'] = 1\n",
    "\n",
    "res = runGames(**argumentos)"
   ]
  },
  {
   "cell_type": "markdown",
   "id": "569b34ca-86d0-45b5-8df3-ac2238be7a70",
   "metadata": {},
   "source": [
    "&emsp; Como não consigo colocar a execucao no notebook vou colocar um gif de duas execuções:"
   ]
  },
  {
   "cell_type": "markdown",
   "id": "90f38ef1-8f2f-45c2-b236-d529aafb79e2",
   "metadata": {},
   "source": [
    "<p style=\"text-align: center;\">\n",
    "&emsp;<img src=\"gifs/SmallClassic1.gif\" width=\"500\" align=\"center\">\n",
    "</p>"
   ]
  },
  {
   "cell_type": "markdown",
   "id": "058dd2ed-406d-4cea-a378-e6abb0723918",
   "metadata": {},
   "source": [
    "<p style=\"text-align: justify;\">\n",
    "&emsp; Nessa primeira execução o pacman foi mal, mas o que pode ter acontecido? No momento da morte dele é possível ver que o pacman está indo atrás de um fantasmas assustado então é possível que o peso por se aproximar de um fantasmas assustado esteja maior do que o peso de se afastar de um fantasma não assustado e isso levou a morte do pacman.\n",
    "</p>"
   ]
  },
  {
   "cell_type": "markdown",
   "id": "f880a5dc-e3cb-4041-9e94-044e19edffbc",
   "metadata": {},
   "source": [
    "<p style=\"text-align: justify;\">\n",
    "&emsp; Outra execução:\n",
    "</p>"
   ]
  },
  {
   "cell_type": "markdown",
   "id": "336e1f69-c6ed-46cb-b436-9bc0f6c29590",
   "metadata": {},
   "source": [
    "<p style=\"text-align: center;\">\n",
    "&emsp;<img src=\"gifs/SmallClassic2.gif\" width=\"500\" align=\"center\">\n",
    "</p>"
   ]
  },
  {
   "cell_type": "markdown",
   "id": "c5f96ecf-297f-4905-9866-a147b9f1df0e",
   "metadata": {},
   "source": [
    "<p style=\"text-align: justify;\">\n",
    "&emsp; Nessa execução o pacman foi melhor, é possível ver ele indo atrás das capsulas, perseguindo fantasmas assustados e evitando os fantasmas não assustados, o que foi muito bom.\n",
    "</p>"
   ]
  },
  {
   "cell_type": "markdown",
   "id": "c4da3fb0-d697-4f65-a58f-f4ef4562d1ca",
   "metadata": {},
   "source": [
    "<p style=\"text-align: justify;\">\n",
    "&emsp; Por que as vezes o pacman vai bem e as vezes mal? O algoritmo genético não foi bem aplicado? <br>\n",
    "&emsp;A resposta para isso é a estocacidade envolvendo os fantasmas. Como existe essa estocacidade, quando aplicamos o algoritmo genético é possível que sejam selecionados indivíduos que não tem um conjunto de pesos muito bom, mas que obteve um score alto apenas porque teve sorte.<br>\n",
    "&emsp;Esse fator sorte é um problema bem grande para o algoritmo genético porque isso dificulta a convergencia e faz como que indivíduos não tão bons sejam selecionados para crossover ou então são passados para a próxima geração por elitismo. <br>\n",
    "&emsp;Mas isso não quer dizer que a população não evolua, claramente observando os gráficos que plotei é possivel notar uma evolução na população, porém não obtive uma média de score constante nas últimas gerações. <br>\n",
    "&emsp;Se observarmos o modelo sem fantasmas que executei no tópico anterior é possível ver que a população evoluiu muito bem, como a estocacidade dos fantasmas não estava incluida foi facil para neste caso a população evoluir. <br>\n",
    "&emsp; Uma maneira de melhorar o caso com fantasmas talvez seja colocando o algoritmo para rodar por um número bem grande de gerações, eu tentei fazer isso, mas a memória do meu computador chegou a próximo de 100% de consumo e o kernel do jupyter morreu. <br>\n",
    "</p>"
   ]
  },
  {
   "cell_type": "markdown",
   "id": "244a23ef-0560-4098-8791-7122f422013a",
   "metadata": {},
   "source": [
    "<p style=\"text-align: justify;\">\n",
    "&emsp; Agora vou fazer esse mesmo procedimento para o layout mediumClassic:\n",
    "</p>"
   ]
  },
  {
   "cell_type": "markdown",
   "id": "08d67f6b-6ff9-4158-ac25-20177f654562",
   "metadata": {},
   "source": [
    "#### 3.2 Layout MediumClassic\n",
    "<p style=\"text-align: justify;\">\n",
    "&emsp; Para esse layout usarei aqueles mesmos parametros e critérios para o algoritmo genético definidos no início do tópico 3. <br>\n",
    "&emsp; Mas primeiro vou definir a função de fitness para esse tabuleiro, que retornará o score da partida e irá definir 2 fantasmas com comportamento aleatório:\n",
    "</p>"
   ]
  },
  {
   "cell_type": "code",
   "execution_count": 4,
   "id": "0c1958e4-9a5e-4fe8-b14f-4cd0dc25571a",
   "metadata": {},
   "outputs": [],
   "source": [
    "def fitfunctionMediumClassic(pesos):\n",
    "    argumentos ={}\n",
    "    pacman = SmartAgent(pesos)\n",
    "    ghostType = loadAgent('RandomGhost', True)\n",
    "    textDisplay.SLEEP_TIME = 0\n",
    "    argumentos['layout'] = layout.getLayout( 'mediumClassic' )\n",
    "    argumentos['pacman'] = pacman\n",
    "    argumentos['ghosts'] = [ghostType( i+1 ) for i in range( 2 )]\n",
    "    argumentos['display'] = textDisplay.NullGraphics()\n",
    "    argumentos['numGames'] = 1\n",
    "    argumentos['record'] = False\n",
    "    argumentos['catchExceptions'] = True\n",
    "    argumentos['timeout'] = 1\n",
    "    \n",
    "    res = runGames(**argumentos)\n",
    "    score = res[0].state.getScore() \n",
    "\n",
    "    return score"
   ]
  },
  {
   "cell_type": "markdown",
   "id": "6d2c386f-c38f-4652-b105-44a2910def51",
   "metadata": {},
   "source": [
    "&emsp; Agora, baseando-se nos parametros escolhidos para aplicar o algoritmo genético no início do tópico 3 vou instanciar um modelo:"
   ]
  },
  {
   "cell_type": "code",
   "execution_count": 5,
   "id": "41285a8a-5367-4bd2-8628-be4ed5a90a86",
   "metadata": {},
   "outputs": [],
   "source": [
    "import geneticalgsmod as ge\n",
    "\n",
    "modelMediumClassic = ge.RealGA(fitness_func = fitfunctionMediumClassic, \n",
    "                              optim='max',      #Irei maximizar o score\n",
    "                              selection=\"rank\", #Selecao usarei o ranqueamento\n",
    "                              mut_prob=0.10,    #Probabilidade de inverter bits na mut de 10%\n",
    "                              mut_type=1,       #Mutacao ocorrerá em no maxima 1 gene de um cromossomo\n",
    "                              cross_prob=0.9,   #Prob de ocorrer cross de 90%\n",
    "                              cross_type=1,     #Cross singlepoint\n",
    "                              elitism=True,     #Elitismo ativado\n",
    "                              tournament_size=None)"
   ]
  },
  {
   "cell_type": "markdown",
   "id": "ad74ddae-6ec0-42ee-a345-075553c7c752",
   "metadata": {},
   "source": [
    "&emsp; Agora vou iniciar uma população de 70 indivíduos e especificar que tenho 7 genes no intervalo de [0,10]:"
   ]
  },
  {
   "cell_type": "code",
   "execution_count": 6,
   "id": "9294aaf6-fd88-48b4-b6f6-fb7ac6984fa8",
   "metadata": {},
   "outputs": [],
   "source": [
    "population_size = 70\n",
    "dimensao = 7         # numero de argumentos da funcao        \n",
    "interval = (0,10)\n",
    "modelMediumClassic.init_random_population(population_size, dimensao, interval) # iniciando a população"
   ]
  },
  {
   "cell_type": "markdown",
   "id": "4f082777-5ff6-4e1a-b564-6309eb8486b0",
   "metadata": {},
   "source": [
    "&emsp; Agora vou definir o número maxímo de gerações como 40 e aplicar o algoritmo:"
   ]
  },
  {
   "cell_type": "code",
   "execution_count": 7,
   "id": "2f15e3a6-6c96-469b-993c-6261792f7123",
   "metadata": {
    "scrolled": true,
    "tags": []
   },
   "outputs": [
    {
     "name": "stdout",
     "output_type": "stream",
     "text": [
      "Geração 1 terminada\n",
      "Geração 2 terminada\n",
      "Geração 3 terminada\n",
      "Geração 4 terminada\n",
      "Geração 5 terminada\n",
      "Geração 6 terminada\n",
      "Geração 7 terminada\n",
      "Geração 8 terminada\n",
      "Geração 9 terminada\n",
      "Geração 10 terminada\n",
      "Geração 11 terminada\n",
      "Geração 12 terminada\n",
      "Geração 13 terminada\n",
      "Geração 14 terminada\n",
      "Geração 15 terminada\n",
      "Geração 16 terminada\n",
      "Geração 17 terminada\n",
      "Geração 18 terminada\n",
      "Geração 19 terminada\n",
      "Geração 20 terminada\n",
      "Geração 21 terminada\n",
      "Geração 22 terminada\n",
      "Geração 23 terminada\n",
      "Geração 24 terminada\n",
      "Geração 25 terminada\n",
      "Geração 26 terminada\n",
      "Geração 27 terminada\n",
      "Geração 28 terminada\n",
      "Geração 29 terminada\n",
      "Geração 30 terminada\n",
      "Geração 31 terminada\n",
      "Geração 32 terminada\n",
      "Geração 33 terminada\n",
      "Geração 34 terminada\n",
      "Geração 35 terminada\n",
      "Geração 36 terminada\n",
      "Geração 37 terminada\n",
      "Geração 38 terminada\n",
      "Geração 39 terminada\n",
      "Geração 40 terminada\n"
     ]
    }
   ],
   "source": [
    "max_generation = 40\n",
    "fitness_progressMC, best_individualMC, worst_individualMC = modelMediumClassic.run(max_generation)"
   ]
  },
  {
   "cell_type": "markdown",
   "id": "074adb3d-f0e1-43d8-8b6f-f06fe545479f",
   "metadata": {},
   "source": [
    "&emsp; Agora vou plotar os gráficos do fitness médio, do melhor fitness e do pior fitness ao longo das gerações:"
   ]
  },
  {
   "cell_type": "code",
   "execution_count": 23,
   "id": "4ec1b81c-5392-4acc-9863-febb6142964b",
   "metadata": {},
   "outputs": [
    {
     "data": {
      "image/png": "[encoded data removed]",
      "text/plain": [
       "<Figure size 432x288 with 1 Axes>"
      ]
     },
     "metadata": {
      "needs_background": "light"
     },
     "output_type": "display_data"
    }
   ],
   "source": [
    "plotGraph(fitness_progressMC, 'Fitness médio ao longo das gerações')"
   ]
  },
  {
   "cell_type": "code",
   "execution_count": 24,
   "id": "053485b3-f7a2-4d50-a050-dd727549ab22",
   "metadata": {},
   "outputs": [
    {
     "data": {
      "image/png": "[encoded data removed]",
      "text/plain": [
       "<Figure size 432x288 with 1 Axes>"
      ]
     },
     "metadata": {
      "needs_background": "light"
     },
     "output_type": "display_data"
    }
   ],
   "source": [
    "plotGraph(best_individualMC, 'Melhor fitness ao longo das gerações')"
   ]
  },
  {
   "cell_type": "code",
   "execution_count": 25,
   "id": "d342e048-3849-4295-95b5-e782a3ae3831",
   "metadata": {},
   "outputs": [
    {
     "data": {
      "image/png": "[encoded data removed]",
      "text/plain": [
       "<Figure size 432x288 with 1 Axes>"
      ]
     },
     "metadata": {
      "needs_background": "light"
     },
     "output_type": "display_data"
    }
   ],
   "source": [
    "plotGraph(worst_individualMC, 'Pior fitness ao longo das gerações')"
   ]
  },
  {
   "cell_type": "markdown",
   "id": "fe63276e-b094-42a1-8386-a6b27c172468",
   "metadata": {},
   "source": [
    "<p style=\"text-align: justify;\">\n",
    "&emsp; Nesses gráfico é possível ver que o fitnesse médio subiu com as gerações, ou seja, a população evoluiu, porém os pontos variam. No gráfico de fitness máximo é possível notar que o score máximo subiu ao longo das gerações e chegou a um valor limite. No gráfico de pior fitness o mesmo foi observado, o pior score subiu ao longo, porém variou bastante. <br>\n",
    "&emsp; Agora vou rodar o melhor individuo 10 vezes para analisar os scores:\n",
    "</p>"
   ]
  },
  {
   "cell_type": "code",
   "execution_count": 29,
   "id": "58107a13-824f-4dd7-b9e8-895537175658",
   "metadata": {},
   "outputs": [
    {
     "name": "stdout",
     "output_type": "stream",
     "text": [
      "Score: 1913.0\n",
      "Score: 1334.0\n",
      "Score: 1739.0\n",
      "Score: 508.0\n",
      "Score: 1941.0\n",
      "Score: 158.0\n",
      "Score: 616.0\n",
      "Score: 122.0\n",
      "Score: 755.0\n",
      "Score: 1539.0\n"
     ]
    }
   ],
   "source": [
    "melhor_individuo = modelMediumClassic.best_solution[0]\n",
    "for i in range(10):\n",
    "    print('Score:', fitfunctionMediumClassic(melhor_individuo))"
   ]
  },
  {
   "cell_type": "markdown",
   "id": "d9ec1c94-0ac9-4b92-8df1-490f7e294fd8",
   "metadata": {},
   "source": [
    "<p style=\"text-align: justify;\">\n",
    "&emsp; É possível notar que o score variou, de valores baixos até valores altos, mas mesmo assim pode-se notar alguns valores de score bem altos.\n",
    "</p>"
   ]
  },
  {
   "cell_type": "markdown",
   "id": "b0c1112d-2dbd-4ff7-a4bf-70b839cb0c63",
   "metadata": {},
   "source": [
    "&emsp; Vou executar o melhor modelo em utilizando a interface gráfica para ter uma ideia melhor de como ficou:"
   ]
  },
  {
   "cell_type": "code",
   "execution_count": 34,
   "id": "e5fb9791-c432-49ca-a0be-15b4263ef906",
   "metadata": {},
   "outputs": [],
   "source": [
    "argumentos ={}\n",
    "pacman = SmartAgent(melhor_individuo)\n",
    "ghostType = loadAgent('RandomGhost', True)\n",
    "textDisplay.SLEEP_TIME = 0\n",
    "argumentos['layout'] = layout.getLayout( 'mediumClassic' )\n",
    "argumentos['pacman'] = pacman\n",
    "argumentos['ghosts'] = [ghostType( i+1 ) for i in range( 2 )]\n",
    "argumentos['display'] = graphicsDisplay.PacmanGraphics(1, frameTime = 0.1)\n",
    "argumentos['numGames'] = 5\n",
    "argumentos['record'] = False\n",
    "argumentos['catchExceptions'] = True\n",
    "argumentos['timeout'] = 1\n",
    "\n",
    "res = runGames(**argumentos)"
   ]
  },
  {
   "cell_type": "markdown",
   "id": "54192f06-6f7e-46ba-aa3b-44ab0dfdac73",
   "metadata": {},
   "source": [
    "&emsp; Como não consigo colocar a execucao no notebook vou colocar um gif de duas execuções:"
   ]
  },
  {
   "cell_type": "markdown",
   "id": "a56c44e7-63fa-4541-8089-6333d8017cf9",
   "metadata": {},
   "source": [
    "<p style=\"text-align: center;\">\n",
    "&emsp;<img src=\"gifs/MediumClassic1.gif\" width=\"500\" align=\"center\">\n",
    "</p>"
   ]
  },
  {
   "cell_type": "markdown",
   "id": "accce171-a33a-4804-ad3a-062924535957",
   "metadata": {},
   "source": [
    "<p style=\"text-align: justify;\">\n",
    "&emsp; Nessa primeira execução o pacman foi bem, é possível ver ele indo atrás das capsulas, mudando a rota para comer fantasmas assustados e desviando de fantasmas não assustados\n",
    "</p>"
   ]
  },
  {
   "cell_type": "markdown",
   "id": "b8856cd7-3661-48b4-80c9-4b6417b3d057",
   "metadata": {},
   "source": [
    "<p style=\"text-align: justify;\">\n",
    "&emsp; Outra execução:\n",
    "</p>"
   ]
  },
  {
   "cell_type": "markdown",
   "id": "8d918925-c60c-4e6e-bc30-64821836bae9",
   "metadata": {},
   "source": [
    "<p style=\"text-align: center;\">\n",
    "&emsp;<img src=\"gifs/MediumClassic2.gif\" width=\"500\" align=\"center\">\n",
    "</p>"
   ]
  },
  {
   "cell_type": "markdown",
   "id": "424e699b-9d94-46ab-a41a-a97b287f6557",
   "metadata": {},
   "source": [
    "<p style=\"text-align: justify;\">\n",
    "&emsp; Nessa execução o pacman foi pior, no momento da sua morte é possível notar que ele ignorou o fatasma, isso provavelmente aconteceu porque naquele momento pesou mais ele ir atrás das comida do que desviar do fantasma. <br>\n",
    "&emsp;Acho que na evolução dessa população o peso de se distanciar dos fantasmas não foi bem calibrado e o fator sorte atrapalhou a evolução, ajudando a selecionar individuos que não se importavam muito em se distanciar dos fantasmas.<br>\n",
    "&emsp;Aqui, de novo, é possível notar que a estocacidade envolvendo os fantasmas influenciou no modelo. Como existe essa estocacidade, quando aplicamos o algoritmo genético é possível que sejam selecionados indivíduos que não tem um conjunto de pesos muito bom, mas que obteve um score alto apenas porque teve sorte.<br>\n",
    "</p>"
   ]
  },
  {
   "cell_type": "markdown",
   "id": "11b2f1a8-0f91-4525-bf26-e327dc80ae28",
   "metadata": {},
   "source": [
    "&emsp;Agora vou evoluir uma população usando o layout originalClassic:<br>"
   ]
  },
  {
   "cell_type": "markdown",
   "id": "cb30201a-eb98-4131-ad97-40d8db1a5a84",
   "metadata": {},
   "source": [
    "#### 3.2 Layout OriginalClassic\n",
    "<p style=\"text-align: justify;\">\n",
    "&emsp; Para esse layout usarei aqueles mesmos parametros e critérios para o algoritmo genético definidos no início do tópico 3. <br>\n",
    "&emsp; Mas primeiro vou definir a função de fitness para esse tabuleiro, que retornará o score da partida e irá definir 2 fantasmas com comportamento aleatório:\n",
    "</p>"
   ]
  },
  {
   "cell_type": "code",
   "execution_count": 5,
   "id": "815549fe-2d5f-4848-8c1e-5ed7f766c822",
   "metadata": {},
   "outputs": [],
   "source": [
    "def fitfunctionOriginalClassic(pesos):\n",
    "    argumentos ={}\n",
    "    pacman = SmartAgent(pesos)\n",
    "    ghostType = loadAgent('RandomGhost', True)\n",
    "    textDisplay.SLEEP_TIME = 0\n",
    "    argumentos['layout'] = layout.getLayout( 'originalClassic' )\n",
    "    argumentos['pacman'] = pacman\n",
    "    argumentos['ghosts'] = [ghostType( i+1 ) for i in range( 2 )]\n",
    "    argumentos['display'] = textDisplay.NullGraphics()\n",
    "    argumentos['numGames'] = 1\n",
    "    argumentos['record'] = False\n",
    "    argumentos['catchExceptions'] = True\n",
    "    argumentos['timeout'] = 4\n",
    "    \n",
    "    res = runGames(**argumentos)\n",
    "    score = res[0].state.getScore() \n",
    "\n",
    "    return score"
   ]
  },
  {
   "cell_type": "markdown",
   "id": "e2403ab1-dd1b-4fe5-a4b6-247aab347d71",
   "metadata": {},
   "source": [
    "&emsp; Agora, baseando-se nos parametros escolhidos para aplicar o algoritmo genético vou instanciar um modelo:"
   ]
  },
  {
   "cell_type": "code",
   "execution_count": 6,
   "id": "18990e8e-384b-4a3f-ab6a-7fcce6f38c9f",
   "metadata": {},
   "outputs": [],
   "source": [
    "import geneticalgsmod as ge\n",
    "\n",
    "modelOriginalClassic = ge.RealGA(fitness_func = fitfunctionOriginalClassic, \n",
    "                              optim='max',      #Irei maximizar o score\n",
    "                              selection=\"rank\", #Selecao usarei o ranqueamento\n",
    "                              mut_prob=0.10,    #Probabilidade de inverter bits na mut de 10%\n",
    "                              mut_type=1,       #Mutacao ocorrerá em no maxima 1 gene de um cromossomo\n",
    "                              cross_prob=0.9,   #Prob de ocorrer cross de 90%\n",
    "                              cross_type=1,     #Cross singlepoint\n",
    "                              elitism=True,     #Elitismo ativado\n",
    "                              tournament_size=None)"
   ]
  },
  {
   "cell_type": "markdown",
   "id": "8800427a-b32a-46d3-a46c-0d54170d381b",
   "metadata": {},
   "source": [
    "&emsp; Agora, iniciando uma população de 60 indivíduos e especificando que tenho 7 genes no intervalo de [0,10]:"
   ]
  },
  {
   "cell_type": "markdown",
   "id": "b3a7c9cb-458c-46d0-9347-ea3353820110",
   "metadata": {},
   "source": [
    "<p style=\"text-align: justify;\">\n",
    "&emsp; Aqui tive um problema, ao executar o código do pacman varias vezes com o tabuleiro originalClassic eu tive um problema com memória, não consegui que o código executasse para a população de 60 indivíduos durante as 40 gerações sem que a memória do meu computador enchesse e meu computador ficasse extremamente lento até o momento em que o kernel do jupyter morrer. Eu realmente não sei porque tanta memória está sendo gasta, provavelmente há alguma vazamento de memória no código do pacman e o garbage collector do python não joga a memória não utilizada. <br>\n",
    "&emsp; Esse problema aconteceu para os outros tabuleiros também, mas minha memória não chegou a encher, porém ficava alocada de 4Gb ~ 5Gb de memória e essa memória só era liberada ao reiniciar o kernel do jupyter, então provavelmente existe, em algum lugar, vazamento de memória. <br>\n",
    "&emsp; Se eu rodar com uma população menor e por menos gerações a memória do meu computador irá encher menos e irá rodar normal, porém eu acho que ficaria ruim assim.<br>\n",
    "&emsp; Então não vou deixar esse impasse me vencer, eu pensei em uma solução para contornar esse problema, eu farei o seguinte:<br>\n",
    "&emsp;1)Irei gerar a população inicial e vou serializar o objeto do modelo. <br>\n",
    "&emsp;2)Eu vou reiniciar o kernel do meu jupyter, assim a memória será liberada.<br>\n",
    "&emsp;3)Após isso eu irei desserializar o objeto e iniciarei o processo evolucionário por 10 gerações, o que não consumira muita memória.<br>\n",
    "&emsp;4)Vou serializar novamente o objeto, mas agora também as listas de fitness médio, de melhor fitness e pior fitness que retornam do algoritmo.<br>\n",
    "&emsp;5)Executarei os passos 2 e 3 quatro vezes, já que assim obterei 40 gerações que é o meu objetivo.<br>  \n",
    "   <br> \n",
    "&emsp; Obs: Não sei se é permitido pelas regras do trabalho fazer isso, mas eu fiquei horas olhando o código do pacman para descobrir o que causava o uso excessivo de memória, como não consegui nada então não me restou alternativa. <br>\n",
    "&emsp; Eu deixarei todo o notebook pronto para funcionar sem que se precise reiniciar o kernel então, se o seu computador tiver mais memória que o meu, existe uma chance de você conseguir rodar tudo de uma vez.<br>\n",
    "</p>"
   ]
  },
  {
   "cell_type": "markdown",
   "id": "c8f3f64a-1764-4e7e-9b85-da54658d7f1d",
   "metadata": {},
   "source": [
    "&emsp; Vou fazer uma função para serializar e desserializar os objetos:"
   ]
  },
  {
   "cell_type": "code",
   "execution_count": 8,
   "id": "30872c4c-c520-4ee0-ba89-ac7d3e32d2c4",
   "metadata": {},
   "outputs": [],
   "source": [
    "import pickle\n",
    "\n",
    "def serialize(caminho, objeto):\n",
    "    outfile = open(caminho,'wb')\n",
    "    pickle.dump(objeto,outfile)\n",
    "    outfile.close()\n",
    "\n",
    "def deserialize(caminho):\n",
    "    infile = open(caminho,'rb')\n",
    "    objeto = pickle.load(infile)\n",
    "    infile.close()\n",
    "    return objeto"
   ]
  },
  {
   "cell_type": "markdown",
   "id": "1217404b-da35-4c5a-a947-b338b20134c5",
   "metadata": {},
   "source": [
    "&emsp;Iniciando a população de 60 indivíduos:"
   ]
  },
  {
   "cell_type": "code",
   "execution_count": 7,
   "id": "f7abc07e-c5cd-4ca2-829c-9476f083f8cf",
   "metadata": {},
   "outputs": [],
   "source": [
    "population_size = 60\n",
    "dimensao = 7         # numero de argumentos da funcao        \n",
    "interval = (0,10)\n",
    "modelOriginalClassic.init_random_population(population_size, dimensao, interval)"
   ]
  },
  {
   "cell_type": "markdown",
   "id": "0101226f-b4c4-4f05-9546-56573fcc4574",
   "metadata": {},
   "source": [
    "&emsp;Serializando o objeto:"
   ]
  },
  {
   "cell_type": "code",
   "execution_count": 15,
   "id": "1390980b-ea8f-41be-bba1-4a95082e3490",
   "metadata": {},
   "outputs": [],
   "source": [
    "serialize(sys.path[0]+'/serialize/initPopulationOriginalClassic.pkl', modelOriginalClassic)"
   ]
  },
  {
   "cell_type": "markdown",
   "id": "50850b49-4354-42c6-a612-10b98106c606",
   "metadata": {},
   "source": [
    "&emsp; Para limpar a memória vou reiniciar o kernel e desserializar o objeto:"
   ]
  },
  {
   "cell_type": "code",
   "execution_count": 10,
   "id": "50b3a411-04b7-4a96-8e82-7f1436042bf7",
   "metadata": {},
   "outputs": [],
   "source": [
    "modelOriginalClassic = deserialize(sys.path[0]+'/serialize/initPopulationOriginalClassic.pkl')"
   ]
  },
  {
   "cell_type": "markdown",
   "id": "0721d46c-7845-4bcb-85a8-c4a4ad848da9",
   "metadata": {},
   "source": [
    "&emsp; Agora vou definir o número maxímo de gerações como 10 e aplicar o algoritmo:"
   ]
  },
  {
   "cell_type": "code",
   "execution_count": 11,
   "id": "e2dd3587-d53b-4808-9668-c9a12f3fb837",
   "metadata": {
    "tags": []
   },
   "outputs": [
    {
     "name": "stdout",
     "output_type": "stream",
     "text": [
      "Geração 1 terminada\n",
      "Geração 2 terminada\n",
      "Geração 3 terminada\n",
      "Geração 4 terminada\n",
      "Geração 5 terminada\n",
      "Geração 6 terminada\n",
      "Geração 7 terminada\n",
      "Geração 8 terminada\n",
      "Geração 9 terminada\n",
      "Geração 10 terminada\n"
     ]
    }
   ],
   "source": [
    "max_generation = 10\n",
    "fitness_progressOC, best_individualOC, worst_individualOC = modelOriginalClassic.run(max_generation)"
   ]
  },
  {
   "cell_type": "markdown",
   "id": "bff11023-7fcf-45d8-b5de-3eda1b4669cb",
   "metadata": {
    "tags": []
   },
   "source": [
    "&emsp;Serializando o objeto e as listas:"
   ]
  },
  {
   "cell_type": "code",
   "execution_count": 12,
   "id": "1aa02008-e405-478d-92fe-4655dc26f869",
   "metadata": {},
   "outputs": [],
   "source": [
    "serialize(sys.path[0]+'/serialize/OriginalClassicGeneration0-10.pkl', modelOriginalClassic)\n",
    "serialize(sys.path[0]+'/serialize/fitnessprogressGeneration0-10.pkl', fitness_progressOC)\n",
    "serialize(sys.path[0]+'/serialize/bestindividualGeneration0-10.pkl', best_individualOC)\n",
    "serialize(sys.path[0]+'/serialize/worstindividualGeneration0-10.pkl', worst_individualOC)"
   ]
  },
  {
   "cell_type": "markdown",
   "id": "a0154faf-35ec-45cc-98b2-d1e1d6c43ba3",
   "metadata": {},
   "source": [
    "&emsp; Para limpar a memória vou reiniciar o kernel e depois desserializar o objeto:"
   ]
  },
  {
   "cell_type": "code",
   "execution_count": 6,
   "id": "668f6c2c-4e8c-422a-becd-2dd17c23e7be",
   "metadata": {},
   "outputs": [],
   "source": [
    "modelOriginalClassic = deserialize(sys.path[0]+'/serialize/OriginalClassicGeneration0-10.pkl')"
   ]
  },
  {
   "cell_type": "markdown",
   "id": "9796b7e7-7932-4179-9ca3-ae8c67fbb0ed",
   "metadata": {},
   "source": [
    "&emsp; Rodando por mais 10 gerações:"
   ]
  },
  {
   "cell_type": "code",
   "execution_count": 7,
   "id": "f353cca4-4d22-4427-90f6-d1b25cdde2bd",
   "metadata": {},
   "outputs": [
    {
     "name": "stdout",
     "output_type": "stream",
     "text": [
      "Geração 1 terminada\n",
      "Geração 2 terminada\n",
      "Geração 3 terminada\n",
      "Geração 4 terminada\n",
      "Geração 5 terminada\n",
      "Geração 6 terminada\n",
      "Geração 7 terminada\n",
      "Geração 8 terminada\n",
      "Geração 9 terminada\n",
      "Geração 10 terminada\n"
     ]
    }
   ],
   "source": [
    "fitness_progressOC, best_individualOC, worst_individualOC = modelOriginalClassic.run(10)"
   ]
  },
  {
   "cell_type": "markdown",
   "id": "63884013-cc57-467e-bb06-ef5a453cc4c3",
   "metadata": {
    "tags": []
   },
   "source": [
    "&emsp;Serializando o objeto e as listas:"
   ]
  },
  {
   "cell_type": "code",
   "execution_count": 8,
   "id": "58a2e5c5-4abb-49f7-bdc5-d1b5bd07ff05",
   "metadata": {},
   "outputs": [],
   "source": [
    "serialize(sys.path[0]+'/serialize/OriginalClassicGeneration10-20.pkl', modelOriginalClassic)\n",
    "serialize(sys.path[0]+'/serialize/fitnessprogressGeneration10-20.pkl', fitness_progressOC)\n",
    "serialize(sys.path[0]+'/serialize/bestindividualGeneration10-20.pkl', best_individualOC)\n",
    "serialize(sys.path[0]+'/serialize/worstindividualGeneration10-20.pkl', worst_individualOC)"
   ]
  },
  {
   "cell_type": "markdown",
   "id": "7c0ab73f-da98-4613-bc63-7654dec0b9d9",
   "metadata": {},
   "source": [
    "&emsp; Para limpar a memória vou reiniciar o kernel e depois desserializar o objeto:"
   ]
  },
  {
   "cell_type": "code",
   "execution_count": 6,
   "id": "01f4379a-287d-4745-9d4c-8f975e98b8d3",
   "metadata": {},
   "outputs": [],
   "source": [
    "modelOriginalClassic = deserialize(sys.path[0]+'/serialize/OriginalClassicGeneration10-20.pkl')"
   ]
  },
  {
   "cell_type": "markdown",
   "id": "a70df6af-a105-40d6-bca6-251ea88e6671",
   "metadata": {},
   "source": [
    "&emsp; Rodando por mais 10 gerações:"
   ]
  },
  {
   "cell_type": "code",
   "execution_count": 7,
   "id": "0c672cf6-4124-4fa4-beff-9ca9e1188479",
   "metadata": {},
   "outputs": [
    {
     "name": "stdout",
     "output_type": "stream",
     "text": [
      "Geração 1 terminada\n",
      "Geração 2 terminada\n",
      "Geração 3 terminada\n",
      "Geração 4 terminada\n",
      "Geração 5 terminada\n",
      "Geração 6 terminada\n",
      "Geração 7 terminada\n",
      "Geração 8 terminada\n",
      "Geração 9 terminada\n",
      "Geração 10 terminada\n"
     ]
    }
   ],
   "source": [
    "fitness_progressOC, best_individualOC, worst_individualOC = modelOriginalClassic.run(10)"
   ]
  },
  {
   "cell_type": "markdown",
   "id": "3e27a2e6-79d5-4ac4-aec4-58fa9bd6300f",
   "metadata": {
    "tags": []
   },
   "source": [
    "&emsp;Serializando o objeto e as listas:"
   ]
  },
  {
   "cell_type": "code",
   "execution_count": 8,
   "id": "adbf5288-b121-4742-a826-1ed55f125e50",
   "metadata": {},
   "outputs": [],
   "source": [
    "serialize(sys.path[0]+'/serialize/OriginalClassicGeneration20-30.pkl', modelOriginalClassic)\n",
    "serialize(sys.path[0]+'/serialize/fitnessprogressGeneration20-30.pkl', fitness_progressOC)\n",
    "serialize(sys.path[0]+'/serialize/bestindividualGeneration20-30.pkl', best_individualOC)\n",
    "serialize(sys.path[0]+'/serialize/worstindividualGeneration20-30.pkl', worst_individualOC)"
   ]
  },
  {
   "cell_type": "markdown",
   "id": "bcba04b1-f456-4cd8-9d19-18943b8f045e",
   "metadata": {},
   "source": [
    "&emsp; Para limpar a memória vou reiniciar o kernel e depois desserializar o objeto:"
   ]
  },
  {
   "cell_type": "code",
   "execution_count": 6,
   "id": "520d8657-ba45-4b11-97c7-53de5935b3eb",
   "metadata": {},
   "outputs": [],
   "source": [
    "modelOriginalClassic = deserialize(sys.path[0]+'/serialize/OriginalClassicGeneration20-30.pkl')"
   ]
  },
  {
   "cell_type": "markdown",
   "id": "7f2a48c1-c735-400e-87c2-eea97f287cd6",
   "metadata": {},
   "source": [
    "&emsp; Agora vou rodar pelas últimas 10 gerações, completando as 40 gerações que eu tinha planejado:"
   ]
  },
  {
   "cell_type": "code",
   "execution_count": 7,
   "id": "5818a96d-43ff-4618-b9ad-3c4c645ebfae",
   "metadata": {},
   "outputs": [
    {
     "name": "stdout",
     "output_type": "stream",
     "text": [
      "Geração 1 terminada\n",
      "Geração 2 terminada\n",
      "Geração 3 terminada\n",
      "Geração 4 terminada\n",
      "Geração 5 terminada\n",
      "Geração 6 terminada\n",
      "Geração 7 terminada\n",
      "Geração 8 terminada\n",
      "Geração 9 terminada\n",
      "Geração 10 terminada\n"
     ]
    }
   ],
   "source": [
    "fitness_progressOC, best_individualOC, worst_individualOC = modelOriginalClassic.run(10)"
   ]
  },
  {
   "cell_type": "markdown",
   "id": "16a98ad9-9d70-47d8-8313-34c31b59be34",
   "metadata": {
    "tags": []
   },
   "source": [
    "&emsp;Serializando o objeto e as listas:"
   ]
  },
  {
   "cell_type": "code",
   "execution_count": 8,
   "id": "82539ab2-7903-4e93-ad8a-774d5b95db1c",
   "metadata": {},
   "outputs": [],
   "source": [
    "serialize(sys.path[0]+'/serialize/OriginalClassicGeneration30-40.pkl', modelOriginalClassic)\n",
    "serialize(sys.path[0]+'/serialize/fitnessprogressGeneration30-40.pkl', fitness_progressOC)\n",
    "serialize(sys.path[0]+'/serialize/bestindividualGeneration30-40.pkl', best_individualOC)\n",
    "serialize(sys.path[0]+'/serialize/worstindividualGeneration30-40.pkl', worst_individualOC)"
   ]
  },
  {
   "cell_type": "markdown",
   "id": "80723298-182e-4633-befe-27eebdbef6ae",
   "metadata": {},
   "source": [
    "<p style=\"text-align: justify;\">\n",
    "&emsp;Todas as gerações estão prontas, agora basta desserializar o objeto do último modelo e também desserializas as listas que contem os fitness médio, melhores fitness e piores fitness por gerações. Depois que eu desserializar essas listas vou juntar as que representam a mesma coisa, para obter 3 únicas listas de melhor fitness, pior fitness e fitness médio de todas as 40 gerações:"
   ]
  },
  {
   "cell_type": "code",
   "execution_count": 46,
   "id": "9e2458fa-e88f-474f-93c4-44e4a06b85c6",
   "metadata": {},
   "outputs": [],
   "source": [
    "modelOriginalClassicTotal = deserialize(sys.path[0]+'/serialize/OriginalClassicGeneration30-40.pkl')\n",
    "\n",
    "fitness_progress0a10 = deserialize(sys.path[0]+'/serialize/fitnessprogressGeneration0-10.pkl')\n",
    "fitness_progress10a20 = deserialize(sys.path[0]+'/serialize/fitnessprogressGeneration10-20.pkl')\n",
    "fitness_progress20a30 = deserialize(sys.path[0]+'/serialize/fitnessprogressGeneration20-30.pkl')\n",
    "fitness_progress30a40 = deserialize(sys.path[0]+'/serialize/fitnessprogressGeneration30-40.pkl')\n",
    "\n",
    "best_individual0a10 = deserialize(sys.path[0]+'/serialize/bestindividualGeneration0-10.pkl')\n",
    "best_individual10a20 = deserialize(sys.path[0]+'/serialize/bestindividualGeneration10-20.pkl')\n",
    "best_individual20a30 = deserialize(sys.path[0]+'/serialize/bestindividualGeneration20-30.pkl')\n",
    "best_individual30a40 = deserialize(sys.path[0]+'/serialize/bestindividualGeneration30-40.pkl')\n",
    "\n",
    "worst_individual0a10 = deserialize(sys.path[0]+'/serialize/worstindividualGeneration0-10.pkl')\n",
    "worst_individual10a20 = deserialize(sys.path[0]+'/serialize/worstindividualGeneration10-20.pkl')\n",
    "worst_individual20a30 = deserialize(sys.path[0]+'/serialize/worstindividualGeneration20-30.pkl')\n",
    "worst_individual30a40 = deserialize(sys.path[0]+'/serialize/worstindividualGeneration30-40.pkl')"
   ]
  },
  {
   "cell_type": "markdown",
   "id": "8ae0664b-095b-4683-b88a-088608e40bda",
   "metadata": {},
   "source": [
    "&emsp; Juntando as listas de fitness médio, melhor e pior:"
   ]
  },
  {
   "cell_type": "code",
   "execution_count": 47,
   "id": "d705cd30-9098-4eaa-8652-c26fce80dd1a",
   "metadata": {},
   "outputs": [],
   "source": [
    "fitness_progressOCTotal = fitness_progress0a10 + fitness_progress10a20 + fitness_progress20a30 + fitness_progress30a40\n",
    "best_individualOCTotal = best_individual0a10 + best_individual10a20 + best_individual20a30 + best_individual30a40\n",
    "worst_individualOCTotal = worst_individual0a10 + worst_individual10a20 + worst_individual20a30 + worst_individual30a40"
   ]
  },
  {
   "cell_type": "markdown",
   "id": "5b0a171a-c59d-412e-9151-30ae782cf468",
   "metadata": {},
   "source": [
    "&emsp; Agora vou plotar os gráficos do fitness médio, do melhor fitness e do pior fitness ao longo das gerações:"
   ]
  },
  {
   "cell_type": "code",
   "execution_count": 11,
   "id": "92ab5e1e-ff24-44b0-bffe-1421a23d671b",
   "metadata": {},
   "outputs": [
    {
     "data": {
      "image/png": "[encoded data removed]",
      "text/plain": [
       "<Figure size 432x288 with 1 Axes>"
      ]
     },
     "metadata": {
      "needs_background": "light"
     },
     "output_type": "display_data"
    }
   ],
   "source": [
    "plotGraph(fitness_progressOCTotal, 'Fitness médio ao longo das gerações')"
   ]
  },
  {
   "cell_type": "code",
   "execution_count": 48,
   "id": "34768619-c631-419d-a085-09611d6b312b",
   "metadata": {},
   "outputs": [
    {
     "data": {
      "image/png": "[encoded data removed]",
      "text/plain": [
       "<Figure size 432x288 with 1 Axes>"
      ]
     },
     "metadata": {
      "needs_background": "light"
     },
     "output_type": "display_data"
    }
   ],
   "source": [
    "plotGraph(best_individualOCTotal, 'Melhor fitness ao longo das gerações')"
   ]
  },
  {
   "cell_type": "code",
   "execution_count": 49,
   "id": "6ddb68c6-8558-44a3-ae6e-4e4acca3cbfb",
   "metadata": {},
   "outputs": [
    {
     "data": {
      "image/png": "[encoded data removed]",
      "text/plain": [
       "<Figure size 432x288 with 1 Axes>"
      ]
     },
     "metadata": {
      "needs_background": "light"
     },
     "output_type": "display_data"
    }
   ],
   "source": [
    "plotGraph(worst_individualOCTotal, 'Pior fitness ao longo das gerações')"
   ]
  },
  {
   "cell_type": "markdown",
   "id": "b5891078-c46a-4dc5-8329-3a92dc3abdac",
   "metadata": {},
   "source": [
    "<p style=\"text-align: justify;\">\n",
    "&emsp; É possível ver que o fitness médio aumentou ao longo das gerações até se estabilizar em um intervalo, essa estabilização ocorreu perto da geração 10.<br>\n",
    "&emsp; O maior fitness ao longo das gerações foi subindo até chegar a um valor limite aproximadamente na geração 10. <br>\n",
    "&emsp; O pior fitness ao longo das gerações também subiu, mas não tanto, além disso é possivél ver que em algumas gerações obtive que o pior fitness foi maior do que a maioria, mas se analisarmos bem é possível notar que também a partir da geração 10 os valores foram se estabilizando.<br>\n",
    "&emsp; Agora vou pegar o melhor indivíduo e executar 10 vezes para ver o que acontece com o score:\n",
    "</p>"
   ]
  },
  {
   "cell_type": "code",
   "execution_count": 19,
   "id": "816b0d6c-27a5-4ce7-93e0-26bca37c20b2",
   "metadata": {},
   "outputs": [
    {
     "name": "stdout",
     "output_type": "stream",
     "text": [
      "Score: 916.0\n",
      "Score: 1813.0\n",
      "Score: 1686.0\n",
      "Score: 3070.0\n",
      "Score: 1262.0\n",
      "Score: 2290.0\n",
      "Score: 1241.0\n",
      "Score: 1977.0\n",
      "Score: 1688.0\n",
      "Score: 2433.0\n"
     ]
    }
   ],
   "source": [
    "melhor_individuo = modelOriginalClassicTotal.best_solution[0]\n",
    "for i in range(10):\n",
    "    print('Score:', fitfunctionOriginalClassic(melhor_individuo))"
   ]
  },
  {
   "cell_type": "markdown",
   "id": "55ceadfe-c4b7-4343-956d-3b541a4da5cb",
   "metadata": {},
   "source": [
    "<p style=\"text-align: justify;\">\n",
    "&emsp; É possível notar que o score variou, de valores baixos até valores altos, mas mesmo assim pode-se notar que o modelo obteve uma boa média de aproximadamente 1840. <br>\n",
    "&emsp; Essa variação acontece porque o algoritmo genético tem dificuldades para evoluir uma população que está envolvida a situações estocásticas, já que muitas vezes um individuo pode ganhar um score alto por sorte e não porque seus pesos são bons.  \n",
    "</p>"
   ]
  },
  {
   "cell_type": "markdown",
   "id": "05a201ea-c648-432e-8639-58008fd57a46",
   "metadata": {},
   "source": [
    "&emsp; Vou executar o melhor modelo em utilizando a interface gráfica para ter uma ideia melhor de como ficou:"
   ]
  },
  {
   "cell_type": "code",
   "execution_count": 20,
   "id": "d0897e48-d1e6-4df9-b511-5e1f628957be",
   "metadata": {},
   "outputs": [],
   "source": [
    "argumentos ={}\n",
    "pacman = SmartAgent(melhor_individuo)\n",
    "ghostType = loadAgent('RandomGhost', True)\n",
    "textDisplay.SLEEP_TIME = 0\n",
    "argumentos['layout'] = layout.getLayout( 'originalClassic' )\n",
    "argumentos['pacman'] = pacman\n",
    "argumentos['ghosts'] = [ghostType( i+1 ) for i in range( 2 )]\n",
    "argumentos['display'] = graphicsDisplay.PacmanGraphics(0.5, frameTime = 0)\n",
    "argumentos['numGames'] = 1\n",
    "argumentos['record'] = False\n",
    "argumentos['catchExceptions'] = False\n",
    "argumentos['timeout'] = 1\n",
    "\n",
    "res = runGames(**argumentos)"
   ]
  },
  {
   "cell_type": "markdown",
   "id": "b979697f-0d8e-4462-9e7c-c71f000391d5",
   "metadata": {},
   "source": [
    "&emsp; Como não consigo colocar a execucao no notebook vou colocar um vídeo de duas execuções:"
   ]
  },
  {
   "cell_type": "code",
   "execution_count": 26,
   "id": "86975991-6acf-4355-8e5d-f26f76d7a1c8",
   "metadata": {
    "tags": []
   },
   "outputs": [
    {
     "data": {
      "text/html": [
       "\n",
       "    <video width=\"500\" height=\"400\" controls style =\"display:block; margin:0 auto;\">\n",
       "        <source src=\"gifs/OriginalClassic1.mp4\" type=\"video/mp4\">\n",
       "    </video>\n"
      ],
      "text/plain": [
       "<IPython.core.display.HTML object>"
      ]
     },
     "execution_count": 26,
     "metadata": {},
     "output_type": "execute_result"
    }
   ],
   "source": [
    "from IPython.display import HTML\n",
    "\n",
    "HTML(\"\"\"\n",
    "    <video width=\"500\" height=\"400\" controls style =\"display:block; margin:0 auto;\">\n",
    "        <source src=\"gifs/OriginalClassic1.mp4\" type=\"video/mp4\">\n",
    "    </video>\n",
    "\"\"\")"
   ]
  },
  {
   "cell_type": "markdown",
   "id": "76d50c1f-3f8c-4c73-a74f-4e5a34a67ec8",
   "metadata": {},
   "source": [
    "<p style=\"text-align: justify;\">\n",
    "&emsp;Nessa primeira execução o pacman foi bem, vou executar outra vez para ver o resultado:\n",
    "   "
   ]
  },
  {
   "cell_type": "code",
   "execution_count": 27,
   "id": "8c7141a6-aac7-45c7-b2f5-1793f3eb0b8d",
   "metadata": {
    "tags": []
   },
   "outputs": [
    {
     "data": {
      "text/html": [
       "\n",
       "    <video width=\"500\" height=\"400\" controls style =\"display:block; margin:0 auto;\">\n",
       "        <source src=\"gifs/OriginalClassic2.mp4\" type=\"video/mp4\">\n",
       "    </video>\n"
      ],
      "text/plain": [
       "<IPython.core.display.HTML object>"
      ]
     },
     "execution_count": 27,
     "metadata": {},
     "output_type": "execute_result"
    }
   ],
   "source": [
    "from IPython.display import HTML\n",
    "\n",
    "HTML(\"\"\"\n",
    "    <video width=\"500\" height=\"400\" controls style =\"display:block; margin:0 auto;\">\n",
    "        <source src=\"gifs/OriginalClassic2.mp4\" type=\"video/mp4\">\n",
    "    </video>\n",
    "\"\"\")"
   ]
  },
  {
   "cell_type": "markdown",
   "id": "243ff12d-fff0-4249-a28d-73fdc8ceef30",
   "metadata": {},
   "source": [
    "<p style=\"text-align: justify;\">\n",
    "&emsp; Nessa outra o pacman foi melhor ainda. <br>\n",
    "&emsp; Analisando essas duas execuções percebe-se que um dos principais objetivos do pacman é pegar as capsulas, além disso pode-se ver que ele não se distancia muito dos fantasmas e faz pouca questão de perseguir os fantamas assustados.<br>\n",
    "&emsp; Mas por que isso aconteceu? Isso aconteceu porque como o tabuleiro é muito grande e os fantamas são aleatórias, provavelmente o pacman se aproximava poucas vezes dos fantasmas e o peso referente a distância dos fantasmas não foi alto durante a execução dos algoritmo genético porque os pacmans que tiveram sorte que foram propagados. <br>\n",
    "&emsp; Além disso, vimos que o pacman gosta de ir até as capsulas, ou seja, o peso referente a aproximação das capsulas é alto, isso aconteceu provavelmente porque comer capsulas faz os fantasmas ficar assustados e o pacman teria mais tempo para acumular score comendo comido, e caso o fantasma estivesse perto o suficiente ele seria consumido, e foi essa a diferença entre as duas execuções na segunda o pacman teve mais sorte e os fantamas assustados ficaram perto do pacman o que levou ele a comer eles e obter um score maior do que na primera execução, em que o pacman comeu menos fantasmas."
   ]
  },
  {
   "cell_type": "markdown",
   "id": "042312f2-2382-450f-8eab-9bd7b754aa31",
   "metadata": {},
   "source": [
    "#### 3.3 Conclusão e analise dos treinamentos"
   ]
  },
  {
   "cell_type": "markdown",
   "id": "55be8f52-e13a-4edf-91b9-c4e5de9c68b3",
   "metadata": {},
   "source": [
    "<p style=\"text-align: justify;\">\n",
    "&emsp; Se observarmos o modelo sem fantasmas que executei no tópico 2.1 é possível ver que a população evoluiu muito bem, o melhor indivíduo obtido foi bem consistente quando executado diferentes vezes. <br>\n",
    "&emsp; Quando adicionado os fantamas e executado o algoritmo genético vemos que o score médio da população aumentou e se estabilizou, mas oscilando em um intervalo. Além disso após a evoluir as populações e se obter os melhores individuos pode-se notar que ao executar esses indivíduos varias vezes obtia-se uma variação no desempenho do pacman, e isso acontece por causa da estocacidade envolvento os fantasmas.<br>\n",
    "&emsp; Como existe essa estocacidade, quando aplicamos o algoritmo genético é possível que sejam selecionados indivíduos que não tem um conjunto de pesos muito bom, mas que obteve um score alto apenas porque teve sorte.<br>\n",
    "&emsp;Esse fator sorte é um problema bem grande para o algoritmo genético porque isso dificulta a convergencia e faz como que indivíduos não tão bons sejam selecionados para crossover ou então são passados para a próxima geração por elitismo. <br>\n",
    "&emsp; Mas isso não quer dizer que a população não evolua, claramente observando os gráficos que plotei é possivel notar uma evolução nas populações, porém não obtive uma média de score constante nas últimas gerações. <br>\n",
    "</p>"
   ]
  },
  {
   "cell_type": "markdown",
   "id": "9ca024e2-41d6-4978-a665-ba2a90bc4fb9",
   "metadata": {},
   "source": [
    "### 4. Um novo treinamento\n",
    "<p style=\"text-align: justify;\">\n",
    "&emsp; No meu primeiro treinamento utilizei os fantasmas aleatórios como parametro do jogo, o que aumentava a estocacidade e dificultava o andamento do algoritmo genético. Agora pretendo os fantasmas que perseguem o pacman, esses fantasmas também possuem uma certa estocacidade envolvida, porém menor que a dos fantasmas aleatórios, já que esses novos fantasmas possuem um certo padrão, que no caso é perseguir o pacman. <br>\n",
    "&emsp; Antes de começar vou relembrar algumas coisas: <br>\n",
    "1) O que define o indivíduo no meu algoritmo genético é o conjunto de pesos que defini no meu modelo no tópico 1.3, esses pesos que definem se o pacman ficará longe dos fantasmas, se aproximará das capsulas, etc ... <br>\n",
    "2) Os parametros e modelos do algoritmo genético serão os mesmos do treinamento anterior, eles são: <br>\n",
    "&emsp;-População inicial: Para aplicar o algoritmo genético irei utilizar uma população de 70 indivíduos, como tenho 7 genes em cada cromossomo, pensei que com 70 indivíduos eu terei uma variação de 10 valores diferentes para cada gene.<br>\n",
    "&emsp;-Critério de parada: Meu critério de parada será o número de gerações, no meu caso vou escolher 40 gerações.<br>\n",
    "&emsp;-Técnica de seleção: Como critério de seleção irei usar seleção por ranqueamento, como o problema do pacman está relacionado a pegar todas as comidas do tabuleiro com o maior score possível e baseando na maneira na qual eu modelei o problema, não acho que utilizar o ranqueamento me levará há um maxímo local.<br>\n",
    "&emsp;-Técnica de crossover: irei utilizar um crossover singlepoint.<br>\n",
    "&emsp;-Técnica de mutação: irei utilizar a técnica padrão da biblioteca que eu escolhi, o método aplicado é o seguinte: se escolhe o número n de genes que será aplicado a mutação e uma probabilidade p de ocorrer a mutação. Com esses dados o algoritmo irá transformar esses n genes em cadeias de bits e cada um desses bits é percorrido, então para cada um desses bits percorrido existe a probabilidade p desse bit ser invertido.<br>\n",
    "&emsp;-Método de substituição: Irei utilizar o elitismo, em uma nova geração a população terá tamanho n-1 e o melhor indíviduo da geração anterior será transferido para essa nova geração.<br>\n",
    "&emsp;-Taxa de mutação: Irei definir para a mutação ocorrer em no maxímo 1 gene e com probabilidade de inversão de cada bit de 10%, conforme descrito na Técnica de mutação.<br>\n",
    "&emsp;-Taxa de crossover: O singlepoint crossover irá ocorrer com probabilidade de 90%.<br>\n",
    "</p>"
   ]
  },
  {
   "cell_type": "markdown",
   "id": "c64789a3-064e-4118-9f3b-a02a6a05ca0e",
   "metadata": {},
   "source": [
    "&emsp; Relembrado dessas Informações vou começar a preparar os treinamentos:"
   ]
  },
  {
   "cell_type": "markdown",
   "id": "46bb6034-d396-452e-a1a7-81ebb9f003f0",
   "metadata": {},
   "source": [
    "#### 4.1 Definindo algumas funções\n",
    "&emsp; Primeiro vou definir algumas funções para me auxiliar quanto ao decorrer do treinamento:"
   ]
  },
  {
   "cell_type": "code",
   "execution_count": 41,
   "id": "1daa750c-aa9c-4830-838f-2592f9c19259",
   "metadata": {},
   "outputs": [],
   "source": [
    "def runGame(pesos, olayout, graphics = False):\n",
    "    argumentos ={}\n",
    "    pacman = SmartAgent(pesos)\n",
    "    ghostType = loadAgent('DirectionalGhost', True)\n",
    "    textDisplay.SLEEP_TIME = 0\n",
    "    argumentos['layout'] = layout.getLayout(olayout)\n",
    "    argumentos['pacman'] = pacman\n",
    "    argumentos['ghosts'] = [ghostType( i+1 ) for i in range( 2 )]\n",
    "    argumentos['display'] = textDisplay.NullGraphics()\n",
    "    if(graphics):\n",
    "        argumentos['display'] = graphicsDisplay.PacmanGraphics(0.6, frameTime = 0)\n",
    "    argumentos['numGames'] = 1\n",
    "    argumentos['record'] = False\n",
    "    argumentos['catchExceptions'] = False\n",
    "    argumentos['timeout'] = 1\n",
    "    \n",
    "    res = runGames(**argumentos)\n",
    "    game = res[0] \n",
    "\n",
    "    return game"
   ]
  },
  {
   "cell_type": "markdown",
   "id": "2d2e9093-1258-4769-a5fe-e08ccc3d2671",
   "metadata": {},
   "source": [
    "&emsp; Essa função roda o pacman usando o agente DirectionalGhost, que são os fantasmas que perseguem o pacman, além disso o parâmetro graphics define se usarei interface gráfico ou não."
   ]
  },
  {
   "cell_type": "code",
   "execution_count": 11,
   "id": "30409a28-a14b-40e0-9622-9a7fb60d82a7",
   "metadata": {},
   "outputs": [],
   "source": [
    "import matplotlib.pyplot as plt\n",
    "%matplotlib inline\n",
    "\n",
    "def plotGraph(valores, titulo):\n",
    "    x1 = list(range(len(valores)))\n",
    "    plt.plot(x1, valores, 'o')\n",
    "    plt.xlabel('Gerações', fontsize = 12)\n",
    "    plt.ylabel('score', fontsize = 12)\n",
    "    plt.title(titulo,fontsize = 12 )"
   ]
  },
  {
   "cell_type": "markdown",
   "id": "dbd0ebe2-b1de-4722-83ea-3b0da8a8f235",
   "metadata": {},
   "source": [
    "&emsp; Essa função é para plotar um gráfico de score pelo número de gerações."
   ]
  },
  {
   "cell_type": "markdown",
   "id": "3e0866d4-7fa1-471d-97a4-cfa7ab48edc2",
   "metadata": {
    "tags": []
   },
   "source": [
    "#### 4.2 Layout SmallClassic\n",
    "&emsp; Primeiro vou definir a função de fitness para esse tabuleiro, que retornará o score da partida e irá definir 2 fantasmas que seguem o pacman:"
   ]
  },
  {
   "cell_type": "code",
   "execution_count": 7,
   "id": "0ae64d57-f01b-45e8-ac28-b18aa93380ef",
   "metadata": {},
   "outputs": [],
   "source": [
    "def fitfunctionSmallClassicDG(pesos):\n",
    "    argumentos ={}\n",
    "    pacman = SmartAgent(pesos)\n",
    "    ghostType = loadAgent('DirectionalGhost', True)\n",
    "    textDisplay.SLEEP_TIME = 0\n",
    "    argumentos['layout'] = layout.getLayout( 'smallClassic' )\n",
    "    argumentos['pacman'] = pacman\n",
    "    argumentos['ghosts'] = [ghostType( i+1 ) for i in range( 2 )]\n",
    "    argumentos['display'] = textDisplay.NullGraphics()\n",
    "    argumentos['numGames'] = 1\n",
    "    argumentos['record'] = False\n",
    "    argumentos['catchExceptions'] = True\n",
    "    argumentos['timeout'] = 1\n",
    "    \n",
    "    res = runGames(**argumentos)\n",
    "    score = res[0].state.getScore() \n",
    "\n",
    "    return score"
   ]
  },
  {
   "cell_type": "markdown",
   "id": "4c943e76-b783-4b08-b03f-845d95d8ab69",
   "metadata": {},
   "source": [
    "&emsp; Agora, baseando-se nos parametros escolhidos para aplicar o algoritmo genético vou instanciar um modelo:"
   ]
  },
  {
   "cell_type": "code",
   "execution_count": 8,
   "id": "6c9312a7-bd45-4c98-8635-40340716bc1e",
   "metadata": {},
   "outputs": [],
   "source": [
    "import geneticalgsmod as ge\n",
    "\n",
    "modelSmallClassicDG = ge.RealGA(fitness_func = fitfunctionSmallClassicDG, \n",
    "                              optim='max',      #Irei maximizar o score\n",
    "                              selection=\"rank\", #Selecao usarei o ranqueamento\n",
    "                              mut_prob=0.10,    #Probabilidade de inverter bits na mut de 10%\n",
    "                              mut_type=1,       #Mutacao ocorrerá em no maxima 1 gene de um cromossomo\n",
    "                              cross_prob=0.9,   #Prob de ocorrer cross de 90%\n",
    "                              cross_type=1,     #Cross singlepoint\n",
    "                              elitism=True,     #Elitismo ativado\n",
    "                              tournament_size=None)"
   ]
  },
  {
   "cell_type": "markdown",
   "id": "fa274ad5-1149-49af-8019-c151cb435c63",
   "metadata": {},
   "source": [
    "&emsp; Agora, iniciando uma população de 100 indivíduos e especificando que tenho 7 genes no intervalo de [0,10]:"
   ]
  },
  {
   "cell_type": "code",
   "execution_count": 9,
   "id": "1cb9ef10-caf1-4928-bcf8-4bb2947a58d3",
   "metadata": {},
   "outputs": [],
   "source": [
    "population_size = 100\n",
    "dimensao = 7         # numero de argumentos da funcao        \n",
    "interval = (0,10)\n",
    "modelSmallClassicDG.init_random_population(population_size, dimensao, interval) # iniciando a população"
   ]
  },
  {
   "cell_type": "markdown",
   "id": "1db7faab-cec6-4faa-8f0b-62a13ee09409",
   "metadata": {
    "tags": []
   },
   "source": [
    "&emsp; Agora vou definir o número maxímo de gerações como 40 e aplicar o algoritmo:"
   ]
  },
  {
   "cell_type": "code",
   "execution_count": 10,
   "id": "ae89ce3b-9130-4c81-bcb8-f72a50c640ef",
   "metadata": {
    "scrolled": true,
    "tags": []
   },
   "outputs": [
    {
     "name": "stdout",
     "output_type": "stream",
     "text": [
      "Geração 1 terminada\n",
      "Geração 2 terminada\n",
      "Geração 3 terminada\n",
      "Geração 4 terminada\n",
      "Geração 5 terminada\n",
      "Geração 6 terminada\n",
      "Geração 7 terminada\n",
      "Geração 8 terminada\n",
      "Geração 9 terminada\n",
      "Geração 10 terminada\n",
      "Geração 11 terminada\n",
      "Geração 12 terminada\n",
      "Geração 13 terminada\n",
      "Geração 14 terminada\n",
      "Geração 15 terminada\n",
      "Geração 16 terminada\n",
      "Geração 17 terminada\n",
      "Geração 18 terminada\n",
      "Geração 19 terminada\n",
      "Geração 20 terminada\n",
      "Geração 21 terminada\n",
      "Geração 22 terminada\n",
      "Geração 23 terminada\n",
      "Geração 24 terminada\n",
      "Geração 25 terminada\n",
      "Geração 26 terminada\n",
      "Geração 27 terminada\n",
      "Geração 28 terminada\n",
      "Geração 29 terminada\n",
      "Geração 30 terminada\n",
      "Geração 31 terminada\n",
      "Geração 32 terminada\n",
      "Geração 33 terminada\n",
      "Geração 34 terminada\n",
      "Geração 35 terminada\n",
      "Geração 36 terminada\n",
      "Geração 37 terminada\n",
      "Geração 38 terminada\n",
      "Geração 39 terminada\n",
      "Geração 40 terminada\n"
     ]
    }
   ],
   "source": [
    "max_generation = 40\n",
    "fitness_progressSC_DG, best_individualSC_DG, worst_individualSC_DG = modelSmallClassicDG.run(max_generation)"
   ]
  },
  {
   "cell_type": "markdown",
   "id": "4c478ee1-5847-4721-a419-0836822f95e7",
   "metadata": {},
   "source": [
    "&emsp; Agora vou plotar os gráficos do fitness médio, do melhor fitness e do pior fitness ao longo das gerações:"
   ]
  },
  {
   "cell_type": "code",
   "execution_count": 11,
   "id": "71c6259f-ad78-4965-9c63-af59ecb9096c",
   "metadata": {},
   "outputs": [
    {
     "data": {
      "image/png": "[encoded data removed]",
      "text/plain": [
       "<Figure size 432x288 with 1 Axes>"
      ]
     },
     "metadata": {
      "needs_background": "light"
     },
     "output_type": "display_data"
    }
   ],
   "source": [
    "plotGraph(fitness_progressSC_DG, 'Fitness médio ao longo das gerações')"
   ]
  },
  {
   "cell_type": "code",
   "execution_count": 12,
   "id": "03008b13-a121-4a3c-961d-4d59bf795192",
   "metadata": {},
   "outputs": [
    {
     "data": {
      "image/png": "[encoded data removed]",
      "text/plain": [
       "<Figure size 432x288 with 1 Axes>"
      ]
     },
     "metadata": {
      "needs_background": "light"
     },
     "output_type": "display_data"
    }
   ],
   "source": [
    "plotGraph(best_individualSC_DG, 'Melhor fitness ao longo das gerações')"
   ]
  },
  {
   "cell_type": "code",
   "execution_count": 13,
   "id": "74314f6a-bf5f-42d3-b00b-d65bd3bb0f8f",
   "metadata": {},
   "outputs": [
    {
     "data": {
      "image/png": "[encoded data removed]",
      "text/plain": [
       "<Figure size 432x288 with 1 Axes>"
      ]
     },
     "metadata": {
      "needs_background": "light"
     },
     "output_type": "display_data"
    }
   ],
   "source": [
    "plotGraph(worst_individualSC_DG, 'Pior fitness ao longo das gerações')"
   ]
  },
  {
   "cell_type": "markdown",
   "id": "c68fda75-18d3-45a0-9515-263bad55f99c",
   "metadata": {},
   "source": [
    "<p style=\"text-align: justify;\">\n",
    "&emsp; Nesses gráfico é possível ver que o fitnesse médio subiu com as gerações, ou seja, a população evoluiu, porém os pontos variam. No gráfico de fitness máximo é possível notar que o score máximo subiu ao longo das gerações e chegou a um valor limite. No gráfico de pior fitness o mesmo foi observado, o pior score subiu ao longo das gerações chegou a um valor em que se estabilizou. <br>\n",
    "&emsp; Agora vou pegar o melhor indivíduo e executar 10 vezes para ver o que acontece com o score:\n",
    "</p>"
   ]
  },
  {
   "cell_type": "code",
   "execution_count": 14,
   "id": "10cffeb3-a15d-4b42-860b-b70c4f4e490b",
   "metadata": {},
   "outputs": [
    {
     "name": "stdout",
     "output_type": "stream",
     "text": [
      "Score: 1174.0 - pacman venceu com 226 movimentos\n",
      "Score: 1376.0 - pacman venceu com 220 movimentos\n",
      "Score: 1561.0 - pacman venceu com 265 movimentos\n",
      "Score: 1176.0 - pacman venceu com 220 movimentos\n",
      "Score: 480.0 - pacman morreu com 180 movimentos\n",
      "Score: -40.0 - pacman morreu com 150 movimentos\n",
      "Score: 272.0 - pacman morreu com 174 movimentos\n",
      "Score: 1742.0 - pacman venceu com 322 movimentos\n",
      "Score: 1762.0 - pacman venceu com 262 movimentos\n",
      "Score: 1578.0 - pacman venceu com 214 movimentos\n"
     ]
    }
   ],
   "source": [
    "melhor_individuo = modelSmallClassicDG.best_solution[0]\n",
    "status = ''\n",
    "for i in range(10): \n",
    "    game = runGame(melhor_individuo, 'SmallClassic', graphics = False)\n",
    "    if(game.state.isWin()):\n",
    "        status = 'pacman venceu'\n",
    "    else:\n",
    "        status = 'pacman morreu'\n",
    "    n = len(game.moveHistory)\n",
    "    print('Score:', game.state.getScore(),'-', status, 'com', n, 'movimentos')"
   ]
  },
  {
   "cell_type": "markdown",
   "id": "166b1a08-479a-4712-8455-358c5aaf475d",
   "metadata": {},
   "source": [
    "<p style=\"text-align: justify;\">\n",
    "&emsp;É possível notar que o score variou, de valores baixos até valores altos.<br>"
   ]
  },
  {
   "cell_type": "markdown",
   "id": "e68e056a-c8da-4f78-9a34-67fd2df8f195",
   "metadata": {},
   "source": [
    "&emsp;Vou fazer algumas execuções com a interface gráfica para ver o que está acontecendo:"
   ]
  },
  {
   "cell_type": "markdown",
   "id": "b3467cd4-1666-4168-9021-4d951a13a86d",
   "metadata": {},
   "source": [
    "</p>"
   ]
  },
  {
   "cell_type": "code",
   "execution_count": 19,
   "id": "f694c9a3-a93b-4463-965f-99c0f331280f",
   "metadata": {},
   "outputs": [],
   "source": [
    "melhor_individuo = modelSmallClassicDG.best_solution[0]\n",
    "game = runGame(melhor_individuo, 'SmallClassic', graphics = True)"
   ]
  },
  {
   "cell_type": "markdown",
   "id": "7bc4a713-3693-4bca-aeee-d948b48408d0",
   "metadata": {},
   "source": [
    "&emsp; Como não consigo colocar a execucao no notebook vou colocar um gif de duas execuções:"
   ]
  },
  {
   "cell_type": "markdown",
   "id": "9d390bc5-8bb0-414d-8304-85b4e4d75c41",
   "metadata": {},
   "source": [
    "<p style=\"text-align: center;\">\n",
    "&emsp;<img src=\"gifs/SmallClassicDG1.gif\" width=\"500\" align=\"center\">\n",
    "</p>"
   ]
  },
  {
   "cell_type": "markdown",
   "id": "4225a844-0d9c-44b9-a8aa-9315a1b8031f",
   "metadata": {},
   "source": [
    "<p style=\"text-align: justify;\">\n",
    "&emsp; Nessa primeira execução o pacman foi mal. No momento da morte dele é possível ver que o pacman foi encurralado e não tinha o que ele fazer. Então diferentemente do que eu pensei inicialmente, o fator sorte pode influenciar bastante também mesmo com os fantasmas perseguindo o pacman. Vamos ver outra execução:\n",
    "</p>"
   ]
  },
  {
   "cell_type": "markdown",
   "id": "c93588b3-d297-42cc-aaf7-3bd14e855554",
   "metadata": {},
   "source": [
    "<p style=\"text-align: center;\">\n",
    "&emsp;<img src=\"gifs/SmallClassicDG2.gif\" width=\"500\" align=\"center\">\n",
    "</p>"
   ]
  },
  {
   "cell_type": "markdown",
   "id": "6bfdbd19-d391-4d06-b8d5-e9897b3a0e31",
   "metadata": {},
   "source": [
    "<p style=\"text-align: justify;\">\n",
    "&emsp; Nessa execução o pacman foi bem, ele desviou dos fantasmas, foi atrás das capsulas e comeu fantasmas assustado. <br>\n",
    "&emsp; Das execuções que eu testei, na maioria das vezes que o pacman morria era porque ele foi encurralado, é claro que isso está associado a sorte ou ao azar do pacman, porém como esse tabuleiro é pequeno e existem 2 fantasmas perseguindo ele existem grandes chances disso ocorrer, então talvez eu tenha sido cruel demais com o pacman. <br>\n",
    "&emsp; Vou aplicar o algoritmo genético para o mediumClassic, como o tabuleiro é maior, eu suponho que o resultado das 40 gerações seja melhor.\n",
    "</p>"
   ]
  },
  {
   "cell_type": "markdown",
   "id": "398b656e-1bf7-47b0-b6ac-72f9153d9894",
   "metadata": {
    "tags": []
   },
   "source": [
    "#### 4.3 Layout MediumClassic\n",
    "&emsp; Primeiro vou definir a função de fitness para esse tabuleiro, que retornará o score da partida e irá definir 2 fantasmas que seguem o pacman:"
   ]
  },
  {
   "cell_type": "code",
   "execution_count": 5,
   "id": "e1a827ff-dd39-4085-9766-5a243b244f7c",
   "metadata": {},
   "outputs": [],
   "source": [
    "def fitfunctionMediumClassicDG(pesos):\n",
    "    argumentos ={}\n",
    "    pacman = SmartAgent(pesos)\n",
    "    ghostType = loadAgent('DirectionalGhost', True)\n",
    "    textDisplay.SLEEP_TIME = 0\n",
    "    argumentos['layout'] = layout.getLayout( 'mediumClassic' )\n",
    "    argumentos['pacman'] = pacman\n",
    "    argumentos['ghosts'] = [ghostType( i+1 ) for i in range( 2 )]\n",
    "    argumentos['display'] = textDisplay.NullGraphics()\n",
    "    argumentos['numGames'] = 1\n",
    "    argumentos['record'] = False\n",
    "    argumentos['catchExceptions'] = True\n",
    "    argumentos['timeout'] = 2\n",
    "    \n",
    "    res = runGames(**argumentos)\n",
    "    score = res[0].state.getScore() \n",
    "\n",
    "    return score"
   ]
  },
  {
   "cell_type": "markdown",
   "id": "fe2701a7-a49e-4c84-8e5a-683cda4f646d",
   "metadata": {},
   "source": [
    "&emsp; Agora, baseando-se nos parametros escolhidos para aplicar o algoritmo genético vou instanciar um modelo:"
   ]
  },
  {
   "cell_type": "code",
   "execution_count": 6,
   "id": "71d9540f-b183-48b7-a13f-9a83bb0b8f6a",
   "metadata": {},
   "outputs": [],
   "source": [
    "import geneticalgsmod as ge\n",
    "\n",
    "modelMediumClassicDG = ge.RealGA(fitness_func = fitfunctionMediumClassicDG, \n",
    "                                optim='max',      #Irei maximizar o score\n",
    "                                selection=\"rank\", #Selecao usarei o ranqueamento\n",
    "                                mut_prob=0.10,    #Probabilidade de inverter bits na mut de 10%\n",
    "                                mut_type=1,       #Mutacao ocorrerá em no maxima 1 gene de um cromossomo\n",
    "                                cross_prob=0.9,   #Prob de ocorrer cross de 90%\n",
    "                                cross_type=1,     #Cross singlepoint\n",
    "                                elitism=True,     #Elitismo ativado\n",
    "                                tournament_size=None)"
   ]
  },
  {
   "cell_type": "markdown",
   "id": "2747c447-f731-4b4c-ac4d-21679af91c57",
   "metadata": {},
   "source": [
    "&emsp; Agora, iniciando uma população de 70 indivíduos e especificando que tenho 7 genes no intervalo de [0,10]:"
   ]
  },
  {
   "cell_type": "code",
   "execution_count": 7,
   "id": "c1b5ca95-0a46-46d3-b2f0-a10e5b1089e8",
   "metadata": {},
   "outputs": [],
   "source": [
    "population_size = 70\n",
    "dimensao = 7         # numero de argumentos da funcao        \n",
    "interval = (0,10)\n",
    "modelMediumClassicDG.init_random_population(population_size, dimensao, interval) # iniciando a população"
   ]
  },
  {
   "cell_type": "markdown",
   "id": "f5d5e675-55b7-4421-a16d-2b2af3920718",
   "metadata": {
    "tags": []
   },
   "source": [
    "&emsp; Agora vou definir o número maxímo de gerações como 40 e aplicar o algoritmo:"
   ]
  },
  {
   "cell_type": "code",
   "execution_count": 8,
   "id": "3bbbdd1d-0219-4b2b-8711-ca990e002668",
   "metadata": {
    "scrolled": true,
    "tags": []
   },
   "outputs": [
    {
     "name": "stdout",
     "output_type": "stream",
     "text": [
      "Geração 1 terminada\n",
      "Geração 2 terminada\n",
      "Geração 3 terminada\n",
      "Geração 4 terminada\n",
      "Geração 5 terminada\n",
      "Geração 6 terminada\n",
      "Geração 7 terminada\n",
      "Geração 8 terminada\n",
      "Geração 9 terminada\n",
      "Geração 10 terminada\n",
      "Geração 11 terminada\n",
      "Geração 12 terminada\n",
      "Geração 13 terminada\n",
      "Geração 14 terminada\n",
      "Geração 15 terminada\n",
      "Geração 16 terminada\n",
      "Geração 17 terminada\n",
      "Geração 18 terminada\n",
      "Geração 19 terminada\n",
      "Geração 20 terminada\n",
      "Geração 21 terminada\n",
      "Geração 22 terminada\n",
      "Geração 23 terminada\n",
      "Geração 24 terminada\n",
      "Geração 25 terminada\n",
      "Geração 26 terminada\n",
      "Geração 27 terminada\n",
      "Geração 28 terminada\n",
      "Geração 29 terminada\n",
      "Geração 30 terminada\n",
      "Geração 31 terminada\n",
      "Geração 32 terminada\n",
      "Geração 33 terminada\n",
      "Geração 34 terminada\n",
      "Geração 35 terminada\n",
      "Geração 36 terminada\n",
      "Geração 37 terminada\n",
      "Geração 38 terminada\n",
      "Geração 39 terminada\n",
      "Geração 40 terminada\n"
     ]
    }
   ],
   "source": [
    "max_generation = 40\n",
    "fitness_progressMC_DG, best_individualMC_DG, worst_individualMC_DG = modelMediumClassicDG.run(max_generation)"
   ]
  },
  {
   "cell_type": "markdown",
   "id": "22e41708-4728-4f03-be85-6e6d02d79706",
   "metadata": {},
   "source": [
    "&emsp; Agora vou plotar os gráficos do fitness médio, do melhor fitness e do pior fitness ao longo das gerações:"
   ]
  },
  {
   "cell_type": "code",
   "execution_count": 40,
   "id": "838e817b-8ef9-46af-a9b4-07498be32def",
   "metadata": {},
   "outputs": [
    {
     "data": {
      "image/png": "[encoded data removed]",
      "text/plain": [
       "<Figure size 432x288 with 1 Axes>"
      ]
     },
     "metadata": {
      "needs_background": "light"
     },
     "output_type": "display_data"
    }
   ],
   "source": [
    "plotGraph(fitness_progressMC_DG, 'Fitness médio ao longo das gerações')"
   ]
  },
  {
   "cell_type": "code",
   "execution_count": 41,
   "id": "cb8f27f5-ab20-468b-807e-7923dc9b3982",
   "metadata": {},
   "outputs": [
    {
     "data": {
      "image/png": "[encoded data removed]",
      "text/plain": [
       "<Figure size 432x288 with 1 Axes>"
      ]
     },
     "metadata": {
      "needs_background": "light"
     },
     "output_type": "display_data"
    }
   ],
   "source": [
    "plotGraph(best_individualMC_DG, 'Melhor fitness ao longo das gerações')"
   ]
  },
  {
   "cell_type": "code",
   "execution_count": 42,
   "id": "740eef95-617d-42fe-a7ba-6e824ff74867",
   "metadata": {},
   "outputs": [
    {
     "data": {
      "image/png": "[encoded data removed]",
      "text/plain": [
       "<Figure size 432x288 with 1 Axes>"
      ]
     },
     "metadata": {
      "needs_background": "light"
     },
     "output_type": "display_data"
    }
   ],
   "source": [
    "plotGraph(worst_individualMC_DG, 'Pior fitness ao longo das gerações')"
   ]
  },
  {
   "cell_type": "markdown",
   "id": "419af4ef-98f1-45ab-9fe8-9a1f0f6bc336",
   "metadata": {},
   "source": [
    "<p style=\"text-align: justify;\">\n",
    "&emsp; Nesses gráfico é possível ver que o fitnesse médio subiu com as gerações, ou seja, a população evoluiu, o score médio subiu e se estabilou variando em um intervalo. No gráfico de fitness máximo é possível notar que o score máximo subiu ao longo das gerações e chegou a um valor limite. No gráfico de pior fitness o mesmo foi observado, o pior score subiu ao longo das gerações chegou a um intervalo em que se estabilizou. <br>\n",
    "&emsp; Agora vou pegar o melhor indivíduo e executar 10 vezes para ver o que acontece com o score:\n",
    "</p>"
   ]
  },
  {
   "cell_type": "code",
   "execution_count": 52,
   "id": "dd1cd929-3c2d-41c2-8723-32da43adfcea",
   "metadata": {},
   "outputs": [
    {
     "name": "stdout",
     "output_type": "stream",
     "text": [
      "Score: 1338.0 - pacman venceu com 394 movimentos\n",
      "Score: 376.0 - pacman morreu com 252 movimentos\n",
      "Score: 1530.0 - pacman venceu com 418 movimentos\n",
      "Score: 1731.0 - pacman venceu com 415 movimentos\n",
      "Score: 763.0 - pacman morreu com 319 movimentos\n",
      "Score: 922.0 - pacman morreu com 383 movimentos\n",
      "Score: 1543.0 - pacman venceu com 379 movimentos\n",
      "Score: 1737.0 - pacman venceu com 397 movimentos\n",
      "Score: 1327.0 - pacman venceu com 427 movimentos\n",
      "Score: 204.0 - pacman morreu com 108 movimentos\n"
     ]
    }
   ],
   "source": [
    "melhor_individuo = modelMediumClassicDG.best_solution[0]\n",
    "status = ''\n",
    "for i in range(10): \n",
    "    game = runGame(melhor_individuo, 'mediumClassic', graphics = False)\n",
    "    if(game.state.isWin()):\n",
    "        status = 'pacman venceu'\n",
    "    else:\n",
    "        status = 'pacman morreu'\n",
    "    n = len(game.moveHistory)\n",
    "    print('Score:', game.state.getScore(),'-', status, 'com', n, 'movimentos')"
   ]
  },
  {
   "cell_type": "markdown",
   "id": "71f071c1-017d-4487-aeea-2086a8e4ca17",
   "metadata": {},
   "source": [
    "<p style=\"text-align: justify;\">\n",
    "&emsp;É possível notar que o score variou, de valores baixos até valores altos, obtendo uma média de 1147 de score e com 60% de vitória, o que eu acho bom.<br>"
   ]
  },
  {
   "cell_type": "markdown",
   "id": "1dcd2c64-7093-4d39-a72a-b8f4850c33e3",
   "metadata": {},
   "source": [
    "&emsp;Vou fazer algumas execuções com a interface gráfica para ver o que está acontecendo:"
   ]
  },
  {
   "cell_type": "markdown",
   "id": "e327ce72-fd1a-4301-9f51-c32369a346f4",
   "metadata": {},
   "source": [
    "</p>"
   ]
  },
  {
   "cell_type": "code",
   "execution_count": 19,
   "id": "c29048e2-ef32-4f7e-9311-c48602617d52",
   "metadata": {},
   "outputs": [],
   "source": [
    "melhor_individuo = modelMediumClassicDG.best_solution[0]\n",
    "game = runGame(melhor_individuo, 'mediumClassic', graphics = True)"
   ]
  },
  {
   "cell_type": "markdown",
   "id": "a2e621ee-a2b3-4930-901d-f4cc8338345d",
   "metadata": {},
   "source": [
    "&emsp; Como não consigo colocar a execucao no notebook vou colocar um gif de duas execuções:"
   ]
  },
  {
   "cell_type": "markdown",
   "id": "2e543b97-0094-4ca0-972f-3e0429c1c327",
   "metadata": {},
   "source": [
    "<p style=\"text-align: center;\">\n",
    "&emsp;<img src=\"gifs/MediumClassicDG1.gif\" width=\"500\" align=\"center\">\n",
    "</p>"
   ]
  },
  {
   "cell_type": "markdown",
   "id": "77431076-443f-4b91-ae60-ff0a16f36e36",
   "metadata": {},
   "source": [
    "<p style=\"text-align: justify;\">\n",
    "&emsp; Nessa primeira execução o pacman foi mal. No momento da morte dele é possível ver que o pacman preferiu ir atrás do fantasma assustado do que se distanciar do fantamas que o matou, isso aconteceu porque provavelmente o peso de se distanciar dos fantasmas está menor do que o peso do pacman se aproximar dos fantamas assustados, isso aconteceu porque o algoritmo genético selecionou os individuos que tiveram mais sorte, de novo vemos os efeitos da estocacidade dos fantasmas...\n",
    "</p>"
   ]
  },
  {
   "cell_type": "markdown",
   "id": "b42770c1-53a0-4595-ab2a-0d0a4ff4cc1e",
   "metadata": {},
   "source": [
    "&emsp; Eu tive mais algumas execuções como a de cima, abaixo vou colocar uma execução vitoriosa do pacman: "
   ]
  },
  {
   "cell_type": "markdown",
   "id": "69e27ee9-e638-4ea2-bc19-c425c0646713",
   "metadata": {},
   "source": [
    "<p style=\"text-align: center;\">\n",
    "&emsp;<img src=\"gifs/MediumClassicDG2.gif\" width=\"500\" align=\"center\">\n",
    "</p>"
   ]
  },
  {
   "cell_type": "markdown",
   "id": "bdc2b052-5752-4a0f-8bc8-bf92c03b24e8",
   "metadata": {},
   "source": [
    "<p style=\"text-align: justify;\">\n",
    "&emsp; Nessa rodada o pacman foi melhor, da pra ver ele fugindo dos fantasmas, perseguindo capsulas e comendo fantasmas assustados. A diferença nessa rodada foi que o pacman não encontrou uma situação em que precisaria se matar para chegar a um fantasma assustado, diferente do que aconteceu na outra rodada. \n",
    "</p>"
   ]
  },
  {
   "cell_type": "markdown",
   "id": "4ab03e6b-9acd-44b7-a3ec-066a29f9fe84",
   "metadata": {
    "tags": []
   },
   "source": [
    "#### 4.4 Layout OriginalClassic\n",
    "&emsp; Primeiro vou definir a função de fitness para esse tabuleiro, que retornará o score da partida e irá definir 2 fantasmas que seguem o pacman:"
   ]
  },
  {
   "cell_type": "code",
   "execution_count": 10,
   "id": "78851292-4205-48bc-81b9-0dbeddeae749",
   "metadata": {},
   "outputs": [],
   "source": [
    "def fitfunctionOriginalClassicDG(pesos):\n",
    "    argumentos ={}\n",
    "    pacman = SmartAgent(pesos)\n",
    "    ghostType = loadAgent('DirectionalGhost', True)\n",
    "    textDisplay.SLEEP_TIME = 0\n",
    "    argumentos['layout'] = layout.getLayout( 'originalClassic' )\n",
    "    argumentos['pacman'] = pacman\n",
    "    argumentos['ghosts'] = [ghostType( i+1 ) for i in range( 2 )]\n",
    "    argumentos['display'] = textDisplay.NullGraphics()\n",
    "    argumentos['numGames'] = 1\n",
    "    argumentos['record'] = False\n",
    "    argumentos['catchExceptions'] = True\n",
    "    argumentos['timeout'] = 4\n",
    "    \n",
    "    res = runGames(**argumentos)\n",
    "    score = res[0].state.getScore() \n",
    "\n",
    "    return score"
   ]
  },
  {
   "cell_type": "markdown",
   "id": "3f4b312b-2ddb-4fda-ac90-10ac4ce612c9",
   "metadata": {},
   "source": [
    "&emsp; Agora, baseando-se nos parametros escolhidos para aplicar o algoritmo genético vou instanciar um modelo:"
   ]
  },
  {
   "cell_type": "code",
   "execution_count": 11,
   "id": "f1367b6a-8cbb-47e1-94b5-0da09a7e6a8a",
   "metadata": {},
   "outputs": [],
   "source": [
    "import geneticalgsmod as ge\n",
    "\n",
    "modelOriginalClassicDG = ge.RealGA(fitness_func = fitfunctionOriginalClassicDG, \n",
    "                                optim='max',      #Irei maximizar o score\n",
    "                                selection=\"rank\", #Selecao usarei o ranqueamento\n",
    "                                mut_prob=0.10,    #Probabilidade de inverter bits na mut de 10%\n",
    "                                mut_type=1,       #Mutacao ocorrerá em no maxima 1 gene de um cromossomo\n",
    "                                cross_prob=0.9,   #Prob de ocorrer cross de 90%\n",
    "                                cross_type=1,     #Cross singlepoint\n",
    "                                elitism=True,     #Elitismo ativado\n",
    "                                tournament_size=None)"
   ]
  },
  {
   "cell_type": "markdown",
   "id": "f557c12a-7661-4e69-8881-f62251f84b9d",
   "metadata": {},
   "source": [
    "&emsp; Agora, iniciando uma população de 70 indivíduos e especificando que tenho 7 genes no intervalo de [0,10]:"
   ]
  },
  {
   "cell_type": "markdown",
   "id": "e699a8a6-de7d-4baf-9c1c-80e2da611091",
   "metadata": {},
   "source": [
    "<p style=\"text-align: justify;\">\n",
    "&emsp; Aqui tive o mesmo problema de memória que tive antes, então vou seguir o mesmo procedimento, com serialização e deserialização, farei o seguinte:<br>\n",
    "&emsp;1)Irei gerar a população inicial e vou serializar o objeto do modelo. <br>\n",
    "&emsp;2)Eu vou reiniciar o kernel do meu jupyter, assim a memória será liberada.<br>\n",
    "&emsp;3)Após isso eu irei desserializar o objeto e iniciarei o processo evolucionário por 10 gerações, o que não consumira muita memória.<br>\n",
    "&emsp;4)Vou serializar novamente o objeto, mas agora também as listas de fitness médio, de melhor fitness e pior fitness que retornam do algoritmo.<br>\n",
    "&emsp;5)Executarei os passos 2 e 3 quatro vezes, já que assim obterei 40 gerações que é o meu objetivo.<br>  \n",
    "</p>"
   ]
  },
  {
   "cell_type": "markdown",
   "id": "7d2266d1-21ea-42b7-9328-0d0506e28d79",
   "metadata": {},
   "source": [
    "&emsp; Vou fazer uma função para serializar e desserializar os objetos:"
   ]
  },
  {
   "cell_type": "code",
   "execution_count": 5,
   "id": "55f8b3f4-ed9a-4032-b6e2-0656dca803a4",
   "metadata": {},
   "outputs": [],
   "source": [
    "import pickle\n",
    "\n",
    "def serialize(caminho, objeto):\n",
    "    outfile = open(caminho,'wb')\n",
    "    pickle.dump(objeto,outfile)\n",
    "    outfile.close()\n",
    "\n",
    "def deserialize(caminho):\n",
    "    infile = open(caminho,'rb')\n",
    "    objeto = pickle.load(infile)\n",
    "    infile.close()\n",
    "    return objeto"
   ]
  },
  {
   "cell_type": "markdown",
   "id": "af7a3ce1-6e8a-4ced-b3c2-06fcc6b625b0",
   "metadata": {},
   "source": [
    "&emsp;Iniciando a população de 70 indivíduos:"
   ]
  },
  {
   "cell_type": "code",
   "execution_count": 12,
   "id": "00e73158-ca30-4121-8506-0c9f0a88915b",
   "metadata": {},
   "outputs": [],
   "source": [
    "population_size = 70\n",
    "dimensao = 7         # numero de argumentos da funcao        \n",
    "interval = (0,10)\n",
    "modelOriginalClassicDG.init_random_population(population_size, dimensao, interval)"
   ]
  },
  {
   "cell_type": "markdown",
   "id": "410125d5-611f-4b42-b286-5533f24d57d2",
   "metadata": {},
   "source": [
    "&emsp;Serializando o objeto:"
   ]
  },
  {
   "cell_type": "code",
   "execution_count": 12,
   "id": "4f72e376-c81c-45ac-b3f1-ca7a6f73b912",
   "metadata": {},
   "outputs": [],
   "source": [
    "serialize(sys.path[0]+'/serialize2/initPopulationOriginalClassicDG.pkl', modelOriginalClassicDG)"
   ]
  },
  {
   "cell_type": "markdown",
   "id": "d3cc3ecd-8fa9-4f6e-9ef7-b80a1b147286",
   "metadata": {},
   "source": [
    "&emsp; Para limpar a memória vou reiniciar o kernel e desserializar o objeto:"
   ]
  },
  {
   "cell_type": "code",
   "execution_count": 6,
   "id": "d6d21226-96c4-4e0d-bcd6-5cd8f7941470",
   "metadata": {},
   "outputs": [],
   "source": [
    "modelOriginalClassicDG = deserialize(sys.path[0]+'/serialize2/initPopulationOriginalClassicDG.pkl')"
   ]
  },
  {
   "cell_type": "markdown",
   "id": "9d230c16-634c-4412-951f-678c86a9d5e8",
   "metadata": {},
   "source": [
    "&emsp; Agora vou definir o número maxímo de gerações como 10 e aplicar o algoritmo:"
   ]
  },
  {
   "cell_type": "code",
   "execution_count": 7,
   "id": "7d5cd632-3117-4a0f-ad00-dcba59d17d30",
   "metadata": {
    "tags": []
   },
   "outputs": [
    {
     "name": "stdout",
     "output_type": "stream",
     "text": [
      "Geração 1 terminada\n",
      "Geração 2 terminada\n",
      "Geração 3 terminada\n",
      "Geração 4 terminada\n",
      "Geração 5 terminada\n",
      "Geração 6 terminada\n",
      "Geração 7 terminada\n",
      "Geração 8 terminada\n",
      "Geração 9 terminada\n",
      "Geração 10 terminada\n"
     ]
    }
   ],
   "source": [
    "max_generation = 10\n",
    "fitness_progressOC, best_individualOC, worst_individualOC = modelOriginalClassicDG.run(max_generation)"
   ]
  },
  {
   "cell_type": "markdown",
   "id": "d71e12be-2608-4dcb-890b-a2d77450face",
   "metadata": {
    "tags": []
   },
   "source": [
    "&emsp;Serializando o objeto e as listas:"
   ]
  },
  {
   "cell_type": "code",
   "execution_count": 8,
   "id": "4407d028-d3be-47d5-91a7-4cf3698480b2",
   "metadata": {},
   "outputs": [],
   "source": [
    "serialize(sys.path[0]+'/serialize2/OriginalClassicDGGeneration0-10.pkl', modelOriginalClassicDG)\n",
    "serialize(sys.path[0]+'/serialize2/fitnessprogressDGGeneration0-10.pkl', fitness_progressOC)\n",
    "serialize(sys.path[0]+'/serialize2/bestindividualDGGeneration0-10.pkl', best_individualOC)\n",
    "serialize(sys.path[0]+'/serialize2/worstindividualDGGeneration0-10.pkl', worst_individualOC)"
   ]
  },
  {
   "cell_type": "markdown",
   "id": "790e59a3-6b30-41b5-8963-dbc0eecb2101",
   "metadata": {},
   "source": [
    "&emsp; Para limpar a memória vou reiniciar o kernel e depois desserializar o objeto:"
   ]
  },
  {
   "cell_type": "code",
   "execution_count": 7,
   "id": "6eb53c56-bd88-43b4-bf91-f375b29ba798",
   "metadata": {},
   "outputs": [],
   "source": [
    "modelOriginalClassicDG = deserialize(sys.path[0]+'/serialize2/OriginalClassicDGGeneration0-10.pkl')"
   ]
  },
  {
   "cell_type": "markdown",
   "id": "684376a6-5369-4c7c-9d95-4c5a4f36806d",
   "metadata": {},
   "source": [
    "&emsp; Rodando por mais 10 gerações:"
   ]
  },
  {
   "cell_type": "code",
   "execution_count": 8,
   "id": "e40f5cb6-5f89-40a3-ae2f-10d11fcfc12a",
   "metadata": {},
   "outputs": [
    {
     "name": "stdout",
     "output_type": "stream",
     "text": [
      "Geração 1 terminada\n",
      "Geração 2 terminada\n",
      "Geração 3 terminada\n",
      "Geração 4 terminada\n",
      "Geração 5 terminada\n",
      "Geração 6 terminada\n",
      "Geração 7 terminada\n",
      "Geração 8 terminada\n",
      "Geração 9 terminada\n",
      "Geração 10 terminada\n"
     ]
    }
   ],
   "source": [
    "fitness_progressOC, best_individualOC, worst_individualOC = modelOriginalClassicDG.run(10)"
   ]
  },
  {
   "cell_type": "markdown",
   "id": "c0b13b8f-2fee-477b-83b8-a575e1e816e5",
   "metadata": {
    "tags": []
   },
   "source": [
    "&emsp;Serializando o objeto e as listas:"
   ]
  },
  {
   "cell_type": "code",
   "execution_count": 9,
   "id": "555deb1c-d24c-4237-a92d-092f49b61c1a",
   "metadata": {},
   "outputs": [],
   "source": [
    "serialize(sys.path[0]+'/serialize2/OriginalClassicDGGeneration10-20.pkl', modelOriginalClassicDG)\n",
    "serialize(sys.path[0]+'/serialize2/fitnessprogressDGGeneration10-20.pkl', fitness_progressOC)\n",
    "serialize(sys.path[0]+'/serialize2/bestindividualDGGeneration10-20.pkl', best_individualOC)\n",
    "serialize(sys.path[0]+'/serialize2/worstindividualDGGeneration10-20.pkl', worst_individualOC)"
   ]
  },
  {
   "cell_type": "markdown",
   "id": "7023d61d-07b0-4f00-a3ba-5f1e7190f064",
   "metadata": {},
   "source": [
    "&emsp; Para limpar a memória vou reiniciar o kernel e depois desserializar o objeto:"
   ]
  },
  {
   "cell_type": "code",
   "execution_count": 7,
   "id": "00e4308f-dfb3-4e2e-9f1c-e3e4540fdc10",
   "metadata": {},
   "outputs": [],
   "source": [
    "modelOriginalClassicDG = deserialize(sys.path[0]+'/serialize2/OriginalClassicDGGeneration10-20.pkl')"
   ]
  },
  {
   "cell_type": "markdown",
   "id": "72d93d97-cdf5-46c0-bb36-64fe5243b332",
   "metadata": {},
   "source": [
    "&emsp; Rodando por mais 10 gerações:"
   ]
  },
  {
   "cell_type": "code",
   "execution_count": 8,
   "id": "6c9e176c-da77-4272-a5a5-acb7532e17a8",
   "metadata": {},
   "outputs": [
    {
     "name": "stdout",
     "output_type": "stream",
     "text": [
      "Geração 1 terminada\n",
      "Geração 2 terminada\n",
      "Geração 3 terminada\n",
      "Geração 4 terminada\n",
      "Geração 5 terminada\n",
      "Geração 6 terminada\n",
      "Geração 7 terminada\n",
      "Geração 8 terminada\n",
      "Geração 9 terminada\n",
      "Geração 10 terminada\n"
     ]
    }
   ],
   "source": [
    "fitness_progressOC, best_individualOC, worst_individualOC = modelOriginalClassicDG.run(10)"
   ]
  },
  {
   "cell_type": "markdown",
   "id": "0a08670a-2ab6-4857-8811-da8825e86b52",
   "metadata": {
    "tags": []
   },
   "source": [
    "&emsp;Serializando o objeto e as listas:"
   ]
  },
  {
   "cell_type": "code",
   "execution_count": 9,
   "id": "a1a1cdec-3290-43fa-847a-6691c4053e85",
   "metadata": {},
   "outputs": [],
   "source": [
    "serialize(sys.path[0]+'/serialize2/OriginalClassicDGGeneration20-30.pkl', modelOriginalClassicDG)\n",
    "serialize(sys.path[0]+'/serialize2/fitnessprogressDGGeneration20-30.pkl', fitness_progressOC)\n",
    "serialize(sys.path[0]+'/serialize2/bestindividualDGGeneration20-30.pkl', best_individualOC)\n",
    "serialize(sys.path[0]+'/serialize2/worstindividualDGGeneration20-30.pkl', worst_individualOC)"
   ]
  },
  {
   "cell_type": "markdown",
   "id": "63fbb254-8143-457b-912e-1f8f9c38ccba",
   "metadata": {},
   "source": [
    "&emsp; Para limpar a memória vou reiniciar o kernel e depois desserializar o objeto:"
   ]
  },
  {
   "cell_type": "code",
   "execution_count": 7,
   "id": "909b2ce4-ea8f-4c33-96ef-b3dcbf6ad9c5",
   "metadata": {},
   "outputs": [],
   "source": [
    "modelOriginalClassicDG = deserialize(sys.path[0]+'/serialize2/OriginalClassicDGGeneration20-30.pkl')"
   ]
  },
  {
   "cell_type": "markdown",
   "id": "7f36f293-c917-4b49-aa35-798e9ba1c842",
   "metadata": {},
   "source": [
    "&emsp; Agora vou rodar pelas últimas 10 gerações, completando as 40 gerações que eu tinha planejado:"
   ]
  },
  {
   "cell_type": "code",
   "execution_count": 8,
   "id": "165e2fbb-d5fe-4229-b57e-b9a3e5980dc0",
   "metadata": {},
   "outputs": [
    {
     "name": "stdout",
     "output_type": "stream",
     "text": [
      "Geração 1 terminada\n",
      "Geração 2 terminada\n",
      "Geração 3 terminada\n",
      "Geração 4 terminada\n",
      "Geração 5 terminada\n",
      "Geração 6 terminada\n",
      "Geração 7 terminada\n",
      "Geração 8 terminada\n",
      "Geração 9 terminada\n",
      "Geração 10 terminada\n"
     ]
    }
   ],
   "source": [
    "fitness_progressOC, best_individualOC, worst_individualOC = modelOriginalClassicDG.run(10)"
   ]
  },
  {
   "cell_type": "markdown",
   "id": "6748328e-849c-4624-b5d3-05b98832887a",
   "metadata": {
    "tags": []
   },
   "source": [
    "&emsp;Serializando o objeto e as listas:"
   ]
  },
  {
   "cell_type": "code",
   "execution_count": 8,
   "id": "6d2053f5-7053-4bd5-a816-3a11f975d0a7",
   "metadata": {},
   "outputs": [],
   "source": [
    "serialize(sys.path[0]+'/serialize2/OriginalClassicDGGeneration30-40.pkl', modelOriginalClassicDG)\n",
    "serialize(sys.path[0]+'/serialize2/fitnessprogressDGGeneration30-40.pkl', fitness_progressOC)\n",
    "serialize(sys.path[0]+'/serialize2/bestindividualDGGeneration30-40.pkl', best_individualOC)\n",
    "serialize(sys.path[0]+'/serialize2/worstindividualDGGeneration30-40.pkl', worst_individualOC)"
   ]
  },
  {
   "cell_type": "markdown",
   "id": "71e1a33f-7f85-4167-9700-b5fb5ce094ca",
   "metadata": {},
   "source": [
    "<p style=\"text-align: justify;\">\n",
    "&emsp;Todas as gerações estão prontas, agora basta desserializar o objeto do último modelo e também desserializas as listas que contem os fitness médio, melhores fitness e piores fitness por gerações. Depois que eu desserializar essas listas vou juntar as que representam a mesma coisa, para obter 3 únicas listas de melhor fitness, pior fitness e fitness médio de todas as 40 gerações:"
   ]
  },
  {
   "cell_type": "code",
   "execution_count": 8,
   "id": "c9e5317a-3a34-4af6-add8-792d128744d6",
   "metadata": {},
   "outputs": [],
   "source": [
    "modelOriginalClassicTotal = deserialize(sys.path[0]+'/serialize2/OriginalClassicDGGeneration30-40.pkl')\n",
    "\n",
    "fitness_progress0a10 = deserialize(sys.path[0]+'/serialize2/fitnessprogressDGGeneration0-10.pkl')\n",
    "fitness_progress10a20 = deserialize(sys.path[0]+'/serialize2/fitnessprogressDGGeneration10-20.pkl')\n",
    "fitness_progress20a30 = deserialize(sys.path[0]+'/serialize2/fitnessprogressDGGeneration20-30.pkl')\n",
    "fitness_progress30a40 = deserialize(sys.path[0]+'/serialize2/fitnessprogressDGGeneration30-40.pkl')\n",
    "\n",
    "best_individual0a10 = deserialize(sys.path[0]+'/serialize2/bestindividualDGGeneration0-10.pkl')\n",
    "best_individual10a20 = deserialize(sys.path[0]+'/serialize2/bestindividualDGGeneration10-20.pkl')\n",
    "best_individual20a30 = deserialize(sys.path[0]+'/serialize2/bestindividualDGGeneration20-30.pkl')\n",
    "best_individual30a40 = deserialize(sys.path[0]+'/serialize2/bestindividualDGGeneration30-40.pkl')\n",
    "\n",
    "worst_individual0a10 = deserialize(sys.path[0]+'/serialize2/worstindividualDGGeneration0-10.pkl')\n",
    "worst_individual10a20 = deserialize(sys.path[0]+'/serialize2/worstindividualDGGeneration10-20.pkl')\n",
    "worst_individual20a30 = deserialize(sys.path[0]+'/serialize2/worstindividualDGGeneration20-30.pkl')\n",
    "worst_individual30a40 = deserialize(sys.path[0]+'/serialize2/worstindividualDGGeneration30-40.pkl')"
   ]
  },
  {
   "cell_type": "markdown",
   "id": "5b3dc45c-2f3b-4545-bb31-b120426e4335",
   "metadata": {},
   "source": [
    "&emsp; Juntando as listas de fitness médio, melhor e pior:"
   ]
  },
  {
   "cell_type": "code",
   "execution_count": 9,
   "id": "83e1b303-c7d7-46d1-828e-f119b68191a0",
   "metadata": {},
   "outputs": [],
   "source": [
    "fitness_progressOCTotal = fitness_progress0a10 + fitness_progress10a20 + fitness_progress20a30 + fitness_progress30a40\n",
    "best_individualOCTotal = best_individual0a10 + best_individual10a20 + best_individual20a30 + best_individual30a40\n",
    "worst_individualOCTotal = worst_individual0a10 + worst_individual10a20 + worst_individual20a30 + worst_individual30a40"
   ]
  },
  {
   "cell_type": "markdown",
   "id": "01ff4c56-5be7-425c-b08e-a1db5bf8afcf",
   "metadata": {},
   "source": [
    "&emsp; Agora vou plotar os gráficos do fitness médio, do melhor fitness e do pior fitness ao longo das gerações:"
   ]
  },
  {
   "cell_type": "code",
   "execution_count": 31,
   "id": "97a935e1-cd51-4665-8bce-457cff08d815",
   "metadata": {},
   "outputs": [
    {
     "data": {
      "image/png": "[encoded data removed]",
      "text/plain": [
       "<Figure size 432x288 with 1 Axes>"
      ]
     },
     "metadata": {
      "needs_background": "light"
     },
     "output_type": "display_data"
    }
   ],
   "source": [
    "plotGraph(fitness_progressOCTotal, 'Fitness médio ao longo das gerações')"
   ]
  },
  {
   "cell_type": "code",
   "execution_count": 32,
   "id": "1e464ae7-7f5a-493b-8b6a-e6596f6433bb",
   "metadata": {},
   "outputs": [
    {
     "data": {
      "image/png": "[encoded data removed]",
      "text/plain": [
       "<Figure size 432x288 with 1 Axes>"
      ]
     },
     "metadata": {
      "needs_background": "light"
     },
     "output_type": "display_data"
    }
   ],
   "source": [
    "plotGraph(best_individualOCTotal, 'Melhor fitness ao longo das gerações')"
   ]
  },
  {
   "cell_type": "code",
   "execution_count": 33,
   "id": "8690d4d9-5ca6-44f8-abd8-8fcd4aa17a59",
   "metadata": {},
   "outputs": [
    {
     "data": {
      "image/png": "[encoded data removed]",
      "text/plain": [
       "<Figure size 432x288 with 1 Axes>"
      ]
     },
     "metadata": {
      "needs_background": "light"
     },
     "output_type": "display_data"
    }
   ],
   "source": [
    "plotGraph(worst_individualOCTotal, 'Pior fitness ao longo das gerações')"
   ]
  },
  {
   "cell_type": "markdown",
   "id": "7498e408-f402-42fe-a722-cc0ba386ba8b",
   "metadata": {},
   "source": [
    "<p style=\"text-align: justify;\">\n",
    "&emsp; É possível ver que o fitness médio aumentou ao longo das gerações até se estabilizar em um intervalo, essa estabilização ocorreu perto da geração 30.<br>\n",
    "&emsp; O maior fitness ao longo das gerações foi subindo até chegar a um valor limite aproximadamente na geração 30. <br>\n",
    "&emsp; O pior fitness ao longo das gerações também subiu, mas não tanto, além disso é possivél ver que em algumas gerações obtive que o pior fitness foi maior do que a maioria, mas se analisarmos bem é possível notar que também a partir da geração 10 os valores foram se estabilizando.<br>\n",
    "&emsp; Agora vou pegar o melhor indivíduo e executar 10 vezes para ver o que acontece com o score:\n",
    "</p>"
   ]
  },
  {
   "cell_type": "code",
   "execution_count": 39,
   "id": "a7e231b8-a5c9-43b0-9389-b5d8e3830a43",
   "metadata": {},
   "outputs": [
    {
     "name": "stdout",
     "output_type": "stream",
     "text": [
      "Score: 930.0 - pacman morreu com 540 movimentos\n",
      "Score: 2674.0 - pacman venceu com 946 movimentos\n",
      "Score: 2634.0 - pacman venceu com 1066 movimentos\n",
      "Score: 2866.0 - pacman venceu com 970 movimentos\n",
      "Score: 1326.0 - pacman morreu com 581 movimentos\n",
      "Score: 650.0 - pacman morreu com 270 movimentos\n",
      "Score: 767.0 - pacman morreu com 578 movimentos\n",
      "Score: 1225.0 - pacman morreu com 554 movimentos\n",
      "Score: 1382.0 - pacman morreu com 863 movimentos\n",
      "Score: 2849.0 - pacman venceu com 1021 movimentos\n"
     ]
    }
   ],
   "source": [
    "melhor_individuo = modelOriginalClassicTotal.best_solution[0]\n",
    "status = ''\n",
    "for i in range(10): \n",
    "    game = runGame(melhor_individuo, 'originalClassic', graphics = False)\n",
    "    if(game.state.isWin()):\n",
    "        status = 'pacman venceu'\n",
    "    else:\n",
    "        status = 'pacman morreu'\n",
    "    n = len(game.moveHistory)\n",
    "    print('Score:', game.state.getScore(),'-', status, 'com', n, 'movimentos')"
   ]
  },
  {
   "cell_type": "markdown",
   "id": "ed072f1d-d044-4e00-b506-692131cd4b3d",
   "metadata": {},
   "source": [
    "<p style=\"text-align: justify;\">\n",
    "&emsp;É possível notar que o score variou, de valores baixos até valores altos, obtendo uma média de 1720 de score e com 40% de vitória, o que é razoavel.<br>"
   ]
  },
  {
   "cell_type": "markdown",
   "id": "d40e4911-52ba-475e-9100-478929141635",
   "metadata": {},
   "source": [
    "&emsp;Vou fazer algumas execuções com a interface gráfica para ver o que está acontecendo:"
   ]
  },
  {
   "cell_type": "markdown",
   "id": "70e5db57-2d94-40d0-ad9c-6a7141e88c7f",
   "metadata": {},
   "source": [
    "</p>"
   ]
  },
  {
   "cell_type": "code",
   "execution_count": 48,
   "id": "14bd08eb-602a-40b2-803e-76adbcf9db0a",
   "metadata": {},
   "outputs": [],
   "source": [
    "melhor_individuo = modelOriginalClassicTotal.best_solution[0]\n",
    "game = runGame(melhor_individuo, 'originalClassic', graphics = True)"
   ]
  },
  {
   "cell_type": "markdown",
   "id": "6f4c203f-2b1c-432b-9475-858772f4bba2",
   "metadata": {},
   "source": [
    "&emsp; Como não consigo colocar a execucao no notebook vou colocar videos de duas execuções:"
   ]
  },
  {
   "cell_type": "code",
   "execution_count": 47,
   "id": "e9c32224-480c-4251-917e-6ea8528667f8",
   "metadata": {
    "tags": []
   },
   "outputs": [
    {
     "data": {
      "text/html": [
       "\n",
       "    <video width=\"500\" height=\"400\" controls style =\"display:block; margin:0 auto;\">\n",
       "        <source src=\"gifs/OriginalClassicDG1.mp4\" type=\"video/mp4\">\n",
       "    </video>\n"
      ],
      "text/plain": [
       "<IPython.core.display.HTML object>"
      ]
     },
     "execution_count": 47,
     "metadata": {},
     "output_type": "execute_result"
    }
   ],
   "source": [
    "from IPython.display import HTML\n",
    "\n",
    "HTML(\"\"\"\n",
    "    <video width=\"500\" height=\"400\" controls style =\"display:block; margin:0 auto;\">\n",
    "        <source src=\"gifs/OriginalClassicDG1.mp4\" type=\"video/mp4\">\n",
    "    </video>\n",
    "\"\"\")"
   ]
  },
  {
   "cell_type": "markdown",
   "id": "962b07cc-674b-4871-8c7f-8fd94e6c241b",
   "metadata": {},
   "source": [
    "<p style=\"text-align: justify;\">\n",
    "&emsp; O pacman foi bem, é possível ver que ele vai atrás das capsulas, segue bem as comidas e desvia dos fantasmas quando necessario, vamos ver outra rodada:"
   ]
  },
  {
   "cell_type": "code",
   "execution_count": 49,
   "id": "c4f5f96f-5c94-40ce-b892-be07c38fcc80",
   "metadata": {
    "tags": []
   },
   "outputs": [
    {
     "data": {
      "text/html": [
       "\n",
       "    <video width=\"500\" height=\"400\" controls style =\"display:block; margin:0 auto;\">\n",
       "        <source src=\"gifs/OriginalClassicDG2.mp4\" type=\"video/mp4\">\n",
       "    </video>\n"
      ],
      "text/plain": [
       "<IPython.core.display.HTML object>"
      ]
     },
     "execution_count": 49,
     "metadata": {},
     "output_type": "execute_result"
    }
   ],
   "source": [
    "from IPython.display import HTML\n",
    "\n",
    "HTML(\"\"\"\n",
    "    <video width=\"500\" height=\"400\" controls style =\"display:block; margin:0 auto;\">\n",
    "        <source src=\"gifs/OriginalClassicDG2.mp4\" type=\"video/mp4\">\n",
    "    </video>\n",
    "\"\"\")"
   ]
  },
  {
   "cell_type": "markdown",
   "id": "5a77dab6-8362-4695-a4ba-87897e122234",
   "metadata": {},
   "source": [
    "<p style=\"text-align: justify;\">\n",
    "&emsp; Nessa rodada o pacman morreu ao completar metadade do tabuleiro, na hora de sua morte é possível ver que ele morreu pois, provavelmente, pesou mais ele ir até o fantasma assustado e até as comidas do que se distanciar do fantasma não assustado. <br>\n",
    "</p>"
   ]
  },
  {
   "cell_type": "markdown",
   "id": "0d47fb61-aea9-4332-b18d-f7e29a5c7cce",
   "metadata": {},
   "source": [
    "### 5. Conclusão"
   ]
  },
  {
   "cell_type": "markdown",
   "id": "07bfa9d5-b8e0-4f70-9dd2-4975f01fc59d",
   "metadata": {},
   "source": [
    "<p style=\"text-align: justify;\">\n",
    "&emsp; Nos treinamentos o pacman realmente aprendeu, foi possível ver ele indo atrás de capsulas, indo até as comidas e desviando de fantasmas, mas em alguns momentos esses pesos não foram bem regulados e isso foi visivel nos momentos em que o pacman tentava passar dentro de um fantasma sem medo para tentar pegar um fantasma com medo, e isso se deve a estocacidade dos fantasmas. <br>\n",
    "&emsp; Como existe essa estocacidade, quando aplicamos o algoritmo genético é possível que sejam selecionados indivíduos que não tem um conjunto de pesos muito bom, mas que obteve um score alto apenas porque teve sorte.<br>\n",
    "&emsp; Esse fator sorte é um problema bem grande para o algoritmo genético porque isso dificulta a convergencia e faz como que indivíduos não tão bons sejam selecionados para crossover ou então são passados para a próxima geração por elitismo. <br>\n",
    "&emsp; Então no caso em que o pacman tentava passar dentro de um fantasma sem medo para tentar pegar um fantasma com medo, provavelmente esse índividuo (conjunto de pesos) foi selecionado porque o pacman teve a sorte de no treinamento não encontrar nenhum situação dessas e obteve um score alto, o que é ruim para a evolução. <br>\n",
    "&emsp; Quando eu fui fazer o treinamento com os fantasmas que perseguem o pacman eu supus que a estocacidade iria diminuir e talvez o treinamento fosse melhor, eu estava errado, mesmo que os fantasmas sigam um padrão, perseguir o pacman, isso não remove a aleatoriedade envolvida e ainda pode existir casos em que o pacman seja sortudo. <br>\n",
    "&emsp; Assim concluo que a estocacidade envolvida no problema atrapalhou o treinamento, então agora vou aplicar um método de aprendizado por reforço em que provavelmente o pacman se saira melhor. <br>\n",
    "    </p>\n",
    "   "
   ]
  },
  {
   "cell_type": "code",
   "execution_count": 9,
   "id": "4067de41-8763-4c14-9063-ea6945d3f540",
   "metadata": {},
   "outputs": [],
   "source": [
    "a = [1]*1000000"
   ]
  },
  {
   "cell_type": "code",
   "execution_count": null,
   "id": "a494733e-9976-4b46-ac14-7d7f66854e27",
   "metadata": {},
   "outputs": [],
   "source": []
  }
 ],
 "metadata": {
  "kernelspec": {
   "display_name": "Python 3",
   "language": "python",
   "name": "python3"
  },
  "language_info": {
   "codemirror_mode": {
    "name": "ipython",
    "version": 3
   },
   "file_extension": ".py",
   "mimetype": "text/x-python",
   "name": "python",
   "nbconvert_exporter": "python",
   "pygments_lexer": "ipython3",
   "version": "3.8.8"
  }
 },
 "nbformat": 4,
 "nbformat_minor": 5
}
