{
 "cells": [
  {
   "cell_type": "markdown",
   "id": "8f25ac97-8a99-4dec-ba71-25370f29daa7",
   "metadata": {},
   "source": [
    "# MC886 - Projeto 3\n",
    "Aluno: Mateus Feitosa Olivi  RA: 222059"
   ]
  },
  {
   "cell_type": "markdown",
   "id": "bf590409-9e25-422d-9057-f6f2839a40d6",
   "metadata": {
    "tags": [],
    "toc-hr-collapsed": true
   },
   "source": [
    "# Parte 1\n",
    "\n",
    "<p style=\"text-align: justify;\">\n",
    "&emsp; Nesta parte do projeto vou aplicar uma técnica de computação evolucionária para resolver o problema do Pac-man. O trabalho consiste em encontrar uma solução adequada para o problema, avaliando-o segundo diversos parâmetros.\n",
    "</p>"
   ]
  },
  {
   "cell_type": "markdown",
   "id": "d002eb20-eea4-4a7e-a80d-1f374c8504ab",
   "metadata": {},
   "source": [
    "<p style=\"text-align: justify;\">\n",
    "&emsp; A primeira coisa que preciso fazer é definir um modelo para se aplicar o algoritmo evolucionario, isso é, um modelo que resolve o problema do Pac-man baseando-se em um conjunto de entradas que define um cromossomo. <br>\n",
    "&emsp; No tópico a seguir vou detalhar como achei o meu modelo:\n",
    "</p>"
   ]
  },
  {
   "cell_type": "markdown",
   "id": "75e4ab88-7b63-4560-8fdc-ee8716a16630",
   "metadata": {},
   "source": [
    "### 1. Definição do modelo\n",
    "<p style=\"text-align: justify;\">\n",
    "&emsp; Antes de tudo vou importar as dependências para rodar o pacman:\n",
    "</p>"
   ]
  },
  {
   "cell_type": "code",
   "execution_count": 1,
   "id": "23ee1177-d6fd-44b4-96d2-dc4bb032770a",
   "metadata": {},
   "outputs": [],
   "source": [
    "import sys, os\n",
    "os.chdir(sys.path[0]+'/search')\n",
    "\n",
    "from pacman import runGames, loadAgent\n",
    "from pacman import Directions\n",
    "import pacmanAgents\n",
    "from util import Queue\n",
    "import textDisplay\n",
    "import game\n",
    "import layout\n",
    "import random\n",
    "import graphicsDisplay\n",
    "\n",
    "import numpy as np "
   ]
  },
  {
   "cell_type": "markdown",
   "id": "13c39aae-7f84-41dc-baab-98e783f81485",
   "metadata": {},
   "source": [
    "#### 1.2 Ideia inicial: \n",
    "\n",
    "<p style=\"text-align: justify;\">\n",
    "&emsp; Para definir o modelo usei como inspiração inicial o GreedyAgent, esse agente está definido nos arquivos do pacman, mais precisamente no arquivo pacmanAgents.py, vamos dar uma olhada no que ele faz:\n",
    "</p>"
   ]
  },
  {
   "cell_type": "code",
   "execution_count": 2,
   "id": "ca74989c-66c1-45f2-90d7-c93aa3d4c235",
   "metadata": {},
   "outputs": [],
   "source": [
    "class GreedyAgent(game.Agent):\n",
    "    def __init__(self, evalFn=\"scoreEvaluation\"):\n",
    "        self.evaluationFunction = util.lookup(evalFn, globals())\n",
    "        assert self.evaluationFunction != None\n",
    "\n",
    "    def getAction(self, state):\n",
    "        # Generate candidate actions\n",
    "        legal = state.getLegalPacmanActions()\n",
    "        if Directions.STOP in legal: legal.remove(Directions.STOP)\n",
    "\n",
    "        successors = [(state.generateSuccessor(0, action), action) for action in legal]\n",
    "        scored = [(self.evaluationFunction(state), action) for state, action in successors]\n",
    "        bestScore = max(scored)[0]\n",
    "        bestActions = [pair[1] for pair in scored if pair[0] == bestScore]\n",
    "        return random.choice(bestActions)\n",
    "\n",
    "def scoreEvaluation(state):\n",
    "    return state.getScore()"
   ]
  },
  {
   "cell_type": "markdown",
   "id": "41252003-8526-4095-93e9-62ec00e4411e",
   "metadata": {},
   "source": [
    "<p style=\"text-align: justify;\">\n",
    "&emsp; Esse código é relativamente simples, no método getAction, inicialmente o agente verifica quais ações ele pode fazer, isso é, quais direção ele pode ir, desconsiderando a possibilidade do pacman ficar parado, para isso o código usa um método já implementado, que é o getLegalPacmanActions(). Após isso, para cada possível direção, o código gera os estados sucessores possíveis, utilizando o método generateSuccessor(). Por fim esse agente verifica qual desses estados tem o melhor score, utilizando a função scoreEvaluation, e então retorna qual é a melhor ação a ser executada para se obter o maior score. <br>\n",
    "&emsp; Mas note, esse agente é muito simplista, e não pode ser utilizado para se aplicar um algoritmo genético, porém posso modificar ele de tal forma a obter um agente em que poderei aplicar o algoritmo. "
   ]
  },
  {
   "cell_type": "markdown",
   "id": "b00deeb8-11e8-4f76-9f47-831302dd35da",
   "metadata": {},
   "source": [
    "#### 1.3 O meu modelo\n",
    "<p style=\"text-align: justify;\">\n",
    "&emsp; No GreedyAgent, o estado é avaliado segundo o score que foi feito, porém isso não é necessariamente bom, já que as vezes o pacman deve fazer desviar de um fantasma, ou então prefirir comer uma capsula ao invés de comer uma comida, ou seja, no meu modelo a avaliação do estado não será baseado, exclusivamente, no score. <br>\n",
    "&emsp; Essa avaliação pode seguir a lógica de se obter algum bônus por fazer alguma ação positiva que não é contabilizada pelo score, ou seja, o pacman pode obter um bônus por se afastar de um fantasma, por estar perto de um fantasma assustado, por se aproximar de uma capsula, por consumir uma capsula, por consumir um fantasma assustado, por se aproximar de uma comida e por consumir uma comida. <br>\n",
    "&emsp; Um exemplo para essa lógica: se eu tiver um alto bônus por aproximar de uma comida e um baixo bônus por ficar longe dos fantasmas, o pacman poderá morrer tentando pegar uma comida, porém na situacão oposta, o pacman ira prefirir ficar distantes dos fantasmas do que consumir comidas. <br>\n",
    "&emsp; Esses bônus poderão ser regulados com pesos que serão dados a eles, esses pesos serão os parametros do meu modelo e determinará o grau de importancia para a escolha do melhor estado seguinte do pacman.<br>\n",
    "&emsp; Abaixo segue o modelo que fiz baseando-se nessa lógica:<br>"
   ]
  },
  {
   "cell_type": "code",
   "execution_count": 2,
   "id": "879dbcb4-ef40-48b6-8f83-cec94e3b1d34",
   "metadata": {},
   "outputs": [],
   "source": [
    "class SmartAgent(game.Agent):    \n",
    "    def __init__(self, pesos):\n",
    "        self.pesos = pesos\n",
    "        \n",
    "    def getAction(self, state):\n",
    "        legal = state.getLegalPacmanActions()\n",
    "        if Directions.STOP in legal: legal.remove(Directions.STOP)\n",
    "    \n",
    "        currentState = state\n",
    "        \n",
    "        successors = [(state.generateSuccessor(0, action), action) for action in legal]\n",
    "        evalueted =  [(self.evaluation(state, currentState), action) for state, action in successors]\n",
    "        bestEvaluation = max(evalueted)[0]\n",
    "        bestActions = [pair[1] for pair in evalueted if pair[0] == bestEvaluation]\n",
    "        \n",
    "        return random.choice(bestActions)\n",
    "        \n",
    "    def getNeighbors(self, pos, walls, visited):\n",
    "        c, l = pos\n",
    "        neighbors = []\n",
    "        \n",
    "        for i in range(-1,2,1):\n",
    "            for j in range(-1,2,1):\n",
    "                if(abs(i) != abs(j) and c+i < walls.width and c+i >= 0 and l+j < walls.height and l+j >= 0):\n",
    "                    if(walls[c+i][l+j] == False and visited[c+i][l+j] == 0):\n",
    "                        neighbors.append((c+i,l+j))             \n",
    "        return neighbors\n",
    "        \n",
    "    def bfsDistance(self, state, posIni, endPos = None, food = False):\n",
    "        queue = Queue()\n",
    "        \n",
    "        walls = state.getWalls()\n",
    "        if(food):\n",
    "            foods = state.getFood()\n",
    "            \n",
    "        visited = np.zeros((walls.width,walls.height))\n",
    "        visited[posIni[0]][posIni[1]] = 1\n",
    "                \n",
    "        queue.push((posIni, 1))\n",
    "        while(not queue.isEmpty()):\n",
    "            current = queue.pop()\n",
    "            pos = current[0]\n",
    "            stepsUntilNow = current[1]\n",
    "            \n",
    "            if(food == True):\n",
    "                if(foods[pos[0]][pos[1]] == True):\n",
    "                    return stepsUntilNow\n",
    "            else:\n",
    "                if(pos[0] == endPos[0] and pos[1] == endPos[1]):\n",
    "                    return stepsUntilNow\n",
    "    \n",
    "            visited[pos[0]][pos[1]] = 1\n",
    "            possibles = self.getNeighbors(pos,walls, visited)\n",
    "            for possibleMove in possibles:\n",
    "                queue.push((possibleMove, stepsUntilNow+1))\n",
    "        return -1\n",
    "    \n",
    "    def ghosts(self, state):\n",
    "        ghostsPos = state.getGhostPositions()\n",
    "        n_ghosts = len(ghostsPos)\n",
    "        \n",
    "        scared_timer = []\n",
    "        positionsNonScared = []\n",
    "        positionsScared = []\n",
    "        \n",
    "        for i in range(n_ghosts):\n",
    "            scared_timer.append(state.getGhostStates()[i].scaredTimer)\n",
    "            \n",
    "        for i in range(n_ghosts):\n",
    "            if(scared_timer[i] == 0):\n",
    "                positionsNonScared.append(np.ceil(ghostsPos[i]))\n",
    "            else:\n",
    "                positionsScared.append(np.ceil(ghostsPos[i]))\n",
    "            \n",
    "        return positionsScared, positionsNonScared\n",
    "    \n",
    "    def nearstElement(self, state, posElement, pacmanPos):\n",
    "        minDist = float('inf')\n",
    "        for pos in posElement:\n",
    "            dist = self.bfsDistance(state, pacmanPos, pos)\n",
    "            if(dist < minDist):\n",
    "                minDist = dist\n",
    "        return minDist\n",
    "            \n",
    "    def countScaredGhosts(self, state):\n",
    "        total=0\n",
    "        for ghost in state.getGhostStates():\n",
    "            if(ghost.scaredTimer !=0):\n",
    "                total+=1\n",
    "        return total\n",
    "    \n",
    "    def evaluation(self, state, currentState):\n",
    "        \n",
    "        p1 = self.pesos[0]   # peso relacionado à distancia do fantasma malvado \n",
    "        p2 = self.pesos[1]   # peso relacionado à distancia do fantasma assustado mais próximo\n",
    "        p3 = self.pesos[2]   # peso relacionado a comer um fantasma assustado\n",
    "        p4 = self.pesos[3]   # peso relacionado à distancia da comida mais próxima\n",
    "        p5 = self.pesos[4]   # peso relacionado a comer uma comida\n",
    "        p6 = self.pesos[5]   # peso relacionado à distancia da capsula mais próxima\n",
    "        p7 = self.pesos[6]   # peso relacionado a comer uma capsula\n",
    "        \n",
    "        score = state.getScore()\n",
    "        scaredGhosts, badGhosts = self.ghosts(state)\n",
    "        pacman = state.getPacmanPosition()\n",
    "        capsules = state.getCapsules()\n",
    "        \n",
    "        avaliacao = score\n",
    "        ################## Bad Ghost in next position  #################\n",
    "        if(len(badGhosts) > 0):\n",
    "            distBadGhost = self.nearstElement(state, badGhosts, pacman)\n",
    "            if(distBadGhost <= p1):\n",
    "                return float('-inf')\n",
    "            \n",
    "        ################## Nearst Scared Ghosts ####################\n",
    "        if(len(scaredGhosts) > 0):\n",
    "            distScaredGhosts = self.nearstElement(state, scaredGhosts, pacman)\n",
    "            avaliacao += p2*(1/distScaredGhosts)\n",
    "            \n",
    "        ############### Eat scared ghost bonus #################\n",
    "        numScaredCurrent = self.countScaredGhosts(currentState)\n",
    "        numScared = self.countScaredGhosts(state)\n",
    "        scaredDiff = numScaredCurrent - numScared\n",
    "        if(scaredDiff > 0):\n",
    "            avaliacao += p3 * scaredDiff\n",
    "            \n",
    "        ################ Nearst food ###################\n",
    "        nearestFood = self.bfsDistance(state, pacman, food = True)\n",
    "        avaliacao += p4*(1/nearestFood)\n",
    "        \n",
    "        ################ Eat food bonus ##################\n",
    "        numfood= state.getFood()\n",
    "        numFoodCurrent = currentState.getFood()\n",
    "        foodDiff = numFoodCurrent.count(True) - numfood.count(True)\n",
    "        avaliacao += p5*foodDiff\n",
    "        \n",
    "        ################# Nearst capsule ################\n",
    "        if(len(capsules) > 0):\n",
    "            distCapsule = self.nearstElement(state, capsules, pacman)\n",
    "            avaliacao += p6*(1/distCapsule)\n",
    "        \n",
    "        ################# Eat capsule bonus ##############\n",
    "        numcapsules = len(state.getCapsules())\n",
    "        numCapsulesCurrentState = len(currentState.getCapsules())\n",
    "        avaliacao += p7*(numCapsulesCurrentState - numcapsules)\n",
    "        \n",
    "        return avaliacao"
   ]
  },
  {
   "cell_type": "markdown",
   "id": "47264478-928b-40ea-bcc7-8287f188f58a",
   "metadata": {},
   "source": [
    "<p style=\"text-align: justify;\">\n",
    "&emsp; Note que esse agente faz o que planejei, no método getAction, inicialmente o agente verifica quais ações ele pode fazer, isso é, quais direção ele pode ir, desconsiderando a possibilidade do pacman ficar parado, para isso o código usa um método já implementado, que é o getLegalPacmanActions(). Após isso, para cada possível direção, o código gera os estados sucessores possíveis, utilizando o método generateSuccessor(). Por fim esse agente verifica qual desses estados tem uma melhor avaliação, utilizando o método evaluation. <br>\n",
    "&emsp; A avaliação de um estado é feita seguindo aquela lógica que já expliquei, abaixo definirei todos os fatores que serão usados para avaliar um estado:<br>\n",
    "\n",
    "1) Score: A avaliação do próximo estado começa com o score desse próximo estado.<br>\n",
    "2) Distancia ao fantasma mais próximo: Para a posição do pacman é calculada a distancia ao fantasma mais próximo, caso ele esteja a uma distância p1 do fantasma o score será avaliado como pior possivel e terá avaliação menos infinito. O Algoritmo genético se encarregará de descobrir qual valor de p1.<br>\n",
    "3) Distância ao fantasma assustado mais próximo: Para a posição do pacman é calculada a distância ao fantasma assustado mais próximo, então eu somo a avaliação do estado com um peso p2 multiplicado pelo inverso dessa distância, ou seja, menores distâncias a esses fantasmas levarão a uma melhor avaliação, o peso p2 regulará a importância de se aproximar desses fantasmas.<br>\n",
    "4) Comer fantasmas: É calculada a diferença entre o número de fantasmas assustados no próximo estado e do número de fantasmas assustados no estado atual, assim posso descobrir se foram consumidos fantamas, sabendo disso eu somo a avaliação do estado com um peso p3 multiplicado pelo número de fantasmas consumidos, esse peso p3 regulará a importância de consumir esses fantasmas .<br>\n",
    "5) Distância a comida mais próxima: Para a posição do pacman é calculada a distância a comida mais próxima, então eu somo a avaliação do estado com um peso p4 multiplicado pelo inverso dessa distância, ou seja, uma menor distância à comida mais próxima levará a uma melhor avaliação, o peso p4 regulará a importância de se aproximar da comida mais próxima.<br>\n",
    "6) Comer comidas: É calculada a diferença entre o número de comidas no próximo estado e do número de comidas no estado atual, assim posso descobrir se comidas foram consumidas, sabendo disso eu somo a avaliação do estado com um peso p5 multiplicado pelo número de comidas consumidas, esse peso p5 regulará a importância de consumir uma comida.<br>\n",
    "7) Distância a capsula mais próxima: Para a posição do pacman é calculada a distância a capsula mais próxima, então eu somo a avaliação do estado com um peso p6 multiplicado pelo inverso dessa distância, ou seja, uma menor distância à capsula mais próxima levará a uma melhor avaliação, o peso p6 regulará a importância de se aproximar das capsulas.<br>\n",
    "8) Comer capsula: É calculada a diferença entre o número de capsulas no próximo estado e do número de capsulas no estado atual, assim posso descobrir se capsulas foram consumidas, sabendo disso eu somo a avaliação do estado com um peso p7 multiplicado pelo número de capsulas consumidas, esse peso p7 regulará a importância de consumir uma capsula.\n",
    "</p>"
   ]
  },
  {
   "cell_type": "markdown",
   "id": "0e5b734b-8af8-42ea-8475-d9b3235e4e90",
   "metadata": {},
   "source": [
    "<p style=\"text-align: justify;\">\n",
    "&emsp; Note que no meu código eu usei um bfs para calcular as distancias entre os elementos do tabuleiro, assim levarei em consideração as paredes.<br>\n",
    "&emsp; Os pesos p1, p2, p3, p4, p5, p6 e p7 serão descobertos aplicando um algoritmo genético, ou seja, um individuo será caracterizado por uma array na forma [p1,p2,p3,p4,p5,p6,p7]<br> \n",
    "&emsp; Agora com o agente pronto posso aplicar o algoritmo genético e achar o melhor conjunto de pesos para o executar o agente. <br>"
   ]
  },
  {
   "cell_type": "markdown",
   "id": "36529203-14ec-40b8-bc02-1afce5b8e64b",
   "metadata": {},
   "source": [
    "### 2. Algoritmo genético"
   ]
  },
  {
   "cell_type": "markdown",
   "id": "7be31799-758d-4d1d-9a38-82e6db19586f",
   "metadata": {},
   "source": [
    "<p style=\"text-align: justify;\">\n",
    "&emsp;Para o algoritmo genético irei utilizar a biblioteca geneticalgs, ela pode ser obtida através do pip, porém eu baixei os seus módulos do github oficial <a href=\"https://github.com/bobirdmi/genetic-algorithms\">link aqui</a>. <br>\n",
    "&emsp;Essa biblioteca faz tudo o que preciso, porém eu tive que modificá-la para obter o valor do maior e menor fitness em cada geração (o que não era feito por padrão), também adicionei um trecho de código para imprimir quando cada geração tiver sido gerada.<br>\n",
    "&emsp;Uma outra modificação que fiz foi quanto ao elitismo, em aula vimos que no elitismo em uma nova geração são gerados n-1 indivíduos novos e adicionado o indivíduo de melhor fitness da geração anterior, porém nessa biblioteca isso era diferente, nela, quando o elitismo era ativado, a nova geração tinha n indivíduos novos e também o indivíduo de melhor fitness da geração anterior, ou seja, a cada geração a população aumentava em 1 indivíduo, a modificação que fiz foi para que o elitismo ficasse igual o que foi visto em aula.<br>\n",
    "&emsp;A versão com todas essas modificações da biblioteca está na pasta geneticalgsmod.\n",
    "</p> "
   ]
  },
  {
   "cell_type": "markdown",
   "id": "838b1b2d-7301-4076-8022-45e7fb7ce368",
   "metadata": {},
   "source": [
    "#### 2.1 Parâmetros da biblioteca\n",
    "Vou iniciar apresentando os parâmetros da biblioteca que eu vou usar:<br>\n",
    "1) fitness_func (function): A funcao de fitness será usada.<br>\n",
    "2) optim (str): Qual tipo de fitness será feito, isso é, se iremos maximizar a função de fitness (parâmetro 'max') ou se iremos minimiza-la (parâmetro 'min').<br>\n",
    "3) selection (str): Tipo de seleção que irá ser feita, \"rank\", \"roulette\" ou \"tournament\".<br>\n",
    "4) tournament_size (int): Define o tamanho do torneio no caso em que 'selection' == 'tournament'.<br>\n",
    "5) mut_prob (float): Probabilidade de ocorrer mutação.<br>\n",
    "6) mut_type (int): Nesse parâmetro se define quantos genes irão sofrer mutação.<br>\n",
    "7) cross_prob (float): Probabilidade de ocorrer crossover.<br>\n",
    "8) cross_type (int): Define o tipo de crossover, singlepoint (1), doublepoint (2), multipoint (> 2).<br>\n",
    "9) elitism (True, False): Habilita ou desabilita o elitismo.<br>\n"
   ]
  },
  {
   "cell_type": "markdown",
   "id": "30494173-2491-4c8e-9c64-abca6d8b455e",
   "metadata": {},
   "source": [
    "<p style=\"text-align: justify;\">\n",
    "&emsp; Durante o treinamento das populações irei deixar explicito como aplicarei esses parametros\n",
    "</p>"
   ]
  },
  {
   "cell_type": "markdown",
   "id": "324f3c01-50db-4bdf-a365-e78c589cfcaa",
   "metadata": {},
   "source": [
    "### 3. Treinamento\n",
    "<p style=\"text-align: justify;\">\n",
    "&emsp; Agora vou fazer o treinamento incluindo os fantasmas para todos os layouts especificados, que são: smallClassic, mediumClassic e originalClassic.<br>\n",
    "&emsp;Primeiro vou definir os critérios e parâmetros que serão usados para fazer a evolução:<br>"
   ]
  },
  {
   "cell_type": "markdown",
   "id": "e6825583-aacb-4144-ba14-fee2a87a1fc7",
   "metadata": {},
   "source": [
    "#### 3.1 Critérios para o treinamento\n",
    "<p style=\"text-align: justify;\">\n",
    "\n",
    "1) População inicial: Para aplicar o algoritmo genético irei utilizar uma população de 70 indivíduos, como tenho 7 genes em cada cromossomo, pensei que com 70 indivíduos eu terei uma variação de 10 valores diferentes para cada gene.<br>\n",
    "2) Critério de parada: Meu critério de parada será o número de gerações, no meu caso vou escolher 40 gerações.<br>\n",
    "3) Técnica de seleção: Como critério de seleção irei usar seleção por ranqueamento, como o problema do pacman está relacionado a pegar todas as comidas do tabuleiro com o maior score possível e baseando na maneira na qual eu modelei o problema, não acho que utilizar o ranqueamento me levará há um maxímo local.<br>\n",
    "4) Técnica de crossover: irei utilizar um crossover singlepoint.<br>\n",
    "5) Técnica de mutação: irei utilizar a técnica padrão da biblioteca que eu escolhi, o método aplicado é o seguinte: se escolhe o número n de genes que será aplicado a mutação e uma probabilidade p de ocorrer a mutação. Com esses dados o algoritmo irá transformar esses n genes em cadeias de bits e cada um desses bits é percorrido, então para cada um desses bits percorrido existe a probabilidade p desse bit ser invertido.<br>\n",
    "6) Método de substituição: Irei utilizar o elitismo, em uma nova geração a população terá tamanho n-1 e o melhor indíviduo da geração anterior será transferido para essa nova geração.<br>\n",
    "7) Taxa de mutação: Irei definir para a mutação ocorrer em no maxímo 1 gene e com probabilidade de inversão de cada bit de 10%, conforme descrito na Técnica de mutação.<br>\n",
    "8) Taxa de crossover: O singlepoint crossover irá ocorrer com probabilidade de 90%.<br>\n",
    "\n",
    "&emsp; Agora vou definir algumas funções auxiliares que utilizarei no treinamento:<br>"
   ]
  },
  {
   "cell_type": "markdown",
   "id": "c4e81807-f07a-4d08-b3a8-b1215bbeeab2",
   "metadata": {},
   "source": [
    "#### 3.2 Funções auxiliares"
   ]
  },
  {
   "cell_type": "markdown",
   "id": "1acda2b9-ed23-418d-892d-0b6d69f32681",
   "metadata": {},
   "source": [
    "<p style=\"text-align: justify;\">\n",
    "&emsp; Primeiro vou definir uma função que roda o pacman usando o agente SmartAgent e para os fantasmas RandomGhosts, que são os fantasmas que se movem aleatoriamente, além disso o parâmetro graphics define se usarei interface gráfico ou não:\n",
    "</p>"
   ]
  },
  {
   "cell_type": "code",
   "execution_count": 3,
   "id": "1d7f9f1e-98da-4ddd-9dc7-725527cb0556",
   "metadata": {},
   "outputs": [],
   "source": [
    "def runGame(pesos, olayout, graphics = False):\n",
    "    argumentos ={}\n",
    "    pacman = SmartAgent(pesos)\n",
    "    ghostType = loadAgent('RandomGhost', True)\n",
    "    textDisplay.SLEEP_TIME = 0\n",
    "    argumentos['layout'] = layout.getLayout(olayout)\n",
    "    argumentos['pacman'] = pacman\n",
    "    argumentos['ghosts'] = [ghostType( i+1 ) for i in range( 2 )]\n",
    "    argumentos['display'] = textDisplay.NullGraphics()\n",
    "    if(graphics):\n",
    "        argumentos['display'] = graphicsDisplay.PacmanGraphics(1, frameTime = 0)\n",
    "    argumentos['numGames'] = 1\n",
    "    argumentos['record'] = False\n",
    "    argumentos['catchExceptions'] = False\n",
    "    argumentos['timeout'] = 1\n",
    "    \n",
    "    res = runGames(**argumentos)\n",
    "    game = res[0] \n",
    "\n",
    "    return game"
   ]
  },
  {
   "cell_type": "markdown",
   "id": "f8cd4ae4-1104-4e59-a295-1471e2b7e86a",
   "metadata": {},
   "source": [
    "&emsp; Essa função é para plotar um gráfico de score pelo número de gerações."
   ]
  },
  {
   "cell_type": "code",
   "execution_count": 4,
   "id": "6b285308-f81c-44c7-80fd-8a3d0e4b12cc",
   "metadata": {},
   "outputs": [],
   "source": [
    "import matplotlib.pyplot as plt\n",
    "%matplotlib inline\n",
    "\n",
    "def plotGraph(valores, titulo):\n",
    "    x1 = list(range(len(valores)))\n",
    "    plt.plot(x1, valores, 'o')\n",
    "    plt.xlabel('Gerações', fontsize = 12)\n",
    "    plt.ylabel('score', fontsize = 12)\n",
    "    plt.title(titulo,fontsize = 12 )"
   ]
  },
  {
   "cell_type": "markdown",
   "id": "707a6445-3ead-44f0-9e1a-ea961a711e76",
   "metadata": {},
   "source": [
    "&emsp; Essa função é para executar o jogo N vezes, e imprimir o score do jogo, se ganhou ou perdeu e a quantidade de movimento:"
   ]
  },
  {
   "cell_type": "code",
   "execution_count": 5,
   "id": "e115f2d8-1466-4c63-a3e8-8fca35adc10c",
   "metadata": {},
   "outputs": [],
   "source": [
    "def runNtimes(olayout, pesos, n):\n",
    "    status = ''\n",
    "    for i in range(n): \n",
    "        game = runGame(pesos, olayout, graphics = False)\n",
    "        if(game.state.isWin()):\n",
    "            status = 'pacman venceu'\n",
    "        else:\n",
    "            status = 'pacman morreu'\n",
    "        n = len(game.moveHistory)\n",
    "        print('Score:', game.state.getScore(),'-', status, 'com', n, 'movimentos')"
   ]
  },
  {
   "cell_type": "markdown",
   "id": "fb8e3284-44f1-44be-929d-5986af1e1c5f",
   "metadata": {},
   "source": [
    "#### 3.3 Serialização\n",
    "<p style=\"text-align: justify;\">\n",
    "&emsp; O algoritmo genético leva um bom tempo para obter o resultado, pesando nisso eu vou serializar os objetos após a finalização dos meus modelos, assim você, leitor, poderá utilizar os modelos achados e plotar novamente os gráfico para verificar sua autenticidade.<br>\n",
    "&emsp; Abaixo segue as funções usadas para a serialização e desserialização:"
   ]
  },
  {
   "cell_type": "code",
   "execution_count": 6,
   "id": "ba551713-2f73-450a-a879-70ecfcf39598",
   "metadata": {},
   "outputs": [],
   "source": [
    "import pickle\n",
    "\n",
    "def serialize(caminho, objeto):\n",
    "    outfile = open(caminho,'wb')\n",
    "    pickle.dump(objeto,outfile)\n",
    "    outfile.close()\n",
    "\n",
    "def deserialize(caminho):\n",
    "    infile = open(caminho,'rb')\n",
    "    objeto = pickle.load(infile)\n",
    "    infile.close()\n",
    "    return objeto"
   ]
  },
  {
   "cell_type": "markdown",
   "id": "db395a9b-1666-4158-ad44-c710cc0db44b",
   "metadata": {
    "tags": []
   },
   "source": [
    "#### 3.4 Layout SmallClassic\n",
    "&emsp; Iniciando os treinamentos, primeiro vou definir a função de fitness para esse tabuleiro, que retornará o score da partida e irá definir 2 fantasmas com comportamento aleatório, e note que irei usar o meu agente que criei no tópico 1.3:"
   ]
  },
  {
   "cell_type": "code",
   "execution_count": 7,
   "id": "8c5f6b15-9ae4-41bf-ab64-ad104f7aaf0c",
   "metadata": {},
   "outputs": [],
   "source": [
    "def fitfunctionSmallClassic(pesos):\n",
    "    argumentos ={}\n",
    "    pacman = SmartAgent(pesos)\n",
    "    ghostType = loadAgent('RandomGhost', True)\n",
    "    textDisplay.SLEEP_TIME = 0\n",
    "    argumentos['layout'] = layout.getLayout( 'smallClassic' )\n",
    "    argumentos['pacman'] = pacman\n",
    "    argumentos['ghosts'] = [ghostType( i+1 ) for i in range( 2 )]\n",
    "    argumentos['display'] = textDisplay.NullGraphics()\n",
    "    argumentos['numGames'] = 1\n",
    "    argumentos['record'] = False\n",
    "    argumentos['catchExceptions'] = True\n",
    "    argumentos['timeout'] = 1\n",
    "    \n",
    "    res = runGames(**argumentos)\n",
    "    score = res[0].state.getScore() \n",
    "\n",
    "    return score"
   ]
  },
  {
   "cell_type": "markdown",
   "id": "5b87d584-f463-4fac-8165-88fdd9b6ffa6",
   "metadata": {},
   "source": [
    "&emsp; Agora, vou utilizar os parâmetros e critérios que defini no tópico 3.1 para instanciar um modelo de algoritmo genético para pesos reais da biblioteca:"
   ]
  },
  {
   "cell_type": "code",
   "execution_count": 8,
   "id": "6b9ee63e-071c-48b1-9c5c-59323a77ad39",
   "metadata": {},
   "outputs": [],
   "source": [
    "import geneticalgsmod as ge\n",
    "\n",
    "modelSmallClassic = ge.RealGA(fitness_func = fitfunctionSmallClassic, \n",
    "                              optim='max',          #Irei maximizar o score\n",
    "                              selection=\"rank\",     #Para Seleção usarei o ranqueamento\n",
    "                              mut_prob=0.10,        #Probabilidade de inverter bits na mut de 10%\n",
    "                              mut_type=1,           #Mutacao ocorrerá em no maxima 1 gene de um cromossomo\n",
    "                              cross_prob=0.9,       #Prob de ocorrer cross de 90%\n",
    "                              cross_type=1,         #Cross singlepoint\n",
    "                              elitism=True,         #Elitismo ativado\n",
    "                              tournament_size=None)"
   ]
  },
  {
   "cell_type": "markdown",
   "id": "bc783d72-c0af-4637-ab62-b14319cf7459",
   "metadata": {},
   "source": [
    "&emsp; Vou iniciar uma população de 70 indivíduos e especificar que um indivíduo tem 7 genes no intervalo de [0,100]:"
   ]
  },
  {
   "cell_type": "code",
   "execution_count": 9,
   "id": "e2dc400d-d1d1-46fe-8fc3-bde8a6b86751",
   "metadata": {},
   "outputs": [],
   "source": [
    "population_size = 70\n",
    "dimensao = 7         # numero de argumentos da funcao        \n",
    "interval = (0,100)\n",
    "modelSmallClassic.init_random_population(population_size, dimensao, interval) # iniciando a população"
   ]
  },
  {
   "cell_type": "markdown",
   "id": "f56acd89-70a0-40e8-98bc-9d886cb6779f",
   "metadata": {
    "tags": []
   },
   "source": [
    "&emsp; Agora vou definir o número maxímo de gerações como 40 e aplicar o algoritmo:"
   ]
  },
  {
   "cell_type": "code",
   "execution_count": 10,
   "id": "74e5add1-b4bf-4fc4-9c8b-53387f6a2749",
   "metadata": {
    "scrolled": true,
    "tags": []
   },
   "outputs": [
    {
     "name": "stdout",
     "output_type": "stream",
     "text": [
      "Geração 1 terminada\n",
      "Geração 2 terminada\n",
      "Geração 3 terminada\n",
      "Geração 4 terminada\n",
      "Geração 5 terminada\n",
      "Geração 6 terminada\n",
      "Geração 7 terminada\n",
      "Geração 8 terminada\n",
      "Geração 9 terminada\n",
      "Geração 10 terminada\n",
      "Geração 11 terminada\n",
      "Geração 12 terminada\n",
      "Geração 13 terminada\n",
      "Geração 14 terminada\n",
      "Geração 15 terminada\n",
      "Geração 16 terminada\n",
      "Geração 17 terminada\n",
      "Geração 18 terminada\n",
      "Geração 19 terminada\n",
      "Geração 20 terminada\n",
      "Geração 21 terminada\n",
      "Geração 22 terminada\n",
      "Geração 23 terminada\n",
      "Geração 24 terminada\n",
      "Geração 25 terminada\n",
      "Geração 26 terminada\n",
      "Geração 27 terminada\n",
      "Geração 28 terminada\n",
      "Geração 29 terminada\n",
      "Geração 30 terminada\n",
      "Geração 31 terminada\n",
      "Geração 32 terminada\n",
      "Geração 33 terminada\n",
      "Geração 34 terminada\n",
      "Geração 35 terminada\n",
      "Geração 36 terminada\n",
      "Geração 37 terminada\n",
      "Geração 38 terminada\n",
      "Geração 39 terminada\n",
      "Geração 40 terminada\n"
     ]
    }
   ],
   "source": [
    "max_generation = 40\n",
    "fitness_progressSC, best_individualSC, worst_individualSC = modelSmallClassic.run(max_generation)"
   ]
  },
  {
   "cell_type": "markdown",
   "id": "8579a088-1d81-4850-8d19-a6fcdb4e3cc3",
   "metadata": {},
   "source": [
    "&emsp; Agora, como dito anteriormente, vou serializar os objetos para poder usar depois, irei colocar todas as saídas úteis em uma lista, irei serializar essa lista e salvar na pasta de nome save."
   ]
  },
  {
   "cell_type": "code",
   "execution_count": 12,
   "id": "2e31c75d-7c67-4460-b469-9af7b94b2fd6",
   "metadata": {},
   "outputs": [],
   "source": [
    "lista = [fitness_progressSC, best_individualSC, worst_individualSC, modelSmallClassic]\n",
    "serialize(sys.path[0]+'/save/smallClassicData', lista)"
   ]
  },
  {
   "cell_type": "markdown",
   "id": "70b2ff71-a4be-46fc-8109-300e39c05cca",
   "metadata": {},
   "source": [
    "&emsp; Agora vou desserializar a lista e restaurar o progresso do treinamento, a sequência dessas ações são inúteis se todas as células forem executas juntas. Porém, caso queira evitar o treinamento, podemos desserializar o objeto e recuperar o modelo."
   ]
  },
  {
   "cell_type": "code",
   "execution_count": 13,
   "id": "409545f9-94a5-49e5-8652-ae6d07e18399",
   "metadata": {},
   "outputs": [],
   "source": [
    "lista = deserialize(sys.path[0]+'/save/smallClassicData')"
   ]
  },
  {
   "cell_type": "markdown",
   "id": "5cf289c7-e8a6-41b4-8aa8-b534ef1f7ed9",
   "metadata": {},
   "source": [
    "&emsp; Definindo novamente as variaveis:"
   ]
  },
  {
   "cell_type": "code",
   "execution_count": 14,
   "id": "b49dfb91-d178-4380-891c-9aa6840bca14",
   "metadata": {},
   "outputs": [],
   "source": [
    "fitness_progress, best_individual, worst_individual, model = lista"
   ]
  },
  {
   "cell_type": "markdown",
   "id": "5451c546-828d-411c-8efa-7dd5f90360d0",
   "metadata": {},
   "source": [
    "&emsp; Agora vou plotar os gráficos do fitness médio, do melhor fitness e do pior fitness ao longo das gerações:"
   ]
  },
  {
   "cell_type": "code",
   "execution_count": 15,
   "id": "c2e11933-ca72-4b0a-a0b7-a8d210337fc3",
   "metadata": {},
   "outputs": [
    {
     "data": {
      "image/png": "[encoded data removed]",
      "text/plain": [
       "<Figure size 432x288 with 1 Axes>"
      ]
     },
     "metadata": {
      "needs_background": "light"
     },
     "output_type": "display_data"
    }
   ],
   "source": [
    "plotGraph(fitness_progress, 'Fitness médio ao longo das gerações')"
   ]
  },
  {
   "cell_type": "code",
   "execution_count": 16,
   "id": "c2f48da0-7f04-4a18-b4a2-95cbde41f020",
   "metadata": {},
   "outputs": [
    {
     "data": {
      "image/png": "[encoded data removed]",
      "text/plain": [
       "<Figure size 432x288 with 1 Axes>"
      ]
     },
     "metadata": {
      "needs_background": "light"
     },
     "output_type": "display_data"
    }
   ],
   "source": [
    "plotGraph(best_individual, 'Melhor fitness ao longo das gerações')"
   ]
  },
  {
   "cell_type": "code",
   "execution_count": 17,
   "id": "a1a7cfd7-0985-4eaf-aaf8-5b2fad9fd1fa",
   "metadata": {},
   "outputs": [
    {
     "data": {
      "image/png": "[encoded data removed]",
      "text/plain": [
       "<Figure size 432x288 with 1 Axes>"
      ]
     },
     "metadata": {
      "needs_background": "light"
     },
     "output_type": "display_data"
    }
   ],
   "source": [
    "plotGraph(worst_individual, 'Pior fitness ao longo das gerações')"
   ]
  },
  {
   "cell_type": "markdown",
   "id": "c3986011-c976-4979-9410-44fc864bbb38",
   "metadata": {},
   "source": [
    "<p style=\"text-align: justify;\">\n",
    "&emsp; É possível ver que o fitness médio aumentou ao longo das gerações até se estabilizar, essa estabilização ocorreu perto da geração 20. O maior fitness ao longo das gerações subiu abruptamente na geração 5 e atingiu um valor limite na geração 15. O pior fitness ao longo das gerações também subiu, mas não tanto, além disso é possivél ver que em algumas gerações obtive que o pior fitness foi maior do que a maioria, mas se analisarmos bem é possível notar que também a partir da geração 20 os valores foram se estabilizando.<br>\n",
    "&emsp; Agora vou pegar o melhor indivíduo e executar 10 vezes para ver o que acontece com o score:\n",
    "</p>"
   ]
  },
  {
   "cell_type": "code",
   "execution_count": 15,
   "id": "b5aa55b2-ab12-4d0a-a307-5c4dd7807bd0",
   "metadata": {},
   "outputs": [
    {
     "name": "stdout",
     "output_type": "stream",
     "text": [
      "Score: 1168.0 - pacman venceu com 244 movimentos\n",
      "Score: 1569.0 - pacman venceu com 241 movimentos\n",
      "Score: 1562.0 - pacman venceu com 262 movimentos\n",
      "Score: 1174.0 - pacman venceu com 226 movimentos\n",
      "Score: 1565.0 - pacman venceu com 253 movimentos\n",
      "Score: 1570.0 - pacman venceu com 238 movimentos\n",
      "Score: 93.0 - pacman morreu com 109 movimentos\n",
      "Score: 1574.0 - pacman venceu com 226 movimentos\n",
      "Score: 1368.0 - pacman venceu com 244 movimentos\n",
      "Score: 1780.0 - pacman venceu com 208 movimentos\n"
     ]
    }
   ],
   "source": [
    "melhor_individuo = model.best_solution[0]\n",
    "runNtimes('smallClassic', melhor_individuo, 10)"
   ]
  },
  {
   "cell_type": "markdown",
   "id": "3b56b9e8-3cb3-4056-811e-932c636642f6",
   "metadata": {},
   "source": [
    "<p style=\"text-align: justify;\">\n",
    "&emsp; Nessa minha execução o pacman foi ótimo, obtive 90% de vitória, e um score médio de 1342, o que é muito bom para esse layout. <br>\n",
    "</p>"
   ]
  },
  {
   "cell_type": "markdown",
   "id": "c191edce-44b7-48e6-a7e5-613b797d76a3",
   "metadata": {},
   "source": [
    "&emsp;Vou fazer algumas execuções com a interface gráfica para dar um exemplo:"
   ]
  },
  {
   "cell_type": "code",
   "execution_count": 18,
   "id": "56b096d4-0035-427b-8d6e-bd4cb7cc2b31",
   "metadata": {},
   "outputs": [],
   "source": [
    "melhor_individuo = model.best_solution[0]\n",
    "game = runGame(melhor_individuo, 'smallClassic', graphics = True)"
   ]
  },
  {
   "cell_type": "markdown",
   "id": "4bdcf04b-59b3-410d-980e-f0a18f981dd5",
   "metadata": {},
   "source": [
    "&emsp; Como não consigo colocar a execução no notebook vou colocar um gif de uma execução:"
   ]
  },
  {
   "cell_type": "markdown",
   "id": "e241dc86-e35f-49ca-be32-8247bea05502",
   "metadata": {},
   "source": [
    "<p style=\"text-align: center;\">\n",
    "&emsp;<img src=\"gifs/smallClassic.gif\" width=\"500\" align=\"center\">\n",
    "</p>"
   ]
  },
  {
   "cell_type": "markdown",
   "id": "3c388618-896d-4fe1-8682-85443b5e6695",
   "metadata": {},
   "source": [
    "<p style=\"text-align: justify;\">\n",
    "&emsp; Nessa execução é possível perceber que os pesos estão bem regulados, o pacman foi atrás das capsulas, perseguiu os fantasmas assustados e desviou dos fantasmas não asustados, ou seja, o meu modelo e a aplicação do algoritmo genético foi um sucesso para esse layout, eu executei algumas vezes e percebi que o pacman morre apenas nos casos em que ele fica encurralado.\n",
    "</p>"
   ]
  },
  {
   "cell_type": "markdown",
   "id": "562b711b-b46d-458d-8b3b-5e4194d2bb80",
   "metadata": {
    "tags": []
   },
   "source": [
    "#### 3.5 Layout MediumlClassic\n",
    "&emsp; Agora vou definir a função de fitness para o layout mediumClassic, que retornará o score da partida e irá definir 2 fantasmas com comportamento aleatório, e note que irei usar o meu agente que criei no tópico 1.3:"
   ]
  },
  {
   "cell_type": "code",
   "execution_count": 5,
   "id": "a882eba2-b329-4e1c-8238-ff6798c9cfa6",
   "metadata": {
    "id": "250d660f-9dc4-4a4c-a5d9-5d23ff08cede",
    "tags": []
   },
   "outputs": [],
   "source": [
    "def fitfunctionMediumClassic(pesos):\n",
    "    argumentos ={}\n",
    "    pacman = SmartAgent(pesos)\n",
    "    ghostType = loadAgent('RandomGhost', True)\n",
    "    textDisplay.SLEEP_TIME = 0\n",
    "    argumentos['layout'] = layout.getLayout( 'mediumClassic' )\n",
    "    argumentos['pacman'] = pacman\n",
    "    argumentos['ghosts'] = [ghostType( i+1 ) for i in range( 2 )]\n",
    "    argumentos['display'] = textDisplay.NullGraphics()\n",
    "    argumentos['numGames'] = 1\n",
    "    argumentos['record'] = False\n",
    "    argumentos['catchExceptions'] = True\n",
    "    argumentos['timeout'] = 1\n",
    "    \n",
    "    res = runGames(**argumentos)\n",
    "    score = res[0].state.getScore() \n",
    "\n",
    "    return score"
   ]
  },
  {
   "cell_type": "markdown",
   "id": "95b9fd0d-f017-42a5-9fdc-c7c3c5204fa6",
   "metadata": {
    "id": "93b7c171-bb3c-4cc3-a301-74bb22d9a067"
   },
   "source": [
    "&emsp; Agora, vou utilizar os parâmetros e critérios que defini no tópico 3.1 para instanciar um modelo de algoritmo genético para pesos reais da biblioteca:"
   ]
  },
  {
   "cell_type": "code",
   "execution_count": 6,
   "id": "9655b815-a88b-4126-841f-e3097c48f6fc",
   "metadata": {
    "id": "1853977a-d32f-41a5-ac4c-2adad9057458"
   },
   "outputs": [],
   "source": [
    "import geneticalgsmod as ge\n",
    "\n",
    "modelMediumClassic = ge.RealGA(fitness_func = fitfunctionMediumClassic, \n",
    "                              optim='max',          #Irei maximizar o score\n",
    "                              selection=\"rank\",     #Para Seleção usarei o ranqueamento\n",
    "                              mut_prob=0.10,        #Probabilidade de inverter bits na mut de 10%\n",
    "                              mut_type=1,           #Mutacao ocorrerá em no maxima 1 gene de um cromossomo\n",
    "                              cross_prob=0.9,       #Prob de ocorrer cross de 90%\n",
    "                              cross_type=1,         #Cross singlepoint\n",
    "                              elitism=True,         #Elitismo ativado\n",
    "                              tournament_size=None)"
   ]
  },
  {
   "cell_type": "markdown",
   "id": "fd619c47-313e-4f70-8b04-17298415adee",
   "metadata": {
    "id": "1ccdfe10-5066-407d-94fa-b1b83cd2f491"
   },
   "source": [
    "&emsp; Vou iniciar uma população de 70 indivíduos e especificar que um indivíduo tem 7 genes no intervalo de [0,100]:"
   ]
  },
  {
   "cell_type": "code",
   "execution_count": 7,
   "id": "e9bf7195-40ee-4b49-a8b5-5ff2fa453e01",
   "metadata": {
    "id": "3fe6047b-30d2-4552-9bb5-deefe0cfbcb9"
   },
   "outputs": [],
   "source": [
    "population_size = 70\n",
    "dimensao = 7         # numero de argumentos da funcao        \n",
    "interval = (0,100)\n",
    "modelMediumClassic.init_random_population(population_size, dimensao, interval) # iniciando a população"
   ]
  },
  {
   "cell_type": "markdown",
   "id": "c2348148-159b-4166-b744-525e5d12c48e",
   "metadata": {
    "id": "4bd692cc-5de3-4ee7-896b-9221d5936dfb",
    "tags": []
   },
   "source": [
    "&emsp; Agora vou definir o número maxímo de gerações como 40 e aplicar o algoritmo:"
   ]
  },
  {
   "cell_type": "code",
   "execution_count": 8,
   "id": "00537ba3-2ec5-45f3-bd48-c5c6a9d683f2",
   "metadata": {
    "colab": {
     "base_uri": "https://localhost:8080/"
    },
    "id": "3216610e-3a64-4338-8ca2-d24eb2063b07",
    "outputId": "42f85f67-41c8-4a12-d532-f8ef912b2991",
    "scrolled": true,
    "tags": []
   },
   "outputs": [
    {
     "name": "stdout",
     "output_type": "stream",
     "text": [
      "Geração 1 terminada\n",
      "Geração 2 terminada\n",
      "Geração 3 terminada\n",
      "Geração 4 terminada\n",
      "Geração 5 terminada\n",
      "Geração 6 terminada\n",
      "Geração 7 terminada\n",
      "Geração 8 terminada\n",
      "Geração 9 terminada\n",
      "Geração 10 terminada\n",
      "Geração 11 terminada\n",
      "Geração 12 terminada\n",
      "Geração 13 terminada\n",
      "Geração 14 terminada\n",
      "Geração 15 terminada\n",
      "Geração 16 terminada\n",
      "Geração 17 terminada\n",
      "Geração 18 terminada\n",
      "Geração 19 terminada\n",
      "Geração 20 terminada\n",
      "Geração 21 terminada\n",
      "Geração 22 terminada\n",
      "Geração 23 terminada\n",
      "Geração 24 terminada\n",
      "Geração 25 terminada\n",
      "Geração 26 terminada\n",
      "Geração 27 terminada\n",
      "Geração 28 terminada\n",
      "Geração 29 terminada\n",
      "Geração 30 terminada\n",
      "Geração 31 terminada\n",
      "Geração 32 terminada\n",
      "Geração 33 terminada\n",
      "Geração 34 terminada\n",
      "Geração 35 terminada\n",
      "Geração 36 terminada\n",
      "Geração 37 terminada\n",
      "Geração 38 terminada\n",
      "Geração 39 terminada\n",
      "Geração 40 terminada\n"
     ]
    }
   ],
   "source": [
    "max_generation = 40\n",
    "fitness_progressMC, best_individualMC, worst_individualMC = modelMediumClassic.run(max_generation)"
   ]
  },
  {
   "cell_type": "markdown",
   "id": "8a69bdd7-88df-4d06-9113-cffb32505fbe",
   "metadata": {
    "id": "4fb068fa-624e-4d12-a2dc-4cf270124b86"
   },
   "source": [
    "&emsp; Agora, como dito anteriormente, vou serializar os objetos para poder usar depois, irei colocar todas as saídas úteis em uma lista, irei serializar essa lista e salvar na pasta de nome save."
   ]
  },
  {
   "cell_type": "code",
   "execution_count": 9,
   "id": "d81511fa-c626-4e1b-8e3d-d95fad04d4e3",
   "metadata": {
    "id": "18cb7a20-29ed-48c0-a685-b78da0e6381d"
   },
   "outputs": [],
   "source": [
    "lista = [fitness_progressMC, best_individualMC, worst_individualMC, modelMediumClassic]\n",
    "serialize(sys.path[0]+'/save/mediumClassicData', lista)"
   ]
  },
  {
   "cell_type": "markdown",
   "id": "f916a4a4-20ff-4d70-a36b-3bccb1b33578",
   "metadata": {},
   "source": [
    "&emsp; Agora vou desserializar a lista e restaurar o progresso do treinamento:"
   ]
  },
  {
   "cell_type": "code",
   "execution_count": 10,
   "id": "fb2ca604-bd25-48a4-82a2-6823d3bcd9a7",
   "metadata": {
    "id": "409545f9-94a5-49e5-8652-ae6d07e18399"
   },
   "outputs": [],
   "source": [
    "lista = deserialize(sys.path[0]+'/save/mediumClassicData')"
   ]
  },
  {
   "cell_type": "markdown",
   "id": "151ae746-b9cd-412c-862f-8df727ad1164",
   "metadata": {
    "id": "5cf289c7-e8a6-41b4-8aa8-b534ef1f7ed9"
   },
   "source": [
    "&emsp; Definindo novamente as variaveis:"
   ]
  },
  {
   "cell_type": "code",
   "execution_count": 11,
   "id": "dae03d1a-85c3-45b9-a634-1c2b64d045d8",
   "metadata": {
    "id": "b49dfb91-d178-4380-891c-9aa6840bca14"
   },
   "outputs": [],
   "source": [
    "fitness_progress, best_individual, worst_individual, model = lista"
   ]
  },
  {
   "cell_type": "markdown",
   "id": "1aa8a61e-d269-44e3-a4b2-b885de6bf624",
   "metadata": {
    "id": "5451c546-828d-411c-8efa-7dd5f90360d0"
   },
   "source": [
    "&emsp; Agora vou plotar os gráficos do fitness médio, do melhor fitness e do pior fitness ao longo das gerações:"
   ]
  },
  {
   "cell_type": "code",
   "execution_count": 12,
   "id": "82e47424-f271-4a9d-b9e0-f5b9b8561602",
   "metadata": {
    "id": "c2e11933-ca72-4b0a-a0b7-a8d210337fc3",
    "outputId": "72ee41e7-9f42-4008-b480-49803a0341f7"
   },
   "outputs": [
    {
     "data": {
      "image/png": "[encoded data removed]",
      "text/plain": [
       "<Figure size 432x288 with 1 Axes>"
      ]
     },
     "metadata": {
      "needs_background": "light"
     },
     "output_type": "display_data"
    }
   ],
   "source": [
    "plotGraph(fitness_progress, 'Fitness médio ao longo das gerações')"
   ]
  },
  {
   "cell_type": "code",
   "execution_count": 13,
   "id": "e87ff322-998d-4012-b4c4-f280ef729cc6",
   "metadata": {
    "id": "c2f48da0-7f04-4a18-b4a2-95cbde41f020",
    "outputId": "7bb3ad1e-7e66-427e-fb2e-bb53c02f5fa0"
   },
   "outputs": [
    {
     "data": {
      "image/png": "[encoded data removed]",
      "text/plain": [
       "<Figure size 432x288 with 1 Axes>"
      ]
     },
     "metadata": {
      "needs_background": "light"
     },
     "output_type": "display_data"
    }
   ],
   "source": [
    "plotGraph(best_individual, 'Melhor fitness ao longo das gerações')"
   ]
  },
  {
   "cell_type": "code",
   "execution_count": 14,
   "id": "180f7012-208d-46e0-9449-bfb91425c8f1",
   "metadata": {
    "id": "a1a7cfd7-0985-4eaf-aaf8-5b2fad9fd1fa",
    "outputId": "a497cd79-5990-4714-af22-243378c8316e"
   },
   "outputs": [
    {
     "data": {
      "image/png": "[encoded data removed]",
      "text/plain": [
       "<Figure size 432x288 with 1 Axes>"
      ]
     },
     "metadata": {
      "needs_background": "light"
     },
     "output_type": "display_data"
    }
   ],
   "source": [
    "plotGraph(worst_individual, 'Pior fitness ao longo das gerações')"
   ]
  },
  {
   "cell_type": "markdown",
   "id": "95af39fa-66e7-47ce-b6a7-97c0aa43f2b7",
   "metadata": {
    "id": "c3986011-c976-4979-9410-44fc864bbb38"
   },
   "source": [
    "<p style=\"text-align: justify;\">\n",
    "&emsp; É possível ver que o fitness médio aumentou ao longo das gerações até se estabilizar, essa estabilização ocorreu perto da geração 5. O maior fitness ao longo das gerações foi subinda progressivamente, mas note que o score já começou alto . O pior fitness ao longo das gerações também subiu, os pontos ficaram baguncados depois da geração 10,mas pode-se notar que eles se concentraram em um intervalo.<br>\n",
    "&emsp; Agora vou pegar o melhor indivíduo e executar 10 vezes para ver o que acontece com o score:\n",
    "</p>"
   ]
  },
  {
   "cell_type": "code",
   "execution_count": 15,
   "id": "337bcff9-ac95-4fae-afd7-1bfe952f0b75",
   "metadata": {
    "id": "5C__w1r-NoYM"
   },
   "outputs": [
    {
     "name": "stdout",
     "output_type": "stream",
     "text": [
      "Score: 1722.0 - pacman venceu com 442 movimentos\n",
      "Score: 1530.0 - pacman venceu com 418 movimentos\n",
      "Score: 1930.0 - pacman venceu com 418 movimentos\n",
      "Score: 1727.0 - pacman venceu com 427 movimentos\n",
      "Score: 2136.0 - pacman venceu com 400 movimentos\n",
      "Score: 2128.0 - pacman venceu com 424 movimentos\n",
      "Score: 686.0 - pacman morreu com 251 movimentos\n",
      "Score: 1922.0 - pacman venceu com 442 movimentos\n",
      "Score: 2122.0 - pacman venceu com 442 movimentos\n",
      "Score: 1737.0 - pacman venceu com 397 movimentos\n"
     ]
    }
   ],
   "source": [
    "melhor_individuo = model.best_solution[0]\n",
    "runNtimes('mediumClassic', melhor_individuo, 10)"
   ]
  },
  {
   "cell_type": "markdown",
   "id": "35727b00-41d5-4eec-bce8-c8ccdc85fcfd",
   "metadata": {},
   "source": [
    "<p style=\"text-align: justify;\">\n",
    "&emsp; Nessa minha execução o pacman foi ótimo, obtive 90% de vitória, e um score médio de 1764, o que é muito bom para esse layout. <br>\n",
    "</p>"
   ]
  },
  {
   "cell_type": "markdown",
   "id": "4b265d3c-16da-4637-880f-9617ff953431",
   "metadata": {},
   "source": [
    "&emsp;Vou fazer algumas execuções com a interface gráfica para dar um exemplo:"
   ]
  },
  {
   "cell_type": "code",
   "execution_count": 17,
   "id": "510d2449-ec4a-4aa4-8cbd-2da56824a82c",
   "metadata": {},
   "outputs": [],
   "source": [
    "melhor_individuo = model.best_solution[0]\n",
    "game = runGame(melhor_individuo, 'mediumClassic', graphics = True)"
   ]
  },
  {
   "cell_type": "markdown",
   "id": "913ac69b-8e44-4952-acd5-e51bdc6eef4c",
   "metadata": {},
   "source": [
    "&emsp; Como não consigo colocar a execução no notebook vou colocar um gif de uma execução:"
   ]
  },
  {
   "cell_type": "markdown",
   "id": "95d3bf89-f59d-426a-bd5a-f3ae0b39bf79",
   "metadata": {},
   "source": [
    "<p style=\"text-align: center;\">\n",
    "&emsp;<img src=\"gifs/mediumClassic.gif\" width=\"500\" align=\"center\">\n",
    "</p>"
   ]
  },
  {
   "cell_type": "markdown",
   "id": "6a625eed-8880-41a1-a88e-c73f556cd6b2",
   "metadata": {},
   "source": [
    "<p style=\"text-align: justify;\">\n",
    "&emsp; Assim como na execução para o outro layout, é possível perceber que os pesos estão bem regulados, o pacman foi atrás das capsulas, perseguiu os fantasmas assustados e desviou dos fantasmas não asustados, ou seja, o meu modelo e a aplicação do algoritmo genético foi um sucesso para esse layout. <br>\n",
    "&emsp; Da mesma forma que fiz para o layout anterior, eu executei algumas vezes e percebi que o pacman morre apenas nos casos em que ele fica encurralado. Ele não se suicida para tentar comer algum elemento do mapa.<br>\n",
    "</p>"
   ]
  },
  {
   "cell_type": "markdown",
   "id": "07df8a36-2383-4925-8a4f-1e2367c06758",
   "metadata": {
    "tags": []
   },
   "source": [
    "#### 3.6 Layout OriginalClassic\n",
    "<p style=\"text-align: justify;\">\n",
    "&emsp; Agora vou definir a função de fitness para o layout originalClassic.<br>\n",
    "&emsp; Para esse layout farei diferente, como esse layout é maior e os fantasmas são aleatórios, é mais fácil um individuo completar o jogo porque teve sorte, e não porque seus conjunto de pesos está bem calibrado.<br>\n",
    "&emsp; Sabendo disso, a função de fitness não retornará apenas o score de um jogo, mas agora retornará o score médio da execução de 3 jogos:\n",
    "</p>"
   ]
  },
  {
   "cell_type": "code",
   "execution_count": 8,
   "id": "d11f356f-59d2-4fb5-a738-3efb3fba66e3",
   "metadata": {
    "id": "250d660f-9dc4-4a4c-a5d9-5d23ff08cede",
    "tags": []
   },
   "outputs": [],
   "source": [
    "def fitfunctionOriginalClassic(pesos):\n",
    "    argumentos ={}\n",
    "    pacman = SmartAgent(pesos)\n",
    "    ghostType = loadAgent('RandomGhost', True)\n",
    "    textDisplay.SLEEP_TIME = 0\n",
    "    argumentos['layout'] = layout.getLayout( 'originalClassic' )\n",
    "    argumentos['pacman'] = pacman\n",
    "    argumentos['ghosts'] = [ghostType( i+1 ) for i in range( 2 )]\n",
    "    argumentos['display'] = textDisplay.NullGraphics()\n",
    "    argumentos['numGames'] = 3\n",
    "    argumentos['record'] = False\n",
    "    argumentos['catchExceptions'] = True\n",
    "    argumentos['timeout'] = 8\n",
    "    \n",
    "    res = runGames(**argumentos)\n",
    "    scores = [game.state.getScore() for game in res]\n",
    "    avgScore = sum(scores) / float(len(scores))\n",
    "     \n",
    "    return avgScore"
   ]
  },
  {
   "cell_type": "markdown",
   "id": "1ca26c10-3f79-4b0f-ba66-2ad1f8f913dd",
   "metadata": {
    "id": "93b7c171-bb3c-4cc3-a301-74bb22d9a067"
   },
   "source": [
    "<p style=\"text-align: justify;\">\n",
    "&emsp; Agora, vou utilizar os parâmetros e critérios que defini no tópico 3.1 para instanciar um modelo de algoritmo genético para pesos reais da biblioteca, mas vou fazer duas mudanças, pelo mesmo motivo que mudei a função de fitness, vou aumentar a probabilidade de mutação para 15% e a população inicial para 100 indivíduos, isso tudo para evitar a estocacidade do jogo, que aumentou junto com o tamanho do tabuleiro.\n",
    "</p>"
   ]
  },
  {
   "cell_type": "code",
   "execution_count": 9,
   "id": "5c24156e-8832-4546-97db-2d1b644f8b89",
   "metadata": {
    "id": "1853977a-d32f-41a5-ac4c-2adad9057458"
   },
   "outputs": [],
   "source": [
    "import geneticalgsmod as ge\n",
    "\n",
    "modelOriginalClassic = ge.RealGA(fitness_func = fitfunctionOriginalClassic, \n",
    "                              optim='max',          #Irei maximizar o score\n",
    "                              selection=\"rank\",     #Para Seleção usarei o ranqueamento\n",
    "                              mut_prob=0.15,        #Probabilidade de inverter bits na mut de 10%\n",
    "                              mut_type=1,           #Mutacao ocorrerá em no maxima 1 gene de um cromossomo\n",
    "                              cross_prob=0.9,       #Prob de ocorrer cross de 90%\n",
    "                              cross_type=1,         #Cross singlepoint\n",
    "                              elitism=True,         #Elitismo ativado\n",
    "                              tournament_size=None)"
   ]
  },
  {
   "cell_type": "markdown",
   "id": "0b8e1027-4d19-47b8-b816-e0c90b47bcc3",
   "metadata": {
    "id": "1ccdfe10-5066-407d-94fa-b1b83cd2f491"
   },
   "source": [
    "&emsp; Vou iniciar uma população de 100 indivíduos e especificar que um indivíduo tem 7 genes no intervalo de [0,500]:"
   ]
  },
  {
   "cell_type": "code",
   "execution_count": 11,
   "id": "40528e06-8bf3-4082-bd81-b627f81179fb",
   "metadata": {
    "id": "3fe6047b-30d2-4552-9bb5-deefe0cfbcb9"
   },
   "outputs": [],
   "source": [
    "population_size = 100\n",
    "dimensao = 7         # numero de argumentos da funcao        \n",
    "interval = (0,500)\n",
    "modelOriginalClassic.init_random_population(population_size, dimensao, interval) # iniciando a população"
   ]
  },
  {
   "cell_type": "markdown",
   "id": "041b62d8-fd6a-4b5e-8fe1-e5d90a74aa6a",
   "metadata": {
    "id": "4bd692cc-5de3-4ee7-896b-9221d5936dfb",
    "tags": []
   },
   "source": [
    "&emsp; Agora vou definir o número maxímo de gerações como 40 e aplicar o algoritmo:"
   ]
  },
  {
   "cell_type": "code",
   "execution_count": 12,
   "id": "681c7906-023e-4ba5-abdd-c1e0d1d5b414",
   "metadata": {
    "colab": {
     "base_uri": "https://localhost:8080/"
    },
    "id": "3216610e-3a64-4338-8ca2-d24eb2063b07",
    "outputId": "42f85f67-41c8-4a12-d532-f8ef912b2991",
    "scrolled": true,
    "tags": []
   },
   "outputs": [
    {
     "name": "stdout",
     "output_type": "stream",
     "text": [
      "Geração 1 terminada\n",
      "Geração 2 terminada\n",
      "Geração 3 terminada\n",
      "Geração 4 terminada\n",
      "Geração 5 terminada\n",
      "Geração 6 terminada\n",
      "Geração 7 terminada\n",
      "Geração 8 terminada\n",
      "Geração 9 terminada\n",
      "Geração 10 terminada\n",
      "Geração 11 terminada\n",
      "Geração 12 terminada\n",
      "Geração 13 terminada\n",
      "Geração 14 terminada\n",
      "Geração 15 terminada\n",
      "Geração 16 terminada\n",
      "Geração 17 terminada\n",
      "Geração 18 terminada\n",
      "Geração 19 terminada\n",
      "Geração 20 terminada\n",
      "Geração 21 terminada\n",
      "Geração 22 terminada\n",
      "Geração 23 terminada\n",
      "Geração 24 terminada\n",
      "Geração 25 terminada\n",
      "Geração 26 terminada\n",
      "Geração 27 terminada\n",
      "Geração 28 terminada\n",
      "Geração 29 terminada\n",
      "Geração 30 terminada\n"
     ]
    }
   ],
   "source": [
    "max_generation = 30\n",
    "fitness_progressOC, best_individualOC, worst_individualOC = modelOriginalClassic.run(max_generation)"
   ]
  },
  {
   "cell_type": "markdown",
   "id": "c9a08749-7995-42ae-8722-f957f0f76fe1",
   "metadata": {
    "id": "4fb068fa-624e-4d12-a2dc-4cf270124b86"
   },
   "source": [
    "&emsp; Agora, como dito anteriormente, vou serializar os objetos para poder usar depois, irei colocar todas as saídas úteis em uma lista, irei serializar essa lista e salvar na pasta de nome save."
   ]
  },
  {
   "cell_type": "code",
   "execution_count": 13,
   "id": "b4af606d-91ad-471f-88d5-cf2c265b6b85",
   "metadata": {
    "id": "18cb7a20-29ed-48c0-a685-b78da0e6381d"
   },
   "outputs": [],
   "source": [
    "lista = [fitness_progressOC, best_individualOC, worst_individualOC, modelOriginalClassic]\n",
    "serialize(sys.path[0]+'/save/originalClassicData', lista)"
   ]
  },
  {
   "cell_type": "markdown",
   "id": "6fe84a13-c6ea-470c-852a-f3220339dc78",
   "metadata": {},
   "source": [
    "&emsp; Agora vou desserializar a lista e restaurar o progresso do treinamento:"
   ]
  },
  {
   "cell_type": "code",
   "execution_count": 14,
   "id": "60dc6459-adf3-45c6-875b-bd44aeeb09c1",
   "metadata": {
    "id": "409545f9-94a5-49e5-8652-ae6d07e18399"
   },
   "outputs": [],
   "source": [
    "lista = deserialize(sys.path[0]+'/save/originalClassicData')"
   ]
  },
  {
   "cell_type": "markdown",
   "id": "0ee41c59-43fa-44ff-afb4-6932ccdab87a",
   "metadata": {
    "id": "5cf289c7-e8a6-41b4-8aa8-b534ef1f7ed9"
   },
   "source": [
    "&emsp; Definindo novamente as variaveis:"
   ]
  },
  {
   "cell_type": "code",
   "execution_count": 15,
   "id": "b34ba022-beea-45ae-bd55-b19152f26077",
   "metadata": {
    "id": "b49dfb91-d178-4380-891c-9aa6840bca14"
   },
   "outputs": [],
   "source": [
    "fitness_progress, best_individual, worst_individual, model = lista"
   ]
  },
  {
   "cell_type": "markdown",
   "id": "46060789-b0ae-48b1-b432-cb2efd72d098",
   "metadata": {
    "id": "5451c546-828d-411c-8efa-7dd5f90360d0"
   },
   "source": [
    "&emsp; Agora vou plotar os gráficos do fitness médio, do melhor fitness e do pior fitness ao longo das gerações:"
   ]
  },
  {
   "cell_type": "code",
   "execution_count": 16,
   "id": "72ef6203-7bda-4b18-b85a-284c59a8aef6",
   "metadata": {
    "id": "c2e11933-ca72-4b0a-a0b7-a8d210337fc3",
    "outputId": "72ee41e7-9f42-4008-b480-49803a0341f7"
   },
   "outputs": [
    {
     "data": {
      "image/png": "[encoded data removed]",
      "text/plain": [
       "<Figure size 432x288 with 1 Axes>"
      ]
     },
     "metadata": {
      "needs_background": "light"
     },
     "output_type": "display_data"
    }
   ],
   "source": [
    "plotGraph(fitness_progress, 'Fitness médio ao longo das gerações')"
   ]
  },
  {
   "cell_type": "code",
   "execution_count": 17,
   "id": "4945e1fc-4ec3-46b2-aabe-9e71c8199513",
   "metadata": {
    "id": "c2f48da0-7f04-4a18-b4a2-95cbde41f020",
    "outputId": "7bb3ad1e-7e66-427e-fb2e-bb53c02f5fa0"
   },
   "outputs": [
    {
     "data": {
      "image/png": "[encoded data removed]",
      "text/plain": [
       "<Figure size 432x288 with 1 Axes>"
      ]
     },
     "metadata": {
      "needs_background": "light"
     },
     "output_type": "display_data"
    }
   ],
   "source": [
    "plotGraph(best_individual, 'Melhor fitness ao longo das gerações')"
   ]
  },
  {
   "cell_type": "code",
   "execution_count": 18,
   "id": "a902a873-cb72-445f-9684-c460ddbf3ad6",
   "metadata": {
    "id": "a1a7cfd7-0985-4eaf-aaf8-5b2fad9fd1fa",
    "outputId": "a497cd79-5990-4714-af22-243378c8316e"
   },
   "outputs": [
    {
     "data": {
      "image/png": "[encoded data removed]",
      "text/plain": [
       "<Figure size 432x288 with 1 Axes>"
      ]
     },
     "metadata": {
      "needs_background": "light"
     },
     "output_type": "display_data"
    }
   ],
   "source": [
    "plotGraph(worst_individual, 'Pior fitness ao longo das gerações')"
   ]
  },
  {
   "cell_type": "markdown",
   "id": "d94dd3ea-3cfc-439b-9c83-204915568e46",
   "metadata": {
    "id": "c3986011-c976-4979-9410-44fc864bbb38"
   },
   "source": [
    "<p style=\"text-align: justify;\">\n",
    "&emsp; É possível ver que o fitness médio aumentou ao longo das gerações até se estabilizar, essa estabilização ocorreu perto da geração 10. O maior fitness ao longo das gerações foi subindo progressivamente e atingiu um valor limite na geração 5, mas note que o score já começou alto. O pior fitness ao longo das gerações também subiu, os pontos ficaram bagunçado, mas pode-se notar que eles se concentraram em um intervalo e subiram com um padrão.<br>\n",
    "&emsp; Agora vou pegar o melhor indivíduo e executar 10 vezes para ver o que acontece com o score:\n",
    "</p>"
   ]
  },
  {
   "cell_type": "code",
   "execution_count": 21,
   "id": "5fcd76f1-6723-4bb1-9f46-162bd3c3e08b",
   "metadata": {
    "id": "5C__w1r-NoYM"
   },
   "outputs": [
    {
     "name": "stdout",
     "output_type": "stream",
     "text": [
      "Score: 2652.0 - pacman venceu com 1012 movimentos\n",
      "Score: 2693.0 - pacman venceu com 889 movimentos\n",
      "Score: 2839.0 - pacman venceu com 1051 movimentos\n",
      "Score: 2669.0 - pacman venceu com 961 movimentos\n",
      "Score: 3052.0 - pacman venceu com 1012 movimentos\n",
      "Score: 2441.0 - pacman venceu com 1045 movimentos\n",
      "Score: 2856.0 - pacman venceu com 1000 movimentos\n",
      "Score: 2848.0 - pacman venceu com 1024 movimentos\n",
      "Score: 2857.0 - pacman venceu com 997 movimentos\n",
      "Score: 2865.0 - pacman venceu com 973 movimentos\n"
     ]
    }
   ],
   "source": [
    "melhor_individuo = model.best_solution[0]\n",
    "runNtimes('originalClassic', melhor_individuo, 10)"
   ]
  },
  {
   "cell_type": "markdown",
   "id": "b8013afe-24b9-4777-b5d1-0da4fcb3df1a",
   "metadata": {},
   "source": [
    "<p style=\"text-align: justify;\">\n",
    "&emsp; Nessa minha execução o pacman foi ótimo, obtive 100% de vitória, e um score médio de 2777, o que é muito bom para esse layout. <br>\n",
    "</p>"
   ]
  },
  {
   "cell_type": "markdown",
   "id": "94dd49b6-26e0-4e63-a794-14791a6fadab",
   "metadata": {},
   "source": [
    "&emsp;Vou fazer algumas execuções com a interface gráfica para dar um exemplo:"
   ]
  },
  {
   "cell_type": "code",
   "execution_count": 22,
   "id": "b74af75b-53f9-44f2-8f7e-bcb76f2bf99e",
   "metadata": {},
   "outputs": [],
   "source": [
    "melhor_individuo = model.best_solution[0]\n",
    "game = runGame(melhor_individuo, 'originalClassic', graphics = True)"
   ]
  },
  {
   "cell_type": "markdown",
   "id": "abcab8e0-2a83-4ae2-a1eb-d96ec266c232",
   "metadata": {},
   "source": [
    "&emsp; Como não consigo colocar a execução no notebook vou colocar um video de uma execução:"
   ]
  },
  {
   "cell_type": "code",
   "execution_count": 23,
   "id": "9ac12447-d4bc-4658-a0aa-b4654fd6fd6f",
   "metadata": {
    "jupyter": {
     "source_hidden": true
    },
    "tags": []
   },
   "outputs": [
    {
     "data": {
      "text/html": [
       "\n",
       "    <video width=\"500\" height=\"400\" controls style =\"display:block; margin:0 auto;\">\n",
       "        <source src=\"gifs/OriginalClassic.mp4\" type=\"video/mp4\">\n",
       "    </video>\n"
      ],
      "text/plain": [
       "<IPython.core.display.HTML object>"
      ]
     },
     "execution_count": 23,
     "metadata": {},
     "output_type": "execute_result"
    }
   ],
   "source": [
    "from IPython.display import HTML\n",
    "\n",
    "HTML(\"\"\"\n",
    "    <video width=\"500\" height=\"400\" controls style =\"display:block; margin:0 auto;\">\n",
    "        <source src=\"gifs/OriginalClassic.mp4\" type=\"video/mp4\">\n",
    "    </video>\n",
    "\"\"\")"
   ]
  },
  {
   "cell_type": "markdown",
   "id": "3cb1a062-d1de-4212-b4aa-5bdcae103d0c",
   "metadata": {},
   "source": [
    "<p style=\"text-align: justify;\">\n",
    "&emsp; Como visto nessa execução, o pacman não persegue muito os fantasmas assustados, apenas quando estão próximos, se ele perseguisse muito os fantasmas assustados o score aumentaria bastante. <br>\n",
    "&emsp; Diferentemente dos outros layouts, o pacman não perseguiu tanto os pacmans, isso aconteceu, provavelmente, porque o layout é muito grande e existem apenas dois fantasmas, assim era mais facil um pacman obter um score alto por sorte. <br>\n",
    "&emsp; Então, talvez o meu modelo precisasse de um treinamento com uma população inicial maior, para obter maior variabilidade genética, porém o resultado demoraria bastante para sair, nesse ultimo layout, da maneira que fiz, o resultado demorou aproximadamente 16 horas para sair a resposta. <br>\n",
    "&emsp; Apesar desse fato, o treinamento foi bem sucedido, a taxa de vitória é extremamente alta, nas 10 execuções que fiz, tive 100% de vitória, o pacman consegue fugir muito bem dos fantasmas e perseguir os fantasmas assustados quando estão próximos.\n",
    "</p>"
   ]
  },
  {
   "cell_type": "markdown",
   "id": "d2f706e4-ac28-4ee8-aef2-e6a6ccfee6b3",
   "metadata": {},
   "source": [
    "# Parte 2\n",
    "\n",
    "<p style=\"text-align: justify;\">\n",
    "&emsp; Nesta parte do projeto vou aplicar uma técnica de aprendizado por reforço para resolver o problema do Pac-man. O trabalho consiste em encontrar uma solução adequada para o problema, avaliando-o segundo diversos parâmetros.<br>\n",
    "&emsp; A primeira coisa que preciso fazer é definir um método de aprendizado por reforço para resolver o problema, no tópico a seguir irei defini-lo e explica-lo.\n",
    "</p>\n"
   ]
  },
  {
   "cell_type": "markdown",
   "id": "e5200bdc-3892-4c37-88c4-4507a02383bf",
   "metadata": {},
   "source": [
    "### 1. Definição do método\n",
    "<p style=\"text-align: justify;\">\n",
    "&emsp; Inicialmente devemos concordar que o problema do pacman segue um MDP (Markov Decision Process), isso porque a tomada de decisões do pacman envolvem situações em que o estado do jogo é parcialmente aleatórios e parcialmente sob o controle de um tomador de decisão. <br>\n",
    "&emsp; Vou definir termos importantes para o nosso MDP:<br>\n",
    "&emsp; - Estado: Todas as configurações possíveis no jogo, incluindo as posições das comidas, as posições do fantasmas, posições do pacman, etc. <br>\n",
    "&emsp; - Ações: Um conjunto de todas as ações permitidas do pacman, isso inclui ele ficar parado, ir para cima, para baixo, para esquerda, ou para direita. <br>\n",
    "&emsp; - Política: Um mapeamento do estado para as ações do pacman. <br>  \n",
    "&emsp; Sabendo disso, vou escolher como método o \"Q-learning with function approximation\", para entendelo, primeiro precisamos entender o Q-learning convencional: <br>\n",
    "</p>"
   ]
  },
  {
   "cell_type": "markdown",
   "id": "f8f65709-2fe3-41d6-9114-4948e1b2b5c7",
   "metadata": {},
   "source": [
    "#### 1.1 Q-learning\n",
    "<p style=\"text-align: justify;\">\n",
    "&emsp; O Q -learning é um algoritmo de aprendizado por reforço sem modelo para aprender o valor de uma ação em um estado particular. Ele não requer um modelo do ambiente e pode lidar com problemas com transições estocásticas e recompensas sem exigir adaptações. <br>\n",
    "&emsp; O algoritmo desse método tem uma função que calcula a qualidade de uma combinação estado-ação, antes de começar a aprender, Q é inicializado com um valor fixo e arbitrário. Então, a cada instante $t$ o agente seleciona uma ação $a$, observa uma recompensa $r$, entra em um novo estado $s'$ e Q é atualizado através da seguinte expressão:<br>\n",
    "    $$Q(s,a) \\gets Q(s,a) + \\alpha \\cdot(r + \\gamma\\cdot \\underset{a'}{\\max}Q(s',a') - Q(s,a) )$$\n",
    "&emsp; $\\alpha$ é a taxa de aprendizagem, ela determina em que medida as informações recém-adquiridas substituem as informações antigas. <br>\n",
    "&emsp; $\\gamma$ é o fator de desconto, ele determina a importância das recompensas futuras. Um fator de 0 considerará apenas as recompensas atuais, enquanto um fator próximo a 1 fará com que se esforce por uma alta recompensa a longo prazo.<br>\n",
    "&emsp; $r$ é a recompensa ganhar pela ação. <br>\n",
    "&emsp; No pacman, o objetivo do jogador é obter uma série de ótimas ações para maximizar a recompensa total que poderia obter no fim do jogo.<br>\n",
    "&emsp; Os valores Q são aprendidos iterativamente, atualizando a estimativa do valor Q atual para a recompensa observada.\n",
    "</p>"
   ]
  },
  {
   "cell_type": "markdown",
   "id": "1851777c-9782-4536-9e19-3b1cae88f896",
   "metadata": {},
   "source": [
    "#### 1.2 Q-learning with function approximation / Approximate Q-learning \n",
    "<p style=\"text-align: justify;\">\n",
    "&emsp; No jogo do pacman existem muitos estados para visitar e explorar, e isso é um problema, porque o Q-Learning convencional não conseguirá explorar todos os estados possíveis. Então, por questão de escalabilidade, precisamos fazer algo mais genérico, para isso podemos ver o que aprendemos sobre os estados já visitados e generalizá-los para novos estados semelhantes, para fazer isso pode-se usar uma função de aproximação, podendo usar features para representar os estados visitados. <br>\n",
    "&emsp; O que foi dito no paragráfo anterior é a ideia por trás do Q-learning with function approximation, nele $Q(s,a)$ é obtido por uma combinacao linear das features do estado $f_i(s,a)$, da seguinte forma:\n",
    "                            $$Q(s,a;w) = \\sum_{i=1}^n f_i(s,a)\\cdot w_i$$\n",
    "&emsp; O agente pacman terá que aprender os pesos através das features extraidas do estado do jogo, os pesos são atualizados da seguinte forma:   \n",
    "        $$w_i \\gets w_i + \\alpha \\cdot(r + \\gamma\\cdot \\underset{a'}{\\max}Q(s',a') - Q(s,a)) \\cdot f_i(s,a)$$\n",
    "&emsp; Dessa forma, o pacman não precisará visitar todos os estados possíveis do jogo, já que agora é possível aproximar o que já foi aprendido em um estado. <br>"
   ]
  },
  {
   "cell_type": "markdown",
   "id": "601b7193-e5d0-4c74-a449-6f69ea550610",
   "metadata": {},
   "source": [
    "#### 1.3 Política Epsilon-Greedy\n",
    "<p style=\"text-align: justify;\">\n",
    "&emsp; Uma política gulosa é aquela em que a ação do agente será a melhor possível dentro do modelo, no meu caso, será aquela que possuir maior valor de $Q(s,a;w)$. <br>\n",
    "&emsp; Já uma política Epsilon-Greedy, segue uma lógica parecida, porém agora existe uma probabilidade na escolha da ação do agente. Isso é, existe uma probabilidade $\\epsilon$ de ocorrer uma ação aleatória, e uma probabilidade $1 - \\epsilon$ de a ação do agente ser a melhor possível dentro do modelo. <br>\n",
    "&emsp; No meu caso utilzarei a Epsilon-Greedy, essa política é boa porque incentiva o agente, no meu caso o pacman, a explorar uma variedade maior de estados e assim conseguir aproximar um número maior de estados no Q-Learning com função de aproximação.<br>\n",
    "</p>"
   ]
  },
  {
   "cell_type": "markdown",
   "id": "b4c4be50-c306-4637-99e0-341b80b666e0",
   "metadata": {},
   "source": [
    "### 2. Implementações\n",
    "<p style=\"text-align: justify;\">\n",
    "&emsp; Nesse tópico farei a implementação de um agente do pacman que implementa o Q-Learning com função de aproximação e uma classe para extrair as features do jogo, mas primeiro irei definir as dependencias:<br>"
   ]
  },
  {
   "cell_type": "markdown",
   "id": "28c0ff28-1e1c-4b93-a102-9bc5871c3c18",
   "metadata": {},
   "source": [
    "#### 2.1 Dependências\n",
    "<p style=\"text-align: justify;\">\n",
    "&emsp; Abaixo vou fazer os imports necessarios da engine do pacman:\n",
    "</p>"
   ]
  },
  {
   "cell_type": "code",
   "execution_count": 1,
   "id": "43eb4597-9ba8-423f-b6c2-c728186e4026",
   "metadata": {},
   "outputs": [],
   "source": [
    "import sys, os\n",
    "os.chdir(sys.path[0]+'/search')\n",
    "\n",
    "from pacman import runGames, loadAgent\n",
    "from pacman import Directions\n",
    "import pacmanAgents\n",
    "from util import Queue\n",
    "import textDisplay\n",
    "import game\n",
    "import layout\n",
    "import random\n",
    "import util\n",
    "import graphicsDisplay\n",
    "from game import *\n",
    "\n",
    "import random\n",
    "import numpy as np"
   ]
  },
  {
   "cell_type": "markdown",
   "id": "9fd030c6-b19c-4f08-87df-ca3e4f31b490",
   "metadata": {},
   "source": [
    "#### 2.2 Extrator de features\n",
    "<p style=\"text-align: justify;\">\n",
    "&emsp; Para o Q-Learning com função de aproximação utilizarei as seguintes features:\n",
    "\n",
    "1) Distancia do pacman à comida mais próxima.\n",
    "2) Número de fantasmas não assustados na posição seguinte.\n",
    "3) Distancia do pacman ao fantasma assustado mais próximo.\n",
    "4) Número de fantasmas assustados em até duas posições de distancia.  \n",
    "5) Número de fantasmas não assustados em até duas posições de distancia.\n",
    "6) Distancia do pacman à capsula mais próxima.\n",
    "7) Número de capsulas, se existir fantasmas não assustados.\n",
    "8) Três features para estimular o pacman ir atrás da comida, das capsulas e dos fantasmas assustados, quando não ha fantasmas não assustados proximos.\n",
    "9) Uma feature de bias.\n",
    "\n",
    "&emsp; Abaixo vou definir uma classe Features, essa classe terá um método getFeatures, que retornará as features que planejei acima:"
   ]
  },
  {
   "cell_type": "code",
   "execution_count": 2,
   "id": "be93e788-a620-4624-99de-b93c79cdbb84",
   "metadata": {},
   "outputs": [],
   "source": [
    "class Features:\n",
    "    \n",
    "    def getNeighbors(self, pos, walls, visited):\n",
    "        c, l = pos\n",
    "        neighbors = []\n",
    "        \n",
    "        for i in range(-1,2,1):\n",
    "            for j in range(-1,2,1):\n",
    "                if(abs(i) != abs(j) and c+i < walls.width and c+i >= 0 and l+j < walls.height and l+j >= 0):\n",
    "                    if(walls[c+i][l+j] == False and visited[c+i][l+j] == 0):\n",
    "                        neighbors.append((c+i,l+j))             \n",
    "        return neighbors\n",
    "        \n",
    "    def bfsDistance(self, state, posIni, endPos = None, food = False):\n",
    "        queue = Queue()\n",
    "        \n",
    "        walls = state.getWalls()\n",
    "        if(food):\n",
    "            foods = state.getFood()\n",
    "            \n",
    "        visited = np.zeros((walls.width,walls.height))\n",
    "        visited[posIni[0]][posIni[1]] = 1\n",
    "                \n",
    "        queue.push((posIni, 1))\n",
    "        while(not queue.isEmpty()):\n",
    "            current = queue.pop()\n",
    "            pos = current[0]\n",
    "            stepsUntilNow = current[1]\n",
    "            \n",
    "            if(food == True):\n",
    "                if(foods[pos[0]][pos[1]] == True):\n",
    "                    return stepsUntilNow\n",
    "            else:\n",
    "                if(pos[0] == endPos[0] and pos[1] == endPos[1]):\n",
    "                    return stepsUntilNow\n",
    "    \n",
    "            visited[pos[0]][pos[1]] = 1\n",
    "            possibles = self.getNeighbors(pos,walls, visited)\n",
    "            for possibleMove in possibles:\n",
    "                queue.push((possibleMove, stepsUntilNow+1))\n",
    "        return -1\n",
    "    \n",
    "    def ghosts(self, state):\n",
    "        ghostsPos = state.getGhostPositions()\n",
    "        n_ghosts = len(ghostsPos)\n",
    "        \n",
    "        scared_timer = []\n",
    "        positionsNonScared = []\n",
    "        positionsScared = []\n",
    "        \n",
    "        for i in range(n_ghosts):\n",
    "            scared_timer.append(state.getGhostStates()[i].scaredTimer)\n",
    "            \n",
    "        for i in range(n_ghosts):\n",
    "            if(scared_timer[i] == 0):\n",
    "                positionsNonScared.append(np.ceil(ghostsPos[i]))\n",
    "            else:\n",
    "                positionsScared.append(np.ceil(ghostsPos[i]))\n",
    "            \n",
    "        return positionsScared, positionsNonScared\n",
    "    \n",
    "    def nearstElement(self, state, posElement, pacmanPos):\n",
    "        minDist = float('inf')\n",
    "        for pos in posElement:\n",
    "            dist = self.bfsDistance(state, pacmanPos, pos)\n",
    "            if(dist < minDist):\n",
    "                minDist = dist\n",
    "        return minDist\n",
    "    \n",
    "    def getFeatures(self, state, action):\n",
    "        features = util.Counter()\n",
    "        \n",
    "        # Extrai do grid posicoes dos elementos\n",
    "        food = state.getFood()\n",
    "        walls = state.getWalls()\n",
    "        scaredGhosts, badGhosts = self.ghosts(state)\n",
    "        capsules = state.getCapsules() \n",
    "\n",
    "        features[\"bias\"] = 1.0\n",
    "        \n",
    "        # Computa a posicao do pacman após executar a acao\n",
    "        x, y = state.getPacmanPosition()\n",
    "        dx, dy = Actions.directionToVector(action)\n",
    "        next_x, next_y = int(x + dx), int(y + dy)\n",
    "        pacman = (next_x, next_y)\n",
    "        \n",
    "        ############## Closest food distance #################\n",
    "        dist = self.bfsDistance(state, pacman, food = True)\n",
    "        if (dist > 0):\n",
    "            features[\"closest-food\"] = float(dist)/(walls.width * walls.height)\n",
    "\n",
    "        ############# Number of bad ghosts one step away ###########\n",
    "        if(len(badGhosts) > 0):\n",
    "            features[\"badghosts-one-step\"] = sum(pacman in Actions.getLegalNeighbors(g, walls) for g in badGhosts)\n",
    "\n",
    "        ############### Distance to closest scared ghost ################\n",
    "        if(len(scaredGhosts) > 0):\n",
    "            distScaredGhosts = self.nearstElement(state, scaredGhosts, pacman)\n",
    "            if (distScaredGhosts > 0):\n",
    "                features[\"closest-scared\"] = float(distScaredGhosts)/(walls.width * walls.height)\n",
    "        \n",
    "        ############ Number of scared ghosts up to 2 steps ###############\n",
    "        if(len(scaredGhosts) > 0):\n",
    "            num = 0\n",
    "            for ghost in scaredGhosts:\n",
    "                distance = self.bfsDistance(state, pacman, ghost)\n",
    "                if(distance > 0 and distance <= 2):\n",
    "                    num += 1\n",
    "            features[\"scared-two-step\"] = num \n",
    "        \n",
    "        ############ Number of bad ghosts up to 2 steps ###############\n",
    "        if(len(badGhosts) > 0):\n",
    "            num = 0\n",
    "            for ghost in badGhosts:\n",
    "                distance = self.bfsDistance(state, pacman, ghost)\n",
    "                if(distance > 0 and distance <= 2):\n",
    "                    num += 1\n",
    "            features[\"bad-two-step\"] = num\n",
    "            \n",
    "        ############## Minimum distance to a capsule #################\n",
    "        if(len(capsules) > 0):\n",
    "            distCapsule = self.nearstElement(state, capsules, pacman)\n",
    "            if (distCapsule > 0):\n",
    "                features[\"closest-capsule\"] = float(distCapsule)/(walls.width * walls.height)\n",
    "        \n",
    "        ########### Activation of number of capsules when bad ghosts #############\n",
    "        if(len(capsules) > 0 and len(badGhosts) > 0):\n",
    "            features[\"num-capsules\"] = len(capsules)\n",
    "\n",
    "        ########### Activation of features when ghost is not nearby #############\n",
    "        if(not features[\"badghosts-one-step\"] and not features[\"bad-two-step\"]):\n",
    "            if(len(scaredGhosts) > 0):\n",
    "                features[\"scar\"] = 4.0\n",
    "            elif(len(capsules) > 0):\n",
    "                features[\"cap\"] = 2.0\n",
    "            elif(food[next_x][next_y]):\n",
    "                features[\"food\"] = 1.0\n",
    "\n",
    "        features.divideAll(10.0)\n",
    "        return features\n"
   ]
  },
  {
   "cell_type": "markdown",
   "id": "4f208c81-4cc7-4c4f-bf0c-3cf355d29acb",
   "metadata": {},
   "source": [
    "<p style=\"text-align: justify;\">\n",
    "&emsp; O método do getFeatures dessa classe retorna as features que havia planejado anteriormente, note que para  cálcular as distancias e elementos mais próximos eu aproveitei os métodos já implementados que usei no agente para o algoritmo genético. <br>\n",
    "&emsp; Note que as três features para estimular o pacman ir atrás da comida, das capsulas e dos fantasmas assustados iniciaram com pesos diferentes valendo 1, 2 e 4, respectivamente, fiz isso porque o pacman deve seguir em termos de importância primeiro os fantamas assustados, se existirem, depois as capsulas e por fim as comidas, isso garantirá um score maior. Se todos esses valores começarem com o mesmo valor o Q-Learning daria conta de calibrar os pesos corretamente, porém vou fazer isso para facilitar a convergência, ou seja, vou incentivar o QLearning a achar os pesos mais rapidamente, e mesmo que eu esteja errado o Q-Learning irá ajustar os pesos e provavelmente o modelo convergirá da mesma forma. <br>\n",
    "</p> "
   ]
  },
  {
   "cell_type": "markdown",
   "id": "e3af23fd-8d7a-445d-af6d-e15854c2053c",
   "metadata": {},
   "source": [
    "#### 2.3 Q-Learning with function approximation\n",
    "<p style=\"text-align: justify;\">\n",
    "&emsp; Agora vou definir um agente do pacman que já implementa um Q-Learning com função de aproximação e que usa uma política epsilon-greedy, segue abaixo o código:\n",
    "</p>"
   ]
  },
  {
   "cell_type": "code",
   "execution_count": 3,
   "id": "880c78e8-4d53-4ae3-9d78-0d9304eacf5a",
   "metadata": {},
   "outputs": [],
   "source": [
    "class QAgent(Agent):\n",
    "    \n",
    "    def __init__(self, alpha = 0.1, epsilon = 0, gamma=0.5, numTraining = 100):\n",
    "        self.alpha = float(alpha)\n",
    "        self.epsilon = float(epsilon)\n",
    "        self.discount = float(gamma)\n",
    "        \n",
    "        self.numTraining = int(numTraining)\n",
    "        \n",
    "        self.episodes = 0\n",
    "        \n",
    "        self.prev_state = None\n",
    "        self.prev_action = None\n",
    "        self.prev_score = None\n",
    "        \n",
    "        self.weights = util.Counter()\n",
    "        self.features = Features()\n",
    "    \n",
    "    def getAction(self, state):        \n",
    "        # Update weights\n",
    "        if(self.prev_state != None):\n",
    "            reward = state.getScore() - self.prev_score\n",
    "            self.update_weigths(self.prev_state, self.prev_action, state, reward)\n",
    "\n",
    "        # Update state\n",
    "        self.update_state(state)\n",
    "        \n",
    "        return self.prev_action\n",
    "   \n",
    "    def getQValue(self, state, action):\n",
    "        QValue = 0\n",
    "        features = self.features.getFeatures(state, action)\n",
    "        for feature in features:\n",
    "            QValue += features[feature] * self.weights[feature]\n",
    "        return QValue\n",
    "    \n",
    "    def maxQValue(self, state):\n",
    "        qvalues = [self.getQValue(state, action) for action in state.getLegalPacmanActions()]\n",
    "        if not len(qvalues):\n",
    "            return 0\n",
    "        return max(qvalues)\n",
    "    \n",
    "    def update_weigths(self, state, action, nextState, reward):\n",
    "        features = self.features.getFeatures(state, action)\n",
    "        difference = reward + self.discount * self.maxQValue(nextState) - self.getQValue(state, action)\n",
    "        for feature in features:\n",
    "            self.weights[feature] += self.alpha * difference * features[feature]\n",
    "    \n",
    "    def update_state(self, state):\n",
    "        self.prev_state = state\n",
    "        self.prev_action = self.epsilonGreedy(state)\n",
    "        self.prev_score = state.getScore()\n",
    "    \n",
    "    def epsilonGreedy(self, state):\n",
    "        legalActions = state.getLegalPacmanActions()\n",
    "        if not len(legalActions):\n",
    "            return None\n",
    "        probability = random.random()\n",
    "        if probability < self.epsilon:\n",
    "            random_action = random.choice(legalActions)\n",
    "            return random_action\n",
    "        QValue = float('-inf')\n",
    "        for legalAction in legalActions:\n",
    "            QValueTemp = self.getQValue(state, legalAction)\n",
    "            if QValueTemp > QValue:\n",
    "                action = legalAction\n",
    "                QValue = QValueTemp\n",
    "        return action\n",
    "    \n",
    "    def reset_state(self):\n",
    "        self.prev_state = None\n",
    "        self.prev_action = None\n",
    "        self.prev_score = None\n",
    "\n",
    "    def final(self, state):\n",
    "        # update weights\n",
    "        if self.prev_state != None:\n",
    "            reward = state.getScore() - self.prev_score\n",
    "            self.update_weigths(self.prev_state, self.prev_action, state, reward)\n",
    "        \n",
    "        # Reset state from current game\n",
    "        self.reset_state()\n",
    "        \n",
    "        self.episodes += 1\n",
    "        if(self.episodes%100 == 0 and self.episodes <= self.numTraining):\n",
    "            print(\"Já foi rodado\",self.episodes,\"episódios de treino, faltam\",self.numTraining-self.episodes)\n",
    "        if self.episodes == self.numTraining:\n",
    "            self.alpha = 0\n",
    "            self.epsilon = 0"
   ]
  },
  {
   "cell_type": "markdown",
   "id": "bff0a27c-7058-4da5-b4e5-dbc806a76e78",
   "metadata": {},
   "source": [
    "<p style=\"text-align: justify;\">\n",
    "&emsp; Vamos analisar como o código funciona, primeiro vou apresentar os parâmetros dessa classe, nela é esperado um valor epsilon para aplicar a política epsilon-greedy, também é esperado um alpha, que é a taxa de aprendizado, e um gamma, que é o disconto que é usado no Q-Learning, todos esses parâmetros já foram discutidos anteriormente. <br>\n",
    "&emsp; Quando o jogo é rodado, sempre que é esperado que o pacman faça uma ação é chamado o método getAction do agente. Sabendo disso, no meu agente, quando ele é chamado a primeira coisa que é feita é atualizar os pesos do approximate Q-Learning, usando o método update_weigths, observe que os pesos das features são atualizados conforme explicado no tópico 1.2, e note que a recompensa é a diferença entre o score do estado atual e do estado anterior. <br>\n",
    "&emsp; Após isso, os atributos da classe que salvam o estado, o score anterior e a ultima ação do pacman são atualizados, a ação é computada usando a política epsilon-greedy, que também ja foi explicada. Então essa ação é retornada pelo getAction. <br>\n",
    "&emsp; Isso se repete até que a partida termina, quando isso acontece o próprio jogo chama o método final do agente, nesse meu método eu atualizo os pesos em relação a ação final do pacman, e então os atributos que se referem a partida atual são resetados. Observe que quando o número atual de episódios atingir o número de treinamentos o valor de alfa e epsilon são zerados, isso acontece porque quando o jogo está rodando fora do treinamento, ou seja estamos em um jogo \"pra valer\", não queremos que o pacman aprenda ou explore o tabuleiro. <br>"
   ]
  },
  {
   "cell_type": "markdown",
   "id": "d886e89c-94a8-46ba-a9ce-e44abee678f5",
   "metadata": {},
   "source": [
    "### 3. Treinamento\n",
    "<p style=\"text-align: justify;\">\n",
    "&emsp; Antes de dar detalhes sobre como farei o treinamento, primeiro vou implementar algumas funções que irão me auxilizar:<br>"
   ]
  },
  {
   "cell_type": "markdown",
   "id": "a19f0f4e-767a-4bb9-b55e-57d0bb5b8a93",
   "metadata": {},
   "source": [
    "#### 3.1 Funções auxiliares\n",
    "<p style=\"text-align: justify;\">\n",
    "&emsp; A primeira função que vou fazer é uma que, dado o valor de alfa, epsilon, gama e o número de jogos para treinamento, roda o jogo com dois fantasmas aleatórios, em um layout especifico e retorna o agente treinado:\n",
    "</p>"
   ]
  },
  {
   "cell_type": "code",
   "execution_count": 4,
   "id": "915c820f-0c53-4c2e-9bc3-8689131dd24c",
   "metadata": {},
   "outputs": [],
   "source": [
    "def trainingQLearn(alpha, epsilon, gamma, numTraining, olayout):\n",
    "    argumentos ={}\n",
    "    pacman = QAgent(alpha, epsilon, gamma, numTraining)\n",
    "    ghostType = loadAgent('RandomGhost', True)\n",
    "    textDisplay.SLEEP_TIME = 0\n",
    "    argumentos['layout'] = layout.getLayout(olayout)\n",
    "    argumentos['pacman'] = pacman\n",
    "    argumentos['ghosts'] = [ghostType( i+1 ) for i in range( 2 )]\n",
    "    argumentos['display'] = textDisplay.NullGraphics()\n",
    "    argumentos['numGames'] = numTraining\n",
    "    argumentos['numTraining'] = numTraining\n",
    "    argumentos['record'] = False\n",
    "    argumentos['catchExceptions'] = False\n",
    "    runGames(**argumentos)\n",
    "    return pacman"
   ]
  },
  {
   "cell_type": "markdown",
   "id": "7b209d30-f562-488f-82d2-df4c4ed8ecca",
   "metadata": {},
   "source": [
    "<p style=\"text-align: justify;\">\n",
    "&emsp; A próxima função é uma que dado o agente, já treinado, o e o layout, o pacman será rodado n vezes e imprimirá o score, se o pacman ganhou ou perdeu e número de movimentos:\n",
    "</p>"
   ]
  },
  {
   "cell_type": "code",
   "execution_count": 5,
   "id": "215472d4-0dec-49d8-a5ef-af5bca265bee",
   "metadata": {},
   "outputs": [],
   "source": [
    "def runNgames(pacman, olayout, n, graphics = False):\n",
    "    argumentos ={}\n",
    "    ghostType = loadAgent('RandomGhost', True)\n",
    "    textDisplay.SLEEP_TIME = 0\n",
    "    argumentos['layout'] = layout.getLayout(olayout)\n",
    "    argumentos['pacman'] = pacman\n",
    "    argumentos['ghosts'] = [ghostType( i+1 ) for i in range( 2 )]\n",
    "    argumentos['display'] = textDisplay.NullGraphics()\n",
    "    if(graphics):\n",
    "        argumentos['display'] = graphicsDisplay.PacmanGraphics(1, frameTime = 0)\n",
    "    argumentos['numGames'] = n\n",
    "    argumentos['catchExceptions'] = False\n",
    "    argumentos['record'] = False\n",
    "    \n",
    "    res = runGames(**argumentos)\n",
    "\n",
    "    for game in res: \n",
    "        if(game.state.isWin()):\n",
    "            status = 'pacman venceu'\n",
    "        else:\n",
    "            status = 'pacman morreu'\n",
    "        n = len(game.moveHistory)\n",
    "        print('Score:', game.state.getScore(),'-', status, 'com', n, 'movimentos')"
   ]
  },
  {
   "cell_type": "markdown",
   "id": "957f2a06-bb6c-4190-bc5b-d68ac1897ee1",
   "metadata": {},
   "source": [
    "#### 3.2 Layout smallClassic\n",
    "<p style=\"text-align: justify;\">\n",
    "&emsp; Agora que já defini as funções que irei utilizar no treinamento, posso aplica-las nos meus layouts, primeiro irei treinar para o smallClassic.<br>\n",
    "&emsp; Irei utilizar uma taxa de aprendizado alfa de 0.1, uma taxa de exploração, para o epsilon-greedy de 0.4, um valor gama do desconto, que irá impactar sobre decisões de longo prazo, valendo 0.6, além disso irei treinar por 1000 episódios. <br>\n",
    "&emsp; Escolhi esse alfa porque valores muito grandes podem atrapalhar no aprendizado e fazer o pacman cair em um mínimo local, escolhi um valor epsilon médio, isso permitirá que o pacman explore bem o tabuleiro, e escolhi um gama alto, mas nem tanto, para ensinar ao pacman que certas ações podem impactar o score no futuro. <br>\n",
    "&emsp; A seguir o treinamento: \n",
    "</p>"
   ]
  },
  {
   "cell_type": "code",
   "execution_count": 6,
   "id": "7e35b9e3-0607-4354-a590-970d0a97ccae",
   "metadata": {},
   "outputs": [
    {
     "name": "stdout",
     "output_type": "stream",
     "text": [
      "Já foi rodado 100 episódios de treino, faltam 900\n",
      "Já foi rodado 200 episódios de treino, faltam 800\n",
      "Já foi rodado 300 episódios de treino, faltam 700\n",
      "Já foi rodado 400 episódios de treino, faltam 600\n",
      "Já foi rodado 500 episódios de treino, faltam 500\n",
      "Já foi rodado 600 episódios de treino, faltam 400\n",
      "Já foi rodado 700 episódios de treino, faltam 300\n",
      "Já foi rodado 800 episódios de treino, faltam 200\n",
      "Já foi rodado 900 episódios de treino, faltam 100\n",
      "Já foi rodado 1000 episódios de treino, faltam 0\n"
     ]
    }
   ],
   "source": [
    "alpha = 0.1\n",
    "epsilon = 0.4\n",
    "gamma = 0.6\n",
    "numTraining = 1000\n",
    "olayout = \"smallClassic\"\n",
    "trainedPacman = trainingQLearn(alpha, epsilon, gamma, numTraining, olayout)"
   ]
  },
  {
   "cell_type": "markdown",
   "id": "89e95a85-d9da-436c-8fa7-bd7a446230e6",
   "metadata": {},
   "source": [
    "<p style=\"text-align: justify;\">\n",
    "&emsp; Agora que tenho um agente treinado vou executa-lo 10 vezes para ver como se comporta, vou mudar o epsilon e alpha do agente para zero, porque como já foi treinado não quero que ele aprenda ou explore o tabuleiro:\n",
    "</p>"
   ]
  },
  {
   "cell_type": "code",
   "execution_count": 7,
   "id": "a271d11e-3c04-45c4-a6db-27da3b8decd1",
   "metadata": {},
   "outputs": [
    {
     "name": "stdout",
     "output_type": "stream",
     "text": [
      "Score: 1746.0 - pacman venceu com 310 movimentos\n",
      "Score: 1751.0 - pacman venceu com 295 movimentos\n",
      "Score: 1539.0 - pacman venceu com 331 movimentos\n",
      "Score: 1747.0 - pacman venceu com 307 movimentos\n",
      "Score: 1745.0 - pacman venceu com 313 movimentos\n",
      "Score: 1534.0 - pacman venceu com 346 movimentos\n",
      "Score: 1744.0 - pacman venceu com 316 movimentos\n",
      "Score: 1768.0 - pacman venceu com 244 movimentos\n",
      "Score: 1538.0 - pacman venceu com 334 movimentos\n",
      "Score: 1753.0 - pacman venceu com 289 movimentos\n"
     ]
    }
   ],
   "source": [
    "trainedPacman.alpha = 0\n",
    "trainedPacman.epsilon = 0\n",
    "runNgames(trainedPacman, \"smallClassic\", 10)            "
   ]
  },
  {
   "cell_type": "markdown",
   "id": "4e299d6a-c929-44cc-922f-9fcb72052fb0",
   "metadata": {},
   "source": [
    "<p style=\"text-align: justify;\">\n",
    "&emsp; O pacman foi excelente, obtive 100% de vitória e um score médio de 1686, o que é muito bom para esse layout. <br></p>"
   ]
  },
  {
   "cell_type": "markdown",
   "id": "d469af46-6c5d-4d42-96e8-ee06c9c63644",
   "metadata": {},
   "source": [
    "&emsp; Agora vou executar um jogo com interface gráfica para ver como ficou:"
   ]
  },
  {
   "cell_type": "code",
   "execution_count": 9,
   "id": "b2753cbd-066c-472e-835f-e47298cf3865",
   "metadata": {},
   "outputs": [
    {
     "name": "stdout",
     "output_type": "stream",
     "text": [
      "Score: 1746.0 - pacman venceu com 310 movimentos\n"
     ]
    }
   ],
   "source": [
    "runNgames(trainedPacman, \"smallClassic\", 1, graphics = True)"
   ]
  },
  {
   "cell_type": "markdown",
   "id": "b7cffaf9-a8ec-4fce-ac79-787e96c6ad56",
   "metadata": {},
   "source": [
    "&emsp; Como não consigo colocar a execução no notebook vou colocar um gif de uma execução:"
   ]
  },
  {
   "cell_type": "markdown",
   "id": "abfb7551-d1a5-46a4-9743-54bcf8f769fc",
   "metadata": {},
   "source": [
    "<p style=\"text-align: center;\">\n",
    "&emsp;<img src=\"gifs/smallClassicRL.gif\" width=\"500\" align=\"center\">\n",
    "</p>"
   ]
  },
  {
   "cell_type": "markdown",
   "id": "52750041-808d-4b07-bf9c-7aa3415b7e9f",
   "metadata": {},
   "source": [
    "<p style=\"text-align: justify;\">\n",
    "&emsp; Nessa execução é possível perceber que os pesos do Q-Learning com função de aproximação foram bem regulados, o pacman foi atrás das capsulas, perseguiu os fantasmas assustados e desviou dos fantasmas não asustados, ou seja, o Q-Learning com função de aproximação foi um sucesso para esse layout, eu executei mais algumas vezes e percebi que o pacman morre apenas nos casos em que ele fica encurralado.\n",
    "</p>"
   ]
  },
  {
   "cell_type": "markdown",
   "id": "ebb9dc93-9253-40e2-8c73-54cf4ffb559e",
   "metadata": {},
   "source": [
    "#### 3.3 Layout mediumClassic\n",
    "<p style=\"text-align: justify;\">\n",
    "&emsp; Aqui, irei utilizar os mesmos parametros que utilizei para o smallClassic, ou seja, uma taxa de aprendizado alfa de 0.1, uma taxa de exploração, para o epsilon-greedy de 0.4, um valor gama do desconto, que irá impactar sobre decisões de longo prazo, valendo 0.6, além disso irei treinar por 1000 episódios. <br>\n",
    "&emsp; A seguir o treinamento: \n",
    "</p>"
   ]
  },
  {
   "cell_type": "code",
   "execution_count": 10,
   "id": "14d1ab4f-0971-4631-b4fe-cfae3877a578",
   "metadata": {},
   "outputs": [
    {
     "name": "stdout",
     "output_type": "stream",
     "text": [
      "Já foi rodado 100 episódios de treino, faltam 900\n",
      "Já foi rodado 200 episódios de treino, faltam 800\n",
      "Já foi rodado 300 episódios de treino, faltam 700\n",
      "Já foi rodado 400 episódios de treino, faltam 600\n",
      "Já foi rodado 500 episódios de treino, faltam 500\n",
      "Já foi rodado 600 episódios de treino, faltam 400\n",
      "Já foi rodado 700 episódios de treino, faltam 300\n",
      "Já foi rodado 800 episódios de treino, faltam 200\n",
      "Já foi rodado 900 episódios de treino, faltam 100\n",
      "Já foi rodado 1000 episódios de treino, faltam 0\n"
     ]
    }
   ],
   "source": [
    "alpha = 0.1\n",
    "epsilon = 0.4\n",
    "gamma = 0.6\n",
    "numTraining = 1000\n",
    "olayout = \"mediumClassic\"\n",
    "trainedPacmanMC = trainingQLearn(alpha, epsilon, gamma, numTraining, olayout)"
   ]
  },
  {
   "cell_type": "markdown",
   "id": "0cf82d55-fc27-43e1-87a6-6bae4d0cb63c",
   "metadata": {},
   "source": [
    "<p style=\"text-align: justify;\">\n",
    "&emsp; Agora que tenho um agente treinado vou executa-lo 10 vezes para ver como se comporta, vou mudar o epsilon e alpha do agente para zero, porque como já foi treinado não quero que ele aprenda ou explore o tabuleiro:\n",
    "</p>"
   ]
  },
  {
   "cell_type": "code",
   "execution_count": 12,
   "id": "a7942e0f-bbff-4963-baa3-9458cf3d2226",
   "metadata": {},
   "outputs": [
    {
     "name": "stdout",
     "output_type": "stream",
     "text": [
      "Score: 2126.0 - pacman venceu com 430 movimentos\n",
      "Score: 2121.0 - pacman venceu com 445 movimentos\n",
      "Score: 2141.0 - pacman venceu com 385 movimentos\n",
      "Score: 676.0 - pacman morreu com 400 movimentos\n",
      "Score: 2121.0 - pacman venceu com 445 movimentos\n",
      "Score: 496.0 - pacman morreu com 192 movimentos\n",
      "Score: 2101.0 - pacman venceu com 505 movimentos\n",
      "Score: 2105.0 - pacman venceu com 493 movimentos\n",
      "Score: 2101.0 - pacman venceu com 505 movimentos\n",
      "Score: 2107.0 - pacman venceu com 487 movimentos\n"
     ]
    }
   ],
   "source": [
    "trainedPacmanMC.alpha = 0\n",
    "trainedPacmanMC.epsilon = 0\n",
    "runNgames(trainedPacmanMC, \"mediumClassic\", 10)            "
   ]
  },
  {
   "cell_type": "markdown",
   "id": "e4737b46-4c33-467b-b646-2564cb87ca76",
   "metadata": {},
   "source": [
    "<p style=\"text-align: justify;\">\n",
    "&emsp; O pacman foi muito bem, obtive 80% de vitória e um score médio de 1759, o que é bom para esse layout. <br></p>"
   ]
  },
  {
   "cell_type": "markdown",
   "id": "0ab239ac-e44a-49a1-be75-afb6f7a4f658",
   "metadata": {},
   "source": [
    "&emsp; Agora vou executar um jogo com interface gráfica para ver como ficou:"
   ]
  },
  {
   "cell_type": "code",
   "execution_count": 13,
   "id": "bd396c95-cd66-4aba-91ec-cc7eae7e2aa7",
   "metadata": {},
   "outputs": [
    {
     "name": "stdout",
     "output_type": "stream",
     "text": [
      "Score: 2138.0 - pacman venceu com 394 movimentos\n",
      "Score: 2130.0 - pacman venceu com 418 movimentos\n"
     ]
    }
   ],
   "source": [
    "runNgames(trainedPacmanMC, \"mediumClassic\", 2, graphics = True)"
   ]
  },
  {
   "cell_type": "markdown",
   "id": "463ac098-ee7c-452a-8ca9-0be5d93577a6",
   "metadata": {},
   "source": [
    "&emsp; Como não consigo colocar a execução no notebook vou colocar um gif de uma execução:"
   ]
  },
  {
   "cell_type": "markdown",
   "id": "8064a58b-d220-4da7-84ed-1b5f8d706ea9",
   "metadata": {},
   "source": [
    "<p style=\"text-align: center;\">\n",
    "&emsp;<img src=\"gifs/mediumClassicRL.gif\" width=\"500\" align=\"center\">\n",
    "</p>"
   ]
  },
  {
   "cell_type": "markdown",
   "id": "c08e7f21-356c-4482-ab28-0bbe6ba1d405",
   "metadata": {},
   "source": [
    "<p style=\"text-align: justify;\">\n",
    "&emsp; Assim como para o smallClassim, nessa execução é possível perceber que os pesos do Q-Learning com função de aproximação foram bem regulados, o pacman foi atrás das capsulas, perseguiu os fantasmas assustados e desviou dos fantasmas não asustados, ou seja, o Q-Learning com função de aproximação também foi um sucesso para esse layout, aqui também executei mais algumas vezes e percebi que o pacman morre apenas nos casos em que ele fica encurralado.\n",
    "</p>"
   ]
  },
  {
   "cell_type": "markdown",
   "id": "212aba3d-60fe-40aa-a0fb-1c587b5a02b3",
   "metadata": {},
   "source": [
    "#### 3.4 Layout originalClassic\n",
    "<p style=\"text-align: justify;\">\n",
    "&emsp; Nos outros layouts vimos que o método RL que estou utilizando está indo bem, portanto, para esse layout, também irei utilizar os mesmos parametros que utilizei para o smallClassic e mediumClassic, ou seja, uma taxa de aprendizado alfa de 0.1, uma taxa de exploração, para o epsilon-greedy de 0.4, um valor gama do desconto, que irá impactar sobre decisões de longo prazo, valendo 0.6, além disso irei treinar por 1000 episódios. <br>\n",
    "&emsp; A seguir o treinamento: \n",
    "</p>"
   ]
  },
  {
   "cell_type": "code",
   "execution_count": 14,
   "id": "69daff1b-66e7-43ea-bcd7-0290f54bd2eb",
   "metadata": {},
   "outputs": [
    {
     "name": "stdout",
     "output_type": "stream",
     "text": [
      "Já foi rodado 100 episódios de treino, faltam 900\n",
      "Já foi rodado 200 episódios de treino, faltam 800\n",
      "Já foi rodado 300 episódios de treino, faltam 700\n",
      "Já foi rodado 400 episódios de treino, faltam 600\n",
      "Já foi rodado 500 episódios de treino, faltam 500\n",
      "Já foi rodado 600 episódios de treino, faltam 400\n",
      "Já foi rodado 700 episódios de treino, faltam 300\n",
      "Já foi rodado 800 episódios de treino, faltam 200\n",
      "Já foi rodado 900 episódios de treino, faltam 100\n",
      "Já foi rodado 1000 episódios de treino, faltam 0\n"
     ]
    }
   ],
   "source": [
    "alpha = 0.1\n",
    "epsilon = 0.4\n",
    "gamma = 0.6\n",
    "numTraining = 1000\n",
    "olayout = \"originalClassic\"\n",
    "trainedPacmanOC = trainingQLearn(alpha, epsilon, gamma, numTraining, olayout)"
   ]
  },
  {
   "cell_type": "markdown",
   "id": "c36713ca-a455-43ca-8a4e-dd596936d6fe",
   "metadata": {},
   "source": [
    "<p style=\"text-align: justify;\">\n",
    "&emsp; Agora que tenho um agente treinado vou executa-lo 10 vezes para ver como se comporta, vou mudar o epsilon e alpha do agente para zero, porque como já foi treinado não quero que ele aprenda ou explore o tabuleiro:\n",
    "</p>"
   ]
  },
  {
   "cell_type": "code",
   "execution_count": 15,
   "id": "1b31685d-71bc-4470-bf09-7254fb51a779",
   "metadata": {},
   "outputs": [
    {
     "name": "stdout",
     "output_type": "stream",
     "text": [
      "Score: 3993.0 - pacman venceu com 1189 movimentos\n",
      "Score: 3404.0 - pacman venceu com 1156 movimentos\n",
      "Score: 2114.0 - pacman morreu com 1096 movimentos\n",
      "Score: 3578.0 - pacman venceu com 1234 movimentos\n",
      "Score: 3366.0 - pacman venceu com 1270 movimentos\n",
      "Score: 3157.0 - pacman venceu com 1297 movimentos\n",
      "Score: 3733.0 - pacman venceu com 1369 movimentos\n",
      "Score: 2136.0 - pacman morreu com 940 movimentos\n",
      "Score: 3749.0 - pacman venceu com 1321 movimentos\n",
      "Score: 3604.0 - pacman venceu com 1156 movimentos\n"
     ]
    }
   ],
   "source": [
    "trainedPacmanOC.alpha = 0\n",
    "trainedPacmanOC.epsilon = 0\n",
    "runNgames(trainedPacmanOC, \"originalClassic\", 10)            "
   ]
  },
  {
   "cell_type": "markdown",
   "id": "556bff30-2ef0-4ad1-b5b6-4e67733eca9c",
   "metadata": {},
   "source": [
    "<p style=\"text-align: justify;\">\n",
    "&emsp; O pacman foi muito bem, obtive 80% de vitória e um score médio de 3283, o que é bom para esse layout. <br></p>"
   ]
  },
  {
   "cell_type": "markdown",
   "id": "678ccf9c-ee73-459e-9700-79458336fbb0",
   "metadata": {},
   "source": [
    "&emsp; Agora vou executar um jogo com interface gráfica para ver como ficou:"
   ]
  },
  {
   "cell_type": "code",
   "execution_count": 17,
   "id": "6ef20ae1-a868-49b5-9d57-ef936f5a79ba",
   "metadata": {},
   "outputs": [
    {
     "name": "stdout",
     "output_type": "stream",
     "text": [
      "Score: 3327.0 - pacman venceu com 1387 movimentos\n",
      "Score: 3405.0 - pacman venceu com 1153 movimentos\n"
     ]
    }
   ],
   "source": [
    "runNgames(trainedPacmanOC, \"originalClassic\", 2, graphics = True)"
   ]
  },
  {
   "cell_type": "markdown",
   "id": "ade6abc4-3e68-4f04-9666-edb7bcb0dbf7",
   "metadata": {},
   "source": [
    "&emsp; Como não consigo colocar a execução no notebook vou colocar um vídeo de uma execução:"
   ]
  },
  {
   "cell_type": "code",
   "execution_count": 18,
   "id": "34ad1b56-8f9c-4c54-aa9c-6bcf282340f7",
   "metadata": {
    "jupyter": {
     "source_hidden": true
    },
    "tags": []
   },
   "outputs": [
    {
     "data": {
      "text/html": [
       "\n",
       "    <video width=\"500\" height=\"400\" controls style =\"display:block; margin:0 auto;\">\n",
       "        <source src=\"gifs/OriginalClassicRL.mp4\" type=\"video/mp4\">\n",
       "    </video>\n"
      ],
      "text/plain": [
       "<IPython.core.display.HTML object>"
      ]
     },
     "execution_count": 18,
     "metadata": {},
     "output_type": "execute_result"
    }
   ],
   "source": [
    "from IPython.display import HTML\n",
    "\n",
    "HTML(\"\"\"\n",
    "    <video width=\"500\" height=\"400\" controls style =\"display:block; margin:0 auto;\">\n",
    "        <source src=\"gifs/OriginalClassicRL.mp4\" type=\"video/mp4\">\n",
    "    </video>\n",
    "\"\"\")"
   ]
  },
  {
   "cell_type": "markdown",
   "id": "1fd126d6-15d5-492d-8756-b4b450b006c6",
   "metadata": {},
   "source": [
    "<p style=\"text-align: justify;\">\n",
    "&emsp; Assim como para o smallClassim e mediumClassic, nessa execução é possível perceber que os pesos do Q-Learning com função de aproximação foram bem regulados, o pacman foi atrás das capsulas, perseguiu os fantasmas assustados e desviou dos fantasmas não asustados, ou seja, o Q-Learning com função de aproximação também foi um sucesso para esse layout, aqui também executei mais algumas vezes e percebi que o pacman morre apenas nos casos em que ele fica encurralado.\n",
    "</p>"
   ]
  },
  {
   "cell_type": "code",
   "execution_count": 14,
   "id": "c8c8fb0e-a49a-4134-8125-6a4ec685bd11",
   "metadata": {},
   "outputs": [
    {
     "ename": "KeyboardInterrupt",
     "evalue": "",
     "output_type": "error",
     "traceback": [
      "\u001b[1;31m---------------------------------------------------------------------------\u001b[0m",
      "\u001b[1;31mKeyboardInterrupt\u001b[0m                         Traceback (most recent call last)",
      "\u001b[1;32m<ipython-input-14-a46a0209c848>\u001b[0m in \u001b[0;36m<module>\u001b[1;34m\u001b[0m\n\u001b[0;32m     12\u001b[0m \u001b[0margumentos\u001b[0m\u001b[1;33m[\u001b[0m\u001b[1;34m'catchExceptions'\u001b[0m\u001b[1;33m]\u001b[0m \u001b[1;33m=\u001b[0m \u001b[1;32mFalse\u001b[0m\u001b[1;33m\u001b[0m\u001b[1;33m\u001b[0m\u001b[0m\n\u001b[0;32m     13\u001b[0m \u001b[1;33m\u001b[0m\u001b[0m\n\u001b[1;32m---> 14\u001b[1;33m \u001b[0mres\u001b[0m \u001b[1;33m=\u001b[0m \u001b[0mrunGames\u001b[0m\u001b[1;33m(\u001b[0m\u001b[1;33m**\u001b[0m\u001b[0margumentos\u001b[0m\u001b[1;33m)\u001b[0m\u001b[1;33m\u001b[0m\u001b[1;33m\u001b[0m\u001b[0m\n\u001b[0m",
      "\u001b[1;32m~\\Desktop\\Unicamp\\Setimo Semestre\\MC886\\Projeto3\\projeto\\search\\pacman.py\u001b[0m in \u001b[0;36mrunGames\u001b[1;34m(layout, pacman, ghosts, display, numGames, record, numTraining, catchExceptions, timeout)\u001b[0m\n\u001b[0;32m    646\u001b[0m             \u001b[0mrules\u001b[0m\u001b[1;33m.\u001b[0m\u001b[0mquiet\u001b[0m \u001b[1;33m=\u001b[0m \u001b[1;32mFalse\u001b[0m\u001b[1;33m\u001b[0m\u001b[1;33m\u001b[0m\u001b[0m\n\u001b[0;32m    647\u001b[0m         \u001b[0mgame\u001b[0m \u001b[1;33m=\u001b[0m \u001b[0mrules\u001b[0m\u001b[1;33m.\u001b[0m\u001b[0mnewGame\u001b[0m\u001b[1;33m(\u001b[0m \u001b[0mlayout\u001b[0m\u001b[1;33m,\u001b[0m \u001b[0mpacman\u001b[0m\u001b[1;33m,\u001b[0m \u001b[0mghosts\u001b[0m\u001b[1;33m,\u001b[0m \u001b[0mgameDisplay\u001b[0m\u001b[1;33m,\u001b[0m \u001b[0mbeQuiet\u001b[0m\u001b[1;33m,\u001b[0m \u001b[0mcatchExceptions\u001b[0m\u001b[1;33m)\u001b[0m\u001b[1;33m\u001b[0m\u001b[1;33m\u001b[0m\u001b[0m\n\u001b[1;32m--> 648\u001b[1;33m         \u001b[0mgame\u001b[0m\u001b[1;33m.\u001b[0m\u001b[0mrun\u001b[0m\u001b[1;33m(\u001b[0m\u001b[1;33m)\u001b[0m\u001b[1;33m\u001b[0m\u001b[1;33m\u001b[0m\u001b[0m\n\u001b[0m\u001b[0;32m    649\u001b[0m         \u001b[1;32mif\u001b[0m \u001b[1;32mnot\u001b[0m \u001b[0mbeQuiet\u001b[0m\u001b[1;33m:\u001b[0m \u001b[0mgames\u001b[0m\u001b[1;33m.\u001b[0m\u001b[0mappend\u001b[0m\u001b[1;33m(\u001b[0m\u001b[0mgame\u001b[0m\u001b[1;33m)\u001b[0m\u001b[1;33m\u001b[0m\u001b[1;33m\u001b[0m\u001b[0m\n\u001b[0;32m    650\u001b[0m \u001b[1;33m\u001b[0m\u001b[0m\n",
      "\u001b[1;32m~\\Desktop\\Unicamp\\Setimo Semestre\\MC886\\Projeto3\\projeto\\search\\game.py\u001b[0m in \u001b[0;36mrun\u001b[1;34m(self)\u001b[0m\n\u001b[0;32m    684\u001b[0m                     \u001b[1;32mreturn\u001b[0m\u001b[1;33m\u001b[0m\u001b[1;33m\u001b[0m\u001b[0m\n\u001b[0;32m    685\u001b[0m             \u001b[1;32melse\u001b[0m\u001b[1;33m:\u001b[0m\u001b[1;33m\u001b[0m\u001b[1;33m\u001b[0m\u001b[0m\n\u001b[1;32m--> 686\u001b[1;33m                 \u001b[0maction\u001b[0m \u001b[1;33m=\u001b[0m \u001b[0magent\u001b[0m\u001b[1;33m.\u001b[0m\u001b[0mgetAction\u001b[0m\u001b[1;33m(\u001b[0m\u001b[0mobservation\u001b[0m\u001b[1;33m)\u001b[0m\u001b[1;33m\u001b[0m\u001b[1;33m\u001b[0m\u001b[0m\n\u001b[0m\u001b[0;32m    687\u001b[0m             \u001b[0mself\u001b[0m\u001b[1;33m.\u001b[0m\u001b[0munmute\u001b[0m\u001b[1;33m(\u001b[0m\u001b[1;33m)\u001b[0m\u001b[1;33m\u001b[0m\u001b[1;33m\u001b[0m\u001b[0m\n\u001b[0;32m    688\u001b[0m \u001b[1;33m\u001b[0m\u001b[0m\n",
      "\u001b[1;32m<ipython-input-3-eb956de5d108>\u001b[0m in \u001b[0;36mgetAction\u001b[1;34m(self, state)\u001b[0m\n\u001b[0;32m     21\u001b[0m         \u001b[1;32mif\u001b[0m\u001b[1;33m(\u001b[0m\u001b[0mself\u001b[0m\u001b[1;33m.\u001b[0m\u001b[0mprev_state\u001b[0m \u001b[1;33m!=\u001b[0m \u001b[1;32mNone\u001b[0m\u001b[1;33m)\u001b[0m\u001b[1;33m:\u001b[0m\u001b[1;33m\u001b[0m\u001b[1;33m\u001b[0m\u001b[0m\n\u001b[0;32m     22\u001b[0m             \u001b[0mreward\u001b[0m \u001b[1;33m=\u001b[0m \u001b[0mstate\u001b[0m\u001b[1;33m.\u001b[0m\u001b[0mgetScore\u001b[0m\u001b[1;33m(\u001b[0m\u001b[1;33m)\u001b[0m \u001b[1;33m-\u001b[0m \u001b[0mself\u001b[0m\u001b[1;33m.\u001b[0m\u001b[0mprev_score\u001b[0m\u001b[1;33m\u001b[0m\u001b[1;33m\u001b[0m\u001b[0m\n\u001b[1;32m---> 23\u001b[1;33m             \u001b[0mself\u001b[0m\u001b[1;33m.\u001b[0m\u001b[0mupdate_weigths\u001b[0m\u001b[1;33m(\u001b[0m\u001b[0mself\u001b[0m\u001b[1;33m.\u001b[0m\u001b[0mprev_state\u001b[0m\u001b[1;33m,\u001b[0m \u001b[0mself\u001b[0m\u001b[1;33m.\u001b[0m\u001b[0mprev_action\u001b[0m\u001b[1;33m,\u001b[0m \u001b[0mstate\u001b[0m\u001b[1;33m,\u001b[0m \u001b[0mreward\u001b[0m\u001b[1;33m)\u001b[0m\u001b[1;33m\u001b[0m\u001b[1;33m\u001b[0m\u001b[0m\n\u001b[0m\u001b[0;32m     24\u001b[0m \u001b[1;33m\u001b[0m\u001b[0m\n\u001b[0;32m     25\u001b[0m         \u001b[1;31m# Update state\u001b[0m\u001b[1;33m\u001b[0m\u001b[1;33m\u001b[0m\u001b[1;33m\u001b[0m\u001b[0m\n",
      "\u001b[1;32m<ipython-input-3-eb956de5d108>\u001b[0m in \u001b[0;36mupdate_weigths\u001b[1;34m(self, state, action, nextState, reward)\u001b[0m\n\u001b[0;32m     43\u001b[0m     \u001b[1;32mdef\u001b[0m \u001b[0mupdate_weigths\u001b[0m\u001b[1;33m(\u001b[0m\u001b[0mself\u001b[0m\u001b[1;33m,\u001b[0m \u001b[0mstate\u001b[0m\u001b[1;33m,\u001b[0m \u001b[0maction\u001b[0m\u001b[1;33m,\u001b[0m \u001b[0mnextState\u001b[0m\u001b[1;33m,\u001b[0m \u001b[0mreward\u001b[0m\u001b[1;33m)\u001b[0m\u001b[1;33m:\u001b[0m\u001b[1;33m\u001b[0m\u001b[1;33m\u001b[0m\u001b[0m\n\u001b[0;32m     44\u001b[0m         \u001b[0mfeatures\u001b[0m \u001b[1;33m=\u001b[0m \u001b[0mself\u001b[0m\u001b[1;33m.\u001b[0m\u001b[0mfeatures\u001b[0m\u001b[1;33m.\u001b[0m\u001b[0mgetFeatures\u001b[0m\u001b[1;33m(\u001b[0m\u001b[0mstate\u001b[0m\u001b[1;33m,\u001b[0m \u001b[0maction\u001b[0m\u001b[1;33m)\u001b[0m\u001b[1;33m\u001b[0m\u001b[1;33m\u001b[0m\u001b[0m\n\u001b[1;32m---> 45\u001b[1;33m         \u001b[0mdifference\u001b[0m \u001b[1;33m=\u001b[0m \u001b[0mreward\u001b[0m \u001b[1;33m+\u001b[0m \u001b[0mself\u001b[0m\u001b[1;33m.\u001b[0m\u001b[0mdiscount\u001b[0m \u001b[1;33m*\u001b[0m \u001b[0mself\u001b[0m\u001b[1;33m.\u001b[0m\u001b[0mmaxQValue\u001b[0m\u001b[1;33m(\u001b[0m\u001b[0mnextState\u001b[0m\u001b[1;33m)\u001b[0m \u001b[1;33m-\u001b[0m \u001b[0mself\u001b[0m\u001b[1;33m.\u001b[0m\u001b[0mgetQValue\u001b[0m\u001b[1;33m(\u001b[0m\u001b[0mstate\u001b[0m\u001b[1;33m,\u001b[0m \u001b[0maction\u001b[0m\u001b[1;33m)\u001b[0m\u001b[1;33m\u001b[0m\u001b[1;33m\u001b[0m\u001b[0m\n\u001b[0m\u001b[0;32m     46\u001b[0m         \u001b[1;32mfor\u001b[0m \u001b[0mfeature\u001b[0m \u001b[1;32min\u001b[0m \u001b[0mfeatures\u001b[0m\u001b[1;33m:\u001b[0m\u001b[1;33m\u001b[0m\u001b[1;33m\u001b[0m\u001b[0m\n\u001b[0;32m     47\u001b[0m             \u001b[0mself\u001b[0m\u001b[1;33m.\u001b[0m\u001b[0mweights\u001b[0m\u001b[1;33m[\u001b[0m\u001b[0mfeature\u001b[0m\u001b[1;33m]\u001b[0m \u001b[1;33m+=\u001b[0m \u001b[0mself\u001b[0m\u001b[1;33m.\u001b[0m\u001b[0malpha\u001b[0m \u001b[1;33m*\u001b[0m \u001b[0mdifference\u001b[0m \u001b[1;33m*\u001b[0m \u001b[0mfeatures\u001b[0m\u001b[1;33m[\u001b[0m\u001b[0mfeature\u001b[0m\u001b[1;33m]\u001b[0m\u001b[1;33m\u001b[0m\u001b[1;33m\u001b[0m\u001b[0m\n",
      "\u001b[1;32m<ipython-input-3-eb956de5d108>\u001b[0m in \u001b[0;36mmaxQValue\u001b[1;34m(self, state)\u001b[0m\n\u001b[0;32m     36\u001b[0m \u001b[1;33m\u001b[0m\u001b[0m\n\u001b[0;32m     37\u001b[0m     \u001b[1;32mdef\u001b[0m \u001b[0mmaxQValue\u001b[0m\u001b[1;33m(\u001b[0m\u001b[0mself\u001b[0m\u001b[1;33m,\u001b[0m \u001b[0mstate\u001b[0m\u001b[1;33m)\u001b[0m\u001b[1;33m:\u001b[0m\u001b[1;33m\u001b[0m\u001b[1;33m\u001b[0m\u001b[0m\n\u001b[1;32m---> 38\u001b[1;33m         \u001b[0mqvalues\u001b[0m \u001b[1;33m=\u001b[0m \u001b[1;33m[\u001b[0m\u001b[0mself\u001b[0m\u001b[1;33m.\u001b[0m\u001b[0mgetQValue\u001b[0m\u001b[1;33m(\u001b[0m\u001b[0mstate\u001b[0m\u001b[1;33m,\u001b[0m \u001b[0maction\u001b[0m\u001b[1;33m)\u001b[0m \u001b[1;32mfor\u001b[0m \u001b[0maction\u001b[0m \u001b[1;32min\u001b[0m \u001b[0mstate\u001b[0m\u001b[1;33m.\u001b[0m\u001b[0mgetLegalPacmanActions\u001b[0m\u001b[1;33m(\u001b[0m\u001b[1;33m)\u001b[0m\u001b[1;33m]\u001b[0m\u001b[1;33m\u001b[0m\u001b[1;33m\u001b[0m\u001b[0m\n\u001b[0m\u001b[0;32m     39\u001b[0m         \u001b[1;32mif\u001b[0m \u001b[1;32mnot\u001b[0m \u001b[0mlen\u001b[0m\u001b[1;33m(\u001b[0m\u001b[0mqvalues\u001b[0m\u001b[1;33m)\u001b[0m\u001b[1;33m:\u001b[0m\u001b[1;33m\u001b[0m\u001b[1;33m\u001b[0m\u001b[0m\n\u001b[0;32m     40\u001b[0m             \u001b[1;32mreturn\u001b[0m \u001b[1;36m0\u001b[0m\u001b[1;33m\u001b[0m\u001b[1;33m\u001b[0m\u001b[0m\n",
      "\u001b[1;32m<ipython-input-3-eb956de5d108>\u001b[0m in \u001b[0;36m<listcomp>\u001b[1;34m(.0)\u001b[0m\n\u001b[0;32m     36\u001b[0m \u001b[1;33m\u001b[0m\u001b[0m\n\u001b[0;32m     37\u001b[0m     \u001b[1;32mdef\u001b[0m \u001b[0mmaxQValue\u001b[0m\u001b[1;33m(\u001b[0m\u001b[0mself\u001b[0m\u001b[1;33m,\u001b[0m \u001b[0mstate\u001b[0m\u001b[1;33m)\u001b[0m\u001b[1;33m:\u001b[0m\u001b[1;33m\u001b[0m\u001b[1;33m\u001b[0m\u001b[0m\n\u001b[1;32m---> 38\u001b[1;33m         \u001b[0mqvalues\u001b[0m \u001b[1;33m=\u001b[0m \u001b[1;33m[\u001b[0m\u001b[0mself\u001b[0m\u001b[1;33m.\u001b[0m\u001b[0mgetQValue\u001b[0m\u001b[1;33m(\u001b[0m\u001b[0mstate\u001b[0m\u001b[1;33m,\u001b[0m \u001b[0maction\u001b[0m\u001b[1;33m)\u001b[0m \u001b[1;32mfor\u001b[0m \u001b[0maction\u001b[0m \u001b[1;32min\u001b[0m \u001b[0mstate\u001b[0m\u001b[1;33m.\u001b[0m\u001b[0mgetLegalPacmanActions\u001b[0m\u001b[1;33m(\u001b[0m\u001b[1;33m)\u001b[0m\u001b[1;33m]\u001b[0m\u001b[1;33m\u001b[0m\u001b[1;33m\u001b[0m\u001b[0m\n\u001b[0m\u001b[0;32m     39\u001b[0m         \u001b[1;32mif\u001b[0m \u001b[1;32mnot\u001b[0m \u001b[0mlen\u001b[0m\u001b[1;33m(\u001b[0m\u001b[0mqvalues\u001b[0m\u001b[1;33m)\u001b[0m\u001b[1;33m:\u001b[0m\u001b[1;33m\u001b[0m\u001b[1;33m\u001b[0m\u001b[0m\n\u001b[0;32m     40\u001b[0m             \u001b[1;32mreturn\u001b[0m \u001b[1;36m0\u001b[0m\u001b[1;33m\u001b[0m\u001b[1;33m\u001b[0m\u001b[0m\n",
      "\u001b[1;32m<ipython-input-3-eb956de5d108>\u001b[0m in \u001b[0;36mgetQValue\u001b[1;34m(self, state, action)\u001b[0m\n\u001b[0;32m     30\u001b[0m     \u001b[1;32mdef\u001b[0m \u001b[0mgetQValue\u001b[0m\u001b[1;33m(\u001b[0m\u001b[0mself\u001b[0m\u001b[1;33m,\u001b[0m \u001b[0mstate\u001b[0m\u001b[1;33m,\u001b[0m \u001b[0maction\u001b[0m\u001b[1;33m)\u001b[0m\u001b[1;33m:\u001b[0m\u001b[1;33m\u001b[0m\u001b[1;33m\u001b[0m\u001b[0m\n\u001b[0;32m     31\u001b[0m         \u001b[0mQValue\u001b[0m \u001b[1;33m=\u001b[0m \u001b[1;36m0\u001b[0m\u001b[1;33m\u001b[0m\u001b[1;33m\u001b[0m\u001b[0m\n\u001b[1;32m---> 32\u001b[1;33m         \u001b[0mfeatures\u001b[0m \u001b[1;33m=\u001b[0m \u001b[0mself\u001b[0m\u001b[1;33m.\u001b[0m\u001b[0mfeatures\u001b[0m\u001b[1;33m.\u001b[0m\u001b[0mgetFeatures\u001b[0m\u001b[1;33m(\u001b[0m\u001b[0mstate\u001b[0m\u001b[1;33m,\u001b[0m \u001b[0maction\u001b[0m\u001b[1;33m)\u001b[0m\u001b[1;33m\u001b[0m\u001b[1;33m\u001b[0m\u001b[0m\n\u001b[0m\u001b[0;32m     33\u001b[0m         \u001b[1;32mfor\u001b[0m \u001b[0mfeature\u001b[0m \u001b[1;32min\u001b[0m \u001b[0mfeatures\u001b[0m\u001b[1;33m:\u001b[0m\u001b[1;33m\u001b[0m\u001b[1;33m\u001b[0m\u001b[0m\n\u001b[0;32m     34\u001b[0m             \u001b[0mQValue\u001b[0m \u001b[1;33m+=\u001b[0m \u001b[0mfeatures\u001b[0m\u001b[1;33m[\u001b[0m\u001b[0mfeature\u001b[0m\u001b[1;33m]\u001b[0m \u001b[1;33m*\u001b[0m \u001b[0mself\u001b[0m\u001b[1;33m.\u001b[0m\u001b[0mweights\u001b[0m\u001b[1;33m[\u001b[0m\u001b[0mfeature\u001b[0m\u001b[1;33m]\u001b[0m\u001b[1;33m\u001b[0m\u001b[1;33m\u001b[0m\u001b[0m\n",
      "\u001b[1;32m<ipython-input-2-69bcc8e36bdf>\u001b[0m in \u001b[0;36mgetFeatures\u001b[1;34m(self, state, action)\u001b[0m\n\u001b[0;32m     96\u001b[0m         \u001b[1;31m############### Distance to closest scared ghost ################\u001b[0m\u001b[1;33m\u001b[0m\u001b[1;33m\u001b[0m\u001b[1;33m\u001b[0m\u001b[0m\n\u001b[0;32m     97\u001b[0m         \u001b[1;32mif\u001b[0m\u001b[1;33m(\u001b[0m\u001b[0mlen\u001b[0m\u001b[1;33m(\u001b[0m\u001b[0mscaredGhosts\u001b[0m\u001b[1;33m)\u001b[0m \u001b[1;33m>\u001b[0m \u001b[1;36m0\u001b[0m\u001b[1;33m)\u001b[0m\u001b[1;33m:\u001b[0m\u001b[1;33m\u001b[0m\u001b[1;33m\u001b[0m\u001b[0m\n\u001b[1;32m---> 98\u001b[1;33m             \u001b[0mdistScaredGhosts\u001b[0m \u001b[1;33m=\u001b[0m \u001b[0mself\u001b[0m\u001b[1;33m.\u001b[0m\u001b[0mnearstElement\u001b[0m\u001b[1;33m(\u001b[0m\u001b[0mstate\u001b[0m\u001b[1;33m,\u001b[0m \u001b[0mscaredGhosts\u001b[0m\u001b[1;33m,\u001b[0m \u001b[0mpacman\u001b[0m\u001b[1;33m)\u001b[0m\u001b[1;33m\u001b[0m\u001b[1;33m\u001b[0m\u001b[0m\n\u001b[0m\u001b[0;32m     99\u001b[0m             \u001b[1;32mif\u001b[0m \u001b[1;33m(\u001b[0m\u001b[0mdistScaredGhosts\u001b[0m \u001b[1;33m>\u001b[0m \u001b[1;36m0\u001b[0m\u001b[1;33m)\u001b[0m\u001b[1;33m:\u001b[0m\u001b[1;33m\u001b[0m\u001b[1;33m\u001b[0m\u001b[0m\n\u001b[0;32m    100\u001b[0m                 \u001b[0mfeatures\u001b[0m\u001b[1;33m[\u001b[0m\u001b[1;34m\"closest-scared\"\u001b[0m\u001b[1;33m]\u001b[0m \u001b[1;33m=\u001b[0m \u001b[0mfloat\u001b[0m\u001b[1;33m(\u001b[0m\u001b[0mdistScaredGhosts\u001b[0m\u001b[1;33m)\u001b[0m\u001b[1;33m/\u001b[0m\u001b[1;33m(\u001b[0m\u001b[0mwalls\u001b[0m\u001b[1;33m.\u001b[0m\u001b[0mwidth\u001b[0m \u001b[1;33m*\u001b[0m \u001b[0mwalls\u001b[0m\u001b[1;33m.\u001b[0m\u001b[0mheight\u001b[0m\u001b[1;33m)\u001b[0m\u001b[1;33m\u001b[0m\u001b[1;33m\u001b[0m\u001b[0m\n",
      "\u001b[1;32m<ipython-input-2-69bcc8e36bdf>\u001b[0m in \u001b[0;36mnearstElement\u001b[1;34m(self, state, posElement, pacmanPos)\u001b[0m\n\u001b[0;32m     63\u001b[0m         \u001b[0mminDist\u001b[0m \u001b[1;33m=\u001b[0m \u001b[0mfloat\u001b[0m\u001b[1;33m(\u001b[0m\u001b[1;34m'inf'\u001b[0m\u001b[1;33m)\u001b[0m\u001b[1;33m\u001b[0m\u001b[1;33m\u001b[0m\u001b[0m\n\u001b[0;32m     64\u001b[0m         \u001b[1;32mfor\u001b[0m \u001b[0mpos\u001b[0m \u001b[1;32min\u001b[0m \u001b[0mposElement\u001b[0m\u001b[1;33m:\u001b[0m\u001b[1;33m\u001b[0m\u001b[1;33m\u001b[0m\u001b[0m\n\u001b[1;32m---> 65\u001b[1;33m             \u001b[0mdist\u001b[0m \u001b[1;33m=\u001b[0m \u001b[0mself\u001b[0m\u001b[1;33m.\u001b[0m\u001b[0mbfsDistance\u001b[0m\u001b[1;33m(\u001b[0m\u001b[0mstate\u001b[0m\u001b[1;33m,\u001b[0m \u001b[0mpacmanPos\u001b[0m\u001b[1;33m,\u001b[0m \u001b[0mpos\u001b[0m\u001b[1;33m)\u001b[0m\u001b[1;33m\u001b[0m\u001b[1;33m\u001b[0m\u001b[0m\n\u001b[0m\u001b[0;32m     66\u001b[0m             \u001b[1;32mif\u001b[0m\u001b[1;33m(\u001b[0m\u001b[0mdist\u001b[0m \u001b[1;33m<\u001b[0m \u001b[0mminDist\u001b[0m\u001b[1;33m)\u001b[0m\u001b[1;33m:\u001b[0m\u001b[1;33m\u001b[0m\u001b[1;33m\u001b[0m\u001b[0m\n\u001b[0;32m     67\u001b[0m                 \u001b[0mminDist\u001b[0m \u001b[1;33m=\u001b[0m \u001b[0mdist\u001b[0m\u001b[1;33m\u001b[0m\u001b[1;33m\u001b[0m\u001b[0m\n",
      "\u001b[1;32m<ipython-input-2-69bcc8e36bdf>\u001b[0m in \u001b[0;36mbfsDistance\u001b[1;34m(self, state, posIni, endPos, food)\u001b[0m\n\u001b[0;32m     32\u001b[0m                     \u001b[1;32mreturn\u001b[0m \u001b[0mstepsUntilNow\u001b[0m\u001b[1;33m\u001b[0m\u001b[1;33m\u001b[0m\u001b[0m\n\u001b[0;32m     33\u001b[0m             \u001b[1;32melse\u001b[0m\u001b[1;33m:\u001b[0m\u001b[1;33m\u001b[0m\u001b[1;33m\u001b[0m\u001b[0m\n\u001b[1;32m---> 34\u001b[1;33m                 \u001b[1;32mif\u001b[0m\u001b[1;33m(\u001b[0m\u001b[0mpos\u001b[0m\u001b[1;33m[\u001b[0m\u001b[1;36m0\u001b[0m\u001b[1;33m]\u001b[0m \u001b[1;33m==\u001b[0m \u001b[0mendPos\u001b[0m\u001b[1;33m[\u001b[0m\u001b[1;36m0\u001b[0m\u001b[1;33m]\u001b[0m \u001b[1;32mand\u001b[0m \u001b[0mpos\u001b[0m\u001b[1;33m[\u001b[0m\u001b[1;36m1\u001b[0m\u001b[1;33m]\u001b[0m \u001b[1;33m==\u001b[0m \u001b[0mendPos\u001b[0m\u001b[1;33m[\u001b[0m\u001b[1;36m1\u001b[0m\u001b[1;33m]\u001b[0m\u001b[1;33m)\u001b[0m\u001b[1;33m:\u001b[0m\u001b[1;33m\u001b[0m\u001b[1;33m\u001b[0m\u001b[0m\n\u001b[0m\u001b[0;32m     35\u001b[0m                     \u001b[1;32mreturn\u001b[0m \u001b[0mstepsUntilNow\u001b[0m\u001b[1;33m\u001b[0m\u001b[1;33m\u001b[0m\u001b[0m\n\u001b[0;32m     36\u001b[0m \u001b[1;33m\u001b[0m\u001b[0m\n",
      "\u001b[1;31mKeyboardInterrupt\u001b[0m: "
     ]
    }
   ],
   "source": [
    "argumentos ={}\n",
    "pacman = QAgent(alpha=0.1, epsilon=0.4, gamma=0.6, numTraining = 200)\n",
    "ghostType = loadAgent('RandomGhost', True)\n",
    "textDisplay.SLEEP_TIME = 0\n",
    "argumentos['layout'] = layout.getLayout( 'smallClassic' )\n",
    "argumentos['pacman'] = pacman\n",
    "argumentos['ghosts'] = [ghostType( i+1 ) for i in range( 2 )]\n",
    "argumentos['display'] = graphicsDisplay.PacmanGraphics(1, frameTime = 0)\n",
    "argumentos['numGames'] = 200\n",
    "argumentos['numTraining'] = 200\n",
    "argumentos['record'] = False\n",
    "argumentos['catchExceptions'] = False\n",
    "    \n",
    "res = runGames(**argumentos)"
   ]
  },
  {
   "cell_type": "code",
   "execution_count": 8,
   "id": "040465c9-c7dd-4140-9ca1-b1a86b755b99",
   "metadata": {},
   "outputs": [
    {
     "data": {
      "text/plain": [
       "[1740.0, 1770.0, 1731.0, 1773.0, 29.0, 1758.0, 1763.0, 1753.0, 1766.0, 1762.0]"
      ]
     },
     "execution_count": 8,
     "metadata": {},
     "output_type": "execute_result"
    }
   ],
   "source": [
    "[res[i].state.getScore() for i in range(len(res))]"
   ]
  },
  {
   "cell_type": "code",
   "execution_count": null,
   "id": "27bed810-1094-44cb-97e6-690210733bc9",
   "metadata": {},
   "outputs": [],
   "source": []
  }
 ],
 "metadata": {
  "kernelspec": {
   "display_name": "Python 3",
   "language": "python",
   "name": "python3"
  },
  "language_info": {
   "codemirror_mode": {
    "name": "ipython",
    "version": 3
   },
   "file_extension": ".py",
   "mimetype": "text/x-python",
   "name": "python",
   "nbconvert_exporter": "python",
   "pygments_lexer": "ipython3",
   "version": "3.8.8"
  }
 },
 "nbformat": 4,
 "nbformat_minor": 5
}
