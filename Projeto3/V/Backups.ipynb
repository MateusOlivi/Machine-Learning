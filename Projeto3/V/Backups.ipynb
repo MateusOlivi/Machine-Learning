{
 "cells": [
  {
   "cell_type": "code",
   "execution_count": null,
   "id": "e71c0cce-07d3-42dc-932b-60e413c7e8dc",
   "metadata": {},
   "outputs": [],
   "source": [
    "    def scaredGhostBonus(self, state, peso, distancias):\n",
    "        n_ghosts = self.countScaredGhosts(state)\n",
    "        scared_timer = []\n",
    "\n",
    "        for i in range(n_ghosts):\n",
    "            scared_timer.append(state.getGhostStates()[i].scaredTimer)\n",
    "        bonus = 0\n",
    "        for i in range(n_ghosts):\n",
    "            bonus -= peso*scared_timer[i]*distancias[i]\n",
    "        \n",
    "        return bonus\n",
    "    \n",
    "    # Para funcionar precisa de um bonus alto de consumir capsula\n",
    "    \n",
    "    def bonusByGhostDistance(self, peso, distancias):\n",
    "        bonus = 0\n",
    "        for distancia in distancias:\n",
    "            bonus += (peso*distancia)\n",
    "        return bonus\n",
    "\n",
    "    def ghostDistances(self, ghostPositions, pacmanPosition):\n",
    "        distancias = []\n",
    "        \n",
    "        for i in range(len(ghostPositions)):\n",
    "            dist = abs(pacmanPosition[0] - ghostPositions[i][0]) + abs(pacmanPosition[1] - ghostPositions[i][1])\n",
    "            distancias.append(dist)\n",
    "        \n",
    "        return distancias\n",
    "    \n",
    "    def capsuleDistanceBonus(self, peso, capsulePositions, pacmanPosition):\n",
    "        bonus = 0\n",
    "        for capsule in capsulePositions:\n",
    "            distancia = abs(pacmanPosition[0] - capsule[0]) + abs(pacmanPosition[1] - capsule[1])\n",
    "            bonus -= peso*distancia\n",
    "        return bonu"
   ]
  },
  {
   "cell_type": "code",
   "execution_count": null,
   "id": "85f3afc0-5f21-49ed-8d30-3a3a10514844",
   "metadata": {},
   "outputs": [],
   "source": [
    "# varbound= np.array([[0,10], [0,10], [0,1000], [0,10], [0,50], [0,10], [0,1000]])\n",
    "# from geneticalgorithm import geneticalgorithm as ga\n",
    "# algorithm_param = {'max_num_iteration': 10,\\\n",
    "#                    'population_size':2,\\\n",
    "#                    'mutation_probability':0.1,\\\n",
    "#                    'elit_ratio': 0.01,\\\n",
    "#                    'crossover_probability': 0.5,\\\n",
    "#                    'parents_portion': 0.3,\\\n",
    "#                    'crossover_type':'uniform',\\\n",
    "#                    'max_iteration_without_improv':None}\n",
    "\n",
    "# model=ga(function=fitfunction,dimension=7,variable_type='int',variable_boundaries=varbound, function_timeout = 130)\n",
    "\n",
    "# model.run()"
   ]
  }
 ],
 "metadata": {
  "kernelspec": {
   "display_name": "Python 2",
   "language": "python",
   "name": "python2"
  },
  "language_info": {
   "codemirror_mode": {
    "name": "ipython",
    "version": 2
   },
   "file_extension": ".py",
   "mimetype": "text/x-python",
   "name": "python",
   "nbconvert_exporter": "python",
   "pygments_lexer": "ipython2",
   "version": "2.7.18"
  }
 },
 "nbformat": 4,
 "nbformat_minor": 5
}
