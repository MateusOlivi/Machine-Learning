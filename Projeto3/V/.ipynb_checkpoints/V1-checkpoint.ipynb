{
 "cells": [
  {
   "cell_type": "code",
   "execution_count": 1,
   "metadata": {},
   "outputs": [],
   "source": [
    "import numpy as np\n",
    "import sys\n",
    "import matplotlib.pyplot"
   ]
  },
  {
   "cell_type": "code",
   "execution_count": 2,
   "metadata": {},
   "outputs": [
    {
     "data": {
      "text/plain": [
       "sys.version_info(major=2, minor=7, micro=18, releaselevel='final', serial=0)"
      ]
     },
     "execution_count": 2,
     "metadata": {},
     "output_type": "execute_result"
    }
   ],
   "source": [
    "sys.version_info\n"
   ]
  },
  {
   "cell_type": "code",
   "execution_count": null,
   "metadata": {},
   "outputs": [],
   "source": []
  },
  {
   "cell_type": "code",
   "execution_count": 3,
   "metadata": {},
   "outputs": [
    {
     "name": "stdout",
     "output_type": "stream",
     "text": [
      "print zuado?\n"
     ]
    }
   ],
   "source": [
    "print \"print zuado?\""
   ]
  },
  {
   "cell_type": "code",
   "execution_count": 4,
   "metadata": {},
   "outputs": [],
   "source": [
    "from pacman import runGames,loadAgent\n",
    "from pacman import Directions\n",
    "from util import Queue\n",
    "import textDisplay\n",
    "import game\n",
    "import layout\n",
    "import random\n",
    "import graphicsDisplay"
   ]
  },
  {
   "cell_type": "markdown",
   "metadata": {},
   "source": [
    "qual das 5 direcoes ele toma\n",
    "\n",
    "- absoluto \n",
    "- POV pacman\n",
    "\n",
    "coisas uteis\n",
    "\n",
    "- posicao pacman\n",
    "- quais acoes sao validas\n",
    "- a posiçao dos fantasma ( distancia aos fantasmas, distancia manhatan)\n",
    "- a posiçao das comidas ( matriz pode ser grande)\n",
    "- a posicao das capsulas\n",
    "- os fantasmas tao assustados ou n\n",
    "\n",
    "tomar decisao\n",
    "\n",
    "- 1 equacao pra cada direcao\n",
    "- emula que vc fez 1 acao legao\n",
    "    - ve a pontucao = score - p1 * distancia (f1) - p2 * distancia (f2)\n",
    "- pontua = score -(-1 se assustado) p1 * distancia (f1) - (-1 se assustado) p2 * distancia (f2)\n",
    "\n"
   ]
  },
  {
   "cell_type": "code",
   "execution_count": 8,
   "metadata": {},
   "outputs": [],
   "source": [
    "class MyOwnAgent(game.Agent):\n",
    "    \"An agent that does whatever he feels like doing\"\n",
    "    \n",
    "    def countScaredGhosts(self, state):\n",
    "        total=0\n",
    "        for ghost in state.getGhostStates():\n",
    "            if(ghost.scaredTimer !=0):\n",
    "                total+=1\n",
    "        return total\n",
    "    \n",
    "\n",
    "    def getAction(self, state):\n",
    "        # Generate candidate actions\n",
    "        legal = state.getLegalPacmanActions()\n",
    "        currentPos=state.getPacmanPosition()\n",
    "        if Directions.STOP in legal: legal.remove(Directions.STOP)\n",
    "    \n",
    "        numCapsulesCurrentState=len(state.getCapsules())\n",
    "        currentScaredGhosts=self.countScaredGhosts(state)\n",
    "        successors = [(state.generateSuccessor(0, action), action) for action in legal]\n",
    "        scored = [(self.scoreEvaluation(state,numCapsulesCurrentState,currentScaredGhosts,currentPos), action) for state, action in successors]\n",
    "        bestScore = max(scored)[0]\n",
    "        bestActions = [pair[1] for pair in scored if pair[0] == bestScore]\n",
    "#         print(bestActions)\n",
    "        \n",
    "        return random.choice(bestActions)\n",
    "    \n",
    "    # distanca que calcula o numero de movimentos ate chegar no fantasma\n",
    "    \n",
    "    # score - so leva em conta a comida nos vizinhos do pacman\n",
    "    # a posicao fantasma\n",
    "    # a posicao das capsulas \n",
    "    \n",
    "    # x aumenta pra direita\n",
    "    # y aumenta pra cima\n",
    "    \n",
    "    # 0y       xy\n",
    "    #\n",
    "    # 00       x0\n",
    "    \n",
    "    def getLegalSteps(self, pos, walls, visited):\n",
    "        \n",
    "        coluna=pos[0]\n",
    "        linha=pos[1]\n",
    "        \n",
    "        lista=[]\n",
    "#         print(\"getLegalSteps\")\n",
    "#         print(coluna,linha)\n",
    "        if(coluna+1 <walls.width):\n",
    "            if(walls[coluna+1][linha]==False and visited[coluna+1][linha]==0):\n",
    "                lista.append((coluna+1,linha))\n",
    "        if(coluna-1 >= 0):\n",
    "            if(walls[coluna-1][linha]==False and visited[coluna-1][linha]==0):\n",
    "                lista.append((coluna-1,linha))\n",
    "        if(linha+1 <walls.height ):\n",
    "            if(walls[coluna][linha+1]==False and visited[coluna][linha+1]==0):\n",
    "                lista.append((coluna,linha+1))\n",
    "        if(linha-1 >= 0):\n",
    "            if(walls[coluna][linha-1]==False and visited[coluna][linha-1]==0):\n",
    "                lista.append((coluna,linha-1))\n",
    "        return lista\n",
    "    \n",
    "    def findNearestFood(self, state, posIni, posForbidden):\n",
    "        walls= state.getWalls()\n",
    "        foods= state.getFood()\n",
    "        queue = Queue()\n",
    "        \n",
    "        \n",
    "        visited=np.zeros((walls.width,walls.height))\n",
    "        visited[posForbidden[0]][posForbidden[1]]=1\n",
    "        \n",
    "#         print(\"debug\")\n",
    "#         print(walls[19][10])\n",
    "#         print(visited[19][10])\n",
    "#         print(foods[19][10])\n",
    "#         print(\"debug\")\n",
    "\n",
    "#         print(\"walls\")\n",
    "#         print(walls.width,walls.height)\n",
    "#         print(foods.width,foods.height)\n",
    "        \n",
    "        matHeight=foods.height\n",
    "        matWidth=foods.width\n",
    "        \n",
    "        queue.push((posIni, 1))\n",
    "#         print(\"pos ini\", posIni)\n",
    "        while(not queue.isEmpty()):\n",
    "            current=queue.pop()\n",
    "            pos=current[0]\n",
    "            stepsUntilNow=current[1]\n",
    "            \n",
    "            \n",
    "            #   foods[1][10]\n",
    "            if(foods[pos[0]][pos[1]]==True):\n",
    "#                 print(\"retorno\",stepsUntilNow)\n",
    "                return stepsUntilNow\n",
    "            \n",
    "            visited[pos[0]][pos[1]]=1\n",
    "            possibles=self.getLegalSteps(pos,walls, visited) # pos = (x,y), walls = matriz true/falso, visitados  [(2,2),(2,1),(2,3)]\n",
    "            for possibleMove in possibles:\n",
    "                queue.push( (possibleMove, stepsUntilNow+1))\n",
    "        return -1\n",
    "    \n",
    "    def scoreEvaluation(self, state,numCapsulesCurrentState,currentScaredGhosts, currentPacmanPos):\n",
    "        ghostPositions = state.getGhostPositions() # [(x,y),(x,y)]\n",
    "        pacmanPosition = state.getPacmanPosition()# (x,y)\n",
    "        capsulePositions = state.getCapsules() # [(x,y),(x,y)]\n",
    "        score = state.getScore() # float\n",
    "        dist1= abs(pacmanPosition[0] - ghostPositions[0][0]) + abs(pacmanPosition[1] - ghostPositions[0][1])\n",
    "        dist2= abs(pacmanPosition[0] - ghostPositions[1][0]) + abs(pacmanPosition[1] - ghostPositions[1][1])\n",
    "        \n",
    "        fear1=(state.getGhostStates()[0].scaredTimer)\n",
    "        fear2=(state.getGhostStates()[1].scaredTimer)\n",
    "        \n",
    "        scaredGhostsInThisState=self.countScaredGhosts(state)\n",
    "        \n",
    "        difScaredGhosts= currentScaredGhosts - scaredGhostsInThisState\n",
    "        \n",
    "        nearestFoodDistance= self.findNearestFood(state, pacmanPosition,currentPacmanPos)\n",
    "        \n",
    "        \n",
    "#         print(\"res\",nearestFoodDistance)\n",
    "        \n",
    "        p1= 3\n",
    "        p2= 3\n",
    "        p3= 30\n",
    "        p4= 1\n",
    "        p5= 20\n",
    "        p6= 100\n",
    "        pfear= 1.5\n",
    "        pEatGhost= 1000\n",
    "        pNearestFood= 3\n",
    "        pNearestFoodCeiling=30\n",
    "        \n",
    "        nearestFoodBonus= pNearestFood * (pNearestFoodCeiling-nearestFoodDistance)\n",
    "        \n",
    "        bonusEatGhost=0\n",
    "        if(difScaredGhosts > 0):\n",
    "            \n",
    "            bonusEatGhost= pEatGhost * difScaredGhosts\n",
    "        \n",
    "        bonusIfFearGhost= (pfear * fear1 * (p3-dist1)) + (pfear * fear2 * (p3-dist2))\n",
    "        \n",
    "        \n",
    "        bonusGivenByCapsuleComsumption = (numCapsulesCurrentState - len(capsulePositions)) * p6\n",
    "        \n",
    "        bonusByGhostDistance =(p1*(p3-dist1)) - (p2*(p3-dist2))\n",
    "        \n",
    "        totalCapsule=0\n",
    "        for capsule in capsulePositions:\n",
    "            distCapsule= abs(pacmanPosition[0] - capsule[0]) + abs(pacmanPosition[1] - capsule[1])\n",
    "            totalCapsule+= p4*(p5-distCapsule)\n",
    "        \n",
    "        # 200 -  p1 * (p3 - 4)  - p2 * 7\n",
    "        \n",
    "        formula = score - bonusByGhostDistance + totalCapsule + bonusGivenByCapsuleComsumption + bonusIfFearGhost + bonusEatGhost + nearestFoodBonus\n",
    "        return formula"
   ]
  },
  {
   "cell_type": "code",
   "execution_count": 44,
   "metadata": {},
   "outputs": [],
   "source": [
    "props={}\n",
    "pacman = MyOwnAgent()\n",
    "ghostType = loadAgent('RandomGhost', True)\n",
    "textDisplay.SLEEP_TIME = 0\n",
    "props['layout'] = layout.getLayout( 'originalClassic' )\n",
    "props['pacman'] = pacman\n",
    "props['ghosts'] = [ghostType( i+1 ) for i in range( 2 )]\n",
    "# props['display'] = textDisplay.PacmanGraphics()\n",
    "props['display'] = textDisplay.NullGraphics()\n",
    "# props['display'] = graphicsDisplay.PacmanGraphics(1, frameTime = 0)\n",
    "props['numGames'] = 5\n",
    "props['record'] = False\n",
    "props['catchExceptions'] = False\n",
    "props['timeout'] = 30"
   ]
  },
  {
   "cell_type": "code",
   "execution_count": 45,
   "metadata": {
    "scrolled": true
   },
   "outputs": [
    {
     "name": "stdout",
     "output_type": "stream",
     "text": [
      "Pacman died! Score: -130\n",
      "Pacman died! Score: 589\n",
      "Pacman died! Score: 1284\n",
      "Pacman died! Score: 1452\n",
      "Pacman died! Score: 123\n",
      "Average Score: 663.6\n",
      "Scores:        -130.0, 589.0, 1284.0, 1452.0, 123.0\n",
      "Win Rate:      0/5 (0.00)\n",
      "Record:        Loss, Loss, Loss, Loss, Loss\n"
     ]
    }
   ],
   "source": [
    "res=runGames(**props)"
   ]
  },
  {
   "cell_type": "code",
   "execution_count": null,
   "metadata": {},
   "outputs": [],
   "source": [
    "runGames(**props)"
   ]
  },
  {
   "cell_type": "code",
   "execution_count": 39,
   "metadata": {},
   "outputs": [
    {
     "data": {
      "text/plain": [
       "2018.0"
      ]
     },
     "execution_count": 39,
     "metadata": {},
     "output_type": "execute_result"
    }
   ],
   "source": [
    "res[0].state.getScore()"
   ]
  },
  {
   "cell_type": "code",
   "execution_count": 35,
   "metadata": {},
   "outputs": [
    {
     "name": "stdout",
     "output_type": "stream",
     "text": [
      "\n"
     ]
    }
   ],
   "source": [
    "print(res[0].agentOutput[0].getvalue())"
   ]
  },
  {
   "cell_type": "code",
   "execution_count": 33,
   "metadata": {},
   "outputs": [
    {
     "data": {
      "text/plain": [
       "['__class__',\n",
       " '__delattr__',\n",
       " '__doc__',\n",
       " '__format__',\n",
       " '__getattribute__',\n",
       " '__hash__',\n",
       " '__init__',\n",
       " '__iter__',\n",
       " '__new__',\n",
       " '__reduce__',\n",
       " '__reduce_ex__',\n",
       " '__repr__',\n",
       " '__setattr__',\n",
       " '__sizeof__',\n",
       " '__str__',\n",
       " '__subclasshook__',\n",
       " 'close',\n",
       " 'closed',\n",
       " 'flush',\n",
       " 'getvalue',\n",
       " 'isatty',\n",
       " 'next',\n",
       " 'read',\n",
       " 'readline',\n",
       " 'readlines',\n",
       " 'reset',\n",
       " 'seek',\n",
       " 'softspace',\n",
       " 'tell',\n",
       " 'truncate',\n",
       " 'write',\n",
       " 'writelines']"
      ]
     },
     "execution_count": 33,
     "metadata": {},
     "output_type": "execute_result"
    }
   ],
   "source": [
    "dir(res[0].agentOutput[0])"
   ]
  },
  {
   "cell_type": "code",
   "execution_count": null,
   "metadata": {},
   "outputs": [],
   "source": []
  }
 ],
 "metadata": {
  "kernelspec": {
   "display_name": "Python 2",
   "language": "python",
   "name": "python2"
  },
  "language_info": {
   "codemirror_mode": {
    "name": "ipython",
    "version": 2
   },
   "file_extension": ".py",
   "mimetype": "text/x-python",
   "name": "python",
   "nbconvert_exporter": "python",
   "pygments_lexer": "ipython2",
   "version": "2.7.18"
  }
 },
 "nbformat": 4,
 "nbformat_minor": 2
}
