{
 "cells": [
  {
   "cell_type": "code",
   "execution_count": 2,
   "id": "0326f0be",
   "metadata": {},
   "outputs": [],
   "source": [
    "from pacman import runGames,loadAgent\n",
    "from pacman import Directions\n",
    "from util import Queue\n",
    "import textDisplay\n",
    "import game\n",
    "import layout\n",
    "import random\n",
    "import graphicsDisplay\n",
    "\n",
    "import numpy as np"
   ]
  },
  {
   "cell_type": "code",
   "execution_count": 3,
   "id": "97b435bc",
   "metadata": {},
   "outputs": [],
   "source": [
    "class SmartAgent(game.Agent):\n",
    "    \"An agent that does whatever he feels like doing\"  \n",
    "    \n",
    "    def __init__(self, pesos):\n",
    "        self.pesos = pesos\n",
    "        \n",
    "    def getAction(self, state):\n",
    "        legal = state.getLegalPacmanActions()\n",
    "        currentPos=state.getPacmanPosition()\n",
    "        if Directions.STOP in legal: legal.remove(Directions.STOP)\n",
    "    \n",
    "        numCapsulesCurrentState=len(state.getCapsules())\n",
    "        currentScaredGhosts=self.countScaredGhosts(state)\n",
    "        currentFoodMatrix = state.getFood()\n",
    "        \n",
    "        successors = [(state.generateSuccessor(0, action), action) for action in legal]\n",
    "        scored = [(self.scoreEvaluation(state,numCapsulesCurrentState,currentScaredGhosts,currentPos,currentFoodMatrix), action) for state, action in successors]\n",
    "        bestScore = max(scored)[0]\n",
    "        bestActions = [pair[1] for pair in scored if pair[0] == bestScore]\n",
    "        \n",
    "        return random.choice(bestActions)\n",
    "        \n",
    "    def getLegalSteps(self, pos, walls, visited):\n",
    "        \n",
    "        coluna=pos[0]\n",
    "        linha=pos[1]\n",
    "        \n",
    "        lista=[]\n",
    "\n",
    "        if(coluna+1 <walls.width):\n",
    "            if(walls[coluna+1][linha]==False and visited[coluna+1][linha]==0):\n",
    "                lista.append((coluna+1,linha))\n",
    "        if(coluna-1 >= 0):\n",
    "            if(walls[coluna-1][linha]==False and visited[coluna-1][linha]==0):\n",
    "                lista.append((coluna-1,linha))\n",
    "        if(linha+1 <walls.height ):\n",
    "            if(walls[coluna][linha+1]==False and visited[coluna][linha+1]==0):\n",
    "                lista.append((coluna,linha+1))\n",
    "        if(linha-1 >= 0):\n",
    "            if(walls[coluna][linha-1]==False and visited[coluna][linha-1]==0):\n",
    "                lista.append((coluna,linha-1))\n",
    "        return lista\n",
    "    \n",
    "    def findNearestFood(self, state, posIni, posForbidden):\n",
    "        walls= state.getWalls()\n",
    "        foods= state.getFood()\n",
    "        queue = Queue()\n",
    "        \n",
    "        \n",
    "        visited=np.zeros((walls.width,walls.height))\n",
    "        visited[posForbidden[0]][posForbidden[1]]=1\n",
    "        visited[posIni[0]][posIni[1]]=1\n",
    "                \n",
    "        matHeight=foods.height\n",
    "        matWidth=foods.width\n",
    "        \n",
    "        queue.push((posIni, 1))\n",
    "        while(not queue.isEmpty()):\n",
    "            current=queue.pop()\n",
    "            pos=current[0]\n",
    "            stepsUntilNow=current[1]\n",
    "            \n",
    "            if(foods[pos[0]][pos[1]]==True):\n",
    "                return stepsUntilNow\n",
    "            \n",
    "            visited[pos[0]][pos[1]]=1\n",
    "            possibles=self.getLegalSteps(pos,walls, visited) # pos = (x,y), walls = matriz true/falso, visitados  [(2,2),(2,1),(2,3)]\n",
    "            for possibleMove in possibles:\n",
    "                queue.push( (possibleMove, stepsUntilNow+1))\n",
    "        return -1\n",
    "    \n",
    "    def bfsDistance(self, state, posIni, posForbidden, endPos):\n",
    "        walls= state.getWalls()\n",
    "        queue = Queue()\n",
    "        \n",
    "        \n",
    "        visited=np.zeros((walls.width,walls.height))\n",
    "        visited[posForbidden[0]][posForbidden[1]] = 1\n",
    "        visited[posIni[0]][posIni[1]]=1\n",
    "                \n",
    "        queue.push((posIni, 1))\n",
    "        while(not queue.isEmpty()):\n",
    "            current=queue.pop()\n",
    "            pos=current[0]\n",
    "            stepsUntilNow=current[1]\n",
    "            \n",
    "            if(pos[0] == endPos[0] and pos[1] == endPos[1]):\n",
    "                return stepsUntilNow\n",
    "            \n",
    "            visited[pos[0]][pos[1]]=1\n",
    "            possibles = self.getLegalSteps(pos,walls, visited) # pos = (x,y), walls = matriz true/falso, visitados  [(2,2),(2,1),(2,3)]\n",
    "            for possibleMove in possibles:\n",
    "                queue.push( (possibleMove, stepsUntilNow+1))\n",
    "        return -1\n",
    "    \n",
    "    def ghostDistances(self, ghostPositions, pacmanPosition, state, currentPacmanPos):\n",
    "        distancias = []\n",
    "        \n",
    "        for i in range(len(ghostPositions)):\n",
    "            dist = self.bfsDistance(state, pacmanPosition, currentPacmanPos, ghostPositions[i])\n",
    "            distancias.append(dist)\n",
    "        \n",
    "        return distancias\n",
    "    \n",
    "    def bonusByGhostDistance(self, peso, distancias, state):\n",
    "        n_ghosts = len(distancias)\n",
    "        scared_timer = []\n",
    "\n",
    "        for i in range(n_ghosts):\n",
    "            scared_timer.append(state.getGhostStates()[i].scaredTimer)\n",
    "            \n",
    "        bonus = 0\n",
    "        for i in range(n_ghosts):\n",
    "            if(scared_timer[i] == 0):\n",
    "                bonus += peso*distancias[i]\n",
    "        return bonus\n",
    "    \n",
    "    def capsuleDistanceBonus(self, peso, capsulePositions, pacmanPosition, state, currentPacmanPos):\n",
    "        bonus = 0\n",
    "        for capsule in capsulePositions:\n",
    "            distancia = self.bfsDistance(state, pacmanPosition, currentPacmanPos, capsule)\n",
    "            bonus -= peso*distancia\n",
    "        return bonus\n",
    "    \n",
    "    def capsuleComsumptionBonus(self, peso, numCapsulesCurrentState, capsulePositions):\n",
    "        num_capsulas = numCapsulesCurrentState\n",
    "        num_capsulas_estado_seguinte = len(capsulePositions)\n",
    "        \n",
    "        bonus = (num_capsulas - num_capsulas_estado_seguinte) * peso\n",
    "        \n",
    "        return bonus\n",
    "    \n",
    "    def countScaredGhosts(self, state):\n",
    "        total=0\n",
    "        for ghost in state.getGhostStates():\n",
    "            if(ghost.scaredTimer !=0):\n",
    "                total+=1\n",
    "        return total\n",
    "    \n",
    "    def scaredGhostBonus(self, state, peso, distancias):\n",
    "        n_ghosts = self.countScaredGhosts(state)\n",
    "        scared_timer = []\n",
    "\n",
    "        for i in range(n_ghosts):\n",
    "            scared_timer.append(state.getGhostStates()[i].scaredTimer)\n",
    "            \n",
    "        bonus = 0\n",
    "        for i in range(n_ghosts):\n",
    "            if(scared_timer[i] != 0):\n",
    "                bonus -= peso*distancias[i]\n",
    "        return bonus\n",
    "    \n",
    "    def eatScaredGhosts(self, state, peso, currentScaredGhosts):\n",
    "        scaredGhostsInThisState = self.countScaredGhosts(state)\n",
    "        difScaredGhosts= currentScaredGhosts - scaredGhostsInThisState\n",
    "        \n",
    "        bonus=0\n",
    "        if(difScaredGhosts > 0):\n",
    "            bonus= peso * difScaredGhosts\n",
    "        return bonus\n",
    "    \n",
    "    def nearestFoodBonus(self, state, peso, pacmanPosition,currentPacmanPos):\n",
    "        nearestFoodDistance= self.findNearestFood(state, pacmanPosition,currentPacmanPos)\n",
    "        bonus = -1* peso * nearestFoodDistance       \n",
    "        \n",
    "        return bonus\n",
    "    \n",
    "    def eatFoodBonus(self, peso, currentFoodMatrix, foodMatrix):\n",
    "        diff = currentFoodMatrix.count(True) - foodMatrix.count(True)\n",
    "        bonus = peso*diff\n",
    "        \n",
    "        return bonus\n",
    "    def scoreEvaluation(self, state, numCapsulesCurrentState, currentScaredGhosts, currentPacmanPos, currentFoodMatrix):\n",
    "        \n",
    "#         p1= 1.2\n",
    "#         p2= 2.1\n",
    "#         p3= 150\n",
    "#         p4= 2.5\n",
    "#         p5 = 10\n",
    "#         p6 = 2\n",
    "#         p7 = 50\n",
    "\n",
    "        p1 = self.pesos[0]\n",
    "        p2 = self.pesos[1]\n",
    "        p3 = self.pesos[2]\n",
    "        p4 = self.pesos[3]\n",
    "        p5 = self.pesos[4]\n",
    "        p6 = self.pesos[5]\n",
    "        p7 = self.pesos[6]\n",
    "        \n",
    "        score = state.getScore()\n",
    "        \n",
    "        ghostPositions = state.getGhostPositions() \n",
    "        pacmanPosition = state.getPacmanPosition()\n",
    "        capsulePositions = state.getCapsules() \n",
    "        foodMatrix = state.getFood()\n",
    "        \n",
    "        distancias_fantasmas = self.ghostDistances(ghostPositions, pacmanPosition, state, currentPacmanPos)\n",
    "        bonus_distancia_fantasmas = self.bonusByGhostDistance(p1, distancias_fantasmas, state)\n",
    "        \n",
    "        bonus_distancia_capsula = self.capsuleDistanceBonus(p2, capsulePositions, pacmanPosition, state, currentPacmanPos)\n",
    "        bonus_consumir_capsula = self.capsuleComsumptionBonus(p3, numCapsulesCurrentState, capsulePositions) \n",
    "\n",
    "        bonus_distancia_fantasmas_assustados = self.scaredGhostBonus(state, p4, distancias_fantasmas)\n",
    "        bonus_comer_fantasmas = self.eatScaredGhosts(state, p5, currentScaredGhosts)\n",
    "                \n",
    "        bonus_comida_proxima =  self.nearestFoodBonus(state, p6, pacmanPosition,currentPacmanPos)              \n",
    "        bonus_comer_comida = self.eatFoodBonus(p7, currentFoodMatrix, foodMatrix)  \n",
    "                \n",
    "        formula = score + bonus_distancia_fantasmas + bonus_distancia_capsula + bonus_consumir_capsula + bonus_distancia_fantasmas_assustados + bonus_comer_fantasmas + bonus_comida_proxima + bonus_comer_comida\n",
    "        return formula"
   ]
  },
  {
   "cell_type": "code",
   "execution_count": 4,
   "id": "ee288ace",
   "metadata": {},
   "outputs": [],
   "source": [
    "def fitfunction(pesos):\n",
    "    props={}\n",
    "    pacman = SmartAgent(pesos)\n",
    "    ghostType = loadAgent('RandomGhost', True)\n",
    "    textDisplay.SLEEP_TIME = 0\n",
    "    props['layout'] = layout.getLayout( 'smallClassic' )\n",
    "    props['pacman'] = pacman\n",
    "    props['ghosts'] = []\n",
    "    props['display'] = textDisplay.NullGraphics()\n",
    "    #props['display'] = graphicsDisplay.PacmanGraphics(1, frameTime = 0)\n",
    "    props['numGames'] = 1\n",
    "    props['record'] = False\n",
    "    props['catchExceptions'] = True\n",
    "    props['timeout'] = 1\n",
    "    \n",
    "    res = runGames(**props)\n",
    "    scores = [game.state.getScore() for game in res]\n",
    "    avgScore = sum(scores) / float(len(scores))\n",
    "       \n",
    "    return avgScore"
   ]
  },
  {
   "cell_type": "code",
   "execution_count": 5,
   "id": "f0efc260",
   "metadata": {},
   "outputs": [],
   "source": [
    "import geneticalgs as ge\n",
    "\n",
    "model = ge.RealGA(fitness_func = fitfunction, optim='max', selection=\"rank\", mut_prob=0.15, mut_type=1,\n",
    "                  cross_prob=0.9, cross_type=1, elitism=True, tournament_size=None)"
   ]
  },
  {
   "cell_type": "code",
   "execution_count": 6,
   "id": "aa6ee9e6",
   "metadata": {
    "scrolled": true,
    "tags": []
   },
   "outputs": [
    {
     "name": "stderr",
     "output_type": "stream",
     "text": [
      "Agent 0 ran out of time! (time: 1.00)\n"
     ]
    },
    {
     "name": "stdout",
     "output_type": "stream",
     "text": [
      "Pacman crashed\n"
     ]
    },
    {
     "name": "stderr",
     "output_type": "stream",
     "text": [
      "Agent 0 ran out of time! (time: 1.01)\n"
     ]
    },
    {
     "name": "stdout",
     "output_type": "stream",
     "text": [
      "Pacman crashed\n"
     ]
    },
    {
     "name": "stderr",
     "output_type": "stream",
     "text": [
      "Agent 0 ran out of time! (time: 1.00)\n"
     ]
    },
    {
     "name": "stdout",
     "output_type": "stream",
     "text": [
      "Pacman crashed\n"
     ]
    },
    {
     "name": "stderr",
     "output_type": "stream",
     "text": [
      "Agent 0 ran out of time! (time: 1.01)\n"
     ]
    },
    {
     "name": "stdout",
     "output_type": "stream",
     "text": [
      "Pacman crashed\n"
     ]
    },
    {
     "name": "stderr",
     "output_type": "stream",
     "text": [
      "Agent 0 ran out of time! (time: 1.00)\n"
     ]
    },
    {
     "name": "stdout",
     "output_type": "stream",
     "text": [
      "Pacman crashed\n"
     ]
    },
    {
     "name": "stderr",
     "output_type": "stream",
     "text": [
      "Agent 0 ran out of time! (time: 1.00)\n"
     ]
    },
    {
     "name": "stdout",
     "output_type": "stream",
     "text": [
      "Pacman crashed\n"
     ]
    },
    {
     "name": "stderr",
     "output_type": "stream",
     "text": [
      "Agent 0 ran out of time! (time: 1.00)\n"
     ]
    },
    {
     "name": "stdout",
     "output_type": "stream",
     "text": [
      "Pacman crashed\n"
     ]
    },
    {
     "name": "stderr",
     "output_type": "stream",
     "text": [
      "Agent 0 ran out of time! (time: 1.01)\n"
     ]
    },
    {
     "name": "stdout",
     "output_type": "stream",
     "text": [
      "Pacman crashed\n"
     ]
    },
    {
     "name": "stderr",
     "output_type": "stream",
     "text": [
      "Agent 0 ran out of time! (time: 1.00)\n"
     ]
    },
    {
     "name": "stdout",
     "output_type": "stream",
     "text": [
      "Pacman crashed\n"
     ]
    },
    {
     "name": "stderr",
     "output_type": "stream",
     "text": [
      "Agent 0 ran out of time! (time: 1.01)\n"
     ]
    },
    {
     "name": "stdout",
     "output_type": "stream",
     "text": [
      "Pacman crashed\n"
     ]
    },
    {
     "name": "stderr",
     "output_type": "stream",
     "text": [
      "Agent 0 ran out of time! (time: 1.01)\n"
     ]
    },
    {
     "name": "stdout",
     "output_type": "stream",
     "text": [
      "Pacman crashed\n"
     ]
    },
    {
     "name": "stderr",
     "output_type": "stream",
     "text": [
      "Agent 0 ran out of time! (time: 1.01)\n"
     ]
    },
    {
     "name": "stdout",
     "output_type": "stream",
     "text": [
      "Pacman crashed\n"
     ]
    },
    {
     "name": "stderr",
     "output_type": "stream",
     "text": [
      "Agent 0 ran out of time! (time: 1.01)\n"
     ]
    },
    {
     "name": "stdout",
     "output_type": "stream",
     "text": [
      "Pacman crashed\n"
     ]
    },
    {
     "name": "stderr",
     "output_type": "stream",
     "text": [
      "Agent 0 ran out of time! (time: 1.01)\n"
     ]
    },
    {
     "name": "stdout",
     "output_type": "stream",
     "text": [
      "Pacman crashed\n"
     ]
    },
    {
     "name": "stderr",
     "output_type": "stream",
     "text": [
      "Agent 0 ran out of time! (time: 1.01)\n"
     ]
    },
    {
     "name": "stdout",
     "output_type": "stream",
     "text": [
      "Pacman crashed\n"
     ]
    },
    {
     "name": "stderr",
     "output_type": "stream",
     "text": [
      "Agent 0 ran out of time! (time: 1.01)\n"
     ]
    },
    {
     "name": "stdout",
     "output_type": "stream",
     "text": [
      "Pacman crashed\n"
     ]
    },
    {
     "name": "stderr",
     "output_type": "stream",
     "text": [
      "Agent 0 ran out of time! (time: 1.01)\n"
     ]
    },
    {
     "name": "stdout",
     "output_type": "stream",
     "text": [
      "Pacman crashed\n"
     ]
    },
    {
     "name": "stderr",
     "output_type": "stream",
     "text": [
      "Agent 0 ran out of time! (time: 1.01)\n"
     ]
    },
    {
     "name": "stdout",
     "output_type": "stream",
     "text": [
      "Pacman crashed\n"
     ]
    },
    {
     "name": "stderr",
     "output_type": "stream",
     "text": [
      "Agent 0 ran out of time! (time: 1.01)\n"
     ]
    },
    {
     "name": "stdout",
     "output_type": "stream",
     "text": [
      "Pacman crashed\n"
     ]
    },
    {
     "name": "stderr",
     "output_type": "stream",
     "text": [
      "Agent 0 ran out of time! (time: 1.01)\n"
     ]
    },
    {
     "name": "stdout",
     "output_type": "stream",
     "text": [
      "Pacman crashed\n"
     ]
    },
    {
     "name": "stderr",
     "output_type": "stream",
     "text": [
      "Agent 0 ran out of time! (time: 1.01)\n"
     ]
    },
    {
     "name": "stdout",
     "output_type": "stream",
     "text": [
      "Pacman crashed\n"
     ]
    },
    {
     "name": "stderr",
     "output_type": "stream",
     "text": [
      "Agent 0 ran out of time! (time: 1.00)\n"
     ]
    },
    {
     "name": "stdout",
     "output_type": "stream",
     "text": [
      "Pacman crashed\n"
     ]
    },
    {
     "name": "stderr",
     "output_type": "stream",
     "text": [
      "Agent 0 ran out of time! (time: 1.02)\n"
     ]
    },
    {
     "name": "stdout",
     "output_type": "stream",
     "text": [
      "Pacman crashed\n"
     ]
    },
    {
     "name": "stderr",
     "output_type": "stream",
     "text": [
      "Agent 0 ran out of time! (time: 1.00)\n"
     ]
    },
    {
     "name": "stdout",
     "output_type": "stream",
     "text": [
      "Pacman crashed\n"
     ]
    },
    {
     "name": "stderr",
     "output_type": "stream",
     "text": [
      "Agent 0 ran out of time! (time: 1.00)\n"
     ]
    },
    {
     "name": "stdout",
     "output_type": "stream",
     "text": [
      "Pacman crashed\n"
     ]
    },
    {
     "name": "stderr",
     "output_type": "stream",
     "text": [
      "Agent 0 ran out of time! (time: 1.01)\n"
     ]
    },
    {
     "name": "stdout",
     "output_type": "stream",
     "text": [
      "Pacman crashed\n"
     ]
    },
    {
     "name": "stderr",
     "output_type": "stream",
     "text": [
      "Agent 0 ran out of time! (time: 1.01)\n"
     ]
    },
    {
     "name": "stdout",
     "output_type": "stream",
     "text": [
      "Pacman crashed\n"
     ]
    },
    {
     "name": "stderr",
     "output_type": "stream",
     "text": [
      "Agent 0 ran out of time! (time: 1.00)\n"
     ]
    },
    {
     "name": "stdout",
     "output_type": "stream",
     "text": [
      "Pacman crashed\n"
     ]
    },
    {
     "name": "stderr",
     "output_type": "stream",
     "text": [
      "Agent 0 ran out of time! (time: 1.00)\n"
     ]
    },
    {
     "name": "stdout",
     "output_type": "stream",
     "text": [
      "Pacman crashed\n"
     ]
    },
    {
     "name": "stderr",
     "output_type": "stream",
     "text": [
      "Agent 0 ran out of time! (time: 1.00)\n"
     ]
    },
    {
     "name": "stdout",
     "output_type": "stream",
     "text": [
      "Pacman crashed\n"
     ]
    },
    {
     "name": "stderr",
     "output_type": "stream",
     "text": [
      "Agent 0 ran out of time! (time: 1.01)\n"
     ]
    },
    {
     "name": "stdout",
     "output_type": "stream",
     "text": [
      "Pacman crashed\n"
     ]
    },
    {
     "name": "stderr",
     "output_type": "stream",
     "text": [
      "Agent 0 ran out of time! (time: 1.01)\n"
     ]
    },
    {
     "name": "stdout",
     "output_type": "stream",
     "text": [
      "Pacman crashed\n"
     ]
    },
    {
     "name": "stderr",
     "output_type": "stream",
     "text": [
      "Agent 0 ran out of time! (time: 1.00)\n"
     ]
    },
    {
     "name": "stdout",
     "output_type": "stream",
     "text": [
      "Pacman crashed\n"
     ]
    },
    {
     "name": "stderr",
     "output_type": "stream",
     "text": [
      "Agent 0 ran out of time! (time: 1.00)\n"
     ]
    },
    {
     "name": "stdout",
     "output_type": "stream",
     "text": [
      "Pacman crashed\n"
     ]
    },
    {
     "name": "stderr",
     "output_type": "stream",
     "text": [
      "Agent 0 ran out of time! (time: 1.00)\n"
     ]
    },
    {
     "name": "stdout",
     "output_type": "stream",
     "text": [
      "Pacman crashed\n"
     ]
    },
    {
     "name": "stderr",
     "output_type": "stream",
     "text": [
      "Agent 0 ran out of time! (time: 1.01)\n"
     ]
    },
    {
     "name": "stdout",
     "output_type": "stream",
     "text": [
      "Pacman crashed\n"
     ]
    },
    {
     "name": "stderr",
     "output_type": "stream",
     "text": [
      "Agent 0 ran out of time! (time: 1.01)\n"
     ]
    },
    {
     "name": "stdout",
     "output_type": "stream",
     "text": [
      "Pacman crashed\n"
     ]
    },
    {
     "name": "stderr",
     "output_type": "stream",
     "text": [
      "Agent 0 ran out of time! (time: 1.00)\n"
     ]
    },
    {
     "name": "stdout",
     "output_type": "stream",
     "text": [
      "Pacman crashed\n"
     ]
    },
    {
     "name": "stderr",
     "output_type": "stream",
     "text": [
      "Agent 0 ran out of time! (time: 1.00)\n"
     ]
    },
    {
     "name": "stdout",
     "output_type": "stream",
     "text": [
      "Pacman crashed\n"
     ]
    },
    {
     "name": "stderr",
     "output_type": "stream",
     "text": [
      "Agent 0 ran out of time! (time: 1.00)\n"
     ]
    },
    {
     "name": "stdout",
     "output_type": "stream",
     "text": [
      "Pacman crashed\n"
     ]
    },
    {
     "name": "stderr",
     "output_type": "stream",
     "text": [
      "Agent 0 ran out of time! (time: 1.00)\n"
     ]
    },
    {
     "name": "stdout",
     "output_type": "stream",
     "text": [
      "Pacman crashed\n"
     ]
    },
    {
     "name": "stderr",
     "output_type": "stream",
     "text": [
      "Agent 0 ran out of time! (time: 1.02)\n"
     ]
    },
    {
     "name": "stdout",
     "output_type": "stream",
     "text": [
      "Pacman crashed\n"
     ]
    },
    {
     "name": "stderr",
     "output_type": "stream",
     "text": [
      "Agent 0 ran out of time! (time: 1.01)\n"
     ]
    },
    {
     "name": "stdout",
     "output_type": "stream",
     "text": [
      "Pacman crashed\n"
     ]
    },
    {
     "name": "stderr",
     "output_type": "stream",
     "text": [
      "Agent 0 ran out of time! (time: 1.01)\n"
     ]
    },
    {
     "name": "stdout",
     "output_type": "stream",
     "text": [
      "Pacman crashed\n"
     ]
    },
    {
     "name": "stderr",
     "output_type": "stream",
     "text": [
      "Agent 0 ran out of time! (time: 1.02)\n"
     ]
    },
    {
     "name": "stdout",
     "output_type": "stream",
     "text": [
      "Pacman crashed\n"
     ]
    },
    {
     "name": "stderr",
     "output_type": "stream",
     "text": [
      "Agent 0 ran out of time! (time: 1.01)\n"
     ]
    },
    {
     "name": "stdout",
     "output_type": "stream",
     "text": [
      "Pacman crashed\n"
     ]
    },
    {
     "name": "stderr",
     "output_type": "stream",
     "text": [
      "Agent 0 ran out of time! (time: 1.01)\n"
     ]
    },
    {
     "name": "stdout",
     "output_type": "stream",
     "text": [
      "Pacman crashed\n"
     ]
    },
    {
     "name": "stderr",
     "output_type": "stream",
     "text": [
      "Agent 0 ran out of time! (time: 1.01)\n"
     ]
    },
    {
     "name": "stdout",
     "output_type": "stream",
     "text": [
      "Pacman crashed\n"
     ]
    },
    {
     "name": "stderr",
     "output_type": "stream",
     "text": [
      "Agent 0 ran out of time! (time: 1.00)\n"
     ]
    },
    {
     "name": "stdout",
     "output_type": "stream",
     "text": [
      "Pacman crashed\n"
     ]
    },
    {
     "name": "stderr",
     "output_type": "stream",
     "text": [
      "Agent 0 ran out of time! (time: 1.01)\n"
     ]
    },
    {
     "name": "stdout",
     "output_type": "stream",
     "text": [
      "Pacman crashed\n"
     ]
    },
    {
     "name": "stderr",
     "output_type": "stream",
     "text": [
      "Agent 0 ran out of time! (time: 1.01)\n"
     ]
    },
    {
     "name": "stdout",
     "output_type": "stream",
     "text": [
      "Pacman crashed\n"
     ]
    },
    {
     "name": "stderr",
     "output_type": "stream",
     "text": [
      "Agent 0 ran out of time! (time: 1.00)\n"
     ]
    },
    {
     "name": "stdout",
     "output_type": "stream",
     "text": [
      "Pacman crashed\n"
     ]
    },
    {
     "name": "stderr",
     "output_type": "stream",
     "text": [
      "Agent 0 ran out of time! (time: 1.00)\n"
     ]
    },
    {
     "name": "stdout",
     "output_type": "stream",
     "text": [
      "Pacman crashed\n"
     ]
    },
    {
     "name": "stderr",
     "output_type": "stream",
     "text": [
      "Agent 0 ran out of time! (time: 1.01)\n"
     ]
    },
    {
     "name": "stdout",
     "output_type": "stream",
     "text": [
      "Pacman crashed\n"
     ]
    },
    {
     "name": "stderr",
     "output_type": "stream",
     "text": [
      "Agent 0 ran out of time! (time: 1.01)\n"
     ]
    },
    {
     "name": "stdout",
     "output_type": "stream",
     "text": [
      "Pacman crashed\n"
     ]
    },
    {
     "name": "stderr",
     "output_type": "stream",
     "text": [
      "Agent 0 ran out of time! (time: 1.00)\n"
     ]
    },
    {
     "name": "stdout",
     "output_type": "stream",
     "text": [
      "Pacman crashed\n"
     ]
    },
    {
     "name": "stderr",
     "output_type": "stream",
     "text": [
      "Agent 0 ran out of time! (time: 1.01)\n"
     ]
    },
    {
     "name": "stdout",
     "output_type": "stream",
     "text": [
      "Pacman crashed\n"
     ]
    },
    {
     "name": "stderr",
     "output_type": "stream",
     "text": [
      "Agent 0 ran out of time! (time: 1.01)\n"
     ]
    },
    {
     "name": "stdout",
     "output_type": "stream",
     "text": [
      "Pacman crashed\n"
     ]
    },
    {
     "name": "stderr",
     "output_type": "stream",
     "text": [
      "Agent 0 ran out of time! (time: 1.01)\n"
     ]
    },
    {
     "name": "stdout",
     "output_type": "stream",
     "text": [
      "Pacman crashed\n"
     ]
    },
    {
     "name": "stderr",
     "output_type": "stream",
     "text": [
      "Agent 0 ran out of time! (time: 1.00)\n"
     ]
    },
    {
     "name": "stdout",
     "output_type": "stream",
     "text": [
      "Pacman crashed\n"
     ]
    },
    {
     "name": "stderr",
     "output_type": "stream",
     "text": [
      "Agent 0 ran out of time! (time: 1.02)\n"
     ]
    },
    {
     "name": "stdout",
     "output_type": "stream",
     "text": [
      "Pacman crashed\n"
     ]
    },
    {
     "name": "stderr",
     "output_type": "stream",
     "text": [
      "Agent 0 ran out of time! (time: 1.01)\n"
     ]
    },
    {
     "name": "stdout",
     "output_type": "stream",
     "text": [
      "Pacman crashed\n"
     ]
    },
    {
     "name": "stderr",
     "output_type": "stream",
     "text": [
      "Agent 0 ran out of time! (time: 1.00)\n"
     ]
    },
    {
     "name": "stdout",
     "output_type": "stream",
     "text": [
      "Pacman crashed\n"
     ]
    },
    {
     "name": "stderr",
     "output_type": "stream",
     "text": [
      "Agent 0 ran out of time! (time: 1.00)\n"
     ]
    },
    {
     "name": "stdout",
     "output_type": "stream",
     "text": [
      "Pacman crashed\n"
     ]
    },
    {
     "name": "stderr",
     "output_type": "stream",
     "text": [
      "Agent 0 ran out of time! (time: 1.14)\n"
     ]
    },
    {
     "name": "stdout",
     "output_type": "stream",
     "text": [
      "Pacman crashed\n"
     ]
    },
    {
     "name": "stderr",
     "output_type": "stream",
     "text": [
      "Agent 0 ran out of time! (time: 1.01)\n"
     ]
    },
    {
     "name": "stdout",
     "output_type": "stream",
     "text": [
      "Pacman crashed\n"
     ]
    },
    {
     "name": "stderr",
     "output_type": "stream",
     "text": [
      "Agent 0 ran out of time! (time: 1.00)\n"
     ]
    },
    {
     "name": "stdout",
     "output_type": "stream",
     "text": [
      "Pacman crashed\n"
     ]
    },
    {
     "name": "stderr",
     "output_type": "stream",
     "text": [
      "Agent 0 ran out of time! (time: 1.01)\n"
     ]
    },
    {
     "name": "stdout",
     "output_type": "stream",
     "text": [
      "Pacman crashed\n"
     ]
    },
    {
     "name": "stderr",
     "output_type": "stream",
     "text": [
      "Agent 0 ran out of time! (time: 1.01)\n"
     ]
    },
    {
     "name": "stdout",
     "output_type": "stream",
     "text": [
      "Pacman crashed\n"
     ]
    },
    {
     "name": "stderr",
     "output_type": "stream",
     "text": [
      "Agent 0 ran out of time! (time: 1.01)\n"
     ]
    },
    {
     "name": "stdout",
     "output_type": "stream",
     "text": [
      "Pacman crashed\n"
     ]
    },
    {
     "name": "stderr",
     "output_type": "stream",
     "text": [
      "Agent 0 ran out of time! (time: 1.01)\n"
     ]
    },
    {
     "name": "stdout",
     "output_type": "stream",
     "text": [
      "Pacman crashed\n"
     ]
    },
    {
     "name": "stderr",
     "output_type": "stream",
     "text": [
      "Agent 0 ran out of time! (time: 1.02)\n"
     ]
    },
    {
     "name": "stdout",
     "output_type": "stream",
     "text": [
      "Pacman crashed\n"
     ]
    },
    {
     "name": "stderr",
     "output_type": "stream",
     "text": [
      "Agent 0 ran out of time! (time: 1.01)\n"
     ]
    },
    {
     "name": "stdout",
     "output_type": "stream",
     "text": [
      "Pacman crashed\n"
     ]
    },
    {
     "name": "stderr",
     "output_type": "stream",
     "text": [
      "Agent 0 ran out of time! (time: 1.00)\n"
     ]
    },
    {
     "name": "stdout",
     "output_type": "stream",
     "text": [
      "Pacman crashed\n"
     ]
    },
    {
     "name": "stderr",
     "output_type": "stream",
     "text": [
      "Agent 0 ran out of time! (time: 1.00)\n"
     ]
    },
    {
     "name": "stdout",
     "output_type": "stream",
     "text": [
      "Pacman crashed\n"
     ]
    },
    {
     "name": "stderr",
     "output_type": "stream",
     "text": [
      "Agent 0 ran out of time! (time: 1.01)\n"
     ]
    },
    {
     "name": "stdout",
     "output_type": "stream",
     "text": [
      "Pacman crashed\n"
     ]
    },
    {
     "name": "stderr",
     "output_type": "stream",
     "text": [
      "Agent 0 ran out of time! (time: 1.00)\n"
     ]
    },
    {
     "name": "stdout",
     "output_type": "stream",
     "text": [
      "Pacman crashed\n"
     ]
    },
    {
     "name": "stderr",
     "output_type": "stream",
     "text": [
      "Agent 0 ran out of time! (time: 1.01)\n"
     ]
    },
    {
     "name": "stdout",
     "output_type": "stream",
     "text": [
      "Pacman crashed\n"
     ]
    },
    {
     "name": "stderr",
     "output_type": "stream",
     "text": [
      "Agent 0 ran out of time! (time: 1.00)\n"
     ]
    },
    {
     "name": "stdout",
     "output_type": "stream",
     "text": [
      "Pacman crashed\n"
     ]
    },
    {
     "name": "stderr",
     "output_type": "stream",
     "text": [
      "Agent 0 ran out of time! (time: 1.01)\n"
     ]
    },
    {
     "name": "stdout",
     "output_type": "stream",
     "text": [
      "Pacman crashed\n"
     ]
    },
    {
     "name": "stderr",
     "output_type": "stream",
     "text": [
      "Agent 0 ran out of time! (time: 1.01)\n"
     ]
    },
    {
     "name": "stdout",
     "output_type": "stream",
     "text": [
      "Pacman crashed\n"
     ]
    },
    {
     "name": "stderr",
     "output_type": "stream",
     "text": [
      "Agent 0 ran out of time! (time: 1.00)\n"
     ]
    },
    {
     "name": "stdout",
     "output_type": "stream",
     "text": [
      "Pacman crashed\n"
     ]
    },
    {
     "name": "stderr",
     "output_type": "stream",
     "text": [
      "Agent 0 ran out of time! (time: 1.00)\n"
     ]
    },
    {
     "name": "stdout",
     "output_type": "stream",
     "text": [
      "Pacman crashed\n"
     ]
    },
    {
     "name": "stderr",
     "output_type": "stream",
     "text": [
      "Agent 0 ran out of time! (time: 1.00)\n"
     ]
    },
    {
     "name": "stdout",
     "output_type": "stream",
     "text": [
      "Pacman crashed\n"
     ]
    },
    {
     "name": "stderr",
     "output_type": "stream",
     "text": [
      "Agent 0 ran out of time! (time: 1.01)\n"
     ]
    },
    {
     "name": "stdout",
     "output_type": "stream",
     "text": [
      "Pacman crashed\n"
     ]
    },
    {
     "name": "stderr",
     "output_type": "stream",
     "text": [
      "Agent 0 ran out of time! (time: 1.01)\n"
     ]
    },
    {
     "name": "stdout",
     "output_type": "stream",
     "text": [
      "Pacman crashed\n"
     ]
    },
    {
     "name": "stderr",
     "output_type": "stream",
     "text": [
      "Agent 0 ran out of time! (time: 1.00)\n"
     ]
    },
    {
     "name": "stdout",
     "output_type": "stream",
     "text": [
      "Pacman crashed\n"
     ]
    },
    {
     "name": "stderr",
     "output_type": "stream",
     "text": [
      "Agent 0 ran out of time! (time: 1.00)\n"
     ]
    },
    {
     "name": "stdout",
     "output_type": "stream",
     "text": [
      "Pacman crashed\n"
     ]
    },
    {
     "name": "stderr",
     "output_type": "stream",
     "text": [
      "Agent 0 ran out of time! (time: 1.00)\n"
     ]
    },
    {
     "name": "stdout",
     "output_type": "stream",
     "text": [
      "Pacman crashed\n"
     ]
    },
    {
     "name": "stderr",
     "output_type": "stream",
     "text": [
      "Agent 0 ran out of time! (time: 1.01)\n"
     ]
    },
    {
     "name": "stdout",
     "output_type": "stream",
     "text": [
      "Pacman crashed\n"
     ]
    },
    {
     "name": "stderr",
     "output_type": "stream",
     "text": [
      "Agent 0 ran out of time! (time: 1.00)\n"
     ]
    },
    {
     "name": "stdout",
     "output_type": "stream",
     "text": [
      "Pacman crashed\n"
     ]
    },
    {
     "name": "stderr",
     "output_type": "stream",
     "text": [
      "Agent 0 ran out of time! (time: 1.00)\n"
     ]
    },
    {
     "name": "stdout",
     "output_type": "stream",
     "text": [
      "Pacman crashed\n"
     ]
    },
    {
     "name": "stderr",
     "output_type": "stream",
     "text": [
      "Agent 0 ran out of time! (time: 1.00)\n"
     ]
    },
    {
     "name": "stdout",
     "output_type": "stream",
     "text": [
      "Pacman crashed\n"
     ]
    },
    {
     "name": "stderr",
     "output_type": "stream",
     "text": [
      "Agent 0 ran out of time! (time: 1.01)\n"
     ]
    },
    {
     "name": "stdout",
     "output_type": "stream",
     "text": [
      "Pacman crashed\n"
     ]
    },
    {
     "name": "stderr",
     "output_type": "stream",
     "text": [
      "Agent 0 ran out of time! (time: 1.00)\n"
     ]
    },
    {
     "name": "stdout",
     "output_type": "stream",
     "text": [
      "Pacman crashed\n"
     ]
    },
    {
     "name": "stderr",
     "output_type": "stream",
     "text": [
      "Agent 0 ran out of time! (time: 1.00)\n"
     ]
    },
    {
     "name": "stdout",
     "output_type": "stream",
     "text": [
      "Pacman crashed\n"
     ]
    },
    {
     "name": "stderr",
     "output_type": "stream",
     "text": [
      "Agent 0 ran out of time! (time: 1.00)\n"
     ]
    },
    {
     "name": "stdout",
     "output_type": "stream",
     "text": [
      "Pacman crashed\n"
     ]
    },
    {
     "name": "stderr",
     "output_type": "stream",
     "text": [
      "Agent 0 ran out of time! (time: 1.00)\n"
     ]
    },
    {
     "name": "stdout",
     "output_type": "stream",
     "text": [
      "Pacman crashed\n"
     ]
    },
    {
     "name": "stderr",
     "output_type": "stream",
     "text": [
      "Agent 0 ran out of time! (time: 1.00)\n"
     ]
    },
    {
     "name": "stdout",
     "output_type": "stream",
     "text": [
      "Pacman crashed\n",
      "Pacman crashed\n"
     ]
    },
    {
     "name": "stderr",
     "output_type": "stream",
     "text": [
      "Agent 0 ran out of time! (time: 1.01)\n"
     ]
    }
   ],
   "source": [
    "population_size = 100\n",
    "dimensao = 7 # numero de argumentos da funcao        \n",
    "interval = (0,1000)\n",
    "\n",
    "model.init_random_population(population_size, dimensao, interval)"
   ]
  },
  {
   "cell_type": "code",
   "execution_count": 7,
   "id": "5af93a21",
   "metadata": {
    "scrolled": true,
    "tags": []
   },
   "outputs": [
    {
     "name": "stderr",
     "output_type": "stream",
     "text": [
      "Agent 0 ran out of time! (time: 1.00)\n"
     ]
    },
    {
     "name": "stdout",
     "output_type": "stream",
     "text": [
      "Pacman crashed\n"
     ]
    },
    {
     "name": "stderr",
     "output_type": "stream",
     "text": [
      "Agent 0 ran out of time! (time: 1.01)\n"
     ]
    },
    {
     "name": "stdout",
     "output_type": "stream",
     "text": [
      "Pacman crashed\n"
     ]
    },
    {
     "name": "stderr",
     "output_type": "stream",
     "text": [
      "Agent 0 ran out of time! (time: 1.00)\n"
     ]
    },
    {
     "name": "stdout",
     "output_type": "stream",
     "text": [
      "Pacman crashed\n"
     ]
    },
    {
     "name": "stderr",
     "output_type": "stream",
     "text": [
      "Agent 0 ran out of time! (time: 1.02)\n"
     ]
    },
    {
     "name": "stdout",
     "output_type": "stream",
     "text": [
      "Pacman crashed\n"
     ]
    },
    {
     "name": "stderr",
     "output_type": "stream",
     "text": [
      "Agent 0 ran out of time! (time: 1.01)\n"
     ]
    },
    {
     "name": "stdout",
     "output_type": "stream",
     "text": [
      "Pacman crashed\n"
     ]
    },
    {
     "name": "stderr",
     "output_type": "stream",
     "text": [
      "Agent 0 ran out of time! (time: 1.01)\n"
     ]
    },
    {
     "name": "stdout",
     "output_type": "stream",
     "text": [
      "Pacman crashed\n"
     ]
    },
    {
     "name": "stderr",
     "output_type": "stream",
     "text": [
      "Agent 0 ran out of time! (time: 1.02)\n"
     ]
    },
    {
     "name": "stdout",
     "output_type": "stream",
     "text": [
      "Pacman crashed\n"
     ]
    },
    {
     "name": "stderr",
     "output_type": "stream",
     "text": [
      "Agent 0 ran out of time! (time: 1.02)\n"
     ]
    },
    {
     "name": "stdout",
     "output_type": "stream",
     "text": [
      "Pacman crashed\n"
     ]
    },
    {
     "name": "stderr",
     "output_type": "stream",
     "text": [
      "Agent 0 ran out of time! (time: 1.01)\n"
     ]
    },
    {
     "name": "stdout",
     "output_type": "stream",
     "text": [
      "Pacman crashed\n"
     ]
    },
    {
     "name": "stderr",
     "output_type": "stream",
     "text": [
      "Agent 0 ran out of time! (time: 1.00)\n"
     ]
    },
    {
     "name": "stdout",
     "output_type": "stream",
     "text": [
      "Pacman crashed\n"
     ]
    },
    {
     "name": "stderr",
     "output_type": "stream",
     "text": [
      "Agent 0 ran out of time! (time: 1.00)\n"
     ]
    },
    {
     "name": "stdout",
     "output_type": "stream",
     "text": [
      "Pacman crashed\n"
     ]
    },
    {
     "name": "stderr",
     "output_type": "stream",
     "text": [
      "Agent 0 ran out of time! (time: 1.00)\n"
     ]
    },
    {
     "name": "stdout",
     "output_type": "stream",
     "text": [
      "Pacman crashed\n"
     ]
    },
    {
     "name": "stderr",
     "output_type": "stream",
     "text": [
      "Agent 0 ran out of time! (time: 1.01)\n"
     ]
    },
    {
     "name": "stdout",
     "output_type": "stream",
     "text": [
      "Pacman crashed\n"
     ]
    },
    {
     "name": "stderr",
     "output_type": "stream",
     "text": [
      "Agent 0 ran out of time! (time: 1.01)\n"
     ]
    },
    {
     "name": "stdout",
     "output_type": "stream",
     "text": [
      "Pacman crashed\n"
     ]
    },
    {
     "name": "stderr",
     "output_type": "stream",
     "text": [
      "Agent 0 ran out of time! (time: 1.00)\n"
     ]
    },
    {
     "name": "stdout",
     "output_type": "stream",
     "text": [
      "Pacman crashed\n"
     ]
    },
    {
     "name": "stderr",
     "output_type": "stream",
     "text": [
      "Agent 0 ran out of time! (time: 1.00)\n"
     ]
    },
    {
     "name": "stdout",
     "output_type": "stream",
     "text": [
      "Pacman crashed\n"
     ]
    },
    {
     "name": "stderr",
     "output_type": "stream",
     "text": [
      "Agent 0 ran out of time! (time: 1.00)\n"
     ]
    },
    {
     "name": "stdout",
     "output_type": "stream",
     "text": [
      "Pacman crashed\n"
     ]
    },
    {
     "name": "stderr",
     "output_type": "stream",
     "text": [
      "Agent 0 ran out of time! (time: 1.01)\n"
     ]
    },
    {
     "name": "stdout",
     "output_type": "stream",
     "text": [
      "Pacman crashed\n"
     ]
    },
    {
     "name": "stderr",
     "output_type": "stream",
     "text": [
      "Agent 0 ran out of time! (time: 1.00)\n"
     ]
    },
    {
     "name": "stdout",
     "output_type": "stream",
     "text": [
      "Pacman crashed\n"
     ]
    },
    {
     "name": "stderr",
     "output_type": "stream",
     "text": [
      "Agent 0 ran out of time! (time: 1.00)\n"
     ]
    },
    {
     "name": "stdout",
     "output_type": "stream",
     "text": [
      "Pacman crashed\n"
     ]
    },
    {
     "name": "stderr",
     "output_type": "stream",
     "text": [
      "Agent 0 ran out of time! (time: 1.00)\n"
     ]
    },
    {
     "name": "stdout",
     "output_type": "stream",
     "text": [
      "Pacman crashed\n"
     ]
    },
    {
     "name": "stderr",
     "output_type": "stream",
     "text": [
      "Agent 0 ran out of time! (time: 1.00)\n"
     ]
    },
    {
     "name": "stdout",
     "output_type": "stream",
     "text": [
      "Pacman crashed\n"
     ]
    },
    {
     "name": "stderr",
     "output_type": "stream",
     "text": [
      "Agent 0 ran out of time! (time: 1.00)\n"
     ]
    },
    {
     "name": "stdout",
     "output_type": "stream",
     "text": [
      "Pacman crashed\n"
     ]
    },
    {
     "name": "stderr",
     "output_type": "stream",
     "text": [
      "Agent 0 ran out of time! (time: 1.00)\n"
     ]
    },
    {
     "name": "stdout",
     "output_type": "stream",
     "text": [
      "Pacman crashed\n"
     ]
    },
    {
     "name": "stderr",
     "output_type": "stream",
     "text": [
      "Agent 0 ran out of time! (time: 1.01)\n"
     ]
    },
    {
     "name": "stdout",
     "output_type": "stream",
     "text": [
      "Pacman crashed\n"
     ]
    },
    {
     "name": "stderr",
     "output_type": "stream",
     "text": [
      "Agent 0 ran out of time! (time: 1.01)\n"
     ]
    },
    {
     "name": "stdout",
     "output_type": "stream",
     "text": [
      "Pacman crashed\n"
     ]
    },
    {
     "name": "stderr",
     "output_type": "stream",
     "text": [
      "Agent 0 ran out of time! (time: 1.00)\n"
     ]
    },
    {
     "name": "stdout",
     "output_type": "stream",
     "text": [
      "Pacman crashed\n"
     ]
    },
    {
     "name": "stderr",
     "output_type": "stream",
     "text": [
      "Agent 0 ran out of time! (time: 1.01)\n"
     ]
    },
    {
     "name": "stdout",
     "output_type": "stream",
     "text": [
      "Pacman crashed\n"
     ]
    },
    {
     "name": "stderr",
     "output_type": "stream",
     "text": [
      "Agent 0 ran out of time! (time: 1.01)\n"
     ]
    },
    {
     "name": "stdout",
     "output_type": "stream",
     "text": [
      "Pacman crashed\n"
     ]
    },
    {
     "name": "stderr",
     "output_type": "stream",
     "text": [
      "Agent 0 ran out of time! (time: 1.00)\n"
     ]
    },
    {
     "name": "stdout",
     "output_type": "stream",
     "text": [
      "Pacman crashed\n"
     ]
    },
    {
     "name": "stderr",
     "output_type": "stream",
     "text": [
      "Agent 0 ran out of time! (time: 1.00)\n"
     ]
    },
    {
     "name": "stdout",
     "output_type": "stream",
     "text": [
      "Pacman crashed\n"
     ]
    },
    {
     "name": "stderr",
     "output_type": "stream",
     "text": [
      "Agent 0 ran out of time! (time: 1.01)\n"
     ]
    },
    {
     "name": "stdout",
     "output_type": "stream",
     "text": [
      "Pacman crashed\n"
     ]
    },
    {
     "name": "stderr",
     "output_type": "stream",
     "text": [
      "Agent 0 ran out of time! (time: 1.00)\n"
     ]
    },
    {
     "name": "stdout",
     "output_type": "stream",
     "text": [
      "Pacman crashed\n"
     ]
    },
    {
     "name": "stderr",
     "output_type": "stream",
     "text": [
      "Agent 0 ran out of time! (time: 1.00)\n"
     ]
    },
    {
     "name": "stdout",
     "output_type": "stream",
     "text": [
      "Pacman crashed\n"
     ]
    },
    {
     "name": "stderr",
     "output_type": "stream",
     "text": [
      "Agent 0 ran out of time! (time: 1.01)\n"
     ]
    },
    {
     "name": "stdout",
     "output_type": "stream",
     "text": [
      "Pacman crashed\n"
     ]
    },
    {
     "name": "stderr",
     "output_type": "stream",
     "text": [
      "Agent 0 ran out of time! (time: 1.01)\n"
     ]
    },
    {
     "name": "stdout",
     "output_type": "stream",
     "text": [
      "Pacman crashed\n"
     ]
    },
    {
     "name": "stderr",
     "output_type": "stream",
     "text": [
      "Agent 0 ran out of time! (time: 1.01)\n"
     ]
    },
    {
     "name": "stdout",
     "output_type": "stream",
     "text": [
      "Pacman crashed\n"
     ]
    },
    {
     "name": "stderr",
     "output_type": "stream",
     "text": [
      "Agent 0 ran out of time! (time: 1.00)\n"
     ]
    },
    {
     "name": "stdout",
     "output_type": "stream",
     "text": [
      "Pacman crashed\n"
     ]
    },
    {
     "name": "stderr",
     "output_type": "stream",
     "text": [
      "Agent 0 ran out of time! (time: 1.01)\n"
     ]
    },
    {
     "name": "stdout",
     "output_type": "stream",
     "text": [
      "Pacman crashed\n"
     ]
    },
    {
     "name": "stderr",
     "output_type": "stream",
     "text": [
      "Agent 0 ran out of time! (time: 1.01)\n"
     ]
    },
    {
     "name": "stdout",
     "output_type": "stream",
     "text": [
      "Pacman crashed\n"
     ]
    },
    {
     "name": "stderr",
     "output_type": "stream",
     "text": [
      "Agent 0 ran out of time! (time: 1.01)\n"
     ]
    },
    {
     "name": "stdout",
     "output_type": "stream",
     "text": [
      "Pacman crashed\n"
     ]
    },
    {
     "name": "stderr",
     "output_type": "stream",
     "text": [
      "Agent 0 ran out of time! (time: 1.01)\n"
     ]
    },
    {
     "name": "stdout",
     "output_type": "stream",
     "text": [
      "Pacman crashed\n"
     ]
    },
    {
     "name": "stderr",
     "output_type": "stream",
     "text": [
      "Agent 0 ran out of time! (time: 1.01)\n"
     ]
    },
    {
     "name": "stdout",
     "output_type": "stream",
     "text": [
      "Pacman crashed\n"
     ]
    },
    {
     "name": "stderr",
     "output_type": "stream",
     "text": [
      "Agent 0 ran out of time! (time: 1.01)\n"
     ]
    },
    {
     "name": "stdout",
     "output_type": "stream",
     "text": [
      "Pacman crashed\n"
     ]
    },
    {
     "name": "stderr",
     "output_type": "stream",
     "text": [
      "Agent 0 ran out of time! (time: 1.00)\n"
     ]
    },
    {
     "name": "stdout",
     "output_type": "stream",
     "text": [
      "Pacman crashed\n"
     ]
    },
    {
     "name": "stderr",
     "output_type": "stream",
     "text": [
      "Agent 0 ran out of time! (time: 1.01)\n"
     ]
    },
    {
     "name": "stdout",
     "output_type": "stream",
     "text": [
      "Pacman crashed\n"
     ]
    },
    {
     "name": "stderr",
     "output_type": "stream",
     "text": [
      "Agent 0 ran out of time! (time: 1.01)\n"
     ]
    },
    {
     "name": "stdout",
     "output_type": "stream",
     "text": [
      "Pacman crashed\n"
     ]
    },
    {
     "name": "stderr",
     "output_type": "stream",
     "text": [
      "Agent 0 ran out of time! (time: 1.01)\n"
     ]
    },
    {
     "name": "stdout",
     "output_type": "stream",
     "text": [
      "Pacman crashed\n"
     ]
    },
    {
     "name": "stderr",
     "output_type": "stream",
     "text": [
      "Agent 0 ran out of time! (time: 1.00)\n"
     ]
    },
    {
     "name": "stdout",
     "output_type": "stream",
     "text": [
      "Pacman crashed\n"
     ]
    },
    {
     "name": "stderr",
     "output_type": "stream",
     "text": [
      "Agent 0 ran out of time! (time: 1.00)\n"
     ]
    },
    {
     "name": "stdout",
     "output_type": "stream",
     "text": [
      "Pacman crashed\n"
     ]
    },
    {
     "name": "stderr",
     "output_type": "stream",
     "text": [
      "Agent 0 ran out of time! (time: 1.01)\n"
     ]
    },
    {
     "name": "stdout",
     "output_type": "stream",
     "text": [
      "Pacman crashed\n"
     ]
    },
    {
     "name": "stderr",
     "output_type": "stream",
     "text": [
      "Agent 0 ran out of time! (time: 1.00)\n"
     ]
    },
    {
     "name": "stdout",
     "output_type": "stream",
     "text": [
      "Pacman crashed\n",
      "Pacman emerges victorious! Score: 987\n"
     ]
    },
    {
     "name": "stderr",
     "output_type": "stream",
     "text": [
      "Agent 0 ran out of time! (time: 1.00)\n"
     ]
    },
    {
     "name": "stdout",
     "output_type": "stream",
     "text": [
      "Pacman crashed\n"
     ]
    },
    {
     "name": "stderr",
     "output_type": "stream",
     "text": [
      "Agent 0 ran out of time! (time: 1.00)\n"
     ]
    },
    {
     "name": "stdout",
     "output_type": "stream",
     "text": [
      "Pacman crashed\n"
     ]
    },
    {
     "name": "stderr",
     "output_type": "stream",
     "text": [
      "Agent 0 ran out of time! (time: 1.00)\n"
     ]
    },
    {
     "name": "stdout",
     "output_type": "stream",
     "text": [
      "Pacman crashed\n"
     ]
    },
    {
     "name": "stderr",
     "output_type": "stream",
     "text": [
      "Agent 0 ran out of time! (time: 1.01)\n"
     ]
    },
    {
     "name": "stdout",
     "output_type": "stream",
     "text": [
      "Pacman crashed\n"
     ]
    },
    {
     "name": "stderr",
     "output_type": "stream",
     "text": [
      "Agent 0 ran out of time! (time: 1.01)\n"
     ]
    },
    {
     "name": "stdout",
     "output_type": "stream",
     "text": [
      "Pacman crashed\n"
     ]
    },
    {
     "name": "stderr",
     "output_type": "stream",
     "text": [
      "Agent 0 ran out of time! (time: 1.00)\n"
     ]
    },
    {
     "name": "stdout",
     "output_type": "stream",
     "text": [
      "Pacman crashed\n"
     ]
    },
    {
     "name": "stderr",
     "output_type": "stream",
     "text": [
      "Agent 0 ran out of time! (time: 1.00)\n"
     ]
    },
    {
     "name": "stdout",
     "output_type": "stream",
     "text": [
      "Pacman crashed\n"
     ]
    },
    {
     "name": "stderr",
     "output_type": "stream",
     "text": [
      "Agent 0 ran out of time! (time: 1.00)\n"
     ]
    },
    {
     "name": "stdout",
     "output_type": "stream",
     "text": [
      "Pacman crashed\n"
     ]
    },
    {
     "name": "stderr",
     "output_type": "stream",
     "text": [
      "Agent 0 ran out of time! (time: 1.01)\n"
     ]
    },
    {
     "name": "stdout",
     "output_type": "stream",
     "text": [
      "Pacman crashed\n"
     ]
    },
    {
     "name": "stderr",
     "output_type": "stream",
     "text": [
      "Agent 0 ran out of time! (time: 1.00)\n"
     ]
    },
    {
     "name": "stdout",
     "output_type": "stream",
     "text": [
      "Pacman crashed\n"
     ]
    },
    {
     "name": "stderr",
     "output_type": "stream",
     "text": [
      "Agent 0 ran out of time! (time: 1.00)\n"
     ]
    },
    {
     "name": "stdout",
     "output_type": "stream",
     "text": [
      "Pacman crashed\n"
     ]
    },
    {
     "name": "stderr",
     "output_type": "stream",
     "text": [
      "Agent 0 ran out of time! (time: 1.01)\n"
     ]
    },
    {
     "name": "stdout",
     "output_type": "stream",
     "text": [
      "Pacman crashed\n"
     ]
    },
    {
     "name": "stderr",
     "output_type": "stream",
     "text": [
      "Agent 0 ran out of time! (time: 1.00)\n"
     ]
    },
    {
     "name": "stdout",
     "output_type": "stream",
     "text": [
      "Pacman crashed\n"
     ]
    },
    {
     "name": "stderr",
     "output_type": "stream",
     "text": [
      "Agent 0 ran out of time! (time: 1.00)\n"
     ]
    },
    {
     "name": "stdout",
     "output_type": "stream",
     "text": [
      "Pacman crashed\n"
     ]
    },
    {
     "name": "stderr",
     "output_type": "stream",
     "text": [
      "Agent 0 ran out of time! (time: 1.01)\n"
     ]
    },
    {
     "name": "stdout",
     "output_type": "stream",
     "text": [
      "Pacman crashed\n"
     ]
    },
    {
     "name": "stderr",
     "output_type": "stream",
     "text": [
      "Agent 0 ran out of time! (time: 1.00)\n"
     ]
    },
    {
     "name": "stdout",
     "output_type": "stream",
     "text": [
      "Pacman crashed\n"
     ]
    },
    {
     "name": "stderr",
     "output_type": "stream",
     "text": [
      "Agent 0 ran out of time! (time: 1.01)\n"
     ]
    },
    {
     "name": "stdout",
     "output_type": "stream",
     "text": [
      "Pacman crashed\n"
     ]
    },
    {
     "name": "stderr",
     "output_type": "stream",
     "text": [
      "Agent 0 ran out of time! (time: 1.01)\n"
     ]
    },
    {
     "name": "stdout",
     "output_type": "stream",
     "text": [
      "Pacman crashed\n"
     ]
    },
    {
     "name": "stderr",
     "output_type": "stream",
     "text": [
      "Agent 0 ran out of time! (time: 1.00)\n"
     ]
    },
    {
     "name": "stdout",
     "output_type": "stream",
     "text": [
      "Pacman crashed\n"
     ]
    },
    {
     "name": "stderr",
     "output_type": "stream",
     "text": [
      "Agent 0 ran out of time! (time: 1.01)\n"
     ]
    },
    {
     "name": "stdout",
     "output_type": "stream",
     "text": [
      "Pacman crashed\n"
     ]
    },
    {
     "name": "stderr",
     "output_type": "stream",
     "text": [
      "Agent 0 ran out of time! (time: 1.00)\n"
     ]
    },
    {
     "name": "stdout",
     "output_type": "stream",
     "text": [
      "Pacman crashed\n"
     ]
    },
    {
     "name": "stderr",
     "output_type": "stream",
     "text": [
      "Agent 0 ran out of time! (time: 1.01)\n"
     ]
    },
    {
     "name": "stdout",
     "output_type": "stream",
     "text": [
      "Pacman crashed\n"
     ]
    },
    {
     "name": "stderr",
     "output_type": "stream",
     "text": [
      "Agent 0 ran out of time! (time: 1.01)\n"
     ]
    },
    {
     "name": "stdout",
     "output_type": "stream",
     "text": [
      "Pacman crashed\n"
     ]
    },
    {
     "name": "stderr",
     "output_type": "stream",
     "text": [
      "Agent 0 ran out of time! (time: 1.00)\n"
     ]
    },
    {
     "name": "stdout",
     "output_type": "stream",
     "text": [
      "Pacman crashed\n"
     ]
    },
    {
     "name": "stderr",
     "output_type": "stream",
     "text": [
      "Agent 0 ran out of time! (time: 1.00)\n"
     ]
    },
    {
     "name": "stdout",
     "output_type": "stream",
     "text": [
      "Pacman crashed\n"
     ]
    },
    {
     "name": "stderr",
     "output_type": "stream",
     "text": [
      "Agent 0 ran out of time! (time: 1.00)\n"
     ]
    },
    {
     "name": "stdout",
     "output_type": "stream",
     "text": [
      "Pacman crashed\n"
     ]
    },
    {
     "name": "stderr",
     "output_type": "stream",
     "text": [
      "Agent 0 ran out of time! (time: 1.00)\n"
     ]
    },
    {
     "name": "stdout",
     "output_type": "stream",
     "text": [
      "Pacman crashed\n"
     ]
    },
    {
     "name": "stderr",
     "output_type": "stream",
     "text": [
      "Agent 0 ran out of time! (time: 1.00)\n"
     ]
    },
    {
     "name": "stdout",
     "output_type": "stream",
     "text": [
      "Pacman crashed\n"
     ]
    },
    {
     "name": "stderr",
     "output_type": "stream",
     "text": [
      "Agent 0 ran out of time! (time: 1.00)\n"
     ]
    },
    {
     "name": "stdout",
     "output_type": "stream",
     "text": [
      "Pacman crashed\n"
     ]
    },
    {
     "name": "stderr",
     "output_type": "stream",
     "text": [
      "Agent 0 ran out of time! (time: 1.00)\n"
     ]
    },
    {
     "name": "stdout",
     "output_type": "stream",
     "text": [
      "Pacman crashed\n"
     ]
    },
    {
     "name": "stderr",
     "output_type": "stream",
     "text": [
      "Agent 0 ran out of time! (time: 1.01)\n"
     ]
    },
    {
     "name": "stdout",
     "output_type": "stream",
     "text": [
      "Pacman crashed\n"
     ]
    },
    {
     "name": "stderr",
     "output_type": "stream",
     "text": [
      "Agent 0 ran out of time! (time: 1.01)\n"
     ]
    },
    {
     "name": "stdout",
     "output_type": "stream",
     "text": [
      "Pacman crashed\n"
     ]
    },
    {
     "name": "stderr",
     "output_type": "stream",
     "text": [
      "Agent 0 ran out of time! (time: 1.00)\n"
     ]
    },
    {
     "name": "stdout",
     "output_type": "stream",
     "text": [
      "Pacman crashed\n"
     ]
    },
    {
     "name": "stderr",
     "output_type": "stream",
     "text": [
      "Agent 0 ran out of time! (time: 1.01)\n"
     ]
    },
    {
     "name": "stdout",
     "output_type": "stream",
     "text": [
      "Pacman crashed\n"
     ]
    },
    {
     "name": "stderr",
     "output_type": "stream",
     "text": [
      "Agent 0 ran out of time! (time: 1.00)\n"
     ]
    },
    {
     "name": "stdout",
     "output_type": "stream",
     "text": [
      "Pacman crashed\n"
     ]
    },
    {
     "name": "stderr",
     "output_type": "stream",
     "text": [
      "Agent 0 ran out of time! (time: 1.02)\n"
     ]
    },
    {
     "name": "stdout",
     "output_type": "stream",
     "text": [
      "Pacman crashed\n"
     ]
    },
    {
     "name": "stderr",
     "output_type": "stream",
     "text": [
      "Agent 0 ran out of time! (time: 1.02)\n"
     ]
    },
    {
     "name": "stdout",
     "output_type": "stream",
     "text": [
      "Pacman crashed\n"
     ]
    },
    {
     "name": "stderr",
     "output_type": "stream",
     "text": [
      "Agent 0 ran out of time! (time: 1.02)\n"
     ]
    },
    {
     "name": "stdout",
     "output_type": "stream",
     "text": [
      "Pacman crashed\n"
     ]
    },
    {
     "name": "stderr",
     "output_type": "stream",
     "text": [
      "Agent 0 ran out of time! (time: 1.02)\n"
     ]
    },
    {
     "name": "stdout",
     "output_type": "stream",
     "text": [
      "Pacman crashed\n"
     ]
    },
    {
     "name": "stderr",
     "output_type": "stream",
     "text": [
      "Agent 0 ran out of time! (time: 1.02)\n"
     ]
    },
    {
     "name": "stdout",
     "output_type": "stream",
     "text": [
      "Pacman crashed\n"
     ]
    },
    {
     "name": "stderr",
     "output_type": "stream",
     "text": [
      "Agent 0 ran out of time! (time: 1.02)\n"
     ]
    },
    {
     "name": "stdout",
     "output_type": "stream",
     "text": [
      "Pacman crashed\n"
     ]
    },
    {
     "name": "stderr",
     "output_type": "stream",
     "text": [
      "Agent 0 ran out of time! (time: 1.02)\n"
     ]
    },
    {
     "name": "stdout",
     "output_type": "stream",
     "text": [
      "Pacman crashed\n"
     ]
    },
    {
     "name": "stderr",
     "output_type": "stream",
     "text": [
      "Agent 0 ran out of time! (time: 1.02)\n"
     ]
    },
    {
     "name": "stdout",
     "output_type": "stream",
     "text": [
      "Pacman crashed\n"
     ]
    },
    {
     "name": "stderr",
     "output_type": "stream",
     "text": [
      "Agent 0 ran out of time! (time: 1.02)\n"
     ]
    },
    {
     "name": "stdout",
     "output_type": "stream",
     "text": [
      "Pacman crashed\n"
     ]
    },
    {
     "name": "stderr",
     "output_type": "stream",
     "text": [
      "Agent 0 ran out of time! (time: 1.02)\n"
     ]
    },
    {
     "name": "stdout",
     "output_type": "stream",
     "text": [
      "Pacman crashed\n"
     ]
    },
    {
     "name": "stderr",
     "output_type": "stream",
     "text": [
      "Agent 0 ran out of time! (time: 1.02)\n"
     ]
    },
    {
     "name": "stdout",
     "output_type": "stream",
     "text": [
      "Pacman crashed\n"
     ]
    },
    {
     "name": "stderr",
     "output_type": "stream",
     "text": [
      "Agent 0 ran out of time! (time: 1.02)\n"
     ]
    },
    {
     "name": "stdout",
     "output_type": "stream",
     "text": [
      "Pacman crashed\n"
     ]
    },
    {
     "name": "stderr",
     "output_type": "stream",
     "text": [
      "Agent 0 ran out of time! (time: 1.02)\n"
     ]
    },
    {
     "name": "stdout",
     "output_type": "stream",
     "text": [
      "Pacman crashed\n"
     ]
    },
    {
     "name": "stderr",
     "output_type": "stream",
     "text": [
      "Agent 0 ran out of time! (time: 1.02)\n"
     ]
    },
    {
     "name": "stdout",
     "output_type": "stream",
     "text": [
      "Pacman crashed\n"
     ]
    },
    {
     "name": "stderr",
     "output_type": "stream",
     "text": [
      "Agent 0 ran out of time! (time: 1.02)\n"
     ]
    },
    {
     "name": "stdout",
     "output_type": "stream",
     "text": [
      "Pacman crashed\n"
     ]
    },
    {
     "name": "stderr",
     "output_type": "stream",
     "text": [
      "Agent 0 ran out of time! (time: 1.02)\n"
     ]
    },
    {
     "name": "stdout",
     "output_type": "stream",
     "text": [
      "Pacman crashed\n"
     ]
    },
    {
     "name": "stderr",
     "output_type": "stream",
     "text": [
      "Agent 0 ran out of time! (time: 1.02)\n"
     ]
    },
    {
     "name": "stdout",
     "output_type": "stream",
     "text": [
      "Pacman crashed\n"
     ]
    },
    {
     "name": "stderr",
     "output_type": "stream",
     "text": [
      "Agent 0 ran out of time! (time: 1.02)\n"
     ]
    },
    {
     "name": "stdout",
     "output_type": "stream",
     "text": [
      "Pacman crashed\n"
     ]
    },
    {
     "name": "stderr",
     "output_type": "stream",
     "text": [
      "Agent 0 ran out of time! (time: 1.02)\n"
     ]
    },
    {
     "name": "stdout",
     "output_type": "stream",
     "text": [
      "Pacman crashed\n"
     ]
    },
    {
     "name": "stderr",
     "output_type": "stream",
     "text": [
      "Agent 0 ran out of time! (time: 1.02)\n"
     ]
    },
    {
     "name": "stdout",
     "output_type": "stream",
     "text": [
      "Pacman crashed\n"
     ]
    },
    {
     "name": "stderr",
     "output_type": "stream",
     "text": [
      "Agent 0 ran out of time! (time: 1.02)\n"
     ]
    },
    {
     "name": "stdout",
     "output_type": "stream",
     "text": [
      "Pacman crashed\n"
     ]
    },
    {
     "name": "stderr",
     "output_type": "stream",
     "text": [
      "Agent 0 ran out of time! (time: 1.02)\n"
     ]
    },
    {
     "name": "stdout",
     "output_type": "stream",
     "text": [
      "Pacman crashed\n"
     ]
    },
    {
     "name": "stderr",
     "output_type": "stream",
     "text": [
      "Agent 0 ran out of time! (time: 1.02)\n"
     ]
    },
    {
     "name": "stdout",
     "output_type": "stream",
     "text": [
      "Pacman crashed\n"
     ]
    },
    {
     "name": "stderr",
     "output_type": "stream",
     "text": [
      "Agent 0 ran out of time! (time: 1.02)\n"
     ]
    },
    {
     "name": "stdout",
     "output_type": "stream",
     "text": [
      "Pacman crashed\n"
     ]
    },
    {
     "name": "stderr",
     "output_type": "stream",
     "text": [
      "Agent 0 ran out of time! (time: 1.02)\n"
     ]
    },
    {
     "name": "stdout",
     "output_type": "stream",
     "text": [
      "Pacman crashed\n"
     ]
    },
    {
     "name": "stderr",
     "output_type": "stream",
     "text": [
      "Agent 0 ran out of time! (time: 1.02)\n"
     ]
    },
    {
     "name": "stdout",
     "output_type": "stream",
     "text": [
      "Pacman crashed\n"
     ]
    },
    {
     "name": "stderr",
     "output_type": "stream",
     "text": [
      "Agent 0 ran out of time! (time: 1.02)\n"
     ]
    },
    {
     "name": "stdout",
     "output_type": "stream",
     "text": [
      "Pacman crashed\n"
     ]
    },
    {
     "name": "stderr",
     "output_type": "stream",
     "text": [
      "Agent 0 ran out of time! (time: 1.02)\n"
     ]
    },
    {
     "name": "stdout",
     "output_type": "stream",
     "text": [
      "Pacman crashed\n"
     ]
    },
    {
     "name": "stderr",
     "output_type": "stream",
     "text": [
      "Agent 0 ran out of time! (time: 1.02)\n"
     ]
    },
    {
     "name": "stdout",
     "output_type": "stream",
     "text": [
      "Pacman crashed\n"
     ]
    },
    {
     "name": "stderr",
     "output_type": "stream",
     "text": [
      "Agent 0 ran out of time! (time: 1.01)\n"
     ]
    },
    {
     "name": "stdout",
     "output_type": "stream",
     "text": [
      "Pacman crashed\n"
     ]
    },
    {
     "name": "stderr",
     "output_type": "stream",
     "text": [
      "Agent 0 ran out of time! (time: 1.00)\n"
     ]
    },
    {
     "name": "stdout",
     "output_type": "stream",
     "text": [
      "Pacman crashed\n"
     ]
    },
    {
     "name": "stderr",
     "output_type": "stream",
     "text": [
      "Agent 0 ran out of time! (time: 1.00)\n"
     ]
    },
    {
     "name": "stdout",
     "output_type": "stream",
     "text": [
      "Pacman crashed\n"
     ]
    },
    {
     "name": "stderr",
     "output_type": "stream",
     "text": [
      "Agent 0 ran out of time! (time: 1.00)\n"
     ]
    },
    {
     "name": "stdout",
     "output_type": "stream",
     "text": [
      "Pacman crashed\n"
     ]
    },
    {
     "name": "stderr",
     "output_type": "stream",
     "text": [
      "Agent 0 ran out of time! (time: 1.00)\n"
     ]
    },
    {
     "name": "stdout",
     "output_type": "stream",
     "text": [
      "Pacman crashed\n"
     ]
    },
    {
     "name": "stderr",
     "output_type": "stream",
     "text": [
      "Agent 0 ran out of time! (time: 1.00)\n"
     ]
    },
    {
     "name": "stdout",
     "output_type": "stream",
     "text": [
      "Pacman crashed\n"
     ]
    },
    {
     "name": "stderr",
     "output_type": "stream",
     "text": [
      "Agent 0 ran out of time! (time: 1.00)\n"
     ]
    },
    {
     "name": "stdout",
     "output_type": "stream",
     "text": [
      "Pacman crashed\n"
     ]
    },
    {
     "name": "stderr",
     "output_type": "stream",
     "text": [
      "Agent 0 ran out of time! (time: 1.01)\n"
     ]
    },
    {
     "name": "stdout",
     "output_type": "stream",
     "text": [
      "Pacman crashed\n"
     ]
    },
    {
     "name": "stderr",
     "output_type": "stream",
     "text": [
      "Agent 0 ran out of time! (time: 1.01)\n"
     ]
    },
    {
     "name": "stdout",
     "output_type": "stream",
     "text": [
      "Pacman crashed\n"
     ]
    },
    {
     "name": "stderr",
     "output_type": "stream",
     "text": [
      "Agent 0 ran out of time! (time: 1.01)\n"
     ]
    },
    {
     "name": "stdout",
     "output_type": "stream",
     "text": [
      "Pacman crashed\n"
     ]
    },
    {
     "name": "stderr",
     "output_type": "stream",
     "text": [
      "Agent 0 ran out of time! (time: 1.01)\n"
     ]
    },
    {
     "name": "stdout",
     "output_type": "stream",
     "text": [
      "Pacman crashed\n"
     ]
    },
    {
     "name": "stderr",
     "output_type": "stream",
     "text": [
      "Agent 0 ran out of time! (time: 1.00)\n"
     ]
    },
    {
     "name": "stdout",
     "output_type": "stream",
     "text": [
      "Pacman crashed\n"
     ]
    },
    {
     "name": "stderr",
     "output_type": "stream",
     "text": [
      "Agent 0 ran out of time! (time: 1.01)\n"
     ]
    },
    {
     "name": "stdout",
     "output_type": "stream",
     "text": [
      "Pacman crashed\n"
     ]
    },
    {
     "name": "stderr",
     "output_type": "stream",
     "text": [
      "Agent 0 ran out of time! (time: 1.01)\n"
     ]
    },
    {
     "name": "stdout",
     "output_type": "stream",
     "text": [
      "Pacman crashed\n"
     ]
    },
    {
     "name": "stderr",
     "output_type": "stream",
     "text": [
      "Agent 0 ran out of time! (time: 1.00)\n"
     ]
    },
    {
     "name": "stdout",
     "output_type": "stream",
     "text": [
      "Pacman crashed\n"
     ]
    },
    {
     "name": "stderr",
     "output_type": "stream",
     "text": [
      "Agent 0 ran out of time! (time: 1.01)\n"
     ]
    },
    {
     "name": "stdout",
     "output_type": "stream",
     "text": [
      "Pacman crashed\n"
     ]
    },
    {
     "name": "stderr",
     "output_type": "stream",
     "text": [
      "Agent 0 ran out of time! (time: 1.01)\n"
     ]
    },
    {
     "name": "stdout",
     "output_type": "stream",
     "text": [
      "Pacman crashed\n"
     ]
    },
    {
     "name": "stderr",
     "output_type": "stream",
     "text": [
      "Agent 0 ran out of time! (time: 1.00)\n"
     ]
    },
    {
     "name": "stdout",
     "output_type": "stream",
     "text": [
      "Pacman crashed\n"
     ]
    },
    {
     "name": "stderr",
     "output_type": "stream",
     "text": [
      "Agent 0 ran out of time! (time: 1.01)\n"
     ]
    },
    {
     "name": "stdout",
     "output_type": "stream",
     "text": [
      "Pacman crashed\n"
     ]
    },
    {
     "name": "stderr",
     "output_type": "stream",
     "text": [
      "Agent 0 ran out of time! (time: 1.01)\n"
     ]
    },
    {
     "name": "stdout",
     "output_type": "stream",
     "text": [
      "Pacman crashed\n"
     ]
    },
    {
     "name": "stderr",
     "output_type": "stream",
     "text": [
      "Agent 0 ran out of time! (time: 1.01)\n"
     ]
    },
    {
     "name": "stdout",
     "output_type": "stream",
     "text": [
      "Pacman crashed\n"
     ]
    },
    {
     "name": "stderr",
     "output_type": "stream",
     "text": [
      "Agent 0 ran out of time! (time: 1.00)\n"
     ]
    },
    {
     "name": "stdout",
     "output_type": "stream",
     "text": [
      "Pacman crashed\n"
     ]
    },
    {
     "name": "stderr",
     "output_type": "stream",
     "text": [
      "Agent 0 ran out of time! (time: 1.00)\n"
     ]
    },
    {
     "name": "stdout",
     "output_type": "stream",
     "text": [
      "Pacman crashed\n"
     ]
    },
    {
     "name": "stderr",
     "output_type": "stream",
     "text": [
      "Agent 0 ran out of time! (time: 1.01)\n"
     ]
    },
    {
     "name": "stdout",
     "output_type": "stream",
     "text": [
      "Pacman crashed\n"
     ]
    },
    {
     "name": "stderr",
     "output_type": "stream",
     "text": [
      "Agent 0 ran out of time! (time: 1.01)\n"
     ]
    },
    {
     "name": "stdout",
     "output_type": "stream",
     "text": [
      "Pacman crashed\n"
     ]
    },
    {
     "name": "stderr",
     "output_type": "stream",
     "text": [
      "Agent 0 ran out of time! (time: 1.01)\n"
     ]
    },
    {
     "name": "stdout",
     "output_type": "stream",
     "text": [
      "Pacman crashed\n"
     ]
    },
    {
     "name": "stderr",
     "output_type": "stream",
     "text": [
      "Agent 0 ran out of time! (time: 1.01)\n"
     ]
    },
    {
     "name": "stdout",
     "output_type": "stream",
     "text": [
      "Pacman crashed\n"
     ]
    },
    {
     "name": "stderr",
     "output_type": "stream",
     "text": [
      "Agent 0 ran out of time! (time: 1.01)\n"
     ]
    },
    {
     "name": "stdout",
     "output_type": "stream",
     "text": [
      "Pacman crashed\n"
     ]
    },
    {
     "name": "stderr",
     "output_type": "stream",
     "text": [
      "Agent 0 ran out of time! (time: 1.01)\n"
     ]
    },
    {
     "name": "stdout",
     "output_type": "stream",
     "text": [
      "Pacman crashed\n"
     ]
    },
    {
     "name": "stderr",
     "output_type": "stream",
     "text": [
      "Agent 0 ran out of time! (time: 1.00)\n"
     ]
    },
    {
     "name": "stdout",
     "output_type": "stream",
     "text": [
      "Pacman crashed\n"
     ]
    },
    {
     "name": "stderr",
     "output_type": "stream",
     "text": [
      "Agent 0 ran out of time! (time: 1.01)\n"
     ]
    },
    {
     "name": "stdout",
     "output_type": "stream",
     "text": [
      "Pacman crashed\n"
     ]
    },
    {
     "name": "stderr",
     "output_type": "stream",
     "text": [
      "Agent 0 ran out of time! (time: 1.00)\n"
     ]
    },
    {
     "name": "stdout",
     "output_type": "stream",
     "text": [
      "Pacman crashed\n"
     ]
    },
    {
     "name": "stderr",
     "output_type": "stream",
     "text": [
      "Agent 0 ran out of time! (time: 1.01)\n"
     ]
    },
    {
     "name": "stdout",
     "output_type": "stream",
     "text": [
      "Pacman crashed\n"
     ]
    },
    {
     "name": "stderr",
     "output_type": "stream",
     "text": [
      "Agent 0 ran out of time! (time: 1.01)\n"
     ]
    },
    {
     "name": "stdout",
     "output_type": "stream",
     "text": [
      "Pacman crashed\n"
     ]
    },
    {
     "name": "stderr",
     "output_type": "stream",
     "text": [
      "Agent 0 ran out of time! (time: 1.01)\n"
     ]
    },
    {
     "name": "stdout",
     "output_type": "stream",
     "text": [
      "Pacman crashed\n"
     ]
    },
    {
     "name": "stderr",
     "output_type": "stream",
     "text": [
      "Agent 0 ran out of time! (time: 1.01)\n"
     ]
    },
    {
     "name": "stdout",
     "output_type": "stream",
     "text": [
      "Pacman crashed\n"
     ]
    },
    {
     "name": "stderr",
     "output_type": "stream",
     "text": [
      "Agent 0 ran out of time! (time: 1.01)\n"
     ]
    },
    {
     "name": "stdout",
     "output_type": "stream",
     "text": [
      "Pacman crashed\n"
     ]
    },
    {
     "name": "stderr",
     "output_type": "stream",
     "text": [
      "Agent 0 ran out of time! (time: 1.01)\n"
     ]
    },
    {
     "name": "stdout",
     "output_type": "stream",
     "text": [
      "Pacman crashed\n"
     ]
    },
    {
     "name": "stderr",
     "output_type": "stream",
     "text": [
      "Agent 0 ran out of time! (time: 1.01)\n"
     ]
    },
    {
     "name": "stdout",
     "output_type": "stream",
     "text": [
      "Pacman crashed\n"
     ]
    },
    {
     "name": "stderr",
     "output_type": "stream",
     "text": [
      "Agent 0 ran out of time! (time: 1.01)\n"
     ]
    },
    {
     "name": "stdout",
     "output_type": "stream",
     "text": [
      "Pacman crashed\n"
     ]
    },
    {
     "name": "stderr",
     "output_type": "stream",
     "text": [
      "Agent 0 ran out of time! (time: 1.01)\n"
     ]
    },
    {
     "name": "stdout",
     "output_type": "stream",
     "text": [
      "Pacman crashed\n"
     ]
    },
    {
     "name": "stderr",
     "output_type": "stream",
     "text": [
      "Agent 0 ran out of time! (time: 1.00)\n"
     ]
    },
    {
     "name": "stdout",
     "output_type": "stream",
     "text": [
      "Pacman crashed\n"
     ]
    },
    {
     "name": "stderr",
     "output_type": "stream",
     "text": [
      "Agent 0 ran out of time! (time: 1.01)\n"
     ]
    },
    {
     "name": "stdout",
     "output_type": "stream",
     "text": [
      "Pacman crashed\n"
     ]
    },
    {
     "name": "stderr",
     "output_type": "stream",
     "text": [
      "Agent 0 ran out of time! (time: 1.00)\n"
     ]
    },
    {
     "name": "stdout",
     "output_type": "stream",
     "text": [
      "Pacman crashed\n"
     ]
    },
    {
     "name": "stderr",
     "output_type": "stream",
     "text": [
      "Agent 0 ran out of time! (time: 1.00)\n"
     ]
    },
    {
     "name": "stdout",
     "output_type": "stream",
     "text": [
      "Pacman crashed\n"
     ]
    },
    {
     "name": "stderr",
     "output_type": "stream",
     "text": [
      "Agent 0 ran out of time! (time: 1.01)\n"
     ]
    },
    {
     "name": "stdout",
     "output_type": "stream",
     "text": [
      "Pacman crashed\n"
     ]
    },
    {
     "name": "stderr",
     "output_type": "stream",
     "text": [
      "Agent 0 ran out of time! (time: 1.01)\n"
     ]
    },
    {
     "name": "stdout",
     "output_type": "stream",
     "text": [
      "Pacman crashed\n"
     ]
    },
    {
     "name": "stderr",
     "output_type": "stream",
     "text": [
      "Agent 0 ran out of time! (time: 1.01)\n"
     ]
    },
    {
     "name": "stdout",
     "output_type": "stream",
     "text": [
      "Pacman crashed\n"
     ]
    },
    {
     "name": "stderr",
     "output_type": "stream",
     "text": [
      "Agent 0 ran out of time! (time: 1.00)\n"
     ]
    },
    {
     "name": "stdout",
     "output_type": "stream",
     "text": [
      "Pacman crashed\n"
     ]
    },
    {
     "name": "stderr",
     "output_type": "stream",
     "text": [
      "Agent 0 ran out of time! (time: 1.02)\n"
     ]
    },
    {
     "name": "stdout",
     "output_type": "stream",
     "text": [
      "Pacman crashed\n"
     ]
    },
    {
     "name": "stderr",
     "output_type": "stream",
     "text": [
      "Agent 0 ran out of time! (time: 1.01)\n"
     ]
    },
    {
     "name": "stdout",
     "output_type": "stream",
     "text": [
      "Pacman crashed\n"
     ]
    },
    {
     "name": "stderr",
     "output_type": "stream",
     "text": [
      "Agent 0 ran out of time! (time: 1.01)\n"
     ]
    },
    {
     "name": "stdout",
     "output_type": "stream",
     "text": [
      "Pacman crashed\n"
     ]
    },
    {
     "name": "stderr",
     "output_type": "stream",
     "text": [
      "Agent 0 ran out of time! (time: 1.01)\n"
     ]
    },
    {
     "name": "stdout",
     "output_type": "stream",
     "text": [
      "Pacman crashed\n"
     ]
    },
    {
     "name": "stderr",
     "output_type": "stream",
     "text": [
      "Agent 0 ran out of time! (time: 1.02)\n"
     ]
    },
    {
     "name": "stdout",
     "output_type": "stream",
     "text": [
      "Pacman crashed\n"
     ]
    },
    {
     "name": "stderr",
     "output_type": "stream",
     "text": [
      "Agent 0 ran out of time! (time: 1.02)\n"
     ]
    },
    {
     "name": "stdout",
     "output_type": "stream",
     "text": [
      "Pacman crashed\n"
     ]
    },
    {
     "name": "stderr",
     "output_type": "stream",
     "text": [
      "Agent 0 ran out of time! (time: 1.01)\n"
     ]
    },
    {
     "name": "stdout",
     "output_type": "stream",
     "text": [
      "Pacman crashed\n"
     ]
    },
    {
     "name": "stderr",
     "output_type": "stream",
     "text": [
      "Agent 0 ran out of time! (time: 1.01)\n"
     ]
    },
    {
     "name": "stdout",
     "output_type": "stream",
     "text": [
      "Pacman crashed\n"
     ]
    },
    {
     "name": "stderr",
     "output_type": "stream",
     "text": [
      "Agent 0 ran out of time! (time: 1.00)\n"
     ]
    },
    {
     "name": "stdout",
     "output_type": "stream",
     "text": [
      "Pacman crashed\n"
     ]
    },
    {
     "name": "stderr",
     "output_type": "stream",
     "text": [
      "Agent 0 ran out of time! (time: 1.00)\n"
     ]
    },
    {
     "name": "stdout",
     "output_type": "stream",
     "text": [
      "Pacman crashed\n"
     ]
    },
    {
     "name": "stderr",
     "output_type": "stream",
     "text": [
      "Agent 0 ran out of time! (time: 1.00)\n"
     ]
    },
    {
     "name": "stdout",
     "output_type": "stream",
     "text": [
      "Pacman crashed\n"
     ]
    },
    {
     "name": "stderr",
     "output_type": "stream",
     "text": [
      "Agent 0 ran out of time! (time: 1.01)\n"
     ]
    },
    {
     "name": "stdout",
     "output_type": "stream",
     "text": [
      "Pacman crashed\n"
     ]
    },
    {
     "name": "stderr",
     "output_type": "stream",
     "text": [
      "Agent 0 ran out of time! (time: 1.00)\n"
     ]
    },
    {
     "name": "stdout",
     "output_type": "stream",
     "text": [
      "Pacman crashed\n"
     ]
    },
    {
     "name": "stderr",
     "output_type": "stream",
     "text": [
      "Agent 0 ran out of time! (time: 1.00)\n"
     ]
    },
    {
     "name": "stdout",
     "output_type": "stream",
     "text": [
      "Pacman crashed\n"
     ]
    },
    {
     "name": "stderr",
     "output_type": "stream",
     "text": [
      "Agent 0 ran out of time! (time: 1.00)\n"
     ]
    },
    {
     "name": "stdout",
     "output_type": "stream",
     "text": [
      "Pacman crashed\n"
     ]
    },
    {
     "name": "stderr",
     "output_type": "stream",
     "text": [
      "Agent 0 ran out of time! (time: 1.00)\n"
     ]
    },
    {
     "name": "stdout",
     "output_type": "stream",
     "text": [
      "Pacman crashed\n"
     ]
    },
    {
     "name": "stderr",
     "output_type": "stream",
     "text": [
      "Agent 0 ran out of time! (time: 1.00)\n"
     ]
    },
    {
     "name": "stdout",
     "output_type": "stream",
     "text": [
      "Pacman crashed\n"
     ]
    },
    {
     "name": "stderr",
     "output_type": "stream",
     "text": [
      "Agent 0 ran out of time! (time: 1.00)\n"
     ]
    },
    {
     "name": "stdout",
     "output_type": "stream",
     "text": [
      "Pacman crashed\n"
     ]
    },
    {
     "name": "stderr",
     "output_type": "stream",
     "text": [
      "Agent 0 ran out of time! (time: 1.01)\n"
     ]
    },
    {
     "name": "stdout",
     "output_type": "stream",
     "text": [
      "Pacman crashed\n"
     ]
    },
    {
     "name": "stderr",
     "output_type": "stream",
     "text": [
      "Agent 0 ran out of time! (time: 1.00)\n"
     ]
    },
    {
     "name": "stdout",
     "output_type": "stream",
     "text": [
      "Pacman crashed\n"
     ]
    },
    {
     "name": "stderr",
     "output_type": "stream",
     "text": [
      "Agent 0 ran out of time! (time: 1.00)\n"
     ]
    },
    {
     "name": "stdout",
     "output_type": "stream",
     "text": [
      "Pacman crashed\n"
     ]
    },
    {
     "name": "stderr",
     "output_type": "stream",
     "text": [
      "Agent 0 ran out of time! (time: 1.01)\n"
     ]
    },
    {
     "name": "stdout",
     "output_type": "stream",
     "text": [
      "Pacman crashed\n"
     ]
    },
    {
     "name": "stderr",
     "output_type": "stream",
     "text": [
      "Agent 0 ran out of time! (time: 1.01)\n"
     ]
    },
    {
     "name": "stdout",
     "output_type": "stream",
     "text": [
      "Pacman crashed\n"
     ]
    },
    {
     "name": "stderr",
     "output_type": "stream",
     "text": [
      "Agent 0 ran out of time! (time: 1.00)\n"
     ]
    },
    {
     "name": "stdout",
     "output_type": "stream",
     "text": [
      "Pacman crashed\n"
     ]
    },
    {
     "name": "stderr",
     "output_type": "stream",
     "text": [
      "Agent 0 ran out of time! (time: 1.00)\n"
     ]
    },
    {
     "name": "stdout",
     "output_type": "stream",
     "text": [
      "Pacman crashed\n"
     ]
    },
    {
     "name": "stderr",
     "output_type": "stream",
     "text": [
      "Agent 0 ran out of time! (time: 1.00)\n"
     ]
    },
    {
     "name": "stdout",
     "output_type": "stream",
     "text": [
      "Pacman crashed\n"
     ]
    },
    {
     "name": "stderr",
     "output_type": "stream",
     "text": [
      "Agent 0 ran out of time! (time: 1.01)\n"
     ]
    },
    {
     "name": "stdout",
     "output_type": "stream",
     "text": [
      "Pacman crashed\n"
     ]
    },
    {
     "name": "stderr",
     "output_type": "stream",
     "text": [
      "Agent 0 ran out of time! (time: 1.01)\n"
     ]
    },
    {
     "name": "stdout",
     "output_type": "stream",
     "text": [
      "Pacman crashed\n"
     ]
    },
    {
     "name": "stderr",
     "output_type": "stream",
     "text": [
      "Agent 0 ran out of time! (time: 1.00)\n"
     ]
    },
    {
     "name": "stdout",
     "output_type": "stream",
     "text": [
      "Pacman crashed\n"
     ]
    },
    {
     "name": "stderr",
     "output_type": "stream",
     "text": [
      "Agent 0 ran out of time! (time: 1.00)\n"
     ]
    },
    {
     "name": "stdout",
     "output_type": "stream",
     "text": [
      "Pacman crashed\n"
     ]
    },
    {
     "name": "stderr",
     "output_type": "stream",
     "text": [
      "Agent 0 ran out of time! (time: 1.01)\n"
     ]
    },
    {
     "name": "stdout",
     "output_type": "stream",
     "text": [
      "Pacman crashed\n"
     ]
    },
    {
     "name": "stderr",
     "output_type": "stream",
     "text": [
      "Agent 0 ran out of time! (time: 1.01)\n"
     ]
    },
    {
     "name": "stdout",
     "output_type": "stream",
     "text": [
      "Pacman crashed\n"
     ]
    },
    {
     "name": "stderr",
     "output_type": "stream",
     "text": [
      "Agent 0 ran out of time! (time: 1.00)\n"
     ]
    },
    {
     "name": "stdout",
     "output_type": "stream",
     "text": [
      "Pacman crashed\n"
     ]
    },
    {
     "name": "stderr",
     "output_type": "stream",
     "text": [
      "Agent 0 ran out of time! (time: 1.00)\n"
     ]
    },
    {
     "name": "stdout",
     "output_type": "stream",
     "text": [
      "Pacman crashed\n"
     ]
    },
    {
     "name": "stderr",
     "output_type": "stream",
     "text": [
      "Agent 0 ran out of time! (time: 1.00)\n"
     ]
    },
    {
     "name": "stdout",
     "output_type": "stream",
     "text": [
      "Pacman crashed\n"
     ]
    },
    {
     "name": "stderr",
     "output_type": "stream",
     "text": [
      "Agent 0 ran out of time! (time: 1.01)\n"
     ]
    },
    {
     "name": "stdout",
     "output_type": "stream",
     "text": [
      "Pacman emerges victorious! Score: 989\n",
      "Pacman crashed\n"
     ]
    },
    {
     "name": "stderr",
     "output_type": "stream",
     "text": [
      "Agent 0 ran out of time! (time: 1.01)\n"
     ]
    },
    {
     "name": "stdout",
     "output_type": "stream",
     "text": [
      "Pacman crashed\n"
     ]
    },
    {
     "name": "stderr",
     "output_type": "stream",
     "text": [
      "Agent 0 ran out of time! (time: 1.01)\n"
     ]
    },
    {
     "name": "stdout",
     "output_type": "stream",
     "text": [
      "Pacman crashed\n"
     ]
    },
    {
     "name": "stderr",
     "output_type": "stream",
     "text": [
      "Agent 0 ran out of time! (time: 1.01)\n"
     ]
    },
    {
     "name": "stdout",
     "output_type": "stream",
     "text": [
      "Pacman crashed\n"
     ]
    },
    {
     "name": "stderr",
     "output_type": "stream",
     "text": [
      "Agent 0 ran out of time! (time: 1.01)\n"
     ]
    },
    {
     "name": "stdout",
     "output_type": "stream",
     "text": [
      "Pacman crashed\n",
      "Pacman emerges victorious! Score: 982\n"
     ]
    },
    {
     "name": "stderr",
     "output_type": "stream",
     "text": [
      "Agent 0 ran out of time! (time: 1.01)\n"
     ]
    },
    {
     "name": "stdout",
     "output_type": "stream",
     "text": [
      "Pacman crashed\n"
     ]
    },
    {
     "name": "stderr",
     "output_type": "stream",
     "text": [
      "Agent 0 ran out of time! (time: 1.01)\n"
     ]
    },
    {
     "name": "stdout",
     "output_type": "stream",
     "text": [
      "Pacman crashed\n"
     ]
    },
    {
     "name": "stderr",
     "output_type": "stream",
     "text": [
      "Agent 0 ran out of time! (time: 1.00)\n"
     ]
    },
    {
     "name": "stdout",
     "output_type": "stream",
     "text": [
      "Pacman crashed\n"
     ]
    },
    {
     "name": "stderr",
     "output_type": "stream",
     "text": [
      "Agent 0 ran out of time! (time: 1.01)\n"
     ]
    },
    {
     "name": "stdout",
     "output_type": "stream",
     "text": [
      "Pacman crashed\n"
     ]
    },
    {
     "name": "stderr",
     "output_type": "stream",
     "text": [
      "Agent 0 ran out of time! (time: 1.01)\n"
     ]
    },
    {
     "name": "stdout",
     "output_type": "stream",
     "text": [
      "Pacman crashed\n"
     ]
    },
    {
     "name": "stderr",
     "output_type": "stream",
     "text": [
      "Agent 0 ran out of time! (time: 1.01)\n"
     ]
    },
    {
     "name": "stdout",
     "output_type": "stream",
     "text": [
      "Pacman crashed\n"
     ]
    },
    {
     "name": "stderr",
     "output_type": "stream",
     "text": [
      "Agent 0 ran out of time! (time: 1.00)\n"
     ]
    },
    {
     "name": "stdout",
     "output_type": "stream",
     "text": [
      "Pacman crashed\n"
     ]
    },
    {
     "name": "stderr",
     "output_type": "stream",
     "text": [
      "Agent 0 ran out of time! (time: 1.01)\n"
     ]
    },
    {
     "name": "stdout",
     "output_type": "stream",
     "text": [
      "Pacman crashed\n"
     ]
    },
    {
     "name": "stderr",
     "output_type": "stream",
     "text": [
      "Agent 0 ran out of time! (time: 1.01)\n"
     ]
    },
    {
     "name": "stdout",
     "output_type": "stream",
     "text": [
      "Pacman crashed\n"
     ]
    },
    {
     "name": "stderr",
     "output_type": "stream",
     "text": [
      "Agent 0 ran out of time! (time: 1.01)\n"
     ]
    },
    {
     "name": "stdout",
     "output_type": "stream",
     "text": [
      "Pacman crashed\n"
     ]
    },
    {
     "name": "stderr",
     "output_type": "stream",
     "text": [
      "Agent 0 ran out of time! (time: 1.01)\n"
     ]
    },
    {
     "name": "stdout",
     "output_type": "stream",
     "text": [
      "Pacman crashed\n"
     ]
    },
    {
     "name": "stderr",
     "output_type": "stream",
     "text": [
      "Agent 0 ran out of time! (time: 1.02)\n"
     ]
    },
    {
     "name": "stdout",
     "output_type": "stream",
     "text": [
      "Pacman crashed\n"
     ]
    },
    {
     "name": "stderr",
     "output_type": "stream",
     "text": [
      "Agent 0 ran out of time! (time: 1.01)\n"
     ]
    },
    {
     "name": "stdout",
     "output_type": "stream",
     "text": [
      "Pacman crashed\n"
     ]
    },
    {
     "name": "stderr",
     "output_type": "stream",
     "text": [
      "Agent 0 ran out of time! (time: 1.01)\n"
     ]
    },
    {
     "name": "stdout",
     "output_type": "stream",
     "text": [
      "Pacman crashed\n"
     ]
    },
    {
     "name": "stderr",
     "output_type": "stream",
     "text": [
      "Agent 0 ran out of time! (time: 1.00)\n"
     ]
    },
    {
     "name": "stdout",
     "output_type": "stream",
     "text": [
      "Pacman crashed\n"
     ]
    },
    {
     "name": "stderr",
     "output_type": "stream",
     "text": [
      "Agent 0 ran out of time! (time: 1.01)\n"
     ]
    },
    {
     "name": "stdout",
     "output_type": "stream",
     "text": [
      "Pacman crashed\n"
     ]
    },
    {
     "name": "stderr",
     "output_type": "stream",
     "text": [
      "Agent 0 ran out of time! (time: 1.00)\n"
     ]
    },
    {
     "name": "stdout",
     "output_type": "stream",
     "text": [
      "Pacman crashed\n"
     ]
    },
    {
     "name": "stderr",
     "output_type": "stream",
     "text": [
      "Agent 0 ran out of time! (time: 1.01)\n"
     ]
    },
    {
     "name": "stdout",
     "output_type": "stream",
     "text": [
      "Pacman crashed\n"
     ]
    },
    {
     "name": "stderr",
     "output_type": "stream",
     "text": [
      "Agent 0 ran out of time! (time: 1.01)\n"
     ]
    },
    {
     "name": "stdout",
     "output_type": "stream",
     "text": [
      "Pacman crashed\n",
      "Pacman emerges victorious! Score: 984\n"
     ]
    },
    {
     "name": "stderr",
     "output_type": "stream",
     "text": [
      "Agent 0 ran out of time! (time: 1.01)\n"
     ]
    },
    {
     "name": "stdout",
     "output_type": "stream",
     "text": [
      "Pacman crashed\n"
     ]
    },
    {
     "name": "stderr",
     "output_type": "stream",
     "text": [
      "Agent 0 ran out of time! (time: 1.01)\n"
     ]
    },
    {
     "name": "stdout",
     "output_type": "stream",
     "text": [
      "Pacman crashed\n"
     ]
    },
    {
     "name": "stderr",
     "output_type": "stream",
     "text": [
      "Agent 0 ran out of time! (time: 1.01)\n"
     ]
    },
    {
     "name": "stdout",
     "output_type": "stream",
     "text": [
      "Pacman crashed\n"
     ]
    },
    {
     "name": "stderr",
     "output_type": "stream",
     "text": [
      "Agent 0 ran out of time! (time: 1.02)\n"
     ]
    },
    {
     "name": "stdout",
     "output_type": "stream",
     "text": [
      "Pacman crashed\n"
     ]
    },
    {
     "name": "stderr",
     "output_type": "stream",
     "text": [
      "Agent 0 ran out of time! (time: 1.00)\n"
     ]
    },
    {
     "name": "stdout",
     "output_type": "stream",
     "text": [
      "Pacman crashed\n"
     ]
    },
    {
     "name": "stderr",
     "output_type": "stream",
     "text": [
      "Agent 0 ran out of time! (time: 1.01)\n"
     ]
    },
    {
     "name": "stdout",
     "output_type": "stream",
     "text": [
      "Pacman crashed\n"
     ]
    },
    {
     "name": "stderr",
     "output_type": "stream",
     "text": [
      "Agent 0 ran out of time! (time: 1.01)\n"
     ]
    },
    {
     "name": "stdout",
     "output_type": "stream",
     "text": [
      "Pacman crashed\n"
     ]
    },
    {
     "name": "stderr",
     "output_type": "stream",
     "text": [
      "Agent 0 ran out of time! (time: 1.00)\n"
     ]
    },
    {
     "name": "stdout",
     "output_type": "stream",
     "text": [
      "Pacman crashed\n"
     ]
    },
    {
     "name": "stderr",
     "output_type": "stream",
     "text": [
      "Agent 0 ran out of time! (time: 1.01)\n"
     ]
    },
    {
     "name": "stdout",
     "output_type": "stream",
     "text": [
      "Pacman crashed\n"
     ]
    },
    {
     "name": "stderr",
     "output_type": "stream",
     "text": [
      "Agent 0 ran out of time! (time: 1.01)\n"
     ]
    },
    {
     "name": "stdout",
     "output_type": "stream",
     "text": [
      "Pacman crashed\n"
     ]
    },
    {
     "name": "stderr",
     "output_type": "stream",
     "text": [
      "Agent 0 ran out of time! (time: 1.01)\n"
     ]
    },
    {
     "name": "stdout",
     "output_type": "stream",
     "text": [
      "Pacman crashed\n"
     ]
    },
    {
     "name": "stderr",
     "output_type": "stream",
     "text": [
      "Agent 0 ran out of time! (time: 1.01)\n"
     ]
    },
    {
     "name": "stdout",
     "output_type": "stream",
     "text": [
      "Pacman crashed\n"
     ]
    },
    {
     "name": "stderr",
     "output_type": "stream",
     "text": [
      "Agent 0 ran out of time! (time: 1.00)\n"
     ]
    },
    {
     "name": "stdout",
     "output_type": "stream",
     "text": [
      "Pacman crashed\n"
     ]
    },
    {
     "name": "stderr",
     "output_type": "stream",
     "text": [
      "Agent 0 ran out of time! (time: 1.00)\n"
     ]
    },
    {
     "name": "stdout",
     "output_type": "stream",
     "text": [
      "Pacman crashed\n"
     ]
    },
    {
     "name": "stderr",
     "output_type": "stream",
     "text": [
      "Agent 0 ran out of time! (time: 1.01)\n"
     ]
    },
    {
     "name": "stdout",
     "output_type": "stream",
     "text": [
      "Pacman crashed\n"
     ]
    },
    {
     "name": "stderr",
     "output_type": "stream",
     "text": [
      "Agent 0 ran out of time! (time: 1.01)\n"
     ]
    },
    {
     "name": "stdout",
     "output_type": "stream",
     "text": [
      "Pacman crashed\n"
     ]
    },
    {
     "name": "stderr",
     "output_type": "stream",
     "text": [
      "Agent 0 ran out of time! (time: 1.00)\n"
     ]
    },
    {
     "name": "stdout",
     "output_type": "stream",
     "text": [
      "Pacman crashed\n"
     ]
    },
    {
     "name": "stderr",
     "output_type": "stream",
     "text": [
      "Agent 0 ran out of time! (time: 1.01)\n"
     ]
    },
    {
     "name": "stdout",
     "output_type": "stream",
     "text": [
      "Pacman crashed\n"
     ]
    },
    {
     "name": "stderr",
     "output_type": "stream",
     "text": [
      "Agent 0 ran out of time! (time: 1.00)\n"
     ]
    },
    {
     "name": "stdout",
     "output_type": "stream",
     "text": [
      "Pacman crashed\n"
     ]
    },
    {
     "name": "stderr",
     "output_type": "stream",
     "text": [
      "Agent 0 ran out of time! (time: 1.01)\n"
     ]
    },
    {
     "name": "stdout",
     "output_type": "stream",
     "text": [
      "Pacman crashed\n"
     ]
    },
    {
     "name": "stderr",
     "output_type": "stream",
     "text": [
      "Agent 0 ran out of time! (time: 1.00)\n"
     ]
    },
    {
     "name": "stdout",
     "output_type": "stream",
     "text": [
      "Pacman crashed\n"
     ]
    },
    {
     "name": "stderr",
     "output_type": "stream",
     "text": [
      "Agent 0 ran out of time! (time: 1.00)\n"
     ]
    },
    {
     "name": "stdout",
     "output_type": "stream",
     "text": [
      "Pacman crashed\n"
     ]
    },
    {
     "name": "stderr",
     "output_type": "stream",
     "text": [
      "Agent 0 ran out of time! (time: 1.01)\n"
     ]
    },
    {
     "name": "stdout",
     "output_type": "stream",
     "text": [
      "Pacman crashed\n"
     ]
    },
    {
     "name": "stderr",
     "output_type": "stream",
     "text": [
      "Agent 0 ran out of time! (time: 1.01)\n"
     ]
    },
    {
     "name": "stdout",
     "output_type": "stream",
     "text": [
      "Pacman crashed\n",
      "Pacman emerges victorious! Score: 987\n"
     ]
    },
    {
     "name": "stderr",
     "output_type": "stream",
     "text": [
      "Agent 0 ran out of time! (time: 1.00)\n"
     ]
    },
    {
     "name": "stdout",
     "output_type": "stream",
     "text": [
      "Pacman crashed\n"
     ]
    },
    {
     "name": "stderr",
     "output_type": "stream",
     "text": [
      "Agent 0 ran out of time! (time: 1.01)\n"
     ]
    },
    {
     "name": "stdout",
     "output_type": "stream",
     "text": [
      "Pacman crashed\n"
     ]
    },
    {
     "name": "stderr",
     "output_type": "stream",
     "text": [
      "Agent 0 ran out of time! (time: 1.02)\n"
     ]
    },
    {
     "name": "stdout",
     "output_type": "stream",
     "text": [
      "Pacman crashed\n"
     ]
    },
    {
     "name": "stderr",
     "output_type": "stream",
     "text": [
      "Agent 0 ran out of time! (time: 1.01)\n"
     ]
    },
    {
     "name": "stdout",
     "output_type": "stream",
     "text": [
      "Pacman crashed\n"
     ]
    },
    {
     "name": "stderr",
     "output_type": "stream",
     "text": [
      "Agent 0 ran out of time! (time: 1.02)\n"
     ]
    },
    {
     "name": "stdout",
     "output_type": "stream",
     "text": [
      "Pacman crashed\n"
     ]
    },
    {
     "name": "stderr",
     "output_type": "stream",
     "text": [
      "Agent 0 ran out of time! (time: 1.01)\n"
     ]
    },
    {
     "name": "stdout",
     "output_type": "stream",
     "text": [
      "Pacman crashed\n"
     ]
    },
    {
     "name": "stderr",
     "output_type": "stream",
     "text": [
      "Agent 0 ran out of time! (time: 1.01)\n"
     ]
    },
    {
     "name": "stdout",
     "output_type": "stream",
     "text": [
      "Pacman crashed\n"
     ]
    },
    {
     "name": "stderr",
     "output_type": "stream",
     "text": [
      "Agent 0 ran out of time! (time: 1.01)\n"
     ]
    },
    {
     "name": "stdout",
     "output_type": "stream",
     "text": [
      "Pacman crashed\n"
     ]
    },
    {
     "name": "stderr",
     "output_type": "stream",
     "text": [
      "Agent 0 ran out of time! (time: 1.00)\n"
     ]
    },
    {
     "name": "stdout",
     "output_type": "stream",
     "text": [
      "Pacman crashed\n"
     ]
    },
    {
     "name": "stderr",
     "output_type": "stream",
     "text": [
      "Agent 0 ran out of time! (time: 1.00)\n"
     ]
    },
    {
     "name": "stdout",
     "output_type": "stream",
     "text": [
      "Pacman crashed\n"
     ]
    },
    {
     "name": "stderr",
     "output_type": "stream",
     "text": [
      "Agent 0 ran out of time! (time: 1.01)\n"
     ]
    },
    {
     "name": "stdout",
     "output_type": "stream",
     "text": [
      "Pacman crashed\n"
     ]
    },
    {
     "name": "stderr",
     "output_type": "stream",
     "text": [
      "Agent 0 ran out of time! (time: 1.01)\n"
     ]
    },
    {
     "name": "stdout",
     "output_type": "stream",
     "text": [
      "Pacman crashed\n"
     ]
    },
    {
     "name": "stderr",
     "output_type": "stream",
     "text": [
      "Agent 0 ran out of time! (time: 1.01)\n"
     ]
    },
    {
     "name": "stdout",
     "output_type": "stream",
     "text": [
      "Pacman crashed\n"
     ]
    },
    {
     "name": "stderr",
     "output_type": "stream",
     "text": [
      "Agent 0 ran out of time! (time: 1.01)\n"
     ]
    },
    {
     "name": "stdout",
     "output_type": "stream",
     "text": [
      "Pacman crashed\n"
     ]
    },
    {
     "name": "stderr",
     "output_type": "stream",
     "text": [
      "Agent 0 ran out of time! (time: 1.01)\n"
     ]
    },
    {
     "name": "stdout",
     "output_type": "stream",
     "text": [
      "Pacman crashed\n",
      "Pacman emerges victorious! Score: 982\n"
     ]
    },
    {
     "name": "stderr",
     "output_type": "stream",
     "text": [
      "Agent 0 ran out of time! (time: 1.01)\n"
     ]
    },
    {
     "name": "stdout",
     "output_type": "stream",
     "text": [
      "Pacman crashed\n"
     ]
    },
    {
     "name": "stderr",
     "output_type": "stream",
     "text": [
      "Agent 0 ran out of time! (time: 1.01)\n"
     ]
    },
    {
     "name": "stdout",
     "output_type": "stream",
     "text": [
      "Pacman crashed\n"
     ]
    },
    {
     "name": "stderr",
     "output_type": "stream",
     "text": [
      "Agent 0 ran out of time! (time: 1.00)\n"
     ]
    },
    {
     "name": "stdout",
     "output_type": "stream",
     "text": [
      "Pacman crashed\n"
     ]
    },
    {
     "name": "stderr",
     "output_type": "stream",
     "text": [
      "Agent 0 ran out of time! (time: 1.01)\n"
     ]
    },
    {
     "name": "stdout",
     "output_type": "stream",
     "text": [
      "Pacman crashed\n"
     ]
    },
    {
     "name": "stderr",
     "output_type": "stream",
     "text": [
      "Agent 0 ran out of time! (time: 1.00)\n"
     ]
    },
    {
     "name": "stdout",
     "output_type": "stream",
     "text": [
      "Pacman crashed\n"
     ]
    },
    {
     "name": "stderr",
     "output_type": "stream",
     "text": [
      "Agent 0 ran out of time! (time: 1.00)\n"
     ]
    },
    {
     "name": "stdout",
     "output_type": "stream",
     "text": [
      "Pacman crashed\n",
      "Pacman crashed\n"
     ]
    },
    {
     "name": "stderr",
     "output_type": "stream",
     "text": [
      "Agent 0 ran out of time! (time: 1.00)\n",
      "Agent 0 ran out of time! (time: 1.01)\n"
     ]
    },
    {
     "name": "stdout",
     "output_type": "stream",
     "text": [
      "Pacman crashed\n"
     ]
    },
    {
     "name": "stderr",
     "output_type": "stream",
     "text": [
      "Agent 0 ran out of time! (time: 1.01)\n"
     ]
    },
    {
     "name": "stdout",
     "output_type": "stream",
     "text": [
      "Pacman crashed\n"
     ]
    },
    {
     "name": "stderr",
     "output_type": "stream",
     "text": [
      "Agent 0 ran out of time! (time: 1.01)\n"
     ]
    },
    {
     "name": "stdout",
     "output_type": "stream",
     "text": [
      "Pacman crashed\n"
     ]
    },
    {
     "name": "stderr",
     "output_type": "stream",
     "text": [
      "Agent 0 ran out of time! (time: 1.00)\n"
     ]
    },
    {
     "name": "stdout",
     "output_type": "stream",
     "text": [
      "Pacman crashed\n"
     ]
    },
    {
     "name": "stderr",
     "output_type": "stream",
     "text": [
      "Agent 0 ran out of time! (time: 1.00)\n"
     ]
    },
    {
     "name": "stdout",
     "output_type": "stream",
     "text": [
      "Pacman crashed\n"
     ]
    },
    {
     "name": "stderr",
     "output_type": "stream",
     "text": [
      "Agent 0 ran out of time! (time: 1.00)\n"
     ]
    },
    {
     "name": "stdout",
     "output_type": "stream",
     "text": [
      "Pacman crashed\n"
     ]
    },
    {
     "name": "stderr",
     "output_type": "stream",
     "text": [
      "Agent 0 ran out of time! (time: 1.01)\n"
     ]
    },
    {
     "name": "stdout",
     "output_type": "stream",
     "text": [
      "Pacman crashed\n"
     ]
    },
    {
     "name": "stderr",
     "output_type": "stream",
     "text": [
      "Agent 0 ran out of time! (time: 1.00)\n"
     ]
    },
    {
     "name": "stdout",
     "output_type": "stream",
     "text": [
      "Pacman crashed\n"
     ]
    },
    {
     "name": "stderr",
     "output_type": "stream",
     "text": [
      "Agent 0 ran out of time! (time: 1.01)\n"
     ]
    },
    {
     "name": "stdout",
     "output_type": "stream",
     "text": [
      "Pacman crashed\n"
     ]
    },
    {
     "name": "stderr",
     "output_type": "stream",
     "text": [
      "Agent 0 ran out of time! (time: 1.01)\n"
     ]
    },
    {
     "name": "stdout",
     "output_type": "stream",
     "text": [
      "Pacman crashed\n"
     ]
    },
    {
     "name": "stderr",
     "output_type": "stream",
     "text": [
      "Agent 0 ran out of time! (time: 1.00)\n"
     ]
    },
    {
     "name": "stdout",
     "output_type": "stream",
     "text": [
      "Pacman crashed\n"
     ]
    },
    {
     "name": "stderr",
     "output_type": "stream",
     "text": [
      "Agent 0 ran out of time! (time: 1.01)\n"
     ]
    },
    {
     "name": "stdout",
     "output_type": "stream",
     "text": [
      "Pacman crashed\n"
     ]
    },
    {
     "name": "stderr",
     "output_type": "stream",
     "text": [
      "Agent 0 ran out of time! (time: 1.00)\n"
     ]
    },
    {
     "name": "stdout",
     "output_type": "stream",
     "text": [
      "Pacman crashed\n"
     ]
    },
    {
     "name": "stderr",
     "output_type": "stream",
     "text": [
      "Agent 0 ran out of time! (time: 1.00)\n"
     ]
    },
    {
     "name": "stdout",
     "output_type": "stream",
     "text": [
      "Pacman crashed\n"
     ]
    },
    {
     "name": "stderr",
     "output_type": "stream",
     "text": [
      "Agent 0 ran out of time! (time: 1.00)\n"
     ]
    },
    {
     "name": "stdout",
     "output_type": "stream",
     "text": [
      "Pacman crashed\n"
     ]
    },
    {
     "name": "stderr",
     "output_type": "stream",
     "text": [
      "Agent 0 ran out of time! (time: 1.00)\n"
     ]
    },
    {
     "name": "stdout",
     "output_type": "stream",
     "text": [
      "Pacman crashed\n"
     ]
    },
    {
     "name": "stderr",
     "output_type": "stream",
     "text": [
      "Agent 0 ran out of time! (time: 1.00)\n"
     ]
    },
    {
     "name": "stdout",
     "output_type": "stream",
     "text": [
      "Pacman crashed\n"
     ]
    },
    {
     "name": "stderr",
     "output_type": "stream",
     "text": [
      "Agent 0 ran out of time! (time: 1.00)\n"
     ]
    },
    {
     "name": "stdout",
     "output_type": "stream",
     "text": [
      "Pacman crashed\n"
     ]
    },
    {
     "name": "stderr",
     "output_type": "stream",
     "text": [
      "Agent 0 ran out of time! (time: 1.00)\n"
     ]
    },
    {
     "name": "stdout",
     "output_type": "stream",
     "text": [
      "Pacman crashed\n"
     ]
    },
    {
     "name": "stderr",
     "output_type": "stream",
     "text": [
      "Agent 0 ran out of time! (time: 1.00)\n"
     ]
    },
    {
     "name": "stdout",
     "output_type": "stream",
     "text": [
      "Pacman crashed\n"
     ]
    },
    {
     "name": "stderr",
     "output_type": "stream",
     "text": [
      "Agent 0 ran out of time! (time: 1.01)\n"
     ]
    },
    {
     "name": "stdout",
     "output_type": "stream",
     "text": [
      "Pacman crashed\n"
     ]
    },
    {
     "name": "stderr",
     "output_type": "stream",
     "text": [
      "Agent 0 ran out of time! (time: 1.01)\n"
     ]
    },
    {
     "name": "stdout",
     "output_type": "stream",
     "text": [
      "Pacman crashed\n"
     ]
    },
    {
     "name": "stderr",
     "output_type": "stream",
     "text": [
      "Agent 0 ran out of time! (time: 1.01)\n"
     ]
    },
    {
     "name": "stdout",
     "output_type": "stream",
     "text": [
      "Pacman crashed\n"
     ]
    },
    {
     "name": "stderr",
     "output_type": "stream",
     "text": [
      "Agent 0 ran out of time! (time: 1.01)\n"
     ]
    },
    {
     "name": "stdout",
     "output_type": "stream",
     "text": [
      "Pacman crashed\n"
     ]
    },
    {
     "name": "stderr",
     "output_type": "stream",
     "text": [
      "Agent 0 ran out of time! (time: 1.01)\n"
     ]
    },
    {
     "name": "stdout",
     "output_type": "stream",
     "text": [
      "Pacman crashed\n"
     ]
    },
    {
     "name": "stderr",
     "output_type": "stream",
     "text": [
      "Agent 0 ran out of time! (time: 1.01)\n"
     ]
    },
    {
     "name": "stdout",
     "output_type": "stream",
     "text": [
      "Pacman crashed\n"
     ]
    },
    {
     "name": "stderr",
     "output_type": "stream",
     "text": [
      "Agent 0 ran out of time! (time: 1.01)\n"
     ]
    },
    {
     "name": "stdout",
     "output_type": "stream",
     "text": [
      "Pacman crashed\n",
      "Pacman emerges victorious! Score: 987\n"
     ]
    },
    {
     "name": "stderr",
     "output_type": "stream",
     "text": [
      "Agent 0 ran out of time! (time: 1.01)\n"
     ]
    },
    {
     "name": "stdout",
     "output_type": "stream",
     "text": [
      "Pacman crashed\n"
     ]
    },
    {
     "name": "stderr",
     "output_type": "stream",
     "text": [
      "Agent 0 ran out of time! (time: 1.00)\n"
     ]
    },
    {
     "name": "stdout",
     "output_type": "stream",
     "text": [
      "Pacman crashed\n"
     ]
    },
    {
     "name": "stderr",
     "output_type": "stream",
     "text": [
      "Agent 0 ran out of time! (time: 1.01)\n"
     ]
    },
    {
     "name": "stdout",
     "output_type": "stream",
     "text": [
      "Pacman crashed\n"
     ]
    },
    {
     "name": "stderr",
     "output_type": "stream",
     "text": [
      "Agent 0 ran out of time! (time: 1.00)\n"
     ]
    },
    {
     "name": "stdout",
     "output_type": "stream",
     "text": [
      "Pacman crashed\n"
     ]
    },
    {
     "name": "stderr",
     "output_type": "stream",
     "text": [
      "Agent 0 ran out of time! (time: 1.00)\n"
     ]
    },
    {
     "name": "stdout",
     "output_type": "stream",
     "text": [
      "Pacman emerges victorious! Score: 987\n",
      "Pacman crashed\n"
     ]
    },
    {
     "name": "stderr",
     "output_type": "stream",
     "text": [
      "Agent 0 ran out of time! (time: 1.01)\n"
     ]
    },
    {
     "name": "stdout",
     "output_type": "stream",
     "text": [
      "Pacman crashed\n"
     ]
    },
    {
     "name": "stderr",
     "output_type": "stream",
     "text": [
      "Agent 0 ran out of time! (time: 1.01)\n"
     ]
    },
    {
     "name": "stdout",
     "output_type": "stream",
     "text": [
      "Pacman crashed\n"
     ]
    },
    {
     "name": "stderr",
     "output_type": "stream",
     "text": [
      "Agent 0 ran out of time! (time: 1.02)\n"
     ]
    },
    {
     "name": "stdout",
     "output_type": "stream",
     "text": [
      "Pacman crashed\n"
     ]
    },
    {
     "name": "stderr",
     "output_type": "stream",
     "text": [
      "Agent 0 ran out of time! (time: 1.01)\n"
     ]
    },
    {
     "name": "stdout",
     "output_type": "stream",
     "text": [
      "Pacman crashed\n"
     ]
    },
    {
     "name": "stderr",
     "output_type": "stream",
     "text": [
      "Agent 0 ran out of time! (time: 1.00)\n"
     ]
    },
    {
     "name": "stdout",
     "output_type": "stream",
     "text": [
      "Pacman crashed\n"
     ]
    },
    {
     "name": "stderr",
     "output_type": "stream",
     "text": [
      "Agent 0 ran out of time! (time: 1.01)\n"
     ]
    },
    {
     "name": "stdout",
     "output_type": "stream",
     "text": [
      "Pacman crashed\n"
     ]
    },
    {
     "name": "stderr",
     "output_type": "stream",
     "text": [
      "Agent 0 ran out of time! (time: 1.01)\n"
     ]
    },
    {
     "name": "stdout",
     "output_type": "stream",
     "text": [
      "Pacman crashed\n"
     ]
    },
    {
     "name": "stderr",
     "output_type": "stream",
     "text": [
      "Agent 0 ran out of time! (time: 1.00)\n"
     ]
    },
    {
     "name": "stdout",
     "output_type": "stream",
     "text": [
      "Pacman crashed\n"
     ]
    },
    {
     "name": "stderr",
     "output_type": "stream",
     "text": [
      "Agent 0 ran out of time! (time: 1.00)\n"
     ]
    },
    {
     "name": "stdout",
     "output_type": "stream",
     "text": [
      "Pacman crashed\n"
     ]
    },
    {
     "name": "stderr",
     "output_type": "stream",
     "text": [
      "Agent 0 ran out of time! (time: 1.01)\n"
     ]
    },
    {
     "name": "stdout",
     "output_type": "stream",
     "text": [
      "Pacman crashed\n"
     ]
    },
    {
     "name": "stderr",
     "output_type": "stream",
     "text": [
      "Agent 0 ran out of time! (time: 1.01)\n"
     ]
    },
    {
     "name": "stdout",
     "output_type": "stream",
     "text": [
      "Pacman crashed\n",
      "Pacman emerges victorious! Score: 982\n"
     ]
    },
    {
     "name": "stderr",
     "output_type": "stream",
     "text": [
      "Agent 0 ran out of time! (time: 1.00)\n"
     ]
    },
    {
     "name": "stdout",
     "output_type": "stream",
     "text": [
      "Pacman crashed\n"
     ]
    },
    {
     "name": "stderr",
     "output_type": "stream",
     "text": [
      "Agent 0 ran out of time! (time: 1.00)\n"
     ]
    },
    {
     "name": "stdout",
     "output_type": "stream",
     "text": [
      "Pacman crashed\n"
     ]
    },
    {
     "name": "stderr",
     "output_type": "stream",
     "text": [
      "Agent 0 ran out of time! (time: 1.00)\n"
     ]
    },
    {
     "name": "stdout",
     "output_type": "stream",
     "text": [
      "Pacman crashed\n"
     ]
    },
    {
     "name": "stderr",
     "output_type": "stream",
     "text": [
      "Agent 0 ran out of time! (time: 1.01)\n"
     ]
    },
    {
     "name": "stdout",
     "output_type": "stream",
     "text": [
      "Pacman crashed\n"
     ]
    },
    {
     "name": "stderr",
     "output_type": "stream",
     "text": [
      "Agent 0 ran out of time! (time: 1.01)\n"
     ]
    },
    {
     "name": "stdout",
     "output_type": "stream",
     "text": [
      "Pacman crashed\n"
     ]
    },
    {
     "name": "stderr",
     "output_type": "stream",
     "text": [
      "Agent 0 ran out of time! (time: 1.01)\n"
     ]
    },
    {
     "name": "stdout",
     "output_type": "stream",
     "text": [
      "Pacman emerges victorious! Score: 984\n",
      "Pacman crashed\n"
     ]
    },
    {
     "name": "stderr",
     "output_type": "stream",
     "text": [
      "Agent 0 ran out of time! (time: 1.01)\n"
     ]
    },
    {
     "name": "stdout",
     "output_type": "stream",
     "text": [
      "Pacman crashed\n",
      "Pacman emerges victorious! Score: 987\n"
     ]
    },
    {
     "name": "stderr",
     "output_type": "stream",
     "text": [
      "Agent 0 ran out of time! (time: 1.00)\n"
     ]
    },
    {
     "name": "stdout",
     "output_type": "stream",
     "text": [
      "Pacman crashed\n"
     ]
    },
    {
     "name": "stderr",
     "output_type": "stream",
     "text": [
      "Agent 0 ran out of time! (time: 1.01)\n"
     ]
    },
    {
     "name": "stdout",
     "output_type": "stream",
     "text": [
      "Pacman crashed\n"
     ]
    },
    {
     "name": "stderr",
     "output_type": "stream",
     "text": [
      "Agent 0 ran out of time! (time: 1.00)\n"
     ]
    },
    {
     "name": "stdout",
     "output_type": "stream",
     "text": [
      "Pacman crashed\n"
     ]
    },
    {
     "name": "stderr",
     "output_type": "stream",
     "text": [
      "Agent 0 ran out of time! (time: 1.00)\n"
     ]
    },
    {
     "name": "stdout",
     "output_type": "stream",
     "text": [
      "Pacman crashed\n"
     ]
    },
    {
     "name": "stderr",
     "output_type": "stream",
     "text": [
      "Agent 0 ran out of time! (time: 1.01)\n"
     ]
    },
    {
     "name": "stdout",
     "output_type": "stream",
     "text": [
      "Pacman crashed\n"
     ]
    },
    {
     "name": "stderr",
     "output_type": "stream",
     "text": [
      "Agent 0 ran out of time! (time: 1.01)\n"
     ]
    },
    {
     "name": "stdout",
     "output_type": "stream",
     "text": [
      "Pacman crashed\n"
     ]
    },
    {
     "name": "stderr",
     "output_type": "stream",
     "text": [
      "Agent 0 ran out of time! (time: 1.00)\n"
     ]
    },
    {
     "name": "stdout",
     "output_type": "stream",
     "text": [
      "Pacman crashed\n"
     ]
    },
    {
     "name": "stderr",
     "output_type": "stream",
     "text": [
      "Agent 0 ran out of time! (time: 1.01)\n"
     ]
    },
    {
     "name": "stdout",
     "output_type": "stream",
     "text": [
      "Pacman crashed\n"
     ]
    },
    {
     "name": "stderr",
     "output_type": "stream",
     "text": [
      "Agent 0 ran out of time! (time: 1.00)\n"
     ]
    },
    {
     "name": "stdout",
     "output_type": "stream",
     "text": [
      "Pacman crashed\n"
     ]
    },
    {
     "name": "stderr",
     "output_type": "stream",
     "text": [
      "Agent 0 ran out of time! (time: 1.01)\n"
     ]
    },
    {
     "name": "stdout",
     "output_type": "stream",
     "text": [
      "Pacman crashed\n",
      "Pacman emerges victorious! Score: 987\n"
     ]
    },
    {
     "name": "stderr",
     "output_type": "stream",
     "text": [
      "Agent 0 ran out of time! (time: 1.00)\n"
     ]
    },
    {
     "name": "stdout",
     "output_type": "stream",
     "text": [
      "Pacman crashed\n"
     ]
    },
    {
     "name": "stderr",
     "output_type": "stream",
     "text": [
      "Agent 0 ran out of time! (time: 1.01)\n"
     ]
    },
    {
     "name": "stdout",
     "output_type": "stream",
     "text": [
      "Pacman crashed\n"
     ]
    },
    {
     "name": "stderr",
     "output_type": "stream",
     "text": [
      "Agent 0 ran out of time! (time: 1.00)\n"
     ]
    },
    {
     "name": "stdout",
     "output_type": "stream",
     "text": [
      "Pacman crashed\n"
     ]
    },
    {
     "name": "stderr",
     "output_type": "stream",
     "text": [
      "Agent 0 ran out of time! (time: 1.00)\n"
     ]
    },
    {
     "name": "stdout",
     "output_type": "stream",
     "text": [
      "Pacman crashed\n"
     ]
    },
    {
     "name": "stderr",
     "output_type": "stream",
     "text": [
      "Agent 0 ran out of time! (time: 1.00)\n"
     ]
    },
    {
     "name": "stdout",
     "output_type": "stream",
     "text": [
      "Pacman crashed\n"
     ]
    },
    {
     "name": "stderr",
     "output_type": "stream",
     "text": [
      "Agent 0 ran out of time! (time: 1.01)\n"
     ]
    },
    {
     "name": "stdout",
     "output_type": "stream",
     "text": [
      "Pacman crashed\n"
     ]
    },
    {
     "name": "stderr",
     "output_type": "stream",
     "text": [
      "Agent 0 ran out of time! (time: 1.01)\n"
     ]
    },
    {
     "name": "stdout",
     "output_type": "stream",
     "text": [
      "Pacman crashed\n"
     ]
    },
    {
     "name": "stderr",
     "output_type": "stream",
     "text": [
      "Agent 0 ran out of time! (time: 1.01)\n"
     ]
    },
    {
     "name": "stdout",
     "output_type": "stream",
     "text": [
      "Pacman crashed\n"
     ]
    },
    {
     "name": "stderr",
     "output_type": "stream",
     "text": [
      "Agent 0 ran out of time! (time: 1.00)\n"
     ]
    },
    {
     "name": "stdout",
     "output_type": "stream",
     "text": [
      "Pacman crashed\n"
     ]
    },
    {
     "name": "stderr",
     "output_type": "stream",
     "text": [
      "Agent 0 ran out of time! (time: 1.01)\n"
     ]
    },
    {
     "name": "stdout",
     "output_type": "stream",
     "text": [
      "Pacman crashed\n"
     ]
    },
    {
     "name": "stderr",
     "output_type": "stream",
     "text": [
      "Agent 0 ran out of time! (time: 1.00)\n"
     ]
    },
    {
     "name": "stdout",
     "output_type": "stream",
     "text": [
      "Pacman crashed\n"
     ]
    },
    {
     "name": "stderr",
     "output_type": "stream",
     "text": [
      "Agent 0 ran out of time! (time: 1.01)\n"
     ]
    },
    {
     "name": "stdout",
     "output_type": "stream",
     "text": [
      "Pacman crashed\n"
     ]
    },
    {
     "name": "stderr",
     "output_type": "stream",
     "text": [
      "Agent 0 ran out of time! (time: 1.01)\n"
     ]
    },
    {
     "name": "stdout",
     "output_type": "stream",
     "text": [
      "Pacman crashed\n"
     ]
    },
    {
     "name": "stderr",
     "output_type": "stream",
     "text": [
      "Agent 0 ran out of time! (time: 1.00)\n"
     ]
    },
    {
     "name": "stdout",
     "output_type": "stream",
     "text": [
      "Pacman crashed\n"
     ]
    },
    {
     "name": "stderr",
     "output_type": "stream",
     "text": [
      "Agent 0 ran out of time! (time: 1.00)\n"
     ]
    },
    {
     "name": "stdout",
     "output_type": "stream",
     "text": [
      "Pacman crashed\n"
     ]
    },
    {
     "name": "stderr",
     "output_type": "stream",
     "text": [
      "Agent 0 ran out of time! (time: 1.00)\n"
     ]
    },
    {
     "name": "stdout",
     "output_type": "stream",
     "text": [
      "Pacman crashed\n"
     ]
    },
    {
     "name": "stderr",
     "output_type": "stream",
     "text": [
      "Agent 0 ran out of time! (time: 1.00)\n"
     ]
    },
    {
     "name": "stdout",
     "output_type": "stream",
     "text": [
      "Pacman crashed\n",
      "Pacman emerges victorious! Score: 987\n",
      "Pacman emerges victorious! Score: 984\n"
     ]
    },
    {
     "name": "stderr",
     "output_type": "stream",
     "text": [
      "Agent 0 ran out of time! (time: 1.01)\n"
     ]
    },
    {
     "name": "stdout",
     "output_type": "stream",
     "text": [
      "Pacman crashed\n",
      "Pacman emerges victorious! Score: 984\n"
     ]
    },
    {
     "name": "stderr",
     "output_type": "stream",
     "text": [
      "Agent 0 ran out of time! (time: 1.01)\n"
     ]
    },
    {
     "name": "stdout",
     "output_type": "stream",
     "text": [
      "Pacman crashed\n"
     ]
    },
    {
     "name": "stderr",
     "output_type": "stream",
     "text": [
      "Agent 0 ran out of time! (time: 1.00)\n"
     ]
    },
    {
     "name": "stdout",
     "output_type": "stream",
     "text": [
      "Pacman crashed\n"
     ]
    },
    {
     "name": "stderr",
     "output_type": "stream",
     "text": [
      "Agent 0 ran out of time! (time: 1.00)\n"
     ]
    },
    {
     "name": "stdout",
     "output_type": "stream",
     "text": [
      "Pacman crashed\n"
     ]
    },
    {
     "name": "stderr",
     "output_type": "stream",
     "text": [
      "Agent 0 ran out of time! (time: 1.01)\n"
     ]
    },
    {
     "name": "stdout",
     "output_type": "stream",
     "text": [
      "Pacman crashed\n"
     ]
    },
    {
     "name": "stderr",
     "output_type": "stream",
     "text": [
      "Agent 0 ran out of time! (time: 1.01)\n"
     ]
    },
    {
     "name": "stdout",
     "output_type": "stream",
     "text": [
      "Pacman crashed\n"
     ]
    },
    {
     "name": "stderr",
     "output_type": "stream",
     "text": [
      "Agent 0 ran out of time! (time: 1.01)\n"
     ]
    },
    {
     "name": "stdout",
     "output_type": "stream",
     "text": [
      "Pacman crashed\n"
     ]
    },
    {
     "name": "stderr",
     "output_type": "stream",
     "text": [
      "Agent 0 ran out of time! (time: 1.01)\n"
     ]
    },
    {
     "name": "stdout",
     "output_type": "stream",
     "text": [
      "Pacman crashed\n"
     ]
    },
    {
     "name": "stderr",
     "output_type": "stream",
     "text": [
      "Agent 0 ran out of time! (time: 1.01)\n"
     ]
    },
    {
     "name": "stdout",
     "output_type": "stream",
     "text": [
      "Pacman crashed\n"
     ]
    },
    {
     "name": "stderr",
     "output_type": "stream",
     "text": [
      "Agent 0 ran out of time! (time: 1.01)\n"
     ]
    },
    {
     "name": "stdout",
     "output_type": "stream",
     "text": [
      "Pacman crashed\n"
     ]
    },
    {
     "name": "stderr",
     "output_type": "stream",
     "text": [
      "Agent 0 ran out of time! (time: 1.00)\n"
     ]
    },
    {
     "name": "stdout",
     "output_type": "stream",
     "text": [
      "Pacman crashed\n"
     ]
    },
    {
     "name": "stderr",
     "output_type": "stream",
     "text": [
      "Agent 0 ran out of time! (time: 1.01)\n"
     ]
    },
    {
     "name": "stdout",
     "output_type": "stream",
     "text": [
      "Pacman crashed\n"
     ]
    },
    {
     "name": "stderr",
     "output_type": "stream",
     "text": [
      "Agent 0 ran out of time! (time: 1.02)\n"
     ]
    },
    {
     "name": "stdout",
     "output_type": "stream",
     "text": [
      "Pacman crashed\n"
     ]
    },
    {
     "name": "stderr",
     "output_type": "stream",
     "text": [
      "Agent 0 ran out of time! (time: 1.01)\n"
     ]
    },
    {
     "name": "stdout",
     "output_type": "stream",
     "text": [
      "Pacman crashed\n"
     ]
    },
    {
     "name": "stderr",
     "output_type": "stream",
     "text": [
      "Agent 0 ran out of time! (time: 1.01)\n"
     ]
    },
    {
     "name": "stdout",
     "output_type": "stream",
     "text": [
      "Pacman crashed\n"
     ]
    },
    {
     "name": "stderr",
     "output_type": "stream",
     "text": [
      "Agent 0 ran out of time! (time: 1.01)\n"
     ]
    },
    {
     "name": "stdout",
     "output_type": "stream",
     "text": [
      "Pacman crashed\n"
     ]
    },
    {
     "name": "stderr",
     "output_type": "stream",
     "text": [
      "Agent 0 ran out of time! (time: 1.01)\n"
     ]
    },
    {
     "name": "stdout",
     "output_type": "stream",
     "text": [
      "Pacman crashed\n",
      "Pacman emerges victorious! Score: 989\n"
     ]
    },
    {
     "name": "stderr",
     "output_type": "stream",
     "text": [
      "Agent 0 ran out of time! (time: 1.01)\n"
     ]
    },
    {
     "name": "stdout",
     "output_type": "stream",
     "text": [
      "Pacman crashed\n"
     ]
    },
    {
     "name": "stderr",
     "output_type": "stream",
     "text": [
      "Agent 0 ran out of time! (time: 1.01)\n"
     ]
    },
    {
     "name": "stdout",
     "output_type": "stream",
     "text": [
      "Pacman crashed\n"
     ]
    },
    {
     "name": "stderr",
     "output_type": "stream",
     "text": [
      "Agent 0 ran out of time! (time: 1.01)\n"
     ]
    },
    {
     "name": "stdout",
     "output_type": "stream",
     "text": [
      "Pacman crashed\n"
     ]
    },
    {
     "name": "stderr",
     "output_type": "stream",
     "text": [
      "Agent 0 ran out of time! (time: 1.01)\n"
     ]
    },
    {
     "name": "stdout",
     "output_type": "stream",
     "text": [
      "Pacman crashed\n"
     ]
    },
    {
     "name": "stderr",
     "output_type": "stream",
     "text": [
      "Agent 0 ran out of time! (time: 1.00)\n"
     ]
    },
    {
     "name": "stdout",
     "output_type": "stream",
     "text": [
      "Pacman crashed\n"
     ]
    },
    {
     "name": "stderr",
     "output_type": "stream",
     "text": [
      "Agent 0 ran out of time! (time: 1.01)\n"
     ]
    },
    {
     "name": "stdout",
     "output_type": "stream",
     "text": [
      "Pacman crashed\n"
     ]
    },
    {
     "name": "stderr",
     "output_type": "stream",
     "text": [
      "Agent 0 ran out of time! (time: 1.00)\n"
     ]
    },
    {
     "name": "stdout",
     "output_type": "stream",
     "text": [
      "Pacman crashed\n"
     ]
    },
    {
     "name": "stderr",
     "output_type": "stream",
     "text": [
      "Agent 0 ran out of time! (time: 1.00)\n"
     ]
    },
    {
     "name": "stdout",
     "output_type": "stream",
     "text": [
      "Pacman crashed\n"
     ]
    },
    {
     "name": "stderr",
     "output_type": "stream",
     "text": [
      "Agent 0 ran out of time! (time: 1.01)\n"
     ]
    },
    {
     "name": "stdout",
     "output_type": "stream",
     "text": [
      "Pacman crashed\n"
     ]
    },
    {
     "name": "stderr",
     "output_type": "stream",
     "text": [
      "Agent 0 ran out of time! (time: 1.00)\n"
     ]
    },
    {
     "name": "stdout",
     "output_type": "stream",
     "text": [
      "Pacman crashed\n"
     ]
    },
    {
     "name": "stderr",
     "output_type": "stream",
     "text": [
      "Agent 0 ran out of time! (time: 1.00)\n"
     ]
    },
    {
     "name": "stdout",
     "output_type": "stream",
     "text": [
      "Pacman crashed\n"
     ]
    },
    {
     "name": "stderr",
     "output_type": "stream",
     "text": [
      "Agent 0 ran out of time! (time: 1.01)\n"
     ]
    },
    {
     "name": "stdout",
     "output_type": "stream",
     "text": [
      "Pacman crashed\n"
     ]
    },
    {
     "name": "stderr",
     "output_type": "stream",
     "text": [
      "Agent 0 ran out of time! (time: 1.01)\n"
     ]
    },
    {
     "name": "stdout",
     "output_type": "stream",
     "text": [
      "Pacman crashed\n"
     ]
    },
    {
     "name": "stderr",
     "output_type": "stream",
     "text": [
      "Agent 0 ran out of time! (time: 1.00)\n"
     ]
    },
    {
     "name": "stdout",
     "output_type": "stream",
     "text": [
      "Pacman crashed\n"
     ]
    },
    {
     "name": "stderr",
     "output_type": "stream",
     "text": [
      "Agent 0 ran out of time! (time: 1.00)\n"
     ]
    },
    {
     "name": "stdout",
     "output_type": "stream",
     "text": [
      "Pacman crashed\n"
     ]
    },
    {
     "name": "stderr",
     "output_type": "stream",
     "text": [
      "Agent 0 ran out of time! (time: 1.01)\n"
     ]
    },
    {
     "name": "stdout",
     "output_type": "stream",
     "text": [
      "Pacman crashed\n"
     ]
    },
    {
     "name": "stderr",
     "output_type": "stream",
     "text": [
      "Agent 0 ran out of time! (time: 1.00)\n"
     ]
    },
    {
     "name": "stdout",
     "output_type": "stream",
     "text": [
      "Pacman crashed\n"
     ]
    },
    {
     "name": "stderr",
     "output_type": "stream",
     "text": [
      "Agent 0 ran out of time! (time: 1.01)\n"
     ]
    },
    {
     "name": "stdout",
     "output_type": "stream",
     "text": [
      "Pacman crashed\n"
     ]
    },
    {
     "name": "stderr",
     "output_type": "stream",
     "text": [
      "Agent 0 ran out of time! (time: 1.01)\n"
     ]
    },
    {
     "name": "stdout",
     "output_type": "stream",
     "text": [
      "Pacman crashed\n"
     ]
    },
    {
     "name": "stderr",
     "output_type": "stream",
     "text": [
      "Agent 0 ran out of time! (time: 1.00)\n"
     ]
    },
    {
     "name": "stdout",
     "output_type": "stream",
     "text": [
      "Pacman emerges victorious! Score: 989\n",
      "Pacman crashed\n"
     ]
    },
    {
     "name": "stderr",
     "output_type": "stream",
     "text": [
      "Agent 0 ran out of time! (time: 1.01)\n"
     ]
    },
    {
     "name": "stdout",
     "output_type": "stream",
     "text": [
      "Pacman crashed\n"
     ]
    },
    {
     "name": "stderr",
     "output_type": "stream",
     "text": [
      "Agent 0 ran out of time! (time: 1.01)\n"
     ]
    },
    {
     "name": "stdout",
     "output_type": "stream",
     "text": [
      "Pacman crashed\n"
     ]
    },
    {
     "name": "stderr",
     "output_type": "stream",
     "text": [
      "Agent 0 ran out of time! (time: 1.00)\n"
     ]
    },
    {
     "name": "stdout",
     "output_type": "stream",
     "text": [
      "Pacman crashed\n"
     ]
    },
    {
     "name": "stderr",
     "output_type": "stream",
     "text": [
      "Agent 0 ran out of time! (time: 1.01)\n"
     ]
    },
    {
     "name": "stdout",
     "output_type": "stream",
     "text": [
      "Pacman crashed\n"
     ]
    },
    {
     "name": "stderr",
     "output_type": "stream",
     "text": [
      "Agent 0 ran out of time! (time: 1.01)\n"
     ]
    },
    {
     "name": "stdout",
     "output_type": "stream",
     "text": [
      "Pacman crashed\n"
     ]
    },
    {
     "name": "stderr",
     "output_type": "stream",
     "text": [
      "Agent 0 ran out of time! (time: 1.01)\n"
     ]
    },
    {
     "name": "stdout",
     "output_type": "stream",
     "text": [
      "Pacman crashed\n",
      "Pacman emerges victorious! Score: 987\n",
      "Pacman emerges victorious! Score: 987\n"
     ]
    },
    {
     "name": "stderr",
     "output_type": "stream",
     "text": [
      "Agent 0 ran out of time! (time: 1.00)\n"
     ]
    },
    {
     "name": "stdout",
     "output_type": "stream",
     "text": [
      "Pacman crashed\n"
     ]
    },
    {
     "name": "stderr",
     "output_type": "stream",
     "text": [
      "Agent 0 ran out of time! (time: 1.01)\n"
     ]
    },
    {
     "name": "stdout",
     "output_type": "stream",
     "text": [
      "Pacman crashed\n"
     ]
    },
    {
     "name": "stderr",
     "output_type": "stream",
     "text": [
      "Agent 0 ran out of time! (time: 1.00)\n"
     ]
    },
    {
     "name": "stdout",
     "output_type": "stream",
     "text": [
      "Pacman crashed\n"
     ]
    },
    {
     "name": "stderr",
     "output_type": "stream",
     "text": [
      "Agent 0 ran out of time! (time: 1.00)\n"
     ]
    },
    {
     "name": "stdout",
     "output_type": "stream",
     "text": [
      "Pacman crashed\n"
     ]
    },
    {
     "name": "stderr",
     "output_type": "stream",
     "text": [
      "Agent 0 ran out of time! (time: 1.01)\n"
     ]
    },
    {
     "name": "stdout",
     "output_type": "stream",
     "text": [
      "Pacman crashed\n"
     ]
    },
    {
     "name": "stderr",
     "output_type": "stream",
     "text": [
      "Agent 0 ran out of time! (time: 1.00)\n"
     ]
    },
    {
     "name": "stdout",
     "output_type": "stream",
     "text": [
      "Pacman crashed\n"
     ]
    },
    {
     "name": "stderr",
     "output_type": "stream",
     "text": [
      "Agent 0 ran out of time! (time: 1.01)\n"
     ]
    },
    {
     "name": "stdout",
     "output_type": "stream",
     "text": [
      "Pacman crashed\n"
     ]
    },
    {
     "name": "stderr",
     "output_type": "stream",
     "text": [
      "Agent 0 ran out of time! (time: 1.00)\n"
     ]
    },
    {
     "name": "stdout",
     "output_type": "stream",
     "text": [
      "Pacman emerges victorious! Score: 987\n",
      "Pacman crashed\n"
     ]
    },
    {
     "name": "stderr",
     "output_type": "stream",
     "text": [
      "Agent 0 ran out of time! (time: 1.01)\n"
     ]
    },
    {
     "name": "stdout",
     "output_type": "stream",
     "text": [
      "Pacman crashed\n"
     ]
    },
    {
     "name": "stderr",
     "output_type": "stream",
     "text": [
      "Agent 0 ran out of time! (time: 1.01)\n"
     ]
    },
    {
     "name": "stdout",
     "output_type": "stream",
     "text": [
      "Pacman crashed\n"
     ]
    },
    {
     "name": "stderr",
     "output_type": "stream",
     "text": [
      "Agent 0 ran out of time! (time: 1.01)\n"
     ]
    },
    {
     "name": "stdout",
     "output_type": "stream",
     "text": [
      "Pacman crashed\n"
     ]
    },
    {
     "name": "stderr",
     "output_type": "stream",
     "text": [
      "Agent 0 ran out of time! (time: 1.00)\n"
     ]
    },
    {
     "name": "stdout",
     "output_type": "stream",
     "text": [
      "Pacman crashed\n"
     ]
    },
    {
     "name": "stderr",
     "output_type": "stream",
     "text": [
      "Agent 0 ran out of time! (time: 1.00)\n"
     ]
    },
    {
     "name": "stdout",
     "output_type": "stream",
     "text": [
      "Pacman crashed\n"
     ]
    },
    {
     "name": "stderr",
     "output_type": "stream",
     "text": [
      "Agent 0 ran out of time! (time: 1.01)\n"
     ]
    },
    {
     "name": "stdout",
     "output_type": "stream",
     "text": [
      "Pacman crashed\n"
     ]
    },
    {
     "name": "stderr",
     "output_type": "stream",
     "text": [
      "Agent 0 ran out of time! (time: 1.00)\n"
     ]
    },
    {
     "name": "stdout",
     "output_type": "stream",
     "text": [
      "Pacman crashed\n"
     ]
    },
    {
     "name": "stderr",
     "output_type": "stream",
     "text": [
      "Agent 0 ran out of time! (time: 1.01)\n"
     ]
    },
    {
     "name": "stdout",
     "output_type": "stream",
     "text": [
      "Pacman crashed\n"
     ]
    },
    {
     "name": "stderr",
     "output_type": "stream",
     "text": [
      "Agent 0 ran out of time! (time: 1.00)\n"
     ]
    },
    {
     "name": "stdout",
     "output_type": "stream",
     "text": [
      "Pacman crashed\n",
      "Pacman emerges victorious! Score: 987\n"
     ]
    },
    {
     "name": "stderr",
     "output_type": "stream",
     "text": [
      "Agent 0 ran out of time! (time: 1.00)\n"
     ]
    },
    {
     "name": "stdout",
     "output_type": "stream",
     "text": [
      "Pacman crashed\n"
     ]
    },
    {
     "name": "stderr",
     "output_type": "stream",
     "text": [
      "Agent 0 ran out of time! (time: 1.00)\n"
     ]
    },
    {
     "name": "stdout",
     "output_type": "stream",
     "text": [
      "Pacman crashed\n"
     ]
    },
    {
     "name": "stderr",
     "output_type": "stream",
     "text": [
      "Agent 0 ran out of time! (time: 1.01)\n"
     ]
    },
    {
     "name": "stdout",
     "output_type": "stream",
     "text": [
      "Pacman crashed\n"
     ]
    },
    {
     "name": "stderr",
     "output_type": "stream",
     "text": [
      "Agent 0 ran out of time! (time: 1.00)\n"
     ]
    },
    {
     "name": "stdout",
     "output_type": "stream",
     "text": [
      "Pacman crashed\n",
      "Pacman emerges victorious! Score: 982\n"
     ]
    },
    {
     "name": "stderr",
     "output_type": "stream",
     "text": [
      "Agent 0 ran out of time! (time: 1.01)\n"
     ]
    },
    {
     "name": "stdout",
     "output_type": "stream",
     "text": [
      "Pacman crashed\n"
     ]
    },
    {
     "name": "stderr",
     "output_type": "stream",
     "text": [
      "Agent 0 ran out of time! (time: 1.00)\n"
     ]
    },
    {
     "name": "stdout",
     "output_type": "stream",
     "text": [
      "Pacman crashed\n",
      "Pacman emerges victorious! Score: 987\n"
     ]
    },
    {
     "name": "stderr",
     "output_type": "stream",
     "text": [
      "Agent 0 ran out of time! (time: 1.00)\n"
     ]
    },
    {
     "name": "stdout",
     "output_type": "stream",
     "text": [
      "Pacman crashed\n"
     ]
    },
    {
     "name": "stderr",
     "output_type": "stream",
     "text": [
      "Agent 0 ran out of time! (time: 1.00)\n"
     ]
    },
    {
     "name": "stdout",
     "output_type": "stream",
     "text": [
      "Pacman crashed\n"
     ]
    },
    {
     "name": "stderr",
     "output_type": "stream",
     "text": [
      "Agent 0 ran out of time! (time: 1.00)\n"
     ]
    },
    {
     "name": "stdout",
     "output_type": "stream",
     "text": [
      "Pacman crashed\n"
     ]
    },
    {
     "name": "stderr",
     "output_type": "stream",
     "text": [
      "Agent 0 ran out of time! (time: 1.00)\n"
     ]
    },
    {
     "name": "stdout",
     "output_type": "stream",
     "text": [
      "Pacman crashed\n"
     ]
    },
    {
     "name": "stderr",
     "output_type": "stream",
     "text": [
      "Agent 0 ran out of time! (time: 1.00)\n"
     ]
    },
    {
     "name": "stdout",
     "output_type": "stream",
     "text": [
      "Pacman crashed\n"
     ]
    },
    {
     "name": "stderr",
     "output_type": "stream",
     "text": [
      "Agent 0 ran out of time! (time: 1.01)\n"
     ]
    },
    {
     "name": "stdout",
     "output_type": "stream",
     "text": [
      "Pacman crashed\n"
     ]
    },
    {
     "name": "stderr",
     "output_type": "stream",
     "text": [
      "Agent 0 ran out of time! (time: 1.01)\n"
     ]
    },
    {
     "name": "stdout",
     "output_type": "stream",
     "text": [
      "Pacman crashed\n"
     ]
    },
    {
     "name": "stderr",
     "output_type": "stream",
     "text": [
      "Agent 0 ran out of time! (time: 1.01)\n"
     ]
    },
    {
     "name": "stdout",
     "output_type": "stream",
     "text": [
      "Pacman crashed\n"
     ]
    },
    {
     "name": "stderr",
     "output_type": "stream",
     "text": [
      "Agent 0 ran out of time! (time: 1.00)\n"
     ]
    },
    {
     "name": "stdout",
     "output_type": "stream",
     "text": [
      "Pacman crashed\n"
     ]
    },
    {
     "name": "stderr",
     "output_type": "stream",
     "text": [
      "Agent 0 ran out of time! (time: 1.00)\n"
     ]
    },
    {
     "name": "stdout",
     "output_type": "stream",
     "text": [
      "Pacman crashed\n",
      "Pacman emerges victorious! Score: 987\n"
     ]
    },
    {
     "name": "stderr",
     "output_type": "stream",
     "text": [
      "Agent 0 ran out of time! (time: 1.00)\n"
     ]
    },
    {
     "name": "stdout",
     "output_type": "stream",
     "text": [
      "Pacman crashed\n"
     ]
    },
    {
     "name": "stderr",
     "output_type": "stream",
     "text": [
      "Agent 0 ran out of time! (time: 1.00)\n"
     ]
    },
    {
     "name": "stdout",
     "output_type": "stream",
     "text": [
      "Pacman crashed\n"
     ]
    },
    {
     "name": "stderr",
     "output_type": "stream",
     "text": [
      "Agent 0 ran out of time! (time: 1.00)\n"
     ]
    },
    {
     "name": "stdout",
     "output_type": "stream",
     "text": [
      "Pacman crashed\n"
     ]
    },
    {
     "name": "stderr",
     "output_type": "stream",
     "text": [
      "Agent 0 ran out of time! (time: 1.00)\n"
     ]
    },
    {
     "name": "stdout",
     "output_type": "stream",
     "text": [
      "Pacman crashed\n"
     ]
    },
    {
     "name": "stderr",
     "output_type": "stream",
     "text": [
      "Agent 0 ran out of time! (time: 1.00)\n"
     ]
    },
    {
     "name": "stdout",
     "output_type": "stream",
     "text": [
      "Pacman emerges victorious! Score: 982\n",
      "Pacman crashed\n"
     ]
    },
    {
     "name": "stderr",
     "output_type": "stream",
     "text": [
      "Agent 0 ran out of time! (time: 1.00)\n"
     ]
    },
    {
     "name": "stdout",
     "output_type": "stream",
     "text": [
      "Pacman crashed\n"
     ]
    },
    {
     "name": "stderr",
     "output_type": "stream",
     "text": [
      "Agent 0 ran out of time! (time: 1.01)\n"
     ]
    },
    {
     "name": "stdout",
     "output_type": "stream",
     "text": [
      "Pacman crashed\n"
     ]
    },
    {
     "name": "stderr",
     "output_type": "stream",
     "text": [
      "Agent 0 ran out of time! (time: 1.00)\n"
     ]
    },
    {
     "name": "stdout",
     "output_type": "stream",
     "text": [
      "Pacman crashed\n"
     ]
    },
    {
     "name": "stderr",
     "output_type": "stream",
     "text": [
      "Agent 0 ran out of time! (time: 1.00)\n"
     ]
    },
    {
     "name": "stdout",
     "output_type": "stream",
     "text": [
      "Pacman crashed\n"
     ]
    },
    {
     "name": "stderr",
     "output_type": "stream",
     "text": [
      "Agent 0 ran out of time! (time: 1.00)\n"
     ]
    },
    {
     "name": "stdout",
     "output_type": "stream",
     "text": [
      "Pacman crashed\n"
     ]
    },
    {
     "name": "stderr",
     "output_type": "stream",
     "text": [
      "Agent 0 ran out of time! (time: 1.00)\n"
     ]
    },
    {
     "name": "stdout",
     "output_type": "stream",
     "text": [
      "Pacman crashed\n"
     ]
    },
    {
     "name": "stderr",
     "output_type": "stream",
     "text": [
      "Agent 0 ran out of time! (time: 1.00)\n"
     ]
    },
    {
     "name": "stdout",
     "output_type": "stream",
     "text": [
      "Pacman crashed\n"
     ]
    },
    {
     "name": "stderr",
     "output_type": "stream",
     "text": [
      "Agent 0 ran out of time! (time: 1.00)\n"
     ]
    },
    {
     "name": "stdout",
     "output_type": "stream",
     "text": [
      "Pacman crashed\n"
     ]
    },
    {
     "name": "stderr",
     "output_type": "stream",
     "text": [
      "Agent 0 ran out of time! (time: 1.00)\n"
     ]
    },
    {
     "name": "stdout",
     "output_type": "stream",
     "text": [
      "Pacman crashed\n",
      "Pacman emerges victorious! Score: 987\n"
     ]
    },
    {
     "name": "stderr",
     "output_type": "stream",
     "text": [
      "Agent 0 ran out of time! (time: 1.01)\n"
     ]
    },
    {
     "name": "stdout",
     "output_type": "stream",
     "text": [
      "Pacman crashed\n"
     ]
    },
    {
     "name": "stderr",
     "output_type": "stream",
     "text": [
      "Agent 0 ran out of time! (time: 1.00)\n"
     ]
    },
    {
     "name": "stdout",
     "output_type": "stream",
     "text": [
      "Pacman crashed\n"
     ]
    },
    {
     "name": "stderr",
     "output_type": "stream",
     "text": [
      "Agent 0 ran out of time! (time: 1.00)\n"
     ]
    },
    {
     "name": "stdout",
     "output_type": "stream",
     "text": [
      "Pacman crashed\n",
      "Pacman emerges victorious! Score: 989\n"
     ]
    },
    {
     "name": "stderr",
     "output_type": "stream",
     "text": [
      "Agent 0 ran out of time! (time: 1.01)\n"
     ]
    },
    {
     "name": "stdout",
     "output_type": "stream",
     "text": [
      "Pacman crashed\n"
     ]
    },
    {
     "name": "stderr",
     "output_type": "stream",
     "text": [
      "Agent 0 ran out of time! (time: 1.00)\n"
     ]
    },
    {
     "name": "stdout",
     "output_type": "stream",
     "text": [
      "Pacman crashed\n"
     ]
    },
    {
     "name": "stderr",
     "output_type": "stream",
     "text": [
      "Agent 0 ran out of time! (time: 1.01)\n"
     ]
    },
    {
     "name": "stdout",
     "output_type": "stream",
     "text": [
      "Pacman crashed\n",
      "Pacman emerges victorious! Score: 989\n"
     ]
    },
    {
     "name": "stderr",
     "output_type": "stream",
     "text": [
      "Agent 0 ran out of time! (time: 1.00)\n"
     ]
    },
    {
     "name": "stdout",
     "output_type": "stream",
     "text": [
      "Pacman crashed\n"
     ]
    },
    {
     "name": "stderr",
     "output_type": "stream",
     "text": [
      "Agent 0 ran out of time! (time: 1.01)\n"
     ]
    },
    {
     "name": "stdout",
     "output_type": "stream",
     "text": [
      "Pacman crashed\n",
      "Pacman emerges victorious! Score: 987\n"
     ]
    },
    {
     "name": "stderr",
     "output_type": "stream",
     "text": [
      "Agent 0 ran out of time! (time: 1.01)\n"
     ]
    },
    {
     "name": "stdout",
     "output_type": "stream",
     "text": [
      "Pacman crashed\n"
     ]
    },
    {
     "name": "stderr",
     "output_type": "stream",
     "text": [
      "Agent 0 ran out of time! (time: 1.00)\n"
     ]
    },
    {
     "name": "stdout",
     "output_type": "stream",
     "text": [
      "Pacman crashed\n",
      "Pacman emerges victorious! Score: 987\n"
     ]
    },
    {
     "name": "stderr",
     "output_type": "stream",
     "text": [
      "Agent 0 ran out of time! (time: 1.00)\n"
     ]
    },
    {
     "name": "stdout",
     "output_type": "stream",
     "text": [
      "Pacman crashed\n"
     ]
    },
    {
     "name": "stderr",
     "output_type": "stream",
     "text": [
      "Agent 0 ran out of time! (time: 1.01)\n"
     ]
    },
    {
     "name": "stdout",
     "output_type": "stream",
     "text": [
      "Pacman crashed\n",
      "Pacman emerges victorious! Score: 989\n"
     ]
    },
    {
     "name": "stderr",
     "output_type": "stream",
     "text": [
      "Agent 0 ran out of time! (time: 1.00)\n"
     ]
    },
    {
     "name": "stdout",
     "output_type": "stream",
     "text": [
      "Pacman crashed\n"
     ]
    },
    {
     "name": "stderr",
     "output_type": "stream",
     "text": [
      "Agent 0 ran out of time! (time: 1.00)\n"
     ]
    },
    {
     "name": "stdout",
     "output_type": "stream",
     "text": [
      "Pacman crashed\n"
     ]
    },
    {
     "name": "stderr",
     "output_type": "stream",
     "text": [
      "Agent 0 ran out of time! (time: 1.00)\n"
     ]
    },
    {
     "name": "stdout",
     "output_type": "stream",
     "text": [
      "Pacman crashed\n"
     ]
    },
    {
     "name": "stderr",
     "output_type": "stream",
     "text": [
      "Agent 0 ran out of time! (time: 1.00)\n"
     ]
    },
    {
     "name": "stdout",
     "output_type": "stream",
     "text": [
      "Pacman crashed\n"
     ]
    },
    {
     "name": "stderr",
     "output_type": "stream",
     "text": [
      "Agent 0 ran out of time! (time: 1.00)\n"
     ]
    },
    {
     "name": "stdout",
     "output_type": "stream",
     "text": [
      "Pacman crashed\n",
      "Pacman emerges victorious! Score: 982\n"
     ]
    },
    {
     "name": "stderr",
     "output_type": "stream",
     "text": [
      "Agent 0 ran out of time! (time: 1.00)\n"
     ]
    },
    {
     "name": "stdout",
     "output_type": "stream",
     "text": [
      "Pacman crashed\n"
     ]
    },
    {
     "name": "stderr",
     "output_type": "stream",
     "text": [
      "Agent 0 ran out of time! (time: 1.01)\n"
     ]
    },
    {
     "name": "stdout",
     "output_type": "stream",
     "text": [
      "Pacman crashed\n"
     ]
    },
    {
     "name": "stderr",
     "output_type": "stream",
     "text": [
      "Agent 0 ran out of time! (time: 1.01)\n"
     ]
    },
    {
     "name": "stdout",
     "output_type": "stream",
     "text": [
      "Pacman crashed\n"
     ]
    },
    {
     "name": "stderr",
     "output_type": "stream",
     "text": [
      "Agent 0 ran out of time! (time: 1.01)\n"
     ]
    },
    {
     "name": "stdout",
     "output_type": "stream",
     "text": [
      "Pacman crashed\n",
      "Pacman emerges victorious! Score: 987\n"
     ]
    },
    {
     "name": "stderr",
     "output_type": "stream",
     "text": [
      "Agent 0 ran out of time! (time: 1.01)\n"
     ]
    },
    {
     "name": "stdout",
     "output_type": "stream",
     "text": [
      "Pacman crashed\n"
     ]
    },
    {
     "name": "stderr",
     "output_type": "stream",
     "text": [
      "Agent 0 ran out of time! (time: 1.01)\n"
     ]
    },
    {
     "name": "stdout",
     "output_type": "stream",
     "text": [
      "Pacman crashed\n"
     ]
    },
    {
     "name": "stderr",
     "output_type": "stream",
     "text": [
      "Agent 0 ran out of time! (time: 1.01)\n"
     ]
    },
    {
     "name": "stdout",
     "output_type": "stream",
     "text": [
      "Pacman crashed\n"
     ]
    },
    {
     "name": "stderr",
     "output_type": "stream",
     "text": [
      "Agent 0 ran out of time! (time: 1.02)\n"
     ]
    },
    {
     "name": "stdout",
     "output_type": "stream",
     "text": [
      "Pacman crashed\n"
     ]
    },
    {
     "name": "stderr",
     "output_type": "stream",
     "text": [
      "Agent 0 ran out of time! (time: 1.00)\n"
     ]
    },
    {
     "name": "stdout",
     "output_type": "stream",
     "text": [
      "Pacman crashed\n",
      "Pacman emerges victorious! Score: 989\n",
      "Pacman emerges victorious! Score: 982\n"
     ]
    },
    {
     "name": "stderr",
     "output_type": "stream",
     "text": [
      "Agent 0 ran out of time! (time: 1.00)\n"
     ]
    },
    {
     "name": "stdout",
     "output_type": "stream",
     "text": [
      "Pacman crashed\n"
     ]
    },
    {
     "name": "stderr",
     "output_type": "stream",
     "text": [
      "Agent 0 ran out of time! (time: 1.01)\n"
     ]
    },
    {
     "name": "stdout",
     "output_type": "stream",
     "text": [
      "Pacman crashed\n",
      "Pacman emerges victorious! Score: 982\n"
     ]
    },
    {
     "name": "stderr",
     "output_type": "stream",
     "text": [
      "Agent 0 ran out of time! (time: 1.00)\n"
     ]
    },
    {
     "name": "stdout",
     "output_type": "stream",
     "text": [
      "Pacman crashed\n"
     ]
    },
    {
     "name": "stderr",
     "output_type": "stream",
     "text": [
      "Agent 0 ran out of time! (time: 1.00)\n"
     ]
    },
    {
     "name": "stdout",
     "output_type": "stream",
     "text": [
      "Pacman crashed\n"
     ]
    },
    {
     "name": "stderr",
     "output_type": "stream",
     "text": [
      "Agent 0 ran out of time! (time: 1.00)\n"
     ]
    },
    {
     "name": "stdout",
     "output_type": "stream",
     "text": [
      "Pacman crashed\n"
     ]
    },
    {
     "name": "stderr",
     "output_type": "stream",
     "text": [
      "Agent 0 ran out of time! (time: 1.01)\n"
     ]
    },
    {
     "name": "stdout",
     "output_type": "stream",
     "text": [
      "Pacman crashed\n"
     ]
    },
    {
     "name": "stderr",
     "output_type": "stream",
     "text": [
      "Agent 0 ran out of time! (time: 1.02)\n"
     ]
    },
    {
     "name": "stdout",
     "output_type": "stream",
     "text": [
      "Pacman crashed\n"
     ]
    },
    {
     "name": "stderr",
     "output_type": "stream",
     "text": [
      "Agent 0 ran out of time! (time: 1.01)\n"
     ]
    },
    {
     "name": "stdout",
     "output_type": "stream",
     "text": [
      "Pacman crashed\n"
     ]
    },
    {
     "name": "stderr",
     "output_type": "stream",
     "text": [
      "Agent 0 ran out of time! (time: 1.00)\n"
     ]
    },
    {
     "name": "stdout",
     "output_type": "stream",
     "text": [
      "Pacman crashed\n",
      "Pacman emerges victorious! Score: 987\n"
     ]
    },
    {
     "name": "stderr",
     "output_type": "stream",
     "text": [
      "Agent 0 ran out of time! (time: 1.02)\n"
     ]
    },
    {
     "name": "stdout",
     "output_type": "stream",
     "text": [
      "Pacman crashed\n"
     ]
    },
    {
     "name": "stderr",
     "output_type": "stream",
     "text": [
      "Agent 0 ran out of time! (time: 1.00)\n"
     ]
    },
    {
     "name": "stdout",
     "output_type": "stream",
     "text": [
      "Pacman crashed\n",
      "Pacman emerges victorious! Score: 987\n"
     ]
    },
    {
     "name": "stderr",
     "output_type": "stream",
     "text": [
      "Agent 0 ran out of time! (time: 1.02)\n"
     ]
    },
    {
     "name": "stdout",
     "output_type": "stream",
     "text": [
      "Pacman crashed\n"
     ]
    },
    {
     "name": "stderr",
     "output_type": "stream",
     "text": [
      "Agent 0 ran out of time! (time: 1.02)\n"
     ]
    },
    {
     "name": "stdout",
     "output_type": "stream",
     "text": [
      "Pacman crashed\n"
     ]
    },
    {
     "name": "stderr",
     "output_type": "stream",
     "text": [
      "Agent 0 ran out of time! (time: 1.02)\n"
     ]
    },
    {
     "name": "stdout",
     "output_type": "stream",
     "text": [
      "Pacman crashed\n",
      "Pacman emerges victorious! Score: 984\n",
      "Pacman emerges victorious! Score: 987\n"
     ]
    },
    {
     "name": "stderr",
     "output_type": "stream",
     "text": [
      "Agent 0 ran out of time! (time: 1.02)\n"
     ]
    },
    {
     "name": "stdout",
     "output_type": "stream",
     "text": [
      "Pacman crashed\n"
     ]
    },
    {
     "name": "stderr",
     "output_type": "stream",
     "text": [
      "Agent 0 ran out of time! (time: 1.02)\n"
     ]
    },
    {
     "name": "stdout",
     "output_type": "stream",
     "text": [
      "Pacman crashed\n",
      "Pacman emerges victorious! Score: 987\n",
      "Pacman emerges victorious! Score: 989\n"
     ]
    },
    {
     "name": "stderr",
     "output_type": "stream",
     "text": [
      "Agent 0 ran out of time! (time: 1.02)\n"
     ]
    },
    {
     "name": "stdout",
     "output_type": "stream",
     "text": [
      "Pacman crashed\n",
      "Pacman emerges victorious! Score: 987\n",
      "Pacman emerges victorious! Score: 987\n"
     ]
    },
    {
     "name": "stderr",
     "output_type": "stream",
     "text": [
      "Agent 0 ran out of time! (time: 1.00)\n"
     ]
    },
    {
     "name": "stdout",
     "output_type": "stream",
     "text": [
      "Pacman crashed\n"
     ]
    },
    {
     "name": "stderr",
     "output_type": "stream",
     "text": [
      "Agent 0 ran out of time! (time: 1.00)\n"
     ]
    },
    {
     "name": "stdout",
     "output_type": "stream",
     "text": [
      "Pacman crashed\n",
      "Pacman emerges victorious! Score: 982\n",
      "Pacman emerges victorious! Score: 987\n"
     ]
    },
    {
     "name": "stderr",
     "output_type": "stream",
     "text": [
      "Agent 0 ran out of time! (time: 1.01)\n"
     ]
    },
    {
     "name": "stdout",
     "output_type": "stream",
     "text": [
      "Pacman crashed\n"
     ]
    },
    {
     "name": "stderr",
     "output_type": "stream",
     "text": [
      "Agent 0 ran out of time! (time: 1.00)\n"
     ]
    },
    {
     "name": "stdout",
     "output_type": "stream",
     "text": [
      "Pacman crashed\n"
     ]
    },
    {
     "name": "stderr",
     "output_type": "stream",
     "text": [
      "Agent 0 ran out of time! (time: 1.01)\n"
     ]
    },
    {
     "name": "stdout",
     "output_type": "stream",
     "text": [
      "Pacman crashed\n"
     ]
    },
    {
     "name": "stderr",
     "output_type": "stream",
     "text": [
      "Agent 0 ran out of time! (time: 1.00)\n"
     ]
    },
    {
     "name": "stdout",
     "output_type": "stream",
     "text": [
      "Pacman crashed\n"
     ]
    },
    {
     "name": "stderr",
     "output_type": "stream",
     "text": [
      "Agent 0 ran out of time! (time: 1.00)\n"
     ]
    },
    {
     "name": "stdout",
     "output_type": "stream",
     "text": [
      "Pacman crashed\n"
     ]
    },
    {
     "name": "stderr",
     "output_type": "stream",
     "text": [
      "Agent 0 ran out of time! (time: 1.00)\n"
     ]
    },
    {
     "name": "stdout",
     "output_type": "stream",
     "text": [
      "Pacman crashed\n"
     ]
    },
    {
     "name": "stderr",
     "output_type": "stream",
     "text": [
      "Agent 0 ran out of time! (time: 1.00)\n"
     ]
    },
    {
     "name": "stdout",
     "output_type": "stream",
     "text": [
      "Pacman crashed\n",
      "Pacman emerges victorious! Score: 987\n"
     ]
    },
    {
     "name": "stderr",
     "output_type": "stream",
     "text": [
      "Agent 0 ran out of time! (time: 1.00)\n"
     ]
    },
    {
     "name": "stdout",
     "output_type": "stream",
     "text": [
      "Pacman crashed\n"
     ]
    },
    {
     "name": "stderr",
     "output_type": "stream",
     "text": [
      "Agent 0 ran out of time! (time: 1.00)\n"
     ]
    },
    {
     "name": "stdout",
     "output_type": "stream",
     "text": [
      "Pacman crashed\n"
     ]
    },
    {
     "name": "stderr",
     "output_type": "stream",
     "text": [
      "Agent 0 ran out of time! (time: 1.00)\n"
     ]
    },
    {
     "name": "stdout",
     "output_type": "stream",
     "text": [
      "Pacman crashed\n"
     ]
    },
    {
     "name": "stderr",
     "output_type": "stream",
     "text": [
      "Agent 0 ran out of time! (time: 1.00)\n"
     ]
    },
    {
     "name": "stdout",
     "output_type": "stream",
     "text": [
      "Pacman crashed\n"
     ]
    },
    {
     "name": "stderr",
     "output_type": "stream",
     "text": [
      "Agent 0 ran out of time! (time: 1.01)\n"
     ]
    },
    {
     "name": "stdout",
     "output_type": "stream",
     "text": [
      "Pacman crashed\n",
      "Pacman emerges victorious! Score: 984\n",
      "Pacman emerges victorious! Score: 987\n"
     ]
    },
    {
     "name": "stderr",
     "output_type": "stream",
     "text": [
      "Agent 0 ran out of time! (time: 1.00)\n"
     ]
    },
    {
     "name": "stdout",
     "output_type": "stream",
     "text": [
      "Pacman crashed\n",
      "Pacman emerges victorious! Score: 989\n"
     ]
    },
    {
     "name": "stderr",
     "output_type": "stream",
     "text": [
      "Agent 0 ran out of time! (time: 1.02)\n"
     ]
    },
    {
     "name": "stdout",
     "output_type": "stream",
     "text": [
      "Pacman crashed\n"
     ]
    },
    {
     "name": "stderr",
     "output_type": "stream",
     "text": [
      "Agent 0 ran out of time! (time: 1.00)\n"
     ]
    },
    {
     "name": "stdout",
     "output_type": "stream",
     "text": [
      "Pacman crashed\n"
     ]
    },
    {
     "name": "stderr",
     "output_type": "stream",
     "text": [
      "Agent 0 ran out of time! (time: 1.00)\n"
     ]
    },
    {
     "name": "stdout",
     "output_type": "stream",
     "text": [
      "Pacman crashed\n"
     ]
    },
    {
     "name": "stderr",
     "output_type": "stream",
     "text": [
      "Agent 0 ran out of time! (time: 1.01)\n"
     ]
    },
    {
     "name": "stdout",
     "output_type": "stream",
     "text": [
      "Pacman crashed\n"
     ]
    },
    {
     "name": "stderr",
     "output_type": "stream",
     "text": [
      "Agent 0 ran out of time! (time: 1.00)\n"
     ]
    },
    {
     "name": "stdout",
     "output_type": "stream",
     "text": [
      "Pacman crashed\n"
     ]
    },
    {
     "name": "stderr",
     "output_type": "stream",
     "text": [
      "Agent 0 ran out of time! (time: 1.00)\n"
     ]
    },
    {
     "name": "stdout",
     "output_type": "stream",
     "text": [
      "Pacman crashed\n",
      "Pacman emerges victorious! Score: 987\n"
     ]
    },
    {
     "name": "stderr",
     "output_type": "stream",
     "text": [
      "Agent 0 ran out of time! (time: 1.00)\n"
     ]
    },
    {
     "name": "stdout",
     "output_type": "stream",
     "text": [
      "Pacman crashed\n"
     ]
    },
    {
     "name": "stderr",
     "output_type": "stream",
     "text": [
      "Agent 0 ran out of time! (time: 1.00)\n"
     ]
    },
    {
     "name": "stdout",
     "output_type": "stream",
     "text": [
      "Pacman crashed\n"
     ]
    },
    {
     "name": "stderr",
     "output_type": "stream",
     "text": [
      "Agent 0 ran out of time! (time: 1.00)\n"
     ]
    },
    {
     "name": "stdout",
     "output_type": "stream",
     "text": [
      "Pacman crashed\n"
     ]
    },
    {
     "name": "stderr",
     "output_type": "stream",
     "text": [
      "Agent 0 ran out of time! (time: 1.00)\n"
     ]
    },
    {
     "name": "stdout",
     "output_type": "stream",
     "text": [
      "Pacman crashed\n"
     ]
    },
    {
     "name": "stderr",
     "output_type": "stream",
     "text": [
      "Agent 0 ran out of time! (time: 1.01)\n"
     ]
    },
    {
     "name": "stdout",
     "output_type": "stream",
     "text": [
      "Pacman crashed\n",
      "Pacman emerges victorious! Score: 987\n"
     ]
    },
    {
     "name": "stderr",
     "output_type": "stream",
     "text": [
      "Agent 0 ran out of time! (time: 1.00)\n"
     ]
    },
    {
     "name": "stdout",
     "output_type": "stream",
     "text": [
      "Pacman crashed\n",
      "Pacman emerges victorious! Score: 987\n"
     ]
    },
    {
     "name": "stderr",
     "output_type": "stream",
     "text": [
      "Agent 0 ran out of time! (time: 1.00)\n"
     ]
    },
    {
     "name": "stdout",
     "output_type": "stream",
     "text": [
      "Pacman crashed\n"
     ]
    },
    {
     "name": "stderr",
     "output_type": "stream",
     "text": [
      "Agent 0 ran out of time! (time: 1.00)\n"
     ]
    },
    {
     "name": "stdout",
     "output_type": "stream",
     "text": [
      "Pacman crashed\n"
     ]
    },
    {
     "name": "stderr",
     "output_type": "stream",
     "text": [
      "Agent 0 ran out of time! (time: 1.00)\n"
     ]
    },
    {
     "name": "stdout",
     "output_type": "stream",
     "text": [
      "Pacman emerges victorious! Score: 982\n",
      "Pacman crashed\n"
     ]
    },
    {
     "name": "stderr",
     "output_type": "stream",
     "text": [
      "Agent 0 ran out of time! (time: 1.00)\n"
     ]
    },
    {
     "name": "stdout",
     "output_type": "stream",
     "text": [
      "Pacman crashed\n",
      "Pacman emerges victorious! Score: 987\n"
     ]
    },
    {
     "name": "stderr",
     "output_type": "stream",
     "text": [
      "Agent 0 ran out of time! (time: 1.00)\n"
     ]
    },
    {
     "name": "stdout",
     "output_type": "stream",
     "text": [
      "Pacman crashed\n"
     ]
    },
    {
     "name": "stderr",
     "output_type": "stream",
     "text": [
      "Agent 0 ran out of time! (time: 1.00)\n"
     ]
    },
    {
     "name": "stdout",
     "output_type": "stream",
     "text": [
      "Pacman crashed\n"
     ]
    },
    {
     "name": "stderr",
     "output_type": "stream",
     "text": [
      "Agent 0 ran out of time! (time: 1.00)\n"
     ]
    },
    {
     "name": "stdout",
     "output_type": "stream",
     "text": [
      "Pacman crashed\n",
      "Pacman emerges victorious! Score: 987\n",
      "Pacman emerges victorious! Score: 987\n",
      "Pacman emerges victorious! Score: 987\n"
     ]
    },
    {
     "name": "stderr",
     "output_type": "stream",
     "text": [
      "Agent 0 ran out of time! (time: 1.00)\n"
     ]
    },
    {
     "name": "stdout",
     "output_type": "stream",
     "text": [
      "Pacman crashed\n",
      "Pacman emerges victorious! Score: 984\n"
     ]
    },
    {
     "name": "stderr",
     "output_type": "stream",
     "text": [
      "Agent 0 ran out of time! (time: 1.00)\n"
     ]
    },
    {
     "name": "stdout",
     "output_type": "stream",
     "text": [
      "Pacman crashed\n",
      "Pacman emerges victorious! Score: 989\n",
      "Pacman emerges victorious! Score: 984\n",
      "Pacman emerges victorious! Score: 989\n"
     ]
    },
    {
     "name": "stderr",
     "output_type": "stream",
     "text": [
      "Agent 0 ran out of time! (time: 1.01)\n"
     ]
    },
    {
     "name": "stdout",
     "output_type": "stream",
     "text": [
      "Pacman crashed\n",
      "Pacman emerges victorious! Score: 987\n"
     ]
    },
    {
     "name": "stderr",
     "output_type": "stream",
     "text": [
      "Agent 0 ran out of time! (time: 1.00)\n"
     ]
    },
    {
     "name": "stdout",
     "output_type": "stream",
     "text": [
      "Pacman crashed\n",
      "Pacman emerges victorious! Score: 984\n",
      "Pacman emerges victorious! Score: 982\n"
     ]
    },
    {
     "name": "stderr",
     "output_type": "stream",
     "text": [
      "Agent 0 ran out of time! (time: 1.00)\n"
     ]
    },
    {
     "name": "stdout",
     "output_type": "stream",
     "text": [
      "Pacman crashed\n",
      "Pacman emerges victorious! Score: 989\n",
      "Pacman emerges victorious! Score: 989\n"
     ]
    },
    {
     "name": "stderr",
     "output_type": "stream",
     "text": [
      "Agent 0 ran out of time! (time: 1.00)\n"
     ]
    },
    {
     "name": "stdout",
     "output_type": "stream",
     "text": [
      "Pacman crashed\n"
     ]
    },
    {
     "name": "stderr",
     "output_type": "stream",
     "text": [
      "Agent 0 ran out of time! (time: 1.00)\n"
     ]
    },
    {
     "name": "stdout",
     "output_type": "stream",
     "text": [
      "Pacman crashed\n"
     ]
    },
    {
     "name": "stderr",
     "output_type": "stream",
     "text": [
      "Agent 0 ran out of time! (time: 1.00)\n"
     ]
    },
    {
     "name": "stdout",
     "output_type": "stream",
     "text": [
      "Pacman crashed\n"
     ]
    },
    {
     "name": "stderr",
     "output_type": "stream",
     "text": [
      "Agent 0 ran out of time! (time: 1.00)\n"
     ]
    },
    {
     "name": "stdout",
     "output_type": "stream",
     "text": [
      "Pacman crashed\n"
     ]
    },
    {
     "name": "stderr",
     "output_type": "stream",
     "text": [
      "Agent 0 ran out of time! (time: 1.00)\n"
     ]
    },
    {
     "name": "stdout",
     "output_type": "stream",
     "text": [
      "Pacman crashed\n",
      "Pacman emerges victorious! Score: 984\n",
      "Pacman emerges victorious! Score: 989\n"
     ]
    },
    {
     "name": "stderr",
     "output_type": "stream",
     "text": [
      "Agent 0 ran out of time! (time: 1.01)\n"
     ]
    },
    {
     "name": "stdout",
     "output_type": "stream",
     "text": [
      "Pacman crashed\n"
     ]
    },
    {
     "name": "stderr",
     "output_type": "stream",
     "text": [
      "Agent 0 ran out of time! (time: 1.00)\n"
     ]
    },
    {
     "name": "stdout",
     "output_type": "stream",
     "text": [
      "Pacman crashed\n"
     ]
    },
    {
     "name": "stderr",
     "output_type": "stream",
     "text": [
      "Agent 0 ran out of time! (time: 1.00)\n"
     ]
    },
    {
     "name": "stdout",
     "output_type": "stream",
     "text": [
      "Pacman crashed\n"
     ]
    },
    {
     "name": "stderr",
     "output_type": "stream",
     "text": [
      "Agent 0 ran out of time! (time: 1.01)\n"
     ]
    },
    {
     "name": "stdout",
     "output_type": "stream",
     "text": [
      "Pacman crashed\n"
     ]
    },
    {
     "name": "stderr",
     "output_type": "stream",
     "text": [
      "Agent 0 ran out of time! (time: 1.00)\n"
     ]
    },
    {
     "name": "stdout",
     "output_type": "stream",
     "text": [
      "Pacman crashed\n"
     ]
    },
    {
     "name": "stderr",
     "output_type": "stream",
     "text": [
      "Agent 0 ran out of time! (time: 1.00)\n"
     ]
    },
    {
     "name": "stdout",
     "output_type": "stream",
     "text": [
      "Pacman crashed\n"
     ]
    },
    {
     "name": "stderr",
     "output_type": "stream",
     "text": [
      "Agent 0 ran out of time! (time: 1.00)\n"
     ]
    },
    {
     "name": "stdout",
     "output_type": "stream",
     "text": [
      "Pacman crashed\n"
     ]
    },
    {
     "name": "stderr",
     "output_type": "stream",
     "text": [
      "Agent 0 ran out of time! (time: 1.00)\n"
     ]
    },
    {
     "name": "stdout",
     "output_type": "stream",
     "text": [
      "Pacman crashed\n",
      "Pacman emerges victorious! Score: 982\n",
      "Pacman emerges victorious! Score: 987\n"
     ]
    },
    {
     "name": "stderr",
     "output_type": "stream",
     "text": [
      "Agent 0 ran out of time! (time: 1.00)\n"
     ]
    },
    {
     "name": "stdout",
     "output_type": "stream",
     "text": [
      "Pacman crashed\n",
      "Pacman emerges victorious! Score: 987\n"
     ]
    },
    {
     "name": "stderr",
     "output_type": "stream",
     "text": [
      "Agent 0 ran out of time! (time: 1.00)\n"
     ]
    },
    {
     "name": "stdout",
     "output_type": "stream",
     "text": [
      "Pacman crashed\n"
     ]
    },
    {
     "name": "stderr",
     "output_type": "stream",
     "text": [
      "Agent 0 ran out of time! (time: 1.00)\n"
     ]
    },
    {
     "name": "stdout",
     "output_type": "stream",
     "text": [
      "Pacman crashed\n"
     ]
    },
    {
     "name": "stderr",
     "output_type": "stream",
     "text": [
      "Agent 0 ran out of time! (time: 1.00)\n"
     ]
    },
    {
     "name": "stdout",
     "output_type": "stream",
     "text": [
      "Pacman crashed\n"
     ]
    },
    {
     "name": "stderr",
     "output_type": "stream",
     "text": [
      "Agent 0 ran out of time! (time: 1.00)\n"
     ]
    },
    {
     "name": "stdout",
     "output_type": "stream",
     "text": [
      "Pacman crashed\n"
     ]
    },
    {
     "name": "stderr",
     "output_type": "stream",
     "text": [
      "Agent 0 ran out of time! (time: 1.00)\n"
     ]
    },
    {
     "name": "stdout",
     "output_type": "stream",
     "text": [
      "Pacman crashed\n",
      "Pacman emerges victorious! Score: 987\n"
     ]
    },
    {
     "name": "stderr",
     "output_type": "stream",
     "text": [
      "Agent 0 ran out of time! (time: 1.00)\n"
     ]
    },
    {
     "name": "stdout",
     "output_type": "stream",
     "text": [
      "Pacman crashed\n"
     ]
    },
    {
     "name": "stderr",
     "output_type": "stream",
     "text": [
      "Agent 0 ran out of time! (time: 1.00)\n"
     ]
    },
    {
     "name": "stdout",
     "output_type": "stream",
     "text": [
      "Pacman crashed\n"
     ]
    },
    {
     "name": "stderr",
     "output_type": "stream",
     "text": [
      "Agent 0 ran out of time! (time: 1.01)\n"
     ]
    },
    {
     "name": "stdout",
     "output_type": "stream",
     "text": [
      "Pacman crashed\n"
     ]
    },
    {
     "name": "stderr",
     "output_type": "stream",
     "text": [
      "Agent 0 ran out of time! (time: 1.00)\n"
     ]
    },
    {
     "name": "stdout",
     "output_type": "stream",
     "text": [
      "Pacman crashed\n",
      "Pacman emerges victorious! Score: 989\n",
      "Pacman emerges victorious! Score: 987\n",
      "Pacman emerges victorious! Score: 989\n",
      "Pacman emerges victorious! Score: 987\n",
      "Pacman emerges victorious! Score: 989\n",
      "Pacman emerges victorious! Score: 987\n"
     ]
    },
    {
     "name": "stderr",
     "output_type": "stream",
     "text": [
      "Agent 0 ran out of time! (time: 1.02)\n"
     ]
    },
    {
     "name": "stdout",
     "output_type": "stream",
     "text": [
      "Pacman crashed\n"
     ]
    },
    {
     "name": "stderr",
     "output_type": "stream",
     "text": [
      "Agent 0 ran out of time! (time: 1.00)\n"
     ]
    },
    {
     "name": "stdout",
     "output_type": "stream",
     "text": [
      "Pacman crashed\n",
      "Pacman emerges victorious! Score: 989\n"
     ]
    },
    {
     "name": "stderr",
     "output_type": "stream",
     "text": [
      "Agent 0 ran out of time! (time: 1.00)\n"
     ]
    },
    {
     "name": "stdout",
     "output_type": "stream",
     "text": [
      "Pacman crashed\n",
      "Pacman emerges victorious! Score: 986\n",
      "Pacman emerges victorious! Score: 987\n"
     ]
    },
    {
     "name": "stderr",
     "output_type": "stream",
     "text": [
      "Agent 0 ran out of time! (time: 1.00)\n"
     ]
    },
    {
     "name": "stdout",
     "output_type": "stream",
     "text": [
      "Pacman crashed\n"
     ]
    },
    {
     "name": "stderr",
     "output_type": "stream",
     "text": [
      "Agent 0 ran out of time! (time: 1.01)\n"
     ]
    },
    {
     "name": "stdout",
     "output_type": "stream",
     "text": [
      "Pacman crashed\n"
     ]
    },
    {
     "name": "stderr",
     "output_type": "stream",
     "text": [
      "Agent 0 ran out of time! (time: 1.02)\n"
     ]
    },
    {
     "name": "stdout",
     "output_type": "stream",
     "text": [
      "Pacman crashed\n",
      "Pacman emerges victorious! Score: 987\n"
     ]
    },
    {
     "name": "stderr",
     "output_type": "stream",
     "text": [
      "Agent 0 ran out of time! (time: 1.02)\n"
     ]
    },
    {
     "name": "stdout",
     "output_type": "stream",
     "text": [
      "Pacman crashed\n"
     ]
    },
    {
     "name": "stderr",
     "output_type": "stream",
     "text": [
      "Agent 0 ran out of time! (time: 1.02)\n"
     ]
    },
    {
     "name": "stdout",
     "output_type": "stream",
     "text": [
      "Pacman crashed\n"
     ]
    },
    {
     "name": "stderr",
     "output_type": "stream",
     "text": [
      "Agent 0 ran out of time! (time: 1.02)\n"
     ]
    },
    {
     "name": "stdout",
     "output_type": "stream",
     "text": [
      "Pacman crashed\n",
      "Pacman emerges victorious! Score: 987\n",
      "Pacman emerges victorious! Score: 984\n"
     ]
    },
    {
     "name": "stderr",
     "output_type": "stream",
     "text": [
      "Agent 0 ran out of time! (time: 1.02)\n"
     ]
    },
    {
     "name": "stdout",
     "output_type": "stream",
     "text": [
      "Pacman crashed\n"
     ]
    },
    {
     "name": "stderr",
     "output_type": "stream",
     "text": [
      "Agent 0 ran out of time! (time: 1.02)\n"
     ]
    },
    {
     "name": "stdout",
     "output_type": "stream",
     "text": [
      "Pacman crashed\n",
      "Pacman emerges victorious! Score: 989\n"
     ]
    },
    {
     "name": "stderr",
     "output_type": "stream",
     "text": [
      "Agent 0 ran out of time! (time: 1.02)\n"
     ]
    },
    {
     "name": "stdout",
     "output_type": "stream",
     "text": [
      "Pacman crashed\n",
      "Pacman emerges victorious! Score: 989\n",
      "Pacman emerges victorious! Score: 987\n"
     ]
    },
    {
     "name": "stderr",
     "output_type": "stream",
     "text": [
      "Agent 0 ran out of time! (time: 1.02)\n"
     ]
    },
    {
     "name": "stdout",
     "output_type": "stream",
     "text": [
      "Pacman crashed\n",
      "Pacman emerges victorious! Score: 989\n",
      "Pacman emerges victorious! Score: 989\n"
     ]
    },
    {
     "name": "stderr",
     "output_type": "stream",
     "text": [
      "Agent 0 ran out of time! (time: 1.02)\n"
     ]
    },
    {
     "name": "stdout",
     "output_type": "stream",
     "text": [
      "Pacman crashed\n"
     ]
    },
    {
     "name": "stderr",
     "output_type": "stream",
     "text": [
      "Agent 0 ran out of time! (time: 1.02)\n"
     ]
    },
    {
     "name": "stdout",
     "output_type": "stream",
     "text": [
      "Pacman crashed\n",
      "Pacman emerges victorious! Score: 989\n",
      "Pacman emerges victorious! Score: 982\n"
     ]
    },
    {
     "name": "stderr",
     "output_type": "stream",
     "text": [
      "Agent 0 ran out of time! (time: 1.02)\n"
     ]
    },
    {
     "name": "stdout",
     "output_type": "stream",
     "text": [
      "Pacman crashed\n"
     ]
    },
    {
     "name": "stderr",
     "output_type": "stream",
     "text": [
      "Agent 0 ran out of time! (time: 1.02)\n"
     ]
    },
    {
     "name": "stdout",
     "output_type": "stream",
     "text": [
      "Pacman crashed\n",
      "Pacman emerges victorious! Score: 984\n"
     ]
    },
    {
     "name": "stderr",
     "output_type": "stream",
     "text": [
      "Agent 0 ran out of time! (time: 1.02)\n"
     ]
    },
    {
     "name": "stdout",
     "output_type": "stream",
     "text": [
      "Pacman crashed\n"
     ]
    },
    {
     "name": "stderr",
     "output_type": "stream",
     "text": [
      "Agent 0 ran out of time! (time: 1.02)\n"
     ]
    },
    {
     "name": "stdout",
     "output_type": "stream",
     "text": [
      "Pacman crashed\n",
      "Pacman emerges victorious! Score: 989\n"
     ]
    },
    {
     "name": "stderr",
     "output_type": "stream",
     "text": [
      "Agent 0 ran out of time! (time: 1.02)\n"
     ]
    },
    {
     "name": "stdout",
     "output_type": "stream",
     "text": [
      "Pacman crashed\n",
      "Pacman emerges victorious! Score: 987\n",
      "Pacman emerges victorious! Score: 984\n",
      "Pacman emerges victorious! Score: 989\n",
      "Pacman emerges victorious! Score: 982\n"
     ]
    },
    {
     "name": "stderr",
     "output_type": "stream",
     "text": [
      "Agent 0 ran out of time! (time: 1.02)\n"
     ]
    },
    {
     "name": "stdout",
     "output_type": "stream",
     "text": [
      "Pacman crashed\n",
      "Pacman emerges victorious! Score: 982\n",
      "Pacman emerges victorious! Score: 984\n"
     ]
    },
    {
     "name": "stderr",
     "output_type": "stream",
     "text": [
      "Agent 0 ran out of time! (time: 1.02)\n"
     ]
    },
    {
     "name": "stdout",
     "output_type": "stream",
     "text": [
      "Pacman crashed\n"
     ]
    },
    {
     "name": "stderr",
     "output_type": "stream",
     "text": [
      "Agent 0 ran out of time! (time: 1.02)\n"
     ]
    },
    {
     "name": "stdout",
     "output_type": "stream",
     "text": [
      "Pacman crashed\n"
     ]
    },
    {
     "name": "stderr",
     "output_type": "stream",
     "text": [
      "Agent 0 ran out of time! (time: 1.00)\n"
     ]
    },
    {
     "name": "stdout",
     "output_type": "stream",
     "text": [
      "Pacman crashed\n",
      "Pacman emerges victorious! Score: 987\n",
      "Pacman emerges victorious! Score: 984\n",
      "Pacman emerges victorious! Score: 989\n",
      "Pacman emerges victorious! Score: 987\n"
     ]
    },
    {
     "name": "stderr",
     "output_type": "stream",
     "text": [
      "Agent 0 ran out of time! (time: 1.00)\n"
     ]
    },
    {
     "name": "stdout",
     "output_type": "stream",
     "text": [
      "Pacman crashed\n"
     ]
    },
    {
     "name": "stderr",
     "output_type": "stream",
     "text": [
      "Agent 0 ran out of time! (time: 1.02)\n"
     ]
    },
    {
     "name": "stdout",
     "output_type": "stream",
     "text": [
      "Pacman crashed\n",
      "Pacman emerges victorious! Score: 989\n",
      "Pacman emerges victorious! Score: 987\n",
      "Pacman emerges victorious! Score: 987\n",
      "Pacman emerges victorious! Score: 984\n"
     ]
    },
    {
     "name": "stderr",
     "output_type": "stream",
     "text": [
      "Agent 0 ran out of time! (time: 1.02)\n"
     ]
    },
    {
     "name": "stdout",
     "output_type": "stream",
     "text": [
      "Pacman crashed\n"
     ]
    },
    {
     "name": "stderr",
     "output_type": "stream",
     "text": [
      "Agent 0 ran out of time! (time: 1.02)\n"
     ]
    },
    {
     "name": "stdout",
     "output_type": "stream",
     "text": [
      "Pacman crashed\n",
      "Pacman emerges victorious! Score: 984\n"
     ]
    },
    {
     "name": "stderr",
     "output_type": "stream",
     "text": [
      "Agent 0 ran out of time! (time: 1.02)\n"
     ]
    },
    {
     "name": "stdout",
     "output_type": "stream",
     "text": [
      "Pacman crashed\n"
     ]
    },
    {
     "name": "stderr",
     "output_type": "stream",
     "text": [
      "Agent 0 ran out of time! (time: 1.02)\n"
     ]
    },
    {
     "name": "stdout",
     "output_type": "stream",
     "text": [
      "Pacman crashed\n"
     ]
    },
    {
     "name": "stderr",
     "output_type": "stream",
     "text": [
      "Agent 0 ran out of time! (time: 1.02)\n"
     ]
    },
    {
     "name": "stdout",
     "output_type": "stream",
     "text": [
      "Pacman crashed\n",
      "Pacman emerges victorious! Score: 987\n"
     ]
    },
    {
     "name": "stderr",
     "output_type": "stream",
     "text": [
      "Agent 0 ran out of time! (time: 1.02)\n"
     ]
    },
    {
     "name": "stdout",
     "output_type": "stream",
     "text": [
      "Pacman crashed\n"
     ]
    },
    {
     "name": "stderr",
     "output_type": "stream",
     "text": [
      "Agent 0 ran out of time! (time: 1.02)\n"
     ]
    },
    {
     "name": "stdout",
     "output_type": "stream",
     "text": [
      "Pacman crashed\n",
      "Pacman emerges victorious! Score: 982\n",
      "Pacman emerges victorious! Score: 984\n",
      "Pacman emerges victorious! Score: 987\n",
      "Pacman emerges victorious! Score: 987\n"
     ]
    },
    {
     "name": "stderr",
     "output_type": "stream",
     "text": [
      "Agent 0 ran out of time! (time: 1.02)\n"
     ]
    },
    {
     "name": "stdout",
     "output_type": "stream",
     "text": [
      "Pacman crashed\n"
     ]
    },
    {
     "name": "stderr",
     "output_type": "stream",
     "text": [
      "Agent 0 ran out of time! (time: 1.02)\n"
     ]
    },
    {
     "name": "stdout",
     "output_type": "stream",
     "text": [
      "Pacman crashed\n",
      "Pacman emerges victorious! Score: 984\n"
     ]
    },
    {
     "name": "stderr",
     "output_type": "stream",
     "text": [
      "Agent 0 ran out of time! (time: 1.02)\n"
     ]
    },
    {
     "name": "stdout",
     "output_type": "stream",
     "text": [
      "Pacman crashed\n"
     ]
    },
    {
     "name": "stderr",
     "output_type": "stream",
     "text": [
      "Agent 0 ran out of time! (time: 1.00)\n"
     ]
    },
    {
     "name": "stdout",
     "output_type": "stream",
     "text": [
      "Pacman crashed\n",
      "Pacman emerges victorious! Score: 987\n"
     ]
    },
    {
     "name": "stderr",
     "output_type": "stream",
     "text": [
      "Agent 0 ran out of time! (time: 1.01)\n"
     ]
    },
    {
     "name": "stdout",
     "output_type": "stream",
     "text": [
      "Pacman crashed\n"
     ]
    },
    {
     "name": "stderr",
     "output_type": "stream",
     "text": [
      "Agent 0 ran out of time! (time: 1.02)\n"
     ]
    },
    {
     "name": "stdout",
     "output_type": "stream",
     "text": [
      "Pacman emerges victorious! Score: 982\n",
      "Pacman crashed\n",
      "Pacman emerges victorious! Score: 987\n"
     ]
    },
    {
     "name": "stderr",
     "output_type": "stream",
     "text": [
      "Agent 0 ran out of time! (time: 1.02)\n"
     ]
    },
    {
     "name": "stdout",
     "output_type": "stream",
     "text": [
      "Pacman crashed\n"
     ]
    },
    {
     "name": "stderr",
     "output_type": "stream",
     "text": [
      "Agent 0 ran out of time! (time: 1.02)\n"
     ]
    },
    {
     "name": "stdout",
     "output_type": "stream",
     "text": [
      "Pacman crashed\n",
      "Pacman emerges victorious! Score: 989\n",
      "Pacman emerges victorious! Score: 989\n"
     ]
    },
    {
     "name": "stderr",
     "output_type": "stream",
     "text": [
      "Agent 0 ran out of time! (time: 1.02)\n"
     ]
    },
    {
     "name": "stdout",
     "output_type": "stream",
     "text": [
      "Pacman crashed\n",
      "Pacman emerges victorious! Score: 984\n"
     ]
    },
    {
     "name": "stderr",
     "output_type": "stream",
     "text": [
      "Agent 0 ran out of time! (time: 1.02)\n"
     ]
    },
    {
     "name": "stdout",
     "output_type": "stream",
     "text": [
      "Pacman crashed\n"
     ]
    },
    {
     "name": "stderr",
     "output_type": "stream",
     "text": [
      "Agent 0 ran out of time! (time: 1.02)\n"
     ]
    },
    {
     "name": "stdout",
     "output_type": "stream",
     "text": [
      "Pacman emerges victorious! Score: 989\n",
      "Pacman crashed\n"
     ]
    },
    {
     "name": "stderr",
     "output_type": "stream",
     "text": [
      "Agent 0 ran out of time! (time: 1.02)\n"
     ]
    },
    {
     "name": "stdout",
     "output_type": "stream",
     "text": [
      "Pacman crashed\n"
     ]
    },
    {
     "name": "stderr",
     "output_type": "stream",
     "text": [
      "Agent 0 ran out of time! (time: 1.02)\n"
     ]
    },
    {
     "name": "stdout",
     "output_type": "stream",
     "text": [
      "Pacman crashed\n",
      "Pacman emerges victorious! Score: 987\n"
     ]
    },
    {
     "name": "stderr",
     "output_type": "stream",
     "text": [
      "Agent 0 ran out of time! (time: 1.02)\n"
     ]
    },
    {
     "name": "stdout",
     "output_type": "stream",
     "text": [
      "Pacman crashed\n",
      "Pacman emerges victorious! Score: 987\n"
     ]
    },
    {
     "name": "stderr",
     "output_type": "stream",
     "text": [
      "Agent 0 ran out of time! (time: 1.02)\n"
     ]
    },
    {
     "name": "stdout",
     "output_type": "stream",
     "text": [
      "Pacman crashed\n",
      "Pacman emerges victorious! Score: 987\n"
     ]
    },
    {
     "name": "stderr",
     "output_type": "stream",
     "text": [
      "Agent 0 ran out of time! (time: 1.02)\n"
     ]
    },
    {
     "name": "stdout",
     "output_type": "stream",
     "text": [
      "Pacman crashed\n",
      "Pacman emerges victorious! Score: 989\n",
      "Pacman emerges victorious! Score: 987\n",
      "Pacman emerges victorious! Score: 982\n"
     ]
    },
    {
     "name": "stderr",
     "output_type": "stream",
     "text": [
      "Agent 0 ran out of time! (time: 1.02)\n"
     ]
    },
    {
     "name": "stdout",
     "output_type": "stream",
     "text": [
      "Pacman crashed\n"
     ]
    },
    {
     "name": "stderr",
     "output_type": "stream",
     "text": [
      "Agent 0 ran out of time! (time: 1.00)\n"
     ]
    },
    {
     "name": "stdout",
     "output_type": "stream",
     "text": [
      "Pacman crashed\n"
     ]
    },
    {
     "name": "stderr",
     "output_type": "stream",
     "text": [
      "Agent 0 ran out of time! (time: 1.02)\n"
     ]
    },
    {
     "name": "stdout",
     "output_type": "stream",
     "text": [
      "Pacman crashed\n"
     ]
    },
    {
     "name": "stderr",
     "output_type": "stream",
     "text": [
      "Agent 0 ran out of time! (time: 1.02)\n"
     ]
    },
    {
     "name": "stdout",
     "output_type": "stream",
     "text": [
      "Pacman crashed\n",
      "Pacman emerges victorious! Score: 989\n",
      "Pacman emerges victorious! Score: 984\n",
      "Pacman emerges victorious! Score: 987\n"
     ]
    },
    {
     "name": "stderr",
     "output_type": "stream",
     "text": [
      "Agent 0 ran out of time! (time: 1.02)\n"
     ]
    },
    {
     "name": "stdout",
     "output_type": "stream",
     "text": [
      "Pacman crashed\n",
      "Pacman emerges victorious! Score: 987\n",
      "Pacman emerges victorious! Score: 984\n"
     ]
    },
    {
     "name": "stderr",
     "output_type": "stream",
     "text": [
      "Agent 0 ran out of time! (time: 1.02)\n"
     ]
    },
    {
     "name": "stdout",
     "output_type": "stream",
     "text": [
      "Pacman crashed\n",
      "Pacman emerges victorious! Score: 989\n",
      "Pacman emerges victorious! Score: 984\n"
     ]
    },
    {
     "name": "stderr",
     "output_type": "stream",
     "text": [
      "Agent 0 ran out of time! (time: 1.02)\n"
     ]
    },
    {
     "name": "stdout",
     "output_type": "stream",
     "text": [
      "Pacman crashed\n",
      "Pacman emerges victorious! Score: 989\n",
      "Pacman emerges victorious! Score: 987\n"
     ]
    },
    {
     "name": "stderr",
     "output_type": "stream",
     "text": [
      "Agent 0 ran out of time! (time: 1.02)\n"
     ]
    },
    {
     "name": "stdout",
     "output_type": "stream",
     "text": [
      "Pacman crashed\n"
     ]
    },
    {
     "name": "stderr",
     "output_type": "stream",
     "text": [
      "Agent 0 ran out of time! (time: 1.02)\n"
     ]
    },
    {
     "name": "stdout",
     "output_type": "stream",
     "text": [
      "Pacman crashed\n",
      "Pacman emerges victorious! Score: 982\n",
      "Pacman emerges victorious! Score: 987\n",
      "Pacman emerges victorious! Score: 987\n",
      "Pacman emerges victorious! Score: 982\n",
      "Pacman emerges victorious! Score: 976\n"
     ]
    },
    {
     "name": "stderr",
     "output_type": "stream",
     "text": [
      "Agent 0 ran out of time! (time: 1.02)\n"
     ]
    },
    {
     "name": "stdout",
     "output_type": "stream",
     "text": [
      "Pacman crashed\n",
      "Pacman emerges victorious! Score: 984\n",
      "Pacman emerges victorious! Score: 982\n",
      "Pacman emerges victorious! Score: 987\n",
      "Pacman emerges victorious! Score: 987\n",
      "Pacman emerges victorious! Score: 984\n",
      "Pacman emerges victorious! Score: 987\n",
      "Pacman emerges victorious! Score: 989\n",
      "Pacman emerges victorious! Score: 989\n"
     ]
    },
    {
     "name": "stderr",
     "output_type": "stream",
     "text": [
      "Agent 0 ran out of time! (time: 1.02)\n"
     ]
    },
    {
     "name": "stdout",
     "output_type": "stream",
     "text": [
      "Pacman crashed\n"
     ]
    },
    {
     "name": "stderr",
     "output_type": "stream",
     "text": [
      "Agent 0 ran out of time! (time: 1.02)\n"
     ]
    },
    {
     "name": "stdout",
     "output_type": "stream",
     "text": [
      "Pacman crashed\n"
     ]
    },
    {
     "name": "stderr",
     "output_type": "stream",
     "text": [
      "Agent 0 ran out of time! (time: 1.00)\n"
     ]
    },
    {
     "name": "stdout",
     "output_type": "stream",
     "text": [
      "Pacman crashed\n",
      "Pacman emerges victorious! Score: 989\n",
      "Pacman emerges victorious! Score: 982\n"
     ]
    },
    {
     "name": "stderr",
     "output_type": "stream",
     "text": [
      "Agent 0 ran out of time! (time: 1.02)\n"
     ]
    },
    {
     "name": "stdout",
     "output_type": "stream",
     "text": [
      "Pacman crashed\n",
      "Pacman emerges victorious! Score: 989\n"
     ]
    },
    {
     "name": "stderr",
     "output_type": "stream",
     "text": [
      "Agent 0 ran out of time! (time: 1.02)\n"
     ]
    },
    {
     "name": "stdout",
     "output_type": "stream",
     "text": [
      "Pacman crashed\n"
     ]
    },
    {
     "name": "stderr",
     "output_type": "stream",
     "text": [
      "Agent 0 ran out of time! (time: 1.02)\n"
     ]
    },
    {
     "name": "stdout",
     "output_type": "stream",
     "text": [
      "Pacman crashed\n"
     ]
    },
    {
     "name": "stderr",
     "output_type": "stream",
     "text": [
      "Agent 0 ran out of time! (time: 1.02)\n"
     ]
    },
    {
     "name": "stdout",
     "output_type": "stream",
     "text": [
      "Pacman crashed\n"
     ]
    },
    {
     "name": "stderr",
     "output_type": "stream",
     "text": [
      "Agent 0 ran out of time! (time: 1.02)\n"
     ]
    },
    {
     "name": "stdout",
     "output_type": "stream",
     "text": [
      "Pacman crashed\n",
      "Pacman emerges victorious! Score: 989\n",
      "Pacman emerges victorious! Score: 989\n",
      "Pacman emerges victorious! Score: 982\n",
      "Pacman emerges victorious! Score: 987\n",
      "Pacman emerges victorious! Score: 989\n",
      "Pacman emerges victorious! Score: 987\n",
      "Pacman emerges victorious! Score: 982\n",
      "Pacman emerges victorious! Score: 989\n",
      "Pacman emerges victorious! Score: 987\n",
      "Pacman emerges victorious! Score: 987\n",
      "Pacman emerges victorious! Score: 989\n",
      "Pacman emerges victorious! Score: 984\n"
     ]
    },
    {
     "name": "stderr",
     "output_type": "stream",
     "text": [
      "Agent 0 ran out of time! (time: 1.02)\n"
     ]
    },
    {
     "name": "stdout",
     "output_type": "stream",
     "text": [
      "Pacman crashed\n",
      "Pacman emerges victorious! Score: 989\n"
     ]
    },
    {
     "name": "stderr",
     "output_type": "stream",
     "text": [
      "Agent 0 ran out of time! (time: 1.02)\n"
     ]
    },
    {
     "name": "stdout",
     "output_type": "stream",
     "text": [
      "Pacman crashed\n",
      "Pacman emerges victorious! Score: 989\n"
     ]
    },
    {
     "name": "stderr",
     "output_type": "stream",
     "text": [
      "Agent 0 ran out of time! (time: 1.02)\n"
     ]
    },
    {
     "name": "stdout",
     "output_type": "stream",
     "text": [
      "Pacman crashed\n",
      "Pacman emerges victorious! Score: 984\n",
      "Pacman emerges victorious! Score: 987\n",
      "Pacman emerges victorious! Score: 989\n"
     ]
    },
    {
     "name": "stderr",
     "output_type": "stream",
     "text": [
      "Agent 0 ran out of time! (time: 1.02)\n"
     ]
    },
    {
     "name": "stdout",
     "output_type": "stream",
     "text": [
      "Pacman crashed\n",
      "Pacman emerges victorious! Score: 987\n",
      "Pacman emerges victorious! Score: 989\n"
     ]
    },
    {
     "name": "stderr",
     "output_type": "stream",
     "text": [
      "Agent 0 ran out of time! (time: 1.02)\n"
     ]
    },
    {
     "name": "stdout",
     "output_type": "stream",
     "text": [
      "Pacman crashed\n"
     ]
    },
    {
     "name": "stderr",
     "output_type": "stream",
     "text": [
      "Agent 0 ran out of time! (time: 1.02)\n"
     ]
    },
    {
     "name": "stdout",
     "output_type": "stream",
     "text": [
      "Pacman crashed\n",
      "Pacman emerges victorious! Score: 989\n",
      "Pacman emerges victorious! Score: 987\n"
     ]
    },
    {
     "name": "stderr",
     "output_type": "stream",
     "text": [
      "Agent 0 ran out of time! (time: 1.01)\n"
     ]
    },
    {
     "name": "stdout",
     "output_type": "stream",
     "text": [
      "Pacman crashed\n",
      "Pacman emerges victorious! Score: 982\n",
      "Pacman emerges victorious! Score: 989\n",
      "Pacman emerges victorious! Score: 982\n",
      "Pacman emerges victorious! Score: 987\n",
      "Pacman emerges victorious! Score: 986\n",
      "Pacman emerges victorious! Score: 982\n",
      "Pacman emerges victorious! Score: 989\n"
     ]
    },
    {
     "name": "stderr",
     "output_type": "stream",
     "text": [
      "Agent 0 ran out of time! (time: 1.02)\n"
     ]
    },
    {
     "name": "stdout",
     "output_type": "stream",
     "text": [
      "Pacman crashed\n",
      "Pacman emerges victorious! Score: 987\n",
      "Pacman emerges victorious! Score: 989\n"
     ]
    },
    {
     "name": "stderr",
     "output_type": "stream",
     "text": [
      "Agent 0 ran out of time! (time: 1.02)\n"
     ]
    },
    {
     "name": "stdout",
     "output_type": "stream",
     "text": [
      "Pacman crashed\n",
      "Pacman emerges victorious! Score: 989\n"
     ]
    },
    {
     "name": "stderr",
     "output_type": "stream",
     "text": [
      "Agent 0 ran out of time! (time: 1.02)\n"
     ]
    },
    {
     "name": "stdout",
     "output_type": "stream",
     "text": [
      "Pacman crashed\n"
     ]
    },
    {
     "name": "stderr",
     "output_type": "stream",
     "text": [
      "Agent 0 ran out of time! (time: 1.02)\n"
     ]
    },
    {
     "name": "stdout",
     "output_type": "stream",
     "text": [
      "Pacman emerges victorious! Score: 987\n",
      "Pacman crashed\n",
      "Pacman emerges victorious! Score: 989\n",
      "Pacman emerges victorious! Score: 987\n",
      "Pacman emerges victorious! Score: 989\n"
     ]
    },
    {
     "name": "stderr",
     "output_type": "stream",
     "text": [
      "Agent 0 ran out of time! (time: 1.02)\n"
     ]
    },
    {
     "name": "stdout",
     "output_type": "stream",
     "text": [
      "Pacman crashed\n",
      "Pacman emerges victorious! Score: 984\n"
     ]
    },
    {
     "name": "stderr",
     "output_type": "stream",
     "text": [
      "Agent 0 ran out of time! (time: 1.02)\n"
     ]
    },
    {
     "name": "stdout",
     "output_type": "stream",
     "text": [
      "Pacman crashed\n",
      "Pacman emerges victorious! Score: 989\n",
      "Pacman emerges victorious! Score: 989\n",
      "Pacman emerges victorious! Score: 987\n",
      "Pacman emerges victorious! Score: 987\n",
      "Pacman emerges victorious! Score: 989\n",
      "Pacman emerges victorious! Score: 987\n"
     ]
    },
    {
     "name": "stderr",
     "output_type": "stream",
     "text": [
      "Agent 0 ran out of time! (time: 1.02)\n"
     ]
    },
    {
     "name": "stdout",
     "output_type": "stream",
     "text": [
      "Pacman crashed\n",
      "Pacman emerges victorious! Score: 989\n"
     ]
    },
    {
     "name": "stderr",
     "output_type": "stream",
     "text": [
      "Agent 0 ran out of time! (time: 1.02)\n"
     ]
    },
    {
     "name": "stdout",
     "output_type": "stream",
     "text": [
      "Pacman crashed\n",
      "Pacman emerges victorious! Score: 987\n",
      "Pacman emerges victorious! Score: 989\n"
     ]
    },
    {
     "name": "stderr",
     "output_type": "stream",
     "text": [
      "Agent 0 ran out of time! (time: 1.02)\n"
     ]
    },
    {
     "name": "stdout",
     "output_type": "stream",
     "text": [
      "Pacman crashed\n",
      "Pacman emerges victorious! Score: 984\n",
      "Pacman emerges victorious! Score: 982\n"
     ]
    },
    {
     "name": "stderr",
     "output_type": "stream",
     "text": [
      "Agent 0 ran out of time! (time: 1.02)\n"
     ]
    },
    {
     "name": "stdout",
     "output_type": "stream",
     "text": [
      "Pacman crashed\n",
      "Pacman emerges victorious! Score: 984\n",
      "Pacman emerges victorious! Score: 987\n",
      "Pacman emerges victorious! Score: 982\n"
     ]
    },
    {
     "name": "stderr",
     "output_type": "stream",
     "text": [
      "Agent 0 ran out of time! (time: 1.00)\n"
     ]
    },
    {
     "name": "stdout",
     "output_type": "stream",
     "text": [
      "Pacman crashed\n",
      "Pacman emerges victorious! Score: 982\n"
     ]
    },
    {
     "name": "stderr",
     "output_type": "stream",
     "text": [
      "Agent 0 ran out of time! (time: 1.01)\n"
     ]
    },
    {
     "name": "stdout",
     "output_type": "stream",
     "text": [
      "Pacman crashed\n",
      "Pacman emerges victorious! Score: 982\n",
      "Pacman emerges victorious! Score: 989\n",
      "Pacman emerges victorious! Score: 984\n"
     ]
    },
    {
     "name": "stderr",
     "output_type": "stream",
     "text": [
      "Agent 0 ran out of time! (time: 1.02)\n"
     ]
    },
    {
     "name": "stdout",
     "output_type": "stream",
     "text": [
      "Pacman crashed\n"
     ]
    },
    {
     "name": "stderr",
     "output_type": "stream",
     "text": [
      "Agent 0 ran out of time! (time: 1.02)\n"
     ]
    },
    {
     "name": "stdout",
     "output_type": "stream",
     "text": [
      "Pacman crashed\n",
      "Pacman emerges victorious! Score: 989\n"
     ]
    },
    {
     "name": "stderr",
     "output_type": "stream",
     "text": [
      "Agent 0 ran out of time! (time: 1.02)\n"
     ]
    },
    {
     "name": "stdout",
     "output_type": "stream",
     "text": [
      "Pacman crashed\n",
      "Pacman emerges victorious! Score: 987\n",
      "Pacman emerges victorious! Score: 987\n"
     ]
    },
    {
     "name": "stderr",
     "output_type": "stream",
     "text": [
      "Agent 0 ran out of time! (time: 1.02)\n"
     ]
    },
    {
     "name": "stdout",
     "output_type": "stream",
     "text": [
      "Pacman crashed\n",
      "Pacman emerges victorious! Score: 989\n"
     ]
    },
    {
     "name": "stderr",
     "output_type": "stream",
     "text": [
      "Agent 0 ran out of time! (time: 1.02)\n"
     ]
    },
    {
     "name": "stdout",
     "output_type": "stream",
     "text": [
      "Pacman crashed\n",
      "Pacman emerges victorious! Score: 989\n"
     ]
    },
    {
     "name": "stderr",
     "output_type": "stream",
     "text": [
      "Agent 0 ran out of time! (time: 1.02)\n"
     ]
    },
    {
     "name": "stdout",
     "output_type": "stream",
     "text": [
      "Pacman crashed\n",
      "Pacman emerges victorious! Score: 989\n",
      "Pacman emerges victorious! Score: 989\n",
      "Pacman emerges victorious! Score: 984\n"
     ]
    },
    {
     "name": "stderr",
     "output_type": "stream",
     "text": [
      "Agent 0 ran out of time! (time: 1.02)\n"
     ]
    },
    {
     "name": "stdout",
     "output_type": "stream",
     "text": [
      "Pacman crashed\n",
      "Pacman emerges victorious! Score: 987\n",
      "Pacman emerges victorious! Score: 984\n",
      "Pacman emerges victorious! Score: 982\n",
      "Pacman emerges victorious! Score: 987\n"
     ]
    },
    {
     "name": "stderr",
     "output_type": "stream",
     "text": [
      "Agent 0 ran out of time! (time: 1.02)\n"
     ]
    },
    {
     "name": "stdout",
     "output_type": "stream",
     "text": [
      "Pacman crashed\n"
     ]
    },
    {
     "name": "stderr",
     "output_type": "stream",
     "text": [
      "Agent 0 ran out of time! (time: 1.02)\n"
     ]
    },
    {
     "name": "stdout",
     "output_type": "stream",
     "text": [
      "Pacman crashed\n",
      "Pacman emerges victorious! Score: 984\n"
     ]
    },
    {
     "name": "stderr",
     "output_type": "stream",
     "text": [
      "Agent 0 ran out of time! (time: 1.02)\n"
     ]
    },
    {
     "name": "stdout",
     "output_type": "stream",
     "text": [
      "Pacman crashed\n"
     ]
    },
    {
     "name": "stderr",
     "output_type": "stream",
     "text": [
      "Agent 0 ran out of time! (time: 1.02)\n"
     ]
    },
    {
     "name": "stdout",
     "output_type": "stream",
     "text": [
      "Pacman crashed\n",
      "Pacman emerges victorious! Score: 982\n",
      "Pacman emerges victorious! Score: 987\n"
     ]
    },
    {
     "name": "stderr",
     "output_type": "stream",
     "text": [
      "Agent 0 ran out of time! (time: 1.02)\n"
     ]
    },
    {
     "name": "stdout",
     "output_type": "stream",
     "text": [
      "Pacman crashed\n",
      "Pacman emerges victorious! Score: 987\n",
      "Pacman emerges victorious! Score: 989\n",
      "Pacman emerges victorious! Score: 987\n",
      "Pacman emerges victorious! Score: 989\n",
      "Pacman emerges victorious! Score: 989\n",
      "Pacman emerges victorious! Score: 987\n",
      "Pacman emerges victorious! Score: 989\n"
     ]
    },
    {
     "name": "stderr",
     "output_type": "stream",
     "text": [
      "Agent 0 ran out of time! (time: 1.02)\n"
     ]
    },
    {
     "name": "stdout",
     "output_type": "stream",
     "text": [
      "Pacman crashed\n",
      "Pacman emerges victorious! Score: 989\n",
      "Pacman emerges victorious! Score: 984\n",
      "Pacman emerges victorious! Score: 987\n",
      "Pacman emerges victorious! Score: 987\n",
      "Pacman emerges victorious! Score: 987\n",
      "Pacman emerges victorious! Score: 987\n"
     ]
    },
    {
     "name": "stderr",
     "output_type": "stream",
     "text": [
      "Agent 0 ran out of time! (time: 1.02)\n"
     ]
    },
    {
     "name": "stdout",
     "output_type": "stream",
     "text": [
      "Pacman crashed\n",
      "Pacman emerges victorious! Score: 989\n",
      "Pacman emerges victorious! Score: 989\n"
     ]
    },
    {
     "name": "stderr",
     "output_type": "stream",
     "text": [
      "Agent 0 ran out of time! (time: 1.02)\n"
     ]
    },
    {
     "name": "stdout",
     "output_type": "stream",
     "text": [
      "Pacman crashed\n",
      "Pacman emerges victorious! Score: 989\n",
      "Pacman emerges victorious! Score: 982\n",
      "Pacman emerges victorious! Score: 987\n"
     ]
    },
    {
     "name": "stderr",
     "output_type": "stream",
     "text": [
      "Agent 0 ran out of time! (time: 1.02)\n"
     ]
    },
    {
     "name": "stdout",
     "output_type": "stream",
     "text": [
      "Pacman crashed\n",
      "Pacman emerges victorious! Score: 989\n",
      "Pacman emerges victorious! Score: 987\n",
      "Pacman emerges victorious! Score: 982\n",
      "Pacman emerges victorious! Score: 987\n"
     ]
    },
    {
     "name": "stderr",
     "output_type": "stream",
     "text": [
      "Agent 0 ran out of time! (time: 1.02)\n"
     ]
    },
    {
     "name": "stdout",
     "output_type": "stream",
     "text": [
      "Pacman crashed\n",
      "Pacman emerges victorious! Score: 989\n",
      "Pacman emerges victorious! Score: 989\n",
      "Pacman emerges victorious! Score: 989\n",
      "Pacman emerges victorious! Score: 989\n",
      "Pacman emerges victorious! Score: 982\n",
      "Pacman emerges victorious! Score: 987\n",
      "Pacman emerges victorious! Score: 987\n"
     ]
    },
    {
     "name": "stderr",
     "output_type": "stream",
     "text": [
      "Agent 0 ran out of time! (time: 1.02)\n"
     ]
    },
    {
     "name": "stdout",
     "output_type": "stream",
     "text": [
      "Pacman crashed\n",
      "Pacman emerges victorious! Score: 989\n",
      "Pacman emerges victorious! Score: 989\n",
      "Pacman emerges victorious! Score: 989\n",
      "Pacman emerges victorious! Score: 987\n",
      "Pacman emerges victorious! Score: 987\n",
      "Pacman emerges victorious! Score: 989\n",
      "Pacman emerges victorious! Score: 987\n",
      "Pacman emerges victorious! Score: 989\n"
     ]
    },
    {
     "name": "stderr",
     "output_type": "stream",
     "text": [
      "Agent 0 ran out of time! (time: 1.02)\n"
     ]
    },
    {
     "name": "stdout",
     "output_type": "stream",
     "text": [
      "Pacman crashed\n",
      "Pacman emerges victorious! Score: 987\n",
      "Pacman emerges victorious! Score: 989\n",
      "Pacman emerges victorious! Score: 989\n"
     ]
    },
    {
     "name": "stderr",
     "output_type": "stream",
     "text": [
      "Agent 0 ran out of time! (time: 1.02)\n"
     ]
    },
    {
     "name": "stdout",
     "output_type": "stream",
     "text": [
      "Pacman crashed\n",
      "Pacman emerges victorious! Score: 989\n",
      "Pacman emerges victorious! Score: 984\n"
     ]
    },
    {
     "name": "stderr",
     "output_type": "stream",
     "text": [
      "Agent 0 ran out of time! (time: 1.02)\n"
     ]
    },
    {
     "name": "stdout",
     "output_type": "stream",
     "text": [
      "Pacman crashed\n",
      "Pacman emerges victorious! Score: 987\n",
      "Pacman emerges victorious! Score: 989\n"
     ]
    },
    {
     "name": "stderr",
     "output_type": "stream",
     "text": [
      "Agent 0 ran out of time! (time: 1.00)\n"
     ]
    },
    {
     "name": "stdout",
     "output_type": "stream",
     "text": [
      "Pacman crashed\n",
      "Pacman emerges victorious! Score: 984\n",
      "Pacman emerges victorious! Score: 984\n",
      "Pacman emerges victorious! Score: 989\n",
      "Pacman emerges victorious! Score: 987\n",
      "Pacman emerges victorious! Score: 989\n",
      "Pacman emerges victorious! Score: 987\n",
      "Pacman emerges victorious! Score: 989\n",
      "Pacman emerges victorious! Score: 989\n",
      "Pacman emerges victorious! Score: 987\n",
      "Pacman emerges victorious! Score: 987\n",
      "Pacman emerges victorious! Score: 987\n",
      "Pacman emerges victorious! Score: 987\n"
     ]
    },
    {
     "name": "stderr",
     "output_type": "stream",
     "text": [
      "Agent 0 ran out of time! (time: 1.02)\n"
     ]
    },
    {
     "name": "stdout",
     "output_type": "stream",
     "text": [
      "Pacman crashed\n",
      "Pacman emerges victorious! Score: 984\n",
      "Pacman emerges victorious! Score: 982\n",
      "Pacman emerges victorious! Score: 989\n",
      "Pacman emerges victorious! Score: 989\n",
      "Pacman emerges victorious! Score: 987\n"
     ]
    },
    {
     "name": "stderr",
     "output_type": "stream",
     "text": [
      "Agent 0 ran out of time! (time: 1.02)\n"
     ]
    },
    {
     "name": "stdout",
     "output_type": "stream",
     "text": [
      "Pacman crashed\n"
     ]
    },
    {
     "name": "stderr",
     "output_type": "stream",
     "text": [
      "Agent 0 ran out of time! (time: 1.02)\n"
     ]
    },
    {
     "name": "stdout",
     "output_type": "stream",
     "text": [
      "Pacman crashed\n",
      "Pacman emerges victorious! Score: 982\n",
      "Pacman emerges victorious! Score: 987\n"
     ]
    },
    {
     "name": "stderr",
     "output_type": "stream",
     "text": [
      "Agent 0 ran out of time! (time: 1.02)\n"
     ]
    },
    {
     "name": "stdout",
     "output_type": "stream",
     "text": [
      "Pacman crashed\n",
      "Pacman emerges victorious! Score: 989\n",
      "Pacman emerges victorious! Score: 987\n",
      "Pacman emerges victorious! Score: 987\n",
      "Pacman emerges victorious! Score: 984\n",
      "Pacman emerges victorious! Score: 987\n"
     ]
    },
    {
     "name": "stderr",
     "output_type": "stream",
     "text": [
      "Agent 0 ran out of time! (time: 1.02)\n"
     ]
    },
    {
     "name": "stdout",
     "output_type": "stream",
     "text": [
      "Pacman crashed\n",
      "Pacman emerges victorious! Score: 984\n",
      "Pacman emerges victorious! Score: 989\n",
      "Pacman emerges victorious! Score: 982\n",
      "Pacman emerges victorious! Score: 989\n",
      "Pacman emerges victorious! Score: 987\n"
     ]
    },
    {
     "name": "stderr",
     "output_type": "stream",
     "text": [
      "Agent 0 ran out of time! (time: 1.02)\n"
     ]
    },
    {
     "name": "stdout",
     "output_type": "stream",
     "text": [
      "Pacman crashed\n",
      "Pacman emerges victorious! Score: 987\n",
      "Pacman emerges victorious! Score: 987\n",
      "Pacman emerges victorious! Score: 987\n",
      "Pacman emerges victorious! Score: 989\n",
      "Pacman emerges victorious! Score: 989\n",
      "Pacman emerges victorious! Score: 982\n"
     ]
    },
    {
     "name": "stderr",
     "output_type": "stream",
     "text": [
      "Agent 0 ran out of time! (time: 1.02)\n"
     ]
    },
    {
     "name": "stdout",
     "output_type": "stream",
     "text": [
      "Pacman crashed\n",
      "Pacman emerges victorious! Score: 987\n",
      "Pacman emerges victorious! Score: 987\n",
      "Pacman emerges victorious! Score: 986\n",
      "Pacman emerges victorious! Score: 989\n",
      "Pacman emerges victorious! Score: 987\n",
      "Pacman emerges victorious! Score: 987\n",
      "Pacman emerges victorious! Score: 989\n",
      "Pacman emerges victorious! Score: 987\n",
      "Pacman emerges victorious! Score: 987\n",
      "Pacman emerges victorious! Score: 987\n",
      "Pacman emerges victorious! Score: 987\n",
      "Pacman emerges victorious! Score: 989\n"
     ]
    },
    {
     "name": "stderr",
     "output_type": "stream",
     "text": [
      "Agent 0 ran out of time! (time: 1.01)\n"
     ]
    },
    {
     "name": "stdout",
     "output_type": "stream",
     "text": [
      "Pacman crashed\n",
      "Pacman emerges victorious! Score: 989\n",
      "Pacman emerges victorious! Score: 982\n",
      "Pacman emerges victorious! Score: 984\n"
     ]
    },
    {
     "name": "stderr",
     "output_type": "stream",
     "text": [
      "Agent 0 ran out of time! (time: 1.01)\n"
     ]
    },
    {
     "name": "stdout",
     "output_type": "stream",
     "text": [
      "Pacman crashed\n",
      "Pacman emerges victorious! Score: 989\n",
      "Pacman emerges victorious! Score: 989\n",
      "Pacman emerges victorious! Score: 987\n",
      "Pacman emerges victorious! Score: 982\n",
      "Pacman emerges victorious! Score: 987\n",
      "Pacman emerges victorious! Score: 982\n"
     ]
    },
    {
     "name": "stderr",
     "output_type": "stream",
     "text": [
      "Agent 0 ran out of time! (time: 1.00)\n"
     ]
    },
    {
     "name": "stdout",
     "output_type": "stream",
     "text": [
      "Pacman crashed\n",
      "Pacman emerges victorious! Score: 987\n",
      "Pacman emerges victorious! Score: 989\n",
      "Pacman emerges victorious! Score: 989\n",
      "Pacman emerges victorious! Score: 987\n"
     ]
    },
    {
     "name": "stderr",
     "output_type": "stream",
     "text": [
      "Agent 0 ran out of time! (time: 1.00)\n"
     ]
    },
    {
     "name": "stdout",
     "output_type": "stream",
     "text": [
      "Pacman crashed\n"
     ]
    },
    {
     "name": "stderr",
     "output_type": "stream",
     "text": [
      "Agent 0 ran out of time! (time: 1.00)\n"
     ]
    },
    {
     "name": "stdout",
     "output_type": "stream",
     "text": [
      "Pacman crashed\n",
      "Pacman emerges victorious! Score: 984\n",
      "Pacman emerges victorious! Score: 989\n",
      "Pacman emerges victorious! Score: 989\n",
      "Pacman emerges victorious! Score: 987\n",
      "Pacman emerges victorious! Score: 989\n"
     ]
    },
    {
     "name": "stderr",
     "output_type": "stream",
     "text": [
      "Agent 0 ran out of time! (time: 1.00)\n"
     ]
    },
    {
     "name": "stdout",
     "output_type": "stream",
     "text": [
      "Pacman crashed\n",
      "Pacman emerges victorious! Score: 987\n",
      "Pacman emerges victorious! Score: 987\n",
      "Pacman emerges victorious! Score: 989\n",
      "Pacman emerges victorious! Score: 987\n",
      "Pacman emerges victorious! Score: 984\n"
     ]
    },
    {
     "name": "stderr",
     "output_type": "stream",
     "text": [
      "Agent 0 ran out of time! (time: 1.00)\n"
     ]
    },
    {
     "name": "stdout",
     "output_type": "stream",
     "text": [
      "Pacman crashed\n",
      "Pacman emerges victorious! Score: 989\n",
      "Pacman emerges victorious! Score: 989\n",
      "Pacman emerges victorious! Score: 989\n"
     ]
    },
    {
     "name": "stderr",
     "output_type": "stream",
     "text": [
      "Agent 0 ran out of time! (time: 1.00)\n"
     ]
    },
    {
     "name": "stdout",
     "output_type": "stream",
     "text": [
      "Pacman crashed\n",
      "Pacman emerges victorious! Score: 987\n",
      "Pacman emerges victorious! Score: 989\n",
      "Pacman emerges victorious! Score: 987\n"
     ]
    },
    {
     "name": "stderr",
     "output_type": "stream",
     "text": [
      "Agent 0 ran out of time! (time: 1.00)\n"
     ]
    },
    {
     "name": "stdout",
     "output_type": "stream",
     "text": [
      "Pacman crashed\n",
      "Pacman emerges victorious! Score: 987\n",
      "Pacman emerges victorious! Score: 989\n",
      "Pacman emerges victorious! Score: 989\n",
      "Pacman emerges victorious! Score: 987\n",
      "Pacman emerges victorious! Score: 989\n",
      "Pacman emerges victorious! Score: 989\n",
      "Pacman emerges victorious! Score: 987\n",
      "Pacman emerges victorious! Score: 984\n",
      "Pacman emerges victorious! Score: 989\n",
      "Pacman emerges victorious! Score: 987\n",
      "Pacman emerges victorious! Score: 989\n"
     ]
    },
    {
     "name": "stderr",
     "output_type": "stream",
     "text": [
      "Agent 0 ran out of time! (time: 1.00)\n"
     ]
    },
    {
     "name": "stdout",
     "output_type": "stream",
     "text": [
      "Pacman crashed\n"
     ]
    },
    {
     "name": "stderr",
     "output_type": "stream",
     "text": [
      "Agent 0 ran out of time! (time: 1.00)\n"
     ]
    },
    {
     "name": "stdout",
     "output_type": "stream",
     "text": [
      "Pacman crashed\n",
      "Pacman emerges victorious! Score: 989\n",
      "Pacman emerges victorious! Score: 987\n",
      "Pacman emerges victorious! Score: 987\n",
      "Pacman emerges victorious! Score: 987\n",
      "Pacman emerges victorious! Score: 984\n",
      "Pacman emerges victorious! Score: 989\n",
      "Pacman emerges victorious! Score: 987\n",
      "Pacman emerges victorious! Score: 982\n",
      "Pacman emerges victorious! Score: 989\n",
      "Pacman emerges victorious! Score: 989\n",
      "Pacman emerges victorious! Score: 989\n"
     ]
    },
    {
     "name": "stderr",
     "output_type": "stream",
     "text": [
      "Agent 0 ran out of time! (time: 1.00)\n"
     ]
    },
    {
     "name": "stdout",
     "output_type": "stream",
     "text": [
      "Pacman crashed\n",
      "Pacman emerges victorious! Score: 987\n",
      "Pacman emerges victorious! Score: 989\n",
      "Pacman emerges victorious! Score: 989\n",
      "Pacman emerges victorious! Score: 989\n"
     ]
    },
    {
     "name": "stderr",
     "output_type": "stream",
     "text": [
      "Agent 0 ran out of time! (time: 1.00)\n"
     ]
    },
    {
     "name": "stdout",
     "output_type": "stream",
     "text": [
      "Pacman crashed\n",
      "Pacman emerges victorious! Score: 989\n",
      "Pacman emerges victorious! Score: 984\n",
      "Pacman emerges victorious! Score: 989\n",
      "Pacman emerges victorious! Score: 989\n",
      "Pacman emerges victorious! Score: 987\n",
      "Pacman emerges victorious! Score: 989\n",
      "Pacman emerges victorious! Score: 989\n",
      "Pacman emerges victorious! Score: 989\n",
      "Pacman emerges victorious! Score: 987\n",
      "Pacman emerges victorious! Score: 982\n",
      "Pacman emerges victorious! Score: 982\n",
      "Pacman emerges victorious! Score: 989\n",
      "Pacman emerges victorious! Score: 987\n",
      "Pacman emerges victorious! Score: 989\n",
      "Pacman emerges victorious! Score: 989\n"
     ]
    },
    {
     "name": "stderr",
     "output_type": "stream",
     "text": [
      "Agent 0 ran out of time! (time: 1.00)\n"
     ]
    },
    {
     "name": "stdout",
     "output_type": "stream",
     "text": [
      "Pacman crashed\n"
     ]
    },
    {
     "name": "stderr",
     "output_type": "stream",
     "text": [
      "Agent 0 ran out of time! (time: 1.00)\n"
     ]
    },
    {
     "name": "stdout",
     "output_type": "stream",
     "text": [
      "Pacman crashed\n",
      "Pacman emerges victorious! Score: 989\n",
      "Pacman emerges victorious! Score: 987\n",
      "Pacman emerges victorious! Score: 987\n",
      "Pacman emerges victorious! Score: 989\n",
      "Pacman emerges victorious! Score: 989\n",
      "Pacman emerges victorious! Score: 982\n",
      "Pacman emerges victorious! Score: 987\n",
      "Pacman emerges victorious! Score: 982\n",
      "Pacman emerges victorious! Score: 987\n"
     ]
    },
    {
     "name": "stderr",
     "output_type": "stream",
     "text": [
      "Agent 0 ran out of time! (time: 1.00)\n"
     ]
    },
    {
     "name": "stdout",
     "output_type": "stream",
     "text": [
      "Pacman crashed\n",
      "Pacman emerges victorious! Score: 989\n",
      "Pacman emerges victorious! Score: 987\n",
      "Pacman emerges victorious! Score: 989\n",
      "Pacman emerges victorious! Score: 989\n",
      "Pacman emerges victorious! Score: 989\n",
      "Pacman emerges victorious! Score: 982\n",
      "Pacman emerges victorious! Score: 987\n",
      "Pacman emerges victorious! Score: 989\n",
      "Pacman emerges victorious! Score: 989\n"
     ]
    },
    {
     "name": "stderr",
     "output_type": "stream",
     "text": [
      "Agent 0 ran out of time! (time: 1.01)\n"
     ]
    },
    {
     "name": "stdout",
     "output_type": "stream",
     "text": [
      "Pacman crashed\n",
      "Pacman emerges victorious! Score: 989\n",
      "Pacman emerges victorious! Score: 989\n",
      "Pacman emerges victorious! Score: 984\n",
      "Pacman emerges victorious! Score: 989\n",
      "Pacman emerges victorious! Score: 989\n",
      "Pacman emerges victorious! Score: 989\n",
      "Pacman emerges victorious! Score: 987\n",
      "Pacman emerges victorious! Score: 987\n",
      "Pacman emerges victorious! Score: 987\n",
      "Pacman emerges victorious! Score: 989\n",
      "Pacman emerges victorious! Score: 989\n",
      "Pacman emerges victorious! Score: 989\n",
      "Pacman emerges victorious! Score: 989\n",
      "Pacman emerges victorious! Score: 987\n",
      "Pacman emerges victorious! Score: 987\n",
      "Pacman emerges victorious! Score: 989\n",
      "Pacman emerges victorious! Score: 984\n",
      "Pacman emerges victorious! Score: 987\n",
      "Pacman emerges victorious! Score: 989\n",
      "Pacman emerges victorious! Score: 989\n"
     ]
    },
    {
     "name": "stderr",
     "output_type": "stream",
     "text": [
      "Agent 0 ran out of time! (time: 1.01)\n"
     ]
    },
    {
     "name": "stdout",
     "output_type": "stream",
     "text": [
      "Pacman crashed\n",
      "Pacman emerges victorious! Score: 989\n",
      "Pacman emerges victorious! Score: 989\n",
      "Pacman emerges victorious! Score: 989\n",
      "Pacman emerges victorious! Score: 989\n"
     ]
    },
    {
     "name": "stderr",
     "output_type": "stream",
     "text": [
      "Agent 0 ran out of time! (time: 1.01)\n"
     ]
    },
    {
     "name": "stdout",
     "output_type": "stream",
     "text": [
      "Pacman crashed\n",
      "Pacman emerges victorious! Score: 989\n",
      "Pacman emerges victorious! Score: 987\n",
      "Pacman emerges victorious! Score: 982\n",
      "Pacman emerges victorious! Score: 989\n"
     ]
    },
    {
     "name": "stderr",
     "output_type": "stream",
     "text": [
      "Agent 0 ran out of time! (time: 1.00)\n"
     ]
    },
    {
     "name": "stdout",
     "output_type": "stream",
     "text": [
      "Pacman crashed\n",
      "Pacman emerges victorious! Score: 989\n",
      "Pacman emerges victorious! Score: 987\n",
      "Pacman emerges victorious! Score: 989\n",
      "Pacman emerges victorious! Score: 984\n"
     ]
    },
    {
     "name": "stderr",
     "output_type": "stream",
     "text": [
      "Agent 0 ran out of time! (time: 1.01)\n"
     ]
    },
    {
     "name": "stdout",
     "output_type": "stream",
     "text": [
      "Pacman crashed\n"
     ]
    },
    {
     "name": "stderr",
     "output_type": "stream",
     "text": [
      "Agent 0 ran out of time! (time: 1.00)\n"
     ]
    },
    {
     "name": "stdout",
     "output_type": "stream",
     "text": [
      "Pacman crashed\n",
      "Pacman emerges victorious! Score: 989\n",
      "Pacman emerges victorious! Score: 987\n",
      "Pacman emerges victorious! Score: 987\n",
      "Pacman emerges victorious! Score: 989\n",
      "Pacman emerges victorious! Score: 989\n",
      "Pacman emerges victorious! Score: 989\n",
      "Pacman emerges victorious! Score: 989\n",
      "Pacman emerges victorious! Score: 987\n",
      "Pacman emerges victorious! Score: 989\n"
     ]
    },
    {
     "name": "stderr",
     "output_type": "stream",
     "text": [
      "Agent 0 ran out of time! (time: 1.02)\n"
     ]
    },
    {
     "name": "stdout",
     "output_type": "stream",
     "text": [
      "Pacman crashed\n",
      "Pacman emerges victorious! Score: 989\n",
      "Pacman emerges victorious! Score: 989\n",
      "Pacman emerges victorious! Score: 989\n",
      "Pacman emerges victorious! Score: 989\n",
      "Pacman emerges victorious! Score: 984\n",
      "Pacman emerges victorious! Score: 989\n",
      "Pacman emerges victorious! Score: 989\n",
      "Pacman emerges victorious! Score: 987\n",
      "Pacman emerges victorious! Score: 987\n"
     ]
    },
    {
     "name": "stderr",
     "output_type": "stream",
     "text": [
      "Agent 0 ran out of time! (time: 1.00)\n"
     ]
    },
    {
     "name": "stdout",
     "output_type": "stream",
     "text": [
      "Pacman crashed\n"
     ]
    },
    {
     "name": "stderr",
     "output_type": "stream",
     "text": [
      "Agent 0 ran out of time! (time: 1.00)\n"
     ]
    },
    {
     "name": "stdout",
     "output_type": "stream",
     "text": [
      "Pacman emerges victorious! Score: 989\n",
      "Pacman crashed\n",
      "Pacman emerges victorious! Score: 987\n"
     ]
    },
    {
     "name": "stderr",
     "output_type": "stream",
     "text": [
      "Agent 0 ran out of time! (time: 1.00)\n"
     ]
    },
    {
     "name": "stdout",
     "output_type": "stream",
     "text": [
      "Pacman crashed\n"
     ]
    },
    {
     "name": "stderr",
     "output_type": "stream",
     "text": [
      "Agent 0 ran out of time! (time: 1.00)\n"
     ]
    },
    {
     "name": "stdout",
     "output_type": "stream",
     "text": [
      "Pacman crashed\n",
      "Pacman emerges victorious! Score: 989\n",
      "Pacman emerges victorious! Score: 987\n",
      "Pacman emerges victorious! Score: 987\n",
      "Pacman emerges victorious! Score: 987\n",
      "Pacman emerges victorious! Score: 987\n",
      "Pacman emerges victorious! Score: 989\n",
      "Pacman emerges victorious! Score: 989\n",
      "Pacman emerges victorious! Score: 989\n"
     ]
    },
    {
     "name": "stderr",
     "output_type": "stream",
     "text": [
      "Agent 0 ran out of time! (time: 1.01)\n"
     ]
    },
    {
     "name": "stdout",
     "output_type": "stream",
     "text": [
      "Pacman crashed\n",
      "Pacman emerges victorious! Score: 987\n",
      "Pacman emerges victorious! Score: 989\n"
     ]
    },
    {
     "name": "stderr",
     "output_type": "stream",
     "text": [
      "Agent 0 ran out of time! (time: 1.01)\n"
     ]
    },
    {
     "name": "stdout",
     "output_type": "stream",
     "text": [
      "Pacman crashed\n",
      "Pacman emerges victorious! Score: 989\n",
      "Pacman emerges victorious! Score: 982\n",
      "Pacman emerges victorious! Score: 987\n",
      "Pacman emerges victorious! Score: 989\n",
      "Pacman emerges victorious! Score: 987\n",
      "Pacman emerges victorious! Score: 989\n",
      "Pacman emerges victorious! Score: 987\n",
      "Pacman emerges victorious! Score: 987\n",
      "Pacman emerges victorious! Score: 987\n",
      "Pacman emerges victorious! Score: 989\n",
      "Pacman emerges victorious! Score: 987\n"
     ]
    },
    {
     "name": "stderr",
     "output_type": "stream",
     "text": [
      "Agent 0 ran out of time! (time: 1.00)\n"
     ]
    },
    {
     "name": "stdout",
     "output_type": "stream",
     "text": [
      "Pacman crashed\n",
      "Pacman emerges victorious! Score: 989\n",
      "Pacman emerges victorious! Score: 984\n",
      "Pacman emerges victorious! Score: 987\n",
      "Pacman emerges victorious! Score: 987\n",
      "Pacman emerges victorious! Score: 989\n",
      "Pacman emerges victorious! Score: 989\n",
      "Pacman emerges victorious! Score: 989\n",
      "Pacman emerges victorious! Score: 987\n",
      "Pacman emerges victorious! Score: 989\n",
      "Pacman emerges victorious! Score: 987\n",
      "Pacman emerges victorious! Score: 984\n",
      "Pacman emerges victorious! Score: 987\n",
      "Pacman emerges victorious! Score: 987\n",
      "Pacman emerges victorious! Score: 987\n"
     ]
    },
    {
     "name": "stderr",
     "output_type": "stream",
     "text": [
      "Agent 0 ran out of time! (time: 1.00)\n"
     ]
    },
    {
     "name": "stdout",
     "output_type": "stream",
     "text": [
      "Pacman crashed\n",
      "Pacman emerges victorious! Score: 989\n",
      "Pacman emerges victorious! Score: 987\n",
      "Pacman emerges victorious! Score: 987\n",
      "Pacman emerges victorious! Score: 987\n"
     ]
    },
    {
     "name": "stderr",
     "output_type": "stream",
     "text": [
      "Agent 0 ran out of time! (time: 1.00)\n"
     ]
    },
    {
     "name": "stdout",
     "output_type": "stream",
     "text": [
      "Pacman crashed\n",
      "Pacman emerges victorious! Score: 989\n"
     ]
    },
    {
     "name": "stderr",
     "output_type": "stream",
     "text": [
      "Agent 0 ran out of time! (time: 1.01)\n"
     ]
    },
    {
     "name": "stdout",
     "output_type": "stream",
     "text": [
      "Pacman crashed\n",
      "Pacman emerges victorious! Score: 984\n",
      "Pacman emerges victorious! Score: 989\n",
      "Pacman emerges victorious! Score: 987\n"
     ]
    },
    {
     "name": "stderr",
     "output_type": "stream",
     "text": [
      "Agent 0 ran out of time! (time: 1.01)\n"
     ]
    },
    {
     "name": "stdout",
     "output_type": "stream",
     "text": [
      "Pacman crashed\n",
      "Pacman emerges victorious! Score: 987\n",
      "Pacman emerges victorious! Score: 987\n",
      "Pacman emerges victorious! Score: 987\n",
      "Pacman emerges victorious! Score: 989\n",
      "Pacman emerges victorious! Score: 987\n"
     ]
    },
    {
     "name": "stderr",
     "output_type": "stream",
     "text": [
      "Agent 0 ran out of time! (time: 1.00)\n"
     ]
    },
    {
     "name": "stdout",
     "output_type": "stream",
     "text": [
      "Pacman crashed\n",
      "Pacman emerges victorious! Score: 987\n",
      "Pacman emerges victorious! Score: 989\n",
      "Pacman emerges victorious! Score: 987\n",
      "Pacman emerges victorious! Score: 989\n",
      "Pacman emerges victorious! Score: 989\n",
      "Pacman emerges victorious! Score: 989\n",
      "Pacman emerges victorious! Score: 989\n",
      "Pacman emerges victorious! Score: 989\n",
      "Pacman emerges victorious! Score: 987\n",
      "Pacman emerges victorious! Score: 989\n",
      "Pacman emerges victorious! Score: 987\n",
      "Pacman emerges victorious! Score: 989\n",
      "Pacman emerges victorious! Score: 987\n",
      "Pacman emerges victorious! Score: 987\n",
      "Pacman emerges victorious! Score: 989\n",
      "Pacman emerges victorious! Score: 989\n",
      "Pacman emerges victorious! Score: 989\n"
     ]
    },
    {
     "name": "stderr",
     "output_type": "stream",
     "text": [
      "Agent 0 ran out of time! (time: 1.00)\n"
     ]
    },
    {
     "name": "stdout",
     "output_type": "stream",
     "text": [
      "Pacman crashed\n",
      "Pacman emerges victorious! Score: 989\n",
      "Pacman emerges victorious! Score: 989\n",
      "Pacman emerges victorious! Score: 987\n",
      "Pacman emerges victorious! Score: 989\n",
      "Pacman emerges victorious! Score: 989\n",
      "Pacman emerges victorious! Score: 984\n",
      "Pacman emerges victorious! Score: 989\n"
     ]
    },
    {
     "name": "stderr",
     "output_type": "stream",
     "text": [
      "Agent 0 ran out of time! (time: 1.00)\n"
     ]
    },
    {
     "name": "stdout",
     "output_type": "stream",
     "text": [
      "Pacman crashed\n",
      "Pacman emerges victorious! Score: 989\n",
      "Pacman emerges victorious! Score: 989\n",
      "Pacman emerges victorious! Score: 987\n",
      "Pacman emerges victorious! Score: 989\n"
     ]
    },
    {
     "name": "stderr",
     "output_type": "stream",
     "text": [
      "Agent 0 ran out of time! (time: 1.00)\n"
     ]
    },
    {
     "name": "stdout",
     "output_type": "stream",
     "text": [
      "Pacman crashed\n",
      "Pacman emerges victorious! Score: 984\n",
      "Pacman emerges victorious! Score: 982\n"
     ]
    },
    {
     "name": "stderr",
     "output_type": "stream",
     "text": [
      "Agent 0 ran out of time! (time: 1.02)\n"
     ]
    },
    {
     "name": "stdout",
     "output_type": "stream",
     "text": [
      "Pacman crashed\n",
      "Pacman emerges victorious! Score: 987\n",
      "Pacman emerges victorious! Score: 989\n",
      "Pacman emerges victorious! Score: 989\n",
      "Pacman emerges victorious! Score: 987\n",
      "Pacman emerges victorious! Score: 989\n"
     ]
    },
    {
     "name": "stderr",
     "output_type": "stream",
     "text": [
      "Agent 0 ran out of time! (time: 1.00)\n"
     ]
    },
    {
     "name": "stdout",
     "output_type": "stream",
     "text": [
      "Pacman crashed\n",
      "Pacman emerges victorious! Score: 987\n",
      "Pacman emerges victorious! Score: 989\n"
     ]
    },
    {
     "name": "stderr",
     "output_type": "stream",
     "text": [
      "Agent 0 ran out of time! (time: 1.01)\n"
     ]
    },
    {
     "name": "stdout",
     "output_type": "stream",
     "text": [
      "Pacman crashed\n",
      "Pacman emerges victorious! Score: 987\n"
     ]
    },
    {
     "name": "stderr",
     "output_type": "stream",
     "text": [
      "Agent 0 ran out of time! (time: 1.00)\n"
     ]
    },
    {
     "name": "stdout",
     "output_type": "stream",
     "text": [
      "Pacman crashed\n",
      "Pacman emerges victorious! Score: 987\n",
      "Pacman emerges victorious! Score: 989\n"
     ]
    },
    {
     "name": "stderr",
     "output_type": "stream",
     "text": [
      "Agent 0 ran out of time! (time: 1.01)\n"
     ]
    },
    {
     "name": "stdout",
     "output_type": "stream",
     "text": [
      "Pacman crashed\n"
     ]
    },
    {
     "name": "stderr",
     "output_type": "stream",
     "text": [
      "Agent 0 ran out of time! (time: 1.01)\n"
     ]
    },
    {
     "name": "stdout",
     "output_type": "stream",
     "text": [
      "Pacman crashed\n",
      "Pacman emerges victorious! Score: 989\n"
     ]
    },
    {
     "name": "stderr",
     "output_type": "stream",
     "text": [
      "Agent 0 ran out of time! (time: 1.01)\n"
     ]
    },
    {
     "name": "stdout",
     "output_type": "stream",
     "text": [
      "Pacman crashed\n",
      "Pacman emerges victorious! Score: 987\n",
      "Pacman emerges victorious! Score: 984\n",
      "Pacman emerges victorious! Score: 989\n",
      "Pacman emerges victorious! Score: 989\n",
      "Pacman emerges victorious! Score: 989\n",
      "Pacman emerges victorious! Score: 987\n",
      "Pacman emerges victorious! Score: 987\n",
      "Pacman emerges victorious! Score: 989\n",
      "Pacman emerges victorious! Score: 989\n"
     ]
    },
    {
     "name": "stderr",
     "output_type": "stream",
     "text": [
      "Agent 0 ran out of time! (time: 1.01)\n"
     ]
    },
    {
     "name": "stdout",
     "output_type": "stream",
     "text": [
      "Pacman crashed\n"
     ]
    },
    {
     "name": "stderr",
     "output_type": "stream",
     "text": [
      "Agent 0 ran out of time! (time: 1.01)\n"
     ]
    },
    {
     "name": "stdout",
     "output_type": "stream",
     "text": [
      "Pacman crashed\n",
      "Pacman emerges victorious! Score: 987\n",
      "Pacman emerges victorious! Score: 989\n",
      "Pacman emerges victorious! Score: 987\n"
     ]
    },
    {
     "name": "stderr",
     "output_type": "stream",
     "text": [
      "Agent 0 ran out of time! (time: 1.00)\n"
     ]
    },
    {
     "name": "stdout",
     "output_type": "stream",
     "text": [
      "Pacman crashed\n",
      "Pacman emerges victorious! Score: 987\n"
     ]
    },
    {
     "name": "stderr",
     "output_type": "stream",
     "text": [
      "Agent 0 ran out of time! (time: 1.00)\n"
     ]
    },
    {
     "name": "stdout",
     "output_type": "stream",
     "text": [
      "Pacman crashed\n",
      "Pacman emerges victorious! Score: 989\n",
      "Pacman emerges victorious! Score: 987\n",
      "Pacman emerges victorious! Score: 987\n",
      "Pacman emerges victorious! Score: 987\n",
      "Pacman emerges victorious! Score: 982\n",
      "Pacman emerges victorious! Score: 987\n",
      "Pacman emerges victorious! Score: 987\n"
     ]
    },
    {
     "name": "stderr",
     "output_type": "stream",
     "text": [
      "Agent 0 ran out of time! (time: 1.01)\n"
     ]
    },
    {
     "name": "stdout",
     "output_type": "stream",
     "text": [
      "Pacman crashed\n"
     ]
    },
    {
     "name": "stderr",
     "output_type": "stream",
     "text": [
      "Agent 0 ran out of time! (time: 1.01)\n"
     ]
    },
    {
     "name": "stdout",
     "output_type": "stream",
     "text": [
      "Pacman crashed\n",
      "Pacman emerges victorious! Score: 987\n",
      "Pacman emerges victorious! Score: 987\n",
      "Pacman emerges victorious! Score: 987\n",
      "Pacman emerges victorious! Score: 984\n",
      "Pacman emerges victorious! Score: 987\n",
      "Pacman emerges victorious! Score: 989\n",
      "Pacman emerges victorious! Score: 987\n",
      "Pacman emerges victorious! Score: 989\n"
     ]
    },
    {
     "name": "stderr",
     "output_type": "stream",
     "text": [
      "Agent 0 ran out of time! (time: 1.01)\n"
     ]
    },
    {
     "name": "stdout",
     "output_type": "stream",
     "text": [
      "Pacman crashed\n",
      "Pacman emerges victorious! Score: 989\n",
      "Pacman emerges victorious! Score: 989\n",
      "Pacman emerges victorious! Score: 989\n",
      "Pacman emerges victorious! Score: 982\n",
      "Pacman emerges victorious! Score: 989\n"
     ]
    },
    {
     "name": "stderr",
     "output_type": "stream",
     "text": [
      "Agent 0 ran out of time! (time: 1.00)\n"
     ]
    },
    {
     "name": "stdout",
     "output_type": "stream",
     "text": [
      "Pacman crashed\n",
      "Pacman emerges victorious! Score: 989\n",
      "Pacman emerges victorious! Score: 984\n",
      "Pacman emerges victorious! Score: 987\n",
      "Pacman emerges victorious! Score: 989\n",
      "Pacman emerges victorious! Score: 987\n",
      "Pacman emerges victorious! Score: 989\n",
      "Pacman emerges victorious! Score: 984\n",
      "Pacman emerges victorious! Score: 989\n"
     ]
    },
    {
     "name": "stderr",
     "output_type": "stream",
     "text": [
      "Agent 0 ran out of time! (time: 1.00)\n"
     ]
    },
    {
     "name": "stdout",
     "output_type": "stream",
     "text": [
      "Pacman crashed\n"
     ]
    },
    {
     "name": "stderr",
     "output_type": "stream",
     "text": [
      "Agent 0 ran out of time! (time: 1.01)\n"
     ]
    },
    {
     "name": "stdout",
     "output_type": "stream",
     "text": [
      "Pacman crashed\n",
      "Pacman emerges victorious! Score: 989\n",
      "Pacman emerges victorious! Score: 987\n",
      "Pacman emerges victorious! Score: 989\n"
     ]
    },
    {
     "name": "stderr",
     "output_type": "stream",
     "text": [
      "Agent 0 ran out of time! (time: 1.01)\n"
     ]
    },
    {
     "name": "stdout",
     "output_type": "stream",
     "text": [
      "Pacman crashed\n",
      "Pacman emerges victorious! Score: 989\n",
      "Pacman emerges victorious! Score: 989\n",
      "Pacman emerges victorious! Score: 989\n",
      "Pacman emerges victorious! Score: 987\n",
      "Pacman emerges victorious! Score: 989\n",
      "Pacman emerges victorious! Score: 982\n",
      "Pacman emerges victorious! Score: 989\n",
      "Pacman emerges victorious! Score: 987\n",
      "Pacman emerges victorious! Score: 989\n",
      "Pacman emerges victorious! Score: 989\n",
      "Pacman emerges victorious! Score: 989\n",
      "Pacman emerges victorious! Score: 987\n",
      "Pacman emerges victorious! Score: 989\n",
      "Pacman emerges victorious! Score: 987\n",
      "Pacman emerges victorious! Score: 987\n",
      "Pacman emerges victorious! Score: 989\n",
      "Pacman emerges victorious! Score: 989\n",
      "Pacman emerges victorious! Score: 989\n"
     ]
    },
    {
     "name": "stderr",
     "output_type": "stream",
     "text": [
      "Agent 0 ran out of time! (time: 1.01)\n"
     ]
    },
    {
     "name": "stdout",
     "output_type": "stream",
     "text": [
      "Pacman crashed\n"
     ]
    },
    {
     "name": "stderr",
     "output_type": "stream",
     "text": [
      "Agent 0 ran out of time! (time: 1.00)\n"
     ]
    },
    {
     "name": "stdout",
     "output_type": "stream",
     "text": [
      "Pacman crashed\n",
      "Pacman emerges victorious! Score: 987\n",
      "Pacman emerges victorious! Score: 987\n",
      "Pacman emerges victorious! Score: 987\n",
      "Pacman emerges victorious! Score: 989\n",
      "Pacman emerges victorious! Score: 989\n",
      "Pacman emerges victorious! Score: 982\n",
      "Pacman emerges victorious! Score: 989\n",
      "Pacman emerges victorious! Score: 989\n",
      "Pacman emerges victorious! Score: 989\n"
     ]
    },
    {
     "name": "stderr",
     "output_type": "stream",
     "text": [
      "Agent 0 ran out of time! (time: 1.01)\n"
     ]
    },
    {
     "name": "stdout",
     "output_type": "stream",
     "text": [
      "Pacman crashed\n",
      "Pacman emerges victorious! Score: 989\n",
      "Pacman emerges victorious! Score: 989\n",
      "Pacman emerges victorious! Score: 987\n"
     ]
    },
    {
     "name": "stderr",
     "output_type": "stream",
     "text": [
      "Agent 0 ran out of time! (time: 1.01)\n"
     ]
    },
    {
     "name": "stdout",
     "output_type": "stream",
     "text": [
      "Pacman crashed\n",
      "Pacman emerges victorious! Score: 982\n",
      "Pacman emerges victorious! Score: 987\n",
      "Pacman emerges victorious! Score: 989\n",
      "Pacman emerges victorious! Score: 989\n",
      "Pacman emerges victorious! Score: 987\n",
      "Pacman emerges victorious! Score: 987\n",
      "Pacman emerges victorious! Score: 984\n",
      "Pacman emerges victorious! Score: 989\n",
      "Pacman emerges victorious! Score: 987\n",
      "Pacman emerges victorious! Score: 989\n",
      "Pacman emerges victorious! Score: 987\n",
      "Pacman emerges victorious! Score: 987\n",
      "Pacman emerges victorious! Score: 989\n",
      "Pacman emerges victorious! Score: 989\n",
      "Pacman emerges victorious! Score: 989\n",
      "Pacman emerges victorious! Score: 987\n",
      "Pacman emerges victorious! Score: 989\n",
      "Pacman emerges victorious! Score: 989\n"
     ]
    },
    {
     "name": "stderr",
     "output_type": "stream",
     "text": [
      "Agent 0 ran out of time! (time: 1.01)\n"
     ]
    },
    {
     "name": "stdout",
     "output_type": "stream",
     "text": [
      "Pacman crashed\n",
      "Pacman emerges victorious! Score: 989\n",
      "Pacman emerges victorious! Score: 987\n",
      "Pacman emerges victorious! Score: 987\n",
      "Pacman emerges victorious! Score: 987\n",
      "Pacman emerges victorious! Score: 989\n",
      "Pacman emerges victorious! Score: 987\n",
      "Pacman emerges victorious! Score: 989\n",
      "Pacman emerges victorious! Score: 987\n",
      "Pacman emerges victorious! Score: 989\n",
      "Pacman emerges victorious! Score: 987\n",
      "Pacman emerges victorious! Score: 989\n",
      "Pacman emerges victorious! Score: 989\n",
      "Pacman emerges victorious! Score: 987\n"
     ]
    },
    {
     "name": "stderr",
     "output_type": "stream",
     "text": [
      "Agent 0 ran out of time! (time: 1.01)\n"
     ]
    },
    {
     "name": "stdout",
     "output_type": "stream",
     "text": [
      "Pacman crashed\n",
      "Pacman emerges victorious! Score: 987\n",
      "Pacman emerges victorious! Score: 989\n",
      "Pacman emerges victorious! Score: 989\n",
      "Pacman emerges victorious! Score: 987\n",
      "Pacman emerges victorious! Score: 987\n",
      "Pacman emerges victorious! Score: 987\n",
      "Pacman emerges victorious! Score: 989\n",
      "Pacman emerges victorious! Score: 989\n",
      "Pacman emerges victorious! Score: 989\n",
      "Pacman emerges victorious! Score: 989\n",
      "Pacman emerges victorious! Score: 987\n"
     ]
    },
    {
     "name": "stderr",
     "output_type": "stream",
     "text": [
      "Agent 0 ran out of time! (time: 1.01)\n"
     ]
    },
    {
     "name": "stdout",
     "output_type": "stream",
     "text": [
      "Pacman crashed\n"
     ]
    },
    {
     "name": "stderr",
     "output_type": "stream",
     "text": [
      "Agent 0 ran out of time! (time: 1.01)\n"
     ]
    },
    {
     "name": "stdout",
     "output_type": "stream",
     "text": [
      "Pacman crashed\n",
      "Pacman emerges victorious! Score: 987\n",
      "Pacman emerges victorious! Score: 987\n",
      "Pacman emerges victorious! Score: 987\n",
      "Pacman emerges victorious! Score: 987\n",
      "Pacman emerges victorious! Score: 989\n",
      "Pacman emerges victorious! Score: 987\n",
      "Pacman emerges victorious! Score: 989\n",
      "Pacman emerges victorious! Score: 989\n",
      "Pacman emerges victorious! Score: 989\n",
      "Pacman emerges victorious! Score: 989\n",
      "Pacman emerges victorious! Score: 989\n",
      "Pacman emerges victorious! Score: 987\n",
      "Pacman emerges victorious! Score: 987\n",
      "Pacman emerges victorious! Score: 987\n"
     ]
    },
    {
     "name": "stderr",
     "output_type": "stream",
     "text": [
      "Agent 0 ran out of time! (time: 1.01)\n"
     ]
    },
    {
     "name": "stdout",
     "output_type": "stream",
     "text": [
      "Pacman crashed\n"
     ]
    },
    {
     "name": "stderr",
     "output_type": "stream",
     "text": [
      "Agent 0 ran out of time! (time: 1.01)\n"
     ]
    },
    {
     "name": "stdout",
     "output_type": "stream",
     "text": [
      "Pacman crashed\n"
     ]
    },
    {
     "name": "stderr",
     "output_type": "stream",
     "text": [
      "Agent 0 ran out of time! (time: 1.00)\n"
     ]
    },
    {
     "name": "stdout",
     "output_type": "stream",
     "text": [
      "Pacman crashed\n",
      "Pacman emerges victorious! Score: 987\n",
      "Pacman emerges victorious! Score: 987\n",
      "Pacman emerges victorious! Score: 989\n",
      "Pacman emerges victorious! Score: 989\n",
      "Pacman emerges victorious! Score: 987\n",
      "Pacman emerges victorious! Score: 987\n",
      "Pacman emerges victorious! Score: 987\n",
      "Pacman emerges victorious! Score: 989\n",
      "Pacman emerges victorious! Score: 987\n",
      "Pacman emerges victorious! Score: 989\n",
      "Pacman emerges victorious! Score: 989\n",
      "Pacman emerges victorious! Score: 987\n",
      "Pacman emerges victorious! Score: 987\n",
      "Pacman emerges victorious! Score: 982\n",
      "Pacman emerges victorious! Score: 989\n",
      "Pacman emerges victorious! Score: 987\n",
      "Pacman emerges victorious! Score: 987\n",
      "Pacman emerges victorious! Score: 989\n",
      "Pacman emerges victorious! Score: 989\n",
      "Pacman emerges victorious! Score: 989\n",
      "Pacman emerges victorious! Score: 989\n",
      "Pacman emerges victorious! Score: 987\n",
      "Pacman emerges victorious! Score: 987\n",
      "Pacman emerges victorious! Score: 987\n",
      "Pacman emerges victorious! Score: 987\n",
      "Pacman emerges victorious! Score: 987\n",
      "Pacman emerges victorious! Score: 989\n"
     ]
    },
    {
     "name": "stderr",
     "output_type": "stream",
     "text": [
      "Agent 0 ran out of time! (time: 1.00)\n"
     ]
    },
    {
     "name": "stdout",
     "output_type": "stream",
     "text": [
      "Pacman crashed\n",
      "Pacman emerges victorious! Score: 987\n"
     ]
    },
    {
     "name": "stderr",
     "output_type": "stream",
     "text": [
      "Agent 0 ran out of time! (time: 1.01)\n"
     ]
    },
    {
     "name": "stdout",
     "output_type": "stream",
     "text": [
      "Pacman crashed\n",
      "Pacman emerges victorious! Score: 987\n"
     ]
    },
    {
     "name": "stderr",
     "output_type": "stream",
     "text": [
      "Agent 0 ran out of time! (time: 1.01)\n"
     ]
    },
    {
     "name": "stdout",
     "output_type": "stream",
     "text": [
      "Pacman crashed\n",
      "Pacman emerges victorious! Score: 987\n",
      "Pacman emerges victorious! Score: 987\n",
      "Pacman emerges victorious! Score: 987\n",
      "Pacman emerges victorious! Score: 987\n",
      "Pacman emerges victorious! Score: 989\n",
      "Pacman emerges victorious! Score: 989\n",
      "Pacman emerges victorious! Score: 987\n",
      "Pacman emerges victorious! Score: 987\n",
      "Pacman emerges victorious! Score: 989\n",
      "Pacman emerges victorious! Score: 987\n",
      "Pacman emerges victorious! Score: 989\n",
      "Pacman emerges victorious! Score: 987\n",
      "Pacman emerges victorious! Score: 989\n"
     ]
    },
    {
     "name": "stderr",
     "output_type": "stream",
     "text": [
      "Agent 0 ran out of time! (time: 1.01)\n"
     ]
    },
    {
     "name": "stdout",
     "output_type": "stream",
     "text": [
      "Pacman crashed\n",
      "Pacman emerges victorious! Score: 984\n",
      "Pacman emerges victorious! Score: 987\n",
      "Pacman emerges victorious! Score: 989\n",
      "Pacman emerges victorious! Score: 989\n",
      "Pacman emerges victorious! Score: 989\n",
      "Pacman emerges victorious! Score: 987\n",
      "Pacman emerges victorious! Score: 987\n",
      "Pacman emerges victorious! Score: 989\n",
      "Pacman emerges victorious! Score: 989\n",
      "Pacman emerges victorious! Score: 989\n",
      "Pacman emerges victorious! Score: 987\n",
      "Pacman emerges victorious! Score: 987\n",
      "Pacman emerges victorious! Score: 987\n"
     ]
    },
    {
     "name": "stderr",
     "output_type": "stream",
     "text": [
      "Agent 0 ran out of time! (time: 1.01)\n"
     ]
    },
    {
     "name": "stdout",
     "output_type": "stream",
     "text": [
      "Pacman crashed\n",
      "Pacman emerges victorious! Score: 987\n",
      "Pacman emerges victorious! Score: 989\n",
      "Pacman emerges victorious! Score: 989\n",
      "Pacman emerges victorious! Score: 987\n",
      "Pacman emerges victorious! Score: 989\n",
      "Pacman emerges victorious! Score: 989\n",
      "Pacman emerges victorious! Score: 987\n",
      "Pacman emerges victorious! Score: 987\n",
      "Pacman emerges victorious! Score: 987\n",
      "Pacman emerges victorious! Score: 987\n",
      "Pacman emerges victorious! Score: 987\n",
      "Pacman emerges victorious! Score: 987\n",
      "Pacman emerges victorious! Score: 987\n",
      "Pacman emerges victorious! Score: 989\n",
      "Pacman emerges victorious! Score: 987\n",
      "Pacman emerges victorious! Score: 989\n",
      "Pacman emerges victorious! Score: 989\n",
      "Pacman emerges victorious! Score: 989\n",
      "Pacman emerges victorious! Score: 987\n",
      "Pacman emerges victorious! Score: 987\n",
      "Pacman emerges victorious! Score: 989\n",
      "Pacman emerges victorious! Score: 987\n",
      "Pacman emerges victorious! Score: 989\n",
      "Pacman emerges victorious! Score: 989\n",
      "Pacman emerges victorious! Score: 987\n",
      "Pacman emerges victorious! Score: 987\n",
      "Pacman emerges victorious! Score: 989\n",
      "Pacman emerges victorious! Score: 984\n",
      "Pacman emerges victorious! Score: 989\n",
      "Pacman emerges victorious! Score: 989\n",
      "Pacman emerges victorious! Score: 989\n",
      "Pacman emerges victorious! Score: 989\n",
      "Pacman emerges victorious! Score: 987\n",
      "Pacman emerges victorious! Score: 987\n",
      "Pacman emerges victorious! Score: 987\n",
      "Pacman emerges victorious! Score: 989\n",
      "Pacman emerges victorious! Score: 989\n"
     ]
    },
    {
     "name": "stderr",
     "output_type": "stream",
     "text": [
      "Agent 0 ran out of time! (time: 1.01)\n"
     ]
    },
    {
     "name": "stdout",
     "output_type": "stream",
     "text": [
      "Pacman crashed\n",
      "Pacman emerges victorious! Score: 989\n"
     ]
    },
    {
     "name": "stderr",
     "output_type": "stream",
     "text": [
      "Agent 0 ran out of time! (time: 1.00)\n"
     ]
    },
    {
     "name": "stdout",
     "output_type": "stream",
     "text": [
      "Pacman crashed\n",
      "Pacman emerges victorious! Score: 987\n",
      "Pacman emerges victorious! Score: 989\n",
      "Pacman emerges victorious! Score: 987\n",
      "Pacman emerges victorious! Score: 987\n",
      "Pacman emerges victorious! Score: 987\n",
      "Pacman emerges victorious! Score: 989\n",
      "Pacman emerges victorious! Score: 989\n",
      "Pacman emerges victorious! Score: 987\n",
      "Pacman emerges victorious! Score: 987\n",
      "Pacman emerges victorious! Score: 989\n",
      "Pacman emerges victorious! Score: 987\n",
      "Pacman emerges victorious! Score: 984\n",
      "Pacman emerges victorious! Score: 989\n",
      "Pacman emerges victorious! Score: 987\n"
     ]
    },
    {
     "name": "stderr",
     "output_type": "stream",
     "text": [
      "Agent 0 ran out of time! (time: 1.01)\n"
     ]
    },
    {
     "name": "stdout",
     "output_type": "stream",
     "text": [
      "Pacman crashed\n",
      "Pacman emerges victorious! Score: 987\n",
      "Pacman emerges victorious! Score: 987\n",
      "Pacman emerges victorious! Score: 987\n",
      "Pacman emerges victorious! Score: 989\n",
      "Pacman emerges victorious! Score: 989\n",
      "Pacman emerges victorious! Score: 987\n",
      "Pacman emerges victorious! Score: 987\n",
      "Pacman emerges victorious! Score: 987\n",
      "Pacman emerges victorious! Score: 989\n",
      "Pacman emerges victorious! Score: 987\n",
      "Pacman emerges victorious! Score: 989\n",
      "Pacman emerges victorious! Score: 989\n"
     ]
    },
    {
     "name": "stderr",
     "output_type": "stream",
     "text": [
      "Agent 0 ran out of time! (time: 1.00)\n"
     ]
    },
    {
     "name": "stdout",
     "output_type": "stream",
     "text": [
      "Pacman crashed\n",
      "Pacman emerges victorious! Score: 989\n",
      "Pacman emerges victorious! Score: 989\n",
      "Pacman emerges victorious! Score: 989\n",
      "Pacman emerges victorious! Score: 987\n",
      "Pacman emerges victorious! Score: 987\n",
      "Pacman emerges victorious! Score: 989\n",
      "Pacman emerges victorious! Score: 989\n"
     ]
    },
    {
     "name": "stderr",
     "output_type": "stream",
     "text": [
      "Agent 0 ran out of time! (time: 1.01)\n"
     ]
    },
    {
     "name": "stdout",
     "output_type": "stream",
     "text": [
      "Pacman crashed\n",
      "Pacman emerges victorious! Score: 989\n",
      "Pacman emerges victorious! Score: 987\n",
      "Pacman emerges victorious! Score: 987\n",
      "Pacman emerges victorious! Score: 989\n"
     ]
    },
    {
     "name": "stderr",
     "output_type": "stream",
     "text": [
      "Agent 0 ran out of time! (time: 1.01)\n"
     ]
    },
    {
     "name": "stdout",
     "output_type": "stream",
     "text": [
      "Pacman crashed\n",
      "Pacman emerges victorious! Score: 989\n",
      "Pacman emerges victorious! Score: 987\n",
      "Pacman emerges victorious! Score: 987\n",
      "Pacman emerges victorious! Score: 989\n",
      "Pacman emerges victorious! Score: 987\n",
      "Pacman emerges victorious! Score: 987\n",
      "Pacman emerges victorious! Score: 989\n",
      "Pacman emerges victorious! Score: 989\n",
      "Pacman emerges victorious! Score: 989\n",
      "Pacman emerges victorious! Score: 989\n",
      "Pacman emerges victorious! Score: 989\n",
      "Pacman emerges victorious! Score: 987\n",
      "Pacman emerges victorious! Score: 989\n",
      "Pacman emerges victorious! Score: 987\n",
      "Pacman emerges victorious! Score: 987\n",
      "Pacman emerges victorious! Score: 989\n",
      "Pacman emerges victorious! Score: 989\n",
      "Pacman emerges victorious! Score: 987\n",
      "Pacman emerges victorious! Score: 987\n",
      "Pacman emerges victorious! Score: 987\n",
      "Pacman emerges victorious! Score: 989\n",
      "Pacman emerges victorious! Score: 989\n",
      "Pacman emerges victorious! Score: 987\n",
      "Pacman emerges victorious! Score: 987\n"
     ]
    },
    {
     "name": "stderr",
     "output_type": "stream",
     "text": [
      "Agent 0 ran out of time! (time: 1.00)\n"
     ]
    },
    {
     "name": "stdout",
     "output_type": "stream",
     "text": [
      "Pacman crashed\n",
      "Pacman emerges victorious! Score: 989\n",
      "Pacman emerges victorious! Score: 989\n"
     ]
    },
    {
     "name": "stderr",
     "output_type": "stream",
     "text": [
      "Agent 0 ran out of time! (time: 1.01)\n"
     ]
    },
    {
     "name": "stdout",
     "output_type": "stream",
     "text": [
      "Pacman crashed\n",
      "Pacman emerges victorious! Score: 989\n",
      "Pacman emerges victorious! Score: 987\n",
      "Pacman emerges victorious! Score: 987\n",
      "Pacman emerges victorious! Score: 989\n",
      "Pacman emerges victorious! Score: 987\n"
     ]
    },
    {
     "name": "stderr",
     "output_type": "stream",
     "text": [
      "Agent 0 ran out of time! (time: 1.01)\n"
     ]
    },
    {
     "name": "stdout",
     "output_type": "stream",
     "text": [
      "Pacman crashed\n",
      "Pacman emerges victorious! Score: 989\n",
      "Pacman emerges victorious! Score: 987\n",
      "Pacman emerges victorious! Score: 984\n",
      "Pacman emerges victorious! Score: 989\n",
      "Pacman emerges victorious! Score: 984\n",
      "Pacman emerges victorious! Score: 989\n",
      "Pacman emerges victorious! Score: 989\n",
      "Pacman emerges victorious! Score: 989\n",
      "Pacman emerges victorious! Score: 987\n",
      "Pacman emerges victorious! Score: 984\n",
      "Pacman emerges victorious! Score: 989\n",
      "Pacman emerges victorious! Score: 987\n",
      "Pacman emerges victorious! Score: 989\n",
      "Pacman emerges victorious! Score: 987\n",
      "Pacman emerges victorious! Score: 989\n",
      "Pacman emerges victorious! Score: 989\n",
      "Pacman emerges victorious! Score: 989\n",
      "Pacman emerges victorious! Score: 989\n",
      "Pacman emerges victorious! Score: 987\n",
      "Pacman emerges victorious! Score: 989\n",
      "Pacman emerges victorious! Score: 989\n",
      "Pacman emerges victorious! Score: 982\n",
      "Pacman emerges victorious! Score: 984\n",
      "Pacman emerges victorious! Score: 989\n",
      "Pacman emerges victorious! Score: 989\n",
      "Pacman emerges victorious! Score: 989\n"
     ]
    },
    {
     "name": "stderr",
     "output_type": "stream",
     "text": [
      "Agent 0 ran out of time! (time: 1.00)\n"
     ]
    },
    {
     "name": "stdout",
     "output_type": "stream",
     "text": [
      "Pacman crashed\n",
      "Pacman emerges victorious! Score: 984\n"
     ]
    },
    {
     "name": "stderr",
     "output_type": "stream",
     "text": [
      "Agent 0 ran out of time! (time: 1.01)\n"
     ]
    },
    {
     "name": "stdout",
     "output_type": "stream",
     "text": [
      "Pacman crashed\n",
      "Pacman emerges victorious! Score: 987\n",
      "Pacman emerges victorious! Score: 984\n",
      "Pacman emerges victorious! Score: 984\n",
      "Pacman emerges victorious! Score: 989\n",
      "Pacman emerges victorious! Score: 989\n",
      "Pacman emerges victorious! Score: 989\n",
      "Pacman emerges victorious! Score: 989\n",
      "Pacman emerges victorious! Score: 989\n",
      "Pacman emerges victorious! Score: 987\n"
     ]
    },
    {
     "name": "stderr",
     "output_type": "stream",
     "text": [
      "Agent 0 ran out of time! (time: 1.00)\n"
     ]
    },
    {
     "name": "stdout",
     "output_type": "stream",
     "text": [
      "Pacman crashed\n",
      "Pacman emerges victorious! Score: 989\n",
      "Pacman emerges victorious! Score: 989\n",
      "Pacman emerges victorious! Score: 987\n",
      "Pacman emerges victorious! Score: 987\n",
      "Pacman emerges victorious! Score: 987\n",
      "Pacman emerges victorious! Score: 989\n",
      "Pacman emerges victorious! Score: 987\n",
      "Pacman emerges victorious! Score: 982\n",
      "Pacman emerges victorious! Score: 987\n",
      "Pacman emerges victorious! Score: 984\n",
      "Pacman emerges victorious! Score: 989\n",
      "Pacman emerges victorious! Score: 987\n"
     ]
    },
    {
     "name": "stderr",
     "output_type": "stream",
     "text": [
      "Agent 0 ran out of time! (time: 1.00)\n"
     ]
    },
    {
     "name": "stdout",
     "output_type": "stream",
     "text": [
      "Pacman crashed\n",
      "Pacman emerges victorious! Score: 984\n",
      "Pacman emerges victorious! Score: 987\n",
      "Pacman emerges victorious! Score: 989\n",
      "Pacman emerges victorious! Score: 987\n",
      "Pacman emerges victorious! Score: 984\n",
      "Pacman emerges victorious! Score: 987\n",
      "Pacman emerges victorious! Score: 987\n",
      "Pacman emerges victorious! Score: 987\n"
     ]
    },
    {
     "name": "stderr",
     "output_type": "stream",
     "text": [
      "Agent 0 ran out of time! (time: 1.01)\n"
     ]
    },
    {
     "name": "stdout",
     "output_type": "stream",
     "text": [
      "Pacman crashed\n",
      "Pacman emerges victorious! Score: 987\n",
      "Pacman emerges victorious! Score: 987\n",
      "Pacman emerges victorious! Score: 989\n",
      "Pacman emerges victorious! Score: 982\n",
      "Pacman emerges victorious! Score: 989\n",
      "Pacman emerges victorious! Score: 987\n",
      "Pacman emerges victorious! Score: 989\n",
      "Pacman emerges victorious! Score: 987\n"
     ]
    },
    {
     "name": "stderr",
     "output_type": "stream",
     "text": [
      "Agent 0 ran out of time! (time: 1.00)\n"
     ]
    },
    {
     "name": "stdout",
     "output_type": "stream",
     "text": [
      "Pacman crashed\n",
      "Pacman emerges victorious! Score: 987\n",
      "Pacman emerges victorious! Score: 989\n",
      "Pacman emerges victorious! Score: 987\n",
      "Pacman emerges victorious! Score: 989\n",
      "Pacman emerges victorious! Score: 989\n",
      "Pacman emerges victorious! Score: 989\n",
      "Pacman emerges victorious! Score: 987\n",
      "Pacman emerges victorious! Score: 989\n",
      "Pacman emerges victorious! Score: 989\n",
      "Pacman emerges victorious! Score: 987\n",
      "Pacman emerges victorious! Score: 987\n"
     ]
    },
    {
     "name": "stderr",
     "output_type": "stream",
     "text": [
      "Agent 0 ran out of time! (time: 1.00)\n"
     ]
    },
    {
     "name": "stdout",
     "output_type": "stream",
     "text": [
      "Pacman crashed\n",
      "Pacman emerges victorious! Score: 989\n"
     ]
    },
    {
     "name": "stderr",
     "output_type": "stream",
     "text": [
      "Agent 0 ran out of time! (time: 1.00)\n"
     ]
    },
    {
     "name": "stdout",
     "output_type": "stream",
     "text": [
      "Pacman crashed\n",
      "Pacman emerges victorious! Score: 989\n",
      "Pacman emerges victorious! Score: 989\n",
      "Pacman emerges victorious! Score: 989\n",
      "Pacman emerges victorious! Score: 989\n"
     ]
    },
    {
     "name": "stderr",
     "output_type": "stream",
     "text": [
      "Agent 0 ran out of time! (time: 1.01)\n"
     ]
    },
    {
     "name": "stdout",
     "output_type": "stream",
     "text": [
      "Pacman crashed\n",
      "Pacman emerges victorious! Score: 989\n",
      "Pacman emerges victorious! Score: 987\n",
      "Pacman emerges victorious! Score: 987\n",
      "Pacman emerges victorious! Score: 987\n",
      "Pacman emerges victorious! Score: 984\n",
      "Pacman emerges victorious! Score: 989\n",
      "Pacman emerges victorious! Score: 989\n",
      "Pacman emerges victorious! Score: 984\n",
      "Pacman emerges victorious! Score: 987\n",
      "Pacman emerges victorious! Score: 989\n",
      "Pacman emerges victorious! Score: 987\n",
      "Pacman emerges victorious! Score: 987\n",
      "Pacman emerges victorious! Score: 989\n",
      "Pacman emerges victorious! Score: 987\n",
      "Pacman emerges victorious! Score: 987\n",
      "Pacman emerges victorious! Score: 989\n",
      "Pacman emerges victorious! Score: 987\n",
      "Pacman emerges victorious! Score: 982\n",
      "Pacman emerges victorious! Score: 989\n",
      "Pacman emerges victorious! Score: 989\n",
      "Pacman emerges victorious! Score: 989\n",
      "Pacman emerges victorious! Score: 984\n",
      "Pacman emerges victorious! Score: 989\n",
      "Pacman emerges victorious! Score: 989\n",
      "Pacman emerges victorious! Score: 989\n",
      "Pacman emerges victorious! Score: 989\n",
      "Pacman emerges victorious! Score: 989\n",
      "Pacman emerges victorious! Score: 989\n",
      "Pacman emerges victorious! Score: 989\n",
      "Pacman emerges victorious! Score: 987\n"
     ]
    },
    {
     "name": "stderr",
     "output_type": "stream",
     "text": [
      "Agent 0 ran out of time! (time: 1.01)\n"
     ]
    },
    {
     "name": "stdout",
     "output_type": "stream",
     "text": [
      "Pacman crashed\n",
      "Pacman emerges victorious! Score: 989\n",
      "Pacman emerges victorious! Score: 987\n",
      "Pacman emerges victorious! Score: 984\n",
      "Pacman emerges victorious! Score: 989\n",
      "Pacman emerges victorious! Score: 989\n",
      "Pacman emerges victorious! Score: 989\n"
     ]
    },
    {
     "name": "stderr",
     "output_type": "stream",
     "text": [
      "Agent 0 ran out of time! (time: 1.00)\n"
     ]
    },
    {
     "name": "stdout",
     "output_type": "stream",
     "text": [
      "Pacman crashed\n",
      "Pacman emerges victorious! Score: 984\n",
      "Pacman emerges victorious! Score: 989\n",
      "Pacman emerges victorious! Score: 987\n",
      "Pacman emerges victorious! Score: 987\n",
      "Pacman emerges victorious! Score: 989\n"
     ]
    },
    {
     "name": "stderr",
     "output_type": "stream",
     "text": [
      "Agent 0 ran out of time! (time: 1.01)\n"
     ]
    },
    {
     "name": "stdout",
     "output_type": "stream",
     "text": [
      "Pacman crashed\n",
      "Pacman emerges victorious! Score: 989\n",
      "Pacman emerges victorious! Score: 987\n",
      "Pacman emerges victorious! Score: 987\n",
      "Pacman emerges victorious! Score: 989\n"
     ]
    },
    {
     "name": "stderr",
     "output_type": "stream",
     "text": [
      "Agent 0 ran out of time! (time: 1.00)\n"
     ]
    },
    {
     "name": "stdout",
     "output_type": "stream",
     "text": [
      "Pacman crashed\n",
      "Pacman emerges victorious! Score: 989\n",
      "Pacman emerges victorious! Score: 987\n"
     ]
    },
    {
     "name": "stderr",
     "output_type": "stream",
     "text": [
      "Agent 0 ran out of time! (time: 1.00)\n"
     ]
    },
    {
     "name": "stdout",
     "output_type": "stream",
     "text": [
      "Pacman crashed\n",
      "Pacman emerges victorious! Score: 989\n"
     ]
    },
    {
     "name": "stderr",
     "output_type": "stream",
     "text": [
      "Agent 0 ran out of time! (time: 1.01)\n"
     ]
    },
    {
     "name": "stdout",
     "output_type": "stream",
     "text": [
      "Pacman crashed\n",
      "Pacman emerges victorious! Score: 984\n",
      "Pacman emerges victorious! Score: 987\n",
      "Pacman emerges victorious! Score: 987\n",
      "Pacman emerges victorious! Score: 987\n",
      "Pacman emerges victorious! Score: 989\n",
      "Pacman emerges victorious! Score: 987\n",
      "Pacman emerges victorious! Score: 989\n",
      "Pacman emerges victorious! Score: 987\n",
      "Pacman emerges victorious! Score: 987\n",
      "Pacman emerges victorious! Score: 989\n",
      "Pacman emerges victorious! Score: 989\n",
      "Pacman emerges victorious! Score: 989\n",
      "Pacman emerges victorious! Score: 989\n",
      "Pacman emerges victorious! Score: 989\n",
      "Pacman emerges victorious! Score: 987\n",
      "Pacman emerges victorious! Score: 989\n",
      "Pacman emerges victorious! Score: 989\n",
      "Pacman emerges victorious! Score: 987\n",
      "Pacman emerges victorious! Score: 987\n",
      "Pacman emerges victorious! Score: 989\n",
      "Pacman emerges victorious! Score: 987\n",
      "Pacman emerges victorious! Score: 989\n",
      "Pacman emerges victorious! Score: 989\n",
      "Pacman emerges victorious! Score: 989\n",
      "Pacman emerges victorious! Score: 987\n",
      "Pacman emerges victorious! Score: 987\n",
      "Pacman emerges victorious! Score: 987\n",
      "Pacman emerges victorious! Score: 989\n",
      "Pacman emerges victorious! Score: 987\n",
      "Pacman emerges victorious! Score: 989\n",
      "Pacman emerges victorious! Score: 987\n",
      "Pacman emerges victorious! Score: 989\n",
      "Pacman emerges victorious! Score: 987\n",
      "Pacman emerges victorious! Score: 989\n",
      "Pacman emerges victorious! Score: 987\n",
      "Pacman emerges victorious! Score: 987\n",
      "Pacman emerges victorious! Score: 989\n",
      "Pacman emerges victorious! Score: 987\n",
      "Pacman emerges victorious! Score: 989\n",
      "Pacman emerges victorious! Score: 989\n",
      "Pacman emerges victorious! Score: 987\n",
      "Pacman emerges victorious! Score: 987\n",
      "Pacman emerges victorious! Score: 989\n",
      "Pacman emerges victorious! Score: 989\n",
      "Pacman emerges victorious! Score: 987\n",
      "Pacman emerges victorious! Score: 989\n",
      "Pacman emerges victorious! Score: 989\n",
      "Pacman emerges victorious! Score: 989\n",
      "Pacman emerges victorious! Score: 989\n",
      "Pacman emerges victorious! Score: 987\n",
      "Pacman emerges victorious! Score: 987\n"
     ]
    },
    {
     "name": "stderr",
     "output_type": "stream",
     "text": [
      "Agent 0 ran out of time! (time: 1.01)\n"
     ]
    },
    {
     "name": "stdout",
     "output_type": "stream",
     "text": [
      "Pacman crashed\n",
      "Pacman emerges victorious! Score: 989\n",
      "Pacman emerges victorious! Score: 987\n",
      "Pacman emerges victorious! Score: 987\n",
      "Pacman emerges victorious! Score: 989\n",
      "Pacman emerges victorious! Score: 989\n",
      "Pacman emerges victorious! Score: 987\n",
      "Pacman emerges victorious! Score: 987\n",
      "Pacman emerges victorious! Score: 989\n",
      "Pacman emerges victorious! Score: 984\n"
     ]
    },
    {
     "name": "stderr",
     "output_type": "stream",
     "text": [
      "Agent 0 ran out of time! (time: 1.01)\n"
     ]
    },
    {
     "name": "stdout",
     "output_type": "stream",
     "text": [
      "Pacman crashed\n",
      "Pacman emerges victorious! Score: 989\n",
      "Pacman emerges victorious! Score: 987\n",
      "Pacman emerges victorious! Score: 989\n",
      "Pacman emerges victorious! Score: 987\n",
      "Pacman emerges victorious! Score: 984\n",
      "Pacman emerges victorious! Score: 989\n",
      "Pacman emerges victorious! Score: 987\n",
      "Pacman emerges victorious! Score: 984\n",
      "Pacman emerges victorious! Score: 989\n",
      "Pacman emerges victorious! Score: 989\n",
      "Pacman emerges victorious! Score: 987\n",
      "Pacman emerges victorious! Score: 987\n",
      "Pacman emerges victorious! Score: 989\n",
      "Pacman emerges victorious! Score: 989\n"
     ]
    },
    {
     "name": "stderr",
     "output_type": "stream",
     "text": [
      "Agent 0 ran out of time! (time: 1.00)\n"
     ]
    },
    {
     "name": "stdout",
     "output_type": "stream",
     "text": [
      "Pacman crashed\n",
      "Pacman emerges victorious! Score: 989\n",
      "Pacman emerges victorious! Score: 989\n",
      "Pacman emerges victorious! Score: 987\n",
      "Pacman emerges victorious! Score: 989\n"
     ]
    },
    {
     "name": "stderr",
     "output_type": "stream",
     "text": [
      "Agent 0 ran out of time! (time: 1.00)\n"
     ]
    },
    {
     "name": "stdout",
     "output_type": "stream",
     "text": [
      "Pacman crashed\n",
      "Pacman emerges victorious! Score: 987\n",
      "Pacman emerges victorious! Score: 989\n",
      "Pacman emerges victorious! Score: 989\n",
      "Pacman emerges victorious! Score: 987\n",
      "Pacman emerges victorious! Score: 989\n",
      "Pacman emerges victorious! Score: 987\n",
      "Pacman emerges victorious! Score: 989\n",
      "Pacman emerges victorious! Score: 987\n",
      "Pacman emerges victorious! Score: 987\n",
      "Pacman emerges victorious! Score: 987\n",
      "Pacman emerges victorious! Score: 989\n",
      "Pacman emerges victorious! Score: 987\n",
      "Pacman emerges victorious! Score: 989\n",
      "Pacman emerges victorious! Score: 989\n",
      "Pacman emerges victorious! Score: 989\n"
     ]
    },
    {
     "name": "stderr",
     "output_type": "stream",
     "text": [
      "Agent 0 ran out of time! (time: 1.00)\n"
     ]
    },
    {
     "name": "stdout",
     "output_type": "stream",
     "text": [
      "Pacman crashed\n",
      "Pacman emerges victorious! Score: 987\n",
      "Pacman emerges victorious! Score: 989\n",
      "Pacman emerges victorious! Score: 989\n",
      "Pacman emerges victorious! Score: 987\n"
     ]
    },
    {
     "name": "stderr",
     "output_type": "stream",
     "text": [
      "Agent 0 ran out of time! (time: 1.01)\n"
     ]
    },
    {
     "name": "stdout",
     "output_type": "stream",
     "text": [
      "Pacman crashed\n",
      "Pacman emerges victorious! Score: 987\n",
      "Pacman emerges victorious! Score: 987\n",
      "Pacman emerges victorious! Score: 987\n",
      "Pacman emerges victorious! Score: 987\n",
      "Pacman emerges victorious! Score: 989\n",
      "Pacman emerges victorious! Score: 989\n",
      "Pacman emerges victorious! Score: 989\n",
      "Pacman emerges victorious! Score: 987\n",
      "Pacman emerges victorious! Score: 987\n",
      "Pacman emerges victorious! Score: 989\n",
      "Pacman emerges victorious! Score: 989\n",
      "Pacman emerges victorious! Score: 989\n",
      "Pacman emerges victorious! Score: 987\n",
      "Pacman emerges victorious! Score: 989\n",
      "Pacman emerges victorious! Score: 987\n",
      "Pacman emerges victorious! Score: 989\n",
      "Pacman emerges victorious! Score: 987\n",
      "Pacman emerges victorious! Score: 989\n",
      "Pacman emerges victorious! Score: 989\n",
      "Pacman emerges victorious! Score: 987\n",
      "Pacman emerges victorious! Score: 989\n",
      "Pacman emerges victorious! Score: 987\n"
     ]
    },
    {
     "name": "stderr",
     "output_type": "stream",
     "text": [
      "Agent 0 ran out of time! (time: 1.01)\n"
     ]
    },
    {
     "name": "stdout",
     "output_type": "stream",
     "text": [
      "Pacman crashed\n",
      "Pacman emerges victorious! Score: 989\n",
      "Pacman emerges victorious! Score: 989\n",
      "Pacman emerges victorious! Score: 989\n",
      "Pacman emerges victorious! Score: 989\n",
      "Pacman emerges victorious! Score: 987\n",
      "Pacman emerges victorious! Score: 987\n",
      "Pacman emerges victorious! Score: 987\n",
      "Pacman emerges victorious! Score: 987\n",
      "Pacman emerges victorious! Score: 989\n",
      "Pacman emerges victorious! Score: 989\n",
      "Pacman emerges victorious! Score: 989\n",
      "Pacman emerges victorious! Score: 987\n",
      "Pacman emerges victorious! Score: 987\n",
      "Pacman emerges victorious! Score: 989\n",
      "Pacman emerges victorious! Score: 989\n"
     ]
    },
    {
     "name": "stderr",
     "output_type": "stream",
     "text": [
      "Agent 0 ran out of time! (time: 1.01)\n"
     ]
    },
    {
     "name": "stdout",
     "output_type": "stream",
     "text": [
      "Pacman crashed\n"
     ]
    },
    {
     "name": "stderr",
     "output_type": "stream",
     "text": [
      "Agent 0 ran out of time! (time: 1.02)\n"
     ]
    },
    {
     "name": "stdout",
     "output_type": "stream",
     "text": [
      "Pacman emerges victorious! Score: 989\n",
      "Pacman crashed\n",
      "Pacman emerges victorious! Score: 989\n",
      "Pacman emerges victorious! Score: 989\n",
      "Pacman emerges victorious! Score: 989\n",
      "Pacman emerges victorious! Score: 987\n",
      "Pacman emerges victorious! Score: 987\n",
      "Pacman emerges victorious! Score: 989\n",
      "Pacman emerges victorious! Score: 989\n",
      "Pacman emerges victorious! Score: 989\n",
      "Pacman emerges victorious! Score: 987\n",
      "Pacman emerges victorious! Score: 987\n",
      "Pacman emerges victorious! Score: 987\n",
      "Pacman emerges victorious! Score: 989\n",
      "Pacman emerges victorious! Score: 989\n",
      "Pacman emerges victorious! Score: 989\n",
      "Pacman emerges victorious! Score: 989\n",
      "Pacman emerges victorious! Score: 989\n",
      "Pacman emerges victorious! Score: 987\n",
      "Pacman emerges victorious! Score: 987\n",
      "Pacman emerges victorious! Score: 989\n",
      "Pacman emerges victorious! Score: 987\n",
      "Pacman emerges victorious! Score: 989\n",
      "Pacman emerges victorious! Score: 989\n",
      "Pacman emerges victorious! Score: 989\n",
      "Pacman emerges victorious! Score: 987\n",
      "Pacman emerges victorious! Score: 987\n",
      "Pacman emerges victorious! Score: 987\n",
      "Pacman emerges victorious! Score: 984\n",
      "Pacman emerges victorious! Score: 987\n",
      "Pacman emerges victorious! Score: 987\n",
      "Pacman emerges victorious! Score: 987\n",
      "Pacman emerges victorious! Score: 987\n",
      "Pacman emerges victorious! Score: 989\n",
      "Pacman emerges victorious! Score: 989\n",
      "Pacman emerges victorious! Score: 989\n",
      "Pacman emerges victorious! Score: 989\n",
      "Pacman emerges victorious! Score: 987\n",
      "Pacman emerges victorious! Score: 987\n",
      "Pacman emerges victorious! Score: 989\n",
      "Pacman emerges victorious! Score: 987\n",
      "Pacman emerges victorious! Score: 989\n",
      "Pacman emerges victorious! Score: 989\n",
      "Pacman emerges victorious! Score: 989\n",
      "Pacman emerges victorious! Score: 989\n",
      "Pacman emerges victorious! Score: 987\n",
      "Pacman emerges victorious! Score: 987\n",
      "Pacman emerges victorious! Score: 989\n",
      "Pacman emerges victorious! Score: 987\n",
      "Pacman emerges victorious! Score: 989\n",
      "Pacman emerges victorious! Score: 989\n",
      "Pacman emerges victorious! Score: 987\n",
      "Pacman emerges victorious! Score: 989\n",
      "Pacman emerges victorious! Score: 989\n",
      "Pacman emerges victorious! Score: 987\n",
      "Pacman emerges victorious! Score: 989\n",
      "Pacman emerges victorious! Score: 987\n",
      "Pacman emerges victorious! Score: 989\n",
      "Pacman emerges victorious! Score: 989\n",
      "Pacman emerges victorious! Score: 987\n",
      "Pacman emerges victorious! Score: 989\n",
      "Pacman emerges victorious! Score: 987\n",
      "Pacman emerges victorious! Score: 987\n",
      "Pacman emerges victorious! Score: 987\n",
      "Pacman emerges victorious! Score: 989\n",
      "Pacman emerges victorious! Score: 987\n",
      "Pacman emerges victorious! Score: 989\n",
      "Pacman emerges victorious! Score: 987\n",
      "Pacman emerges victorious! Score: 989\n",
      "Pacman emerges victorious! Score: 989\n",
      "Pacman emerges victorious! Score: 989\n",
      "Pacman emerges victorious! Score: 987\n",
      "Pacman emerges victorious! Score: 989\n",
      "Pacman emerges victorious! Score: 989\n",
      "Pacman emerges victorious! Score: 987\n",
      "Pacman emerges victorious! Score: 989\n",
      "Pacman emerges victorious! Score: 989\n",
      "Pacman emerges victorious! Score: 987\n",
      "Pacman emerges victorious! Score: 989\n",
      "Pacman emerges victorious! Score: 989\n",
      "Pacman emerges victorious! Score: 989\n",
      "Pacman emerges victorious! Score: 987\n",
      "Pacman emerges victorious! Score: 989\n",
      "Pacman emerges victorious! Score: 987\n",
      "Pacman emerges victorious! Score: 989\n",
      "Pacman emerges victorious! Score: 989\n",
      "Pacman emerges victorious! Score: 989\n",
      "Pacman emerges victorious! Score: 989\n",
      "Pacman emerges victorious! Score: 987\n",
      "Pacman emerges victorious! Score: 989\n",
      "Pacman emerges victorious! Score: 989\n",
      "Pacman emerges victorious! Score: 987\n",
      "Pacman emerges victorious! Score: 989\n",
      "Pacman emerges victorious! Score: 987\n",
      "Pacman emerges victorious! Score: 987\n",
      "Pacman emerges victorious! Score: 989\n",
      "Pacman emerges victorious! Score: 989\n",
      "Pacman emerges victorious! Score: 987\n",
      "Pacman emerges victorious! Score: 989\n",
      "Pacman emerges victorious! Score: 989\n",
      "Pacman emerges victorious! Score: 989\n",
      "Pacman emerges victorious! Score: 989\n",
      "Pacman emerges victorious! Score: 989\n",
      "Pacman emerges victorious! Score: 987\n",
      "Pacman emerges victorious! Score: 989\n",
      "Pacman emerges victorious! Score: 987\n",
      "Pacman emerges victorious! Score: 989\n",
      "Pacman emerges victorious! Score: 987\n",
      "Pacman emerges victorious! Score: 987\n",
      "Pacman emerges victorious! Score: 989\n",
      "Pacman emerges victorious! Score: 987\n",
      "Pacman emerges victorious! Score: 989\n",
      "Pacman emerges victorious! Score: 989\n",
      "Pacman emerges victorious! Score: 987\n",
      "Pacman emerges victorious! Score: 989\n",
      "Pacman emerges victorious! Score: 989\n",
      "Pacman emerges victorious! Score: 987\n",
      "Pacman emerges victorious! Score: 987\n",
      "Pacman emerges victorious! Score: 989\n",
      "Pacman emerges victorious! Score: 987\n",
      "Pacman emerges victorious! Score: 987\n"
     ]
    },
    {
     "name": "stderr",
     "output_type": "stream",
     "text": [
      "Agent 0 ran out of time! (time: 1.01)\n"
     ]
    },
    {
     "name": "stdout",
     "output_type": "stream",
     "text": [
      "Pacman crashed\n",
      "Pacman emerges victorious! Score: 982\n",
      "Pacman emerges victorious! Score: 987\n",
      "Pacman emerges victorious! Score: 987\n",
      "Pacman emerges victorious! Score: 982\n",
      "Pacman emerges victorious! Score: 987\n",
      "Pacman emerges victorious! Score: 987\n",
      "Pacman emerges victorious! Score: 987\n",
      "Pacman emerges victorious! Score: 987\n",
      "Pacman emerges victorious! Score: 987\n",
      "Pacman emerges victorious! Score: 989\n",
      "Pacman emerges victorious! Score: 989\n",
      "Pacman emerges victorious! Score: 989\n",
      "Pacman emerges victorious! Score: 987\n",
      "Pacman emerges victorious! Score: 989\n",
      "Pacman emerges victorious! Score: 987\n",
      "Pacman emerges victorious! Score: 987\n",
      "Pacman emerges victorious! Score: 989\n",
      "Pacman emerges victorious! Score: 989\n",
      "Pacman emerges victorious! Score: 989\n",
      "Pacman emerges victorious! Score: 987\n",
      "Pacman emerges victorious! Score: 987\n",
      "Pacman emerges victorious! Score: 989\n",
      "Pacman emerges victorious! Score: 987\n",
      "Pacman emerges victorious! Score: 987\n"
     ]
    },
    {
     "name": "stderr",
     "output_type": "stream",
     "text": [
      "Agent 0 ran out of time! (time: 1.00)\n"
     ]
    },
    {
     "name": "stdout",
     "output_type": "stream",
     "text": [
      "Pacman crashed\n",
      "Pacman emerges victorious! Score: 989\n",
      "Pacman emerges victorious! Score: 987\n",
      "Pacman emerges victorious! Score: 989\n"
     ]
    },
    {
     "name": "stderr",
     "output_type": "stream",
     "text": [
      "Agent 0 ran out of time! (time: 1.01)\n"
     ]
    },
    {
     "name": "stdout",
     "output_type": "stream",
     "text": [
      "Pacman crashed\n",
      "Pacman emerges victorious! Score: 987\n"
     ]
    },
    {
     "name": "stderr",
     "output_type": "stream",
     "text": [
      "Agent 0 ran out of time! (time: 1.01)\n"
     ]
    },
    {
     "name": "stdout",
     "output_type": "stream",
     "text": [
      "Pacman crashed\n",
      "Pacman emerges victorious! Score: 989\n",
      "Pacman emerges victorious! Score: 989\n",
      "Pacman emerges victorious! Score: 989\n"
     ]
    },
    {
     "name": "stderr",
     "output_type": "stream",
     "text": [
      "Agent 0 ran out of time! (time: 1.01)\n"
     ]
    },
    {
     "name": "stdout",
     "output_type": "stream",
     "text": [
      "Pacman crashed\n",
      "Pacman emerges victorious! Score: 989\n",
      "Pacman emerges victorious! Score: 987\n",
      "Pacman emerges victorious! Score: 987\n",
      "Pacman emerges victorious! Score: 987\n",
      "Pacman emerges victorious! Score: 989\n",
      "Pacman emerges victorious! Score: 989\n",
      "Pacman emerges victorious! Score: 989\n",
      "Pacman emerges victorious! Score: 989\n",
      "Pacman emerges victorious! Score: 989\n",
      "Pacman emerges victorious! Score: 987\n",
      "Pacman emerges victorious! Score: 987\n",
      "Pacman emerges victorious! Score: 989\n",
      "Pacman emerges victorious! Score: 987\n",
      "Pacman emerges victorious! Score: 987\n",
      "Pacman emerges victorious! Score: 987\n",
      "Pacman emerges victorious! Score: 989\n",
      "Pacman emerges victorious! Score: 989\n",
      "Pacman emerges victorious! Score: 987\n",
      "Pacman emerges victorious! Score: 989\n",
      "Pacman emerges victorious! Score: 987\n",
      "Pacman emerges victorious! Score: 987\n",
      "Pacman emerges victorious! Score: 989\n",
      "Pacman emerges victorious! Score: 987\n",
      "Pacman emerges victorious! Score: 987\n",
      "Pacman emerges victorious! Score: 987\n"
     ]
    },
    {
     "name": "stderr",
     "output_type": "stream",
     "text": [
      "Agent 0 ran out of time! (time: 1.00)\n"
     ]
    },
    {
     "name": "stdout",
     "output_type": "stream",
     "text": [
      "Pacman crashed\n",
      "Pacman emerges victorious! Score: 987\n",
      "Pacman emerges victorious! Score: 982\n",
      "Pacman emerges victorious! Score: 987\n",
      "Pacman emerges victorious! Score: 987\n",
      "Pacman emerges victorious! Score: 987\n",
      "Pacman emerges victorious! Score: 987\n",
      "Pacman emerges victorious! Score: 987\n",
      "Pacman emerges victorious! Score: 989\n",
      "Pacman emerges victorious! Score: 989\n",
      "Pacman emerges victorious! Score: 989\n",
      "Pacman emerges victorious! Score: 989\n",
      "Pacman emerges victorious! Score: 987\n",
      "Pacman emerges victorious! Score: 987\n",
      "Pacman emerges victorious! Score: 989\n",
      "Pacman emerges victorious! Score: 987\n",
      "Pacman emerges victorious! Score: 987\n",
      "Pacman emerges victorious! Score: 987\n",
      "Pacman emerges victorious! Score: 989\n",
      "Pacman emerges victorious! Score: 989\n",
      "Pacman emerges victorious! Score: 989\n",
      "Pacman emerges victorious! Score: 987\n",
      "Pacman emerges victorious! Score: 989\n",
      "Pacman emerges victorious! Score: 987\n",
      "Pacman emerges victorious! Score: 989\n",
      "Pacman emerges victorious! Score: 989\n",
      "Pacman emerges victorious! Score: 987\n",
      "Pacman emerges victorious! Score: 989\n",
      "Pacman emerges victorious! Score: 989\n",
      "Pacman emerges victorious! Score: 989\n",
      "Pacman emerges victorious! Score: 989\n",
      "Pacman emerges victorious! Score: 989\n",
      "Pacman emerges victorious! Score: 989\n",
      "Pacman emerges victorious! Score: 989\n",
      "Pacman emerges victorious! Score: 987\n",
      "Pacman emerges victorious! Score: 989\n",
      "Pacman emerges victorious! Score: 987\n",
      "Pacman emerges victorious! Score: 989\n",
      "Pacman emerges victorious! Score: 987\n",
      "Pacman emerges victorious! Score: 987\n",
      "Pacman emerges victorious! Score: 989\n",
      "Pacman emerges victorious! Score: 987\n",
      "Pacman emerges victorious! Score: 989\n",
      "Pacman emerges victorious! Score: 987\n",
      "Pacman emerges victorious! Score: 987\n",
      "Pacman emerges victorious! Score: 989\n",
      "Pacman emerges victorious! Score: 989\n",
      "Pacman emerges victorious! Score: 989\n",
      "Pacman emerges victorious! Score: 987\n",
      "Pacman emerges victorious! Score: 987\n",
      "Pacman emerges victorious! Score: 987\n",
      "Pacman emerges victorious! Score: 989\n",
      "Pacman emerges victorious! Score: 989\n",
      "Pacman emerges victorious! Score: 987\n",
      "Pacman emerges victorious! Score: 989\n",
      "Pacman emerges victorious! Score: 984\n",
      "Pacman emerges victorious! Score: 987\n",
      "Pacman emerges victorious! Score: 989\n",
      "Pacman emerges victorious! Score: 989\n",
      "Pacman emerges victorious! Score: 989\n",
      "Pacman emerges victorious! Score: 987\n",
      "Pacman emerges victorious! Score: 987\n",
      "Pacman emerges victorious! Score: 987\n",
      "Pacman emerges victorious! Score: 989\n",
      "Pacman emerges victorious! Score: 989\n",
      "Pacman emerges victorious! Score: 987\n",
      "Pacman emerges victorious! Score: 989\n",
      "Pacman emerges victorious! Score: 989\n",
      "Pacman emerges victorious! Score: 987\n",
      "Pacman emerges victorious! Score: 989\n",
      "Pacman emerges victorious! Score: 989\n",
      "Pacman emerges victorious! Score: 989\n",
      "Pacman emerges victorious! Score: 987\n",
      "Pacman emerges victorious! Score: 987\n",
      "Pacman emerges victorious! Score: 989\n",
      "Pacman emerges victorious! Score: 989\n",
      "Pacman emerges victorious! Score: 989\n",
      "Pacman emerges victorious! Score: 989\n",
      "Pacman emerges victorious! Score: 989\n",
      "Pacman emerges victorious! Score: 987\n",
      "Pacman emerges victorious! Score: 989\n",
      "Pacman emerges victorious! Score: 987\n",
      "Pacman emerges victorious! Score: 989\n",
      "Pacman emerges victorious! Score: 989\n",
      "Pacman emerges victorious! Score: 987\n",
      "Pacman emerges victorious! Score: 989\n",
      "Pacman emerges victorious! Score: 987\n",
      "Pacman emerges victorious! Score: 987\n",
      "Pacman emerges victorious! Score: 989\n",
      "Pacman emerges victorious! Score: 989\n",
      "Pacman emerges victorious! Score: 987\n",
      "Pacman emerges victorious! Score: 989\n"
     ]
    },
    {
     "name": "stderr",
     "output_type": "stream",
     "text": [
      "Agent 0 ran out of time! (time: 1.01)\n"
     ]
    },
    {
     "name": "stdout",
     "output_type": "stream",
     "text": [
      "Pacman crashed\n",
      "Pacman emerges victorious! Score: 987\n",
      "Pacman emerges victorious! Score: 989\n",
      "Pacman emerges victorious! Score: 987\n",
      "Pacman emerges victorious! Score: 989\n",
      "Pacman emerges victorious! Score: 989\n",
      "Pacman emerges victorious! Score: 989\n",
      "Pacman emerges victorious! Score: 989\n",
      "Pacman emerges victorious! Score: 987\n",
      "Pacman emerges victorious! Score: 989\n",
      "Pacman emerges victorious! Score: 989\n",
      "Pacman emerges victorious! Score: 989\n",
      "Pacman emerges victorious! Score: 989\n",
      "Pacman emerges victorious! Score: 989\n",
      "Pacman emerges victorious! Score: 987\n",
      "Pacman emerges victorious! Score: 989\n",
      "Pacman emerges victorious! Score: 989\n",
      "Pacman emerges victorious! Score: 987\n",
      "Pacman emerges victorious! Score: 989\n",
      "Pacman emerges victorious! Score: 989\n",
      "Pacman emerges victorious! Score: 989\n",
      "Pacman emerges victorious! Score: 987\n",
      "Pacman emerges victorious! Score: 987\n",
      "Pacman emerges victorious! Score: 989\n",
      "Pacman emerges victorious! Score: 987\n",
      "Pacman emerges victorious! Score: 987\n",
      "Pacman emerges victorious! Score: 989\n",
      "Pacman emerges victorious! Score: 989\n",
      "Pacman emerges victorious! Score: 987\n",
      "Pacman emerges victorious! Score: 987\n",
      "Pacman emerges victorious! Score: 987\n",
      "Pacman emerges victorious! Score: 989\n",
      "Pacman emerges victorious! Score: 987\n",
      "Pacman emerges victorious! Score: 989\n",
      "Pacman emerges victorious! Score: 987\n",
      "Pacman emerges victorious! Score: 989\n",
      "Pacman emerges victorious! Score: 987\n",
      "Pacman emerges victorious! Score: 989\n",
      "Pacman emerges victorious! Score: 987\n",
      "Pacman emerges victorious! Score: 987\n",
      "Pacman emerges victorious! Score: 987\n",
      "Pacman emerges victorious! Score: 987\n",
      "Pacman emerges victorious! Score: 987\n",
      "Pacman emerges victorious! Score: 987\n",
      "Pacman emerges victorious! Score: 989\n",
      "Pacman emerges victorious! Score: 987\n",
      "Pacman emerges victorious! Score: 989\n",
      "Pacman emerges victorious! Score: 987\n",
      "Pacman emerges victorious! Score: 989\n",
      "Pacman emerges victorious! Score: 987\n",
      "Pacman emerges victorious! Score: 989\n",
      "Pacman emerges victorious! Score: 989\n",
      "Pacman emerges victorious! Score: 987\n",
      "Pacman emerges victorious! Score: 989\n",
      "Pacman emerges victorious! Score: 987\n",
      "Pacman emerges victorious! Score: 987\n"
     ]
    },
    {
     "name": "stderr",
     "output_type": "stream",
     "text": [
      "Agent 0 ran out of time! (time: 1.00)\n"
     ]
    },
    {
     "name": "stdout",
     "output_type": "stream",
     "text": [
      "Pacman crashed\n",
      "Pacman emerges victorious! Score: 987\n"
     ]
    },
    {
     "name": "stderr",
     "output_type": "stream",
     "text": [
      "Agent 0 ran out of time! (time: 1.00)\n"
     ]
    },
    {
     "name": "stdout",
     "output_type": "stream",
     "text": [
      "Pacman crashed\n"
     ]
    },
    {
     "name": "stderr",
     "output_type": "stream",
     "text": [
      "Agent 0 ran out of time! (time: 1.00)\n"
     ]
    },
    {
     "name": "stdout",
     "output_type": "stream",
     "text": [
      "Pacman crashed\n",
      "Pacman emerges victorious! Score: 987\n",
      "Pacman emerges victorious! Score: 989\n",
      "Pacman emerges victorious! Score: 989\n",
      "Pacman emerges victorious! Score: 989\n",
      "Pacman emerges victorious! Score: 987\n",
      "Pacman emerges victorious! Score: 987\n",
      "Pacman emerges victorious! Score: 987\n",
      "Pacman emerges victorious! Score: 989\n",
      "Pacman emerges victorious! Score: 987\n",
      "Pacman emerges victorious! Score: 987\n",
      "Pacman emerges victorious! Score: 989\n",
      "Pacman emerges victorious! Score: 987\n",
      "Pacman emerges victorious! Score: 987\n",
      "Pacman emerges victorious! Score: 987\n",
      "Pacman emerges victorious! Score: 987\n",
      "Pacman emerges victorious! Score: 989\n",
      "Pacman emerges victorious! Score: 989\n",
      "Pacman emerges victorious! Score: 987\n",
      "Pacman emerges victorious! Score: 987\n",
      "Pacman emerges victorious! Score: 987\n",
      "Pacman emerges victorious! Score: 987\n",
      "Pacman emerges victorious! Score: 989\n",
      "Pacman emerges victorious! Score: 989\n",
      "Pacman emerges victorious! Score: 989\n",
      "Pacman emerges victorious! Score: 987\n",
      "Pacman emerges victorious! Score: 989\n",
      "Pacman emerges victorious! Score: 989\n",
      "Pacman emerges victorious! Score: 989\n",
      "Pacman emerges victorious! Score: 987\n",
      "Pacman emerges victorious! Score: 989\n",
      "Pacman emerges victorious! Score: 987\n",
      "Pacman emerges victorious! Score: 987\n",
      "Pacman emerges victorious! Score: 987\n",
      "Pacman emerges victorious! Score: 987\n",
      "Pacman emerges victorious! Score: 987\n"
     ]
    },
    {
     "name": "stderr",
     "output_type": "stream",
     "text": [
      "Agent 0 ran out of time! (time: 1.00)\n"
     ]
    },
    {
     "name": "stdout",
     "output_type": "stream",
     "text": [
      "Pacman crashed\n",
      "Pacman emerges victorious! Score: 987\n",
      "Pacman emerges victorious! Score: 989\n",
      "Pacman emerges victorious! Score: 989\n",
      "Pacman emerges victorious! Score: 989\n",
      "Pacman emerges victorious! Score: 989\n",
      "Pacman emerges victorious! Score: 987\n",
      "Pacman emerges victorious! Score: 987\n",
      "Pacman emerges victorious! Score: 989\n",
      "Pacman emerges victorious! Score: 989\n",
      "Pacman emerges victorious! Score: 989\n",
      "Pacman emerges victorious! Score: 987\n",
      "Pacman emerges victorious! Score: 989\n",
      "Pacman emerges victorious! Score: 989\n",
      "Pacman emerges victorious! Score: 989\n",
      "Pacman emerges victorious! Score: 984\n",
      "Pacman emerges victorious! Score: 989\n",
      "Pacman emerges victorious! Score: 987\n",
      "Pacman emerges victorious! Score: 987\n",
      "Pacman emerges victorious! Score: 989\n",
      "Pacman emerges victorious! Score: 987\n",
      "Pacman emerges victorious! Score: 989\n",
      "Pacman emerges victorious! Score: 987\n",
      "Pacman emerges victorious! Score: 989\n",
      "Pacman emerges victorious! Score: 987\n"
     ]
    },
    {
     "name": "stderr",
     "output_type": "stream",
     "text": [
      "Agent 0 ran out of time! (time: 1.00)\n"
     ]
    },
    {
     "name": "stdout",
     "output_type": "stream",
     "text": [
      "Pacman crashed\n",
      "Pacman emerges victorious! Score: 987\n",
      "Pacman emerges victorious! Score: 989\n",
      "Pacman emerges victorious! Score: 989\n",
      "Pacman emerges victorious! Score: 987\n",
      "Pacman emerges victorious! Score: 987\n",
      "Pacman emerges victorious! Score: 989\n",
      "Pacman emerges victorious! Score: 989\n",
      "Pacman emerges victorious! Score: 989\n",
      "Pacman emerges victorious! Score: 987\n"
     ]
    },
    {
     "name": "stderr",
     "output_type": "stream",
     "text": [
      "Agent 0 ran out of time! (time: 1.01)\n"
     ]
    },
    {
     "name": "stdout",
     "output_type": "stream",
     "text": [
      "Pacman crashed\n",
      "Pacman emerges victorious! Score: 987\n",
      "Pacman emerges victorious! Score: 989\n",
      "Pacman emerges victorious! Score: 989\n",
      "Pacman emerges victorious! Score: 987\n",
      "Pacman emerges victorious! Score: 987\n",
      "Pacman emerges victorious! Score: 989\n",
      "Pacman emerges victorious! Score: 989\n",
      "Pacman emerges victorious! Score: 989\n",
      "Pacman emerges victorious! Score: 989\n"
     ]
    },
    {
     "name": "stderr",
     "output_type": "stream",
     "text": [
      "Agent 0 ran out of time! (time: 1.00)\n"
     ]
    },
    {
     "name": "stdout",
     "output_type": "stream",
     "text": [
      "Pacman crashed\n",
      "Pacman emerges victorious! Score: 989\n",
      "Pacman emerges victorious! Score: 989\n",
      "Pacman emerges victorious! Score: 989\n",
      "Pacman emerges victorious! Score: 989\n",
      "Pacman emerges victorious! Score: 987\n",
      "Pacman emerges victorious! Score: 987\n",
      "Pacman emerges victorious! Score: 989\n",
      "Pacman emerges victorious! Score: 987\n",
      "Pacman emerges victorious! Score: 989\n"
     ]
    },
    {
     "name": "stderr",
     "output_type": "stream",
     "text": [
      "Agent 0 ran out of time! (time: 1.01)\n"
     ]
    },
    {
     "name": "stdout",
     "output_type": "stream",
     "text": [
      "Pacman crashed\n",
      "Pacman emerges victorious! Score: 989\n",
      "Pacman emerges victorious! Score: 989\n",
      "Pacman emerges victorious! Score: 989\n",
      "Pacman emerges victorious! Score: 987\n",
      "Pacman emerges victorious! Score: 987\n",
      "Pacman emerges victorious! Score: 982\n",
      "Pacman emerges victorious! Score: 989\n",
      "Pacman emerges victorious! Score: 987\n",
      "Pacman emerges victorious! Score: 989\n",
      "Pacman emerges victorious! Score: 989\n",
      "Pacman emerges victorious! Score: 989\n",
      "Pacman emerges victorious! Score: 987\n",
      "Pacman emerges victorious! Score: 987\n",
      "Pacman emerges victorious! Score: 989\n",
      "Pacman emerges victorious! Score: 989\n",
      "Pacman emerges victorious! Score: 989\n",
      "Pacman emerges victorious! Score: 987\n",
      "Pacman emerges victorious! Score: 987\n",
      "Pacman emerges victorious! Score: 989\n",
      "Pacman emerges victorious! Score: 989\n",
      "Pacman emerges victorious! Score: 989\n",
      "Pacman emerges victorious! Score: 987\n"
     ]
    },
    {
     "name": "stderr",
     "output_type": "stream",
     "text": [
      "Agent 0 ran out of time! (time: 1.00)\n"
     ]
    },
    {
     "name": "stdout",
     "output_type": "stream",
     "text": [
      "Pacman crashed\n",
      "Pacman emerges victorious! Score: 987\n",
      "Pacman emerges victorious! Score: 989\n",
      "Pacman emerges victorious! Score: 989\n",
      "Pacman emerges victorious! Score: 989\n",
      "Pacman emerges victorious! Score: 987\n",
      "Pacman emerges victorious! Score: 989\n",
      "Pacman emerges victorious! Score: 987\n",
      "Pacman emerges victorious! Score: 989\n",
      "Pacman emerges victorious! Score: 989\n",
      "Pacman emerges victorious! Score: 987\n",
      "Pacman emerges victorious! Score: 987\n",
      "Pacman emerges victorious! Score: 987\n"
     ]
    },
    {
     "name": "stderr",
     "output_type": "stream",
     "text": [
      "Agent 0 ran out of time! (time: 1.00)\n"
     ]
    },
    {
     "name": "stdout",
     "output_type": "stream",
     "text": [
      "Pacman crashed\n",
      "Pacman emerges victorious! Score: 989\n",
      "Pacman emerges victorious! Score: 987\n",
      "Pacman emerges victorious! Score: 987\n",
      "Pacman emerges victorious! Score: 987\n"
     ]
    },
    {
     "name": "stderr",
     "output_type": "stream",
     "text": [
      "Agent 0 ran out of time! (time: 1.01)\n"
     ]
    },
    {
     "name": "stdout",
     "output_type": "stream",
     "text": [
      "Pacman crashed\n",
      "Pacman emerges victorious! Score: 989\n",
      "Pacman emerges victorious! Score: 987\n",
      "Pacman emerges victorious! Score: 989\n",
      "Pacman emerges victorious! Score: 989\n",
      "Pacman emerges victorious! Score: 989\n",
      "Pacman emerges victorious! Score: 987\n",
      "Pacman emerges victorious! Score: 987\n",
      "Pacman emerges victorious! Score: 989\n",
      "Pacman emerges victorious! Score: 987\n",
      "Pacman emerges victorious! Score: 987\n",
      "Pacman emerges victorious! Score: 989\n",
      "Pacman emerges victorious! Score: 989\n",
      "Pacman emerges victorious! Score: 987\n",
      "Pacman emerges victorious! Score: 989\n",
      "Pacman emerges victorious! Score: 989\n",
      "Pacman emerges victorious! Score: 987\n",
      "Pacman emerges victorious! Score: 987\n",
      "Pacman emerges victorious! Score: 987\n",
      "Pacman emerges victorious! Score: 989\n",
      "Pacman emerges victorious! Score: 987\n",
      "Pacman emerges victorious! Score: 989\n",
      "Pacman emerges victorious! Score: 989\n",
      "Pacman emerges victorious! Score: 989\n",
      "Pacman emerges victorious! Score: 987\n",
      "Pacman emerges victorious! Score: 989\n",
      "Pacman emerges victorious! Score: 987\n",
      "Pacman emerges victorious! Score: 989\n",
      "Pacman emerges victorious! Score: 987\n",
      "Pacman emerges victorious! Score: 987\n",
      "Pacman emerges victorious! Score: 987\n",
      "Pacman emerges victorious! Score: 989\n",
      "Pacman emerges victorious! Score: 987\n",
      "Pacman emerges victorious! Score: 987\n",
      "Pacman emerges victorious! Score: 987\n",
      "Pacman emerges victorious! Score: 987\n",
      "Pacman emerges victorious! Score: 987\n",
      "Pacman emerges victorious! Score: 989\n",
      "Pacman emerges victorious! Score: 987\n",
      "Pacman emerges victorious! Score: 987\n",
      "Pacman emerges victorious! Score: 987\n",
      "Pacman emerges victorious! Score: 987\n",
      "Pacman emerges victorious! Score: 989\n",
      "Pacman emerges victorious! Score: 987\n",
      "Pacman emerges victorious! Score: 989\n",
      "Pacman emerges victorious! Score: 989\n",
      "Pacman emerges victorious! Score: 987\n",
      "Pacman emerges victorious! Score: 989\n",
      "Pacman emerges victorious! Score: 987\n",
      "Pacman emerges victorious! Score: 987\n",
      "Pacman emerges victorious! Score: 987\n",
      "Pacman emerges victorious! Score: 987\n",
      "Pacman emerges victorious! Score: 989\n",
      "Pacman emerges victorious! Score: 989\n",
      "Pacman emerges victorious! Score: 989\n",
      "Pacman emerges victorious! Score: 989\n",
      "Pacman emerges victorious! Score: 989\n",
      "Pacman emerges victorious! Score: 989\n",
      "Pacman emerges victorious! Score: 987\n",
      "Pacman emerges victorious! Score: 989\n",
      "Pacman emerges victorious! Score: 987\n",
      "Pacman emerges victorious! Score: 989\n",
      "Pacman emerges victorious! Score: 989\n",
      "Pacman emerges victorious! Score: 989\n",
      "Pacman emerges victorious! Score: 987\n",
      "Pacman emerges victorious! Score: 989\n",
      "Pacman emerges victorious! Score: 987\n",
      "Pacman emerges victorious! Score: 989\n",
      "Pacman emerges victorious! Score: 987\n",
      "Pacman emerges victorious! Score: 989\n",
      "Pacman emerges victorious! Score: 987\n",
      "Pacman emerges victorious! Score: 987\n"
     ]
    },
    {
     "name": "stderr",
     "output_type": "stream",
     "text": [
      "Agent 0 ran out of time! (time: 1.00)\n"
     ]
    },
    {
     "name": "stdout",
     "output_type": "stream",
     "text": [
      "Pacman crashed\n",
      "Pacman emerges victorious! Score: 987\n",
      "Pacman emerges victorious! Score: 987\n",
      "Pacman emerges victorious! Score: 989\n"
     ]
    },
    {
     "name": "stderr",
     "output_type": "stream",
     "text": [
      "Agent 0 ran out of time! (time: 1.00)\n"
     ]
    },
    {
     "name": "stdout",
     "output_type": "stream",
     "text": [
      "Pacman crashed\n",
      "Pacman emerges victorious! Score: 989\n",
      "Pacman emerges victorious! Score: 989\n",
      "Pacman emerges victorious! Score: 984\n",
      "Pacman emerges victorious! Score: 987\n",
      "Pacman emerges victorious! Score: 989\n",
      "Pacman emerges victorious! Score: 987\n",
      "Pacman emerges victorious! Score: 987\n",
      "Pacman emerges victorious! Score: 989\n",
      "Pacman emerges victorious! Score: 987\n"
     ]
    },
    {
     "name": "stderr",
     "output_type": "stream",
     "text": [
      "Agent 0 ran out of time! (time: 1.00)\n"
     ]
    },
    {
     "name": "stdout",
     "output_type": "stream",
     "text": [
      "Pacman crashed\n",
      "Pacman emerges victorious! Score: 989\n",
      "Pacman emerges victorious! Score: 987\n",
      "Pacman emerges victorious! Score: 987\n",
      "Pacman emerges victorious! Score: 989\n",
      "Pacman emerges victorious! Score: 987\n",
      "Pacman emerges victorious! Score: 987\n",
      "Pacman emerges victorious! Score: 989\n",
      "Pacman emerges victorious! Score: 987\n",
      "Pacman emerges victorious! Score: 989\n",
      "Pacman emerges victorious! Score: 989\n",
      "Pacman emerges victorious! Score: 989\n",
      "Pacman emerges victorious! Score: 987\n",
      "Pacman emerges victorious! Score: 989\n",
      "Pacman emerges victorious! Score: 989\n",
      "Pacman emerges victorious! Score: 987\n",
      "Pacman emerges victorious! Score: 989\n",
      "Pacman emerges victorious! Score: 987\n",
      "Pacman emerges victorious! Score: 987\n",
      "Pacman emerges victorious! Score: 989\n",
      "Pacman emerges victorious! Score: 989\n",
      "Pacman emerges victorious! Score: 989\n",
      "Pacman emerges victorious! Score: 987\n",
      "Pacman emerges victorious! Score: 989\n",
      "Pacman emerges victorious! Score: 987\n",
      "Pacman emerges victorious! Score: 987\n",
      "Pacman emerges victorious! Score: 989\n"
     ]
    },
    {
     "name": "stderr",
     "output_type": "stream",
     "text": [
      "Agent 0 ran out of time! (time: 1.00)\n"
     ]
    },
    {
     "name": "stdout",
     "output_type": "stream",
     "text": [
      "Pacman crashed\n",
      "Pacman emerges victorious! Score: 987\n",
      "Pacman emerges victorious! Score: 987\n",
      "Pacman emerges victorious! Score: 987\n",
      "Pacman emerges victorious! Score: 989\n"
     ]
    },
    {
     "name": "stderr",
     "output_type": "stream",
     "text": [
      "Agent 0 ran out of time! (time: 1.00)\n"
     ]
    },
    {
     "name": "stdout",
     "output_type": "stream",
     "text": [
      "Pacman crashed\n",
      "Pacman emerges victorious! Score: 989\n",
      "Pacman emerges victorious! Score: 989\n",
      "Pacman emerges victorious! Score: 987\n",
      "Pacman emerges victorious! Score: 989\n",
      "Pacman emerges victorious! Score: 989\n",
      "Pacman emerges victorious! Score: 987\n",
      "Pacman emerges victorious! Score: 987\n",
      "Pacman emerges victorious! Score: 987\n",
      "Pacman emerges victorious! Score: 987\n",
      "Pacman emerges victorious! Score: 987\n",
      "Pacman emerges victorious! Score: 989\n",
      "Pacman emerges victorious! Score: 989\n",
      "Pacman emerges victorious! Score: 987\n",
      "Pacman emerges victorious! Score: 987\n",
      "Pacman emerges victorious! Score: 989\n"
     ]
    },
    {
     "name": "stderr",
     "output_type": "stream",
     "text": [
      "Agent 0 ran out of time! (time: 1.00)\n"
     ]
    },
    {
     "name": "stdout",
     "output_type": "stream",
     "text": [
      "Pacman crashed\n",
      "Pacman emerges victorious! Score: 989\n",
      "Pacman emerges victorious! Score: 987\n",
      "Pacman emerges victorious! Score: 989\n",
      "Pacman emerges victorious! Score: 987\n",
      "Pacman emerges victorious! Score: 987\n",
      "Pacman emerges victorious! Score: 989\n",
      "Pacman emerges victorious! Score: 989\n",
      "Pacman emerges victorious! Score: 987\n",
      "Pacman emerges victorious! Score: 987\n",
      "Pacman emerges victorious! Score: 989\n",
      "Pacman emerges victorious! Score: 989\n",
      "Pacman emerges victorious! Score: 987\n",
      "Pacman emerges victorious! Score: 987\n",
      "Pacman emerges victorious! Score: 989\n",
      "Pacman emerges victorious! Score: 987\n",
      "Pacman emerges victorious! Score: 989\n",
      "Pacman emerges victorious! Score: 987\n",
      "Pacman emerges victorious! Score: 989\n",
      "Pacman emerges victorious! Score: 989\n",
      "Pacman emerges victorious! Score: 987\n",
      "Pacman emerges victorious! Score: 989\n",
      "Pacman emerges victorious! Score: 987\n",
      "Pacman emerges victorious! Score: 989\n",
      "Pacman emerges victorious! Score: 987\n",
      "Pacman emerges victorious! Score: 987\n",
      "Pacman emerges victorious! Score: 987\n",
      "Pacman emerges victorious! Score: 989\n",
      "Pacman emerges victorious! Score: 987\n",
      "Pacman emerges victorious! Score: 987\n",
      "Pacman emerges victorious! Score: 987\n",
      "Pacman emerges victorious! Score: 989\n",
      "Pacman emerges victorious! Score: 989\n",
      "Pacman emerges victorious! Score: 987\n"
     ]
    },
    {
     "name": "stderr",
     "output_type": "stream",
     "text": [
      "Agent 0 ran out of time! (time: 1.00)\n"
     ]
    },
    {
     "name": "stdout",
     "output_type": "stream",
     "text": [
      "Pacman crashed\n",
      "Pacman emerges victorious! Score: 989\n",
      "Pacman emerges victorious! Score: 987\n",
      "Pacman emerges victorious! Score: 989\n",
      "Pacman emerges victorious! Score: 989\n",
      "Pacman emerges victorious! Score: 989\n",
      "Pacman emerges victorious! Score: 989\n",
      "Pacman emerges victorious! Score: 989\n",
      "Pacman emerges victorious! Score: 989\n"
     ]
    },
    {
     "name": "stderr",
     "output_type": "stream",
     "text": [
      "Agent 0 ran out of time! (time: 1.00)\n"
     ]
    },
    {
     "name": "stdout",
     "output_type": "stream",
     "text": [
      "Pacman crashed\n",
      "Pacman emerges victorious! Score: 989\n"
     ]
    },
    {
     "name": "stderr",
     "output_type": "stream",
     "text": [
      "Agent 0 ran out of time! (time: 1.00)\n"
     ]
    },
    {
     "name": "stdout",
     "output_type": "stream",
     "text": [
      "Pacman crashed\n",
      "Pacman emerges victorious! Score: 989\n",
      "Pacman emerges victorious! Score: 987\n",
      "Pacman emerges victorious! Score: 987\n",
      "Pacman emerges victorious! Score: 989\n"
     ]
    },
    {
     "name": "stderr",
     "output_type": "stream",
     "text": [
      "Agent 0 ran out of time! (time: 1.00)\n"
     ]
    },
    {
     "name": "stdout",
     "output_type": "stream",
     "text": [
      "Pacman crashed\n",
      "Pacman emerges victorious! Score: 987\n",
      "Pacman emerges victorious! Score: 987\n",
      "Pacman emerges victorious! Score: 989\n",
      "Pacman emerges victorious! Score: 987\n",
      "Pacman emerges victorious! Score: 989\n"
     ]
    },
    {
     "name": "stderr",
     "output_type": "stream",
     "text": [
      "Agent 0 ran out of time! (time: 1.00)\n"
     ]
    },
    {
     "name": "stdout",
     "output_type": "stream",
     "text": [
      "Pacman crashed\n",
      "Pacman emerges victorious! Score: 987\n",
      "Pacman emerges victorious! Score: 987\n",
      "Pacman emerges victorious! Score: 989\n",
      "Pacman emerges victorious! Score: 987\n",
      "Pacman emerges victorious! Score: 987\n",
      "Pacman emerges victorious! Score: 989\n",
      "Pacman emerges victorious! Score: 987\n",
      "Pacman emerges victorious! Score: 989\n",
      "Pacman emerges victorious! Score: 987\n",
      "Pacman emerges victorious! Score: 987\n",
      "Pacman emerges victorious! Score: 989\n",
      "Pacman emerges victorious! Score: 989\n",
      "Pacman emerges victorious! Score: 987\n",
      "Pacman emerges victorious! Score: 987\n",
      "Pacman emerges victorious! Score: 989\n",
      "Pacman emerges victorious! Score: 987\n",
      "Pacman emerges victorious! Score: 989\n",
      "Pacman emerges victorious! Score: 987\n",
      "Pacman emerges victorious! Score: 989\n",
      "Pacman emerges victorious! Score: 987\n",
      "Pacman emerges victorious! Score: 989\n",
      "Pacman emerges victorious! Score: 987\n",
      "Pacman emerges victorious! Score: 989\n",
      "Pacman emerges victorious! Score: 987\n",
      "Pacman emerges victorious! Score: 987\n",
      "Pacman emerges victorious! Score: 989\n",
      "Pacman emerges victorious! Score: 987\n",
      "Pacman emerges victorious! Score: 989\n",
      "Pacman emerges victorious! Score: 987\n",
      "Pacman emerges victorious! Score: 989\n",
      "Pacman emerges victorious! Score: 989\n",
      "Pacman emerges victorious! Score: 989\n",
      "Pacman emerges victorious! Score: 987\n",
      "Pacman emerges victorious! Score: 987\n",
      "Pacman emerges victorious! Score: 987\n",
      "Pacman emerges victorious! Score: 989\n",
      "Pacman emerges victorious! Score: 989\n",
      "Pacman emerges victorious! Score: 987\n",
      "Pacman emerges victorious! Score: 987\n",
      "Pacman emerges victorious! Score: 989\n",
      "Pacman emerges victorious! Score: 987\n",
      "Pacman emerges victorious! Score: 989\n",
      "Pacman emerges victorious! Score: 987\n",
      "Pacman emerges victorious! Score: 989\n",
      "Pacman emerges victorious! Score: 987\n",
      "Pacman emerges victorious! Score: 987\n",
      "Pacman emerges victorious! Score: 982\n",
      "Pacman emerges victorious! Score: 987\n",
      "Pacman emerges victorious! Score: 989\n",
      "Pacman emerges victorious! Score: 987\n",
      "Pacman emerges victorious! Score: 987\n",
      "Pacman emerges victorious! Score: 987\n",
      "Pacman emerges victorious! Score: 987\n",
      "Pacman emerges victorious! Score: 989\n",
      "Pacman emerges victorious! Score: 987\n",
      "Pacman emerges victorious! Score: 987\n",
      "Pacman emerges victorious! Score: 989\n",
      "Pacman emerges victorious! Score: 989\n",
      "Pacman emerges victorious! Score: 989\n",
      "Pacman emerges victorious! Score: 987\n",
      "Pacman emerges victorious! Score: 989\n",
      "Pacman emerges victorious! Score: 989\n",
      "Pacman emerges victorious! Score: 989\n",
      "Pacman emerges victorious! Score: 987\n",
      "Pacman emerges victorious! Score: 989\n",
      "Pacman emerges victorious! Score: 987\n",
      "Pacman emerges victorious! Score: 987\n",
      "Pacman emerges victorious! Score: 989\n",
      "Pacman emerges victorious! Score: 987\n",
      "Pacman emerges victorious! Score: 989\n",
      "Pacman emerges victorious! Score: 989\n",
      "Pacman emerges victorious! Score: 987\n",
      "Pacman emerges victorious! Score: 987\n",
      "Pacman emerges victorious! Score: 989\n"
     ]
    },
    {
     "name": "stderr",
     "output_type": "stream",
     "text": [
      "Agent 0 ran out of time! (time: 1.00)\n"
     ]
    },
    {
     "name": "stdout",
     "output_type": "stream",
     "text": [
      "Pacman crashed\n",
      "Pacman emerges victorious! Score: 989\n",
      "Pacman emerges victorious! Score: 989\n",
      "Pacman emerges victorious! Score: 989\n",
      "Pacman emerges victorious! Score: 987\n",
      "Pacman emerges victorious! Score: 987\n",
      "Pacman emerges victorious! Score: 989\n",
      "Pacman emerges victorious! Score: 987\n",
      "Pacman emerges victorious! Score: 987\n",
      "Pacman emerges victorious! Score: 989\n",
      "Pacman emerges victorious! Score: 987\n",
      "Pacman emerges victorious! Score: 987\n",
      "Pacman emerges victorious! Score: 989\n",
      "Pacman emerges victorious! Score: 987\n",
      "Pacman emerges victorious! Score: 989\n",
      "Pacman emerges victorious! Score: 987\n",
      "Pacman emerges victorious! Score: 987\n",
      "Pacman emerges victorious! Score: 987\n",
      "Pacman emerges victorious! Score: 989\n",
      "Pacman emerges victorious! Score: 989\n",
      "Pacman emerges victorious! Score: 987\n",
      "Pacman emerges victorious! Score: 989\n",
      "Pacman emerges victorious! Score: 989\n",
      "Pacman emerges victorious! Score: 989\n",
      "Pacman emerges victorious! Score: 987\n",
      "Pacman emerges victorious! Score: 989\n",
      "Pacman emerges victorious! Score: 989\n",
      "Pacman emerges victorious! Score: 989\n",
      "Pacman emerges victorious! Score: 987\n",
      "Pacman emerges victorious! Score: 987\n",
      "Pacman emerges victorious! Score: 989\n",
      "Pacman emerges victorious! Score: 989\n",
      "Pacman emerges victorious! Score: 987\n",
      "Pacman emerges victorious! Score: 987\n",
      "Pacman emerges victorious! Score: 989\n",
      "Pacman emerges victorious! Score: 987\n",
      "Pacman emerges victorious! Score: 987\n",
      "Pacman emerges victorious! Score: 987\n",
      "Pacman emerges victorious! Score: 989\n",
      "Pacman emerges victorious! Score: 989\n",
      "Pacman emerges victorious! Score: 989\n",
      "Pacman emerges victorious! Score: 984\n",
      "Pacman emerges victorious! Score: 989\n",
      "Pacman emerges victorious! Score: 987\n",
      "Pacman emerges victorious! Score: 989\n",
      "Pacman emerges victorious! Score: 989\n",
      "Pacman emerges victorious! Score: 989\n",
      "Pacman emerges victorious! Score: 989\n",
      "Pacman emerges victorious! Score: 989\n"
     ]
    },
    {
     "name": "stderr",
     "output_type": "stream",
     "text": [
      "Agent 0 ran out of time! (time: 1.00)\n"
     ]
    },
    {
     "name": "stdout",
     "output_type": "stream",
     "text": [
      "Pacman crashed\n",
      "Pacman emerges victorious! Score: 989\n",
      "Pacman emerges victorious! Score: 989\n",
      "Pacman emerges victorious! Score: 989\n",
      "Pacman emerges victorious! Score: 987\n",
      "Pacman emerges victorious! Score: 987\n",
      "Pacman emerges victorious! Score: 989\n",
      "Pacman emerges victorious! Score: 989\n",
      "Pacman emerges victorious! Score: 987\n",
      "Pacman emerges victorious! Score: 989\n",
      "Pacman emerges victorious! Score: 989\n"
     ]
    },
    {
     "name": "stderr",
     "output_type": "stream",
     "text": [
      "Agent 0 ran out of time! (time: 1.00)\n"
     ]
    },
    {
     "name": "stdout",
     "output_type": "stream",
     "text": [
      "Pacman crashed\n",
      "Pacman emerges victorious! Score: 989\n",
      "Pacman emerges victorious! Score: 989\n",
      "Pacman emerges victorious! Score: 987\n",
      "Pacman emerges victorious! Score: 987\n",
      "Pacman emerges victorious! Score: 989\n",
      "Pacman emerges victorious! Score: 987\n",
      "Pacman emerges victorious! Score: 987\n",
      "Pacman emerges victorious! Score: 987\n",
      "Pacman emerges victorious! Score: 987\n"
     ]
    },
    {
     "name": "stderr",
     "output_type": "stream",
     "text": [
      "Agent 0 ran out of time! (time: 1.00)\n"
     ]
    },
    {
     "name": "stdout",
     "output_type": "stream",
     "text": [
      "Pacman crashed\n",
      "Pacman emerges victorious! Score: 987\n",
      "Pacman emerges victorious! Score: 989\n",
      "Pacman emerges victorious! Score: 989\n",
      "Pacman emerges victorious! Score: 987\n",
      "Pacman emerges victorious! Score: 989\n",
      "Pacman emerges victorious! Score: 987\n",
      "Pacman emerges victorious! Score: 987\n",
      "Pacman emerges victorious! Score: 987\n",
      "Pacman emerges victorious! Score: 989\n",
      "Pacman emerges victorious! Score: 987\n",
      "Pacman emerges victorious! Score: 987\n",
      "Pacman emerges victorious! Score: 987\n",
      "Pacman emerges victorious! Score: 987\n",
      "Pacman emerges victorious! Score: 987\n",
      "Pacman emerges victorious! Score: 989\n",
      "Pacman emerges victorious! Score: 987\n",
      "Pacman emerges victorious! Score: 989\n",
      "Pacman emerges victorious! Score: 989\n",
      "Pacman emerges victorious! Score: 989\n",
      "Pacman emerges victorious! Score: 987\n",
      "Pacman emerges victorious! Score: 989\n",
      "Pacman emerges victorious! Score: 989\n",
      "Pacman emerges victorious! Score: 987\n",
      "Pacman emerges victorious! Score: 989\n",
      "Pacman emerges victorious! Score: 989\n",
      "Pacman emerges victorious! Score: 989\n",
      "Pacman emerges victorious! Score: 989\n",
      "Pacman emerges victorious! Score: 987\n",
      "Pacman emerges victorious! Score: 987\n",
      "Pacman emerges victorious! Score: 987\n",
      "Pacman emerges victorious! Score: 987\n",
      "Pacman emerges victorious! Score: 989\n"
     ]
    },
    {
     "name": "stderr",
     "output_type": "stream",
     "text": [
      "Agent 0 ran out of time! (time: 1.00)\n"
     ]
    },
    {
     "name": "stdout",
     "output_type": "stream",
     "text": [
      "Pacman crashed\n",
      "Pacman emerges victorious! Score: 989\n",
      "Pacman emerges victorious! Score: 989\n",
      "Pacman emerges victorious! Score: 987\n",
      "Pacman emerges victorious! Score: 987\n",
      "Pacman emerges victorious! Score: 987\n",
      "Pacman emerges victorious! Score: 987\n",
      "Pacman emerges victorious! Score: 987\n",
      "Pacman emerges victorious! Score: 989\n",
      "Pacman emerges victorious! Score: 987\n",
      "Pacman emerges victorious! Score: 989\n",
      "Pacman emerges victorious! Score: 989\n",
      "Pacman emerges victorious! Score: 989\n",
      "Pacman emerges victorious! Score: 987\n",
      "Pacman emerges victorious! Score: 987\n",
      "Pacman emerges victorious! Score: 987\n",
      "Pacman emerges victorious! Score: 989\n",
      "Pacman emerges victorious! Score: 989\n",
      "Pacman emerges victorious! Score: 987\n"
     ]
    },
    {
     "name": "stderr",
     "output_type": "stream",
     "text": [
      "Agent 0 ran out of time! (time: 1.00)\n"
     ]
    },
    {
     "name": "stdout",
     "output_type": "stream",
     "text": [
      "Pacman crashed\n",
      "Pacman emerges victorious! Score: 987\n",
      "Pacman emerges victorious! Score: 989\n",
      "Pacman emerges victorious! Score: 987\n",
      "Pacman emerges victorious! Score: 989\n",
      "Pacman emerges victorious! Score: 989\n",
      "Pacman emerges victorious! Score: 989\n",
      "Pacman emerges victorious! Score: 987\n",
      "Pacman emerges victorious! Score: 987\n",
      "Pacman emerges victorious! Score: 987\n",
      "Pacman emerges victorious! Score: 987\n",
      "Pacman emerges victorious! Score: 989\n",
      "Pacman emerges victorious! Score: 987\n",
      "Pacman emerges victorious! Score: 987\n",
      "Pacman emerges victorious! Score: 987\n",
      "Pacman emerges victorious! Score: 989\n",
      "Pacman emerges victorious! Score: 989\n",
      "Pacman emerges victorious! Score: 987\n",
      "Pacman emerges victorious! Score: 987\n",
      "Pacman emerges victorious! Score: 987\n"
     ]
    },
    {
     "name": "stderr",
     "output_type": "stream",
     "text": [
      "Agent 0 ran out of time! (time: 1.00)\n"
     ]
    },
    {
     "name": "stdout",
     "output_type": "stream",
     "text": [
      "Pacman crashed\n",
      "Pacman emerges victorious! Score: 987\n",
      "Pacman emerges victorious! Score: 989\n",
      "Pacman emerges victorious! Score: 989\n",
      "Pacman emerges victorious! Score: 989\n",
      "Pacman emerges victorious! Score: 989\n",
      "Pacman emerges victorious! Score: 989\n",
      "Pacman emerges victorious! Score: 989\n",
      "Pacman emerges victorious! Score: 989\n",
      "Pacman emerges victorious! Score: 989\n",
      "Pacman emerges victorious! Score: 987\n",
      "Pacman emerges victorious! Score: 987\n",
      "Pacman emerges victorious! Score: 989\n",
      "Pacman emerges victorious! Score: 987\n",
      "Pacman emerges victorious! Score: 989\n",
      "Pacman emerges victorious! Score: 989\n",
      "Pacman emerges victorious! Score: 989\n",
      "Pacman emerges victorious! Score: 989\n",
      "Pacman emerges victorious! Score: 982\n",
      "Pacman emerges victorious! Score: 987\n",
      "Pacman emerges victorious! Score: 989\n",
      "Pacman emerges victorious! Score: 987\n",
      "Pacman emerges victorious! Score: 989\n",
      "Pacman emerges victorious! Score: 982\n",
      "Pacman emerges victorious! Score: 989\n"
     ]
    },
    {
     "name": "stderr",
     "output_type": "stream",
     "text": [
      "Agent 0 ran out of time! (time: 1.00)\n"
     ]
    },
    {
     "name": "stdout",
     "output_type": "stream",
     "text": [
      "Pacman crashed\n"
     ]
    },
    {
     "name": "stderr",
     "output_type": "stream",
     "text": [
      "Agent 0 ran out of time! (time: 1.00)\n"
     ]
    },
    {
     "name": "stdout",
     "output_type": "stream",
     "text": [
      "Pacman crashed\n",
      "Pacman emerges victorious! Score: 989\n",
      "Pacman emerges victorious! Score: 987\n",
      "Pacman emerges victorious! Score: 989\n",
      "Pacman emerges victorious! Score: 987\n",
      "Pacman emerges victorious! Score: 987\n"
     ]
    },
    {
     "name": "stderr",
     "output_type": "stream",
     "text": [
      "Agent 0 ran out of time! (time: 1.00)\n"
     ]
    },
    {
     "name": "stdout",
     "output_type": "stream",
     "text": [
      "Pacman crashed\n",
      "Pacman emerges victorious! Score: 987\n",
      "Pacman emerges victorious! Score: 987\n",
      "Pacman emerges victorious! Score: 989\n",
      "Pacman emerges victorious! Score: 989\n",
      "Pacman emerges victorious! Score: 989\n",
      "Pacman emerges victorious! Score: 987\n",
      "Pacman emerges victorious! Score: 987\n",
      "Pacman emerges victorious! Score: 987\n",
      "Pacman emerges victorious! Score: 987\n",
      "Pacman emerges victorious! Score: 987\n",
      "Pacman emerges victorious! Score: 987\n",
      "Pacman emerges victorious! Score: 989\n"
     ]
    },
    {
     "name": "stderr",
     "output_type": "stream",
     "text": [
      "Agent 0 ran out of time! (time: 1.00)\n"
     ]
    },
    {
     "name": "stdout",
     "output_type": "stream",
     "text": [
      "Pacman crashed\n",
      "Pacman emerges victorious! Score: 987\n",
      "Pacman emerges victorious! Score: 989\n",
      "Pacman emerges victorious! Score: 987\n",
      "Pacman emerges victorious! Score: 987\n",
      "Pacman emerges victorious! Score: 987\n",
      "Pacman emerges victorious! Score: 987\n",
      "Pacman emerges victorious! Score: 987\n",
      "Pacman emerges victorious! Score: 989\n",
      "Pacman emerges victorious! Score: 987\n",
      "Pacman emerges victorious! Score: 987\n",
      "Pacman emerges victorious! Score: 987\n",
      "Pacman emerges victorious! Score: 987\n",
      "Pacman emerges victorious! Score: 989\n"
     ]
    },
    {
     "name": "stderr",
     "output_type": "stream",
     "text": [
      "Agent 0 ran out of time! (time: 1.00)\n"
     ]
    },
    {
     "name": "stdout",
     "output_type": "stream",
     "text": [
      "Pacman crashed\n",
      "Pacman emerges victorious! Score: 987\n",
      "Pacman emerges victorious! Score: 987\n",
      "Pacman emerges victorious! Score: 982\n",
      "Pacman emerges victorious! Score: 989\n",
      "Pacman emerges victorious! Score: 989\n",
      "Pacman emerges victorious! Score: 989\n",
      "Pacman emerges victorious! Score: 987\n",
      "Pacman emerges victorious! Score: 989\n",
      "Pacman emerges victorious! Score: 987\n",
      "Pacman emerges victorious! Score: 987\n",
      "Pacman emerges victorious! Score: 987\n",
      "Pacman emerges victorious! Score: 989\n",
      "Pacman emerges victorious! Score: 987\n",
      "Pacman emerges victorious! Score: 989\n",
      "Pacman emerges victorious! Score: 989\n",
      "Pacman emerges victorious! Score: 989\n",
      "Pacman emerges victorious! Score: 987\n",
      "Pacman emerges victorious! Score: 987\n",
      "Pacman emerges victorious! Score: 989\n",
      "Pacman emerges victorious! Score: 989\n",
      "Pacman emerges victorious! Score: 987\n"
     ]
    },
    {
     "name": "stderr",
     "output_type": "stream",
     "text": [
      "Agent 0 ran out of time! (time: 1.00)\n"
     ]
    },
    {
     "name": "stdout",
     "output_type": "stream",
     "text": [
      "Pacman crashed\n",
      "Pacman emerges victorious! Score: 982\n"
     ]
    },
    {
     "name": "stderr",
     "output_type": "stream",
     "text": [
      "Agent 0 ran out of time! (time: 1.00)\n"
     ]
    },
    {
     "name": "stdout",
     "output_type": "stream",
     "text": [
      "Pacman crashed\n",
      "Pacman emerges victorious! Score: 987\n",
      "Pacman emerges victorious! Score: 987\n",
      "Pacman emerges victorious! Score: 989\n",
      "Pacman emerges victorious! Score: 987\n",
      "Pacman emerges victorious! Score: 989\n",
      "Pacman emerges victorious! Score: 989\n",
      "Pacman emerges victorious! Score: 987\n",
      "Pacman emerges victorious! Score: 989\n",
      "Pacman emerges victorious! Score: 989\n",
      "Pacman emerges victorious! Score: 989\n",
      "Pacman emerges victorious! Score: 987\n",
      "Pacman emerges victorious! Score: 989\n",
      "Pacman emerges victorious! Score: 987\n",
      "Pacman emerges victorious! Score: 987\n",
      "Pacman emerges victorious! Score: 989\n",
      "Pacman emerges victorious! Score: 989\n",
      "Pacman emerges victorious! Score: 989\n",
      "Pacman emerges victorious! Score: 989\n",
      "Pacman emerges victorious! Score: 982\n",
      "Pacman emerges victorious! Score: 987\n",
      "Pacman emerges victorious! Score: 989\n",
      "Pacman emerges victorious! Score: 987\n",
      "Pacman emerges victorious! Score: 989\n",
      "Pacman emerges victorious! Score: 987\n",
      "Pacman emerges victorious! Score: 984\n",
      "Pacman emerges victorious! Score: 989\n",
      "Pacman emerges victorious! Score: 989\n",
      "Pacman emerges victorious! Score: 987\n",
      "Pacman emerges victorious! Score: 987\n",
      "Pacman emerges victorious! Score: 987\n"
     ]
    },
    {
     "name": "stderr",
     "output_type": "stream",
     "text": [
      "Agent 0 ran out of time! (time: 1.00)\n"
     ]
    },
    {
     "name": "stdout",
     "output_type": "stream",
     "text": [
      "Pacman crashed\n",
      "Pacman emerges victorious! Score: 987\n",
      "Pacman emerges victorious! Score: 989\n",
      "Pacman emerges victorious! Score: 989\n",
      "Pacman emerges victorious! Score: 989\n",
      "Pacman emerges victorious! Score: 987\n",
      "Pacman emerges victorious! Score: 989\n",
      "Pacman emerges victorious! Score: 989\n",
      "Pacman emerges victorious! Score: 987\n",
      "Pacman emerges victorious! Score: 989\n",
      "Pacman emerges victorious! Score: 987\n",
      "Pacman emerges victorious! Score: 989\n",
      "Pacman emerges victorious! Score: 989\n",
      "Pacman emerges victorious! Score: 987\n",
      "Pacman emerges victorious! Score: 989\n"
     ]
    },
    {
     "name": "stderr",
     "output_type": "stream",
     "text": [
      "Agent 0 ran out of time! (time: 1.00)\n"
     ]
    },
    {
     "name": "stdout",
     "output_type": "stream",
     "text": [
      "Pacman crashed\n"
     ]
    },
    {
     "name": "stderr",
     "output_type": "stream",
     "text": [
      "Agent 0 ran out of time! (time: 1.00)\n"
     ]
    },
    {
     "name": "stdout",
     "output_type": "stream",
     "text": [
      "Pacman emerges victorious! Score: 989\n",
      "Pacman crashed\n",
      "Pacman emerges victorious! Score: 989\n",
      "Pacman emerges victorious! Score: 989\n",
      "Pacman emerges victorious! Score: 989\n",
      "Pacman emerges victorious! Score: 987\n",
      "Pacman emerges victorious! Score: 987\n",
      "Pacman emerges victorious! Score: 989\n",
      "Pacman emerges victorious! Score: 989\n",
      "Pacman emerges victorious! Score: 989\n",
      "Pacman emerges victorious! Score: 989\n",
      "Pacman emerges victorious! Score: 989\n",
      "Pacman emerges victorious! Score: 987\n",
      "Pacman emerges victorious! Score: 989\n",
      "Pacman emerges victorious! Score: 987\n",
      "Pacman emerges victorious! Score: 987\n",
      "Pacman emerges victorious! Score: 987\n",
      "Pacman emerges victorious! Score: 989\n",
      "Pacman emerges victorious! Score: 989\n",
      "Pacman emerges victorious! Score: 987\n",
      "Pacman emerges victorious! Score: 989\n",
      "Pacman emerges victorious! Score: 987\n",
      "Pacman emerges victorious! Score: 989\n",
      "Pacman emerges victorious! Score: 987\n",
      "Pacman emerges victorious! Score: 989\n",
      "Pacman emerges victorious! Score: 989\n",
      "Pacman emerges victorious! Score: 987\n",
      "Pacman emerges victorious! Score: 987\n",
      "Pacman emerges victorious! Score: 987\n",
      "Pacman emerges victorious! Score: 989\n",
      "Pacman emerges victorious! Score: 987\n",
      "Pacman emerges victorious! Score: 987\n",
      "Pacman emerges victorious! Score: 987\n",
      "Pacman emerges victorious! Score: 989\n",
      "Pacman emerges victorious! Score: 987\n",
      "Pacman emerges victorious! Score: 989\n",
      "Pacman emerges victorious! Score: 987\n",
      "Pacman emerges victorious! Score: 989\n",
      "Pacman emerges victorious! Score: 987\n",
      "Pacman emerges victorious! Score: 989\n",
      "Pacman emerges victorious! Score: 987\n",
      "Pacman emerges victorious! Score: 987\n",
      "Pacman emerges victorious! Score: 987\n",
      "Pacman emerges victorious! Score: 987\n",
      "Pacman emerges victorious! Score: 987\n",
      "Pacman emerges victorious! Score: 987\n"
     ]
    },
    {
     "name": "stderr",
     "output_type": "stream",
     "text": [
      "Agent 0 ran out of time! (time: 1.00)\n"
     ]
    },
    {
     "name": "stdout",
     "output_type": "stream",
     "text": [
      "Pacman crashed\n",
      "Pacman emerges victorious! Score: 989\n",
      "Pacman emerges victorious! Score: 989\n",
      "Pacman emerges victorious! Score: 989\n",
      "Pacman emerges victorious! Score: 987\n",
      "Pacman emerges victorious! Score: 989\n",
      "Pacman emerges victorious! Score: 987\n",
      "Pacman emerges victorious! Score: 989\n",
      "Pacman emerges victorious! Score: 989\n",
      "Pacman emerges victorious! Score: 989\n",
      "Pacman emerges victorious! Score: 989\n",
      "Pacman emerges victorious! Score: 987\n",
      "Pacman emerges victorious! Score: 987\n",
      "Pacman emerges victorious! Score: 987\n",
      "Pacman emerges victorious! Score: 989\n",
      "Pacman emerges victorious! Score: 987\n",
      "Pacman emerges victorious! Score: 987\n",
      "Pacman emerges victorious! Score: 989\n",
      "Pacman emerges victorious! Score: 987\n",
      "Pacman emerges victorious! Score: 987\n",
      "Pacman emerges victorious! Score: 989\n",
      "Pacman emerges victorious! Score: 987\n",
      "Pacman emerges victorious! Score: 987\n",
      "Pacman emerges victorious! Score: 989\n",
      "Pacman emerges victorious! Score: 987\n",
      "Pacman emerges victorious! Score: 987\n",
      "Pacman emerges victorious! Score: 989\n",
      "Pacman emerges victorious! Score: 989\n",
      "Pacman emerges victorious! Score: 987\n",
      "Pacman emerges victorious! Score: 987\n",
      "Pacman emerges victorious! Score: 987\n",
      "Pacman emerges victorious! Score: 989\n",
      "Pacman emerges victorious! Score: 989\n",
      "Pacman emerges victorious! Score: 989\n",
      "Pacman emerges victorious! Score: 989\n",
      "Pacman emerges victorious! Score: 987\n",
      "Pacman emerges victorious! Score: 987\n",
      "Pacman emerges victorious! Score: 989\n",
      "Pacman emerges victorious! Score: 989\n",
      "Pacman emerges victorious! Score: 989\n",
      "Pacman emerges victorious! Score: 989\n",
      "Pacman emerges victorious! Score: 987\n",
      "Pacman emerges victorious! Score: 989\n",
      "Pacman emerges victorious! Score: 987\n"
     ]
    },
    {
     "name": "stderr",
     "output_type": "stream",
     "text": [
      "Agent 0 ran out of time! (time: 1.00)\n"
     ]
    },
    {
     "name": "stdout",
     "output_type": "stream",
     "text": [
      "Pacman crashed\n",
      "Pacman emerges victorious! Score: 987\n",
      "Pacman emerges victorious! Score: 987\n",
      "Pacman emerges victorious! Score: 989\n",
      "Pacman emerges victorious! Score: 987\n",
      "Pacman emerges victorious! Score: 987\n",
      "Pacman emerges victorious! Score: 989\n",
      "Pacman emerges victorious! Score: 989\n",
      "Pacman emerges victorious! Score: 987\n",
      "Pacman emerges victorious! Score: 987\n",
      "Pacman emerges victorious! Score: 989\n",
      "Pacman emerges victorious! Score: 987\n",
      "Pacman emerges victorious! Score: 987\n",
      "Pacman emerges victorious! Score: 987\n",
      "Pacman emerges victorious! Score: 989\n",
      "Pacman emerges victorious! Score: 989\n",
      "Pacman emerges victorious! Score: 987\n",
      "Pacman emerges victorious! Score: 987\n",
      "Pacman emerges victorious! Score: 987\n",
      "Pacman emerges victorious! Score: 987\n"
     ]
    },
    {
     "name": "stderr",
     "output_type": "stream",
     "text": [
      "Agent 0 ran out of time! (time: 1.00)\n"
     ]
    },
    {
     "name": "stdout",
     "output_type": "stream",
     "text": [
      "Pacman crashed\n",
      "Pacman emerges victorious! Score: 989\n",
      "Pacman emerges victorious! Score: 989\n",
      "Pacman emerges victorious! Score: 987\n",
      "Pacman emerges victorious! Score: 987\n",
      "Pacman emerges victorious! Score: 989\n",
      "Pacman emerges victorious! Score: 989\n",
      "Pacman emerges victorious! Score: 987\n",
      "Pacman emerges victorious! Score: 987\n",
      "Pacman emerges victorious! Score: 989\n",
      "Pacman emerges victorious! Score: 989\n",
      "Pacman emerges victorious! Score: 989\n"
     ]
    },
    {
     "name": "stderr",
     "output_type": "stream",
     "text": [
      "Agent 0 ran out of time! (time: 1.00)\n"
     ]
    },
    {
     "name": "stdout",
     "output_type": "stream",
     "text": [
      "Pacman crashed\n",
      "Pacman emerges victorious! Score: 989\n",
      "Pacman emerges victorious! Score: 987\n",
      "Pacman emerges victorious! Score: 987\n",
      "Pacman emerges victorious! Score: 989\n",
      "Pacman emerges victorious! Score: 987\n"
     ]
    },
    {
     "name": "stderr",
     "output_type": "stream",
     "text": [
      "Agent 0 ran out of time! (time: 1.00)\n"
     ]
    },
    {
     "name": "stdout",
     "output_type": "stream",
     "text": [
      "Pacman crashed\n",
      "Pacman emerges victorious! Score: 987\n",
      "Pacman emerges victorious! Score: 989\n",
      "Pacman emerges victorious! Score: 987\n",
      "Pacman emerges victorious! Score: 989\n",
      "Pacman emerges victorious! Score: 987\n",
      "Pacman emerges victorious! Score: 989\n",
      "Pacman emerges victorious! Score: 987\n",
      "Pacman emerges victorious! Score: 982\n",
      "Pacman emerges victorious! Score: 989\n",
      "Pacman emerges victorious! Score: 987\n",
      "Pacman emerges victorious! Score: 987\n",
      "Pacman emerges victorious! Score: 989\n",
      "Pacman emerges victorious! Score: 987\n",
      "Pacman emerges victorious! Score: 989\n",
      "Pacman emerges victorious! Score: 987\n",
      "Pacman emerges victorious! Score: 989\n",
      "Pacman emerges victorious! Score: 987\n",
      "Pacman emerges victorious! Score: 987\n",
      "Pacman emerges victorious! Score: 989\n",
      "Pacman emerges victorious! Score: 987\n",
      "Pacman emerges victorious! Score: 989\n",
      "Pacman emerges victorious! Score: 989\n",
      "Pacman emerges victorious! Score: 989\n",
      "Pacman emerges victorious! Score: 989\n",
      "Pacman emerges victorious! Score: 989\n",
      "Pacman emerges victorious! Score: 987\n",
      "Pacman emerges victorious! Score: 989\n"
     ]
    },
    {
     "name": "stderr",
     "output_type": "stream",
     "text": [
      "Agent 0 ran out of time! (time: 1.00)\n"
     ]
    },
    {
     "name": "stdout",
     "output_type": "stream",
     "text": [
      "Pacman crashed\n",
      "Pacman emerges victorious! Score: 989\n",
      "Pacman emerges victorious! Score: 987\n",
      "Pacman emerges victorious! Score: 989\n",
      "Pacman emerges victorious! Score: 987\n",
      "Pacman emerges victorious! Score: 989\n",
      "Pacman emerges victorious! Score: 987\n",
      "Pacman emerges victorious! Score: 987\n",
      "Pacman emerges victorious! Score: 982\n",
      "Pacman emerges victorious! Score: 989\n",
      "Pacman emerges victorious! Score: 987\n",
      "Pacman emerges victorious! Score: 987\n"
     ]
    },
    {
     "name": "stderr",
     "output_type": "stream",
     "text": [
      "Agent 0 ran out of time! (time: 1.00)\n"
     ]
    },
    {
     "name": "stdout",
     "output_type": "stream",
     "text": [
      "Pacman crashed\n",
      "Pacman emerges victorious! Score: 987\n",
      "Pacman emerges victorious! Score: 989\n",
      "Pacman emerges victorious! Score: 987\n",
      "Pacman emerges victorious! Score: 987\n",
      "Pacman emerges victorious! Score: 987\n",
      "Pacman emerges victorious! Score: 989\n",
      "Pacman emerges victorious! Score: 987\n",
      "Pacman emerges victorious! Score: 989\n",
      "Pacman emerges victorious! Score: 987\n",
      "Pacman emerges victorious! Score: 989\n",
      "Pacman emerges victorious! Score: 987\n",
      "Pacman emerges victorious! Score: 989\n",
      "Pacman emerges victorious! Score: 987\n",
      "Pacman emerges victorious! Score: 987\n",
      "Pacman emerges victorious! Score: 987\n",
      "Pacman emerges victorious! Score: 989\n",
      "Pacman emerges victorious! Score: 989\n",
      "Pacman emerges victorious! Score: 987\n",
      "Pacman emerges victorious! Score: 989\n",
      "Pacman emerges victorious! Score: 989\n",
      "Pacman emerges victorious! Score: 987\n",
      "Pacman emerges victorious! Score: 987\n",
      "Pacman emerges victorious! Score: 989\n",
      "Pacman emerges victorious! Score: 989\n",
      "Pacman emerges victorious! Score: 989\n",
      "Pacman emerges victorious! Score: 987\n",
      "Pacman emerges victorious! Score: 987\n",
      "Pacman emerges victorious! Score: 989\n",
      "Pacman emerges victorious! Score: 987\n",
      "Pacman emerges victorious! Score: 987\n",
      "Pacman emerges victorious! Score: 989\n",
      "Pacman emerges victorious! Score: 987\n",
      "Pacman emerges victorious! Score: 989\n",
      "Pacman emerges victorious! Score: 987\n",
      "Pacman emerges victorious! Score: 987\n",
      "Pacman emerges victorious! Score: 989\n",
      "Pacman emerges victorious! Score: 989\n",
      "Pacman emerges victorious! Score: 987\n"
     ]
    },
    {
     "name": "stderr",
     "output_type": "stream",
     "text": [
      "Agent 0 ran out of time! (time: 1.00)\n"
     ]
    },
    {
     "name": "stdout",
     "output_type": "stream",
     "text": [
      "Pacman crashed\n",
      "Pacman emerges victorious! Score: 987\n",
      "Pacman emerges victorious! Score: 989\n"
     ]
    },
    {
     "name": "stderr",
     "output_type": "stream",
     "text": [
      "Agent 0 ran out of time! (time: 1.00)\n"
     ]
    },
    {
     "name": "stdout",
     "output_type": "stream",
     "text": [
      "Pacman crashed\n",
      "Pacman emerges victorious! Score: 987\n",
      "Pacman emerges victorious! Score: 987\n",
      "Pacman emerges victorious! Score: 989\n",
      "Pacman emerges victorious! Score: 989\n",
      "Pacman emerges victorious! Score: 987\n",
      "Pacman emerges victorious! Score: 987\n",
      "Pacman emerges victorious! Score: 989\n",
      "Pacman emerges victorious! Score: 989\n",
      "Pacman emerges victorious! Score: 987\n",
      "Pacman emerges victorious! Score: 989\n",
      "Pacman emerges victorious! Score: 987\n",
      "Pacman emerges victorious! Score: 987\n"
     ]
    },
    {
     "name": "stderr",
     "output_type": "stream",
     "text": [
      "Agent 0 ran out of time! (time: 1.00)\n"
     ]
    },
    {
     "name": "stdout",
     "output_type": "stream",
     "text": [
      "Pacman crashed\n",
      "Pacman emerges victorious! Score: 987\n",
      "Pacman emerges victorious! Score: 987\n",
      "Pacman emerges victorious! Score: 987\n",
      "Pacman emerges victorious! Score: 989\n"
     ]
    },
    {
     "name": "stderr",
     "output_type": "stream",
     "text": [
      "Agent 0 ran out of time! (time: 1.00)\n"
     ]
    },
    {
     "name": "stdout",
     "output_type": "stream",
     "text": [
      "Pacman crashed\n",
      "Pacman emerges victorious! Score: 989\n",
      "Pacman emerges victorious! Score: 987\n",
      "Pacman emerges victorious! Score: 989\n",
      "Pacman emerges victorious! Score: 987\n",
      "Pacman emerges victorious! Score: 987\n",
      "Pacman emerges victorious! Score: 987\n",
      "Pacman emerges victorious! Score: 989\n",
      "Pacman emerges victorious! Score: 987\n",
      "Pacman emerges victorious! Score: 989\n",
      "Pacman emerges victorious! Score: 987\n",
      "Pacman emerges victorious! Score: 989\n",
      "Pacman emerges victorious! Score: 989\n",
      "Pacman emerges victorious! Score: 987\n",
      "Pacman emerges victorious! Score: 987\n",
      "Pacman emerges victorious! Score: 987\n",
      "Pacman emerges victorious! Score: 987\n",
      "Pacman emerges victorious! Score: 987\n",
      "Pacman emerges victorious! Score: 989\n",
      "Pacman emerges victorious! Score: 989\n",
      "Pacman emerges victorious! Score: 987\n",
      "Pacman emerges victorious! Score: 989\n",
      "Pacman emerges victorious! Score: 987\n",
      "Pacman emerges victorious! Score: 989\n",
      "Pacman emerges victorious! Score: 989\n",
      "Pacman emerges victorious! Score: 989\n",
      "Pacman emerges victorious! Score: 989\n",
      "Pacman emerges victorious! Score: 987\n",
      "Pacman emerges victorious! Score: 989\n",
      "Pacman emerges victorious! Score: 987\n",
      "Pacman emerges victorious! Score: 989\n",
      "Pacman emerges victorious! Score: 987\n",
      "Pacman emerges victorious! Score: 987\n",
      "Pacman emerges victorious! Score: 987\n",
      "Pacman emerges victorious! Score: 987\n",
      "Pacman emerges victorious! Score: 987\n",
      "Pacman emerges victorious! Score: 989\n",
      "Pacman emerges victorious! Score: 987\n",
      "Pacman emerges victorious! Score: 989\n",
      "Pacman emerges victorious! Score: 987\n",
      "Pacman emerges victorious! Score: 989\n",
      "Pacman emerges victorious! Score: 989\n",
      "Pacman emerges victorious! Score: 987\n",
      "Pacman emerges victorious! Score: 989\n",
      "Pacman emerges victorious! Score: 989\n",
      "Pacman emerges victorious! Score: 989\n",
      "Pacman emerges victorious! Score: 987\n",
      "Pacman emerges victorious! Score: 987\n",
      "Pacman emerges victorious! Score: 989\n",
      "Pacman emerges victorious! Score: 989\n",
      "Pacman emerges victorious! Score: 989\n",
      "Pacman emerges victorious! Score: 987\n",
      "Pacman emerges victorious! Score: 989\n",
      "Pacman emerges victorious! Score: 989\n",
      "Pacman emerges victorious! Score: 987\n",
      "Pacman emerges victorious! Score: 989\n",
      "Pacman emerges victorious! Score: 989\n",
      "Pacman emerges victorious! Score: 989\n",
      "Pacman emerges victorious! Score: 987\n"
     ]
    },
    {
     "name": "stderr",
     "output_type": "stream",
     "text": [
      "Agent 0 ran out of time! (time: 1.00)\n"
     ]
    },
    {
     "name": "stdout",
     "output_type": "stream",
     "text": [
      "Pacman crashed\n",
      "Pacman emerges victorious! Score: 987\n",
      "Pacman emerges victorious! Score: 987\n",
      "Pacman emerges victorious! Score: 989\n",
      "Pacman emerges victorious! Score: 989\n",
      "Pacman emerges victorious! Score: 989\n",
      "Pacman emerges victorious! Score: 989\n",
      "Pacman emerges victorious! Score: 989\n",
      "Pacman emerges victorious! Score: 989\n",
      "Pacman emerges victorious! Score: 989\n",
      "Pacman emerges victorious! Score: 989\n"
     ]
    },
    {
     "name": "stderr",
     "output_type": "stream",
     "text": [
      "Agent 0 ran out of time! (time: 1.00)\n"
     ]
    },
    {
     "name": "stdout",
     "output_type": "stream",
     "text": [
      "Pacman crashed\n",
      "Pacman emerges victorious! Score: 987\n",
      "Pacman emerges victorious! Score: 987\n",
      "Pacman emerges victorious! Score: 989\n",
      "Pacman emerges victorious! Score: 987\n"
     ]
    },
    {
     "name": "stderr",
     "output_type": "stream",
     "text": [
      "Agent 0 ran out of time! (time: 1.00)\n"
     ]
    },
    {
     "name": "stdout",
     "output_type": "stream",
     "text": [
      "Pacman crashed\n",
      "Pacman emerges victorious! Score: 987\n",
      "Pacman emerges victorious! Score: 989\n",
      "Pacman emerges victorious! Score: 989\n",
      "Pacman emerges victorious! Score: 989\n",
      "Pacman emerges victorious! Score: 989\n",
      "Pacman emerges victorious! Score: 989\n",
      "Pacman emerges victorious! Score: 987\n",
      "Pacman emerges victorious! Score: 987\n",
      "Pacman emerges victorious! Score: 989\n",
      "Pacman emerges victorious! Score: 987\n",
      "Pacman emerges victorious! Score: 987\n",
      "Pacman emerges victorious! Score: 989\n",
      "Pacman emerges victorious! Score: 989\n",
      "Pacman emerges victorious! Score: 989\n",
      "Pacman emerges victorious! Score: 989\n",
      "Pacman emerges victorious! Score: 987\n",
      "Pacman emerges victorious! Score: 987\n",
      "Pacman emerges victorious! Score: 989\n"
     ]
    },
    {
     "name": "stderr",
     "output_type": "stream",
     "text": [
      "Agent 0 ran out of time! (time: 1.00)\n"
     ]
    },
    {
     "name": "stdout",
     "output_type": "stream",
     "text": [
      "Pacman crashed\n",
      "Pacman emerges victorious! Score: 987\n",
      "Pacman emerges victorious! Score: 989\n",
      "Pacman emerges victorious! Score: 987\n",
      "Pacman emerges victorious! Score: 989\n",
      "Pacman emerges victorious! Score: 987\n",
      "Pacman emerges victorious! Score: 989\n",
      "Pacman emerges victorious! Score: 989\n",
      "Pacman emerges victorious! Score: 987\n",
      "Pacman emerges victorious! Score: 987\n"
     ]
    },
    {
     "name": "stderr",
     "output_type": "stream",
     "text": [
      "Agent 0 ran out of time! (time: 1.00)\n"
     ]
    },
    {
     "name": "stdout",
     "output_type": "stream",
     "text": [
      "Pacman crashed\n",
      "Pacman emerges victorious! Score: 987\n",
      "Pacman emerges victorious! Score: 987\n",
      "Pacman emerges victorious! Score: 989\n",
      "Pacman emerges victorious! Score: 989\n",
      "Pacman emerges victorious! Score: 987\n",
      "Pacman emerges victorious! Score: 989\n",
      "Pacman emerges victorious! Score: 989\n",
      "Pacman emerges victorious! Score: 987\n",
      "Pacman emerges victorious! Score: 987\n",
      "Pacman emerges victorious! Score: 989\n",
      "Pacman emerges victorious! Score: 989\n",
      "Pacman emerges victorious! Score: 989\n",
      "Pacman emerges victorious! Score: 989\n",
      "Pacman emerges victorious! Score: 987\n",
      "Pacman emerges victorious! Score: 987\n",
      "Pacman emerges victorious! Score: 987\n",
      "Pacman emerges victorious! Score: 987\n",
      "Pacman emerges victorious! Score: 989\n",
      "Pacman emerges victorious! Score: 987\n",
      "Pacman emerges victorious! Score: 987\n",
      "Pacman emerges victorious! Score: 989\n",
      "Pacman emerges victorious! Score: 989\n",
      "Pacman emerges victorious! Score: 987\n",
      "Pacman emerges victorious! Score: 982\n",
      "Pacman emerges victorious! Score: 989\n",
      "Pacman emerges victorious! Score: 989\n",
      "Pacman emerges victorious! Score: 987\n",
      "Pacman emerges victorious! Score: 989\n",
      "Pacman emerges victorious! Score: 987\n",
      "Pacman emerges victorious! Score: 987\n",
      "Pacman emerges victorious! Score: 987\n",
      "Pacman emerges victorious! Score: 987\n",
      "Pacman emerges victorious! Score: 989\n",
      "Pacman emerges victorious! Score: 989\n",
      "Pacman emerges victorious! Score: 989\n",
      "Pacman emerges victorious! Score: 987\n",
      "Pacman emerges victorious! Score: 984\n",
      "Pacman emerges victorious! Score: 987\n",
      "Pacman emerges victorious! Score: 987\n",
      "Pacman emerges victorious! Score: 987\n",
      "Pacman emerges victorious! Score: 987\n",
      "Pacman emerges victorious! Score: 989\n",
      "Pacman emerges victorious! Score: 987\n",
      "Pacman emerges victorious! Score: 989\n",
      "Pacman emerges victorious! Score: 989\n",
      "Pacman emerges victorious! Score: 984\n",
      "Pacman emerges victorious! Score: 987\n",
      "Pacman emerges victorious! Score: 987\n",
      "Pacman emerges victorious! Score: 989\n",
      "Pacman emerges victorious! Score: 987\n",
      "Pacman emerges victorious! Score: 987\n",
      "Pacman emerges victorious! Score: 989\n",
      "Pacman emerges victorious! Score: 987\n",
      "Pacman emerges victorious! Score: 987\n",
      "Pacman emerges victorious! Score: 987\n",
      "Pacman emerges victorious! Score: 987\n",
      "Pacman emerges victorious! Score: 987\n",
      "Pacman emerges victorious! Score: 989\n",
      "Pacman emerges victorious! Score: 989\n",
      "Pacman emerges victorious! Score: 987\n",
      "Pacman emerges victorious! Score: 987\n",
      "Pacman emerges victorious! Score: 987\n",
      "Pacman emerges victorious! Score: 987\n",
      "Pacman emerges victorious! Score: 987\n",
      "Pacman emerges victorious! Score: 987\n",
      "Pacman emerges victorious! Score: 989\n",
      "Pacman emerges victorious! Score: 987\n",
      "Pacman emerges victorious! Score: 989\n",
      "Pacman emerges victorious! Score: 987\n",
      "Pacman emerges victorious! Score: 989\n",
      "Pacman emerges victorious! Score: 987\n",
      "Pacman emerges victorious! Score: 989\n",
      "Pacman emerges victorious! Score: 987\n",
      "Pacman emerges victorious! Score: 987\n",
      "Pacman emerges victorious! Score: 987\n",
      "Pacman emerges victorious! Score: 987\n",
      "Pacman emerges victorious! Score: 989\n",
      "Pacman emerges victorious! Score: 987\n",
      "Pacman emerges victorious! Score: 989\n",
      "Pacman emerges victorious! Score: 987\n",
      "Pacman emerges victorious! Score: 987\n",
      "Pacman emerges victorious! Score: 987\n",
      "Pacman emerges victorious! Score: 987\n",
      "Pacman emerges victorious! Score: 989\n",
      "Pacman emerges victorious! Score: 989\n",
      "Pacman emerges victorious! Score: 989\n",
      "Pacman emerges victorious! Score: 987\n",
      "Pacman emerges victorious! Score: 989\n",
      "Pacman emerges victorious! Score: 989\n",
      "Pacman emerges victorious! Score: 987\n",
      "Pacman emerges victorious! Score: 989\n",
      "Pacman emerges victorious! Score: 987\n",
      "Pacman emerges victorious! Score: 987\n",
      "Pacman emerges victorious! Score: 989\n",
      "Pacman emerges victorious! Score: 989\n",
      "Pacman emerges victorious! Score: 987\n",
      "Pacman emerges victorious! Score: 989\n",
      "Pacman emerges victorious! Score: 989\n",
      "Pacman emerges victorious! Score: 989\n",
      "Pacman emerges victorious! Score: 989\n",
      "Pacman emerges victorious! Score: 987\n",
      "Pacman emerges victorious! Score: 989\n",
      "Pacman emerges victorious! Score: 987\n",
      "Pacman emerges victorious! Score: 987\n",
      "Pacman emerges victorious! Score: 987\n",
      "Pacman emerges victorious! Score: 989\n",
      "Pacman emerges victorious! Score: 989\n",
      "Pacman emerges victorious! Score: 984\n",
      "Pacman emerges victorious! Score: 987\n",
      "Pacman emerges victorious! Score: 987\n",
      "Pacman emerges victorious! Score: 989\n",
      "Pacman emerges victorious! Score: 987\n",
      "Pacman emerges victorious! Score: 989\n",
      "Pacman emerges victorious! Score: 987\n",
      "Pacman emerges victorious! Score: 989\n",
      "Pacman emerges victorious! Score: 989\n",
      "Pacman emerges victorious! Score: 987\n",
      "Pacman emerges victorious! Score: 982\n",
      "Pacman emerges victorious! Score: 987\n",
      "Pacman emerges victorious! Score: 987\n",
      "Pacman emerges victorious! Score: 989\n",
      "Pacman emerges victorious! Score: 989\n",
      "Pacman emerges victorious! Score: 989\n",
      "Pacman emerges victorious! Score: 987\n",
      "Pacman emerges victorious! Score: 987\n",
      "Pacman emerges victorious! Score: 989\n",
      "Pacman emerges victorious! Score: 987\n",
      "Pacman emerges victorious! Score: 989\n",
      "Pacman emerges victorious! Score: 989\n",
      "Pacman emerges victorious! Score: 989\n",
      "Pacman emerges victorious! Score: 987\n",
      "Pacman emerges victorious! Score: 989\n",
      "Pacman emerges victorious! Score: 987\n",
      "Pacman emerges victorious! Score: 987\n",
      "Pacman emerges victorious! Score: 989\n",
      "Pacman emerges victorious! Score: 987\n",
      "Pacman emerges victorious! Score: 987\n",
      "Pacman emerges victorious! Score: 989\n",
      "Pacman emerges victorious! Score: 987\n",
      "Pacman emerges victorious! Score: 989\n",
      "Pacman emerges victorious! Score: 987\n",
      "Pacman emerges victorious! Score: 989\n",
      "Pacman emerges victorious! Score: 989\n",
      "Pacman emerges victorious! Score: 987\n",
      "Pacman emerges victorious! Score: 987\n",
      "Pacman emerges victorious! Score: 987\n",
      "Pacman emerges victorious! Score: 989\n",
      "Pacman emerges victorious! Score: 987\n",
      "Pacman emerges victorious! Score: 989\n",
      "Pacman emerges victorious! Score: 987\n",
      "Pacman emerges victorious! Score: 989\n",
      "Pacman emerges victorious! Score: 987\n",
      "Pacman emerges victorious! Score: 989\n",
      "Pacman emerges victorious! Score: 989\n",
      "Pacman emerges victorious! Score: 989\n",
      "Pacman emerges victorious! Score: 987\n",
      "Pacman emerges victorious! Score: 989\n",
      "Pacman emerges victorious! Score: 989\n",
      "Pacman emerges victorious! Score: 989\n",
      "Pacman emerges victorious! Score: 987\n",
      "Pacman emerges victorious! Score: 989\n",
      "Pacman emerges victorious! Score: 989\n",
      "Pacman emerges victorious! Score: 989\n",
      "Pacman emerges victorious! Score: 989\n",
      "Pacman emerges victorious! Score: 989\n",
      "Pacman emerges victorious! Score: 987\n",
      "Pacman emerges victorious! Score: 987\n",
      "Pacman emerges victorious! Score: 989\n",
      "Pacman emerges victorious! Score: 987\n",
      "Pacman emerges victorious! Score: 989\n",
      "Pacman emerges victorious! Score: 989\n",
      "Pacman emerges victorious! Score: 987\n",
      "Pacman emerges victorious! Score: 989\n",
      "Pacman emerges victorious! Score: 989\n",
      "Pacman emerges victorious! Score: 989\n",
      "Pacman emerges victorious! Score: 987\n",
      "Pacman emerges victorious! Score: 987\n",
      "Pacman emerges victorious! Score: 987\n",
      "Pacman emerges victorious! Score: 987\n",
      "Pacman emerges victorious! Score: 989\n",
      "Pacman emerges victorious! Score: 987\n",
      "Pacman emerges victorious! Score: 987\n",
      "Pacman emerges victorious! Score: 987\n",
      "Pacman emerges victorious! Score: 987\n",
      "Pacman emerges victorious! Score: 987\n",
      "Pacman emerges victorious! Score: 987\n",
      "Pacman emerges victorious! Score: 987\n",
      "Pacman emerges victorious! Score: 987\n",
      "Pacman emerges victorious! Score: 987\n",
      "Pacman emerges victorious! Score: 989\n",
      "Pacman emerges victorious! Score: 989\n",
      "Pacman emerges victorious! Score: 989\n",
      "Pacman emerges victorious! Score: 987\n",
      "Pacman emerges victorious! Score: 989\n",
      "Pacman emerges victorious! Score: 987\n",
      "Pacman emerges victorious! Score: 987\n",
      "Pacman emerges victorious! Score: 987\n",
      "Pacman emerges victorious! Score: 989\n",
      "Pacman emerges victorious! Score: 987\n",
      "Pacman emerges victorious! Score: 987\n",
      "Pacman emerges victorious! Score: 987\n",
      "Pacman emerges victorious! Score: 989\n",
      "Pacman emerges victorious! Score: 989\n",
      "Pacman emerges victorious! Score: 989\n",
      "Pacman emerges victorious! Score: 989\n",
      "Pacman emerges victorious! Score: 987\n",
      "Pacman emerges victorious! Score: 987\n"
     ]
    },
    {
     "name": "stderr",
     "output_type": "stream",
     "text": [
      "Agent 0 ran out of time! (time: 1.00)\n"
     ]
    },
    {
     "name": "stdout",
     "output_type": "stream",
     "text": [
      "Pacman crashed\n",
      "Pacman emerges victorious! Score: 989\n",
      "Pacman emerges victorious! Score: 989\n",
      "Pacman emerges victorious! Score: 987\n",
      "Pacman emerges victorious! Score: 987\n",
      "Pacman emerges victorious! Score: 989\n",
      "Pacman emerges victorious! Score: 989\n",
      "Pacman emerges victorious! Score: 989\n",
      "Pacman emerges victorious! Score: 989\n",
      "Pacman emerges victorious! Score: 987\n",
      "Pacman emerges victorious! Score: 989\n",
      "Pacman emerges victorious! Score: 989\n",
      "Pacman emerges victorious! Score: 987\n",
      "Pacman emerges victorious! Score: 989\n",
      "Pacman emerges victorious! Score: 987\n",
      "Pacman emerges victorious! Score: 987\n",
      "Pacman emerges victorious! Score: 987\n",
      "Pacman emerges victorious! Score: 989\n",
      "Pacman emerges victorious! Score: 987\n",
      "Pacman emerges victorious! Score: 989\n",
      "Pacman emerges victorious! Score: 987\n",
      "Pacman emerges victorious! Score: 989\n",
      "Pacman emerges victorious! Score: 987\n",
      "Pacman emerges victorious! Score: 989\n",
      "Pacman emerges victorious! Score: 989\n",
      "Pacman emerges victorious! Score: 984\n",
      "Pacman emerges victorious! Score: 987\n",
      "Pacman emerges victorious! Score: 989\n",
      "Pacman emerges victorious! Score: 989\n"
     ]
    },
    {
     "name": "stderr",
     "output_type": "stream",
     "text": [
      "Agent 0 ran out of time! (time: 1.00)\n"
     ]
    },
    {
     "name": "stdout",
     "output_type": "stream",
     "text": [
      "Pacman crashed\n",
      "Pacman emerges victorious! Score: 989\n",
      "Pacman emerges victorious! Score: 989\n",
      "Pacman emerges victorious! Score: 987\n"
     ]
    },
    {
     "name": "stderr",
     "output_type": "stream",
     "text": [
      "Agent 0 ran out of time! (time: 1.00)\n"
     ]
    },
    {
     "name": "stdout",
     "output_type": "stream",
     "text": [
      "Pacman crashed\n",
      "Pacman emerges victorious! Score: 989\n",
      "Pacman emerges victorious! Score: 989\n",
      "Pacman emerges victorious! Score: 989\n"
     ]
    }
   ],
   "source": [
    "max_generation = 30\n",
    "fitness_progress = model.run(max_generation)"
   ]
  },
  {
   "cell_type": "code",
   "execution_count": 8,
   "id": "0cce9eff",
   "metadata": {},
   "outputs": [
    {
     "data": {
      "text/plain": [
       "[975.8658378964558,\n",
       " 41.035431240762705,\n",
       " 168.18342895999632,\n",
       " 698.7424064178213,\n",
       " 65.0628522660516,\n",
       " 53.044968587033445,\n",
       " 1000.0]"
      ]
     },
     "execution_count": 8,
     "metadata": {},
     "output_type": "execute_result"
    }
   ],
   "source": [
    "new_pesos = model.best_solution[0].tolist()\n",
    "new_pesos"
   ]
  },
  {
   "cell_type": "code",
   "execution_count": 9,
   "id": "a3299671-55db-488d-8eb5-c392ce9aa4ca",
   "metadata": {},
   "outputs": [
    {
     "data": {
      "text/plain": [
       "(array([975.74099495,  41.58232722, 168.1814725 , 696.50035033,\n",
       "         65.09411037,  53.54499374, 994.        ]),\n",
       " 989.0)"
      ]
     },
     "execution_count": 9,
     "metadata": {},
     "output_type": "execute_result"
    }
   ],
   "source": [
    "maior = 0\n",
    "for best in model.population:\n",
    "    if(best.fitness_val > maior):\n",
    "        maior = best.fitness_val\n",
    "        melhor_peso = best.chromosome\n",
    "melhor_peso, maior"
   ]
  },
  {
   "cell_type": "code",
   "execution_count": 10,
   "id": "a5826af1",
   "metadata": {
    "tags": []
   },
   "outputs": [
    {
     "data": {
      "text/plain": [
       "[<matplotlib.lines.Line2D at 0x1ff19f3e880>]"
      ]
     },
     "execution_count": 10,
     "metadata": {},
     "output_type": "execute_result"
    },
    {
     "data": {
      "image/png": "[encoded data removed]",
      "text/plain": [
       "<Figure size 432x288 with 1 Axes>"
      ]
     },
     "metadata": {
      "needs_background": "light"
     },
     "output_type": "display_data"
    }
   ],
   "source": [
    "import matplotlib.pyplot as plt\n",
    "%matplotlib inline\n",
    "\n",
    "x1 = list(range(len(fitness_progress)))\n",
    "\n",
    "plt.plot(x1, fitness_progress, 'o')"
   ]
  },
  {
   "cell_type": "code",
   "execution_count": null,
   "id": "08b9cd35-bd11-451c-8aec-213ef76da831",
   "metadata": {},
   "outputs": [],
   "source": [
    "interval = (0,1000)\n",
    "model.init_population()"
   ]
  },
  {
   "cell_type": "code",
   "execution_count": 1,
   "id": "2975c5f1-cea2-4b8e-94f4-3ce202dca203",
   "metadata": {},
   "outputs": [
    {
     "ename": "NameError",
     "evalue": "name 'SmartAgent' is not defined",
     "output_type": "error",
     "traceback": [
      "\u001b[1;31m---------------------------------------------------------------------------\u001b[0m",
      "\u001b[1;31mNameError\u001b[0m                                 Traceback (most recent call last)",
      "\u001b[1;32m<ipython-input-1-23cdc2566f4a>\u001b[0m in \u001b[0;36m<module>\u001b[1;34m\u001b[0m\n\u001b[0;32m      1\u001b[0m \u001b[0mprops\u001b[0m\u001b[1;33m=\u001b[0m\u001b[1;33m{\u001b[0m\u001b[1;33m}\u001b[0m\u001b[1;33m\u001b[0m\u001b[1;33m\u001b[0m\u001b[0m\n\u001b[1;32m----> 2\u001b[1;33m \u001b[0mpacman\u001b[0m \u001b[1;33m=\u001b[0m \u001b[0mSmartAgent\u001b[0m\u001b[1;33m(\u001b[0m\u001b[0mmelhor_peso\u001b[0m\u001b[1;33m)\u001b[0m\u001b[1;33m\u001b[0m\u001b[1;33m\u001b[0m\u001b[0m\n\u001b[0m\u001b[0;32m      3\u001b[0m \u001b[0mghostType\u001b[0m \u001b[1;33m=\u001b[0m \u001b[0mloadAgent\u001b[0m\u001b[1;33m(\u001b[0m\u001b[1;34m'RandomGhost'\u001b[0m\u001b[1;33m,\u001b[0m \u001b[1;32mTrue\u001b[0m\u001b[1;33m)\u001b[0m\u001b[1;33m\u001b[0m\u001b[1;33m\u001b[0m\u001b[0m\n\u001b[0;32m      4\u001b[0m \u001b[0mtextDisplay\u001b[0m\u001b[1;33m.\u001b[0m\u001b[0mSLEEP_TIME\u001b[0m \u001b[1;33m=\u001b[0m \u001b[1;36m0\u001b[0m\u001b[1;33m\u001b[0m\u001b[1;33m\u001b[0m\u001b[0m\n\u001b[0;32m      5\u001b[0m \u001b[0mprops\u001b[0m\u001b[1;33m[\u001b[0m\u001b[1;34m'layout'\u001b[0m\u001b[1;33m]\u001b[0m \u001b[1;33m=\u001b[0m \u001b[0mlayout\u001b[0m\u001b[1;33m.\u001b[0m\u001b[0mgetLayout\u001b[0m\u001b[1;33m(\u001b[0m \u001b[1;34m'smallClassic'\u001b[0m \u001b[1;33m)\u001b[0m\u001b[1;33m\u001b[0m\u001b[1;33m\u001b[0m\u001b[0m\n",
      "\u001b[1;31mNameError\u001b[0m: name 'SmartAgent' is not defined"
     ]
    }
   ],
   "source": [
    "props={}\n",
    "pacman = SmartAgent(melhor_peso)\n",
    "ghostType = loadAgent('RandomGhost', True)\n",
    "textDisplay.SLEEP_TIME = 0\n",
    "props['layout'] = layout.getLayout( 'smallClassic' )\n",
    "props['pacman'] = pacman\n",
    "#props['ghosts'] = [ghostType( i+1 ) for i in range( 2 )]\n",
    "props['ghosts'] = []\n",
    "props['display'] = graphicsDisplay.PacmanGraphics(1, frameTime = 0)\n",
    "#props['display'] = textDisplay.NullGraphics()\n",
    "props['numGames'] = 1\n",
    "props['record'] = False\n",
    "props['catchExceptions'] = False\n",
    "props['timeout'] = 1\n",
    "    \n",
    "games = runGames(**props)\n",
    "scores = [game.state.getScore() for game in games]\n",
    "avg = sum(scores) / float(len(scores))\n",
    "int(avg)"
   ]
  },
  {
   "cell_type": "code",
   "execution_count": null,
   "id": "516577b4-210d-4993-bd15-ac4a07c23858",
   "metadata": {},
   "outputs": [],
   "source": []
  }
 ],
 "metadata": {
  "kernelspec": {
   "display_name": "Python 3",
   "language": "python",
   "name": "python3"
  },
  "language_info": {
   "codemirror_mode": {
    "name": "ipython",
    "version": 3
   },
   "file_extension": ".py",
   "mimetype": "text/x-python",
   "name": "python",
   "nbconvert_exporter": "python",
   "pygments_lexer": "ipython3",
   "version": "3.8.8"
  }
 },
 "nbformat": 4,
 "nbformat_minor": 5
}
