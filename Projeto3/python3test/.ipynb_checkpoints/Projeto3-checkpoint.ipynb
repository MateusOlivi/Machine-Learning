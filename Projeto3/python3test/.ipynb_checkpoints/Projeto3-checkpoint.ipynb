{
 "cells": [
  {
   "cell_type": "markdown",
   "id": "a4753438-d604-4cb7-bd76-a6fa0b4ce13c",
   "metadata": {},
   "source": [
    "# MC886 - Projeto 3\n",
    "Aluno: Mateus Feitosa Olivi  RA: 222059"
   ]
  },
  {
   "cell_type": "markdown",
   "id": "a9951461-086f-4a16-8cbe-61d13dedd284",
   "metadata": {},
   "source": [
    "# Parte 1\n",
    "\n",
    "<p style=\"text-align: justify;\">\n",
    "&emsp; Nesta parte do projeto vou aplicar uma técnica de computação evolucionária para resolver o problema do Pac-man. O trabalho consiste em encontrar uma solução adequada para o problema, avaliando-o segundo diversos parâmetros.\n",
    "</p>"
   ]
  },
  {
   "cell_type": "markdown",
   "id": "c02a0422-a96c-4c5f-b811-9a48d5279d48",
   "metadata": {},
   "source": [
    "<p style=\"text-align: justify;\">\n",
    "&emsp; A primeira coisa que preciso fazer é definir um modelo para se aplicar o algoritmo evolucionario, isso é, um modelo que resolve o problema do Pac-man baseando-se em um conjunto de entradas que define um cromossomo. <br>\n",
    "&emsp; No tópico a seguir vou detalhar como achei o meu modelo:\n",
    "</p>"
   ]
  },
  {
   "cell_type": "markdown",
   "id": "b64c0876-3520-47f0-95ac-c7f8f57d3fda",
   "metadata": {},
   "source": [
    "### 1. Definição do modelo\n",
    "<p style=\"text-align: justify;\">\n",
    "&emsp; Para definir o modelo usei como inspiração inicial o GreedyAgent, esse agente está definido nos arquivos do pacman, mais precisamente no arquivo pacmanAgents.py, vamos dar uma olhada no que ele faz:\n",
    "</p>"
   ]
  },
  {
   "cell_type": "code",
   "execution_count": 3,
   "id": "0641d982-436e-4bb1-9547-241fe0525b49",
   "metadata": {},
   "outputs": [],
   "source": [
    "import sys, os\n",
    "os.chdir(sys.path[0]+'.\\search')\n",
    "\n",
    "from game import Agent\n",
    "\n",
    "class GreedyAgent(Agent):\n",
    "    def __init__(self, evalFn=\"scoreEvaluation\"):\n",
    "        self.evaluationFunction = util.lookup(evalFn, globals())\n",
    "        assert self.evaluationFunction != None\n",
    "\n",
    "    def getAction(self, state):\n",
    "        # Generate candidate actions\n",
    "        legal = state.getLegalPacmanActions()\n",
    "        if Directions.STOP in legal: legal.remove(Directions.STOP)\n",
    "\n",
    "        successors = [(state.generateSuccessor(0, action), action) for action in legal]\n",
    "        scored = [(self.evaluationFunction(state), action) for state, action in successors]\n",
    "        bestScore = max(scored)[0]\n",
    "        bestActions = [pair[1] for pair in scored if pair[0] == bestScore]\n",
    "        return random.choice(bestActions)\n",
    "\n",
    "def scoreEvaluation(state):\n",
    "    return state.getScore()"
   ]
  },
  {
   "cell_type": "markdown",
   "id": "b40b7ab9-b853-4859-8160-1e4d70d990bf",
   "metadata": {},
   "source": [
    "<p style=\"text-align: justify;\">\n",
    "&emsp; Esse código é relativamente simples, no método getAction, inicialmente o agente verifica quais ações ele pode fazer, isso é, quais direção ele pode ir, desconsiderando a possibilidade do pacman ficar parado, para isso o código usa um método já implementado, que é o getLegalPacmanActions(). Após isso, para cada possível direção, o código gera os estados sucessores possíveis, utilizando o método generateSuccessor(). Por fim esse agente verifica qual desses estados tem o melhor score, utilizando a função scoreEvaluation, e então retorna qual é a melhor ação a ser executada para se obter o maior score. <br>\n",
    "&emsp; Mas note, esse agente é muito simplista, e não pode ser utilizado para se aplicar um algoritmo genético, porém posso modificar ele de tal forma a obter um agente em que poderei aplicar o algoritmo. "
   ]
  },
  {
   "cell_type": "markdown",
   "id": "ca0318a7-cc98-4e32-990b-cbf6d309efba",
   "metadata": {},
   "source": [
    "#### 1.1 O meu modelo\n",
    "<p style=\"text-align: justify;\">\n",
    "&emsp; No GreedyAgent, o estado é avaliado segundo o score que foi feito, porém isso não é necessariamente bom, já que as vezes o pacman deve fazer desviar de um fantasma, ou então prefirir comer uma capsula ao invés de comer uma comida, ou seja, no meu modelo a avaliação do estado não será baseado, exclusivamente, no score. <br>\n",
    "&emsp; Essa avaliação pode seguir a lógica de se obter algum bônus por fazer alguma ação positiva que não é contabilizada pelo score, ou seja, o pacman pode obter um bônus por se afastar de um fantasma, por estar perto de um fantasma assustado, por se aproximar de uma capsula, por consumir uma capsula, por consumir um fantasma assustado, por se aproximar de uma comida e por consumir uma comida. <br>\n",
    "&emsp; Um exemplo para essa lógica: se eu tiver um alto bônus por aproximar de uma comida e um baixo bônus por ficar longe dos fantasmas, o pacman poderá morrer tentando pegar uma comida, porém na situacão oposta, o pacman ira prefirir ficar distantes dos fantasmas do que consumir comidas. <br>\n",
    "&emsp; Esses bônus poderão ser regulados com pesos que serão dados a eles, esses pesos são os parametros do meu modelo e determinará o grau de importancia para as decisões do pacman.<br>\n",
    "&emsp; Abaixo vou mostrar como calcularei cada bônus:<br>\n",
    "&emsp; <b>1)</b> Bônus por se distanciar dos fantasmas (BDF) : A lógica é a seguinte, o pacman deve ser incentivado a ficar longe dos fantasmas, então esse bonus é calculado pela distancia dos fantasmas multiplicado por um peso p1. <br>\n",
    "&emsp; <b>2)</b> Bônus por se aproximar de capsulas (BAC) : Aqui o pacman deve ser incentivado a se aproximar das capsulas, então esse bonus é calculado pelo negativo da distancia das capsulas multiplicado por um peso p2.<br>\n",
    "&emsp; <b>3)</b> Bônus por consumir capsulas (BCC) : Aqui o pacman deve ser incentivado a consumir as capsulas, então esse bonus é calculado pela diferença de capsulas entre o estado atual e no próximo, multiplicado por um peso p3.<br>\n",
    "&emsp; <b>4)</b> Bônus por se aproximar de fantasmas assustados (BAFA) : Aqui o pacman deve ser incentivado a se aproximar de fantamas assustados, então esse bonus é calculado pelo negativo das distancias dos fantasmas assustados multiplicado por um peso p4.<br>\n",
    "&emsp; <b>5)</b> Bônus por consumir fantasmas assustados (BCFA) : Aqui o pacman deve ser incentivado a consumir os fantasmas assustados, então esse bonus é calculado pela diferença de fantasmas no estado atual e no próximo ,multiplicado por um peso p5.<br>    \n",
    "&emsp; <b>6)</b> Bônus por se aproximar de alimentos. (BAA) : O pacman deve ser incentivado a se aproximar de comidas, então esse bonus é calculado pelo negativo da distancia da comida mais próxima multiplicado por um peso p6.<br>\n",
    "&emsp; <b>7)</b> Bônus por consumir alimentos (BCA) : O pacman deve ser incentivado a consumir os alimentos , então esse bonus é calculado pela diferença de alimentos no estado atual e no próximo, multiplicado por um peso p5.<br>\n",
    "&emsp; Sabendo disso pode-se dizer que a avaliação de um possível estado do jogo sera dado por:<br>\n",
    "</p>\n",
    "<p style=\"text-align: center;\">\n",
    "Avaliação = Score + BDF + BAC + BCC + BAFA + BCFA + BAA + BCA <br>  \n",
    "</p>\n",
    "<p style=\"text-align: justify;\">\n",
    "&emsp; As siglas utilizadas na expressão são as mesmas que foram definidas nas explicações dos bonus. <br>\n",
    "&emsp; Nesse meu modelo os pesos são extremamente importantes, pois eles que ditarão o quão impactante os bonus são na avaliação do estado, isso porque são os pesos que definem o que é mais importante para o pacman no jogo, por exemplo, se o peso para calcular o bônus por se distanciar dos fantasmas for muito alto, toda ação que o pacman fará será baseada em ficar longe dos fantasmas. Então é importante que se pondere muito bem os pesos.<br>\n",
    "&emsp; Mas como será definido os pesos? <br>\n",
    "&emsp; É ai que entra o algoritmo genético, se considerarmos que cada peso é um gene e que um indivíduo/cromossomo é um conjunto dos pesos na forma [p1,p2,p3,p4,p5,p6,p7], então pode-se aplicar um algoritmo genético e achar a melhor combinação de pesos para maximizar o score do pacman.<br>\n",
    "&emsp; Colocando tudo isso em prática, e codificando esse meu agente obtenho:    "
   ]
  },
  {
   "cell_type": "code",
   "execution_count": 16,
   "id": "0483d8a2-e7b1-454b-998c-f4587aec4aa1",
   "metadata": {},
   "outputs": [],
   "source": [
    "import sys, os\n",
    "os.chdir(sys.path[0]+'.\\search')\n",
    "from pacman import Directions\n",
    "from util import Queue\n",
    "import game\n",
    "import numpy as np\n",
    "\n",
    "class SmartAgent(game.Agent):    \n",
    "    def __init__(self, pesos):\n",
    "        self.pesos = pesos\n",
    "        \n",
    "    def getAction(self, state):\n",
    "        legal = state.getLegalPacmanActions()\n",
    "        if Directions.STOP in legal: legal.remove(Directions.STOP)\n",
    "    \n",
    "        currentState = state\n",
    "        \n",
    "        successors = [(state.generateSuccessor(0, action), action) for action in legal]\n",
    "        evaluated = [(self.evaluation(state, currentState), action) for state, action in successors]\n",
    "        bestEvaluation = max(evaluated)[0]\n",
    "        bestActions = [pair[1] for pair in evaluated if pair[0] == bestEvaluation]\n",
    "        \n",
    "        return random.choice(bestActions)\n",
    "        \n",
    "    def getLegalSteps(self, pos, walls, visited): \n",
    "        coluna=pos[0]\n",
    "        linha=pos[1]\n",
    "        lista=[]\n",
    "        \n",
    "        if(coluna+1 <walls.width):\n",
    "            if(walls[coluna+1][linha]==False and visited[coluna+1][linha]==0):\n",
    "                lista.append((coluna+1,linha))\n",
    "        if(coluna-1 >= 0):\n",
    "            if(walls[coluna-1][linha]==False and visited[coluna-1][linha]==0):\n",
    "                lista.append((coluna-1,linha))\n",
    "        if(linha+1 <walls.height ):\n",
    "            if(walls[coluna][linha+1]==False and visited[coluna][linha+1]==0):\n",
    "                lista.append((coluna,linha+1))\n",
    "        if(linha-1 >= 0):\n",
    "            if(walls[coluna][linha-1]==False and visited[coluna][linha-1]==0):\n",
    "                lista.append((coluna,linha-1))\n",
    "        return lista\n",
    "    \n",
    "    def findNearestFood(self, state, posIni):\n",
    "        walls= state.getWalls()\n",
    "        foods= state.getFood()\n",
    "        queue = Queue()\n",
    "             \n",
    "        visited = np.zeros((walls.width,walls.height))\n",
    "        visited[posIni[0]][posIni[1]] = 1\n",
    "                \n",
    "        matHeight=foods.height\n",
    "        matWidth=foods.width\n",
    "        \n",
    "        queue.push((posIni, 1))\n",
    "        while(not queue.isEmpty()):\n",
    "            current=queue.pop()\n",
    "            pos=current[0]\n",
    "            stepsUntilNow=current[1]\n",
    "            \n",
    "            if(foods[pos[0]][pos[1]]==True):\n",
    "                return stepsUntilNow\n",
    "            \n",
    "            visited[pos[0]][pos[1]]=1\n",
    "            possibles=self.getLegalSteps(pos,walls, visited) # pos = (x,y), walls = matriz true/falso, visitados  [(2,2),(2,1),(2,3)]\n",
    "            for possibleMove in possibles:\n",
    "                queue.push( (possibleMove, stepsUntilNow+1))\n",
    "        return -1\n",
    "    \n",
    "    def bfsDistance(self, state, posIni, endPos):\n",
    "        walls= state.getWalls()\n",
    "        queue = Queue()\n",
    "        \n",
    "        \n",
    "        visited=np.zeros((walls.width,walls.height))\n",
    "        visited[posIni[0]][posIni[1]]=1\n",
    "                \n",
    "        queue.push((posIni, 1))\n",
    "        while(not queue.isEmpty()):\n",
    "            current=queue.pop()\n",
    "            pos=current[0]\n",
    "            stepsUntilNow=current[1]\n",
    "            \n",
    "            if(pos[0] == endPos[0] and pos[1] == endPos[1]):\n",
    "                return stepsUntilNow\n",
    "            \n",
    "            visited[pos[0]][pos[1]]=1\n",
    "            possibles = self.getLegalSteps(pos,walls, visited) # pos = (x,y), walls = matriz true/falso, visitados  [(2,2),(2,1),(2,3)]\n",
    "            for possibleMove in possibles:\n",
    "                queue.push( (possibleMove, stepsUntilNow+1))\n",
    "        return -1\n",
    "    \n",
    "    def ghostDistances(self, state):\n",
    "        ghostPositions = state.getGhostPositions() \n",
    "        pacmanPosition = state.getPacmanPosition()\n",
    "        \n",
    "        distancias = []\n",
    "    \n",
    "        for i in range(len(ghostPositions)):\n",
    "            dist = self.bfsDistance(state, pacmanPosition, ghostPositions[i])\n",
    "            distancias.append(dist)\n",
    "        \n",
    "        return distancias\n",
    "    \n",
    "    def bonusByGhostDistance(self, peso, distancias, state):\n",
    "        n_ghosts = len(distancias)\n",
    "        scared_timer = []\n",
    "\n",
    "        for i in range(n_ghosts):\n",
    "            scared_timer.append(state.getGhostStates()[i].scaredTimer)\n",
    "            \n",
    "        bonus = 0\n",
    "        for i in range(n_ghosts):\n",
    "            if(scared_timer[i] == 0):\n",
    "                bonus += peso*distancias[i]\n",
    "        return bonus\n",
    "    \n",
    "    def capsuleDistanceBonus(self, peso, state):\n",
    "        pacmanPosition = state.getPacmanPosition()\n",
    "        capsulePositions = state.getCapsules() \n",
    "        \n",
    "        bonus = 0\n",
    "        for capsule in capsulePositions:\n",
    "            distancia = self.bfsDistance(state, pacmanPosition, capsule)\n",
    "            bonus -= peso*distancia\n",
    "        return bonus\n",
    "    \n",
    "    def capsuleComsumptionBonus(self, peso, state, currentState):\n",
    "        capsulePositions = state.getCapsules() \n",
    "        numCapsulesCurrentState = len(currentState.getCapsules())\n",
    "\n",
    "        num_capsulas = numCapsulesCurrentState\n",
    "        num_capsulas_estado_seguinte = len(capsulePositions)\n",
    "        \n",
    "        bonus = (num_capsulas - num_capsulas_estado_seguinte) * peso\n",
    "        \n",
    "        return bonus\n",
    "    \n",
    "    def countScaredGhosts(self, state):\n",
    "        total = 0\n",
    "        for ghost in state.getGhostStates():\n",
    "            if(ghost.scaredTimer !=0):\n",
    "                total+=1\n",
    "        return total\n",
    "    \n",
    "    def scaredGhostBonus(self, peso, state, distancias):\n",
    "        n_ghosts = self.countScaredGhosts(state)\n",
    "        scared_timer = []\n",
    "\n",
    "        for i in range(n_ghosts):\n",
    "            scared_timer.append(state.getGhostStates()[i].scaredTimer)\n",
    "            \n",
    "        bonus = 0\n",
    "        for i in range(n_ghosts):\n",
    "            if(scared_timer[i] != 0):\n",
    "                bonus -= peso*distancias[i]\n",
    "        return bonus\n",
    "    \n",
    "    def eatScaredGhosts(self, peso, state, currentState):\n",
    "        \n",
    "        currentScaredGhosts=self.countScaredGhosts(currentState)\n",
    "        scaredGhostsInThisState = self.countScaredGhosts(state)\n",
    "        \n",
    "        dif = currentScaredGhosts - scaredGhostsInThisState\n",
    "        \n",
    "        bonus=0\n",
    "        if(dif > 0):\n",
    "            bonus= peso * dif\n",
    "        return bonus\n",
    "    \n",
    "    def nearestFoodBonus(self, peso, state):\n",
    "        pacmanPosition = state.getPacmanPosition()\n",
    "        nearestFoodDistance= self.findNearestFood(state, pacmanPosition)\n",
    "        bonus = -1* peso * nearestFoodDistance       \n",
    "        \n",
    "        return bonus\n",
    "    \n",
    "    def eatFoodBonus(self, peso, state, currentState):\n",
    "        foodMatrix = state.getFood()\n",
    "        currentFoodMatrix = currentState.getFood()\n",
    "\n",
    "        diff = currentFoodMatrix.count(True) - foodMatrix.count(True)\n",
    "        bonus = peso*diff\n",
    "        \n",
    "        return bonus\n",
    "    def evaluation(self, state, currentState):\n",
    "        \n",
    "        p1 = self.pesos[0]\n",
    "        p2 = self.pesos[1]\n",
    "        p3 = self.pesos[2]\n",
    "        p4 = self.pesos[3]\n",
    "        p5 = self.pesos[4]\n",
    "        p6 = self.pesos[5]\n",
    "        p7 = self.pesos[6]\n",
    "        \n",
    "        score = state.getScore()\n",
    "        \n",
    "        distancias_fantasmas = self.ghostDistances(state)\n",
    "        bonus_distancia_fantasmas = self.bonusByGhostDistance(p1, distancias_fantasmas, state)\n",
    "        \n",
    "        bonus_fantasmas_assustados = self.scaredGhostBonus(p2, state, distancias_fantasmas)\n",
    "        bonus_comer_fantasmas = self.eatScaredGhosts(p3*abs(bonus_fantasmas_assustados) + p3*abs(bonus_distancia_fantasmas), state, currentState)\n",
    "        \n",
    "        bonus_comida_proxima =  self.nearestFoodBonus(p4, state)            \n",
    "        bonus_comer_comida = self.eatFoodBonus(p5*abs(bonus_comida_proxima), state, currentState)  \n",
    "        \n",
    "        bonus_distancia_capsula = self.capsuleDistanceBonus(p6, state)\n",
    "        bonus_consumir_capsula = self.capsuleComsumptionBonus(p7*abs(bonus_distancia_capsula) + p7*abs(bonus_fantasmas_assustados), state, currentState) \n",
    "        \n",
    "        avaliacao = score + bonus_distancia_fantasmas + bonus_distancia_capsula + bonus_consumir_capsula + \\\n",
    "                    bonus_fantasmas_assustados + bonus_comer_fantasmas + bonus_comida_proxima + bonus_comer_comida\n",
    "        \n",
    "        return avaliacao"
   ]
  },
  {
   "cell_type": "markdown",
   "id": "1a83c705-95fc-46f4-ae6f-044ca5131912",
   "metadata": {},
   "source": [
    "<p style=\"text-align: justify;\">\n",
    "&emsp; Note que esse agente faz exatamente o que eu planejei, isso é, no getActions são gerados sucessores baseados nas direções possíveis, esses sucessores são avaliados com o método evaluation, e o sucessor escolhido é aquele que obteve melhor avaliação. Essa avaliação segue aquele mesmo esquema de bônus que já expliquei anteriormente. <br>\n",
    "&emsp; Ainda note que eu as distâncias foram calculadas usando a busca em largura (bfs), nas primeiras versões do meu código eu tinha usado a distância manhattan, porém como ela desconsidera as paredes não achei muito bom. <br>\n",
    "&emsp; Agora com o agente pronto posso aplicar o algoritmo genético e achar o melhor conjunto de pesos para o executar o agente. <br>"
   ]
  },
  {
   "cell_type": "markdown",
   "id": "04de5acc-3aa4-44a9-99f6-80c14fad96a3",
   "metadata": {},
   "source": [
    "### 2. Algoritmo genético"
   ]
  },
  {
   "cell_type": "markdown",
   "id": "71284eb9-2b46-4a8b-8574-648263d7a493",
   "metadata": {},
   "source": [
    "<p style=\"text-align: justify;\">\n",
    "&emsp; Para o algoritmo genético irei utilizar a biblioteca geneticalgs, ela pode ser obtida através do pip, porém eu baixei os seus módulos do github oficial <a href=\"https://github.com/bobirdmi/genetic-algorithms\">link aqui</a>. Essa biblioteca faz tudo o que preciso, porém eu tive que modifica-la para obter o valor de maior e menor fitness em cada geração (o que não era feito por padrão), também adicionei um trecho de código para imprimir quando cada geração tiver sido gerada. Uma outra modificação que fiz foi quanto ao elitismo, em aula vimos que no elitismo em uma nova geração são gerados n-1 indivíduos novos e adicionado o indivíduo de melhor fitness da geração anterior, porém nessa biblioteca isso era diferente, nela, quando o elitismo era ativado, a nova geração tinha n indivíduos novos e também o indivíduo de melhor fitness da geração anterior, ou seja, a cada geração a população aumentava em 1 indivíduo, a modificação que fiz foi para que o elitismo ficasse igual o que foi visto em aula (a mudança foi muito simples). A versão modificada da biblioteca está na pasta geneticalgsmod.\n",
    "</p> "
   ]
  },
  {
   "cell_type": "markdown",
   "id": "1d4f0f2c-3229-40fc-ae08-9b8bb1d1fb01",
   "metadata": {},
   "source": [
    "<p style=\"text-align: justify;\">\n",
    "&emsp; Vou explicar um pouco do algoritmo que vou utilizar, para isso vou demonstrar em um simples teste, nesse teste vou aplicar o algoritmo genético no meu modelo para o pacman sem nenhum fantasmas presente no layout smallClassic, vamos lá:\n",
    "</p>"
   ]
  },
  {
   "cell_type": "markdown",
   "id": "1e2dd702-84cb-4acc-afe2-c8b731a02750",
   "metadata": {},
   "source": [
    "#### 2.1 Treinamento para testar algoritmo\n",
    "<p style=\"text-align: justify;\">\n",
    "&emsp; Para aplicar o algoritmo genético preciso definir uma função de fitness, nessa função irei definir os argumentos para executar o pacman e iniciará um jogo, em que o agente será aquele que criei no tópico anterior, ou seja. Os parâmetros dessa minha função será uma lista de pesos e o retorno dela será o score da partida:"
   ]
  },
  {
   "cell_type": "code",
   "execution_count": 13,
   "id": "28fde543-3733-4f19-8577-7312520980e2",
   "metadata": {},
   "outputs": [],
   "source": [
    "from pacman import runGames, loadAgent\n",
    "from pacman import Directions\n",
    "import pacmanAgents\n",
    "from util import Queue\n",
    "import textDisplay\n",
    "import game\n",
    "import layout\n",
    "import random\n",
    "import graphicsDisplay\n",
    "\n",
    "def fitfunctionNoGhosts(pesos):\n",
    "    argumentos ={}\n",
    "    pacman = SmartAgent(pesos)\n",
    "    ghostType = loadAgent('RandomGhost', True)\n",
    "    textDisplay.SLEEP_TIME = 0\n",
    "    argumentos['layout'] = layout.getLayout( 'smallClassic' )\n",
    "    argumentos['pacman'] = pacman\n",
    "    argumentos['ghosts'] = []\n",
    "    argumentos['display'] = textDisplay.NullGraphics()\n",
    "    argumentos['numGames'] = 1\n",
    "    argumentos['record'] = False\n",
    "    argumentos['catchExceptions'] = True\n",
    "    argumentos['timeout'] = 1\n",
    "    \n",
    "    res = runGames(**argumentos)\n",
    "    score = res[0].state.getScore() \n",
    "\n",
    "    return score"
   ]
  },
  {
   "cell_type": "markdown",
   "id": "95aad48e-ff15-4bc6-bcf9-9ad247b3743f",
   "metadata": {},
   "source": [
    "<p style=\"text-align: justify;\">\n",
    "&emsp; Função de fitness pronta, agora vou aplicar o algoritmo genético: <br>\n",
    "</p>"
   ]
  },
  {
   "cell_type": "markdown",
   "id": "c0310732-6430-489c-9147-bc5f2233ea3c",
   "metadata": {},
   "source": [
    "<p style=\"text-align: justify;\">\n",
    "&emsp; Primeiro vou definir o modelo do algoritmo, nele posso definir os seguintes parâmetros:\n",
    "</p>\n",
    "\n",
    "- fitness_func (function): A funcao de fitness será usada \n",
    "- optim (str): Qual tipo de fitness será feito, isso é, se iremos maximizar a função de fitness (parâmetro 'max') ou se iremos minimiza-la (parâmetro 'min') .\n",
    "- selection (str): Tipo de seleção que irá ser feita, \"rank\", \"roulette\" ou \"tournament\".\n",
    "- tournament_size (int): Define o tamanho do torneio no caso em que 'selection' == 'tournament'.\n",
    "- mut_prob (float): Probabilidade de ocorrer mutação.\n",
    "- mut_type (int): Nesse parâmetro se define quantos genes irão sofrer mutação.\n",
    "- cross_prob (float): Probabilidade de ocorrer crossover.\n",
    "- cross_type (int): Nesse parâmetro se define quantos genes de um cromossomo irão sofrer crossover\n",
    "- elitism (True, False): Habilita ou desabilita o elitismo."
   ]
  },
  {
   "cell_type": "markdown",
   "id": "fdc6c510-129d-45a2-8514-6cce1cf36f10",
   "metadata": {},
   "source": [
    "<p style=\"text-align: justify;\">\n",
    "&emsp; Agora vou definir algum desses parametros para aplicar o teste, note que usarei RealGA porque os pesos são valores reais:\n",
    "</p>"
   ]
  },
  {
   "cell_type": "code",
   "execution_count": 14,
   "id": "dcac151c-2e58-4742-b7d0-00b2fb0c8ff4",
   "metadata": {},
   "outputs": [],
   "source": [
    "import geneticalgsmod as ge\n",
    "\n",
    "model = ge.RealGA(fitness_func = fitfunctionNoGhosts, \n",
    "                  optim='max', \n",
    "                  selection=\"rank\", \n",
    "                  mut_prob=0.10, \n",
    "                  mut_type=1,\n",
    "                  cross_prob=0.9, \n",
    "                  cross_type=2, \n",
    "                  elitism=True, \n",
    "                  tournament_size=None)"
   ]
  },
  {
   "cell_type": "markdown",
   "id": "f3dbabff-8d42-4110-8645-f0a3b56483cc",
   "metadata": {},
   "source": [
    "<p style=\"text-align: justify;\">\n",
    "&emsp; Agora tenho que iniciar uma população, para o teste escolherei uma população de 50 indivíduos, além disso tenho que determinar qual a dimensão do problema (número de genes do meu problema), no meu caso como tenho 7 pesos então será dimensão 7 e por fim preciso definir o intervalo dos meus genes, escolherei um intervalo de [0,10]:"
   ]
  },
  {
   "cell_type": "code",
   "execution_count": 17,
   "id": "a7f96237-2831-4376-b9a9-2e6d9db70081",
   "metadata": {},
   "outputs": [],
   "source": [
    "population_size = 50\n",
    "dimensao = 7         # numero de argumentos da funcao        \n",
    "interval = (0,10)\n",
    "model.init_random_population(population_size, dimensao, interval) # iniciando a população"
   ]
  },
  {
   "cell_type": "markdown",
   "id": "00116d4c-dbc6-48db-85da-309a6573993a",
   "metadata": {},
   "source": [
    "<p style=\"text-align: justify;\">\n",
    "&emsp; População gerada, note que o código do pacman não fez um monte de print porque eu desabilitei eles no código do jogo. <br>\n",
    "</p>"
   ]
  },
  {
   "cell_type": "markdown",
   "id": "4b5a9b6f-a481-4ff2-80e3-699182fd3bc0",
   "metadata": {},
   "source": [
    "&emsp; Agora vou definir o número maximo de gerações e executar o algoritmo:"
   ]
  },
  {
   "cell_type": "code",
   "execution_count": 18,
   "id": "8e0d56f0-2630-4735-bd9e-d60947ad2dcb",
   "metadata": {
    "scrolled": true,
    "tags": []
   },
   "outputs": [
    {
     "name": "stdout",
     "output_type": "stream",
     "text": [
      "Geração 1 terminada\n",
      "Geração 2 terminada\n",
      "Geração 3 terminada\n",
      "Geração 4 terminada\n",
      "Geração 5 terminada\n",
      "Geração 6 terminada\n",
      "Geração 7 terminada\n",
      "Geração 8 terminada\n",
      "Geração 9 terminada\n",
      "Geração 10 terminada\n",
      "Geração 11 terminada\n",
      "Geração 12 terminada\n",
      "Geração 13 terminada\n",
      "Geração 14 terminada\n",
      "Geração 15 terminada\n",
      "Geração 16 terminada\n",
      "Geração 17 terminada\n",
      "Geração 18 terminada\n",
      "Geração 19 terminada\n",
      "Geração 20 terminada\n",
      "Geração 21 terminada\n",
      "Geração 22 terminada\n",
      "Geração 23 terminada\n",
      "Geração 24 terminada\n",
      "Geração 25 terminada\n",
      "Geração 26 terminada\n",
      "Geração 27 terminada\n",
      "Geração 28 terminada\n",
      "Geração 29 terminada\n",
      "Geração 30 terminada\n",
      "Geração 31 terminada\n",
      "Geração 32 terminada\n",
      "Geração 33 terminada\n",
      "Geração 34 terminada\n",
      "Geração 35 terminada\n",
      "Geração 36 terminada\n",
      "Geração 37 terminada\n",
      "Geração 38 terminada\n",
      "Geração 39 terminada\n",
      "Geração 40 terminada\n",
      "Geração 41 terminada\n",
      "Geração 42 terminada\n",
      "Geração 43 terminada\n",
      "Geração 44 terminada\n",
      "Geração 45 terminada\n",
      "Geração 46 terminada\n",
      "Geração 47 terminada\n",
      "Geração 48 terminada\n",
      "Geração 49 terminada\n",
      "Geração 50 terminada\n"
     ]
    }
   ],
   "source": [
    "max_generation = 50\n",
    "fitness_progress, best_individual, worst_individual = model.run(max_generation)"
   ]
  },
  {
   "cell_type": "markdown",
   "id": "d1dcd87b-4765-4dee-ae9e-1fd0d1ef3f21",
   "metadata": {},
   "source": [
    "&emsp; Agora vou plotar os gráficos do fitness médio, do melhor fitness e do pior fitness ao longo das gerações:"
   ]
  },
  {
   "cell_type": "code",
   "execution_count": 46,
   "id": "bef2ef5b-0f41-4da5-9feb-0cd00c7c0638",
   "metadata": {},
   "outputs": [],
   "source": [
    "import matplotlib.pyplot as plt\n",
    "%matplotlib inline\n",
    "\n",
    "def plotGraph(valores, titulo):\n",
    "    x1 = list(range(len(valores)))\n",
    "    plt.plot(x1, valores, 'o')\n",
    "    plt.xlabel('Gerações', fontsize = 12)\n",
    "    plt.ylabel('score', fontsize = 12)\n",
    "    plt.title(titulo,fontsize = 12 )"
   ]
  },
  {
   "cell_type": "code",
   "execution_count": 54,
   "id": "f4144204-a721-4303-9100-34a164154ee5",
   "metadata": {},
   "outputs": [
    {
     "data": {
      "image/png": "[encoded data removed]",
      "text/plain": [
       "<Figure size 432x288 with 1 Axes>"
      ]
     },
     "metadata": {
      "needs_background": "light"
     },
     "output_type": "display_data"
    }
   ],
   "source": [
    "plotGraph(fitness_progress, 'Fitness médio ao longo das gerações')"
   ]
  },
  {
   "cell_type": "code",
   "execution_count": 48,
   "id": "0ba2be43-0da9-4bbe-b619-943618d0f54e",
   "metadata": {},
   "outputs": [
    {
     "data": {
      "image/png": "[encoded data removed]",
      "text/plain": [
       "<Figure size 432x288 with 1 Axes>"
      ]
     },
     "metadata": {
      "needs_background": "light"
     },
     "output_type": "display_data"
    }
   ],
   "source": [
    "plotGraph(best_individual, 'Melhor fitness ao longo das gerações')"
   ]
  },
  {
   "cell_type": "code",
   "execution_count": 55,
   "id": "baa8856d-ab4d-4ea5-bce7-43afa16bb7cb",
   "metadata": {},
   "outputs": [
    {
     "data": {
      "image/png": "[encoded data removed]",
      "text/plain": [
       "<Figure size 432x288 with 1 Axes>"
      ]
     },
     "metadata": {
      "needs_background": "light"
     },
     "output_type": "display_data"
    }
   ],
   "source": [
    "plotGraph(worst_individual, 'Pior fitness ao longo das gerações')"
   ]
  },
  {
   "cell_type": "markdown",
   "id": "c5ea06a5-f9ca-4a5d-a741-52dd1b2ed3c2",
   "metadata": {},
   "source": [
    "<p style=\"text-align: justify;\">\n",
    "&emsp; É possível ver que o fitness médio aumentou ao longo das gerações até se estabilizar, e o maior fitness e o menor fitness ficaram muito próximos ao longo das gerações. <br>\n",
    "&emsp; Agora vou pegar o melhor indivíduo e executar 10 vezes para ver o score, após isso vou executar com a interface gráfica e deixar um gif para mostrar a execução:\n",
    "</p>"
   ]
  },
  {
   "cell_type": "code",
   "execution_count": 81,
   "id": "4ff494cc-99b7-4052-b38a-ffce3ae6a9cf",
   "metadata": {},
   "outputs": [
    {
     "name": "stdout",
     "output_type": "stream",
     "text": [
      "Score: 984.0\n",
      "Score: 983.0\n",
      "Score: 986.0\n",
      "Score: 971.0\n",
      "Score: 972.0\n",
      "Score: 983.0\n",
      "Score: 983.0\n",
      "Score: 981.0\n",
      "Score: 984.0\n",
      "Score: 985.0\n"
     ]
    }
   ],
   "source": [
    "melhor_individuo = model.best_solution[0]\n",
    "for i in range(10):\n",
    "    print('Score:', fitfunctionNoGhosts(melhor_individuo))"
   ]
  },
  {
   "cell_type": "markdown",
   "id": "c861cfa7-af1b-43e4-a45a-8ac5716fd960",
   "metadata": {},
   "source": [
    "<p style=\"text-align: justify;\">\n",
    "&emsp; Tive uma consistência bem grande nos scores e além disso o score foi alto para o caso sem os fantasmas. Vou mostrar um gif da execução desse modelo:\n",
    "</p>"
   ]
  },
  {
   "cell_type": "markdown",
   "id": "35dcd71a-d0cf-47de-adf7-1e36d51e10ec",
   "metadata": {},
   "source": [
    "<p style=\"text-align: center;\">\n",
    "&emsp;<img src=\"gifs/NoGhosts.gif\" width=\"500\" align=\"center\">\n",
    "</p>"
   ]
  },
  {
   "cell_type": "markdown",
   "id": "f0587726-004c-4552-bf53-9e707e78023f",
   "metadata": {},
   "source": [
    "### 3. Treinamento\n",
    "<p style=\"text-align: justify;\">\n",
    "&emsp; Agora vou fazer o treinamento incluindo os fantasmas para todos os layouts especificados, que são: smallClassic, mediumClassic e originalClassic. <br>\n",
    "&emsp; Mas primeiro vou definir os critérios e parâmetros que serão usados para fazer a evolução: <br>\n",
    "&emsp;-População inicial: Para aplicar o algoritmo genético irei utilizar uma população de 70 indivíduos, como tenho 7 genes em cada cromossomo, pensei que com 70 indivíduos eu terei uma variação de 10 valores diferentes para cada gene. <br>\n",
    "&emsp;-Critério de parada: Meu critério de parada será o número de gerações, no meu caso vou escolher 40 gerações. <br>\n",
    "&emsp;-Técnica de seleção: Como critério de seleção irei usar seleção por ranqueamento, como o problema do pacman está relacionado a pegar todas as comidas do tabuleiro com o maior score possível e baseando na maneira na qual eu modelei o problema, não acho que utilizar o ranqueamento me levará há um maxímo local. <br>"
   ]
  },
  {
   "cell_type": "markdown",
   "id": "59bad6b5-fa05-4320-bef8-74a7ea4eaf91",
   "metadata": {},
   "source": []
  }
 ],
 "metadata": {
  "kernelspec": {
   "display_name": "Python 3",
   "language": "python",
   "name": "python3"
  },
  "language_info": {
   "codemirror_mode": {
    "name": "ipython",
    "version": 3
   },
   "file_extension": ".py",
   "mimetype": "text/x-python",
   "name": "python",
   "nbconvert_exporter": "python",
   "pygments_lexer": "ipython3",
   "version": "3.8.8"
  }
 },
 "nbformat": 4,
 "nbformat_minor": 5
}
