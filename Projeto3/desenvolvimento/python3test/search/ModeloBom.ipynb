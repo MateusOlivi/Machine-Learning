{
 "cells": [
  {
   "cell_type": "code",
   "execution_count": 2,
   "id": "74b9cc63-1107-458c-bd09-1d9e3ff56485",
   "metadata": {},
   "outputs": [],
   "source": [
    "from pacman import runGames,loadAgent\n",
    "from pacman import Directions\n",
    "from util import Queue\n",
    "import textDisplay\n",
    "import game\n",
    "import layout\n",
    "import random\n",
    "import graphicsDisplay\n",
    "\n",
    "import numpy as np"
   ]
  },
  {
   "cell_type": "code",
   "execution_count": 3,
   "id": "31d9fd21-a765-449f-b7f3-e0d8c49f1578",
   "metadata": {},
   "outputs": [],
   "source": [
    "class SmartAgent(game.Agent):\n",
    "    \"An agent that does whatever he feels like doing\"  \n",
    "    \n",
    "    def __init__(self, pesos):\n",
    "        self.pesos = pesos\n",
    "        \n",
    "    def getAction(self, state):\n",
    "        legal = state.getLegalPacmanActions()\n",
    "        if Directions.STOP in legal: legal.remove(Directions.STOP)\n",
    "    \n",
    "        currentState = state\n",
    "        \n",
    "        successors = [(state.generateSuccessor(0, action), action) for action in legal]\n",
    "        scored = [(self.scoreEvaluation(state, currentState), action) for state, action in successors]\n",
    "        bestScore = max(scored)[0]\n",
    "        bestActions = [pair[1] for pair in scored if pair[0] == bestScore]\n",
    "        \n",
    "        return random.choice(bestActions)\n",
    "        \n",
    "    def getLegalSteps(self, pos, walls, visited):\n",
    "        \n",
    "        coluna=pos[0]\n",
    "        linha=pos[1]\n",
    "        \n",
    "        lista=[]\n",
    "\n",
    "        if(coluna+1 <walls.width):\n",
    "            if(walls[coluna+1][linha]==False and visited[coluna+1][linha]==0):\n",
    "                lista.append((coluna+1,linha))\n",
    "        if(coluna-1 >= 0):\n",
    "            if(walls[coluna-1][linha]==False and visited[coluna-1][linha]==0):\n",
    "                lista.append((coluna-1,linha))\n",
    "        if(linha+1 <walls.height ):\n",
    "            if(walls[coluna][linha+1]==False and visited[coluna][linha+1]==0):\n",
    "                lista.append((coluna,linha+1))\n",
    "        if(linha-1 >= 0):\n",
    "            if(walls[coluna][linha-1]==False and visited[coluna][linha-1]==0):\n",
    "                lista.append((coluna,linha-1))\n",
    "        return lista\n",
    "    \n",
    "    def findNearestFood(self, state, posIni):\n",
    "        walls= state.getWalls()\n",
    "        foods= state.getFood()\n",
    "        queue = Queue()\n",
    "        \n",
    "        \n",
    "        visited=np.zeros((walls.width,walls.height))\n",
    "        visited[posIni[0]][posIni[1]]=1\n",
    "                \n",
    "        matHeight=foods.height\n",
    "        matWidth=foods.width\n",
    "        \n",
    "        queue.push((posIni, 1))\n",
    "        while(not queue.isEmpty()):\n",
    "            current=queue.pop()\n",
    "            pos=current[0]\n",
    "            stepsUntilNow=current[1]\n",
    "            \n",
    "            if(foods[pos[0]][pos[1]]==True):\n",
    "                return stepsUntilNow\n",
    "            \n",
    "            visited[pos[0]][pos[1]]=1\n",
    "            possibles=self.getLegalSteps(pos,walls, visited) # pos = (x,y), walls = matriz true/falso, visitados  [(2,2),(2,1),(2,3)]\n",
    "            for possibleMove in possibles:\n",
    "                queue.push( (possibleMove, stepsUntilNow+1))\n",
    "        return -1\n",
    "    \n",
    "    def bfsDistance(self, state, posIni, endPos):\n",
    "        walls= state.getWalls()\n",
    "        queue = Queue()\n",
    "        \n",
    "        \n",
    "        visited=np.zeros((walls.width,walls.height))\n",
    "        visited[posIni[0]][posIni[1]]=1\n",
    "                \n",
    "        queue.push((posIni, 1))\n",
    "        while(not queue.isEmpty()):\n",
    "            current=queue.pop()\n",
    "            pos=current[0]\n",
    "            stepsUntilNow=current[1]\n",
    "            \n",
    "            if(pos[0] == endPos[0] and pos[1] == endPos[1]):\n",
    "                return stepsUntilNow\n",
    "            \n",
    "            visited[pos[0]][pos[1]]=1\n",
    "            possibles = self.getLegalSteps(pos,walls, visited) # pos = (x,y), walls = matriz true/falso, visitados  [(2,2),(2,1),(2,3)]\n",
    "            for possibleMove in possibles:\n",
    "                queue.push( (possibleMove, stepsUntilNow+1))\n",
    "        return -1\n",
    "    \n",
    "    def ghostDistances(self, state):\n",
    "        ghostPositions = state.getGhostPositions() \n",
    "        pacmanPosition = state.getPacmanPosition()\n",
    "        \n",
    "        distancias = []\n",
    "    \n",
    "        for i in range(len(ghostPositions)):\n",
    "            dist = self.bfsDistance(state, pacmanPosition, ghostPositions[i])\n",
    "            distancias.append(dist)\n",
    "        \n",
    "        return distancias\n",
    "    \n",
    "    def bonusByGhostDistance(self, peso, distancias, state):\n",
    "        n_ghosts = len(distancias)\n",
    "        scared_timer = []\n",
    "\n",
    "        for i in range(n_ghosts):\n",
    "            scared_timer.append(state.getGhostStates()[i].scaredTimer)\n",
    "            \n",
    "        bonus = 0\n",
    "        for i in range(n_ghosts):\n",
    "            if(scared_timer[i] == 0):\n",
    "                bonus += peso*distancias[i]\n",
    "        return bonus\n",
    "    \n",
    "    def capsuleDistanceBonus(self, peso, state):\n",
    "        pacmanPosition = state.getPacmanPosition()\n",
    "        capsulePositions = state.getCapsules() \n",
    "        \n",
    "        bonus = 0\n",
    "        for capsule in capsulePositions:\n",
    "            distancia = self.bfsDistance(state, pacmanPosition, capsule)\n",
    "            bonus -= peso*distancia\n",
    "        return bonus\n",
    "    \n",
    "    def capsuleComsumptionBonus(self, peso, state, currentState):\n",
    "        capsulePositions = state.getCapsules() \n",
    "        numCapsulesCurrentState = len(currentState.getCapsules())\n",
    "\n",
    "        num_capsulas = numCapsulesCurrentState\n",
    "        num_capsulas_estado_seguinte = len(capsulePositions)\n",
    "        \n",
    "        bonus = (num_capsulas - num_capsulas_estado_seguinte) * peso\n",
    "        \n",
    "        return bonus\n",
    "    \n",
    "    def countScaredGhosts(self, state):\n",
    "        total=0\n",
    "        for ghost in state.getGhostStates():\n",
    "            if(ghost.scaredTimer !=0):\n",
    "                total+=1\n",
    "        return total\n",
    "    \n",
    "    def scaredGhostBonus(self, peso, state, distancias):\n",
    "        n_ghosts = self.countScaredGhosts(state)\n",
    "        scared_timer = []\n",
    "\n",
    "        for i in range(n_ghosts):\n",
    "            scared_timer.append(state.getGhostStates()[i].scaredTimer)\n",
    "            \n",
    "        bonus = 0\n",
    "        for i in range(n_ghosts):\n",
    "            if(scared_timer[i] != 0):\n",
    "                bonus -= peso*distancias[i]\n",
    "        return bonus\n",
    "    \n",
    "    def eatScaredGhosts(self, peso, state, currentState):\n",
    "        \n",
    "        currentScaredGhosts=self.countScaredGhosts(currentState)\n",
    "        scaredGhostsInThisState = self.countScaredGhosts(state)\n",
    "        \n",
    "        dif = currentScaredGhosts - scaredGhostsInThisState\n",
    "        \n",
    "        bonus=0\n",
    "        if(dif > 0):\n",
    "            bonus= peso * dif\n",
    "        return bonus\n",
    "    \n",
    "    def nearestFoodBonus(self, peso, state):\n",
    "        pacmanPosition = state.getPacmanPosition()\n",
    "        nearestFoodDistance= self.findNearestFood(state, pacmanPosition)\n",
    "        bonus = -1* peso * nearestFoodDistance       \n",
    "        \n",
    "        return bonus\n",
    "    \n",
    "    def eatFoodBonus(self, peso, state, currentState):\n",
    "        foodMatrix = state.getFood()\n",
    "        currentFoodMatrix = currentState.getFood()\n",
    "\n",
    "        diff = currentFoodMatrix.count(True) - foodMatrix.count(True)\n",
    "        bonus = peso*diff\n",
    "        \n",
    "        return bonus\n",
    "    def scoreEvaluation(self, state, currentState):\n",
    "        \n",
    "        p1 = self.pesos[0]\n",
    "        p2 = self.pesos[1]\n",
    "        p3 = self.pesos[2]\n",
    "        p4 = self.pesos[3]\n",
    "        p5 = self.pesos[4]\n",
    "        p6 = self.pesos[5]\n",
    "        p7 = self.pesos[6]\n",
    "        \n",
    "        score = state.getScore()\n",
    "        \n",
    "        distancias_fantasmas = self.ghostDistances(state)\n",
    "        bonus_distancia_fantasmas = self.bonusByGhostDistance(p1, distancias_fantasmas, state)\n",
    "        \n",
    "        bonus_fantasmas_assustados = self.scaredGhostBonus(p2, state, distancias_fantasmas)\n",
    "        bonus_comer_fantasmas = self.eatScaredGhosts(p3*abs(bonus_fantasmas_assustados) + p3*abs(bonus_distancia_fantasmas), state, currentState)\n",
    "        \n",
    "        bonus_comida_proxima =  self.nearestFoodBonus(p4, state)            \n",
    "        bonus_comer_comida = self.eatFoodBonus(p5*abs(bonus_comida_proxima), state, currentState)  \n",
    "        \n",
    "        bonus_distancia_capsula = self.capsuleDistanceBonus(p6, state)\n",
    "        bonus_consumir_capsula = self.capsuleComsumptionBonus(p7*abs(bonus_distancia_capsula) + p7*abs(bonus_fantasmas_assustados), state, currentState) \n",
    "        \n",
    "        formula = score + bonus_distancia_fantasmas + bonus_distancia_capsula + bonus_consumir_capsula + bonus_fantasmas_assustados + bonus_comer_fantasmas + bonus_comida_proxima + bonus_comer_comida\n",
    "        \n",
    "        return formula"
   ]
  },
  {
   "cell_type": "code",
   "execution_count": 4,
   "id": "8b702aac-d23f-4641-83fb-7503fe64efcb",
   "metadata": {},
   "outputs": [],
   "source": [
    "def fitfunction(pesos):\n",
    "    props={}\n",
    "    pacman = SmartAgent(pesos)\n",
    "    ghostType = loadAgent('RandomGhost', True)\n",
    "    textDisplay.SLEEP_TIME = 0\n",
    "    props['layout'] = layout.getLayout( 'smallClassic' )\n",
    "    props['pacman'] = pacman\n",
    "    props['ghosts'] = [ghostType( i+1 ) for i in range( 2 )]\n",
    "    props['display'] = textDisplay.NullGraphics()\n",
    "    #props['display'] = graphicsDisplay.PacmanGraphics(1, frameTime = 0.1)\n",
    "    props['numGames'] = 1\n",
    "    props['record'] = False\n",
    "    props['catchExceptions'] = True\n",
    "    props['timeout'] = 1\n",
    "    \n",
    "    res = runGames(**props)\n",
    "    scores = [game.state.getScore() for game in res]\n",
    "    avgScore = sum(scores) / float(len(scores))\n",
    "       \n",
    "    return avgScore"
   ]
  },
  {
   "cell_type": "code",
   "execution_count": 9,
   "id": "9767be5f-3579-4de2-a07a-0188f9df6200",
   "metadata": {},
   "outputs": [
    {
     "name": "stdout",
     "output_type": "stream",
     "text": [
      "Pacman emerges victorious! Score: 1573\n"
     ]
    },
    {
     "data": {
      "text/plain": [
       "1573.0"
      ]
     },
     "execution_count": 9,
     "metadata": {},
     "output_type": "execute_result"
    }
   ],
   "source": [
    "fitfunction([1.5,3,5,2,2,2,7])"
   ]
  },
  {
   "cell_type": "code",
   "execution_count": 5,
   "id": "aa1fbdfe-31b5-4343-9bff-fd4cb698734a",
   "metadata": {},
   "outputs": [],
   "source": [
    "import geneticalgs as ge\n",
    "\n",
    "model = ge.RealGA(fitness_func = fitfunction, optim='max', selection=\"rank\", mut_prob=0.15, mut_type=1,\n",
    "                  cross_prob=0.9, cross_type=2, elitism=True, tournament_size=None)"
   ]
  },
  {
   "cell_type": "code",
   "execution_count": null,
   "id": "29d78ffd-54b4-4542-bc3f-6a378edeee98",
   "metadata": {
    "scrolled": true,
    "tags": []
   },
   "outputs": [
    {
     "name": "stdout",
     "output_type": "stream",
     "text": [
      "$PYTHONPATH\n",
      "['$PYTHONPATH']\n"
     ]
    },
    {
     "name": "stderr",
     "output_type": "stream",
     "text": [
      "Agent 0 ran out of time! (time: 1.02)\n"
     ]
    },
    {
     "name": "stdout",
     "output_type": "stream",
     "text": [
      "Pacman crashed\n",
      "$PYTHONPATH\n",
      "['$PYTHONPATH']\n"
     ]
    },
    {
     "name": "stderr",
     "output_type": "stream",
     "text": [
      "Agent 0 ran out of time! (time: 1.00)\n"
     ]
    },
    {
     "name": "stdout",
     "output_type": "stream",
     "text": [
      "Pacman crashed\n",
      "$PYTHONPATH\n",
      "['$PYTHONPATH']\n",
      "Pacman died! Score: -30\n",
      "$PYTHONPATH\n",
      "['$PYTHONPATH']\n"
     ]
    },
    {
     "name": "stderr",
     "output_type": "stream",
     "text": [
      "Agent 0 ran out of time! (time: 1.00)\n"
     ]
    },
    {
     "name": "stdout",
     "output_type": "stream",
     "text": [
      "Pacman crashed\n",
      "$PYTHONPATH\n",
      "['$PYTHONPATH']\n",
      "Pacman died! Score: 149\n",
      "$PYTHONPATH\n",
      "['$PYTHONPATH']\n"
     ]
    },
    {
     "name": "stderr",
     "output_type": "stream",
     "text": [
      "Agent 0 ran out of time! (time: 1.01)\n"
     ]
    },
    {
     "name": "stdout",
     "output_type": "stream",
     "text": [
      "Pacman crashed\n",
      "$PYTHONPATH\n",
      "['$PYTHONPATH']\n",
      "Pacman died! Score: 324\n",
      "$PYTHONPATH\n",
      "['$PYTHONPATH']\n"
     ]
    },
    {
     "name": "stderr",
     "output_type": "stream",
     "text": [
      "Agent 0 ran out of time! (time: 1.02)\n"
     ]
    },
    {
     "name": "stdout",
     "output_type": "stream",
     "text": [
      "Pacman crashed\n",
      "$PYTHONPATH\n",
      "['$PYTHONPATH']\n"
     ]
    }
   ],
   "source": [
    "population_size = 100\n",
    "dimensao = 7 # numero de argumentos da funcao        \n",
    "interval = (0,10)\n",
    "\n",
    "model.init_random_population(population_size, dimensao, interval)"
   ]
  },
  {
   "cell_type": "code",
   "execution_count": 6,
   "id": "5f65545a-ed19-41d3-b8a3-aba54dd8ce44",
   "metadata": {
    "scrolled": true,
    "tags": []
   },
   "outputs": [
    {
     "name": "stdout",
     "output_type": "stream",
     "text": [
      "Pacman died! Score: 508\n",
      "Pacman emerges victorious! Score: 1178\n",
      "Pacman emerges victorious! Score: 1505\n",
      "Pacman died! Score: 31\n"
     ]
    },
    {
     "name": "stderr",
     "output_type": "stream",
     "text": [
      "Agent 0 ran out of time! (time: 1.00)\n"
     ]
    },
    {
     "name": "stdout",
     "output_type": "stream",
     "text": [
      "Pacman crashed\n",
      "Pacman died! Score: 689\n",
      "Pacman emerges victorious! Score: 1185\n",
      "Pacman emerges victorious! Score: 1562\n",
      "Pacman emerges victorious! Score: 1764\n",
      "Pacman died! Score: 356\n",
      "Pacman died! Score: 20\n",
      "Pacman emerges victorious! Score: 1271\n"
     ]
    },
    {
     "name": "stderr",
     "output_type": "stream",
     "text": [
      "Agent 0 ran out of time! (time: 1.00)\n"
     ]
    },
    {
     "name": "stdout",
     "output_type": "stream",
     "text": [
      "Pacman crashed\n",
      "Pacman died! Score: -352\n"
     ]
    },
    {
     "name": "stderr",
     "output_type": "stream",
     "text": [
      "Agent 0 ran out of time! (time: 1.00)\n"
     ]
    },
    {
     "name": "stdout",
     "output_type": "stream",
     "text": [
      "Pacman crashed\n",
      "Pacman emerges victorious! Score: 1577\n",
      "Pacman died! Score: 448\n",
      "Pacman died! Score: 33\n",
      "Pacman died! Score: -390\n",
      "Pacman emerges victorious! Score: 1579\n",
      "Pacman died! Score: -335\n",
      "Pacman died! Score: 498\n",
      "Pacman emerges victorious! Score: 1339\n",
      "Pacman emerges victorious! Score: 1384\n",
      "Pacman died! Score: 364\n",
      "Pacman emerges victorious! Score: 943\n",
      "Pacman emerges victorious! Score: 1547\n",
      "Pacman emerges victorious! Score: 1360\n",
      "Pacman died! Score: -126\n",
      "Pacman emerges victorious! Score: 1171\n",
      "Pacman died! Score: 140\n",
      "Pacman emerges victorious! Score: 1480\n",
      "Pacman emerges victorious! Score: 1531\n",
      "Pacman died! Score: 286\n",
      "Pacman died! Score: 50\n",
      "Pacman died! Score: 643\n"
     ]
    },
    {
     "name": "stderr",
     "output_type": "stream",
     "text": [
      "Agent 0 ran out of time! (time: 1.02)\n"
     ]
    },
    {
     "name": "stdout",
     "output_type": "stream",
     "text": [
      "Pacman crashed\n",
      "Pacman emerges victorious! Score: 1755\n",
      "Pacman emerges victorious! Score: 1743\n",
      "Pacman died! Score: 90\n",
      "Pacman died! Score: 48\n",
      "Pacman died! Score: -167\n",
      "Pacman died! Score: -167\n",
      "Pacman died! Score: 2\n",
      "Pacman emerges victorious! Score: 1383\n",
      "Pacman emerges victorious! Score: 1448\n"
     ]
    },
    {
     "name": "stderr",
     "output_type": "stream",
     "text": [
      "Agent 0 ran out of time! (time: 1.02)\n"
     ]
    },
    {
     "name": "stdout",
     "output_type": "stream",
     "text": [
      "Pacman crashed\n",
      "Pacman emerges victorious! Score: 1571\n",
      "Pacman emerges victorious! Score: 1129\n",
      "Pacman emerges victorious! Score: 1543\n",
      "Pacman died! Score: 612\n",
      "Pacman died! Score: -410\n",
      "Pacman died! Score: 37\n",
      "Pacman emerges victorious! Score: 1770\n",
      "Pacman died! Score: 627\n",
      "Pacman died! Score: 247\n",
      "Pacman died! Score: -92\n",
      "Pacman died! Score: -288\n",
      "Pacman died! Score: -47\n",
      "Pacman died! Score: 525\n",
      "Pacman emerges victorious! Score: 1579\n",
      "Pacman died! Score: -123\n",
      "Pacman emerges victorious! Score: 1347\n",
      "Pacman died! Score: -160\n",
      "Pacman emerges victorious! Score: 966\n",
      "Pacman emerges victorious! Score: 1566\n",
      "Pacman emerges victorious! Score: 1165\n",
      "Pacman died! Score: 461\n",
      "Pacman died! Score: 74\n",
      "Pacman emerges victorious! Score: 1173\n",
      "Pacman died! Score: -154\n",
      "Pacman died! Score: 198\n"
     ]
    },
    {
     "name": "stderr",
     "output_type": "stream",
     "text": [
      "Agent 0 ran out of time! (time: 1.02)\n"
     ]
    },
    {
     "name": "stdout",
     "output_type": "stream",
     "text": [
      "Pacman crashed\n",
      "Pacman died! Score: 267\n",
      "Pacman emerges victorious! Score: 1351\n",
      "Pacman died! Score: 148\n",
      "Pacman emerges victorious! Score: 1282\n",
      "Pacman emerges victorious! Score: 1573\n",
      "Pacman died! Score: 428\n",
      "Pacman emerges victorious! Score: 1407\n",
      "Pacman died! Score: -288\n",
      "Pacman emerges victorious! Score: 1372\n",
      "Pacman died! Score: -167\n",
      "Pacman died! Score: 436\n",
      "Pacman emerges victorious! Score: 1580\n",
      "Pacman emerges victorious! Score: 1561\n",
      "Pacman died! Score: 113\n",
      "Pacman emerges victorious! Score: 960\n",
      "Pacman emerges victorious! Score: 1375\n",
      "Pacman emerges victorious! Score: 1572\n",
      "Pacman died! Score: 101\n",
      "Pacman died! Score: 355\n",
      "Pacman emerges victorious! Score: 1624\n",
      "Pacman died! Score: 280\n",
      "Pacman died! Score: -89\n"
     ]
    },
    {
     "name": "stderr",
     "output_type": "stream",
     "text": [
      "Agent 0 ran out of time! (time: 1.02)\n"
     ]
    },
    {
     "name": "stdout",
     "output_type": "stream",
     "text": [
      "Pacman crashed\n",
      "Pacman died! Score: -83\n"
     ]
    },
    {
     "name": "stderr",
     "output_type": "stream",
     "text": [
      "Agent 0 ran out of time! (time: 1.02)\n"
     ]
    },
    {
     "name": "stdout",
     "output_type": "stream",
     "text": [
      "Pacman crashed\n",
      "Pacman died! Score: -220\n",
      "Pacman died! Score: 24\n",
      "Pacman emerges victorious! Score: 1546\n",
      "Pacman died! Score: 33\n",
      "Pacman died! Score: 29\n",
      "Pacman died! Score: -213\n",
      "Pacman died! Score: -158\n",
      "Pacman died! Score: 492\n",
      "Pacman died! Score: 270\n",
      "Pacman emerges victorious! Score: 1177\n",
      "Pacman died! Score: 645\n",
      "Pacman emerges victorious! Score: 947\n",
      "Pacman emerges victorious! Score: 1174\n",
      "Pacman died! Score: 563\n",
      "Pacman died! Score: 467\n",
      "Pacman emerges victorious! Score: 1497\n",
      "Pacman emerges victorious! Score: 1761\n",
      "Pacman died! Score: 625\n",
      "Pacman died! Score: 160\n",
      "Pacman died! Score: 456\n",
      "Pacman emerges victorious! Score: 1180\n",
      "Pacman died! Score: 110\n",
      "Pacman emerges victorious! Score: 1559\n",
      "Pacman died! Score: -167\n",
      "Pacman died! Score: 279\n",
      "Pacman died! Score: 162\n",
      "Pacman died! Score: 40\n",
      "Pacman emerges victorious! Score: 1347\n",
      "Pacman died! Score: -52\n",
      "Pacman emerges victorious! Score: 1570\n",
      "Pacman died! Score: 287\n",
      "Pacman died! Score: 368\n",
      "Pacman died! Score: -15\n",
      "Pacman died! Score: -34\n",
      "Pacman emerges victorious! Score: 1180\n",
      "Pacman died! Score: 124\n",
      "Pacman died! Score: 424\n",
      "Pacman died! Score: 49\n",
      "Pacman died! Score: 472\n",
      "Pacman died! Score: -347\n"
     ]
    },
    {
     "name": "stderr",
     "output_type": "stream",
     "text": [
      "Agent 0 ran out of time! (time: 1.01)\n"
     ]
    },
    {
     "name": "stdout",
     "output_type": "stream",
     "text": [
      "Pacman crashed\n",
      "Pacman emerges victorious! Score: 1548\n",
      "Pacman died! Score: -158\n",
      "Pacman died! Score: -298\n",
      "Pacman emerges victorious! Score: 1182\n",
      "Pacman died! Score: 29\n",
      "Pacman died! Score: 386\n",
      "Pacman emerges victorious! Score: 1037\n",
      "Pacman died! Score: -160\n",
      "Pacman died! Score: -29\n",
      "Pacman died! Score: 352\n",
      "Pacman emerges victorious! Score: 1586\n",
      "Pacman emerges victorious! Score: 1568\n",
      "Pacman died! Score: 113\n",
      "Pacman died! Score: 333\n",
      "Pacman emerges victorious! Score: 969\n",
      "Pacman died! Score: 603\n",
      "Pacman died! Score: 33\n",
      "Pacman emerges victorious! Score: 1522\n",
      "Pacman died! Score: -73\n",
      "Pacman emerges victorious! Score: 1378\n",
      "Pacman emerges victorious! Score: 1369\n",
      "Pacman died! Score: 219\n",
      "Pacman died! Score: 33\n",
      "Pacman died! Score: -150\n",
      "Pacman emerges victorious! Score: 1380\n",
      "Pacman died! Score: 95\n"
     ]
    },
    {
     "name": "stderr",
     "output_type": "stream",
     "text": [
      "Agent 0 ran out of time! (time: 1.02)\n"
     ]
    },
    {
     "name": "stdout",
     "output_type": "stream",
     "text": [
      "Pacman crashed\n",
      "Pacman emerges victorious! Score: 1375\n",
      "Pacman died! Score: -85\n",
      "Pacman died! Score: 173\n",
      "Pacman died! Score: 211\n",
      "Pacman died! Score: 483\n",
      "Pacman died! Score: 554\n"
     ]
    },
    {
     "name": "stderr",
     "output_type": "stream",
     "text": [
      "Agent 0 ran out of time! (time: 1.02)\n"
     ]
    },
    {
     "name": "stdout",
     "output_type": "stream",
     "text": [
      "Pacman crashed\n",
      "Pacman emerges victorious! Score: 1182\n",
      "Pacman died! Score: 467\n",
      "Pacman died! Score: 33\n",
      "Pacman emerges victorious! Score: 1461\n",
      "Pacman emerges victorious! Score: 1174\n",
      "Pacman died! Score: 372\n",
      "Pacman died! Score: 247\n",
      "Pacman died! Score: 203\n",
      "Pacman died! Score: -22\n",
      "Pacman died! Score: 250\n",
      "Pacman died! Score: -410\n",
      "Pacman emerges victorious! Score: 1574\n",
      "Pacman emerges victorious! Score: 1313\n",
      "Pacman emerges victorious! Score: 1374\n",
      "Pacman died! Score: 225\n",
      "Pacman died! Score: 349\n",
      "Pacman emerges victorious! Score: 1783\n",
      "Pacman died! Score: 235\n",
      "Pacman died! Score: 228\n",
      "Pacman emerges victorious! Score: 1377\n",
      "Pacman emerges victorious! Score: 1375\n",
      "Pacman emerges victorious! Score: 1173\n",
      "Pacman died! Score: 113\n",
      "Pacman died! Score: 108\n",
      "Pacman died! Score: -124\n",
      "Pacman emerges victorious! Score: 1381\n",
      "Pacman emerges victorious! Score: 1385\n",
      "Pacman died! Score: 47\n",
      "Pacman emerges victorious! Score: 1756\n",
      "Pacman emerges victorious! Score: 1339\n",
      "Pacman emerges victorious! Score: 1560\n",
      "Pacman died! Score: 576\n",
      "Pacman emerges victorious! Score: 1176\n",
      "Pacman emerges victorious! Score: 1730\n",
      "Pacman died! Score: -117\n",
      "Pacman died! Score: 142\n",
      "Pacman emerges victorious! Score: 1370\n",
      "Pacman emerges victorious! Score: 967\n",
      "Pacman emerges victorious! Score: 1573\n",
      "Pacman died! Score: -167\n",
      "Pacman emerges victorious! Score: 1571\n",
      "Pacman emerges victorious! Score: 1578\n",
      "Pacman emerges victorious! Score: 1378\n",
      "Pacman died! Score: -167\n",
      "Pacman died! Score: 245\n",
      "Pacman died! Score: 348\n",
      "Pacman died! Score: 21\n",
      "Pacman emerges victorious! Score: 1342\n",
      "Pacman emerges victorious! Score: 1579\n",
      "Pacman died! Score: 133\n",
      "Pacman emerges victorious! Score: 1369\n",
      "Pacman died! Score: 302\n",
      "Pacman died! Score: 342\n",
      "Pacman died! Score: 78\n",
      "Pacman died! Score: -158\n",
      "Pacman emerges victorious! Score: 1577\n",
      "Pacman emerges victorious! Score: 1563\n",
      "Pacman died! Score: 468\n",
      "Pacman emerges victorious! Score: 1376\n",
      "Pacman emerges victorious! Score: 1544\n",
      "Pacman died! Score: 381\n",
      "Pacman died! Score: 346\n",
      "Pacman emerges victorious! Score: 1379\n",
      "Pacman died! Score: 388\n",
      "Pacman emerges victorious! Score: 1380\n",
      "Pacman died! Score: -169\n",
      "Pacman died! Score: 0\n",
      "Pacman emerges victorious! Score: 1350\n",
      "Pacman died! Score: 52\n",
      "Pacman emerges victorious! Score: 1168\n",
      "Pacman emerges victorious! Score: 1366\n",
      "Pacman emerges victorious! Score: 1312\n",
      "Pacman died! Score: 380\n",
      "Pacman died! Score: -167\n",
      "Pacman died! Score: 410\n",
      "Pacman emerges victorious! Score: 1346\n",
      "Pacman emerges victorious! Score: 1373\n",
      "Pacman emerges victorious! Score: 1379\n",
      "Pacman emerges victorious! Score: 1572\n",
      "Pacman emerges victorious! Score: 1169\n",
      "Pacman emerges victorious! Score: 1136\n",
      "Pacman emerges victorious! Score: 1547\n",
      "Pacman emerges victorious! Score: 1573\n",
      "Pacman emerges victorious! Score: 1510\n",
      "Pacman died! Score: 414\n",
      "Pacman died! Score: 344\n",
      "Pacman emerges victorious! Score: 1679\n",
      "Pacman died! Score: 261\n",
      "Pacman died! Score: 357\n",
      "Pacman died! Score: 71\n",
      "Pacman died! Score: -158\n",
      "Pacman emerges victorious! Score: 1379\n",
      "Pacman died! Score: 16\n",
      "Pacman emerges victorious! Score: 1578\n",
      "Pacman died! Score: -280\n",
      "Pacman died! Score: 40\n",
      "Pacman emerges victorious! Score: 1578\n",
      "Pacman emerges victorious! Score: 1569\n",
      "Pacman died! Score: 641\n",
      "Pacman emerges victorious! Score: 1346\n",
      "Pacman emerges victorious! Score: 1185\n",
      "Pacman died! Score: 454\n",
      "Pacman emerges victorious! Score: 1704\n",
      "Pacman emerges victorious! Score: 1366\n",
      "Pacman died! Score: 506\n",
      "Pacman emerges victorious! Score: 1371\n",
      "Pacman emerges victorious! Score: 1377\n",
      "Pacman died! Score: 402\n",
      "Pacman died! Score: 176\n",
      "Pacman died! Score: 42\n",
      "Pacman emerges victorious! Score: 1763\n",
      "Pacman emerges victorious! Score: 1481\n",
      "Pacman emerges victorious! Score: 1453\n",
      "Pacman emerges victorious! Score: 1696\n",
      "Pacman died! Score: 2\n",
      "Pacman died! Score: 471\n",
      "Pacman emerges victorious! Score: 1179\n",
      "Pacman died! Score: -167\n",
      "Pacman emerges victorious! Score: 1571\n",
      "Pacman emerges victorious! Score: 1507\n",
      "Pacman emerges victorious! Score: 1579\n",
      "Pacman emerges victorious! Score: 1165\n",
      "Pacman emerges victorious! Score: 1567\n",
      "Pacman died! Score: 210\n",
      "Pacman died! Score: 263\n",
      "Pacman emerges victorious! Score: 1372\n",
      "Pacman emerges victorious! Score: 1569\n",
      "Pacman died! Score: -168\n",
      "Pacman died! Score: 139\n",
      "Pacman died! Score: -160\n",
      "Pacman emerges victorious! Score: 1562\n",
      "Pacman emerges victorious! Score: 1579\n",
      "Pacman emerges victorious! Score: 1580\n",
      "Pacman emerges victorious! Score: 1780\n",
      "Pacman emerges victorious! Score: 1349\n",
      "Pacman emerges victorious! Score: 1376\n",
      "Pacman emerges victorious! Score: 1379\n",
      "Pacman emerges victorious! Score: 1551\n",
      "Pacman emerges victorious! Score: 1375\n",
      "Pacman died! Score: 204\n",
      "Pacman died! Score: 141\n",
      "Pacman emerges victorious! Score: 1165\n",
      "Pacman died! Score: 514\n",
      "Pacman died! Score: 102\n",
      "Pacman died! Score: 342\n",
      "Pacman died! Score: 78\n",
      "Pacman emerges victorious! Score: 1414\n",
      "Pacman emerges victorious! Score: 1182\n",
      "Pacman emerges victorious! Score: 1375\n",
      "Pacman emerges victorious! Score: 1256\n",
      "Pacman died! Score: 241\n",
      "Pacman emerges victorious! Score: 1478\n",
      "Pacman emerges victorious! Score: 1368\n",
      "Pacman died! Score: -158\n",
      "Pacman died! Score: -431\n",
      "Pacman emerges victorious! Score: 1672\n",
      "Pacman died! Score: 331\n",
      "Pacman died! Score: 405\n",
      "Pacman emerges victorious! Score: 1578\n",
      "Pacman emerges victorious! Score: 1760\n",
      "Pacman emerges victorious! Score: 1559\n",
      "Pacman died! Score: 405\n",
      "Pacman emerges victorious! Score: 1338\n",
      "Pacman emerges victorious! Score: 1574\n",
      "Pacman emerges victorious! Score: 1583\n",
      "Pacman died! Score: 338\n",
      "Pacman died! Score: 474\n",
      "Pacman emerges victorious! Score: 1578\n",
      "Pacman emerges victorious! Score: 1482\n",
      "Pacman died! Score: 117\n",
      "Pacman died! Score: -200\n",
      "Pacman emerges victorious! Score: 1556\n",
      "Pacman died! Score: -158\n",
      "Pacman emerges victorious! Score: 1572\n",
      "Pacman died! Score: 259\n",
      "Pacman emerges victorious! Score: 1768\n",
      "Pacman died! Score: 225\n",
      "Pacman emerges victorious! Score: 1380\n",
      "Pacman died! Score: -167\n",
      "Pacman emerges victorious! Score: 1773\n",
      "Pacman emerges victorious! Score: 1502\n",
      "Pacman emerges victorious! Score: 1576\n",
      "Pacman emerges victorious! Score: 1580\n",
      "Pacman emerges victorious! Score: 1562\n",
      "Pacman emerges victorious! Score: 1359\n",
      "Pacman emerges victorious! Score: 1568\n",
      "Pacman died! Score: 176\n",
      "Pacman emerges victorious! Score: 1764\n",
      "Pacman died! Score: 491\n",
      "Pacman died! Score: 390\n"
     ]
    },
    {
     "name": "stderr",
     "output_type": "stream",
     "text": [
      "Agent 0 ran out of time! (time: 1.02)\n"
     ]
    },
    {
     "name": "stdout",
     "output_type": "stream",
     "text": [
      "Pacman crashed\n",
      "Pacman died! Score: 298\n",
      "Pacman emerges victorious! Score: 1377\n",
      "Pacman died! Score: -163\n",
      "Pacman emerges victorious! Score: 1534\n",
      "Pacman emerges victorious! Score: 1478\n",
      "Pacman emerges victorious! Score: 1224\n",
      "Pacman died! Score: -186\n",
      "Pacman emerges victorious! Score: 1575\n",
      "Pacman emerges victorious! Score: 1379\n",
      "Pacman emerges victorious! Score: 1321\n",
      "Pacman died! Score: 626\n",
      "Pacman emerges victorious! Score: 1768\n",
      "Pacman died! Score: 314\n",
      "Pacman emerges victorious! Score: 1571\n",
      "Pacman emerges victorious! Score: 1769\n"
     ]
    },
    {
     "name": "stderr",
     "output_type": "stream",
     "text": [
      "Agent 0 ran out of time! (time: 1.02)\n"
     ]
    },
    {
     "name": "stdout",
     "output_type": "stream",
     "text": [
      "Pacman crashed\n",
      "Pacman emerges victorious! Score: 1572\n",
      "Pacman died! Score: 358\n",
      "Pacman died! Score: 350\n",
      "Pacman died! Score: 65\n",
      "Pacman died! Score: 474\n",
      "Pacman emerges victorious! Score: 1327\n",
      "Pacman emerges victorious! Score: 1770\n",
      "Pacman emerges victorious! Score: 1578\n",
      "Pacman died! Score: 393\n",
      "Pacman emerges victorious! Score: 1373\n",
      "Pacman emerges victorious! Score: 1564\n",
      "Pacman emerges victorious! Score: 1540\n",
      "Pacman emerges victorious! Score: 1279\n",
      "Pacman emerges victorious! Score: 1376\n",
      "Pacman died! Score: 440\n",
      "Pacman died! Score: -158\n",
      "Pacman died! Score: -56\n",
      "Pacman died! Score: 665\n",
      "Pacman emerges victorious! Score: 834\n",
      "Pacman emerges victorious! Score: 1764\n",
      "Pacman emerges victorious! Score: 1381\n",
      "Pacman emerges victorious! Score: 1362\n",
      "Pacman emerges victorious! Score: 1361\n",
      "Pacman emerges victorious! Score: 1180\n",
      "Pacman died! Score: -162\n",
      "Pacman emerges victorious! Score: 1356\n",
      "Pacman died! Score: 254\n",
      "Pacman died! Score: -138\n",
      "Pacman emerges victorious! Score: 1705\n",
      "Pacman died! Score: -81\n",
      "Pacman died! Score: 262\n",
      "Pacman died! Score: 379\n",
      "Pacman died! Score: 280\n",
      "Pacman emerges victorious! Score: 1567\n",
      "Pacman died! Score: -19\n"
     ]
    },
    {
     "name": "stderr",
     "output_type": "stream",
     "text": [
      "Agent 0 ran out of time! (time: 1.02)\n"
     ]
    },
    {
     "name": "stdout",
     "output_type": "stream",
     "text": [
      "Pacman crashed\n",
      "Pacman died! Score: 666\n",
      "Pacman emerges victorious! Score: 1578\n",
      "Pacman emerges victorious! Score: 1173\n",
      "Pacman emerges victorious! Score: 1356\n",
      "Pacman died! Score: 235\n",
      "Pacman died! Score: -385\n",
      "Pacman emerges victorious! Score: 1573\n",
      "Pacman died! Score: 558\n",
      "Pacman died! Score: 0\n",
      "Pacman died! Score: 255\n",
      "Pacman emerges victorious! Score: 1372\n",
      "Pacman died! Score: 611\n",
      "Pacman died! Score: -25\n",
      "Pacman emerges victorious! Score: 911\n",
      "Pacman emerges victorious! Score: 1573\n"
     ]
    },
    {
     "name": "stderr",
     "output_type": "stream",
     "text": [
      "Agent 0 ran out of time! (time: 1.02)\n"
     ]
    },
    {
     "name": "stdout",
     "output_type": "stream",
     "text": [
      "Pacman crashed\n",
      "Pacman died! Score: 177\n",
      "Pacman emerges victorious! Score: 1305\n",
      "Pacman died! Score: 230\n",
      "Pacman died! Score: -158\n",
      "Pacman died! Score: 24\n",
      "Pacman died! Score: 323\n",
      "Pacman died! Score: 350\n",
      "Pacman emerges victorious! Score: 1528\n",
      "Pacman died! Score: 137\n",
      "Pacman died! Score: 515\n",
      "Pacman emerges victorious! Score: 1567\n",
      "Pacman died! Score: 434\n",
      "Pacman emerges victorious! Score: 1180\n",
      "Pacman died! Score: 33\n",
      "Pacman died! Score: -105\n",
      "Pacman emerges victorious! Score: 1575\n"
     ]
    },
    {
     "name": "stderr",
     "output_type": "stream",
     "text": [
      "Agent 0 ran out of time! (time: 1.01)\n"
     ]
    },
    {
     "name": "stdout",
     "output_type": "stream",
     "text": [
      "Pacman crashed\n",
      "Pacman emerges victorious! Score: 1376\n",
      "Pacman emerges victorious! Score: 1567\n",
      "Pacman emerges victorious! Score: 1576\n",
      "Pacman emerges victorious! Score: 1742\n",
      "Pacman emerges victorious! Score: 1381\n",
      "Pacman died! Score: 466\n",
      "Pacman died! Score: 429\n",
      "Pacman emerges victorious! Score: 1376\n",
      "Pacman emerges victorious! Score: 1352\n",
      "Pacman died! Score: -152\n",
      "Pacman emerges victorious! Score: 1362\n",
      "Pacman died! Score: 508\n",
      "Pacman died! Score: 416\n",
      "Pacman died! Score: 136\n",
      "Pacman emerges victorious! Score: 1356\n",
      "Pacman died! Score: 236\n",
      "Pacman died! Score: 340\n"
     ]
    },
    {
     "name": "stderr",
     "output_type": "stream",
     "text": [
      "Agent 0 ran out of time! (time: 1.01)\n"
     ]
    },
    {
     "name": "stdout",
     "output_type": "stream",
     "text": [
      "Pacman crashed\n",
      "Pacman died! Score: -158\n",
      "Pacman emerges victorious! Score: 1578\n",
      "Pacman died! Score: 42\n",
      "Pacman emerges victorious! Score: 1293\n",
      "Pacman emerges victorious! Score: 1572\n",
      "Pacman died! Score: 201\n",
      "Pacman emerges victorious! Score: 1511\n",
      "Pacman emerges victorious! Score: 1114\n",
      "Pacman emerges victorious! Score: 1374\n",
      "Pacman emerges victorious! Score: 1570\n",
      "Pacman emerges victorious! Score: 1578\n",
      "Pacman died! Score: 653\n",
      "Pacman emerges victorious! Score: 1353\n",
      "Pacman died! Score: 5\n",
      "Pacman emerges victorious! Score: 1178\n",
      "Pacman emerges victorious! Score: 1358\n"
     ]
    },
    {
     "name": "stderr",
     "output_type": "stream",
     "text": [
      "Agent 0 ran out of time! (time: 1.00)\n"
     ]
    },
    {
     "name": "stdout",
     "output_type": "stream",
     "text": [
      "Pacman crashed\n",
      "Pacman emerges victorious! Score: 1742\n",
      "Pacman emerges victorious! Score: 1181\n",
      "Pacman died! Score: 97\n",
      "Pacman emerges victorious! Score: 1558\n",
      "Pacman emerges victorious! Score: 1146\n",
      "Pacman emerges victorious! Score: 1322\n",
      "Pacman died! Score: 87\n",
      "Pacman emerges victorious! Score: 1178\n",
      "Pacman emerges victorious! Score: 1184\n",
      "Pacman died! Score: 43\n",
      "Pacman emerges victorious! Score: 1570\n",
      "Pacman emerges victorious! Score: 1372\n",
      "Pacman died! Score: 33\n",
      "Pacman died! Score: 566\n",
      "Pacman emerges victorious! Score: 1361\n",
      "Pacman died! Score: -73\n",
      "Pacman died! Score: 282\n",
      "Pacman died! Score: 427\n",
      "Pacman emerges victorious! Score: 1380\n",
      "Pacman emerges victorious! Score: 1380\n",
      "Pacman emerges victorious! Score: 1765\n",
      "Pacman died! Score: 396\n",
      "Pacman died! Score: 272\n",
      "Pacman emerges victorious! Score: 1373\n",
      "Pacman emerges victorious! Score: 1771\n",
      "Pacman emerges victorious! Score: 1362\n",
      "Pacman died! Score: 31\n",
      "Pacman died! Score: 466\n",
      "Pacman emerges victorious! Score: 1771\n",
      "Pacman emerges victorious! Score: 1523\n",
      "Pacman died! Score: 762\n",
      "Pacman died! Score: 657\n",
      "Pacman emerges victorious! Score: 1541\n",
      "Pacman died! Score: 450\n",
      "Pacman died! Score: 334\n",
      "Pacman emerges victorious! Score: 1179\n",
      "Pacman emerges victorious! Score: 1381\n",
      "Pacman died! Score: -329\n",
      "Pacman emerges victorious! Score: 1577\n",
      "Pacman emerges victorious! Score: 1378\n",
      "Pacman emerges victorious! Score: 1350\n",
      "Pacman emerges victorious! Score: 1180\n",
      "Pacman died! Score: 78\n",
      "Pacman died! Score: 159\n",
      "Pacman emerges victorious! Score: 1173\n",
      "Pacman died! Score: 506\n",
      "Pacman died! Score: -356\n",
      "Pacman emerges victorious! Score: 1779\n",
      "Pacman emerges victorious! Score: 1085\n",
      "Pacman emerges victorious! Score: 1139\n",
      "Pacman emerges victorious! Score: 1583\n",
      "Pacman emerges victorious! Score: 1767\n",
      "Pacman emerges victorious! Score: 1379\n",
      "Pacman emerges victorious! Score: 1381\n"
     ]
    },
    {
     "name": "stderr",
     "output_type": "stream",
     "text": [
      "Agent 0 ran out of time! (time: 1.01)\n"
     ]
    },
    {
     "name": "stdout",
     "output_type": "stream",
     "text": [
      "Pacman crashed\n"
     ]
    },
    {
     "name": "stderr",
     "output_type": "stream",
     "text": [
      "Agent 0 ran out of time! (time: 1.00)\n"
     ]
    },
    {
     "name": "stdout",
     "output_type": "stream",
     "text": [
      "Pacman crashed\n",
      "Pacman died! Score: -158\n",
      "Pacman emerges victorious! Score: 1486\n",
      "Pacman died! Score: 212\n",
      "Pacman emerges victorious! Score: 1312\n",
      "Pacman died! Score: -152\n",
      "Pacman emerges victorious! Score: 1564\n",
      "Pacman died! Score: 553\n",
      "Pacman emerges victorious! Score: 1379\n",
      "Pacman died! Score: 111\n"
     ]
    },
    {
     "name": "stderr",
     "output_type": "stream",
     "text": [
      "Agent 0 ran out of time! (time: 1.01)\n"
     ]
    },
    {
     "name": "stdout",
     "output_type": "stream",
     "text": [
      "Pacman crashed\n",
      "Pacman died! Score: 710\n",
      "Pacman died! Score: 32\n",
      "Pacman emerges victorious! Score: 1182\n",
      "Pacman emerges victorious! Score: 1568\n",
      "Pacman died! Score: 194\n",
      "Pacman emerges victorious! Score: 1509\n",
      "Pacman emerges victorious! Score: 1773\n",
      "Pacman died! Score: 193\n",
      "Pacman emerges victorious! Score: 1761\n",
      "Pacman emerges victorious! Score: 1377\n",
      "Pacman emerges victorious! Score: 1176\n",
      "Pacman emerges victorious! Score: 1575\n"
     ]
    },
    {
     "name": "stderr",
     "output_type": "stream",
     "text": [
      "Agent 0 ran out of time! (time: 1.02)\n"
     ]
    },
    {
     "name": "stdout",
     "output_type": "stream",
     "text": [
      "Pacman crashed\n",
      "Pacman emerges victorious! Score: 1367\n",
      "Pacman emerges victorious! Score: 1371\n",
      "Pacman emerges victorious! Score: 1461\n",
      "Pacman emerges victorious! Score: 1780\n",
      "Pacman died! Score: 188\n",
      "Pacman emerges victorious! Score: 1353\n",
      "Pacman died! Score: 99\n",
      "Pacman died! Score: 69\n",
      "Pacman died! Score: 473\n"
     ]
    },
    {
     "name": "stderr",
     "output_type": "stream",
     "text": [
      "Agent 0 ran out of time! (time: 1.01)\n"
     ]
    },
    {
     "name": "stdout",
     "output_type": "stream",
     "text": [
      "Pacman crashed\n"
     ]
    },
    {
     "name": "stderr",
     "output_type": "stream",
     "text": [
      "Agent 0 ran out of time! (time: 1.00)\n"
     ]
    },
    {
     "name": "stdout",
     "output_type": "stream",
     "text": [
      "Pacman crashed\n",
      "Pacman died! Score: 350\n",
      "Pacman emerges victorious! Score: 1571\n"
     ]
    },
    {
     "name": "stderr",
     "output_type": "stream",
     "text": [
      "Agent 0 ran out of time! (time: 1.00)\n"
     ]
    },
    {
     "name": "stdout",
     "output_type": "stream",
     "text": [
      "Pacman crashed\n",
      "Pacman emerges victorious! Score: 1579\n"
     ]
    },
    {
     "name": "stderr",
     "output_type": "stream",
     "text": [
      "Agent 0 ran out of time! (time: 1.00)\n"
     ]
    },
    {
     "name": "stdout",
     "output_type": "stream",
     "text": [
      "Pacman crashed\n"
     ]
    },
    {
     "name": "stderr",
     "output_type": "stream",
     "text": [
      "Agent 0 ran out of time! (time: 1.01)\n"
     ]
    },
    {
     "name": "stdout",
     "output_type": "stream",
     "text": [
      "Pacman crashed\n",
      "Pacman died! Score: 540\n",
      "Pacman died! Score: 243\n",
      "Pacman emerges victorious! Score: 1179\n",
      "Pacman emerges victorious! Score: 1576\n",
      "Pacman emerges victorious! Score: 1362\n",
      "Pacman emerges victorious! Score: 1568\n",
      "Pacman emerges victorious! Score: 1168\n"
     ]
    },
    {
     "name": "stderr",
     "output_type": "stream",
     "text": [
      "Agent 0 ran out of time! (time: 1.00)\n"
     ]
    },
    {
     "name": "stdout",
     "output_type": "stream",
     "text": [
      "Pacman crashed\n",
      "Pacman died! Score: 31\n",
      "Pacman emerges victorious! Score: 1177\n",
      "Pacman died! Score: 89\n",
      "Pacman died! Score: 184\n",
      "Pacman emerges victorious! Score: 1185\n",
      "Pacman emerges victorious! Score: 1759\n",
      "Pacman emerges victorious! Score: 1576\n",
      "Pacman emerges victorious! Score: 1366\n",
      "Pacman died! Score: 487\n",
      "Pacman emerges victorious! Score: 1229\n",
      "Pacman emerges victorious! Score: 1578\n",
      "Pacman died! Score: -158\n",
      "Pacman emerges victorious! Score: 1163\n",
      "Pacman died! Score: -69\n",
      "Pacman died! Score: 646\n",
      "Pacman emerges victorious! Score: 1572\n",
      "Pacman emerges victorious! Score: 1182\n",
      "Pacman died! Score: 51\n"
     ]
    },
    {
     "name": "stderr",
     "output_type": "stream",
     "text": [
      "Agent 0 ran out of time! (time: 1.00)\n"
     ]
    },
    {
     "name": "stdout",
     "output_type": "stream",
     "text": [
      "Pacman crashed\n",
      "Pacman emerges victorious! Score: 1160\n",
      "Pacman emerges victorious! Score: 1177\n",
      "Pacman emerges victorious! Score: 1370\n",
      "Pacman emerges victorious! Score: 1371\n",
      "Pacman emerges victorious! Score: 910\n",
      "Pacman emerges victorious! Score: 1760\n",
      "Pacman died! Score: 150\n",
      "Pacman emerges victorious! Score: 1157\n"
     ]
    },
    {
     "name": "stderr",
     "output_type": "stream",
     "text": [
      "Agent 0 ran out of time! (time: 1.01)\n"
     ]
    },
    {
     "name": "stdout",
     "output_type": "stream",
     "text": [
      "Pacman crashed\n",
      "Pacman emerges victorious! Score: 1562\n",
      "Pacman died! Score: 258\n",
      "Pacman emerges victorious! Score: 1162\n",
      "Pacman emerges victorious! Score: 1575\n",
      "Pacman emerges victorious! Score: 1339\n",
      "Pacman died! Score: -150\n",
      "Pacman emerges victorious! Score: 1347\n",
      "Pacman emerges victorious! Score: 1568\n",
      "Pacman died! Score: 456\n",
      "Pacman died! Score: -123\n",
      "Pacman died! Score: 487\n",
      "Pacman died! Score: 126\n",
      "Pacman died! Score: -118\n",
      "Pacman died! Score: 246\n",
      "Pacman emerges victorious! Score: 1179\n",
      "Pacman died! Score: 610\n",
      "Pacman died! Score: 466\n",
      "Pacman died! Score: 324\n"
     ]
    },
    {
     "name": "stderr",
     "output_type": "stream",
     "text": [
      "Agent 0 ran out of time! (time: 1.01)\n"
     ]
    },
    {
     "name": "stdout",
     "output_type": "stream",
     "text": [
      "Pacman crashed\n",
      "Pacman died! Score: -154\n",
      "Pacman emerges victorious! Score: 1180\n",
      "Pacman died! Score: 133\n"
     ]
    },
    {
     "name": "stderr",
     "output_type": "stream",
     "text": [
      "Agent 0 ran out of time! (time: 1.01)\n"
     ]
    },
    {
     "name": "stdout",
     "output_type": "stream",
     "text": [
      "Pacman crashed\n",
      "Pacman emerges victorious! Score: 1571\n",
      "Pacman died! Score: -158\n",
      "Pacman died! Score: 221\n",
      "Pacman died! Score: -158\n",
      "Pacman died! Score: -296\n",
      "Pacman died! Score: 57\n",
      "Pacman emerges victorious! Score: 1770\n",
      "Pacman emerges victorious! Score: 1359\n",
      "Pacman emerges victorious! Score: 1380\n"
     ]
    },
    {
     "name": "stderr",
     "output_type": "stream",
     "text": [
      "Agent 0 ran out of time! (time: 1.01)\n"
     ]
    },
    {
     "name": "stdout",
     "output_type": "stream",
     "text": [
      "Pacman crashed\n",
      "Pacman emerges victorious! Score: 1570\n",
      "Pacman emerges victorious! Score: 1165\n",
      "Pacman died! Score: -161\n",
      "Pacman died! Score: 458\n",
      "Pacman died! Score: -114\n",
      "Pacman died! Score: -150\n",
      "Pacman emerges victorious! Score: 1128\n",
      "Pacman died! Score: 451\n",
      "Pacman died! Score: 169\n",
      "Pacman emerges victorious! Score: 1575\n",
      "Pacman died! Score: 474\n",
      "Pacman died! Score: 269\n",
      "Pacman died! Score: 371\n",
      "Pacman emerges victorious! Score: 1492\n",
      "Pacman emerges victorious! Score: 973\n",
      "Pacman died! Score: 358\n",
      "Pacman emerges victorious! Score: 1756\n",
      "Pacman died! Score: 153\n",
      "Pacman died! Score: 245\n",
      "Pacman died! Score: 266\n",
      "Pacman emerges victorious! Score: 1773\n",
      "Pacman emerges victorious! Score: 1765\n",
      "Pacman emerges victorious! Score: 1348\n",
      "Pacman emerges victorious! Score: 1350\n",
      "Pacman died! Score: 41\n",
      "Pacman died! Score: -158\n",
      "Pacman died! Score: -114\n",
      "Pacman died! Score: 289\n",
      "Pacman emerges victorious! Score: 1375\n",
      "Pacman died! Score: 61\n",
      "Pacman died! Score: 339\n",
      "Pacman emerges victorious! Score: 1770\n",
      "Pacman emerges victorious! Score: 1378\n",
      "Pacman emerges victorious! Score: 1573\n",
      "Pacman emerges victorious! Score: 1555\n",
      "Pacman died! Score: 79\n",
      "Pacman died! Score: 89\n",
      "Pacman died! Score: -158\n",
      "Pacman died! Score: 759\n",
      "Pacman died! Score: -49\n",
      "Pacman died! Score: 663\n"
     ]
    },
    {
     "name": "stderr",
     "output_type": "stream",
     "text": [
      "Agent 0 ran out of time! (time: 1.00)\n"
     ]
    },
    {
     "name": "stdout",
     "output_type": "stream",
     "text": [
      "Pacman crashed\n",
      "Pacman emerges victorious! Score: 982\n",
      "Pacman emerges victorious! Score: 1734\n",
      "Pacman died! Score: 384\n",
      "Pacman died! Score: 463\n",
      "Pacman died! Score: 507\n",
      "Pacman emerges victorious! Score: 1368\n",
      "Pacman died! Score: 570\n",
      "Pacman emerges victorious! Score: 1374\n",
      "Pacman emerges victorious! Score: 1533\n",
      "Pacman emerges victorious! Score: 1752\n",
      "Pacman died! Score: 149\n",
      "Pacman died! Score: 262\n",
      "Pacman emerges victorious! Score: 1571\n",
      "Pacman died! Score: 465\n",
      "Pacman died! Score: 213\n",
      "Pacman emerges victorious! Score: 1171\n",
      "Pacman emerges victorious! Score: 1176\n",
      "Pacman emerges victorious! Score: 1177\n"
     ]
    },
    {
     "name": "stderr",
     "output_type": "stream",
     "text": [
      "Agent 0 timed out on a single move!\n"
     ]
    },
    {
     "name": "stdout",
     "output_type": "stream",
     "text": [
      "Pacman crashed\n",
      "Pacman died! Score: 40\n",
      "Pacman emerges victorious! Score: 1569\n",
      "Pacman emerges victorious! Score: 1554\n"
     ]
    },
    {
     "name": "stderr",
     "output_type": "stream",
     "text": [
      "Agent 0 ran out of time! (time: 1.00)\n"
     ]
    },
    {
     "name": "stdout",
     "output_type": "stream",
     "text": [
      "Pacman crashed\n",
      "Pacman emerges victorious! Score: 1576\n",
      "Pacman emerges victorious! Score: 1376\n"
     ]
    },
    {
     "name": "stderr",
     "output_type": "stream",
     "text": [
      "Agent 0 ran out of time! (time: 1.00)\n"
     ]
    },
    {
     "name": "stdout",
     "output_type": "stream",
     "text": [
      "Pacman crashed\n",
      "Pacman died! Score: 542\n",
      "Pacman emerges victorious! Score: 1175\n",
      "Pacman emerges victorious! Score: 1770\n",
      "Pacman emerges victorious! Score: 1579\n"
     ]
    },
    {
     "name": "stderr",
     "output_type": "stream",
     "text": [
      "Agent 0 ran out of time! (time: 1.00)\n"
     ]
    },
    {
     "name": "stdout",
     "output_type": "stream",
     "text": [
      "Pacman crashed\n",
      "Pacman emerges victorious! Score: 1543\n",
      "Pacman emerges victorious! Score: 1541\n",
      "Pacman emerges victorious! Score: 1374\n",
      "Pacman emerges victorious! Score: 1365\n",
      "Pacman emerges victorious! Score: 1041\n",
      "Pacman emerges victorious! Score: 1463\n"
     ]
    },
    {
     "name": "stderr",
     "output_type": "stream",
     "text": [
      "Agent 0 ran out of time! (time: 1.00)\n"
     ]
    },
    {
     "name": "stdout",
     "output_type": "stream",
     "text": [
      "Pacman crashed\n",
      "Pacman emerges victorious! Score: 982\n",
      "Pacman died! Score: -167\n",
      "Pacman died! Score: 50\n",
      "Pacman emerges victorious! Score: 1773\n",
      "Pacman died! Score: 426\n",
      "Pacman emerges victorious! Score: 1177\n",
      "Pacman emerges victorious! Score: 1771\n",
      "Pacman emerges victorious! Score: 1569\n",
      "Pacman emerges victorious! Score: 1566\n",
      "Pacman died! Score: -168\n",
      "Pacman emerges victorious! Score: 1179\n",
      "Pacman died! Score: 185\n",
      "Pacman emerges victorious! Score: 1377\n",
      "Pacman emerges victorious! Score: 1583\n",
      "Pacman died! Score: 297\n"
     ]
    },
    {
     "name": "stderr",
     "output_type": "stream",
     "text": [
      "Agent 0 ran out of time! (time: 1.00)\n"
     ]
    },
    {
     "name": "stdout",
     "output_type": "stream",
     "text": [
      "Pacman crashed\n",
      "Pacman died! Score: 369\n",
      "Pacman emerges victorious! Score: 1576\n",
      "Pacman emerges victorious! Score: 1378\n",
      "Pacman died! Score: 65\n",
      "Pacman emerges victorious! Score: 1366\n",
      "Pacman died! Score: 241\n",
      "Pacman emerges victorious! Score: 1558\n",
      "Pacman died! Score: 291\n",
      "Pacman emerges victorious! Score: 1378\n",
      "Pacman died! Score: -29\n",
      "Pacman died! Score: 289\n",
      "Pacman died! Score: 478\n",
      "Pacman emerges victorious! Score: 1347\n",
      "Pacman emerges victorious! Score: 1163\n",
      "Pacman emerges victorious! Score: 1579\n",
      "Pacman emerges victorious! Score: 1776\n",
      "Pacman emerges victorious! Score: 1181\n",
      "Pacman emerges victorious! Score: 1572\n"
     ]
    },
    {
     "name": "stderr",
     "output_type": "stream",
     "text": [
      "Agent 0 ran out of time! (time: 1.01)\n"
     ]
    },
    {
     "name": "stdout",
     "output_type": "stream",
     "text": [
      "Pacman crashed\n",
      "Pacman emerges victorious! Score: 1450\n",
      "Pacman emerges victorious! Score: 1350\n",
      "Pacman emerges victorious! Score: 1771\n",
      "Pacman emerges victorious! Score: 1754\n",
      "Pacman emerges victorious! Score: 1366\n",
      "Pacman emerges victorious! Score: 1176\n",
      "Pacman emerges victorious! Score: 1461\n",
      "Pacman emerges victorious! Score: 1364\n",
      "Pacman emerges victorious! Score: 1473\n",
      "Pacman emerges victorious! Score: 1376\n",
      "Pacman emerges victorious! Score: 1539\n",
      "Pacman died! Score: 7\n",
      "Pacman died! Score: 37\n",
      "Pacman emerges victorious! Score: 1147\n",
      "Pacman emerges victorious! Score: 1577\n",
      "Pacman died! Score: 162\n",
      "Pacman died! Score: -186\n",
      "Pacman died! Score: 359\n",
      "Pacman died! Score: 247\n",
      "Pacman emerges victorious! Score: 1355\n",
      "Pacman emerges victorious! Score: 1528\n",
      "Pacman emerges victorious! Score: 1570\n",
      "Pacman emerges victorious! Score: 1176\n",
      "Pacman died! Score: 50\n",
      "Pacman died! Score: 247\n"
     ]
    },
    {
     "name": "stderr",
     "output_type": "stream",
     "text": [
      "Agent 0 ran out of time! (time: 1.00)\n"
     ]
    },
    {
     "name": "stdout",
     "output_type": "stream",
     "text": [
      "Pacman crashed\n",
      "Pacman emerges victorious! Score: 1376\n",
      "Pacman emerges victorious! Score: 1741\n",
      "Pacman died! Score: -160\n",
      "Pacman emerges victorious! Score: 1369\n",
      "Pacman died! Score: 724\n"
     ]
    },
    {
     "name": "stderr",
     "output_type": "stream",
     "text": [
      "Agent 0 ran out of time! (time: 1.00)\n"
     ]
    },
    {
     "name": "stdout",
     "output_type": "stream",
     "text": [
      "Pacman crashed\n",
      "Pacman emerges victorious! Score: 1579\n",
      "Pacman died! Score: 156\n",
      "Pacman died! Score: -168\n",
      "Pacman died! Score: 265\n",
      "Pacman died! Score: 49\n",
      "Pacman emerges victorious! Score: 1580\n",
      "Pacman emerges victorious! Score: 1053\n",
      "Pacman emerges victorious! Score: 1769\n",
      "Pacman emerges victorious! Score: 1374\n",
      "Pacman died! Score: -107\n",
      "Pacman died! Score: -158\n",
      "Pacman emerges victorious! Score: 1369\n",
      "Pacman emerges victorious! Score: 1515\n",
      "Pacman emerges victorious! Score: 1287\n",
      "Pacman died! Score: 366\n",
      "Pacman died! Score: 465\n",
      "Pacman emerges victorious! Score: 1375\n",
      "Pacman emerges victorious! Score: 1147\n",
      "Pacman died! Score: 89\n",
      "Pacman emerges victorious! Score: 1334\n",
      "Pacman died! Score: 482\n",
      "Pacman emerges victorious! Score: 1353\n",
      "Pacman died! Score: 125\n",
      "Pacman emerges victorious! Score: 1380\n",
      "Pacman emerges victorious! Score: 1365\n",
      "Pacman died! Score: 251\n",
      "Pacman emerges victorious! Score: 1580\n",
      "Pacman died! Score: 433\n",
      "Pacman emerges victorious! Score: 1563\n",
      "Pacman died! Score: 339\n",
      "Pacman died! Score: 409\n",
      "Pacman died! Score: -150\n",
      "Pacman emerges victorious! Score: 1729\n",
      "Pacman emerges victorious! Score: 1532\n",
      "Pacman died! Score: -148\n",
      "Pacman emerges victorious! Score: 1113\n",
      "Pacman emerges victorious! Score: 1576\n",
      "Pacman died! Score: 48\n",
      "Pacman died! Score: 238\n",
      "Pacman emerges victorious! Score: 1577\n",
      "Pacman died! Score: 558\n",
      "Pacman died! Score: -176\n",
      "Pacman emerges victorious! Score: 1564\n",
      "Pacman died! Score: 145\n",
      "Pacman died! Score: 280\n",
      "Pacman died! Score: 378\n",
      "Pacman died! Score: 435\n",
      "Pacman died! Score: 358\n",
      "Pacman died! Score: 457\n",
      "Pacman died! Score: 118\n",
      "Pacman emerges victorious! Score: 1350\n",
      "Pacman died! Score: 448\n",
      "Pacman died! Score: -139\n",
      "Pacman died! Score: -168\n",
      "Pacman died! Score: -78\n",
      "Pacman emerges victorious! Score: 1363\n",
      "Pacman emerges victorious! Score: 1568\n",
      "Pacman died! Score: 328\n",
      "Pacman emerges victorious! Score: 1547\n",
      "Pacman emerges victorious! Score: 1345\n",
      "Pacman emerges victorious! Score: 1154\n",
      "Pacman died! Score: 114\n",
      "Pacman emerges victorious! Score: 1378\n",
      "Pacman emerges victorious! Score: 977\n",
      "Pacman died! Score: -177\n",
      "Pacman died! Score: -158\n",
      "Pacman died! Score: 42\n",
      "Pacman emerges victorious! Score: 1375\n",
      "Pacman emerges victorious! Score: 1165\n",
      "Pacman emerges victorious! Score: 1376\n",
      "Pacman emerges victorious! Score: 1282\n",
      "Pacman died! Score: -167\n"
     ]
    },
    {
     "name": "stderr",
     "output_type": "stream",
     "text": [
      "Agent 0 ran out of time! (time: 1.00)\n"
     ]
    },
    {
     "name": "stdout",
     "output_type": "stream",
     "text": [
      "Pacman crashed\n",
      "Pacman died! Score: -87\n",
      "Pacman died! Score: 524\n",
      "Pacman emerges victorious! Score: 1372\n",
      "Pacman emerges victorious! Score: 1578\n",
      "Pacman died! Score: 267\n",
      "Pacman emerges victorious! Score: 1558\n",
      "Pacman emerges victorious! Score: 1169\n",
      "Pacman emerges victorious! Score: 1712\n",
      "Pacman died! Score: 309\n",
      "Pacman died! Score: 40\n",
      "Pacman died! Score: 98\n",
      "Pacman emerges victorious! Score: 1259\n",
      "Pacman died! Score: -17\n",
      "Pacman emerges victorious! Score: 1375\n",
      "Pacman died! Score: 42\n",
      "Pacman emerges victorious! Score: 1534\n",
      "Pacman died! Score: 30\n",
      "Pacman emerges victorious! Score: 1147\n",
      "Pacman emerges victorious! Score: 1365\n",
      "Pacman died! Score: 237\n",
      "Pacman emerges victorious! Score: 1578\n",
      "Pacman emerges victorious! Score: 1564\n",
      "Pacman died! Score: 142\n",
      "Pacman died! Score: 554\n",
      "Pacman emerges victorious! Score: 1357\n",
      "Pacman emerges victorious! Score: 1380\n",
      "Pacman emerges victorious! Score: 1571\n",
      "Pacman died! Score: 167\n",
      "Pacman emerges victorious! Score: 1574\n",
      "Pacman died! Score: 73\n",
      "Pacman died! Score: 328\n",
      "Pacman emerges victorious! Score: 1579\n",
      "Pacman emerges victorious! Score: 1345\n",
      "Pacman died! Score: 256\n"
     ]
    },
    {
     "name": "stderr",
     "output_type": "stream",
     "text": [
      "Agent 0 ran out of time! (time: 1.00)\n"
     ]
    },
    {
     "name": "stdout",
     "output_type": "stream",
     "text": [
      "Pacman crashed\n",
      "Pacman emerges victorious! Score: 1385\n",
      "Pacman emerges victorious! Score: 1349\n",
      "Pacman emerges victorious! Score: 1505\n",
      "Pacman emerges victorious! Score: 1365\n",
      "Pacman died! Score: 237\n",
      "Pacman emerges victorious! Score: 1578\n",
      "Pacman emerges victorious! Score: 1177\n",
      "Pacman died! Score: 542\n",
      "Pacman emerges victorious! Score: 1174\n",
      "Pacman died! Score: 261\n"
     ]
    },
    {
     "name": "stderr",
     "output_type": "stream",
     "text": [
      "Agent 0 ran out of time! (time: 1.01)\n"
     ]
    },
    {
     "name": "stdout",
     "output_type": "stream",
     "text": [
      "Pacman crashed\n",
      "Pacman emerges victorious! Score: 1779\n",
      "Pacman died! Score: 289\n",
      "Pacman emerges victorious! Score: 1569\n",
      "Pacman died! Score: -87\n",
      "Pacman died! Score: 38\n",
      "Pacman emerges victorious! Score: 1170\n"
     ]
    },
    {
     "name": "stderr",
     "output_type": "stream",
     "text": [
      "Agent 0 ran out of time! (time: 1.00)\n"
     ]
    },
    {
     "name": "stdout",
     "output_type": "stream",
     "text": [
      "Pacman crashed\n",
      "Pacman emerges victorious! Score: 1561\n",
      "Pacman died! Score: 198\n",
      "Pacman died! Score: 252\n",
      "Pacman died! Score: 567\n",
      "Pacman died! Score: 466\n",
      "Pacman emerges victorious! Score: 1371\n",
      "Pacman emerges victorious! Score: 982\n",
      "Pacman died! Score: 259\n",
      "Pacman died! Score: -158\n",
      "Pacman emerges victorious! Score: 1576\n"
     ]
    },
    {
     "name": "stderr",
     "output_type": "stream",
     "text": [
      "Agent 0 ran out of time! (time: 1.00)\n"
     ]
    },
    {
     "name": "stdout",
     "output_type": "stream",
     "text": [
      "Pacman crashed\n",
      "Pacman emerges victorious! Score: 1561\n",
      "Pacman emerges victorious! Score: 1381\n",
      "Pacman emerges victorious! Score: 1325\n",
      "Pacman emerges victorious! Score: 1578\n",
      "Pacman died! Score: -273\n",
      "Pacman emerges victorious! Score: 1575\n",
      "Pacman died! Score: -37\n",
      "Pacman died! Score: 259\n",
      "Pacman died! Score: 252\n",
      "Pacman died! Score: -159\n",
      "Pacman emerges victorious! Score: 1381\n",
      "Pacman emerges victorious! Score: 1366\n",
      "Pacman emerges victorious! Score: 1372\n",
      "Pacman died! Score: -142\n",
      "Pacman died! Score: 534\n",
      "Pacman emerges victorious! Score: 1378\n",
      "Pacman emerges victorious! Score: 1580\n",
      "Pacman emerges victorious! Score: 1163\n",
      "Pacman emerges victorious! Score: 1148\n",
      "Pacman emerges victorious! Score: 1176\n",
      "Pacman died! Score: -150\n",
      "Pacman emerges victorious! Score: 1579\n",
      "Pacman emerges victorious! Score: 1385\n",
      "Pacman emerges victorious! Score: 1578\n",
      "Pacman died! Score: 164\n",
      "Pacman died! Score: 64\n",
      "Pacman emerges victorious! Score: 1370\n",
      "Pacman emerges victorious! Score: 1354\n"
     ]
    },
    {
     "name": "stderr",
     "output_type": "stream",
     "text": [
      "Agent 0 ran out of time! (time: 1.00)\n"
     ]
    },
    {
     "name": "stdout",
     "output_type": "stream",
     "text": [
      "Pacman crashed\n",
      "Pacman emerges victorious! Score: 969\n",
      "Pacman died! Score: -52\n",
      "Pacman emerges victorious! Score: 1579\n",
      "Pacman died! Score: 241\n",
      "Pacman emerges victorious! Score: 1557\n",
      "Pacman emerges victorious! Score: 1577\n",
      "Pacman emerges victorious! Score: 1182\n",
      "Pacman emerges victorious! Score: 1374\n"
     ]
    },
    {
     "name": "stderr",
     "output_type": "stream",
     "text": [
      "Agent 0 ran out of time! (time: 1.01)\n"
     ]
    },
    {
     "name": "stdout",
     "output_type": "stream",
     "text": [
      "Pacman crashed\n",
      "Pacman emerges victorious! Score: 1372\n",
      "Pacman died! Score: 244\n",
      "Pacman died! Score: -130\n",
      "Pacman emerges victorious! Score: 1372\n",
      "Pacman died! Score: 362\n",
      "Pacman emerges victorious! Score: 1767\n",
      "Pacman died! Score: 32\n",
      "Pacman emerges victorious! Score: 1381\n",
      "Pacman emerges victorious! Score: 1583\n",
      "Pacman died! Score: -365\n",
      "Pacman died! Score: 302\n",
      "Pacman emerges victorious! Score: 1560\n",
      "Pacman died! Score: 387\n",
      "Pacman emerges victorious! Score: 1176\n",
      "Pacman died! Score: -4\n",
      "Pacman emerges victorious! Score: 1537\n",
      "Pacman emerges victorious! Score: 1187\n",
      "Pacman emerges victorious! Score: 1276\n",
      "Pacman died! Score: 145\n",
      "Pacman died! Score: 269\n",
      "Pacman died! Score: 237\n",
      "Pacman died! Score: 204\n",
      "Pacman died! Score: -92\n",
      "Pacman emerges victorious! Score: 1779\n",
      "Pacman emerges victorious! Score: 1062\n",
      "Pacman emerges victorious! Score: 1374\n",
      "Pacman emerges victorious! Score: 1765\n",
      "Pacman died! Score: 200\n",
      "Pacman died! Score: 676\n",
      "Pacman emerges victorious! Score: 1357\n",
      "Pacman emerges victorious! Score: 977\n",
      "Pacman emerges victorious! Score: 1778\n",
      "Pacman emerges victorious! Score: 1567\n",
      "Pacman died! Score: -167\n",
      "Pacman died! Score: 465\n",
      "Pacman emerges victorious! Score: 1176\n",
      "Pacman emerges victorious! Score: 1768\n",
      "Pacman emerges victorious! Score: 1544\n",
      "Pacman died! Score: -177\n",
      "Pacman emerges victorious! Score: 939\n",
      "Pacman emerges victorious! Score: 1374\n",
      "Pacman emerges victorious! Score: 1556\n",
      "Pacman emerges victorious! Score: 1367\n",
      "Pacman died! Score: 72\n",
      "Pacman died! Score: 259\n",
      "Pacman emerges victorious! Score: 1770\n"
     ]
    },
    {
     "name": "stderr",
     "output_type": "stream",
     "text": [
      "Agent 0 ran out of time! (time: 1.00)\n"
     ]
    },
    {
     "name": "stdout",
     "output_type": "stream",
     "text": [
      "Pacman crashed\n",
      "Pacman emerges victorious! Score: 1568\n",
      "Pacman emerges victorious! Score: 1379\n",
      "Pacman died! Score: 358\n"
     ]
    },
    {
     "name": "stderr",
     "output_type": "stream",
     "text": [
      "Agent 0 ran out of time! (time: 1.00)\n"
     ]
    },
    {
     "name": "stdout",
     "output_type": "stream",
     "text": [
      "Pacman crashed\n",
      "Pacman emerges victorious! Score: 1357\n",
      "Pacman died! Score: -158\n",
      "Pacman died! Score: -167\n",
      "Pacman died! Score: -168\n",
      "Pacman died! Score: 91\n",
      "Pacman emerges victorious! Score: 947\n",
      "Pacman died! Score: 162\n",
      "Pacman emerges victorious! Score: 1376\n",
      "Pacman emerges victorious! Score: 1180\n",
      "Pacman died! Score: 90\n",
      "Pacman emerges victorious! Score: 1380\n",
      "Pacman died! Score: -19\n",
      "Pacman emerges victorious! Score: 1163\n",
      "Pacman died! Score: -116\n",
      "Pacman died! Score: 186\n",
      "Pacman emerges victorious! Score: 1573\n",
      "Pacman died! Score: 41\n",
      "Pacman emerges victorious! Score: 1769\n",
      "Pacman died! Score: 628\n",
      "Pacman died! Score: -81\n",
      "Pacman died! Score: 475\n",
      "Pacman died! Score: 211\n",
      "Pacman emerges victorious! Score: 1366\n",
      "Pacman died! Score: 42\n",
      "Pacman emerges victorious! Score: 1383\n",
      "Pacman died! Score: 190\n",
      "Pacman died! Score: 470\n",
      "Pacman died! Score: -22\n",
      "Pacman died! Score: 456\n",
      "Pacman emerges victorious! Score: 1772\n",
      "Pacman emerges victorious! Score: 1373\n",
      "Pacman emerges victorious! Score: 1760\n",
      "Pacman died! Score: 33\n",
      "Pacman emerges victorious! Score: 1562\n",
      "Pacman emerges victorious! Score: 1364\n",
      "Pacman emerges victorious! Score: 1780\n",
      "Pacman emerges victorious! Score: 1365\n",
      "Pacman died! Score: -177\n",
      "Pacman emerges victorious! Score: 1372\n",
      "Pacman emerges victorious! Score: 1352\n",
      "Pacman died! Score: -129\n",
      "Pacman died! Score: 61\n",
      "Pacman emerges victorious! Score: 1362\n",
      "Pacman emerges victorious! Score: 1372\n",
      "Pacman emerges victorious! Score: 1362\n",
      "Pacman died! Score: 461\n",
      "Pacman emerges victorious! Score: 1376\n",
      "Pacman emerges victorious! Score: 1736\n",
      "Pacman emerges victorious! Score: 1085\n",
      "Pacman emerges victorious! Score: 1580\n",
      "Pacman emerges victorious! Score: 887\n",
      "Pacman died! Score: 697\n",
      "Pacman emerges victorious! Score: 1355\n",
      "Pacman died! Score: 39\n",
      "Pacman emerges victorious! Score: 1218\n",
      "Pacman emerges victorious! Score: 1753\n",
      "Pacman emerges victorious! Score: 1781\n",
      "Pacman died! Score: 333\n",
      "Pacman emerges victorious! Score: 1576\n",
      "Pacman emerges victorious! Score: 1180\n",
      "Pacman died! Score: 546\n",
      "Pacman emerges victorious! Score: 1573\n",
      "Pacman emerges victorious! Score: 1351\n",
      "Pacman died! Score: 23\n",
      "Pacman emerges victorious! Score: 1340\n",
      "Pacman emerges victorious! Score: 1575\n",
      "Pacman died! Score: 251\n",
      "Pacman emerges victorious! Score: 1374\n",
      "Pacman emerges victorious! Score: 1378\n",
      "Pacman emerges victorious! Score: 1384\n",
      "Pacman emerges victorious! Score: 1757\n",
      "Pacman emerges victorious! Score: 1576\n",
      "Pacman died! Score: 472\n",
      "Pacman emerges victorious! Score: 1772\n",
      "Pacman emerges victorious! Score: 1456\n",
      "Pacman emerges victorious! Score: 1541\n",
      "Pacman emerges victorious! Score: 1469\n",
      "Pacman emerges victorious! Score: 1372\n",
      "Pacman emerges victorious! Score: 1571\n",
      "Pacman emerges victorious! Score: 1385\n",
      "Pacman died! Score: 42\n",
      "Pacman died! Score: 320\n",
      "Pacman emerges victorious! Score: 1576\n",
      "Pacman died! Score: -365\n",
      "Pacman emerges victorious! Score: 1567\n",
      "Pacman emerges victorious! Score: 1558\n",
      "Pacman died! Score: 720\n",
      "Pacman emerges victorious! Score: 1366\n",
      "Pacman died! Score: -159\n"
     ]
    },
    {
     "name": "stderr",
     "output_type": "stream",
     "text": [
      "Agent 0 ran out of time! (time: 1.00)\n"
     ]
    },
    {
     "name": "stdout",
     "output_type": "stream",
     "text": [
      "Pacman crashed\n",
      "Pacman died! Score: 517\n",
      "Pacman emerges victorious! Score: 1758\n",
      "Pacman emerges victorious! Score: 1576\n",
      "Pacman emerges victorious! Score: 985\n"
     ]
    },
    {
     "name": "stderr",
     "output_type": "stream",
     "text": [
      "Agent 0 ran out of time! (time: 1.00)\n"
     ]
    },
    {
     "name": "stdout",
     "output_type": "stream",
     "text": [
      "Pacman crashed\n",
      "Pacman emerges victorious! Score: 1364\n",
      "Pacman died! Score: 129\n",
      "Pacman emerges victorious! Score: 1575\n",
      "Pacman died! Score: -114\n",
      "Pacman emerges victorious! Score: 1361\n"
     ]
    },
    {
     "name": "stderr",
     "output_type": "stream",
     "text": [
      "Agent 0 ran out of time! (time: 1.00)\n"
     ]
    },
    {
     "name": "stdout",
     "output_type": "stream",
     "text": [
      "Pacman crashed\n",
      "Pacman died! Score: 197\n",
      "Pacman emerges victorious! Score: 1555\n",
      "Pacman emerges victorious! Score: 1566\n",
      "Pacman died! Score: 471\n",
      "Pacman died! Score: 202\n",
      "Pacman emerges victorious! Score: 977\n",
      "Pacman emerges victorious! Score: 1380\n",
      "Pacman died! Score: 198\n",
      "Pacman emerges victorious! Score: 1340\n"
     ]
    },
    {
     "name": "stderr",
     "output_type": "stream",
     "text": [
      "Agent 0 ran out of time! (time: 1.00)\n"
     ]
    },
    {
     "name": "stdout",
     "output_type": "stream",
     "text": [
      "Pacman crashed\n",
      "Pacman emerges victorious! Score: 1563\n",
      "Pacman died! Score: 111\n",
      "Pacman emerges victorious! Score: 1538\n",
      "Pacman emerges victorious! Score: 1777\n",
      "Pacman died! Score: 430\n",
      "Pacman died! Score: -124\n",
      "Pacman emerges victorious! Score: 1136\n",
      "Pacman died! Score: 251\n",
      "Pacman emerges victorious! Score: 1771\n",
      "Pacman died! Score: 265\n",
      "Pacman emerges victorious! Score: 1372\n",
      "Pacman emerges victorious! Score: 1570\n",
      "Pacman emerges victorious! Score: 1558\n",
      "Pacman emerges victorious! Score: 1583\n",
      "Pacman died! Score: -329\n",
      "Pacman emerges victorious! Score: 1474\n",
      "Pacman emerges victorious! Score: 1145\n",
      "Pacman emerges victorious! Score: 1310\n",
      "Pacman died! Score: 259\n",
      "Pacman died! Score: 471\n",
      "Pacman died! Score: -356\n"
     ]
    },
    {
     "name": "stderr",
     "output_type": "stream",
     "text": [
      "Agent 0 ran out of time! (time: 1.01)\n"
     ]
    },
    {
     "name": "stdout",
     "output_type": "stream",
     "text": [
      "Pacman crashed\n",
      "Pacman emerges victorious! Score: 1758\n",
      "Pacman died! Score: 40\n",
      "Pacman emerges victorious! Score: 1563\n",
      "Pacman died! Score: 228\n",
      "Pacman emerges victorious! Score: 1370\n",
      "Pacman emerges victorious! Score: 1378\n",
      "Pacman emerges victorious! Score: 1574\n",
      "Pacman emerges victorious! Score: 1555\n",
      "Pacman emerges victorious! Score: 1751\n",
      "Pacman died! Score: 230\n",
      "Pacman emerges victorious! Score: 1576\n",
      "Pacman died! Score: 176\n",
      "Pacman emerges victorious! Score: 1267\n",
      "Pacman died! Score: -136\n",
      "Pacman emerges victorious! Score: 1283\n",
      "Pacman emerges victorious! Score: 1184\n",
      "Pacman emerges victorious! Score: 1372\n",
      "Pacman emerges victorious! Score: 1364\n",
      "Pacman emerges victorious! Score: 1173\n",
      "Pacman died! Score: 314\n",
      "Pacman emerges victorious! Score: 1168\n",
      "Pacman died! Score: 49\n",
      "Pacman died! Score: 545\n",
      "Pacman died! Score: 167\n",
      "Pacman emerges victorious! Score: 1087\n",
      "Pacman died! Score: 455\n",
      "Pacman died! Score: -158\n",
      "Pacman emerges victorious! Score: 1580\n",
      "Pacman emerges victorious! Score: 1567\n",
      "Pacman died! Score: 256\n",
      "Pacman emerges victorious! Score: 1376\n",
      "Pacman emerges victorious! Score: 1499\n",
      "Pacman emerges victorious! Score: 1547\n",
      "Pacman died! Score: -128\n",
      "Pacman died! Score: 319\n",
      "Pacman died! Score: 10\n",
      "Pacman emerges victorious! Score: 1568\n",
      "Pacman died! Score: -51\n",
      "Pacman emerges victorious! Score: 1749\n"
     ]
    },
    {
     "name": "stderr",
     "output_type": "stream",
     "text": [
      "Agent 0 ran out of time! (time: 1.02)\n"
     ]
    },
    {
     "name": "stdout",
     "output_type": "stream",
     "text": [
      "Pacman crashed\n",
      "Pacman died! Score: 314\n",
      "Pacman emerges victorious! Score: 1575\n",
      "Pacman died! Score: 322\n",
      "Pacman died! Score: 458\n",
      "Pacman emerges victorious! Score: 1380\n",
      "Pacman died! Score: 437\n",
      "Pacman died! Score: 39\n",
      "Pacman died! Score: 242\n",
      "Pacman died! Score: -383\n",
      "Pacman emerges victorious! Score: 1565\n",
      "Pacman emerges victorious! Score: 1767\n",
      "Pacman died! Score: -82\n",
      "Pacman died! Score: 465\n",
      "Pacman died! Score: 469\n",
      "Pacman emerges victorious! Score: 1301\n",
      "Pacman died! Score: 150\n",
      "Pacman emerges victorious! Score: 1340\n",
      "Pacman emerges victorious! Score: 1574\n",
      "Pacman emerges victorious! Score: 1579\n",
      "Pacman died! Score: 54\n",
      "Pacman died! Score: 441\n",
      "Pacman emerges victorious! Score: 1568\n",
      "Pacman emerges victorious! Score: 1574\n",
      "Pacman died! Score: 242\n",
      "Pacman emerges victorious! Score: 1573\n",
      "Pacman died! Score: 241\n",
      "Pacman died! Score: -150\n",
      "Pacman emerges victorious! Score: 1375\n",
      "Pacman died! Score: 210\n",
      "Pacman emerges victorious! Score: 1578\n",
      "Pacman emerges victorious! Score: 1758\n",
      "Pacman emerges victorious! Score: 1378\n",
      "Pacman died! Score: -156\n",
      "Pacman emerges victorious! Score: 1154\n",
      "Pacman emerges victorious! Score: 1368\n"
     ]
    },
    {
     "name": "stderr",
     "output_type": "stream",
     "text": [
      "Agent 0 ran out of time! (time: 1.00)\n"
     ]
    },
    {
     "name": "stdout",
     "output_type": "stream",
     "text": [
      "Pacman crashed\n",
      "Pacman emerges victorious! Score: 1767\n",
      "Pacman emerges victorious! Score: 1576\n",
      "Pacman emerges victorious! Score: 1183\n",
      "Pacman emerges victorious! Score: 1769\n",
      "Pacman died! Score: -69\n",
      "Pacman emerges victorious! Score: 1432\n",
      "Pacman died! Score: 728\n",
      "Pacman emerges victorious! Score: 1554\n",
      "Pacman died! Score: 705\n",
      "Pacman died! Score: -150\n",
      "Pacman died! Score: -20\n",
      "Pacman emerges victorious! Score: 1145\n",
      "Pacman died! Score: -44\n",
      "Pacman died! Score: 514\n",
      "Pacman emerges victorious! Score: 1583\n"
     ]
    },
    {
     "name": "stderr",
     "output_type": "stream",
     "text": [
      "Agent 0 ran out of time! (time: 1.00)\n"
     ]
    },
    {
     "name": "stdout",
     "output_type": "stream",
     "text": [
      "Pacman crashed\n",
      "Pacman emerges victorious! Score: 1171\n",
      "Pacman emerges victorious! Score: 1776\n",
      "Pacman emerges victorious! Score: 1180\n",
      "Pacman emerges victorious! Score: 1555\n",
      "Pacman emerges victorious! Score: 1579\n",
      "Pacman died! Score: 33\n",
      "Pacman died! Score: 672\n",
      "Pacman emerges victorious! Score: 1550\n",
      "Pacman died! Score: 186\n",
      "Pacman emerges victorious! Score: 1360\n",
      "Pacman emerges victorious! Score: 1370\n",
      "Pacman emerges victorious! Score: 1574\n",
      "Pacman died! Score: 158\n",
      "Pacman emerges victorious! Score: 1380\n",
      "Pacman emerges victorious! Score: 1545\n",
      "Pacman emerges victorious! Score: 1169\n",
      "Pacman died! Score: 251\n",
      "Pacman died! Score: 333\n",
      "Pacman died! Score: 219\n",
      "Pacman emerges victorious! Score: 1180\n",
      "Pacman died! Score: 652\n",
      "Pacman died! Score: -159\n",
      "Pacman emerges victorious! Score: 1566\n",
      "Pacman emerges victorious! Score: 1573\n",
      "Pacman emerges victorious! Score: 1263\n",
      "Pacman died! Score: 323\n",
      "Pacman died! Score: -303\n",
      "Pacman died! Score: 266\n",
      "Pacman died! Score: 670\n",
      "Pacman died! Score: 17\n",
      "Pacman died! Score: -159\n",
      "Pacman died! Score: 508\n",
      "Pacman died! Score: 145\n",
      "Pacman emerges victorious! Score: 1140\n",
      "Pacman emerges victorious! Score: 1562\n",
      "Pacman died! Score: -16\n",
      "Pacman emerges victorious! Score: 1555\n",
      "Pacman emerges victorious! Score: 1344\n",
      "Pacman died! Score: -150\n",
      "Pacman emerges victorious! Score: 1376\n",
      "Pacman died! Score: 680\n",
      "Pacman emerges victorious! Score: 1778\n",
      "Pacman emerges victorious! Score: 1364\n",
      "Pacman emerges victorious! Score: 1567\n",
      "Pacman emerges victorious! Score: 1767\n",
      "Pacman died! Score: 265\n",
      "Pacman died! Score: 625\n",
      "Pacman emerges victorious! Score: 1355\n",
      "Pacman died! Score: 473\n",
      "Pacman died! Score: -383\n",
      "Pacman emerges victorious! Score: 1767\n",
      "Pacman emerges victorious! Score: 1365\n",
      "Pacman died! Score: 354\n",
      "Pacman emerges victorious! Score: 966\n",
      "Pacman died! Score: 175\n",
      "Pacman emerges victorious! Score: 1367\n",
      "Pacman died! Score: 226\n",
      "Pacman died! Score: 678\n",
      "Pacman died! Score: -24\n",
      "Pacman emerges victorious! Score: 1758\n",
      "Pacman emerges victorious! Score: 1576\n",
      "Pacman emerges victorious! Score: 1385\n",
      "Pacman emerges victorious! Score: 1292\n",
      "Pacman emerges victorious! Score: 1366\n",
      "Pacman died! Score: -97\n",
      "Pacman emerges victorious! Score: 1577\n",
      "Pacman died! Score: 314\n",
      "Pacman died! Score: 262\n",
      "Pacman died! Score: 257\n",
      "Pacman emerges victorious! Score: 899\n",
      "Pacman emerges victorious! Score: 1501\n",
      "Pacman died! Score: 254\n",
      "Pacman died! Score: 597\n",
      "Pacman emerges victorious! Score: 1369\n",
      "Pacman died! Score: 437\n",
      "Pacman died! Score: 451\n",
      "Pacman died! Score: 285\n",
      "Pacman emerges victorious! Score: 1378\n",
      "Pacman died! Score: -158\n",
      "Pacman emerges victorious! Score: 1774\n",
      "Pacman emerges victorious! Score: 1565\n",
      "Pacman died! Score: 356\n",
      "Pacman died! Score: 465\n",
      "Pacman emerges victorious! Score: 1576\n",
      "Pacman died! Score: 253\n",
      "Pacman died! Score: -168\n",
      "Pacman emerges victorious! Score: 1143\n",
      "Pacman emerges victorious! Score: 1379\n",
      "Pacman died! Score: -168\n",
      "Pacman died! Score: 248\n",
      "Pacman emerges victorious! Score: 1376\n",
      "Pacman died! Score: 453\n",
      "Pacman died! Score: 384\n",
      "Pacman emerges victorious! Score: 1167\n",
      "Pacman emerges victorious! Score: 1435\n",
      "Pacman emerges victorious! Score: 1558\n",
      "Pacman died! Score: -81\n",
      "Pacman died! Score: -160\n",
      "Pacman died! Score: -356\n",
      "Pacman died! Score: 51\n",
      "Pacman died! Score: 517\n",
      "Pacman emerges victorious! Score: 1577\n",
      "Pacman emerges victorious! Score: 1140\n",
      "Pacman emerges victorious! Score: 1382\n",
      "Pacman emerges victorious! Score: 1380\n",
      "Pacman died! Score: 21\n",
      "Pacman died! Score: 104\n",
      "Pacman emerges victorious! Score: 1550\n",
      "Pacman emerges victorious! Score: 1466\n",
      "Pacman emerges victorious! Score: 1370\n",
      "Pacman emerges victorious! Score: 1367\n",
      "Pacman emerges victorious! Score: 1579\n",
      "Pacman emerges victorious! Score: 1310\n"
     ]
    },
    {
     "name": "stderr",
     "output_type": "stream",
     "text": [
      "Agent 0 ran out of time! (time: 1.00)\n"
     ]
    },
    {
     "name": "stdout",
     "output_type": "stream",
     "text": [
      "Pacman crashed\n",
      "Pacman emerges victorious! Score: 1562\n",
      "Pacman died! Score: -196\n",
      "Pacman died! Score: 177\n",
      "Pacman died! Score: 48\n",
      "Pacman emerges victorious! Score: 1577\n",
      "Pacman emerges victorious! Score: 1561\n",
      "Pacman died! Score: 325\n",
      "Pacman emerges victorious! Score: 1766\n",
      "Pacman emerges victorious! Score: 1771\n",
      "Pacman emerges victorious! Score: 1169\n",
      "Pacman emerges victorious! Score: 1336\n",
      "Pacman died! Score: 217\n",
      "Pacman emerges victorious! Score: 1547\n",
      "Pacman died! Score: 76\n",
      "Pacman emerges victorious! Score: 1132\n",
      "Pacman died! Score: 711\n"
     ]
    },
    {
     "name": "stderr",
     "output_type": "stream",
     "text": [
      "Agent 0 ran out of time! (time: 1.00)\n"
     ]
    },
    {
     "name": "stdout",
     "output_type": "stream",
     "text": [
      "Pacman crashed\n",
      "Pacman emerges victorious! Score: 1571\n",
      "Pacman emerges victorious! Score: 1539\n",
      "Pacman emerges victorious! Score: 1581\n"
     ]
    },
    {
     "name": "stderr",
     "output_type": "stream",
     "text": [
      "Agent 0 ran out of time! (time: 1.00)\n"
     ]
    },
    {
     "name": "stdout",
     "output_type": "stream",
     "text": [
      "Pacman crashed\n",
      "Pacman emerges victorious! Score: 1378\n",
      "Pacman died! Score: 239\n",
      "Pacman died! Score: 658\n",
      "Pacman emerges victorious! Score: 1354\n",
      "Pacman emerges victorious! Score: 1155\n",
      "Pacman died! Score: -383\n",
      "Pacman died! Score: -168\n",
      "Pacman died! Score: 171\n",
      "Pacman died! Score: 327\n",
      "Pacman emerges victorious! Score: 1373\n",
      "Pacman died! Score: 325\n",
      "Pacman emerges victorious! Score: 1374\n",
      "Pacman emerges victorious! Score: 1246\n",
      "Pacman emerges victorious! Score: 1760\n",
      "Pacman died! Score: 141\n",
      "Pacman emerges victorious! Score: 1378\n",
      "Pacman emerges victorious! Score: 1182\n",
      "Pacman emerges victorious! Score: 1369\n",
      "Pacman died! Score: 32\n",
      "Pacman emerges victorious! Score: 1578\n",
      "Pacman died! Score: 123\n",
      "Pacman died! Score: 299\n",
      "Pacman died! Score: 352\n",
      "Pacman died! Score: 62\n",
      "Pacman died! Score: 295\n",
      "Pacman emerges victorious! Score: 1513\n",
      "Pacman emerges victorious! Score: 1192\n",
      "Pacman emerges victorious! Score: 1379\n",
      "Pacman died! Score: 353\n",
      "Pacman emerges victorious! Score: 1362\n",
      "Pacman emerges victorious! Score: 1375\n",
      "Pacman emerges victorious! Score: 1366\n",
      "Pacman died! Score: -167\n",
      "Pacman emerges victorious! Score: 1180\n",
      "Pacman died! Score: 262\n",
      "Pacman emerges victorious! Score: 1369\n",
      "Pacman emerges victorious! Score: 1770\n",
      "Pacman emerges victorious! Score: 1145\n",
      "Pacman emerges victorious! Score: 1445\n"
     ]
    },
    {
     "name": "stderr",
     "output_type": "stream",
     "text": [
      "Agent 0 ran out of time! (time: 1.00)\n"
     ]
    },
    {
     "name": "stdout",
     "output_type": "stream",
     "text": [
      "Pacman crashed\n",
      "Pacman emerges victorious! Score: 1753\n",
      "Pacman died! Score: -19\n",
      "Pacman died! Score: 205\n",
      "Pacman emerges victorious! Score: 1375\n",
      "Pacman emerges victorious! Score: 1547\n",
      "Pacman died! Score: 513\n",
      "Pacman died! Score: -168\n",
      "Pacman died! Score: 705\n",
      "Pacman emerges victorious! Score: 1169\n",
      "Pacman emerges victorious! Score: 1569\n",
      "Pacman emerges victorious! Score: 1564\n",
      "Pacman died! Score: 617\n",
      "Pacman emerges victorious! Score: 1570\n",
      "Pacman emerges victorious! Score: 1531\n",
      "Pacman emerges victorious! Score: 1698\n",
      "Pacman died! Score: 118\n",
      "Pacman emerges victorious! Score: 1580\n",
      "Pacman emerges victorious! Score: 1375\n",
      "Pacman died! Score: -158\n",
      "Pacman emerges victorious! Score: 1245\n",
      "Pacman emerges victorious! Score: 1646\n",
      "Pacman died! Score: 432\n",
      "Pacman emerges victorious! Score: 1572\n",
      "Pacman died! Score: 498\n",
      "Pacman died! Score: 50\n",
      "Pacman emerges victorious! Score: 1368\n",
      "Pacman died! Score: 361\n",
      "Pacman emerges victorious! Score: 1374\n",
      "Pacman emerges victorious! Score: 1427\n",
      "Pacman died! Score: 529\n",
      "Pacman emerges victorious! Score: 1370\n",
      "Pacman died! Score: 149\n",
      "Pacman emerges victorious! Score: 1163\n",
      "Pacman died! Score: -71\n",
      "Pacman emerges victorious! Score: 1172\n",
      "Pacman emerges victorious! Score: 1773\n",
      "Pacman emerges victorious! Score: 1173\n",
      "Pacman died! Score: 48\n",
      "Pacman emerges victorious! Score: 1380\n",
      "Pacman emerges victorious! Score: 1181\n",
      "Pacman emerges victorious! Score: 1570\n",
      "Pacman emerges victorious! Score: 1477\n",
      "Pacman died! Score: 255\n",
      "Pacman emerges victorious! Score: 1559\n"
     ]
    },
    {
     "name": "stderr",
     "output_type": "stream",
     "text": [
      "Agent 0 ran out of time! (time: 1.00)\n"
     ]
    },
    {
     "name": "stdout",
     "output_type": "stream",
     "text": [
      "Pacman crashed\n"
     ]
    },
    {
     "name": "stderr",
     "output_type": "stream",
     "text": [
      "Agent 0 ran out of time! (time: 1.00)\n"
     ]
    },
    {
     "name": "stdout",
     "output_type": "stream",
     "text": [
      "Pacman crashed\n",
      "Pacman emerges victorious! Score: 1760\n",
      "Pacman emerges victorious! Score: 1381\n",
      "Pacman died! Score: -158\n",
      "Pacman emerges victorious! Score: 1381\n",
      "Pacman emerges victorious! Score: 1555\n",
      "Pacman died! Score: 300\n",
      "Pacman died! Score: 664\n",
      "Pacman emerges victorious! Score: 1371\n",
      "Pacman died! Score: 65\n",
      "Pacman died! Score: 412\n",
      "Pacman emerges victorious! Score: 1376\n",
      "Pacman died! Score: 64\n",
      "Pacman emerges victorious! Score: 1180\n"
     ]
    },
    {
     "name": "stderr",
     "output_type": "stream",
     "text": [
      "Agent 0 ran out of time! (time: 1.00)\n"
     ]
    },
    {
     "name": "stdout",
     "output_type": "stream",
     "text": [
      "Pacman crashed\n",
      "Pacman died! Score: 169\n",
      "Pacman emerges victorious! Score: 1562\n",
      "Pacman emerges victorious! Score: 1164\n",
      "Pacman emerges victorious! Score: 1372\n",
      "Pacman emerges victorious! Score: 1373\n",
      "Pacman died! Score: -19\n",
      "Pacman emerges victorious! Score: 985\n",
      "Pacman died! Score: 18\n",
      "Pacman emerges victorious! Score: 1377\n",
      "Pacman emerges victorious! Score: 1770\n",
      "Pacman died! Score: 231\n",
      "Pacman emerges victorious! Score: 1771\n",
      "Pacman died! Score: -42\n",
      "Pacman emerges victorious! Score: 1566\n",
      "Pacman died! Score: 546\n",
      "Pacman emerges victorious! Score: 1577\n",
      "Pacman emerges victorious! Score: 1097\n",
      "Pacman emerges victorious! Score: 1772\n",
      "Pacman emerges victorious! Score: 1567\n",
      "Pacman emerges victorious! Score: 1164\n",
      "Pacman emerges victorious! Score: 1179\n",
      "Pacman emerges victorious! Score: 1181\n",
      "Pacman emerges victorious! Score: 1348\n",
      "Pacman died! Score: -150\n",
      "Pacman emerges victorious! Score: 1564\n",
      "Pacman emerges victorious! Score: 1168\n",
      "Pacman emerges victorious! Score: 1363\n",
      "Pacman died! Score: -168\n",
      "Pacman emerges victorious! Score: 1345\n",
      "Pacman died! Score: 468\n",
      "Pacman emerges victorious! Score: 1375\n",
      "Pacman emerges victorious! Score: 1349\n",
      "Pacman died! Score: -5\n",
      "Pacman emerges victorious! Score: 1335\n",
      "Pacman emerges victorious! Score: 1763\n",
      "Pacman emerges victorious! Score: 1765\n",
      "Pacman emerges victorious! Score: 1361\n",
      "Pacman emerges victorious! Score: 1178\n",
      "Pacman died! Score: 192\n",
      "Pacman emerges victorious! Score: 1775\n",
      "Pacman emerges victorious! Score: 1362\n",
      "Pacman died! Score: -146\n",
      "Pacman died! Score: -114\n",
      "Pacman emerges victorious! Score: 1152\n",
      "Pacman died! Score: 49\n",
      "Pacman died! Score: 443\n",
      "Pacman emerges victorious! Score: 1566\n",
      "Pacman emerges victorious! Score: 1367\n",
      "Pacman emerges victorious! Score: 1558\n",
      "Pacman emerges victorious! Score: 1339\n",
      "Pacman emerges victorious! Score: 1180\n",
      "Pacman emerges victorious! Score: 1182\n",
      "Pacman died! Score: 13\n",
      "Pacman died! Score: -98\n",
      "Pacman emerges victorious! Score: 1168\n",
      "Pacman died! Score: -96\n"
     ]
    },
    {
     "name": "stderr",
     "output_type": "stream",
     "text": [
      "Agent 0 timed out on a single move!\n"
     ]
    },
    {
     "name": "stdout",
     "output_type": "stream",
     "text": [
      "Pacman crashed\n",
      "Pacman emerges victorious! Score: 1214\n",
      "Pacman emerges victorious! Score: 1562\n",
      "Pacman emerges victorious! Score: 1375\n",
      "Pacman died! Score: 307\n",
      "Pacman emerges victorious! Score: 1576\n",
      "Pacman died! Score: 139\n",
      "Pacman emerges victorious! Score: 1375\n",
      "Pacman died! Score: 467\n",
      "Pacman died! Score: 241\n",
      "Pacman emerges victorious! Score: 1378\n",
      "Pacman emerges victorious! Score: 1558\n",
      "Pacman emerges victorious! Score: 1569\n",
      "Pacman emerges victorious! Score: 1583\n",
      "Pacman emerges victorious! Score: 1574\n",
      "Pacman died! Score: 522\n",
      "Pacman emerges victorious! Score: 976\n",
      "Pacman died! Score: -168\n",
      "Pacman emerges victorious! Score: 1565\n",
      "Pacman died! Score: 483\n",
      "Pacman emerges victorious! Score: 1569\n",
      "Pacman emerges victorious! Score: 1764\n",
      "Pacman emerges victorious! Score: 1380\n",
      "Pacman died! Score: 39\n",
      "Pacman emerges victorious! Score: 1331\n",
      "Pacman emerges victorious! Score: 1768\n",
      "Pacman died! Score: -152\n",
      "Pacman died! Score: -42\n",
      "Pacman died! Score: 723\n",
      "Pacman died! Score: 257\n",
      "Pacman emerges victorious! Score: 1343\n",
      "Pacman died! Score: 598\n",
      "Pacman emerges victorious! Score: 1557\n",
      "Pacman emerges victorious! Score: 1569\n",
      "Pacman died! Score: 67\n",
      "Pacman emerges victorious! Score: 1572\n",
      "Pacman emerges victorious! Score: 1575\n",
      "Pacman emerges victorious! Score: 1574\n",
      "Pacman emerges victorious! Score: 1566\n",
      "Pacman died! Score: -160\n",
      "Pacman emerges victorious! Score: 1377\n",
      "Pacman died! Score: 185\n",
      "Pacman emerges victorious! Score: 1771\n",
      "Pacman emerges victorious! Score: 1772\n",
      "Pacman emerges victorious! Score: 1383\n",
      "Pacman emerges victorious! Score: 1571\n",
      "Pacman emerges victorious! Score: 1379\n",
      "Pacman died! Score: 313\n",
      "Pacman died! Score: 393\n",
      "Pacman emerges victorious! Score: 1176\n",
      "Pacman died! Score: 352\n",
      "Pacman died! Score: 32\n",
      "Pacman emerges victorious! Score: 1179\n",
      "Pacman died! Score: 468\n",
      "Pacman emerges victorious! Score: 1772\n",
      "Pacman died! Score: 54\n",
      "Pacman emerges victorious! Score: 1574\n",
      "Pacman emerges victorious! Score: 1575\n",
      "Pacman emerges victorious! Score: 1121\n",
      "Pacman died! Score: 228\n",
      "Pacman emerges victorious! Score: 1145\n",
      "Pacman emerges victorious! Score: 1764\n",
      "Pacman emerges victorious! Score: 1580\n",
      "Pacman died! Score: -47\n",
      "Pacman died! Score: 540\n",
      "Pacman died! Score: -320\n",
      "Pacman emerges victorious! Score: 1146\n",
      "Pacman died! Score: -63\n",
      "Pacman emerges victorious! Score: 1137\n",
      "Pacman died! Score: 472\n",
      "Pacman emerges victorious! Score: 1378\n",
      "Pacman emerges victorious! Score: 1375\n",
      "Pacman died! Score: 148\n",
      "Pacman died! Score: 136\n",
      "Pacman emerges victorious! Score: 1575\n",
      "Pacman emerges victorious! Score: 1580\n",
      "Pacman emerges victorious! Score: 1569\n",
      "Pacman emerges victorious! Score: 1373\n",
      "Pacman died! Score: -156\n",
      "Pacman emerges victorious! Score: 1377\n",
      "Pacman died! Score: 350\n",
      "Pacman died! Score: 40\n",
      "Pacman died! Score: -152\n",
      "Pacman died! Score: 268\n",
      "Pacman died! Score: 441\n",
      "Pacman emerges victorious! Score: 1374\n",
      "Pacman died! Score: 23\n",
      "Pacman died! Score: -169\n",
      "Pacman died! Score: 342\n",
      "Pacman died! Score: 245\n",
      "Pacman emerges victorious! Score: 1583\n",
      "Pacman emerges victorious! Score: 1540\n"
     ]
    },
    {
     "name": "stderr",
     "output_type": "stream",
     "text": [
      "Agent 0 ran out of time! (time: 1.01)\n"
     ]
    },
    {
     "name": "stdout",
     "output_type": "stream",
     "text": [
      "Pacman crashed\n",
      "Pacman emerges victorious! Score: 1377\n",
      "Pacman died! Score: 42\n",
      "Pacman emerges victorious! Score: 1125\n",
      "Pacman died! Score: -151\n",
      "Pacman emerges victorious! Score: 1177\n",
      "Pacman emerges victorious! Score: 1758\n",
      "Pacman emerges victorious! Score: 1372\n",
      "Pacman emerges victorious! Score: 1368\n",
      "Pacman emerges victorious! Score: 1542\n",
      "Pacman died! Score: -58\n",
      "Pacman died! Score: 438\n",
      "Pacman emerges victorious! Score: 1339\n",
      "Pacman died! Score: 481\n",
      "Pacman died! Score: 682\n",
      "Pacman emerges victorious! Score: 983\n",
      "Pacman died! Score: 657\n",
      "Pacman emerges victorious! Score: 1580\n",
      "Pacman emerges victorious! Score: 1737\n",
      "Pacman emerges victorious! Score: 1777\n",
      "Pacman died! Score: -169\n",
      "Pacman died! Score: 560\n",
      "Pacman emerges victorious! Score: 1568\n",
      "Pacman emerges victorious! Score: 1381\n",
      "Pacman died! Score: 205\n",
      "Pacman emerges victorious! Score: 1555\n",
      "Pacman died! Score: -167\n",
      "Pacman emerges victorious! Score: 1579\n",
      "Pacman died! Score: 59\n",
      "Pacman died! Score: 680\n",
      "Pacman emerges victorious! Score: 1181\n",
      "Pacman emerges victorious! Score: 1745\n",
      "Pacman emerges victorious! Score: 1380\n",
      "Pacman emerges victorious! Score: 1111\n",
      "Pacman emerges victorious! Score: 1573\n",
      "Pacman died! Score: 451\n",
      "Pacman died! Score: -82\n",
      "Pacman emerges victorious! Score: 1147\n",
      "Pacman emerges victorious! Score: 1369\n",
      "Pacman died! Score: 72\n",
      "Pacman emerges victorious! Score: 1183\n",
      "Pacman died! Score: 32\n",
      "Pacman emerges victorious! Score: 1774\n",
      "Pacman emerges victorious! Score: 1570\n",
      "Pacman emerges victorious! Score: 1167\n",
      "Pacman died! Score: 251\n",
      "Pacman emerges victorious! Score: 1366\n",
      "Pacman emerges victorious! Score: 1369\n",
      "Pacman died! Score: 227\n",
      "Pacman died! Score: 438\n",
      "Pacman emerges victorious! Score: 1578\n",
      "Pacman emerges victorious! Score: 1578\n",
      "Pacman died! Score: 219\n",
      "Pacman emerges victorious! Score: 1572\n",
      "Pacman emerges victorious! Score: 1778\n",
      "Pacman died! Score: 40\n",
      "Pacman emerges victorious! Score: 1569\n",
      "Pacman emerges victorious! Score: 1173\n",
      "Pacman died! Score: 329\n",
      "Pacman emerges victorious! Score: 959\n",
      "Pacman emerges victorious! Score: 1772\n",
      "Pacman died! Score: 110\n",
      "Pacman died! Score: 442\n",
      "Pacman emerges victorious! Score: 1139\n",
      "Pacman died! Score: 290\n",
      "Pacman emerges victorious! Score: 1365\n",
      "Pacman emerges victorious! Score: 1369\n",
      "Pacman emerges victorious! Score: 1577\n",
      "Pacman died! Score: 89\n",
      "Pacman emerges victorious! Score: 1466\n",
      "Pacman died! Score: 169\n",
      "Pacman emerges victorious! Score: 1335\n",
      "Pacman emerges victorious! Score: 1524\n",
      "Pacman died! Score: 31\n",
      "Pacman emerges victorious! Score: 1342\n",
      "Pacman died! Score: 449\n",
      "Pacman emerges victorious! Score: 1267\n",
      "Pacman died! Score: 253\n",
      "Pacman emerges victorious! Score: 1359\n",
      "Pacman died! Score: 66\n",
      "Pacman died! Score: 499\n",
      "Pacman emerges victorious! Score: 1378\n",
      "Pacman died! Score: 495\n",
      "Pacman emerges victorious! Score: 1383\n",
      "Pacman died! Score: -347\n",
      "Pacman emerges victorious! Score: 1347\n",
      "Pacman emerges victorious! Score: 1183\n",
      "Pacman died! Score: 537\n",
      "Pacman died! Score: 497\n",
      "Pacman died! Score: 308\n",
      "Pacman died! Score: -168\n",
      "Pacman emerges victorious! Score: 1161\n",
      "Pacman died! Score: 481\n",
      "Pacman died! Score: 229\n",
      "Pacman died! Score: 554\n",
      "Pacman emerges victorious! Score: 1372\n"
     ]
    },
    {
     "name": "stderr",
     "output_type": "stream",
     "text": [
      "Agent 0 ran out of time! (time: 1.01)\n"
     ]
    },
    {
     "name": "stdout",
     "output_type": "stream",
     "text": [
      "Pacman crashed\n",
      "Pacman died! Score: -160\n",
      "Pacman died! Score: -158\n",
      "Pacman emerges victorious! Score: 1180\n",
      "Pacman emerges victorious! Score: 1565\n",
      "Pacman emerges victorious! Score: 1579\n",
      "Pacman emerges victorious! Score: 1530\n",
      "Pacman emerges victorious! Score: 1755\n",
      "Pacman died! Score: 473\n",
      "Pacman emerges victorious! Score: 1575\n",
      "Pacman emerges victorious! Score: 1743\n"
     ]
    },
    {
     "name": "stderr",
     "output_type": "stream",
     "text": [
      "Agent 0 ran out of time! (time: 1.00)\n"
     ]
    },
    {
     "name": "stdout",
     "output_type": "stream",
     "text": [
      "Pacman crashed\n",
      "Pacman emerges victorious! Score: 1571\n",
      "Pacman died! Score: 449\n",
      "Pacman emerges victorious! Score: 1577\n",
      "Pacman emerges victorious! Score: 1376\n",
      "Pacman emerges victorious! Score: 1372\n",
      "Pacman died! Score: 262\n",
      "Pacman died! Score: 485\n",
      "Pacman emerges victorious! Score: 1767\n",
      "Pacman emerges victorious! Score: 1560\n",
      "Pacman emerges victorious! Score: 1376\n",
      "Pacman emerges victorious! Score: 981\n",
      "Pacman died! Score: 525\n",
      "Pacman died! Score: 467\n"
     ]
    },
    {
     "name": "stderr",
     "output_type": "stream",
     "text": [
      "Agent 0 ran out of time! (time: 1.01)\n"
     ]
    },
    {
     "name": "stdout",
     "output_type": "stream",
     "text": [
      "Pacman crashed\n",
      "Pacman died! Score: 533\n",
      "Pacman emerges victorious! Score: 1385\n",
      "Pacman died! Score: 274\n",
      "Pacman emerges victorious! Score: 959\n",
      "Pacman died! Score: 74\n",
      "Pacman emerges victorious! Score: 1352\n"
     ]
    },
    {
     "name": "stderr",
     "output_type": "stream",
     "text": [
      "Agent 0 ran out of time! (time: 1.01)\n"
     ]
    },
    {
     "name": "stdout",
     "output_type": "stream",
     "text": [
      "Pacman crashed\n",
      "Pacman emerges victorious! Score: 1572\n",
      "Pacman emerges victorious! Score: 1164\n",
      "Pacman emerges victorious! Score: 1371\n",
      "Pacman emerges victorious! Score: 1373\n",
      "Pacman emerges victorious! Score: 1762\n",
      "Pacman emerges victorious! Score: 1765\n",
      "Pacman died! Score: 664\n",
      "Pacman died! Score: -150\n",
      "Pacman died! Score: 177\n",
      "Pacman emerges victorious! Score: 1571\n",
      "Pacman emerges victorious! Score: 1172\n",
      "Pacman emerges victorious! Score: 1218\n",
      "Pacman emerges victorious! Score: 1740\n",
      "Pacman emerges victorious! Score: 1777\n",
      "Pacman emerges victorious! Score: 1566\n",
      "Pacman emerges victorious! Score: 1382\n",
      "Pacman emerges victorious! Score: 1372\n",
      "Pacman emerges victorious! Score: 1573\n",
      "Pacman died! Score: 337\n",
      "Pacman emerges victorious! Score: 1572\n",
      "Pacman emerges victorious! Score: 1335\n",
      "Pacman died! Score: -160\n",
      "Pacman died! Score: 22\n",
      "Pacman died! Score: 554\n",
      "Pacman emerges victorious! Score: 1126\n",
      "Pacman died! Score: 535\n",
      "Pacman died! Score: 437\n",
      "Pacman emerges victorious! Score: 1375\n",
      "Pacman died! Score: 237\n",
      "Pacman died! Score: -159\n",
      "Pacman emerges victorious! Score: 1563\n",
      "Pacman emerges victorious! Score: 1545\n",
      "Pacman emerges victorious! Score: 1571\n",
      "Pacman emerges victorious! Score: 1348\n",
      "Pacman emerges victorious! Score: 1576\n",
      "Pacman died! Score: -167\n",
      "Pacman died! Score: -365\n",
      "Pacman emerges victorious! Score: 1379\n",
      "Pacman emerges victorious! Score: 1374\n",
      "Pacman died! Score: 654\n",
      "Pacman emerges victorious! Score: 1573\n",
      "Pacman died! Score: -150\n",
      "Pacman died! Score: -122\n",
      "Pacman died! Score: -177\n",
      "Pacman died! Score: 273\n",
      "Pacman emerges victorious! Score: 1370\n",
      "Pacman died! Score: -167\n",
      "Pacman emerges victorious! Score: 1731\n",
      "Pacman died! Score: 493\n",
      "Pacman emerges victorious! Score: 1138\n",
      "Pacman emerges victorious! Score: 1345\n",
      "Pacman emerges victorious! Score: 1176\n",
      "Pacman died! Score: 31\n",
      "Pacman died! Score: 501\n",
      "Pacman died! Score: 31\n",
      "Pacman emerges victorious! Score: 1500\n",
      "Pacman died! Score: 369\n",
      "Pacman died! Score: 120\n",
      "Pacman emerges victorious! Score: 1025\n",
      "Pacman emerges victorious! Score: 1757\n",
      "Pacman emerges victorious! Score: 1369\n",
      "Pacman died! Score: 281\n"
     ]
    },
    {
     "name": "stderr",
     "output_type": "stream",
     "text": [
      "Agent 0 ran out of time! (time: 1.00)\n"
     ]
    },
    {
     "name": "stdout",
     "output_type": "stream",
     "text": [
      "Pacman crashed\n",
      "Pacman died! Score: -159\n",
      "Pacman emerges victorious! Score: 1383\n",
      "Pacman died! Score: 131\n",
      "Pacman emerges victorious! Score: 1569\n",
      "Pacman emerges victorious! Score: 1371\n",
      "Pacman emerges victorious! Score: 1308\n",
      "Pacman emerges victorious! Score: 1368\n",
      "Pacman died! Score: 149\n",
      "Pacman emerges victorious! Score: 1505\n",
      "Pacman died! Score: 323\n",
      "Pacman emerges victorious! Score: 1576\n",
      "Pacman emerges victorious! Score: 1375\n",
      "Pacman died! Score: 342\n",
      "Pacman died! Score: 362\n",
      "Pacman died! Score: 58\n"
     ]
    },
    {
     "name": "stderr",
     "output_type": "stream",
     "text": [
      "Agent 0 ran out of time! (time: 1.01)\n"
     ]
    },
    {
     "name": "stdout",
     "output_type": "stream",
     "text": [
      "Pacman crashed\n",
      "Pacman emerges victorious! Score: 1169\n",
      "Pacman emerges victorious! Score: 1375\n",
      "Pacman emerges victorious! Score: 1180\n",
      "Pacman emerges victorious! Score: 1758\n",
      "Pacman emerges victorious! Score: 1568\n",
      "Pacman died! Score: 291\n",
      "Pacman emerges victorious! Score: 1175\n",
      "Pacman emerges victorious! Score: 1349\n",
      "Pacman emerges victorious! Score: 1362\n",
      "Pacman died! Score: 437\n",
      "Pacman emerges victorious! Score: 1353\n",
      "Pacman died! Score: 153\n",
      "Pacman emerges victorious! Score: 1573\n",
      "Pacman emerges victorious! Score: 1573\n",
      "Pacman died! Score: -51\n",
      "Pacman emerges victorious! Score: 1577\n",
      "Pacman died! Score: 207\n",
      "Pacman died! Score: 299\n",
      "Pacman emerges victorious! Score: 1572\n",
      "Pacman emerges victorious! Score: 1566\n",
      "Pacman died! Score: 537\n",
      "Pacman emerges victorious! Score: 1734\n",
      "Pacman emerges victorious! Score: 1566\n",
      "Pacman died! Score: -60\n",
      "Pacman emerges victorious! Score: 1531\n",
      "Pacman emerges victorious! Score: 969\n",
      "Pacman emerges victorious! Score: 1573\n",
      "Pacman emerges victorious! Score: 1575\n",
      "Pacman died! Score: 239\n",
      "Pacman emerges victorious! Score: 1174\n",
      "Pacman died! Score: -3\n",
      "Pacman emerges victorious! Score: 954\n",
      "Pacman died! Score: 159\n",
      "Pacman emerges victorious! Score: 1375\n",
      "Pacman emerges victorious! Score: 1563\n",
      "Pacman died! Score: 431\n",
      "Pacman emerges victorious! Score: 1572\n",
      "Pacman died! Score: -110\n",
      "Pacman emerges victorious! Score: 1572\n",
      "Pacman emerges victorious! Score: 1766\n",
      "Pacman emerges victorious! Score: 1374\n",
      "Pacman died! Score: -71\n",
      "Pacman emerges victorious! Score: 1171\n",
      "Pacman emerges victorious! Score: 1559\n",
      "Pacman emerges victorious! Score: 1571\n",
      "Pacman emerges victorious! Score: 1177\n",
      "Pacman died! Score: -167\n",
      "Pacman emerges victorious! Score: 1353\n",
      "Pacman emerges victorious! Score: 1579\n",
      "Pacman died! Score: 308\n",
      "Pacman emerges victorious! Score: 1563\n",
      "Pacman emerges victorious! Score: 1372\n",
      "Pacman emerges victorious! Score: 1574\n",
      "Pacman emerges victorious! Score: 1585\n",
      "Pacman emerges victorious! Score: 1556\n",
      "Pacman emerges victorious! Score: 1176\n",
      "Pacman died! Score: 679\n",
      "Pacman emerges victorious! Score: 1779\n",
      "Pacman died! Score: 33\n",
      "Pacman died! Score: -99\n",
      "Pacman died! Score: 430\n",
      "Pacman emerges victorious! Score: 1318\n",
      "Pacman emerges victorious! Score: 1380\n",
      "Pacman died! Score: -311\n",
      "Pacman emerges victorious! Score: 1353\n",
      "Pacman emerges victorious! Score: 1364\n",
      "Pacman emerges victorious! Score: 1765\n",
      "Pacman emerges victorious! Score: 1461\n",
      "Pacman died! Score: 438\n",
      "Pacman died! Score: -157\n",
      "Pacman emerges victorious! Score: 1575\n",
      "Pacman emerges victorious! Score: 1365\n",
      "Pacman emerges victorious! Score: 1368\n",
      "Pacman died! Score: 417\n",
      "Pacman emerges victorious! Score: 1562\n",
      "Pacman died! Score: -168\n",
      "Pacman emerges victorious! Score: 1353\n",
      "Pacman emerges victorious! Score: 1185\n",
      "Pacman emerges victorious! Score: 1181\n",
      "Pacman died! Score: -168\n"
     ]
    },
    {
     "name": "stderr",
     "output_type": "stream",
     "text": [
      "Agent 0 ran out of time! (time: 1.00)\n"
     ]
    },
    {
     "name": "stdout",
     "output_type": "stream",
     "text": [
      "Pacman crashed\n",
      "Pacman emerges victorious! Score: 1266\n",
      "Pacman died! Score: 215\n",
      "Pacman died! Score: 266\n",
      "Pacman died! Score: 342\n",
      "Pacman emerges victorious! Score: 1379\n",
      "Pacman emerges victorious! Score: 1574\n",
      "Pacman emerges victorious! Score: 1382\n",
      "Pacman emerges victorious! Score: 1570\n",
      "Pacman died! Score: 376\n",
      "Pacman died! Score: 663\n",
      "Pacman emerges victorious! Score: 1164\n",
      "Pacman died! Score: 55\n",
      "Pacman died! Score: 485\n",
      "Pacman emerges victorious! Score: 1569\n",
      "Pacman died! Score: -158\n",
      "Pacman died! Score: 255\n",
      "Pacman emerges victorious! Score: 1380\n",
      "Pacman died! Score: 462\n",
      "Pacman emerges victorious! Score: 1568\n",
      "Pacman emerges victorious! Score: 1563\n",
      "Pacman emerges victorious! Score: 1379\n",
      "Pacman died! Score: -8\n",
      "Pacman died! Score: -33\n",
      "Pacman emerges victorious! Score: 1581\n",
      "Pacman died! Score: 434\n",
      "Pacman emerges victorious! Score: 1418\n",
      "Pacman died! Score: 263\n",
      "Pacman emerges victorious! Score: 1571\n",
      "Pacman emerges victorious! Score: 1574\n",
      "Pacman died! Score: -107\n",
      "Pacman died! Score: 567\n",
      "Pacman emerges victorious! Score: 1304\n",
      "Pacman emerges victorious! Score: 1576\n",
      "Pacman emerges victorious! Score: 1573\n",
      "Pacman emerges victorious! Score: 1381\n",
      "Pacman died! Score: 9\n"
     ]
    },
    {
     "name": "stderr",
     "output_type": "stream",
     "text": [
      "Agent 0 ran out of time! (time: 1.00)\n"
     ]
    },
    {
     "name": "stdout",
     "output_type": "stream",
     "text": [
      "Pacman crashed\n",
      "Pacman emerges victorious! Score: 1325\n",
      "Pacman died! Score: 487\n",
      "Pacman emerges victorious! Score: 1769\n",
      "Pacman emerges victorious! Score: 1369\n",
      "Pacman emerges victorious! Score: 1374\n",
      "Pacman emerges victorious! Score: 1375\n",
      "Pacman emerges victorious! Score: 1570\n",
      "Pacman died! Score: 40\n",
      "Pacman emerges victorious! Score: 1570\n",
      "Pacman emerges victorious! Score: 1383\n",
      "Pacman emerges victorious! Score: 1576\n",
      "Pacman emerges victorious! Score: 1372\n",
      "Pacman died! Score: 201\n",
      "Pacman died! Score: 668\n",
      "Pacman emerges victorious! Score: 1180\n",
      "Pacman emerges victorious! Score: 1368\n",
      "Pacman emerges victorious! Score: 1368\n",
      "Pacman died! Score: 339\n",
      "Pacman died! Score: 433\n",
      "Pacman emerges victorious! Score: 1547\n",
      "Pacman died! Score: 204\n",
      "Pacman died! Score: 430\n",
      "Pacman died! Score: 336\n",
      "Pacman died! Score: 478\n",
      "Pacman emerges victorious! Score: 1579\n",
      "Pacman emerges victorious! Score: 1375\n",
      "Pacman emerges victorious! Score: 1566\n",
      "Pacman emerges victorious! Score: 1581\n",
      "Pacman died! Score: 530\n",
      "Pacman died! Score: 64\n",
      "Pacman died! Score: 567\n",
      "Pacman emerges victorious! Score: 1572\n",
      "Pacman emerges victorious! Score: 1281\n",
      "Pacman died! Score: 259\n",
      "Pacman died! Score: 569\n",
      "Pacman emerges victorious! Score: 1372\n",
      "Pacman died! Score: 723\n",
      "Pacman emerges victorious! Score: 1773\n",
      "Pacman died! Score: 258\n",
      "Pacman died! Score: 407\n",
      "Pacman died! Score: -178\n",
      "Pacman died! Score: 251\n",
      "Pacman died! Score: 471\n",
      "Pacman emerges victorious! Score: 1371\n",
      "Pacman emerges victorious! Score: 1366\n",
      "Pacman died! Score: -177\n",
      "Pacman emerges victorious! Score: 1376\n",
      "Pacman emerges victorious! Score: 1585\n",
      "Pacman died! Score: 361\n",
      "Pacman emerges victorious! Score: 1363\n",
      "Pacman emerges victorious! Score: 1576\n",
      "Pacman died! Score: 376\n",
      "Pacman emerges victorious! Score: 1375\n",
      "Pacman died! Score: 37\n",
      "Pacman died! Score: -45\n",
      "Pacman died! Score: -365\n",
      "Pacman emerges victorious! Score: 1570\n",
      "Pacman died! Score: -177\n",
      "Pacman emerges victorious! Score: 1378\n",
      "Pacman emerges victorious! Score: 1462\n",
      "Pacman died! Score: 194\n",
      "Pacman died! Score: -116\n",
      "Pacman died! Score: 40\n",
      "Pacman emerges victorious! Score: 1570\n",
      "Pacman died! Score: 158\n",
      "Pacman emerges victorious! Score: 1152\n",
      "Pacman died! Score: -86\n",
      "Pacman emerges victorious! Score: 1180\n",
      "Pacman emerges victorious! Score: 1575\n",
      "Pacman emerges victorious! Score: 1364\n",
      "Pacman emerges victorious! Score: 1568\n",
      "Pacman emerges victorious! Score: 1486\n",
      "Pacman emerges victorious! Score: 1365\n",
      "Pacman died! Score: 40\n"
     ]
    },
    {
     "name": "stderr",
     "output_type": "stream",
     "text": [
      "Agent 0 ran out of time! (time: 1.00)\n"
     ]
    },
    {
     "name": "stdout",
     "output_type": "stream",
     "text": [
      "Pacman crashed\n",
      "Pacman emerges victorious! Score: 1334\n",
      "Pacman emerges victorious! Score: 1555\n",
      "Pacman emerges victorious! Score: 1574\n",
      "Pacman died! Score: 141\n",
      "Pacman emerges victorious! Score: 1576\n",
      "Pacman emerges victorious! Score: 1336\n",
      "Pacman emerges victorious! Score: 1573\n",
      "Pacman emerges victorious! Score: 1564\n",
      "Pacman emerges victorious! Score: 1580\n",
      "Pacman emerges victorious! Score: 1076\n",
      "Pacman emerges victorious! Score: 1565\n",
      "Pacman emerges victorious! Score: 1383\n",
      "Pacman emerges victorious! Score: 966\n",
      "Pacman emerges victorious! Score: 1292\n",
      "Pacman died! Score: 231\n",
      "Pacman died! Score: 236\n",
      "Pacman died! Score: 463\n",
      "Pacman emerges victorious! Score: 1546\n",
      "Pacman emerges victorious! Score: 1319\n",
      "Pacman emerges victorious! Score: 1366\n",
      "Pacman emerges victorious! Score: 1169\n",
      "Pacman emerges victorious! Score: 1152\n",
      "Pacman emerges victorious! Score: 1579\n",
      "Pacman died! Score: 53\n",
      "Pacman emerges victorious! Score: 1569\n",
      "Pacman emerges victorious! Score: 1558\n",
      "Pacman died! Score: 246\n",
      "Pacman emerges victorious! Score: 1348\n",
      "Pacman emerges victorious! Score: 1436\n",
      "Pacman died! Score: 147\n",
      "Pacman died! Score: 260\n",
      "Pacman emerges victorious! Score: 1361\n",
      "Pacman emerges victorious! Score: 1358\n",
      "Pacman died! Score: 85\n",
      "Pacman emerges victorious! Score: 1781\n",
      "Pacman died! Score: 255\n",
      "Pacman died! Score: 119\n",
      "Pacman died! Score: 21\n",
      "Pacman emerges victorious! Score: 1768\n",
      "Pacman died! Score: 31\n",
      "Pacman died! Score: 275\n",
      "Pacman emerges victorious! Score: 1567\n",
      "Pacman died! Score: 423\n",
      "Pacman died! Score: -168\n",
      "Pacman emerges victorious! Score: 1373\n",
      "Pacman died! Score: 193\n",
      "Pacman emerges victorious! Score: 1579\n",
      "Pacman died! Score: -177\n",
      "Pacman died! Score: 33\n",
      "Pacman died! Score: -158\n",
      "Pacman emerges victorious! Score: 1372\n",
      "Pacman died! Score: 120\n",
      "Pacman emerges victorious! Score: 1380\n",
      "Pacman emerges victorious! Score: 1169\n",
      "Pacman emerges victorious! Score: 1352\n",
      "Pacman died! Score: 425\n",
      "Pacman emerges victorious! Score: 1148\n",
      "Pacman died! Score: 465\n",
      "Pacman emerges victorious! Score: 1266\n",
      "Pacman emerges victorious! Score: 1582\n",
      "Pacman emerges victorious! Score: 1577\n",
      "Pacman emerges victorious! Score: 1530\n",
      "Pacman emerges victorious! Score: 1778\n",
      "Pacman emerges victorious! Score: 1364\n",
      "Pacman died! Score: 156\n",
      "Pacman died! Score: 74\n",
      "Pacman emerges victorious! Score: 1484\n",
      "Pacman emerges victorious! Score: 1376\n",
      "Pacman emerges victorious! Score: 1183\n",
      "Pacman died! Score: 456\n",
      "Pacman emerges victorious! Score: 1544\n",
      "Pacman emerges victorious! Score: 966\n",
      "Pacman died! Score: 37\n",
      "Pacman died! Score: 149\n",
      "Pacman emerges victorious! Score: 1570\n",
      "Pacman died! Score: 526\n",
      "Pacman emerges victorious! Score: 1571\n",
      "Pacman emerges victorious! Score: 1557\n",
      "Pacman emerges victorious! Score: 1327\n",
      "Pacman died! Score: 701\n",
      "Pacman emerges victorious! Score: 1740\n",
      "Pacman emerges victorious! Score: 1578\n",
      "Pacman died! Score: -159\n",
      "Pacman emerges victorious! Score: 1375\n",
      "Pacman died! Score: -23\n"
     ]
    },
    {
     "name": "stderr",
     "output_type": "stream",
     "text": [
      "Agent 0 ran out of time! (time: 1.01)\n"
     ]
    },
    {
     "name": "stdout",
     "output_type": "stream",
     "text": [
      "Pacman crashed\n"
     ]
    },
    {
     "name": "stderr",
     "output_type": "stream",
     "text": [
      "Agent 0 ran out of time! (time: 1.00)\n"
     ]
    },
    {
     "name": "stdout",
     "output_type": "stream",
     "text": [
      "Pacman crashed\n",
      "Pacman emerges victorious! Score: 1345\n",
      "Pacman died! Score: 277\n",
      "Pacman emerges victorious! Score: 1378\n",
      "Pacman emerges victorious! Score: 1573\n",
      "Pacman died! Score: 312\n",
      "Pacman emerges victorious! Score: 1572\n",
      "Pacman emerges victorious! Score: 1573\n"
     ]
    },
    {
     "name": "stderr",
     "output_type": "stream",
     "text": [
      "Agent 0 ran out of time! (time: 1.01)\n"
     ]
    },
    {
     "name": "stdout",
     "output_type": "stream",
     "text": [
      "Pacman crashed\n",
      "Pacman died! Score: 284\n",
      "Pacman died! Score: 450\n",
      "Pacman died! Score: 30\n",
      "Pacman emerges victorious! Score: 1568\n",
      "Pacman died! Score: 259\n",
      "Pacman died! Score: -168\n",
      "Pacman died! Score: 48\n",
      "Pacman emerges victorious! Score: 1571\n",
      "Pacman died! Score: 329\n"
     ]
    },
    {
     "name": "stderr",
     "output_type": "stream",
     "text": [
      "Agent 0 ran out of time! (time: 1.00)\n"
     ]
    },
    {
     "name": "stdout",
     "output_type": "stream",
     "text": [
      "Pacman crashed\n",
      "Pacman emerges victorious! Score: 1295\n",
      "Pacman emerges victorious! Score: 1373\n",
      "Pacman emerges victorious! Score: 1145\n",
      "Pacman emerges victorious! Score: 1369\n",
      "Pacman emerges victorious! Score: 1556\n",
      "Pacman emerges victorious! Score: 1770\n",
      "Pacman emerges victorious! Score: 1565\n",
      "Pacman emerges victorious! Score: 1180\n",
      "Pacman emerges victorious! Score: 1332\n",
      "Pacman died! Score: 287\n",
      "Pacman died! Score: 49\n",
      "Pacman emerges victorious! Score: 1375\n",
      "Pacman emerges victorious! Score: 1574\n",
      "Pacman died! Score: -186\n",
      "Pacman died! Score: 40\n",
      "Pacman emerges victorious! Score: 1556\n",
      "Pacman emerges victorious! Score: 1375\n",
      "Pacman emerges victorious! Score: 1570\n",
      "Pacman emerges victorious! Score: 1178\n",
      "Pacman emerges victorious! Score: 1545\n",
      "Pacman emerges victorious! Score: 1558\n",
      "Pacman emerges victorious! Score: 1376\n",
      "Pacman died! Score: 246\n",
      "Pacman emerges victorious! Score: 1375\n",
      "Pacman emerges victorious! Score: 1383\n",
      "Pacman emerges victorious! Score: 1567\n",
      "Pacman died! Score: -64\n",
      "Pacman emerges victorious! Score: 1569\n",
      "Pacman died! Score: 52\n",
      "Pacman emerges victorious! Score: 970\n",
      "Pacman emerges victorious! Score: 1175\n",
      "Pacman died! Score: 427\n",
      "Pacman died! Score: -152\n",
      "Pacman emerges victorious! Score: 1576\n",
      "Pacman died! Score: -161\n",
      "Pacman emerges victorious! Score: 1544\n",
      "Pacman died! Score: 33\n",
      "Pacman died! Score: 241\n",
      "Pacman emerges victorious! Score: 1579\n",
      "Pacman emerges victorious! Score: 1570\n",
      "Pacman died! Score: 221\n",
      "Pacman died! Score: -170\n",
      "Pacman emerges victorious! Score: 1348\n",
      "Pacman emerges victorious! Score: 1175\n",
      "Pacman died! Score: 399\n",
      "Pacman died! Score: -159\n",
      "Pacman emerges victorious! Score: 1382\n",
      "Pacman emerges victorious! Score: 1356\n",
      "Pacman emerges victorious! Score: 1378\n",
      "Pacman emerges victorious! Score: 1757\n",
      "Pacman emerges victorious! Score: 1543\n",
      "Pacman died! Score: -158\n",
      "Pacman died! Score: 90\n",
      "Pacman emerges victorious! Score: 928\n",
      "Pacman emerges victorious! Score: 1364\n",
      "Pacman emerges victorious! Score: 889\n",
      "Pacman emerges victorious! Score: 1778\n",
      "Pacman died! Score: 494\n",
      "Pacman died! Score: -176\n",
      "Pacman emerges victorious! Score: 1369\n",
      "Pacman emerges victorious! Score: 1181\n",
      "Pacman emerges victorious! Score: 1160\n",
      "Pacman emerges victorious! Score: 1175\n",
      "Pacman emerges victorious! Score: 1576\n",
      "Pacman died! Score: -177\n",
      "Pacman emerges victorious! Score: 1369\n",
      "Pacman emerges victorious! Score: 1571\n",
      "Pacman died! Score: 204\n",
      "Pacman died! Score: 86\n",
      "Pacman emerges victorious! Score: 1375\n",
      "Pacman emerges victorious! Score: 1344\n",
      "Pacman died! Score: 74\n",
      "Pacman emerges victorious! Score: 1373\n",
      "Pacman emerges victorious! Score: 1337\n",
      "Pacman emerges victorious! Score: 1169\n",
      "Pacman emerges victorious! Score: 1550\n",
      "Pacman died! Score: 181\n",
      "Pacman emerges victorious! Score: 1177\n",
      "Pacman emerges victorious! Score: 1750\n",
      "Pacman died! Score: 241\n",
      "Pacman emerges victorious! Score: 1567\n",
      "Pacman emerges victorious! Score: 1568\n",
      "Pacman died! Score: 86\n",
      "Pacman died! Score: 316\n",
      "Pacman died! Score: -177\n",
      "Pacman emerges victorious! Score: 1377\n",
      "Pacman died! Score: 78\n",
      "Pacman emerges victorious! Score: 1377\n",
      "Pacman died! Score: -168\n",
      "Pacman died! Score: 471\n",
      "Pacman emerges victorious! Score: 1731\n",
      "Pacman emerges victorious! Score: 1568\n",
      "Pacman died! Score: 245\n",
      "Pacman emerges victorious! Score: 1571\n",
      "Pacman died! Score: 427\n",
      "Pacman emerges victorious! Score: 960\n",
      "Pacman emerges victorious! Score: 1576\n",
      "Pacman died! Score: 518\n",
      "Pacman died! Score: 238\n",
      "Pacman died! Score: 137\n",
      "Pacman emerges victorious! Score: 1378\n",
      "Pacman emerges victorious! Score: 1331\n",
      "Pacman died! Score: 354\n",
      "Pacman emerges victorious! Score: 1571\n",
      "Pacman emerges victorious! Score: 934\n",
      "Pacman emerges victorious! Score: 1380\n",
      "Pacman emerges victorious! Score: 1542\n",
      "Pacman emerges victorious! Score: 1554\n",
      "Pacman emerges victorious! Score: 1579\n",
      "Pacman died! Score: 671\n",
      "Pacman died! Score: 474\n",
      "Pacman emerges victorious! Score: 1182\n",
      "Pacman emerges victorious! Score: 1058\n",
      "Pacman emerges victorious! Score: 1338\n",
      "Pacman emerges victorious! Score: 1369\n",
      "Pacman emerges victorious! Score: 1379\n",
      "Pacman emerges victorious! Score: 1383\n",
      "Pacman emerges victorious! Score: 1569\n",
      "Pacman emerges victorious! Score: 1578\n",
      "Pacman died! Score: 32\n",
      "Pacman emerges victorious! Score: 1380\n",
      "Pacman emerges victorious! Score: 1769\n",
      "Pacman died! Score: 221\n",
      "Pacman emerges victorious! Score: 1574\n",
      "Pacman died! Score: 180\n",
      "Pacman died! Score: 87\n",
      "Pacman died! Score: 33\n",
      "Pacman died! Score: -78\n",
      "Pacman emerges victorious! Score: 1375\n",
      "Pacman emerges victorious! Score: 1369\n",
      "Pacman emerges victorious! Score: 1175\n",
      "Pacman died! Score: 397\n",
      "Pacman emerges victorious! Score: 1548\n",
      "Pacman emerges victorious! Score: 1754\n",
      "Pacman emerges victorious! Score: 1755\n",
      "Pacman emerges victorious! Score: 1372\n",
      "Pacman died! Score: 444\n",
      "Pacman emerges victorious! Score: 1546\n",
      "Pacman emerges victorious! Score: 1283\n",
      "Pacman emerges victorious! Score: 1523\n",
      "Pacman emerges victorious! Score: 1364\n",
      "Pacman emerges victorious! Score: 1553\n",
      "Pacman died! Score: 32\n",
      "Pacman emerges victorious! Score: 1566\n",
      "Pacman died! Score: 205\n",
      "Pacman emerges victorious! Score: 1556\n",
      "Pacman emerges victorious! Score: 1138\n",
      "Pacman died! Score: 21\n",
      "Pacman died! Score: 273\n",
      "Pacman died! Score: 166\n",
      "Pacman died! Score: 584\n",
      "Pacman died! Score: 40\n",
      "Pacman emerges victorious! Score: 1374\n",
      "Pacman emerges victorious! Score: 1367\n",
      "Pacman died! Score: 374\n",
      "Pacman emerges victorious! Score: 1355\n",
      "Pacman emerges victorious! Score: 1378\n",
      "Pacman died! Score: 33\n",
      "Pacman emerges victorious! Score: 1346\n",
      "Pacman died! Score: 557\n",
      "Pacman emerges victorious! Score: 1579\n",
      "Pacman died! Score: 456\n",
      "Pacman emerges victorious! Score: 1381\n",
      "Pacman died! Score: 432\n",
      "Pacman died! Score: -158\n",
      "Pacman died! Score: 305\n",
      "Pacman died! Score: 273\n",
      "Pacman emerges victorious! Score: 1183\n"
     ]
    },
    {
     "name": "stderr",
     "output_type": "stream",
     "text": [
      "Agent 0 ran out of time! (time: 1.01)\n"
     ]
    },
    {
     "name": "stdout",
     "output_type": "stream",
     "text": [
      "Pacman crashed\n",
      "Pacman emerges victorious! Score: 1680\n",
      "Pacman emerges victorious! Score: 1180\n",
      "Pacman emerges victorious! Score: 1754\n",
      "Pacman died! Score: -41\n",
      "Pacman died! Score: -127\n",
      "Pacman emerges victorious! Score: 1479\n",
      "Pacman died! Score: 196\n",
      "Pacman died! Score: -158\n",
      "Pacman died! Score: 147\n",
      "Pacman emerges victorious! Score: 1568\n",
      "Pacman emerges victorious! Score: 1367\n",
      "Pacman died! Score: -347\n",
      "Pacman died! Score: 209\n",
      "Pacman died! Score: 452\n",
      "Pacman died! Score: 87\n",
      "Pacman died! Score: 72\n",
      "Pacman died! Score: 427\n",
      "Pacman died! Score: 379\n",
      "Pacman died! Score: 125\n",
      "Pacman emerges victorious! Score: 1366\n",
      "Pacman emerges victorious! Score: 1556\n",
      "Pacman emerges victorious! Score: 1572\n",
      "Pacman emerges victorious! Score: 1349\n",
      "Pacman died! Score: 272\n",
      "Pacman emerges victorious! Score: 1379\n",
      "Pacman emerges victorious! Score: 1552\n",
      "Pacman emerges victorious! Score: 1569\n",
      "Pacman emerges victorious! Score: 1578\n",
      "Pacman died! Score: 643\n",
      "Pacman emerges victorious! Score: 1364\n",
      "Pacman died! Score: 42\n",
      "Pacman emerges victorious! Score: 1181\n",
      "Pacman emerges victorious! Score: 1534\n",
      "Pacman emerges victorious! Score: 1181\n",
      "Pacman died! Score: 347\n",
      "Pacman emerges victorious! Score: 1572\n",
      "Pacman emerges victorious! Score: 1577\n",
      "Pacman died! Score: 451\n",
      "Pacman died! Score: 134\n",
      "Pacman died! Score: 724\n",
      "Pacman emerges victorious! Score: 1572\n",
      "Pacman died! Score: 303\n",
      "Pacman emerges victorious! Score: 1180\n",
      "Pacman died! Score: -167\n",
      "Pacman died! Score: -158\n",
      "Pacman emerges victorious! Score: 1774\n",
      "Pacman emerges victorious! Score: 1743\n",
      "Pacman died! Score: 466\n",
      "Pacman emerges victorious! Score: 1163\n",
      "Pacman died! Score: 326\n",
      "Pacman emerges victorious! Score: 1764\n",
      "Pacman died! Score: 259\n",
      "Pacman died! Score: -167\n",
      "Pacman emerges victorious! Score: 1294\n",
      "Pacman emerges victorious! Score: 1289\n",
      "Pacman emerges victorious! Score: 1481\n",
      "Pacman emerges victorious! Score: 1545\n",
      "Pacman died! Score: 433\n",
      "Pacman died! Score: -160\n",
      "Pacman emerges victorious! Score: 1141\n",
      "Pacman emerges victorious! Score: 1375\n",
      "Pacman emerges victorious! Score: 1200\n",
      "Pacman emerges victorious! Score: 1774\n",
      "Pacman died! Score: 269\n",
      "Pacman emerges victorious! Score: 1576\n",
      "Pacman died! Score: 449\n",
      "Pacman died! Score: -150\n",
      "Pacman emerges victorious! Score: 1375\n",
      "Pacman emerges victorious! Score: 1570\n",
      "Pacman emerges victorious! Score: 1360\n",
      "Pacman died! Score: -186\n",
      "Pacman emerges victorious! Score: 1580\n",
      "Pacman emerges victorious! Score: 1363\n",
      "Pacman died! Score: 267\n",
      "Pacman died! Score: 302\n",
      "Pacman emerges victorious! Score: 1578\n",
      "Pacman died! Score: -158\n",
      "Pacman died! Score: 32\n",
      "Pacman died! Score: -135\n",
      "Pacman died! Score: 224\n"
     ]
    },
    {
     "name": "stderr",
     "output_type": "stream",
     "text": [
      "Agent 0 ran out of time! (time: 1.01)\n"
     ]
    },
    {
     "name": "stdout",
     "output_type": "stream",
     "text": [
      "Pacman crashed\n",
      "Pacman emerges victorious! Score: 1338\n",
      "Pacman died! Score: 385\n",
      "Pacman emerges victorious! Score: 1369\n",
      "Pacman died! Score: 444\n",
      "Pacman emerges victorious! Score: 1777\n",
      "Pacman emerges victorious! Score: 1346\n",
      "Pacman emerges victorious! Score: 1367\n",
      "Pacman died! Score: 670\n",
      "Pacman emerges victorious! Score: 1564\n",
      "Pacman emerges victorious! Score: 1582\n",
      "Pacman emerges victorious! Score: 1128\n",
      "Pacman emerges victorious! Score: 1770\n",
      "Pacman emerges victorious! Score: 1373\n",
      "Pacman emerges victorious! Score: 1576\n",
      "Pacman died! Score: 453\n",
      "Pacman died! Score: 247\n",
      "Pacman emerges victorious! Score: 1363\n",
      "Pacman emerges victorious! Score: 1571\n",
      "Pacman died! Score: 661\n",
      "Pacman died! Score: 159\n",
      "Pacman emerges victorious! Score: 1181\n",
      "Pacman emerges victorious! Score: 1572\n",
      "Pacman emerges victorious! Score: 1747\n",
      "Pacman died! Score: 478\n",
      "Pacman died! Score: 452\n",
      "Pacman died! Score: 718\n",
      "Pacman died! Score: 252\n",
      "Pacman emerges victorious! Score: 1770\n",
      "Pacman emerges victorious! Score: 1575\n",
      "Pacman emerges victorious! Score: 1186\n",
      "Pacman died! Score: 33\n",
      "Pacman emerges victorious! Score: 1366\n",
      "Pacman died! Score: -131\n",
      "Pacman died! Score: 416\n",
      "Pacman emerges victorious! Score: 1120\n",
      "Pacman emerges victorious! Score: 1566\n",
      "Pacman died! Score: 606\n",
      "Pacman emerges victorious! Score: 1567\n",
      "Pacman emerges victorious! Score: 1767\n",
      "Pacman emerges victorious! Score: 1569\n",
      "Pacman emerges victorious! Score: 1380\n",
      "Pacman emerges victorious! Score: 1380\n",
      "Pacman died! Score: -163\n",
      "Pacman emerges victorious! Score: 1561\n",
      "Pacman died! Score: 18\n",
      "Pacman emerges victorious! Score: 1576\n",
      "Pacman emerges victorious! Score: 1343\n",
      "Pacman died! Score: 639\n",
      "Pacman died! Score: 36\n",
      "Pacman died! Score: 70\n",
      "Pacman emerges victorious! Score: 1566\n",
      "Pacman died! Score: -176\n",
      "Pacman emerges victorious! Score: 1176\n",
      "Pacman emerges victorious! Score: 1103\n",
      "Pacman emerges victorious! Score: 1168\n",
      "Pacman emerges victorious! Score: 1567\n",
      "Pacman emerges victorious! Score: 1378\n",
      "Pacman died! Score: 64\n",
      "Pacman emerges victorious! Score: 1574\n",
      "Pacman emerges victorious! Score: 1374\n",
      "Pacman died! Score: 48\n",
      "Pacman died! Score: -58\n",
      "Pacman emerges victorious! Score: 1365\n",
      "Pacman emerges victorious! Score: 1550\n",
      "Pacman emerges victorious! Score: 1533\n",
      "Pacman died! Score: -160\n",
      "Pacman died! Score: -150\n",
      "Pacman died! Score: 69\n",
      "Pacman emerges victorious! Score: 1343\n",
      "Pacman emerges victorious! Score: 1566\n",
      "Pacman emerges victorious! Score: 1383\n",
      "Pacman emerges victorious! Score: 1571\n",
      "Pacman emerges victorious! Score: 1366\n"
     ]
    },
    {
     "name": "stderr",
     "output_type": "stream",
     "text": [
      "Agent 0 ran out of time! (time: 1.00)\n"
     ]
    },
    {
     "name": "stdout",
     "output_type": "stream",
     "text": [
      "Pacman crashed\n",
      "Pacman emerges victorious! Score: 938\n",
      "Pacman emerges victorious! Score: 1479\n",
      "Pacman died! Score: 408\n",
      "Pacman emerges victorious! Score: 1176\n",
      "Pacman emerges victorious! Score: 1347\n",
      "Pacman emerges victorious! Score: 1579\n",
      "Pacman emerges victorious! Score: 1383\n",
      "Pacman died! Score: -38\n",
      "Pacman emerges victorious! Score: 1370\n",
      "Pacman emerges victorious! Score: 1571\n",
      "Pacman died! Score: -158\n",
      "Pacman died! Score: 17\n",
      "Pacman emerges victorious! Score: 1563\n"
     ]
    },
    {
     "name": "stderr",
     "output_type": "stream",
     "text": [
      "Agent 0 ran out of time! (time: 1.00)\n"
     ]
    },
    {
     "name": "stdout",
     "output_type": "stream",
     "text": [
      "Pacman crashed\n",
      "Pacman emerges victorious! Score: 1566\n",
      "Pacman emerges victorious! Score: 1378\n",
      "Pacman died! Score: 663\n",
      "Pacman died! Score: 678\n",
      "Pacman died! Score: -61\n",
      "Pacman emerges victorious! Score: 1738\n",
      "Pacman died! Score: -134\n",
      "Pacman died! Score: 352\n",
      "Pacman emerges victorious! Score: 1761\n",
      "Pacman died! Score: 40\n",
      "Pacman emerges victorious! Score: 1571\n",
      "Pacman emerges victorious! Score: 1273\n",
      "Pacman emerges victorious! Score: 1349\n",
      "Pacman died! Score: -50\n",
      "Pacman emerges victorious! Score: 1360\n",
      "Pacman emerges victorious! Score: 1182\n",
      "Pacman emerges victorious! Score: 1374\n",
      "Pacman emerges victorious! Score: 1378\n",
      "Pacman emerges victorious! Score: 1540\n",
      "Pacman emerges victorious! Score: 965\n",
      "Pacman emerges victorious! Score: 1514\n",
      "Pacman emerges victorious! Score: 1349\n",
      "Pacman emerges victorious! Score: 1374\n"
     ]
    },
    {
     "name": "stderr",
     "output_type": "stream",
     "text": [
      "Agent 0 ran out of time! (time: 1.00)\n"
     ]
    },
    {
     "name": "stdout",
     "output_type": "stream",
     "text": [
      "Pacman crashed\n",
      "Pacman died! Score: 262\n",
      "Pacman emerges victorious! Score: 1381\n",
      "Pacman emerges victorious! Score: 1770\n",
      "Pacman died! Score: 484\n",
      "Pacman emerges victorious! Score: 1365\n",
      "Pacman emerges victorious! Score: 1168\n",
      "Pacman died! Score: 263\n",
      "Pacman emerges victorious! Score: 1385\n",
      "Pacman died! Score: 297\n",
      "Pacman emerges victorious! Score: 969\n",
      "Pacman emerges victorious! Score: 1375\n",
      "Pacman emerges victorious! Score: 1294\n",
      "Pacman died! Score: 458\n",
      "Pacman emerges victorious! Score: 1558\n",
      "Pacman emerges victorious! Score: 1379\n",
      "Pacman emerges victorious! Score: 1715\n",
      "Pacman emerges victorious! Score: 1367\n",
      "Pacman emerges victorious! Score: 1369\n",
      "Pacman emerges victorious! Score: 1490\n",
      "Pacman emerges victorious! Score: 1575\n",
      "Pacman emerges victorious! Score: 1366\n",
      "Pacman died! Score: 556\n",
      "Pacman died! Score: -132\n",
      "Pacman died! Score: 78\n",
      "Pacman died! Score: 23\n",
      "Pacman emerges victorious! Score: 1575\n",
      "Pacman emerges victorious! Score: 1579\n",
      "Pacman emerges victorious! Score: 1568\n",
      "Pacman emerges victorious! Score: 1170\n",
      "Pacman died! Score: 28\n",
      "Pacman emerges victorious! Score: 1351\n",
      "Pacman emerges victorious! Score: 1763\n",
      "Pacman emerges victorious! Score: 1575\n",
      "Pacman died! Score: 314\n",
      "Pacman emerges victorious! Score: 1563\n",
      "Pacman emerges victorious! Score: 1381\n",
      "Pacman emerges victorious! Score: 1367\n",
      "Pacman died! Score: 671\n"
     ]
    },
    {
     "name": "stderr",
     "output_type": "stream",
     "text": [
      "Agent 0 ran out of time! (time: 1.00)\n"
     ]
    },
    {
     "name": "stdout",
     "output_type": "stream",
     "text": [
      "Pacman crashed\n",
      "Pacman died! Score: -177\n",
      "Pacman died! Score: 213\n",
      "Pacman emerges victorious! Score: 1720\n",
      "Pacman died! Score: -98\n"
     ]
    },
    {
     "name": "stderr",
     "output_type": "stream",
     "text": [
      "Agent 0 ran out of time! (time: 1.00)\n"
     ]
    },
    {
     "name": "stdout",
     "output_type": "stream",
     "text": [
      "Pacman crashed\n",
      "Pacman emerges victorious! Score: 1372\n",
      "Pacman died! Score: 109\n",
      "Pacman emerges victorious! Score: 1321\n",
      "Pacman died! Score: 445\n",
      "Pacman died! Score: 24\n",
      "Pacman emerges victorious! Score: 1561\n",
      "Pacman died! Score: -119\n",
      "Pacman emerges victorious! Score: 1360\n",
      "Pacman emerges victorious! Score: 1562\n",
      "Pacman died! Score: 68\n"
     ]
    },
    {
     "name": "stderr",
     "output_type": "stream",
     "text": [
      "Agent 0 ran out of time! (time: 1.00)\n"
     ]
    },
    {
     "name": "stdout",
     "output_type": "stream",
     "text": [
      "Pacman crashed\n",
      "Pacman died! Score: 227\n",
      "Pacman emerges victorious! Score: 1769\n",
      "Pacman emerges victorious! Score: 1374\n",
      "Pacman died! Score: -167\n",
      "Pacman died! Score: 456\n",
      "Pacman died! Score: -150\n"
     ]
    },
    {
     "name": "stderr",
     "output_type": "stream",
     "text": [
      "Agent 0 ran out of time! (time: 1.00)\n"
     ]
    },
    {
     "name": "stdout",
     "output_type": "stream",
     "text": [
      "Pacman crashed\n",
      "Pacman emerges victorious! Score: 1559\n",
      "Pacman emerges victorious! Score: 1576\n",
      "Pacman emerges victorious! Score: 1571\n",
      "Pacman emerges victorious! Score: 1368\n",
      "Pacman emerges victorious! Score: 1092\n",
      "Pacman emerges victorious! Score: 1370\n",
      "Pacman emerges victorious! Score: 1510\n",
      "Pacman emerges victorious! Score: 1259\n",
      "Pacman emerges victorious! Score: 1557\n",
      "Pacman died! Score: 251\n",
      "Pacman emerges victorious! Score: 1370\n",
      "Pacman died! Score: -71\n",
      "Pacman emerges victorious! Score: 1775\n",
      "Pacman emerges victorious! Score: 1145\n",
      "Pacman emerges victorious! Score: 1769\n",
      "Pacman emerges victorious! Score: 1347\n",
      "Pacman emerges victorious! Score: 1353\n",
      "Pacman emerges victorious! Score: 1344\n",
      "Pacman emerges victorious! Score: 1766\n",
      "Pacman emerges victorious! Score: 1573\n",
      "Pacman died! Score: 161\n",
      "Pacman emerges victorious! Score: 1379\n",
      "Pacman emerges victorious! Score: 1378\n",
      "Pacman emerges victorious! Score: 1374\n",
      "Pacman emerges victorious! Score: 1577\n",
      "Pacman died! Score: 491\n",
      "Pacman died! Score: -113\n",
      "Pacman emerges victorious! Score: 1365\n",
      "Pacman died! Score: -220\n",
      "Pacman died! Score: 214\n",
      "Pacman died! Score: 674\n",
      "Pacman died! Score: 576\n",
      "Pacman emerges victorious! Score: 1566\n",
      "Pacman died! Score: 30\n",
      "Pacman emerges victorious! Score: 1323\n",
      "Pacman emerges victorious! Score: 1377\n",
      "Pacman emerges victorious! Score: 1607\n",
      "Pacman died! Score: 659\n",
      "Pacman emerges victorious! Score: 974\n",
      "Pacman emerges victorious! Score: 1325\n",
      "Pacman died! Score: 569\n",
      "Pacman died! Score: 631\n",
      "Pacman emerges victorious! Score: 1557\n",
      "Pacman died! Score: -116\n",
      "Pacman emerges victorious! Score: 1572\n"
     ]
    },
    {
     "name": "stderr",
     "output_type": "stream",
     "text": [
      "Agent 0 ran out of time! (time: 1.01)\n"
     ]
    },
    {
     "name": "stdout",
     "output_type": "stream",
     "text": [
      "Pacman crashed\n",
      "Pacman died! Score: 324\n",
      "Pacman emerges victorious! Score: 1542\n",
      "Pacman died! Score: 468\n",
      "Pacman emerges victorious! Score: 1513\n",
      "Pacman died! Score: -158\n",
      "Pacman emerges victorious! Score: 1550\n",
      "Pacman emerges victorious! Score: 1778\n",
      "Pacman emerges victorious! Score: 1385\n",
      "Pacman emerges victorious! Score: 1380\n",
      "Pacman died! Score: -160\n",
      "Pacman emerges victorious! Score: 1310\n",
      "Pacman emerges victorious! Score: 1369\n",
      "Pacman died! Score: -186\n",
      "Pacman emerges victorious! Score: 1164\n",
      "Pacman died! Score: 118\n",
      "Pacman died! Score: -167\n",
      "Pacman died! Score: 339\n",
      "Pacman died! Score: 93\n",
      "Pacman emerges victorious! Score: 1369\n",
      "Pacman died! Score: -158\n",
      "Pacman died! Score: 31\n",
      "Pacman died! Score: 636\n",
      "Pacman died! Score: 509\n",
      "Pacman died! Score: 351\n",
      "Pacman emerges victorious! Score: 1551\n",
      "Pacman emerges victorious! Score: 1525\n",
      "Pacman emerges victorious! Score: 1778\n",
      "Pacman died! Score: -176\n",
      "Pacman emerges victorious! Score: 1347\n",
      "Pacman emerges victorious! Score: 1574\n",
      "Pacman emerges victorious! Score: 1569\n",
      "Pacman emerges victorious! Score: 1565\n",
      "Pacman emerges victorious! Score: 1313\n",
      "Pacman emerges victorious! Score: 1180\n",
      "Pacman died! Score: -88\n",
      "Pacman died! Score: 23\n",
      "Pacman emerges victorious! Score: 1573\n",
      "Pacman emerges victorious! Score: 1557\n",
      "Pacman emerges victorious! Score: 1544\n",
      "Pacman died! Score: 240\n",
      "Pacman died! Score: 171\n",
      "Pacman emerges victorious! Score: 1577\n",
      "Pacman emerges victorious! Score: 1552\n",
      "Pacman emerges victorious! Score: 1378\n",
      "Pacman emerges victorious! Score: 1348\n",
      "Pacman died! Score: 12\n",
      "Pacman emerges victorious! Score: 1342\n",
      "Pacman emerges victorious! Score: 1371\n",
      "Pacman emerges victorious! Score: 1319\n",
      "Pacman emerges victorious! Score: 1334\n",
      "Pacman died! Score: 4\n",
      "Pacman emerges victorious! Score: 1382\n",
      "Pacman died! Score: 437\n",
      "Pacman emerges victorious! Score: 1559\n",
      "Pacman emerges victorious! Score: 1568\n",
      "Pacman emerges victorious! Score: 1550\n",
      "Pacman emerges victorious! Score: 1162\n",
      "Pacman died! Score: 439\n",
      "Pacman emerges victorious! Score: 1345\n",
      "Pacman died! Score: 125\n",
      "Pacman died! Score: 94\n",
      "Pacman died! Score: 150\n",
      "Pacman died! Score: 329\n",
      "Pacman died! Score: 341\n",
      "Pacman died! Score: -170\n",
      "Pacman emerges victorious! Score: 1772\n",
      "Pacman emerges victorious! Score: 1365\n",
      "Pacman died! Score: 122\n",
      "Pacman died! Score: 494\n",
      "Pacman emerges victorious! Score: 1180\n",
      "Pacman died! Score: 119\n",
      "Pacman emerges victorious! Score: 1374\n",
      "Pacman emerges victorious! Score: 1676\n",
      "Pacman died! Score: 30\n",
      "Pacman emerges victorious! Score: 1572\n",
      "Pacman emerges victorious! Score: 1757\n",
      "Pacman emerges victorious! Score: 1321\n",
      "Pacman emerges victorious! Score: 1374\n",
      "Pacman emerges victorious! Score: 1358\n",
      "Pacman died! Score: -167\n",
      "Pacman emerges victorious! Score: 1171\n",
      "Pacman died! Score: 105\n",
      "Pacman emerges victorious! Score: 1439\n",
      "Pacman emerges victorious! Score: 1578\n",
      "Pacman died! Score: -158\n",
      "Pacman died! Score: 454\n",
      "Pacman emerges victorious! Score: 1383\n",
      "Pacman emerges victorious! Score: 1564\n",
      "Pacman emerges victorious! Score: 1331\n",
      "Pacman died! Score: 31\n",
      "Pacman died! Score: 192\n",
      "Pacman emerges victorious! Score: 911\n",
      "Pacman emerges victorious! Score: 1318\n",
      "Pacman emerges victorious! Score: 1359\n",
      "Pacman died! Score: -64\n",
      "Pacman emerges victorious! Score: 1084\n",
      "Pacman died! Score: 156\n",
      "Pacman emerges victorious! Score: 1357\n",
      "Pacman emerges victorious! Score: 1572\n",
      "Pacman emerges victorious! Score: 1561\n",
      "Pacman emerges victorious! Score: 1772\n",
      "Pacman emerges victorious! Score: 1380\n",
      "Pacman died! Score: 456\n",
      "Pacman died! Score: 42\n",
      "Pacman emerges victorious! Score: 1375\n",
      "Pacman emerges victorious! Score: 1748\n",
      "Pacman died! Score: 175\n",
      "Pacman died! Score: 127\n",
      "Pacman died! Score: 228\n",
      "Pacman died! Score: 421\n",
      "Pacman emerges victorious! Score: 1363\n",
      "Pacman emerges victorious! Score: 967\n",
      "Pacman died! Score: 33\n",
      "Pacman emerges victorious! Score: 1559\n",
      "Pacman died! Score: 329\n",
      "Pacman died! Score: 490\n",
      "Pacman died! Score: 86\n",
      "Pacman died! Score: 742\n",
      "Pacman emerges victorious! Score: 1340\n",
      "Pacman emerges victorious! Score: 1382\n",
      "Pacman died! Score: 35\n",
      "Pacman emerges victorious! Score: 1735\n",
      "Pacman emerges victorious! Score: 1558\n",
      "Pacman emerges victorious! Score: 1140\n",
      "Pacman emerges victorious! Score: 1360\n",
      "Pacman emerges victorious! Score: 1371\n",
      "Pacman emerges victorious! Score: 1373\n",
      "Pacman emerges victorious! Score: 1565\n",
      "Pacman died! Score: 474\n",
      "Pacman emerges victorious! Score: 1524\n",
      "Pacman emerges victorious! Score: 1353\n",
      "Pacman died! Score: 272\n",
      "Pacman emerges victorious! Score: 1377\n",
      "Pacman died! Score: 31\n",
      "Pacman emerges victorious! Score: 1571\n",
      "Pacman emerges victorious! Score: 1689\n",
      "Pacman emerges victorious! Score: 1569\n",
      "Pacman died! Score: 40\n",
      "Pacman died! Score: -167\n",
      "Pacman died! Score: 525\n",
      "Pacman died! Score: -99\n",
      "Pacman died! Score: 402\n",
      "Pacman emerges victorious! Score: 1102\n"
     ]
    },
    {
     "name": "stderr",
     "output_type": "stream",
     "text": [
      "Agent 0 ran out of time! (time: 1.00)\n"
     ]
    },
    {
     "name": "stdout",
     "output_type": "stream",
     "text": [
      "Pacman crashed\n",
      "Pacman emerges victorious! Score: 1176\n",
      "Pacman emerges victorious! Score: 1562\n",
      "Pacman died! Score: 21\n",
      "Pacman emerges victorious! Score: 1331\n",
      "Pacman emerges victorious! Score: 1537\n",
      "Pacman emerges victorious! Score: 1179\n",
      "Pacman emerges victorious! Score: 1103\n",
      "Pacman emerges victorious! Score: 982\n",
      "Pacman emerges victorious! Score: 1578\n",
      "Pacman emerges victorious! Score: 1578\n",
      "Pacman died! Score: 534\n",
      "Pacman emerges victorious! Score: 1560\n",
      "Pacman died! Score: 736\n",
      "Pacman died! Score: 353\n",
      "Pacman emerges victorious! Score: 1364\n",
      "Pacman emerges victorious! Score: 1175\n",
      "Pacman died! Score: -152\n",
      "Pacman died! Score: -177\n",
      "Pacman emerges victorious! Score: 1572\n",
      "Pacman emerges victorious! Score: 1173\n",
      "Pacman died! Score: 273\n",
      "Pacman died! Score: 237\n",
      "Pacman died! Score: 300\n",
      "Pacman died! Score: 276\n",
      "Pacman emerges victorious! Score: 1378\n",
      "Pacman died! Score: -44\n",
      "Pacman died! Score: 388\n",
      "Pacman emerges victorious! Score: 1778\n",
      "Pacman emerges victorious! Score: 1154\n",
      "Pacman emerges victorious! Score: 1575\n",
      "Pacman emerges victorious! Score: 1545\n"
     ]
    },
    {
     "name": "stderr",
     "output_type": "stream",
     "text": [
      "Agent 0 ran out of time! (time: 1.01)\n"
     ]
    },
    {
     "name": "stdout",
     "output_type": "stream",
     "text": [
      "Pacman crashed\n",
      "Pacman emerges victorious! Score: 1372\n",
      "Pacman died! Score: 350\n",
      "Pacman emerges victorious! Score: 1566\n",
      "Pacman emerges victorious! Score: 1762\n",
      "Pacman emerges victorious! Score: 1566\n",
      "Pacman died! Score: -158\n"
     ]
    },
    {
     "name": "stderr",
     "output_type": "stream",
     "text": [
      "Agent 0 ran out of time! (time: 1.01)\n"
     ]
    },
    {
     "name": "stdout",
     "output_type": "stream",
     "text": [
      "Pacman crashed\n",
      "Pacman died! Score: -177\n",
      "Pacman emerges victorious! Score: 1382\n",
      "Pacman died! Score: 258\n",
      "Pacman emerges victorious! Score: 1566\n",
      "Pacman died! Score: 463\n",
      "Pacman emerges victorious! Score: 978\n",
      "Pacman emerges victorious! Score: 1568\n",
      "Pacman emerges victorious! Score: 1372\n",
      "Pacman died! Score: 442\n",
      "Pacman emerges victorious! Score: 1371\n",
      "Pacman emerges victorious! Score: 1354\n"
     ]
    }
   ],
   "source": [
    "max_generation = 25\n",
    "fitness_progress = model.run(max_generation)"
   ]
  },
  {
   "cell_type": "code",
   "execution_count": 7,
   "id": "69381ef9-b799-4277-90c1-41909f7fbacb",
   "metadata": {},
   "outputs": [
    {
     "data": {
      "text/plain": [
       "[<matplotlib.lines.Line2D at 0x169ac52d730>]"
      ]
     },
     "execution_count": 7,
     "metadata": {},
     "output_type": "execute_result"
    },
    {
     "data": {
      "image/png": "[encoded data removed]",
      "text/plain": [
       "<Figure size 432x288 with 1 Axes>"
      ]
     },
     "metadata": {
      "needs_background": "light"
     },
     "output_type": "display_data"
    }
   ],
   "source": [
    "import matplotlib.pyplot as plt\n",
    "%matplotlib inline\n",
    "\n",
    "x1 = list(range(len(fitness_progress)))\n",
    "\n",
    "plt.plot(x1, fitness_progress, 'o')"
   ]
  },
  {
   "cell_type": "code",
   "execution_count": 8,
   "id": "b63cf92f-25c3-49b6-a5c4-b9d79528d8ca",
   "metadata": {},
   "outputs": [
    {
     "data": {
      "text/plain": [
       "[4.960530425859144,\n",
       " 10.0,\n",
       " 7.072761150991743,\n",
       " 7.199273924672281,\n",
       " 3.1509453151381512,\n",
       " 2.9481608309121206,\n",
       " 2.583492404115936]"
      ]
     },
     "execution_count": 8,
     "metadata": {},
     "output_type": "execute_result"
    }
   ],
   "source": [
    "new_pesos = model.best_solution[0].tolist()\n",
    "new_pesos"
   ]
  },
  {
   "cell_type": "code",
   "execution_count": 9,
   "id": "2c405767-fe69-45f2-aaf2-04d9f5cd94b2",
   "metadata": {},
   "outputs": [
    {
     "data": {
      "text/plain": [
       "(array([ 4.96053043, 10.        ,  7.07276115,  7.19927392,  3.15094532,\n",
       "         2.94816083,  2.5834924 ]),\n",
       " 1783.0)"
      ]
     },
     "execution_count": 9,
     "metadata": {},
     "output_type": "execute_result"
    }
   ],
   "source": [
    "maior = 0\n",
    "for best in model.population:\n",
    "    if(best.fitness_val > maior):\n",
    "        maior = best.fitness_val\n",
    "        melhor_peso = best.chromosome\n",
    "melhor_peso, maior"
   ]
  },
  {
   "cell_type": "code",
   "execution_count": 13,
   "id": "5ce4348d-94e6-49c7-bdc6-5ea8d3c3b8c6",
   "metadata": {},
   "outputs": [
    {
     "name": "stdout",
     "output_type": "stream",
     "text": [
      "Pacman died! Score: 284\n"
     ]
    },
    {
     "data": {
      "text/plain": [
       "284"
      ]
     },
     "execution_count": 13,
     "metadata": {},
     "output_type": "execute_result"
    }
   ],
   "source": [
    "props={}\n",
    "pacman = SmartAgent(melhor_peso)\n",
    "ghostType = loadAgent('RandomGhost', True)\n",
    "textDisplay.SLEEP_TIME = 0\n",
    "props['layout'] = layout.getLayout( 'smallClassic' )\n",
    "props['pacman'] = pacman\n",
    "props['ghosts'] = [ghostType( i+1 ) for i in range( 2 )]\n",
    "#props['ghosts'] = []\n",
    "props['display'] = graphicsDisplay.PacmanGraphics(1, frameTime = 0)\n",
    "#props['display'] = textDisplay.NullGraphics()\n",
    "props['numGames'] = 1\n",
    "props['record'] = False\n",
    "props['catchExceptions'] = False\n",
    "props['timeout'] = 1\n",
    "    \n",
    "games = runGames(**props)\n",
    "scores = [game.state.getScore() for game in games]\n",
    "avg = sum(scores) / float(len(scores))\n",
    "int(avg)"
   ]
  },
  {
   "cell_type": "code",
   "execution_count": null,
   "id": "e1def652-0902-47f2-89f2-7ef83207a1b8",
   "metadata": {},
   "outputs": [],
   "source": []
  }
 ],
 "metadata": {
  "kernelspec": {
   "display_name": "Python 3",
   "language": "python",
   "name": "python3"
  },
  "language_info": {
   "codemirror_mode": {
    "name": "ipython",
    "version": 3
   },
   "file_extension": ".py",
   "mimetype": "text/x-python",
   "name": "python",
   "nbconvert_exporter": "python",
   "pygments_lexer": "ipython3",
   "version": "3.8.8"
  }
 },
 "nbformat": 4,
 "nbformat_minor": 5
}
