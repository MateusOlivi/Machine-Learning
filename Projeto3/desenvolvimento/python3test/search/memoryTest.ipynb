{
 "cells": [
  {
   "cell_type": "code",
   "execution_count": null,
   "id": "a5877061-653d-4633-ab7b-39bea13e8ecc",
   "metadata": {},
   "outputs": [],
   "source": [
    "from collections import Counter\n",
    "import linecache\n",
    "import os\n",
    "import tracemalloc\n",
    "\n",
    "def display_top(snapshot, key_type='lineno', limit=3):\n",
    "    snapshot = snapshot.filter_traces((\n",
    "        tracemalloc.Filter(False, \"<frozen importlib._bootstrap>\"),\n",
    "        tracemalloc.Filter(False, \"<unknown>\"),\n",
    "    ))\n",
    "    top_stats = snapshot.statistics(key_type)\n",
    "\n",
    "    print(\"Top %s lines\" % limit)\n",
    "    for index, stat in enumerate(top_stats[:limit], 1):\n",
    "        frame = stat.traceback[0]\n",
    "        # replace \"/path/to/module/file.py\" with \"module/file.py\"\n",
    "        filename = os.sep.join(frame.filename.split(os.sep)[-2:])\n",
    "        print(\"#%s: %s:%s: %.1f KiB\"\n",
    "              % (index, filename, frame.lineno, stat.size / 1024))\n",
    "        line = linecache.getline(frame.filename, frame.lineno).strip()\n",
    "        if line:\n",
    "            print('    %s' % line)\n",
    "\n",
    "    other = top_stats[limit:]\n",
    "    if other:\n",
    "        size = sum(stat.size for stat in other)\n",
    "        print(\"%s other: %.1f KiB\" % (len(other), size / 1024))\n",
    "    total = sum(stat.size for stat in top_stats)\n",
    "    print(\"Total allocated size: %.1f KiB\" % (total / 1024))"
   ]
  },
  {
   "cell_type": "code",
   "execution_count": 1,
   "id": "8f92dda6-fc63-4234-bc93-9c7602b57b9e",
   "metadata": {},
   "outputs": [
    {
     "name": "stderr",
     "output_type": "stream",
     "text": [
      "Agent 0 ran out of time! (time: 1.00)\n"
     ]
    },
    {
     "name": "stdout",
     "output_type": "stream",
     "text": [
      "Pacman crashed\n"
     ]
    },
    {
     "name": "stderr",
     "output_type": "stream",
     "text": [
      "Agent 0 ran out of time! (time: 1.00)\n"
     ]
    },
    {
     "name": "stdout",
     "output_type": "stream",
     "text": [
      "Pacman crashed\n"
     ]
    },
    {
     "name": "stderr",
     "output_type": "stream",
     "text": [
      "Agent 0 ran out of time! (time: 1.00)\n"
     ]
    },
    {
     "name": "stdout",
     "output_type": "stream",
     "text": [
      "Pacman crashed\n"
     ]
    },
    {
     "name": "stderr",
     "output_type": "stream",
     "text": [
      "Agent 0 ran out of time! (time: 1.00)\n"
     ]
    },
    {
     "name": "stdout",
     "output_type": "stream",
     "text": [
      "Pacman crashed\n"
     ]
    },
    {
     "name": "stderr",
     "output_type": "stream",
     "text": [
      "Agent 0 ran out of time! (time: 1.00)\n"
     ]
    },
    {
     "name": "stdout",
     "output_type": "stream",
     "text": [
      "Pacman crashed\n"
     ]
    },
    {
     "name": "stderr",
     "output_type": "stream",
     "text": [
      "Agent 0 ran out of time! (time: 1.00)\n"
     ]
    },
    {
     "name": "stdout",
     "output_type": "stream",
     "text": [
      "Pacman crashed\n"
     ]
    },
    {
     "name": "stderr",
     "output_type": "stream",
     "text": [
      "Agent 0 ran out of time! (time: 1.00)\n"
     ]
    },
    {
     "name": "stdout",
     "output_type": "stream",
     "text": [
      "Pacman crashed\n"
     ]
    },
    {
     "name": "stderr",
     "output_type": "stream",
     "text": [
      "Agent 0 ran out of time! (time: 1.00)\n"
     ]
    },
    {
     "name": "stdout",
     "output_type": "stream",
     "text": [
      "Pacman crashed\n"
     ]
    },
    {
     "name": "stderr",
     "output_type": "stream",
     "text": [
      "Agent 0 ran out of time! (time: 1.00)\n"
     ]
    },
    {
     "name": "stdout",
     "output_type": "stream",
     "text": [
      "Pacman crashed\n"
     ]
    },
    {
     "name": "stderr",
     "output_type": "stream",
     "text": [
      "Agent 0 ran out of time! (time: 1.00)\n"
     ]
    },
    {
     "name": "stdout",
     "output_type": "stream",
     "text": [
      "Pacman crashed\n"
     ]
    },
    {
     "name": "stderr",
     "output_type": "stream",
     "text": [
      "Agent 0 ran out of time! (time: 1.00)\n"
     ]
    },
    {
     "name": "stdout",
     "output_type": "stream",
     "text": [
      "Pacman crashed\n"
     ]
    },
    {
     "name": "stderr",
     "output_type": "stream",
     "text": [
      "Agent 0 ran out of time! (time: 1.00)\n"
     ]
    },
    {
     "name": "stdout",
     "output_type": "stream",
     "text": [
      "Pacman crashed\n"
     ]
    },
    {
     "name": "stderr",
     "output_type": "stream",
     "text": [
      "Agent 0 ran out of time! (time: 1.00)\n"
     ]
    },
    {
     "name": "stdout",
     "output_type": "stream",
     "text": [
      "Pacman crashed\n"
     ]
    },
    {
     "name": "stderr",
     "output_type": "stream",
     "text": [
      "Agent 0 ran out of time! (time: 1.11)\n"
     ]
    },
    {
     "name": "stdout",
     "output_type": "stream",
     "text": [
      "Pacman crashed\n"
     ]
    },
    {
     "name": "stderr",
     "output_type": "stream",
     "text": [
      "Agent 0 ran out of time! (time: 1.00)\n"
     ]
    },
    {
     "name": "stdout",
     "output_type": "stream",
     "text": [
      "Pacman crashed\n"
     ]
    },
    {
     "name": "stderr",
     "output_type": "stream",
     "text": [
      "Agent 0 ran out of time! (time: 1.00)\n"
     ]
    },
    {
     "name": "stdout",
     "output_type": "stream",
     "text": [
      "Pacman crashed\n"
     ]
    },
    {
     "name": "stderr",
     "output_type": "stream",
     "text": [
      "Agent 0 ran out of time! (time: 1.00)\n"
     ]
    },
    {
     "name": "stdout",
     "output_type": "stream",
     "text": [
      "Pacman crashed\n"
     ]
    },
    {
     "name": "stderr",
     "output_type": "stream",
     "text": [
      "Agent 0 ran out of time! (time: 1.00)\n"
     ]
    },
    {
     "name": "stdout",
     "output_type": "stream",
     "text": [
      "Pacman crashed\n"
     ]
    },
    {
     "name": "stderr",
     "output_type": "stream",
     "text": [
      "Agent 0 ran out of time! (time: 1.00)\n"
     ]
    },
    {
     "name": "stdout",
     "output_type": "stream",
     "text": [
      "Pacman crashed\n",
      "Pacman crashed\n",
      "[1092.0, 884.0, 643.0, 1052.0, -11.0, 1051.0, 1093.0, 644.0, 1024.0, 687.0, 570.0, 744.0, 534.0, 1066.0, 789.0, 250.0, 883.0, 1091.0, -101.0, 715.0]\n"
     ]
    },
    {
     "name": "stderr",
     "output_type": "stream",
     "text": [
      "Agent 0 ran out of time! (time: 1.00)\n"
     ]
    }
   ],
   "source": [
    "from pacman import runGames,loadAgent\n",
    "from pacman import Directions\n",
    "from pacmanAgents import GreedyAgent,LeftTurnAgent\n",
    "from util import Queue\n",
    "import textDisplay\n",
    "import game\n",
    "import layout\n",
    "import random\n",
    "import graphicsDisplay\n",
    "\n",
    "import numpy as np\n",
    "import tracemalloc\n",
    "from mem_top import mem_top\n",
    "\n",
    "\n",
    "#from pympler.tracker import SummaryTracker\n",
    "#tracker = SummaryTracker()\n",
    "\n",
    "#tracemalloc.start()\n",
    "\n",
    "def main():\n",
    "    props={}\n",
    "    pacman = GreedyAgent()\n",
    "    ghostType = loadAgent('RandomGhost', True)\n",
    "    textDisplay.SLEEP_TIME = 0\n",
    "    props['layout'] = layout.getLayout( 'originalClassic' )\n",
    "    props['pacman'] = pacman\n",
    "    props['ghosts'] = []\n",
    "    props['display'] = textDisplay.NullGraphics()\n",
    "    props['numGames'] = 20\n",
    "    props['record'] = False\n",
    "    props['catchExceptions'] = True\n",
    "    props['timeout'] = 1\n",
    "\n",
    "    res = runGames(**props)\n",
    "    scores = [game.state.getScore() for game in res]\n",
    "    \n",
    "    print(scores)\n",
    "    #del res\n",
    "\n",
    "main()\n",
    "#tracker.print_diff()\n",
    "#snapshot = tracemalloc.take_snapshot()\n",
    "#display_top(snapshot)\n"
   ]
  },
  {
   "cell_type": "code",
   "execution_count": 5,
   "id": "a7f6ad5c-acd7-4a6d-847b-f12ff50850d3",
   "metadata": {},
   "outputs": [
    {
     "name": "stdout",
     "output_type": "stream",
     "text": [
      "\n",
      "refs:\n",
      "33068\t<class 'set'> {<pacman.GameState object at 0x0000027630D5EEB0>, <pacman.GameState object at 0x00000276345ADE20>, <\n",
      "9867\t<class 'list'> [['int', 32175, 913940], ['code', 15737, 2803228], ['str', 55106, 7531079], ['NoneType', 1, 16], ['t\n",
      "1796\t<class 'dict'> {140707383654416: <weakref at 0x0000027627272DB0; to 'type' at 0x00007FF8FD9EB810 (type)>, 140707383\n",
      "874\t<class 'dict'> {'sys': <module 'sys' (built-in)>, 'builtins': <module 'builtins' (built-in)>, '_frozen_importlib': \n",
      "749\t<class 'set'> {'jedi.inference.recursion', 'prompt_toolkit.lexers', 'prompt_toolkit.shortcuts.dialogs', 'jupyter_c\n",
      "609\t<class 'list'> ['ModuleDeprecationWarning', 'VisibleDeprecationWarning', '__version__', 'show_config', 'char', 'rec\n",
      "606\t<class 'dict'> {'__name__': 'numpy', '__doc__': '\\nNumPy\\n=====\\n\\nProvides\\n  1. An array object of arbitrary homo\n",
      "583\t<class 'set'> {'rope', 'html5lib-1.1.dist-info', 'sqlalchemy', 'astroid', 'defusedxml', 'parso-0.7.0.dist-info', '\n",
      "583\t<class 'set'> {'rope', 'html5lib-1.1.dist-info', 'sqlalchemy', 'xlsxwriter-1.3.8.dist-info', 'astroid', 'defusedxm\n",
      "558\t<class 'dict'> {'__name__': 'ntsecuritycon', '__doc__': None, '__package__': '', '__loader__': <_frozen_importlib_e\n",
      "\n",
      "bytes:\n",
      "2097368\t {<pacman.GameState object at 0x0000027630D5EEB0>, <pacman.GameState object at 0x00000276345ADE20>, <\n",
      "87616\t [['int', 32175, 913940], ['code', 15737, 2803228], ['str', 55106, 7531079], ['NoneType', 1, 16], ['t\n",
      "36960\t {140707383654416: <weakref at 0x0000027627272DB0; to 'type' at 0x00007FF8FD9EB810 (type)>, 140707383\n",
      "36960\t {'sys': <module 'sys' (built-in)>, 'builtins': <module 'builtins' (built-in)>, '_frozen_importlib': \n",
      "32984\t {'rope', 'html5lib-1.1.dist-info', 'sqlalchemy', 'astroid', 'defusedxml', 'parso-0.7.0.dist-info', '\n",
      "32984\t {'rope', 'html5lib-1.1.dist-info', 'sqlalchemy', 'xlsxwriter-1.3.8.dist-info', 'astroid', 'defusedxm\n",
      "32984\t {'isrealobj', 'shuffle', 'set_printoptions', 'frombuffer', 'var', 'loadtxt', 'fromfunction', 'multip\n",
      "32984\t {'jedi.inference.recursion', 'prompt_toolkit.lexers', 'prompt_toolkit.shortcuts.dialogs', 'jupyter_c\n",
      "18520\t {'__name__': 'win32security', '__doc__': '', '__package__': '', '__loader__': <_frozen_importlib_ext\n",
      "18520\t {'__name__': 'win32security', '__doc__': '', '__package__': None, '__loader__': None, '__spec__': No\n",
      "\n",
      "types:\n",
      "756697\t <class 'list'>\n",
      "231539\t <class 'dict'>\n",
      "99204\t <class 'game.AgentState'>\n",
      "48448\t <class 'game.Grid'>\n",
      "41057\t <class 'game.Configuration'>\n",
      "33068\t <class 'pacman.GameState'>\n",
      "33068\t <class 'game.GameStateData'>\n",
      "16544\t <class 'function'>\n",
      "7936\t <class 'tuple'>\n",
      "7690\t <class 'layout.Layout'>\n",
      "\n"
     ]
    }
   ],
   "source": [
    "print(mem_top())"
   ]
  },
  {
   "cell_type": "code",
   "execution_count": null,
   "id": "a204fe3a-7174-4cb9-a03f-6ffb16dd66ac",
   "metadata": {},
   "outputs": [],
   "source": [
    "import gc"
   ]
  },
  {
   "cell_type": "code",
   "execution_count": null,
   "id": "82807c41-3f7a-4edf-a832-c9475f7e7424",
   "metadata": {},
   "outputs": [],
   "source": [
    "lisa = [[i for i in range(10000)]]"
   ]
  },
  {
   "cell_type": "code",
   "execution_count": null,
   "id": "b302ca2c-a77f-4bfb-8336-3cfcbaf554e8",
   "metadata": {},
   "outputs": [],
   "source": [
    "del lisa"
   ]
  },
  {
   "cell_type": "code",
   "execution_count": null,
   "id": "13cd5d16-7e11-4727-8871-e9e9058d5111",
   "metadata": {},
   "outputs": [],
   "source": [
    "gc.collect()"
   ]
  },
  {
   "cell_type": "code",
   "execution_count": null,
   "id": "2123bed2-6537-4aad-87f6-992d6f39b4f1",
   "metadata": {},
   "outputs": [],
   "source": [
    "print(globals())\n",
    "for name in dir():\n",
    "    if not name.startswith('_'):\n",
    "        del globals()[name]\n",
    "import gc        \n",
    "gc.collect()"
   ]
  },
  {
   "cell_type": "code",
   "execution_count": null,
   "id": "12cf7a5a-9bcc-497b-8a95-7581eaa94cf6",
   "metadata": {},
   "outputs": [],
   "source": [
    "globals()"
   ]
  },
  {
   "cell_type": "code",
   "execution_count": 1,
   "id": "7fc60972-623d-4009-a9eb-3d46ae1f9bc2",
   "metadata": {},
   "outputs": [],
   "source": [
    "class Teste:\n",
    "    def get(self,Lista):\n",
    "        self.Lista = Lista"
   ]
  },
  {
   "cell_type": "code",
   "execution_count": 2,
   "id": "95251737-5f46-41e2-b567-a471acc4a340",
   "metadata": {},
   "outputs": [],
   "source": [
    "def a():\n",
    "    Lista = []\n",
    "    for i in range(1000):\n",
    "        Lista.append([i for i in range(10000)])\n",
    "    A = Teste()\n",
    "    A.get(Lista)\n",
    "    return None"
   ]
  },
  {
   "cell_type": "code",
   "execution_count": 3,
   "id": "203e3678-416b-4445-ab0e-f9c138f48426",
   "metadata": {},
   "outputs": [],
   "source": [
    "a()"
   ]
  },
  {
   "cell_type": "code",
   "execution_count": null,
   "id": "ed1f0714-0840-453f-af68-7f95ab0f6b0e",
   "metadata": {},
   "outputs": [],
   "source": []
  }
 ],
 "metadata": {
  "kernelspec": {
   "display_name": "Python 3",
   "language": "python",
   "name": "python3"
  },
  "language_info": {
   "codemirror_mode": {
    "name": "ipython",
    "version": 3
   },
   "file_extension": ".py",
   "mimetype": "text/x-python",
   "name": "python",
   "nbconvert_exporter": "python",
   "pygments_lexer": "ipython3",
   "version": "3.8.8"
  }
 },
 "nbformat": 4,
 "nbformat_minor": 5
}
