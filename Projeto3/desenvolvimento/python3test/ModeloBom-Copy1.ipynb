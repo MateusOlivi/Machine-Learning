{
 "cells": [
  {
   "cell_type": "code",
   "execution_count": 1,
   "id": "74b9cc63-1107-458c-bd09-1d9e3ff56485",
   "metadata": {},
   "outputs": [],
   "source": [
    "import sys, os\n",
    "os.chdir(sys.path[0]+'./search')\n",
    "\n",
    "from pacman import runGames, loadAgent\n",
    "from pacman import Directions\n",
    "import pacmanAgents\n",
    "from util import Queue\n",
    "import textDisplay\n",
    "import game\n",
    "import layout\n",
    "import random\n",
    "import graphicsDisplay\n",
    "\n",
    "import numpy as np"
   ]
  },
  {
   "cell_type": "code",
   "execution_count": 15,
   "id": "c5cf7274-1519-4a12-a546-3db8b6165983",
   "metadata": {},
   "outputs": [],
   "source": [
    "class SmartAgentNew(game.Agent):    \n",
    "    def __init__(self, pesos):\n",
    "        self.pesos = pesos\n",
    "        \n",
    "    def getAction(self, state):\n",
    "        legal = state.getLegalPacmanActions()\n",
    "        if Directions.STOP in legal: legal.remove(Directions.STOP)\n",
    "    \n",
    "        currentState = state\n",
    "        \n",
    "        successors = [(state.generateSuccessor(0, action), action) for action in legal]\n",
    "        scored = [(self.scoreEvaluation(state, currentState), action) for state, action in successors]\n",
    "        bestScore = max(scored)[0]\n",
    "        bestActions = [pair[1] for pair in scored if pair[0] == bestScore]\n",
    "        \n",
    "        return random.choice(bestActions)\n",
    "        \n",
    "    def getNeighbors(self, pos, walls, visited):\n",
    "        c, l = pos\n",
    "        neighbors = []\n",
    "        \n",
    "        for i in range(-1,2,1):\n",
    "            for j in range(-1,2,1):\n",
    "                if(abs(i) != abs(j) and c+i < walls.width and c+i >= 0 and l+j < walls.height and l+j >= 0):\n",
    "                    if(walls[c+i][l+j] == False and visited[c+i][l+j] == 0):\n",
    "                        neighbors.append((c+i,l+j))             \n",
    "        return neighbors\n",
    "        \n",
    "    def bfsDistance(self, state, posIni, endPos = None, food = False):\n",
    "        queue = Queue()\n",
    "        \n",
    "        walls = state.getWalls()\n",
    "        if(food):\n",
    "            foods = state.getFood()\n",
    "            \n",
    "        visited = np.zeros((walls.width,walls.height))\n",
    "        visited[posIni[0]][posIni[1]] = 1\n",
    "                \n",
    "        queue.push((posIni, 1))\n",
    "        while(not queue.isEmpty()):\n",
    "            current = queue.pop()\n",
    "            pos = current[0]\n",
    "            stepsUntilNow = current[1]\n",
    "            \n",
    "            if(food == True):\n",
    "                if(foods[pos[0]][pos[1]] == True):\n",
    "                    return stepsUntilNow\n",
    "            else:\n",
    "                if(pos[0] == endPos[0] and pos[1] == endPos[1]):\n",
    "                    return stepsUntilNow\n",
    "    \n",
    "            visited[pos[0]][pos[1]] = 1\n",
    "            possibles = self.getNeighbors(pos,walls, visited)\n",
    "            for possibleMove in possibles:\n",
    "                queue.push((possibleMove, stepsUntilNow+1))\n",
    "        return -1\n",
    "    \n",
    "    def ghosts(self, state):\n",
    "        ghostsPos = state.getGhostPositions()\n",
    "        n_ghosts = len(ghostsPos)\n",
    "        \n",
    "        scared_timer = []\n",
    "        positionsNonScared = []\n",
    "        positionsScared = []\n",
    "        \n",
    "        for i in range(n_ghosts):\n",
    "            scared_timer.append(state.getGhostStates()[i].scaredTimer)\n",
    "            \n",
    "        for i in range(n_ghosts):\n",
    "            if(scared_timer[i] == 0):\n",
    "                positionsNonScared.append(np.ceil(ghostsPos[i]))\n",
    "            else:\n",
    "                positionsScared.append(np.ceil(ghostsPos[i]))\n",
    "            \n",
    "        return positionsScared, positionsNonScared\n",
    "    \n",
    "    def nearstElement(self, state, posElement, pacmanPos):\n",
    "        minDist = float('inf')\n",
    "        for pos in posElement:\n",
    "            dist = self.bfsDistance(state, pacmanPos, pos)\n",
    "            if(dist < minDist):\n",
    "                minDist = dist\n",
    "        return minDist\n",
    "            \n",
    "    def countScaredGhosts(self, state):\n",
    "        total=0\n",
    "        for ghost in state.getGhostStates():\n",
    "            if(ghost.scaredTimer !=0):\n",
    "                total+=1\n",
    "        return total\n",
    "    \n",
    "    def scoreEvaluation(self, state, currentState):\n",
    "        \n",
    "        p1 = self.pesos[0]   # peso relacionado à distancia do fantasma malvado \n",
    "        p2 = self.pesos[1]   # peso relacionado à distancia do fantasma assustado mais próximo\n",
    "        p3 = self.pesos[2]   # peso relacionado a comer um fantasma assustado\n",
    "        p4 = self.pesos[3]   # peso relacionado à distancia da comida mais próxima\n",
    "        p5 = self.pesos[4]   # peso relacionado a comer uma comida\n",
    "        p6 = self.pesos[5]   # peso relacionado à distancia da capsula mais próxima\n",
    "        p7 = self.pesos[6]   # peso relacionado a comer uma capsula\n",
    "        \n",
    "        score = state.getScore()\n",
    "        scaredGhosts, badGhosts = self.ghosts(state)\n",
    "        pacman = state.getPacmanPosition()\n",
    "        capsules = state.getCapsules()\n",
    "        \n",
    "        avaliacao = score\n",
    "        ################## Bad Ghost in next position  #################\n",
    "        if(len(badGhosts) > 0):\n",
    "            distBadGhost = self.nearstElement(state, badGhosts, pacman)\n",
    "            if(distBadGhost <= p1):\n",
    "                return float('-inf')\n",
    "            \n",
    "        ################## Nearst Scared Ghosts ####################\n",
    "        if(len(scaredGhosts) > 0):\n",
    "            distScaredGhosts = self.nearstElement(state, scaredGhosts, pacman)\n",
    "            avaliacao += p2*(1/distScaredGhosts)\n",
    "            \n",
    "        ############### Eat scared ghost bonus #################\n",
    "        numScaredCurrent = self.countScaredGhosts(currentState)\n",
    "        numScared = self.countScaredGhosts(state)\n",
    "        scaredDiff = numScaredCurrent - numScared\n",
    "        if(scaredDiff > 0):\n",
    "            avaliacao += p3 * scaredDiff\n",
    "            \n",
    "        ################ Nearst food ###################\n",
    "        nearestFood = self.bfsDistance(state, pacman, food = True)\n",
    "        avaliacao += p4*(1/nearestFood)\n",
    "        \n",
    "        ################ Eat food bonus ##################\n",
    "        numfood= state.getFood()\n",
    "        numFoodCurrent = currentState.getFood()\n",
    "        foodDiff = numFoodCurrent.count(True) - numfood.count(True)\n",
    "        avaliacao += p5*foodDiff\n",
    "        \n",
    "        ################# Nearst capsule ################\n",
    "        if(len(capsules) > 0):\n",
    "            distCapsule = self.nearstElement(state, capsules, pacman)\n",
    "            avaliacao += p6*(1/distCapsule)\n",
    "        \n",
    "        ################# Eat capsule bonus ##############\n",
    "        numcapsules = len(state.getCapsules())\n",
    "        numCapsulesCurrentState = len(currentState.getCapsules())\n",
    "        avaliacao += p7*(numCapsulesCurrentState - numcapsules)\n",
    "        \n",
    "        return avaliacao"
   ]
  },
  {
   "cell_type": "code",
   "execution_count": 3,
   "id": "8b702aac-d23f-4641-83fb-7503fe64efcb",
   "metadata": {},
   "outputs": [],
   "source": [
    "def fitfunction(pesos):\n",
    "    props={}\n",
    "    pacman = SmartAgentNew(pesos)\n",
    "    ghostType = loadAgent('RandomGhost', True)\n",
    "    textDisplay.SLEEP_TIME = 0\n",
    "    props['layout'] = layout.getLayout( 'smallClassic' )\n",
    "    props['pacman'] = pacman\n",
    "    props['ghosts'] = [ghostType( i+1 ) for i in range( 2 )]\n",
    "    props['display'] = textDisplay.NullGraphics()\n",
    "    #props['display'] = graphicsDisplay.PacmanGraphics(1, frameTime = 0)\n",
    "    props['numGames'] = 1\n",
    "    props['record'] = False\n",
    "    props['catchExceptions'] = True\n",
    "    props['timeout'] = 1\n",
    "    \n",
    "    res = runGames(**props)\n",
    "    scores = [game.state.getScore() for game in res]\n",
    "    avgScore = sum(scores) / float(len(scores))\n",
    "     \n",
    "    return avgScore"
   ]
  },
  {
   "cell_type": "code",
   "execution_count": 7,
   "id": "9767be5f-3579-4de2-a07a-0188f9df6200",
   "metadata": {},
   "outputs": [
    {
     "data": {
      "text/plain": [
       "1735.0"
      ]
     },
     "execution_count": 7,
     "metadata": {},
     "output_type": "execute_result"
    }
   ],
   "source": [
    "fitfunction([2,10,2,3,1,1,2,1])"
   ]
  },
  {
   "cell_type": "code",
   "execution_count": 14,
   "id": "aa1fbdfe-31b5-4343-9bff-fd4cb698734a",
   "metadata": {},
   "outputs": [],
   "source": [
    "import geneticalgsmod as ge\n",
    "\n",
    "model = ge.RealGA(fitness_func = fitfunction, optim='max', selection=\"rank\", mut_prob=0.12, mut_type=1,\n",
    "                  cross_prob=0.9, cross_type=1, elitism=True, tournament_size=None)"
   ]
  },
  {
   "cell_type": "code",
   "execution_count": 5,
   "id": "29d78ffd-54b4-4542-bc3f-6a378edeee98",
   "metadata": {
    "scrolled": true,
    "tags": []
   },
   "outputs": [],
   "source": [
    "population_size = 60\n",
    "dimensao = 7  #numero de argumentos da funcao        \n",
    "interval = (0,100)\n",
    "model.init_random_population(population_size, dimensao, interval)"
   ]
  },
  {
   "cell_type": "code",
   "execution_count": 6,
   "id": "5f65545a-ed19-41d3-b8a3-aba54dd8ce44",
   "metadata": {
    "scrolled": true,
    "tags": []
   },
   "outputs": [
    {
     "name": "stdout",
     "output_type": "stream",
     "text": [
      "Geração 1 terminada\n",
      "Geração 2 terminada\n",
      "Geração 3 terminada\n",
      "Geração 4 terminada\n",
      "Geração 5 terminada\n",
      "Geração 6 terminada\n",
      "Geração 7 terminada\n",
      "Geração 8 terminada\n",
      "Geração 9 terminada\n",
      "Geração 10 terminada\n",
      "Geração 11 terminada\n",
      "Geração 12 terminada\n",
      "Geração 13 terminada\n",
      "Geração 14 terminada\n",
      "Geração 15 terminada\n",
      "Geração 16 terminada\n",
      "Geração 17 terminada\n",
      "Geração 18 terminada\n",
      "Geração 19 terminada\n",
      "Geração 20 terminada\n",
      "Geração 21 terminada\n",
      "Geração 22 terminada\n",
      "Geração 23 terminada\n",
      "Geração 24 terminada\n",
      "Geração 25 terminada\n",
      "Geração 26 terminada\n",
      "Geração 27 terminada\n",
      "Geração 28 terminada\n",
      "Geração 29 terminada\n",
      "Geração 30 terminada\n",
      "Geração 31 terminada\n",
      "Geração 32 terminada\n",
      "Geração 33 terminada\n",
      "Geração 34 terminada\n",
      "Geração 35 terminada\n"
     ]
    }
   ],
   "source": [
    "max_generation = 35\n",
    "fitness_progress, best_individual, worst_individual = model.run(max_generation)"
   ]
  },
  {
   "cell_type": "code",
   "execution_count": 16,
   "id": "69381ef9-b799-4277-90c1-41909f7fbacb",
   "metadata": {},
   "outputs": [
    {
     "data": {
      "text/plain": [
       "[<matplotlib.lines.Line2D at 0x21470d0afa0>]"
      ]
     },
     "execution_count": 16,
     "metadata": {},
     "output_type": "execute_result"
    },
    {
     "data": {
      "image/png": "[encoded data removed]",
      "text/plain": [
       "<Figure size 432x288 with 1 Axes>"
      ]
     },
     "metadata": {
      "needs_background": "light"
     },
     "output_type": "display_data"
    }
   ],
   "source": [
    "import matplotlib.pyplot as plt\n",
    "%matplotlib inline\n",
    "\n",
    "x1 = list(range(len(fitness_progress)))\n",
    "\n",
    "plt.plot(x1, fitness_progress, 'o')"
   ]
  },
  {
   "cell_type": "code",
   "execution_count": 8,
   "id": "f911889e-bd17-4c7d-baac-58c7358c40ec",
   "metadata": {},
   "outputs": [
    {
     "data": {
      "text/plain": [
       "[<matplotlib.lines.Line2D at 0x2146d7f9eb0>]"
      ]
     },
     "execution_count": 8,
     "metadata": {},
     "output_type": "execute_result"
    },
    {
     "data": {
      "image/png": "[encoded data removed]",
      "text/plain": [
       "<Figure size 432x288 with 1 Axes>"
      ]
     },
     "metadata": {
      "needs_background": "light"
     },
     "output_type": "display_data"
    }
   ],
   "source": [
    "import matplotlib.pyplot as plt\n",
    "%matplotlib inline\n",
    "\n",
    "x1 = list(range(len(best_individual)))\n",
    "\n",
    "plt.plot(x1, best_individual, 'o')"
   ]
  },
  {
   "cell_type": "code",
   "execution_count": 9,
   "id": "ff8c536f-23e4-4b6c-bfd4-17eb71a652fb",
   "metadata": {},
   "outputs": [
    {
     "data": {
      "text/plain": [
       "[<matplotlib.lines.Line2D at 0x2146d864760>]"
      ]
     },
     "execution_count": 9,
     "metadata": {},
     "output_type": "execute_result"
    },
    {
     "data": {
      "image/png": "[encoded data removed]",
      "text/plain": [
       "<Figure size 432x288 with 1 Axes>"
      ]
     },
     "metadata": {
      "needs_background": "light"
     },
     "output_type": "display_data"
    }
   ],
   "source": [
    "import matplotlib.pyplot as plt\n",
    "%matplotlib inline\n",
    "\n",
    "x1 = list(range(len(worst_individual)))\n",
    "\n",
    "plt.plot(x1, worst_individual, 'o')"
   ]
  },
  {
   "cell_type": "code",
   "execution_count": 10,
   "id": "b63cf92f-25c3-49b6-a5c4-b9d79528d8ca",
   "metadata": {},
   "outputs": [
    {
     "data": {
      "text/plain": [
       "[4.0194955275284,\n",
       " 84.00098228908621,\n",
       " 2.4812017152692154,\n",
       " 0.42187505591324015,\n",
       " 4.485319137689665,\n",
       " 70.55600553483248,\n",
       " 29.361416451589548]"
      ]
     },
     "execution_count": 10,
     "metadata": {},
     "output_type": "execute_result"
    }
   ],
   "source": [
    "new_pesos = model.best_solution[0].tolist()\n",
    "new_pesos"
   ]
  },
  {
   "cell_type": "code",
   "execution_count": 11,
   "id": "2c405767-fe69-45f2-aaf2-04d9f5cd94b2",
   "metadata": {},
   "outputs": [
    {
     "data": {
      "text/plain": [
       "(array([ 4.01949553, 84.00098229,  2.48120172,  0.42187506,  4.48531914,\n",
       "        70.55600553, 29.36141645]),\n",
       " 1778.0)"
      ]
     },
     "execution_count": 11,
     "metadata": {},
     "output_type": "execute_result"
    }
   ],
   "source": [
    "maior = 0\n",
    "for best in model.population:\n",
    "    if(best.fitness_val > maior):\n",
    "        maior = best.fitness_val\n",
    "        melhor_peso = best.chromosome\n",
    "melhor_peso, maior"
   ]
  },
  {
   "cell_type": "code",
   "execution_count": 13,
   "id": "5ce4348d-94e6-49c7-bdc6-5ea8d3c3b8c6",
   "metadata": {},
   "outputs": [
    {
     "data": {
      "text/plain": [
       "1404"
      ]
     },
     "execution_count": 13,
     "metadata": {},
     "output_type": "execute_result"
    }
   ],
   "source": [
    "props={}\n",
    "pacman = SmartAgentNew(new_pesos)\n",
    "ghostType = loadAgent('RandomGhost', True)\n",
    "textDisplay.SLEEP_TIME = 0\n",
    "props['layout'] = layout.getLayout( 'smallClassic' )\n",
    "props['pacman'] = pacman\n",
    "props['ghosts'] = [ghostType( i+1 ) for i in range( 2 )]\n",
    "#props['ghosts'] = []\n",
    "props['display'] = graphicsDisplay.PacmanGraphics(1, frameTime = 0)\n",
    "#props['display'] = textDisplay.NullGraphics()\n",
    "props['numGames'] = 10\n",
    "props['record'] = False\n",
    "props['catchExceptions'] = True\n",
    "props['timeout'] = 2\n",
    "    \n",
    "games = runGames(**props)\n",
    "scores = [game.state.getScore() for game in games]\n",
    "avg = sum(scores) / float(len(scores))\n",
    "int(avg)"
   ]
  },
  {
   "cell_type": "code",
   "execution_count": null,
   "id": "900a9cf6-c5cd-4dbf-9d51-ef66b1048224",
   "metadata": {},
   "outputs": [],
   "source": []
  }
 ],
 "metadata": {
  "kernelspec": {
   "display_name": "Python 3",
   "language": "python",
   "name": "python3"
  },
  "language_info": {
   "codemirror_mode": {
    "name": "ipython",
    "version": 3
   },
   "file_extension": ".py",
   "mimetype": "text/x-python",
   "name": "python",
   "nbconvert_exporter": "python",
   "pygments_lexer": "ipython3",
   "version": "3.8.8"
  }
 },
 "nbformat": 4,
 "nbformat_minor": 5
}
