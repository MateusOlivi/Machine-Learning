{
 "cells": [
  {
   "cell_type": "code",
   "execution_count": 1,
   "id": "74b9cc63-1107-458c-bd09-1d9e3ff56485",
   "metadata": {},
   "outputs": [],
   "source": [
    "import sys, os\n",
    "os.chdir(sys.path[0]+'./search')\n",
    "\n",
    "from pacman import runGames, loadAgent\n",
    "from pacman import Directions\n",
    "import pacmanAgents\n",
    "from util import Queue\n",
    "import textDisplay\n",
    "import game\n",
    "import layout\n",
    "import random\n",
    "import graphicsDisplay\n",
    "\n",
    "import numpy as np"
   ]
  },
  {
   "cell_type": "code",
   "execution_count": 2,
   "id": "31d9fd21-a765-449f-b7f3-e0d8c49f1578",
   "metadata": {},
   "outputs": [],
   "source": [
    "from math import ceil\n",
    "\n",
    "class SmartAgent(game.Agent):\n",
    "    \"An agent that does whatever he feels like doing\"  \n",
    "    \n",
    "    def __init__(self, pesos):\n",
    "        self.pesos = pesos\n",
    "        \n",
    "    def getAction(self, state):\n",
    "        legal = state.getLegalPacmanActions()\n",
    "        if Directions.STOP in legal: legal.remove(Directions.STOP)\n",
    "    \n",
    "        currentState = state\n",
    "        \n",
    "        successors = [(state.generateSuccessor(0, action), action) for action in legal]\n",
    "        scored = [(self.scoreEvaluation(state, currentState), action) for state, action in successors]\n",
    "        bestScore = max(scored)[0]\n",
    "        bestActions = [pair[1] for pair in scored if pair[0] == bestScore]\n",
    "        \n",
    "        return random.choice(bestActions)\n",
    "        \n",
    "    def getLegalSteps(self, pos, walls, visited):\n",
    "        \n",
    "        coluna=pos[0]\n",
    "        linha=pos[1]\n",
    "        \n",
    "        lista=[]\n",
    "\n",
    "        if(coluna+1 <walls.width):\n",
    "            if(walls[coluna+1][linha]==False and visited[coluna+1][linha]==0):\n",
    "                lista.append((coluna+1,linha))\n",
    "        if(coluna-1 >= 0):\n",
    "            if(walls[coluna-1][linha]==False and visited[coluna-1][linha]==0):\n",
    "                lista.append((coluna-1,linha))\n",
    "        if(linha+1 < walls.height ):\n",
    "            if(walls[coluna][linha+1]==False and visited[coluna][linha+1]==0):\n",
    "                lista.append((coluna,linha+1))\n",
    "        if(linha-1 >= 0):\n",
    "            if(walls[coluna][linha-1]==False and visited[coluna][linha-1]==0):\n",
    "                lista.append((coluna,linha-1))\n",
    "        return lista\n",
    "    \n",
    "    def findNearestFood(self, state, posIni):\n",
    "        walls= state.getWalls()\n",
    "        foods= state.getFood()\n",
    "        queue = Queue()\n",
    "        \n",
    "        \n",
    "        visited=np.zeros((walls.width,walls.height))\n",
    "        visited[posIni[0]][posIni[1]]=1\n",
    "                \n",
    "        matHeight=foods.height\n",
    "        matWidth=foods.width\n",
    "        \n",
    "        queue.push((posIni, 1))\n",
    "        while(not queue.isEmpty()):\n",
    "            current=queue.pop()\n",
    "            pos=current[0]\n",
    "            stepsUntilNow=current[1]\n",
    "            \n",
    "            if(foods[pos[0]][pos[1]]==True):\n",
    "                return stepsUntilNow\n",
    "            \n",
    "            visited[pos[0]][pos[1]]=1\n",
    "            possibles=self.getLegalSteps(pos,walls, visited) # pos = (x,y), walls = matriz true/falso, visitados  [(2,2),(2,1),(2,3)]\n",
    "            for possibleMove in possibles:\n",
    "                queue.push( (possibleMove, stepsUntilNow+1))\n",
    "        return -1\n",
    "    \n",
    "    def bfsDistance(self, state, posIni, endPos):\n",
    "        walls= state.getWalls()\n",
    "        queue = Queue()\n",
    "        \n",
    "        \n",
    "        visited=np.zeros((walls.width,walls.height))\n",
    "        visited[posIni[0]][posIni[1]]=1\n",
    "                \n",
    "        queue.push((posIni, 1))\n",
    "        while(not queue.isEmpty()):\n",
    "            current=queue.pop()\n",
    "            pos=current[0]\n",
    "            stepsUntilNow=current[1]\n",
    "            \n",
    "            if(pos[0] == endPos[0] and pos[1] == endPos[1]):\n",
    "                return stepsUntilNow\n",
    "            \n",
    "            visited[pos[0]][pos[1]]=1\n",
    "            possibles = self.getLegalSteps(pos,walls, visited) # pos = (x,y), walls = matriz true/falso, visitados  [(2,2),(2,1),(2,3)]\n",
    "            for possibleMove in possibles:\n",
    "                queue.push( (possibleMove, stepsUntilNow+1))\n",
    "        print('oi')\n",
    "        return -1\n",
    "    \n",
    "    def ghostDistances(self, state):\n",
    "        ghostPositions = state.getGhostPositions() \n",
    "        pacmanPosition = state.getPacmanPosition()\n",
    "        \n",
    "        distancias = []\n",
    "    \n",
    "        for i in range(len(ghostPositions)):\n",
    "            dist = self.bfsDistance(state, pacmanPosition, (ceil(ghostPositions[i][0]), ceil(ghostPositions[i][1])) )\n",
    "            distancias.append(dist)\n",
    "        \n",
    "        return distancias\n",
    "    \n",
    "    def bonusByGhostDistance(self, peso, distancias, state):\n",
    "        n_ghosts = len(distancias)\n",
    "        scared_timer = []\n",
    "\n",
    "        for i in range(n_ghosts):\n",
    "            scared_timer.append(state.getGhostStates()[i].scaredTimer)\n",
    "            \n",
    "        bonus = 0\n",
    "        for i in range(n_ghosts):\n",
    "            if(scared_timer[i] == 0):\n",
    "                bonus += peso*distancias[i]\n",
    "        return bonus\n",
    "    \n",
    "    def capsuleDistanceBonus(self, peso, state):\n",
    "        pacmanPosition = state.getPacmanPosition()\n",
    "        capsulePositions = state.getCapsules() \n",
    "        \n",
    "        bonus = 0\n",
    "        for capsule in capsulePositions:\n",
    "            distancia = self.bfsDistance(state, pacmanPosition, capsule)\n",
    "            bonus -= peso*distancia\n",
    "        return bonus\n",
    "    \n",
    "    def capsuleComsumptionBonus(self, peso, state, currentState):\n",
    "        capsulePositions = state.getCapsules() \n",
    "        numCapsulesCurrentState = len(currentState.getCapsules())\n",
    "\n",
    "        num_capsulas = numCapsulesCurrentState\n",
    "        num_capsulas_estado_seguinte = len(capsulePositions)\n",
    "        \n",
    "        bonus = (num_capsulas - num_capsulas_estado_seguinte) * peso\n",
    "        \n",
    "        return bonus\n",
    "    \n",
    "    def countScaredGhosts(self, state):\n",
    "        total=0\n",
    "        for ghost in state.getGhostStates():\n",
    "            if(ghost.scaredTimer !=0):\n",
    "                total+=1\n",
    "        return total\n",
    "    \n",
    "    def scaredGhostBonus(self, peso, state, distancias):\n",
    "        n_ghosts = self.countScaredGhosts(state)\n",
    "        scared_timer = []\n",
    "\n",
    "        for i in range(n_ghosts):\n",
    "            scared_timer.append(state.getGhostStates()[i].scaredTimer)\n",
    "            \n",
    "        bonus = 0\n",
    "        for i in range(n_ghosts):\n",
    "            if(scared_timer[i] != 0):\n",
    "                bonus -= peso*distancias[i]\n",
    "        return bonus\n",
    "    \n",
    "    def eatScaredGhosts(self, peso, state, currentState):\n",
    "        \n",
    "        currentScaredGhosts=self.countScaredGhosts(currentState)\n",
    "        scaredGhostsInThisState = self.countScaredGhosts(state)\n",
    "        \n",
    "        dif = currentScaredGhosts - scaredGhostsInThisState\n",
    "        \n",
    "        bonus=0\n",
    "        if(dif > 0):\n",
    "            bonus= peso * dif\n",
    "        return bonus\n",
    "    \n",
    "    def nearestFoodBonus(self, peso, state):\n",
    "        pacmanPosition = state.getPacmanPosition()\n",
    "        nearestFoodDistance= self.findNearestFood(state, pacmanPosition)\n",
    "        bonus = -1* peso * nearestFoodDistance       \n",
    "        \n",
    "        return bonus\n",
    "    \n",
    "    def eatFoodBonus(self, peso, state, currentState):\n",
    "        foodMatrix = state.getFood()\n",
    "        currentFoodMatrix = currentState.getFood()\n",
    "\n",
    "        diff = currentFoodMatrix.count(True) - foodMatrix.count(True)\n",
    "        bonus = peso*diff\n",
    "        \n",
    "        return bonus\n",
    "    def scoreEvaluation(self, state, currentState):\n",
    "        \n",
    "        p1 = self.pesos[0]\n",
    "        p2 = self.pesos[1]\n",
    "        p3 = self.pesos[2]\n",
    "        p4 = self.pesos[3]\n",
    "        p5 = self.pesos[4]\n",
    "        p6 = self.pesos[5]\n",
    "        p7 = self.pesos[6]\n",
    "        \n",
    "        score = state.getScore()\n",
    "        \n",
    "        distancias_fantasmas = self.ghostDistances(state)\n",
    "        bonus_distancia_fantasmas = self.bonusByGhostDistance(p1, distancias_fantasmas, state)\n",
    "        \n",
    "        bonus_fantasmas_assustados = self.scaredGhostBonus(p2, state, distancias_fantasmas)\n",
    "        bonus_comer_fantasmas = self.eatScaredGhosts(p3*abs(bonus_fantasmas_assustados) + p3*abs(bonus_distancia_fantasmas), state, currentState)\n",
    "        \n",
    "        bonus_comida_proxima =  self.nearestFoodBonus(p4, state)            \n",
    "        bonus_comer_comida = self.eatFoodBonus(p5*abs(bonus_comida_proxima), state, currentState)  \n",
    "        \n",
    "        bonus_distancia_capsula = self.capsuleDistanceBonus(p6, state)\n",
    "        bonus_consumir_capsula = self.capsuleComsumptionBonus(p7*abs(bonus_distancia_capsula) + p7*abs(bonus_fantasmas_assustados), state, currentState) \n",
    "        \n",
    "        formula = score + bonus_distancia_fantasmas + bonus_distancia_capsula + bonus_consumir_capsula + bonus_fantasmas_assustados + bonus_comer_fantasmas + bonus_comida_proxima + bonus_comer_comida\n",
    "        \n",
    "        return formula"
   ]
  },
  {
   "cell_type": "code",
   "execution_count": 3,
   "id": "8b702aac-d23f-4641-83fb-7503fe64efcb",
   "metadata": {},
   "outputs": [],
   "source": [
    "def fitfunction(pesos):\n",
    "    props={}\n",
    "    pacman = SmartAgent(pesos)\n",
    "    ghostType = loadAgent('RandomGhost', True)\n",
    "    textDisplay.SLEEP_TIME = 0\n",
    "    props['layout'] = layout.getLayout( 'mediumClassic' )\n",
    "    props['pacman'] = pacman\n",
    "    props['ghosts'] = [ghostType( i+1 ) for i in range( 2 )]\n",
    "    props['display'] = textDisplay.NullGraphics()\n",
    "    #props['display'] = graphicsDisplay.PacmanGraphics(1, frameTime = 0.1)\n",
    "    props['numGames'] = 1\n",
    "    props['record'] = False\n",
    "    props['catchExceptions'] = True\n",
    "    props['timeout'] = 1\n",
    "    \n",
    "    res = runGames(**props)\n",
    "    scores = [game.state.getScore() for game in res]\n",
    "    avgScore = sum(scores) / float(len(scores))\n",
    "     \n",
    "    return avgScore"
   ]
  },
  {
   "cell_type": "code",
   "execution_count": 5,
   "id": "9767be5f-3579-4de2-a07a-0188f9df6200",
   "metadata": {},
   "outputs": [
    {
     "data": {
      "text/plain": [
       "734.0"
      ]
     },
     "execution_count": 5,
     "metadata": {},
     "output_type": "execute_result"
    }
   ],
   "source": [
    "fitfunction([1.5,3,5,2,2,2,7])"
   ]
  },
  {
   "cell_type": "code",
   "execution_count": 7,
   "id": "aa1fbdfe-31b5-4343-9bff-fd4cb698734a",
   "metadata": {},
   "outputs": [],
   "source": [
    "import geneticalgsmod as ge\n",
    "\n",
    "model = ge.RealGA(fitness_func = fitfunction, optim='max', selection=\"rank\", mut_prob=0.15, mut_type=1,\n",
    "                  cross_prob=0.9, cross_type=1, elitism=True, tournament_size=None)"
   ]
  },
  {
   "cell_type": "code",
   "execution_count": 8,
   "id": "29d78ffd-54b4-4542-bc3f-6a378edeee98",
   "metadata": {
    "scrolled": true,
    "tags": []
   },
   "outputs": [],
   "source": [
    "population_size = 70\n",
    "dimensao = 7  #numero de argumentos da funcao        \n",
    "interval = (0,10)\n",
    "model.init_random_population(population_size, dimensao, interval)"
   ]
  },
  {
   "cell_type": "code",
   "execution_count": 9,
   "id": "5f65545a-ed19-41d3-b8a3-aba54dd8ce44",
   "metadata": {
    "scrolled": true,
    "tags": []
   },
   "outputs": [
    {
     "name": "stdout",
     "output_type": "stream",
     "text": [
      "Geração 1 terminada\n",
      "Geração 2 terminada\n",
      "Geração 3 terminada\n",
      "Geração 4 terminada\n",
      "Geração 5 terminada\n",
      "Geração 6 terminada\n",
      "Geração 7 terminada\n",
      "Geração 8 terminada\n",
      "Geração 9 terminada\n",
      "Geração 10 terminada\n",
      "Geração 11 terminada\n",
      "Geração 12 terminada\n",
      "Geração 13 terminada\n",
      "Geração 14 terminada\n",
      "Geração 15 terminada\n",
      "Geração 16 terminada\n",
      "Geração 17 terminada\n",
      "Geração 18 terminada\n",
      "Geração 19 terminada\n",
      "Geração 20 terminada\n",
      "Geração 21 terminada\n",
      "Geração 22 terminada\n",
      "Geração 23 terminada\n",
      "Geração 24 terminada\n",
      "Geração 25 terminada\n",
      "Geração 26 terminada\n",
      "Geração 27 terminada\n",
      "Geração 28 terminada\n",
      "Geração 29 terminada\n",
      "Geração 30 terminada\n"
     ]
    }
   ],
   "source": [
    "max_generation = 30\n",
    "fitness_progress, best_individual, worst_individual = model.run(max_generation)"
   ]
  },
  {
   "cell_type": "code",
   "execution_count": 10,
   "id": "69381ef9-b799-4277-90c1-41909f7fbacb",
   "metadata": {},
   "outputs": [
    {
     "data": {
      "text/plain": [
       "[<matplotlib.lines.Line2D at 0x1e19b8caac0>]"
      ]
     },
     "execution_count": 10,
     "metadata": {},
     "output_type": "execute_result"
    },
    {
     "data": {
      "image/png": "[encoded data removed]",
      "text/plain": [
       "<Figure size 432x288 with 1 Axes>"
      ]
     },
     "metadata": {
      "needs_background": "light"
     },
     "output_type": "display_data"
    }
   ],
   "source": [
    "import matplotlib.pyplot as plt\n",
    "%matplotlib inline\n",
    "\n",
    "x1 = list(range(len(fitness_progress)))\n",
    "\n",
    "plt.plot(x1, fitness_progress, 'o')"
   ]
  },
  {
   "cell_type": "code",
   "execution_count": 11,
   "id": "f911889e-bd17-4c7d-baac-58c7358c40ec",
   "metadata": {},
   "outputs": [
    {
     "data": {
      "text/plain": [
       "[<matplotlib.lines.Line2D at 0x1e0603edc10>]"
      ]
     },
     "execution_count": 11,
     "metadata": {},
     "output_type": "execute_result"
    },
    {
     "data": {
      "image/png": "[encoded data removed]",
      "text/plain": [
       "<Figure size 432x288 with 1 Axes>"
      ]
     },
     "metadata": {
      "needs_background": "light"
     },
     "output_type": "display_data"
    }
   ],
   "source": [
    "import matplotlib.pyplot as plt\n",
    "%matplotlib inline\n",
    "\n",
    "x1 = list(range(len(best_individual)))\n",
    "\n",
    "plt.plot(x1, best_individual, 'o')"
   ]
  },
  {
   "cell_type": "code",
   "execution_count": 12,
   "id": "ff8c536f-23e4-4b6c-bfd4-17eb71a652fb",
   "metadata": {},
   "outputs": [
    {
     "data": {
      "text/plain": [
       "[<matplotlib.lines.Line2D at 0x1e19c0a1b80>]"
      ]
     },
     "execution_count": 12,
     "metadata": {},
     "output_type": "execute_result"
    },
    {
     "data": {
      "image/png": "[encoded data removed]",
      "text/plain": [
       "<Figure size 432x288 with 1 Axes>"
      ]
     },
     "metadata": {
      "needs_background": "light"
     },
     "output_type": "display_data"
    }
   ],
   "source": [
    "import matplotlib.pyplot as plt\n",
    "%matplotlib inline\n",
    "\n",
    "x1 = list(range(len(worst_individual)))\n",
    "\n",
    "plt.plot(x1, worst_individual, 'o')"
   ]
  },
  {
   "cell_type": "code",
   "execution_count": 13,
   "id": "b63cf92f-25c3-49b6-a5c4-b9d79528d8ca",
   "metadata": {},
   "outputs": [
    {
     "data": {
      "text/plain": [
       "[0.05853272941772114,\n",
       " 3.9687668781041374,\n",
       " 4.500030517578125,\n",
       " 7.5,\n",
       " 9.69580078125,\n",
       " 0.8320312522700988,\n",
       " 7.9727745802445265]"
      ]
     },
     "execution_count": 13,
     "metadata": {},
     "output_type": "execute_result"
    }
   ],
   "source": [
    "new_pesos = model.best_solution[0].tolist()\n",
    "new_pesos"
   ]
  },
  {
   "cell_type": "code",
   "execution_count": 12,
   "id": "2c405767-fe69-45f2-aaf2-04d9f5cd94b2",
   "metadata": {},
   "outputs": [
    {
     "data": {
      "text/plain": [
       "(array([3.01794428e-38, 5.00000000e+00, 7.55474854e+00, 5.58328994e+00,\n",
       "        6.81613163e+00, 8.25000000e+00, 4.93582632e+00]),\n",
       " 1783.0)"
      ]
     },
     "execution_count": 12,
     "metadata": {},
     "output_type": "execute_result"
    }
   ],
   "source": [
    "maior = 0\n",
    "for best in model.population:\n",
    "    if(best.fitness_val > maior):\n",
    "        maior = best.fitness_val\n",
    "        melhor_peso = best.chromosome\n",
    "melhor_peso, maior"
   ]
  },
  {
   "cell_type": "code",
   "execution_count": 40,
   "id": "5ce4348d-94e6-49c7-bdc6-5ea8d3c3b8c6",
   "metadata": {},
   "outputs": [
    {
     "data": {
      "text/plain": [
       "1535"
      ]
     },
     "execution_count": 40,
     "metadata": {},
     "output_type": "execute_result"
    }
   ],
   "source": [
    "props={}\n",
    "pacman = SmartAgent(new_pesos)\n",
    "ghostType = loadAgent('RandomGhost', True)\n",
    "textDisplay.SLEEP_TIME = 0\n",
    "props['layout'] = layout.getLayout( 'mediumClassic' )\n",
    "props['pacman'] = pacman\n",
    "props['ghosts'] = [ghostType( i+1 ) for i in range( 2 )]\n",
    "#props['ghosts'] = []\n",
    "props['display'] = graphicsDisplay.PacmanGraphics(1, frameTime = 0)\n",
    "#props['display'] = textDisplay.NullGraphics()\n",
    "props['numGames'] = 1\n",
    "props['record'] = False\n",
    "props['catchExceptions'] = True\n",
    "props['timeout'] = 2\n",
    "    \n",
    "games = runGames(**props)\n",
    "scores = [game.state.getScore() for game in games]\n",
    "avg = sum(scores) / float(len(scores))\n",
    "int(avg)"
   ]
  },
  {
   "cell_type": "code",
   "execution_count": null,
   "id": "900a9cf6-c5cd-4dbf-9d51-ef66b1048224",
   "metadata": {},
   "outputs": [],
   "source": []
  }
 ],
 "metadata": {
  "kernelspec": {
   "display_name": "Python 3",
   "language": "python",
   "name": "python3"
  },
  "language_info": {
   "codemirror_mode": {
    "name": "ipython",
    "version": 3
   },
   "file_extension": ".py",
   "mimetype": "text/x-python",
   "name": "python",
   "nbconvert_exporter": "python",
   "pygments_lexer": "ipython3",
   "version": "3.8.8"
  }
 },
 "nbformat": 4,
 "nbformat_minor": 5
}
