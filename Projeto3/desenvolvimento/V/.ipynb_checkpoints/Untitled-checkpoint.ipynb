{
 "cells": [
  {
   "cell_type": "code",
   "execution_count": 46,
   "id": "188e7373",
   "metadata": {},
   "outputs": [
    {
     "data": {
      "text/plain": [
       "[(1, 2)]"
      ]
     },
     "execution_count": 46,
     "metadata": {},
     "output_type": "execute_result"
    }
   ],
   "source": [
    "\"\"\"\n",
    "     0 1 2 3\n",
    "   \n",
    " 0   0 0 0 0   3 \n",
    " 1   0 0 0 0   2\n",
    " 2   0 0 1 0   1\n",
    " 3   0 0 0 0   0\n",
    " \n",
    " (2,3)\n",
    "\"\"\"\n",
    "\n",
    "def funcao(pos, walls, visited):\n",
    "    linha = len(walls) - pos[1] - 1\n",
    "    coluna = pos[0]\n",
    "       \n",
    "    lista = []\n",
    "    if((linha + 1) < len(walls)):\n",
    "        if(walls[linha + 1][coluna] == False and visited[linha + 1][coluna] == 0):\n",
    "            lista.append((coluna,len(walls)- 1 - (linha + 1)))\n",
    "    if(linha - 1 >= 0):\n",
    "        if(walls[linha - 1][coluna] == False and visited[linha - 1][coluna] == 0):\n",
    "            lista.append((coluna,len(walls)- 1 - (linha - 1)))\n",
    "    if(coluna+1 < len(walls[0])):\n",
    "        if(walls[linha][coluna+1] == False and visited[linha][coluna+1] == 0):\n",
    "            lista.append((coluna + 1,len(walls)- 1 - linha))\n",
    "    if(coluna-1 >= 0):\n",
    "        if(walls[linha][coluna-1] == False and visited[linha][coluna-1] == 0):\n",
    "            lista.append((coluna - 1,len(walls)- 1 - linha))\n",
    "    return lista\n",
    "\n",
    "x = 0\n",
    "y = 2\n",
    "pos = (x,y)\n",
    "walls = [\n",
    "        [True,True,True,True],\n",
    "        [True,False,False,True],\n",
    "        [True,False,False,True],\n",
    "        [True,True,True,True]\n",
    "        ]\n",
    "visited = [[0,0,0,0], [0,0,0,0], [0,0,0,0], [0,0,0,0], [0,0,0,0]]\n",
    "\n",
    "funcao(pos,walls,visited)"
   ]
  },
  {
   "cell_type": "code",
   "execution_count": 1,
   "id": "80b33c33",
   "metadata": {},
   "outputs": [],
   "source": [
    "    def getLegalSteps(self, pos, walls, visited):\n",
    "        \n",
    "        coluna= walls.width - pos[0] - 1\n",
    "        linha= pos[1]\n",
    "        \n",
    "        lista=[]\n",
    "#         print(\"getLegalSteps\")\n",
    "#         print(coluna,linha)\n",
    "        if(coluna+1 <walls.width):\n",
    "            if(walls[coluna+1][linha]==False and visited[coluna+1][linha]==0):\n",
    "                lista.append((walls.width- 1 - (coluna+1),linha))\n",
    "        if(coluna-1 >= 0):\n",
    "            if(walls[coluna-1][linha]==False and visited[coluna-1][linha]==0):\n",
    "                lista.append((walls.width- 1 - (coluna-1),linha))\n",
    "        if(linha+1 <walls.height ):\n",
    "            if(walls[coluna][linha+1]==False and visited[coluna][linha+1]==0):\n",
    "                lista.append((walls.width- 1 - coluna,linha+1))\n",
    "        if(linha-1 >= 0):\n",
    "            if(walls[coluna][linha-1]==False and visited[coluna][linha-1]==0):\n",
    "                lista.append((walls.width- 1 - coluna,linha-1))\n",
    "        return lista"
   ]
  },
  {
   "cell_type": "code",
   "execution_count": null,
   "id": "8cd173b5-4e66-475f-bc36-2981bad8c292",
   "metadata": {},
   "outputs": [],
   "source": [
    "    def getLegalSteps(self, pos, walls, visited):\n",
    "        \n",
    "        coluna=pos[0]\n",
    "        linha= walls.height - pos[1] - 1\n",
    "        \n",
    "        lista=[]\n",
    "#         print(\"getLegalSteps\")\n",
    "#         print(coluna,linha)\n",
    "        if(coluna+1 <walls.width):\n",
    "            if(walls[coluna+1][linha]==False and visited[coluna+1][linha]==0):\n",
    "                lista.append((coluna+1,walls.height- 1 - linha))\n",
    "        if(coluna-1 >= 0):\n",
    "            if(walls[coluna-1][linha]==False and visited[coluna-1][linha]==0):\n",
    "                lista.append((coluna-1,walls.height- 1 -linha))\n",
    "        if(linha+1 <walls.height ):\n",
    "            if(walls[coluna][linha+1]==False and visited[coluna][linha+1]==0):\n",
    "                lista.append((coluna,walls.height- 1 -(linha+1)))\n",
    "        if(linha-1 >= 0):\n",
    "            if(walls[coluna][linha-1]==False and visited[coluna][linha-1]==0):\n",
    "                lista.append((coluna,walls.height- 1 - (linha-1)))\n",
    "        return lista"
   ]
  }
 ],
 "metadata": {
  "kernelspec": {
   "display_name": "Python 3",
   "language": "python",
   "name": "python3"
  },
  "language_info": {
   "codemirror_mode": {
    "name": "ipython",
    "version": 3
   },
   "file_extension": ".py",
   "mimetype": "text/x-python",
   "name": "python",
   "nbconvert_exporter": "python",
   "pygments_lexer": "ipython3",
   "version": "3.8.8"
  }
 },
 "nbformat": 4,
 "nbformat_minor": 5
}
