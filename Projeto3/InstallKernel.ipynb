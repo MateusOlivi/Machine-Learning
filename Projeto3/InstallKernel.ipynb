{
 "cells": [
  {
   "cell_type": "markdown",
   "id": "5fdb3539-9e45-489e-96da-e69a989b10d8",
   "metadata": {},
   "source": [
    "### Instalação\n",
    "Para instalar o kernel do python 2.7 seguir os passos:\n",
    "- conda create -n py2env python=2.7\n",
    "- conda activate py2env\n",
    "- chcp 1252\n",
    "- python -m pip install ipykernel\n",
    "- ipython kernel install --user\n",
    "\n",
    "Pronto :)\n"
   ]
  },
  {
   "cell_type": "code",
   "execution_count": 1,
   "id": "f8181d79-0a21-48b6-8bb8-82536fe54d0c",
   "metadata": {},
   "outputs": [
    {
     "name": "stdout",
     "output_type": "stream",
     "text": [
      "2.7.18\n"
     ]
    }
   ],
   "source": [
    "from platform import python_version\n",
    "\n",
    "print(python_version())"
   ]
  },
  {
   "cell_type": "code",
   "execution_count": null,
   "id": "15678492-d7e9-4303-bb2f-2ccd36ebe1f7",
   "metadata": {},
   "outputs": [],
   "source": []
  }
 ],
 "metadata": {
  "kernelspec": {
   "display_name": "Python 2",
   "language": "python",
   "name": "python2"
  },
  "language_info": {
   "codemirror_mode": {
    "name": "ipython",
    "version": 2
   },
   "file_extension": ".py",
   "mimetype": "text/x-python",
   "name": "python",
   "nbconvert_exporter": "python",
   "pygments_lexer": "ipython2",
   "version": "2.7.18"
  }
 },
 "nbformat": 4,
 "nbformat_minor": 5
}
